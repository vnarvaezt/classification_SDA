{
 "cells": [
  {
   "cell_type": "code",
   "execution_count": 87,
   "metadata": {},
   "outputs": [],
   "source": [
    "import pandas as pd\n",
    "import numpy as np\n",
    "import os\n",
    "import plotly.express as px\n",
    "import re"
   ]
  },
  {
   "cell_type": "markdown",
   "metadata": {},
   "source": [
    "# Read data"
   ]
  },
  {
   "cell_type": "code",
   "execution_count": 2,
   "metadata": {},
   "outputs": [
    {
     "data": {
      "text/plain": [
       "'/home/onyxia/scoring_SDA'"
      ]
     },
     "execution_count": 2,
     "metadata": {},
     "output_type": "execute_result"
    }
   ],
   "source": [
    "os.getcwd()"
   ]
  },
  {
   "cell_type": "code",
   "execution_count": 12,
   "metadata": {},
   "outputs": [
    {
     "name": "stdout",
     "output_type": "stream",
     "text": [
      "['exploratory_analysis.ipynb', 'README.md']\n"
     ]
    }
   ],
   "source": [
    "\n",
    "# folder path\n",
    "#dir_path = \"C://Users//vnarv//PycharmProjects//scoring_SDA/data\"\n",
    "dir_path = \"/home/onyxia/scoring_SDA/\"\n",
    "\n",
    "# list to store files\n",
    "res = []\n",
    "\n",
    "# Iterate directory\n",
    "for path in os.listdir(dir_path):\n",
    "    # check if current path is a file\n",
    "    if os.path.isfile(os.path.join(dir_path, path)):\n",
    "        res.append(path)\n",
    "print(res)"
   ]
  },
  {
   "cell_type": "markdown",
   "metadata": {},
   "source": [
    "# Explore files "
   ]
  },
  {
   "cell_type": "code",
   "execution_count": 13,
   "metadata": {},
   "outputs": [],
   "source": [
    "def check_nan(data):\n",
    "\n",
    "    nb_lines = data.shape[0]\n",
    "    nb_columns = data.shape[1]\n",
    "\n",
    "    print(\"=== Check NAN\")\n",
    "    nb_nan = data.isna().sum() / nb_lines\n",
    "    part_nan = nb_nan[nb_nan>0]\n",
    "\n",
    "    if not part_nan.empty:\n",
    "        part_nan = part_nan.sort_values(ascending=False)\n",
    "        nb_cols_nan = len(part_nan.keys())\n",
    "        print(f\"... nb of columns with NAN {nb_cols_nan} out of {nb_columns}\")\n",
    "        for index, value in part_nan.items():\n",
    "            print(f\"{index}... {value:.2%}\")\n",
    "\n",
    "def check_duplicates(data, keys):\n",
    "    df_dup = data[data.duplicated(subset=keys, keep=False)]\n",
    "    display(df_dup.head())"
   ]
  },
  {
   "cell_type": "code",
   "execution_count": 15,
   "metadata": {},
   "outputs": [
    {
     "name": "stdout",
     "output_type": "stream",
     "text": [
      "Check files in data folder\n",
      "Check files in data folder\n"
     ]
    }
   ],
   "source": [
    "for file in res:\n",
    "    if file.endswith(\".csv\"):\n",
    "        t = pd.read_csv(dir_path + file)\n",
    "        print(f\"\\n========== File name {file}\\n\")\n",
    "        display(t.head())\n",
    "        print(t.columns)\n",
    "        check_nan(t)\n",
    "\n",
    "    elif file.endswith(\".xls\"):\n",
    "        # read file\n",
    "        with open(dir_path + file, mode=\"rb\") as excel_file:\n",
    "            _excel_file = pd.read_excel(excel_file,)\n",
    "        print(f\"\\n========== File name {file}\\n\")\n",
    "        print(_excel_file.columns[0])\n",
    "        _excel_file.set_index(_excel_file.columns[0], inplace=True)\n",
    "        # drop nan\n",
    "        _excel_file = _excel_file.dropna(how=\"all\")\n",
    "        # set header\n",
    "        header_row = _excel_file.iloc[0]\n",
    "        df = pd.DataFrame(_excel_file.values[1:], columns=header_row)\n",
    "        check_nan(df)\n",
    "        display(df.head())\n",
    "        print(\"======== Check NAN\")\n",
    "        \n",
    "\n",
    "    else:\n",
    "        print(\"Check files in data folder\")"
   ]
  },
  {
   "cell_type": "markdown",
   "metadata": {},
   "source": [
    "### Target "
   ]
  },
  {
   "cell_type": "code",
   "execution_count": 7,
   "metadata": {},
   "outputs": [
    {
     "data": {
      "text/plain": [
       "Index(['state_name', 'county_fips', 'county_name', 'votes_gop', 'votes_dem',\n",
       "       'total_votes', 'diff', 'per_gop', 'per_dem', 'per_point_diff'],\n",
       "      dtype='object')"
      ]
     },
     "execution_count": 7,
     "metadata": {},
     "output_type": "execute_result"
    }
   ],
   "source": [
    "input_y = \"2020_US_County_Level_Presidential_Results.csv\"\n",
    "\n",
    "tmp = pd.read_csv(dir_path + input_y)\n",
    "tmp.columns"
   ]
  },
  {
   "cell_type": "code",
   "execution_count": 8,
   "metadata": {},
   "outputs": [
    {
     "data": {
      "text/html": [
       "<div>\n",
       "<style scoped>\n",
       "    .dataframe tbody tr th:only-of-type {\n",
       "        vertical-align: middle;\n",
       "    }\n",
       "\n",
       "    .dataframe tbody tr th {\n",
       "        vertical-align: top;\n",
       "    }\n",
       "\n",
       "    .dataframe thead th {\n",
       "        text-align: right;\n",
       "    }\n",
       "</style>\n",
       "<table border=\"1\" class=\"dataframe\">\n",
       "  <thead>\n",
       "    <tr style=\"text-align: right;\">\n",
       "      <th></th>\n",
       "      <th>state_name</th>\n",
       "      <th>county_fips</th>\n",
       "      <th>county_name</th>\n",
       "      <th>votes_gop</th>\n",
       "      <th>votes_dem</th>\n",
       "      <th>total_votes</th>\n",
       "      <th>diff</th>\n",
       "      <th>per_gop</th>\n",
       "      <th>per_dem</th>\n",
       "      <th>per_point_diff</th>\n",
       "    </tr>\n",
       "  </thead>\n",
       "  <tbody>\n",
       "    <tr>\n",
       "      <th>0</th>\n",
       "      <td>Alabama</td>\n",
       "      <td>1001</td>\n",
       "      <td>Autauga County</td>\n",
       "      <td>19838</td>\n",
       "      <td>7503</td>\n",
       "      <td>27770</td>\n",
       "      <td>12335</td>\n",
       "      <td>0.714368</td>\n",
       "      <td>0.270184</td>\n",
       "      <td>0.444184</td>\n",
       "    </tr>\n",
       "    <tr>\n",
       "      <th>1</th>\n",
       "      <td>Alabama</td>\n",
       "      <td>1003</td>\n",
       "      <td>Baldwin County</td>\n",
       "      <td>83544</td>\n",
       "      <td>24578</td>\n",
       "      <td>109679</td>\n",
       "      <td>58966</td>\n",
       "      <td>0.761714</td>\n",
       "      <td>0.224090</td>\n",
       "      <td>0.537623</td>\n",
       "    </tr>\n",
       "    <tr>\n",
       "      <th>2</th>\n",
       "      <td>Alabama</td>\n",
       "      <td>1005</td>\n",
       "      <td>Barbour County</td>\n",
       "      <td>5622</td>\n",
       "      <td>4816</td>\n",
       "      <td>10518</td>\n",
       "      <td>806</td>\n",
       "      <td>0.534512</td>\n",
       "      <td>0.457882</td>\n",
       "      <td>0.076631</td>\n",
       "    </tr>\n",
       "    <tr>\n",
       "      <th>3</th>\n",
       "      <td>Alabama</td>\n",
       "      <td>1007</td>\n",
       "      <td>Bibb County</td>\n",
       "      <td>7525</td>\n",
       "      <td>1986</td>\n",
       "      <td>9595</td>\n",
       "      <td>5539</td>\n",
       "      <td>0.784263</td>\n",
       "      <td>0.206983</td>\n",
       "      <td>0.577280</td>\n",
       "    </tr>\n",
       "    <tr>\n",
       "      <th>4</th>\n",
       "      <td>Alabama</td>\n",
       "      <td>1009</td>\n",
       "      <td>Blount County</td>\n",
       "      <td>24711</td>\n",
       "      <td>2640</td>\n",
       "      <td>27588</td>\n",
       "      <td>22071</td>\n",
       "      <td>0.895716</td>\n",
       "      <td>0.095694</td>\n",
       "      <td>0.800022</td>\n",
       "    </tr>\n",
       "  </tbody>\n",
       "</table>\n",
       "</div>"
      ],
      "text/plain": [
       "  state_name  county_fips     county_name  votes_gop  votes_dem  total_votes  \\\n",
       "0    Alabama         1001  Autauga County      19838       7503        27770   \n",
       "1    Alabama         1003  Baldwin County      83544      24578       109679   \n",
       "2    Alabama         1005  Barbour County       5622       4816        10518   \n",
       "3    Alabama         1007     Bibb County       7525       1986         9595   \n",
       "4    Alabama         1009   Blount County      24711       2640        27588   \n",
       "\n",
       "    diff   per_gop   per_dem  per_point_diff  \n",
       "0  12335  0.714368  0.270184        0.444184  \n",
       "1  58966  0.761714  0.224090        0.537623  \n",
       "2    806  0.534512  0.457882        0.076631  \n",
       "3   5539  0.784263  0.206983        0.577280  \n",
       "4  22071  0.895716  0.095694        0.800022  "
      ]
     },
     "execution_count": 8,
     "metadata": {},
     "output_type": "execute_result"
    }
   ],
   "source": [
    "tmp.head()"
   ]
  },
  {
   "cell_type": "code",
   "execution_count": 32,
   "metadata": {},
   "outputs": [],
   "source": [
    "pct_votes_party = tmp[[\"votes_gop\", \"votes_dem\"]].apply(np.sum) / tmp[\"total_votes\"].sum()\n",
    "pct_votes_party = pct_votes_party*100"
   ]
  },
  {
   "cell_type": "code",
   "execution_count": 33,
   "metadata": {},
   "outputs": [
    {
     "data": {
      "application/vnd.plotly.v1+json": {
       "config": {
        "plotlyServerURL": "https://plot.ly"
       },
       "data": [
        {
         "alignmentgroup": "True",
         "hovertemplate": "Party=%{x}<br>%=%{y}<extra></extra>",
         "legendgroup": "votes_gop",
         "marker": {
          "color": "#636efa",
          "pattern": {
           "shape": ""
          }
         },
         "name": "votes_gop",
         "offsetgroup": "votes_gop",
         "orientation": "v",
         "showlegend": true,
         "textposition": "auto",
         "type": "bar",
         "x": [
          "votes_gop"
         ],
         "xaxis": "x",
         "y": [
          46.83868582209513
         ],
         "yaxis": "y"
        },
        {
         "alignmentgroup": "True",
         "hovertemplate": "Party=%{x}<br>%=%{y}<extra></extra>",
         "legendgroup": "votes_dem",
         "marker": {
          "color": "#EF553B",
          "pattern": {
           "shape": ""
          }
         },
         "name": "votes_dem",
         "offsetgroup": "votes_dem",
         "orientation": "v",
         "showlegend": true,
         "textposition": "auto",
         "type": "bar",
         "x": [
          "votes_dem"
         ],
         "xaxis": "x",
         "y": [
          51.29279146336404
         ],
         "yaxis": "y"
        }
       ],
       "layout": {
        "barmode": "relative",
        "height": 400,
        "legend": {
         "title": {
          "text": "Party"
         },
         "tracegroupgap": 0
        },
        "template": {
         "data": {
          "bar": [
           {
            "error_x": {
             "color": "#2a3f5f"
            },
            "error_y": {
             "color": "#2a3f5f"
            },
            "marker": {
             "line": {
              "color": "#E5ECF6",
              "width": 0.5
             },
             "pattern": {
              "fillmode": "overlay",
              "size": 10,
              "solidity": 0.2
             }
            },
            "type": "bar"
           }
          ],
          "barpolar": [
           {
            "marker": {
             "line": {
              "color": "#E5ECF6",
              "width": 0.5
             },
             "pattern": {
              "fillmode": "overlay",
              "size": 10,
              "solidity": 0.2
             }
            },
            "type": "barpolar"
           }
          ],
          "carpet": [
           {
            "aaxis": {
             "endlinecolor": "#2a3f5f",
             "gridcolor": "white",
             "linecolor": "white",
             "minorgridcolor": "white",
             "startlinecolor": "#2a3f5f"
            },
            "baxis": {
             "endlinecolor": "#2a3f5f",
             "gridcolor": "white",
             "linecolor": "white",
             "minorgridcolor": "white",
             "startlinecolor": "#2a3f5f"
            },
            "type": "carpet"
           }
          ],
          "choropleth": [
           {
            "colorbar": {
             "outlinewidth": 0,
             "ticks": ""
            },
            "type": "choropleth"
           }
          ],
          "contour": [
           {
            "colorbar": {
             "outlinewidth": 0,
             "ticks": ""
            },
            "colorscale": [
             [
              0,
              "#0d0887"
             ],
             [
              0.1111111111111111,
              "#46039f"
             ],
             [
              0.2222222222222222,
              "#7201a8"
             ],
             [
              0.3333333333333333,
              "#9c179e"
             ],
             [
              0.4444444444444444,
              "#bd3786"
             ],
             [
              0.5555555555555556,
              "#d8576b"
             ],
             [
              0.6666666666666666,
              "#ed7953"
             ],
             [
              0.7777777777777778,
              "#fb9f3a"
             ],
             [
              0.8888888888888888,
              "#fdca26"
             ],
             [
              1,
              "#f0f921"
             ]
            ],
            "type": "contour"
           }
          ],
          "contourcarpet": [
           {
            "colorbar": {
             "outlinewidth": 0,
             "ticks": ""
            },
            "type": "contourcarpet"
           }
          ],
          "heatmap": [
           {
            "colorbar": {
             "outlinewidth": 0,
             "ticks": ""
            },
            "colorscale": [
             [
              0,
              "#0d0887"
             ],
             [
              0.1111111111111111,
              "#46039f"
             ],
             [
              0.2222222222222222,
              "#7201a8"
             ],
             [
              0.3333333333333333,
              "#9c179e"
             ],
             [
              0.4444444444444444,
              "#bd3786"
             ],
             [
              0.5555555555555556,
              "#d8576b"
             ],
             [
              0.6666666666666666,
              "#ed7953"
             ],
             [
              0.7777777777777778,
              "#fb9f3a"
             ],
             [
              0.8888888888888888,
              "#fdca26"
             ],
             [
              1,
              "#f0f921"
             ]
            ],
            "type": "heatmap"
           }
          ],
          "heatmapgl": [
           {
            "colorbar": {
             "outlinewidth": 0,
             "ticks": ""
            },
            "colorscale": [
             [
              0,
              "#0d0887"
             ],
             [
              0.1111111111111111,
              "#46039f"
             ],
             [
              0.2222222222222222,
              "#7201a8"
             ],
             [
              0.3333333333333333,
              "#9c179e"
             ],
             [
              0.4444444444444444,
              "#bd3786"
             ],
             [
              0.5555555555555556,
              "#d8576b"
             ],
             [
              0.6666666666666666,
              "#ed7953"
             ],
             [
              0.7777777777777778,
              "#fb9f3a"
             ],
             [
              0.8888888888888888,
              "#fdca26"
             ],
             [
              1,
              "#f0f921"
             ]
            ],
            "type": "heatmapgl"
           }
          ],
          "histogram": [
           {
            "marker": {
             "pattern": {
              "fillmode": "overlay",
              "size": 10,
              "solidity": 0.2
             }
            },
            "type": "histogram"
           }
          ],
          "histogram2d": [
           {
            "colorbar": {
             "outlinewidth": 0,
             "ticks": ""
            },
            "colorscale": [
             [
              0,
              "#0d0887"
             ],
             [
              0.1111111111111111,
              "#46039f"
             ],
             [
              0.2222222222222222,
              "#7201a8"
             ],
             [
              0.3333333333333333,
              "#9c179e"
             ],
             [
              0.4444444444444444,
              "#bd3786"
             ],
             [
              0.5555555555555556,
              "#d8576b"
             ],
             [
              0.6666666666666666,
              "#ed7953"
             ],
             [
              0.7777777777777778,
              "#fb9f3a"
             ],
             [
              0.8888888888888888,
              "#fdca26"
             ],
             [
              1,
              "#f0f921"
             ]
            ],
            "type": "histogram2d"
           }
          ],
          "histogram2dcontour": [
           {
            "colorbar": {
             "outlinewidth": 0,
             "ticks": ""
            },
            "colorscale": [
             [
              0,
              "#0d0887"
             ],
             [
              0.1111111111111111,
              "#46039f"
             ],
             [
              0.2222222222222222,
              "#7201a8"
             ],
             [
              0.3333333333333333,
              "#9c179e"
             ],
             [
              0.4444444444444444,
              "#bd3786"
             ],
             [
              0.5555555555555556,
              "#d8576b"
             ],
             [
              0.6666666666666666,
              "#ed7953"
             ],
             [
              0.7777777777777778,
              "#fb9f3a"
             ],
             [
              0.8888888888888888,
              "#fdca26"
             ],
             [
              1,
              "#f0f921"
             ]
            ],
            "type": "histogram2dcontour"
           }
          ],
          "mesh3d": [
           {
            "colorbar": {
             "outlinewidth": 0,
             "ticks": ""
            },
            "type": "mesh3d"
           }
          ],
          "parcoords": [
           {
            "line": {
             "colorbar": {
              "outlinewidth": 0,
              "ticks": ""
             }
            },
            "type": "parcoords"
           }
          ],
          "pie": [
           {
            "automargin": true,
            "type": "pie"
           }
          ],
          "scatter": [
           {
            "marker": {
             "colorbar": {
              "outlinewidth": 0,
              "ticks": ""
             }
            },
            "type": "scatter"
           }
          ],
          "scatter3d": [
           {
            "line": {
             "colorbar": {
              "outlinewidth": 0,
              "ticks": ""
             }
            },
            "marker": {
             "colorbar": {
              "outlinewidth": 0,
              "ticks": ""
             }
            },
            "type": "scatter3d"
           }
          ],
          "scattercarpet": [
           {
            "marker": {
             "colorbar": {
              "outlinewidth": 0,
              "ticks": ""
             }
            },
            "type": "scattercarpet"
           }
          ],
          "scattergeo": [
           {
            "marker": {
             "colorbar": {
              "outlinewidth": 0,
              "ticks": ""
             }
            },
            "type": "scattergeo"
           }
          ],
          "scattergl": [
           {
            "marker": {
             "colorbar": {
              "outlinewidth": 0,
              "ticks": ""
             }
            },
            "type": "scattergl"
           }
          ],
          "scattermapbox": [
           {
            "marker": {
             "colorbar": {
              "outlinewidth": 0,
              "ticks": ""
             }
            },
            "type": "scattermapbox"
           }
          ],
          "scatterpolar": [
           {
            "marker": {
             "colorbar": {
              "outlinewidth": 0,
              "ticks": ""
             }
            },
            "type": "scatterpolar"
           }
          ],
          "scatterpolargl": [
           {
            "marker": {
             "colorbar": {
              "outlinewidth": 0,
              "ticks": ""
             }
            },
            "type": "scatterpolargl"
           }
          ],
          "scatterternary": [
           {
            "marker": {
             "colorbar": {
              "outlinewidth": 0,
              "ticks": ""
             }
            },
            "type": "scatterternary"
           }
          ],
          "surface": [
           {
            "colorbar": {
             "outlinewidth": 0,
             "ticks": ""
            },
            "colorscale": [
             [
              0,
              "#0d0887"
             ],
             [
              0.1111111111111111,
              "#46039f"
             ],
             [
              0.2222222222222222,
              "#7201a8"
             ],
             [
              0.3333333333333333,
              "#9c179e"
             ],
             [
              0.4444444444444444,
              "#bd3786"
             ],
             [
              0.5555555555555556,
              "#d8576b"
             ],
             [
              0.6666666666666666,
              "#ed7953"
             ],
             [
              0.7777777777777778,
              "#fb9f3a"
             ],
             [
              0.8888888888888888,
              "#fdca26"
             ],
             [
              1,
              "#f0f921"
             ]
            ],
            "type": "surface"
           }
          ],
          "table": [
           {
            "cells": {
             "fill": {
              "color": "#EBF0F8"
             },
             "line": {
              "color": "white"
             }
            },
            "header": {
             "fill": {
              "color": "#C8D4E3"
             },
             "line": {
              "color": "white"
             }
            },
            "type": "table"
           }
          ]
         },
         "layout": {
          "annotationdefaults": {
           "arrowcolor": "#2a3f5f",
           "arrowhead": 0,
           "arrowwidth": 1
          },
          "autotypenumbers": "strict",
          "coloraxis": {
           "colorbar": {
            "outlinewidth": 0,
            "ticks": ""
           }
          },
          "colorscale": {
           "diverging": [
            [
             0,
             "#8e0152"
            ],
            [
             0.1,
             "#c51b7d"
            ],
            [
             0.2,
             "#de77ae"
            ],
            [
             0.3,
             "#f1b6da"
            ],
            [
             0.4,
             "#fde0ef"
            ],
            [
             0.5,
             "#f7f7f7"
            ],
            [
             0.6,
             "#e6f5d0"
            ],
            [
             0.7,
             "#b8e186"
            ],
            [
             0.8,
             "#7fbc41"
            ],
            [
             0.9,
             "#4d9221"
            ],
            [
             1,
             "#276419"
            ]
           ],
           "sequential": [
            [
             0,
             "#0d0887"
            ],
            [
             0.1111111111111111,
             "#46039f"
            ],
            [
             0.2222222222222222,
             "#7201a8"
            ],
            [
             0.3333333333333333,
             "#9c179e"
            ],
            [
             0.4444444444444444,
             "#bd3786"
            ],
            [
             0.5555555555555556,
             "#d8576b"
            ],
            [
             0.6666666666666666,
             "#ed7953"
            ],
            [
             0.7777777777777778,
             "#fb9f3a"
            ],
            [
             0.8888888888888888,
             "#fdca26"
            ],
            [
             1,
             "#f0f921"
            ]
           ],
           "sequentialminus": [
            [
             0,
             "#0d0887"
            ],
            [
             0.1111111111111111,
             "#46039f"
            ],
            [
             0.2222222222222222,
             "#7201a8"
            ],
            [
             0.3333333333333333,
             "#9c179e"
            ],
            [
             0.4444444444444444,
             "#bd3786"
            ],
            [
             0.5555555555555556,
             "#d8576b"
            ],
            [
             0.6666666666666666,
             "#ed7953"
            ],
            [
             0.7777777777777778,
             "#fb9f3a"
            ],
            [
             0.8888888888888888,
             "#fdca26"
            ],
            [
             1,
             "#f0f921"
            ]
           ]
          },
          "colorway": [
           "#636efa",
           "#EF553B",
           "#00cc96",
           "#ab63fa",
           "#FFA15A",
           "#19d3f3",
           "#FF6692",
           "#B6E880",
           "#FF97FF",
           "#FECB52"
          ],
          "font": {
           "color": "#2a3f5f"
          },
          "geo": {
           "bgcolor": "white",
           "lakecolor": "white",
           "landcolor": "#E5ECF6",
           "showlakes": true,
           "showland": true,
           "subunitcolor": "white"
          },
          "hoverlabel": {
           "align": "left"
          },
          "hovermode": "closest",
          "mapbox": {
           "style": "light"
          },
          "paper_bgcolor": "white",
          "plot_bgcolor": "#E5ECF6",
          "polar": {
           "angularaxis": {
            "gridcolor": "white",
            "linecolor": "white",
            "ticks": ""
           },
           "bgcolor": "#E5ECF6",
           "radialaxis": {
            "gridcolor": "white",
            "linecolor": "white",
            "ticks": ""
           }
          },
          "scene": {
           "xaxis": {
            "backgroundcolor": "#E5ECF6",
            "gridcolor": "white",
            "gridwidth": 2,
            "linecolor": "white",
            "showbackground": true,
            "ticks": "",
            "zerolinecolor": "white"
           },
           "yaxis": {
            "backgroundcolor": "#E5ECF6",
            "gridcolor": "white",
            "gridwidth": 2,
            "linecolor": "white",
            "showbackground": true,
            "ticks": "",
            "zerolinecolor": "white"
           },
           "zaxis": {
            "backgroundcolor": "#E5ECF6",
            "gridcolor": "white",
            "gridwidth": 2,
            "linecolor": "white",
            "showbackground": true,
            "ticks": "",
            "zerolinecolor": "white"
           }
          },
          "shapedefaults": {
           "line": {
            "color": "#2a3f5f"
           }
          },
          "ternary": {
           "aaxis": {
            "gridcolor": "white",
            "linecolor": "white",
            "ticks": ""
           },
           "baxis": {
            "gridcolor": "white",
            "linecolor": "white",
            "ticks": ""
           },
           "bgcolor": "#E5ECF6",
           "caxis": {
            "gridcolor": "white",
            "linecolor": "white",
            "ticks": ""
           }
          },
          "title": {
           "x": 0.05
          },
          "xaxis": {
           "automargin": true,
           "gridcolor": "white",
           "linecolor": "white",
           "ticks": "",
           "title": {
            "standoff": 15
           },
           "zerolinecolor": "white",
           "zerolinewidth": 2
          },
          "yaxis": {
           "automargin": true,
           "gridcolor": "white",
           "linecolor": "white",
           "ticks": "",
           "title": {
            "standoff": 15
           },
           "zerolinecolor": "white",
           "zerolinewidth": 2
          }
         }
        },
        "title": {
         "text": "2020 U.S. percentage votes per party"
        },
        "width": 800,
        "xaxis": {
         "anchor": "y",
         "categoryarray": [
          "votes_gop",
          "votes_dem"
         ],
         "categoryorder": "array",
         "domain": [
          0,
          1
         ],
         "title": {
          "text": "Party"
         }
        },
        "yaxis": {
         "anchor": "x",
         "domain": [
          0,
          1
         ],
         "title": {
          "text": "%"
         }
        }
       }
      },
      "text/html": [
       "<div>                            <div id=\"b38ca455-8930-4439-8995-5ea51016a0ea\" class=\"plotly-graph-div\" style=\"height:400px; width:800px;\"></div>            <script type=\"text/javascript\">                require([\"plotly\"], function(Plotly) {                    window.PLOTLYENV=window.PLOTLYENV || {};                                    if (document.getElementById(\"b38ca455-8930-4439-8995-5ea51016a0ea\")) {                    Plotly.newPlot(                        \"b38ca455-8930-4439-8995-5ea51016a0ea\",                        [{\"alignmentgroup\":\"True\",\"hovertemplate\":\"Party=%{x}<br>%=%{y}<extra></extra>\",\"legendgroup\":\"votes_gop\",\"marker\":{\"color\":\"#636efa\",\"pattern\":{\"shape\":\"\"}},\"name\":\"votes_gop\",\"offsetgroup\":\"votes_gop\",\"orientation\":\"v\",\"showlegend\":true,\"textposition\":\"auto\",\"x\":[\"votes_gop\"],\"xaxis\":\"x\",\"y\":[46.83868582209513],\"yaxis\":\"y\",\"type\":\"bar\"},{\"alignmentgroup\":\"True\",\"hovertemplate\":\"Party=%{x}<br>%=%{y}<extra></extra>\",\"legendgroup\":\"votes_dem\",\"marker\":{\"color\":\"#EF553B\",\"pattern\":{\"shape\":\"\"}},\"name\":\"votes_dem\",\"offsetgroup\":\"votes_dem\",\"orientation\":\"v\",\"showlegend\":true,\"textposition\":\"auto\",\"x\":[\"votes_dem\"],\"xaxis\":\"x\",\"y\":[51.29279146336404],\"yaxis\":\"y\",\"type\":\"bar\"}],                        {\"template\":{\"data\":{\"bar\":[{\"error_x\":{\"color\":\"#2a3f5f\"},\"error_y\":{\"color\":\"#2a3f5f\"},\"marker\":{\"line\":{\"color\":\"#E5ECF6\",\"width\":0.5},\"pattern\":{\"fillmode\":\"overlay\",\"size\":10,\"solidity\":0.2}},\"type\":\"bar\"}],\"barpolar\":[{\"marker\":{\"line\":{\"color\":\"#E5ECF6\",\"width\":0.5},\"pattern\":{\"fillmode\":\"overlay\",\"size\":10,\"solidity\":0.2}},\"type\":\"barpolar\"}],\"carpet\":[{\"aaxis\":{\"endlinecolor\":\"#2a3f5f\",\"gridcolor\":\"white\",\"linecolor\":\"white\",\"minorgridcolor\":\"white\",\"startlinecolor\":\"#2a3f5f\"},\"baxis\":{\"endlinecolor\":\"#2a3f5f\",\"gridcolor\":\"white\",\"linecolor\":\"white\",\"minorgridcolor\":\"white\",\"startlinecolor\":\"#2a3f5f\"},\"type\":\"carpet\"}],\"choropleth\":[{\"colorbar\":{\"outlinewidth\":0,\"ticks\":\"\"},\"type\":\"choropleth\"}],\"contour\":[{\"colorbar\":{\"outlinewidth\":0,\"ticks\":\"\"},\"colorscale\":[[0.0,\"#0d0887\"],[0.1111111111111111,\"#46039f\"],[0.2222222222222222,\"#7201a8\"],[0.3333333333333333,\"#9c179e\"],[0.4444444444444444,\"#bd3786\"],[0.5555555555555556,\"#d8576b\"],[0.6666666666666666,\"#ed7953\"],[0.7777777777777778,\"#fb9f3a\"],[0.8888888888888888,\"#fdca26\"],[1.0,\"#f0f921\"]],\"type\":\"contour\"}],\"contourcarpet\":[{\"colorbar\":{\"outlinewidth\":0,\"ticks\":\"\"},\"type\":\"contourcarpet\"}],\"heatmap\":[{\"colorbar\":{\"outlinewidth\":0,\"ticks\":\"\"},\"colorscale\":[[0.0,\"#0d0887\"],[0.1111111111111111,\"#46039f\"],[0.2222222222222222,\"#7201a8\"],[0.3333333333333333,\"#9c179e\"],[0.4444444444444444,\"#bd3786\"],[0.5555555555555556,\"#d8576b\"],[0.6666666666666666,\"#ed7953\"],[0.7777777777777778,\"#fb9f3a\"],[0.8888888888888888,\"#fdca26\"],[1.0,\"#f0f921\"]],\"type\":\"heatmap\"}],\"heatmapgl\":[{\"colorbar\":{\"outlinewidth\":0,\"ticks\":\"\"},\"colorscale\":[[0.0,\"#0d0887\"],[0.1111111111111111,\"#46039f\"],[0.2222222222222222,\"#7201a8\"],[0.3333333333333333,\"#9c179e\"],[0.4444444444444444,\"#bd3786\"],[0.5555555555555556,\"#d8576b\"],[0.6666666666666666,\"#ed7953\"],[0.7777777777777778,\"#fb9f3a\"],[0.8888888888888888,\"#fdca26\"],[1.0,\"#f0f921\"]],\"type\":\"heatmapgl\"}],\"histogram\":[{\"marker\":{\"pattern\":{\"fillmode\":\"overlay\",\"size\":10,\"solidity\":0.2}},\"type\":\"histogram\"}],\"histogram2d\":[{\"colorbar\":{\"outlinewidth\":0,\"ticks\":\"\"},\"colorscale\":[[0.0,\"#0d0887\"],[0.1111111111111111,\"#46039f\"],[0.2222222222222222,\"#7201a8\"],[0.3333333333333333,\"#9c179e\"],[0.4444444444444444,\"#bd3786\"],[0.5555555555555556,\"#d8576b\"],[0.6666666666666666,\"#ed7953\"],[0.7777777777777778,\"#fb9f3a\"],[0.8888888888888888,\"#fdca26\"],[1.0,\"#f0f921\"]],\"type\":\"histogram2d\"}],\"histogram2dcontour\":[{\"colorbar\":{\"outlinewidth\":0,\"ticks\":\"\"},\"colorscale\":[[0.0,\"#0d0887\"],[0.1111111111111111,\"#46039f\"],[0.2222222222222222,\"#7201a8\"],[0.3333333333333333,\"#9c179e\"],[0.4444444444444444,\"#bd3786\"],[0.5555555555555556,\"#d8576b\"],[0.6666666666666666,\"#ed7953\"],[0.7777777777777778,\"#fb9f3a\"],[0.8888888888888888,\"#fdca26\"],[1.0,\"#f0f921\"]],\"type\":\"histogram2dcontour\"}],\"mesh3d\":[{\"colorbar\":{\"outlinewidth\":0,\"ticks\":\"\"},\"type\":\"mesh3d\"}],\"parcoords\":[{\"line\":{\"colorbar\":{\"outlinewidth\":0,\"ticks\":\"\"}},\"type\":\"parcoords\"}],\"pie\":[{\"automargin\":true,\"type\":\"pie\"}],\"scatter\":[{\"marker\":{\"colorbar\":{\"outlinewidth\":0,\"ticks\":\"\"}},\"type\":\"scatter\"}],\"scatter3d\":[{\"line\":{\"colorbar\":{\"outlinewidth\":0,\"ticks\":\"\"}},\"marker\":{\"colorbar\":{\"outlinewidth\":0,\"ticks\":\"\"}},\"type\":\"scatter3d\"}],\"scattercarpet\":[{\"marker\":{\"colorbar\":{\"outlinewidth\":0,\"ticks\":\"\"}},\"type\":\"scattercarpet\"}],\"scattergeo\":[{\"marker\":{\"colorbar\":{\"outlinewidth\":0,\"ticks\":\"\"}},\"type\":\"scattergeo\"}],\"scattergl\":[{\"marker\":{\"colorbar\":{\"outlinewidth\":0,\"ticks\":\"\"}},\"type\":\"scattergl\"}],\"scattermapbox\":[{\"marker\":{\"colorbar\":{\"outlinewidth\":0,\"ticks\":\"\"}},\"type\":\"scattermapbox\"}],\"scatterpolar\":[{\"marker\":{\"colorbar\":{\"outlinewidth\":0,\"ticks\":\"\"}},\"type\":\"scatterpolar\"}],\"scatterpolargl\":[{\"marker\":{\"colorbar\":{\"outlinewidth\":0,\"ticks\":\"\"}},\"type\":\"scatterpolargl\"}],\"scatterternary\":[{\"marker\":{\"colorbar\":{\"outlinewidth\":0,\"ticks\":\"\"}},\"type\":\"scatterternary\"}],\"surface\":[{\"colorbar\":{\"outlinewidth\":0,\"ticks\":\"\"},\"colorscale\":[[0.0,\"#0d0887\"],[0.1111111111111111,\"#46039f\"],[0.2222222222222222,\"#7201a8\"],[0.3333333333333333,\"#9c179e\"],[0.4444444444444444,\"#bd3786\"],[0.5555555555555556,\"#d8576b\"],[0.6666666666666666,\"#ed7953\"],[0.7777777777777778,\"#fb9f3a\"],[0.8888888888888888,\"#fdca26\"],[1.0,\"#f0f921\"]],\"type\":\"surface\"}],\"table\":[{\"cells\":{\"fill\":{\"color\":\"#EBF0F8\"},\"line\":{\"color\":\"white\"}},\"header\":{\"fill\":{\"color\":\"#C8D4E3\"},\"line\":{\"color\":\"white\"}},\"type\":\"table\"}]},\"layout\":{\"annotationdefaults\":{\"arrowcolor\":\"#2a3f5f\",\"arrowhead\":0,\"arrowwidth\":1},\"autotypenumbers\":\"strict\",\"coloraxis\":{\"colorbar\":{\"outlinewidth\":0,\"ticks\":\"\"}},\"colorscale\":{\"diverging\":[[0,\"#8e0152\"],[0.1,\"#c51b7d\"],[0.2,\"#de77ae\"],[0.3,\"#f1b6da\"],[0.4,\"#fde0ef\"],[0.5,\"#f7f7f7\"],[0.6,\"#e6f5d0\"],[0.7,\"#b8e186\"],[0.8,\"#7fbc41\"],[0.9,\"#4d9221\"],[1,\"#276419\"]],\"sequential\":[[0.0,\"#0d0887\"],[0.1111111111111111,\"#46039f\"],[0.2222222222222222,\"#7201a8\"],[0.3333333333333333,\"#9c179e\"],[0.4444444444444444,\"#bd3786\"],[0.5555555555555556,\"#d8576b\"],[0.6666666666666666,\"#ed7953\"],[0.7777777777777778,\"#fb9f3a\"],[0.8888888888888888,\"#fdca26\"],[1.0,\"#f0f921\"]],\"sequentialminus\":[[0.0,\"#0d0887\"],[0.1111111111111111,\"#46039f\"],[0.2222222222222222,\"#7201a8\"],[0.3333333333333333,\"#9c179e\"],[0.4444444444444444,\"#bd3786\"],[0.5555555555555556,\"#d8576b\"],[0.6666666666666666,\"#ed7953\"],[0.7777777777777778,\"#fb9f3a\"],[0.8888888888888888,\"#fdca26\"],[1.0,\"#f0f921\"]]},\"colorway\":[\"#636efa\",\"#EF553B\",\"#00cc96\",\"#ab63fa\",\"#FFA15A\",\"#19d3f3\",\"#FF6692\",\"#B6E880\",\"#FF97FF\",\"#FECB52\"],\"font\":{\"color\":\"#2a3f5f\"},\"geo\":{\"bgcolor\":\"white\",\"lakecolor\":\"white\",\"landcolor\":\"#E5ECF6\",\"showlakes\":true,\"showland\":true,\"subunitcolor\":\"white\"},\"hoverlabel\":{\"align\":\"left\"},\"hovermode\":\"closest\",\"mapbox\":{\"style\":\"light\"},\"paper_bgcolor\":\"white\",\"plot_bgcolor\":\"#E5ECF6\",\"polar\":{\"angularaxis\":{\"gridcolor\":\"white\",\"linecolor\":\"white\",\"ticks\":\"\"},\"bgcolor\":\"#E5ECF6\",\"radialaxis\":{\"gridcolor\":\"white\",\"linecolor\":\"white\",\"ticks\":\"\"}},\"scene\":{\"xaxis\":{\"backgroundcolor\":\"#E5ECF6\",\"gridcolor\":\"white\",\"gridwidth\":2,\"linecolor\":\"white\",\"showbackground\":true,\"ticks\":\"\",\"zerolinecolor\":\"white\"},\"yaxis\":{\"backgroundcolor\":\"#E5ECF6\",\"gridcolor\":\"white\",\"gridwidth\":2,\"linecolor\":\"white\",\"showbackground\":true,\"ticks\":\"\",\"zerolinecolor\":\"white\"},\"zaxis\":{\"backgroundcolor\":\"#E5ECF6\",\"gridcolor\":\"white\",\"gridwidth\":2,\"linecolor\":\"white\",\"showbackground\":true,\"ticks\":\"\",\"zerolinecolor\":\"white\"}},\"shapedefaults\":{\"line\":{\"color\":\"#2a3f5f\"}},\"ternary\":{\"aaxis\":{\"gridcolor\":\"white\",\"linecolor\":\"white\",\"ticks\":\"\"},\"baxis\":{\"gridcolor\":\"white\",\"linecolor\":\"white\",\"ticks\":\"\"},\"bgcolor\":\"#E5ECF6\",\"caxis\":{\"gridcolor\":\"white\",\"linecolor\":\"white\",\"ticks\":\"\"}},\"title\":{\"x\":0.05},\"xaxis\":{\"automargin\":true,\"gridcolor\":\"white\",\"linecolor\":\"white\",\"ticks\":\"\",\"title\":{\"standoff\":15},\"zerolinecolor\":\"white\",\"zerolinewidth\":2},\"yaxis\":{\"automargin\":true,\"gridcolor\":\"white\",\"linecolor\":\"white\",\"ticks\":\"\",\"title\":{\"standoff\":15},\"zerolinecolor\":\"white\",\"zerolinewidth\":2}}},\"xaxis\":{\"anchor\":\"y\",\"domain\":[0.0,1.0],\"title\":{\"text\":\"Party\"},\"categoryorder\":\"array\",\"categoryarray\":[\"votes_gop\",\"votes_dem\"]},\"yaxis\":{\"anchor\":\"x\",\"domain\":[0.0,1.0],\"title\":{\"text\":\"%\"}},\"legend\":{\"title\":{\"text\":\"Party\"},\"tracegroupgap\":0},\"title\":{\"text\":\"2020 U.S. percentage votes per party\"},\"barmode\":\"relative\",\"height\":400,\"width\":800},                        {\"responsive\": true}                    ).then(function(){\n",
       "                            \n",
       "var gd = document.getElementById('b38ca455-8930-4439-8995-5ea51016a0ea');\n",
       "var x = new MutationObserver(function (mutations, observer) {{\n",
       "        var display = window.getComputedStyle(gd).display;\n",
       "        if (!display || display === 'none') {{\n",
       "            console.log([gd, 'removed!']);\n",
       "            Plotly.purge(gd);\n",
       "            observer.disconnect();\n",
       "        }}\n",
       "}});\n",
       "\n",
       "// Listen for the removal of the full notebook cells\n",
       "var notebookContainer = gd.closest('#notebook-container');\n",
       "if (notebookContainer) {{\n",
       "    x.observe(notebookContainer, {childList: true});\n",
       "}}\n",
       "\n",
       "// Listen for the clearing of the current output cell\n",
       "var outputEl = gd.closest('.output');\n",
       "if (outputEl) {{\n",
       "    x.observe(outputEl, {childList: true});\n",
       "}}\n",
       "\n",
       "                        })                };                });            </script>        </div>"
      ]
     },
     "metadata": {},
     "output_type": "display_data"
    }
   ],
   "source": [
    "fig = px.bar(pct_votes_party,\n",
    "             x=pct_votes_party.keys(),\n",
    "             y=pct_votes_party.values,\n",
    "             title=\"2020 U.S. percentage votes per party\", \n",
    "             labels={\"y\": \"%\",\n",
    "                     \"state_name\": \"State\",\n",
    "                     \"index\": \"Party\"},\n",
    "             color=pct_votes_party.keys(),\n",
    "             height=400,\n",
    "             width=800\n",
    "            )\n",
    "fig"
   ]
  },
  {
   "cell_type": "code",
   "execution_count": 9,
   "metadata": {},
   "outputs": [
    {
     "data": {
      "text/html": [
       "<div>\n",
       "<style scoped>\n",
       "    .dataframe tbody tr th:only-of-type {\n",
       "        vertical-align: middle;\n",
       "    }\n",
       "\n",
       "    .dataframe tbody tr th {\n",
       "        vertical-align: top;\n",
       "    }\n",
       "\n",
       "    .dataframe thead th {\n",
       "        text-align: right;\n",
       "    }\n",
       "</style>\n",
       "<table border=\"1\" class=\"dataframe\">\n",
       "  <thead>\n",
       "    <tr style=\"text-align: right;\">\n",
       "      <th></th>\n",
       "      <th>state_name</th>\n",
       "      <th>county_fips</th>\n",
       "      <th>county_name</th>\n",
       "      <th>votes_gop</th>\n",
       "      <th>votes_dem</th>\n",
       "      <th>total_votes</th>\n",
       "      <th>diff</th>\n",
       "      <th>per_gop</th>\n",
       "      <th>per_dem</th>\n",
       "      <th>per_point_diff</th>\n",
       "    </tr>\n",
       "  </thead>\n",
       "  <tbody>\n",
       "    <tr>\n",
       "      <th>327</th>\n",
       "      <td>Delaware</td>\n",
       "      <td>10001</td>\n",
       "      <td>Kent County</td>\n",
       "      <td>41009</td>\n",
       "      <td>44552</td>\n",
       "      <td>87025</td>\n",
       "      <td>-3543</td>\n",
       "      <td>0.471232</td>\n",
       "      <td>0.511945</td>\n",
       "      <td>-0.040712</td>\n",
       "    </tr>\n",
       "    <tr>\n",
       "      <th>328</th>\n",
       "      <td>Delaware</td>\n",
       "      <td>10003</td>\n",
       "      <td>New Castle County</td>\n",
       "      <td>88364</td>\n",
       "      <td>195034</td>\n",
       "      <td>287633</td>\n",
       "      <td>-106670</td>\n",
       "      <td>0.307211</td>\n",
       "      <td>0.678065</td>\n",
       "      <td>-0.370855</td>\n",
       "    </tr>\n",
       "    <tr>\n",
       "      <th>329</th>\n",
       "      <td>Delaware</td>\n",
       "      <td>10005</td>\n",
       "      <td>Sussex County</td>\n",
       "      <td>71230</td>\n",
       "      <td>56682</td>\n",
       "      <td>129352</td>\n",
       "      <td>14548</td>\n",
       "      <td>0.550668</td>\n",
       "      <td>0.438200</td>\n",
       "      <td>0.112468</td>\n",
       "    </tr>\n",
       "  </tbody>\n",
       "</table>\n",
       "</div>"
      ],
      "text/plain": [
       "    state_name  county_fips        county_name  votes_gop  votes_dem  \\\n",
       "327   Delaware        10001        Kent County      41009      44552   \n",
       "328   Delaware        10003  New Castle County      88364     195034   \n",
       "329   Delaware        10005      Sussex County      71230      56682   \n",
       "\n",
       "     total_votes    diff   per_gop   per_dem  per_point_diff  \n",
       "327        87025   -3543  0.471232  0.511945       -0.040712  \n",
       "328       287633 -106670  0.307211  0.678065       -0.370855  \n",
       "329       129352   14548  0.550668  0.438200        0.112468  "
      ]
     },
     "execution_count": 9,
     "metadata": {},
     "output_type": "execute_result"
    }
   ],
   "source": [
    "tmp[tmp[\"state_name\"]==\"Delaware\"]"
   ]
  },
  {
   "cell_type": "code",
   "execution_count": 34,
   "metadata": {},
   "outputs": [],
   "source": [
    "#df_target = tmp[[\"state_name\", \"county_fips\", \"county_name\"]]\n",
    "tmp[\"winner_democrats\"] = np.where(tmp[\"votes_gop\"] < tmp[\"votes_dem\"], 1, 0) # calculer par state"
   ]
  },
  {
   "cell_type": "code",
   "execution_count": 35,
   "metadata": {},
   "outputs": [
    {
     "data": {
      "text/html": [
       "<div>\n",
       "<style scoped>\n",
       "    .dataframe tbody tr th:only-of-type {\n",
       "        vertical-align: middle;\n",
       "    }\n",
       "\n",
       "    .dataframe tbody tr th {\n",
       "        vertical-align: top;\n",
       "    }\n",
       "\n",
       "    .dataframe thead th {\n",
       "        text-align: right;\n",
       "    }\n",
       "</style>\n",
       "<table border=\"1\" class=\"dataframe\">\n",
       "  <thead>\n",
       "    <tr style=\"text-align: right;\">\n",
       "      <th></th>\n",
       "      <th>state_name</th>\n",
       "      <th>county_fips</th>\n",
       "      <th>county_name</th>\n",
       "      <th>votes_gop</th>\n",
       "      <th>votes_dem</th>\n",
       "      <th>total_votes</th>\n",
       "      <th>diff</th>\n",
       "      <th>per_gop</th>\n",
       "      <th>per_dem</th>\n",
       "      <th>per_point_diff</th>\n",
       "      <th>winner_democrats</th>\n",
       "    </tr>\n",
       "  </thead>\n",
       "  <tbody>\n",
       "    <tr>\n",
       "      <th>0</th>\n",
       "      <td>Alabama</td>\n",
       "      <td>1001</td>\n",
       "      <td>Autauga County</td>\n",
       "      <td>19838</td>\n",
       "      <td>7503</td>\n",
       "      <td>27770</td>\n",
       "      <td>12335</td>\n",
       "      <td>0.714368</td>\n",
       "      <td>0.270184</td>\n",
       "      <td>0.444184</td>\n",
       "      <td>0</td>\n",
       "    </tr>\n",
       "    <tr>\n",
       "      <th>1</th>\n",
       "      <td>Alabama</td>\n",
       "      <td>1003</td>\n",
       "      <td>Baldwin County</td>\n",
       "      <td>83544</td>\n",
       "      <td>24578</td>\n",
       "      <td>109679</td>\n",
       "      <td>58966</td>\n",
       "      <td>0.761714</td>\n",
       "      <td>0.224090</td>\n",
       "      <td>0.537623</td>\n",
       "      <td>0</td>\n",
       "    </tr>\n",
       "    <tr>\n",
       "      <th>2</th>\n",
       "      <td>Alabama</td>\n",
       "      <td>1005</td>\n",
       "      <td>Barbour County</td>\n",
       "      <td>5622</td>\n",
       "      <td>4816</td>\n",
       "      <td>10518</td>\n",
       "      <td>806</td>\n",
       "      <td>0.534512</td>\n",
       "      <td>0.457882</td>\n",
       "      <td>0.076631</td>\n",
       "      <td>0</td>\n",
       "    </tr>\n",
       "    <tr>\n",
       "      <th>3</th>\n",
       "      <td>Alabama</td>\n",
       "      <td>1007</td>\n",
       "      <td>Bibb County</td>\n",
       "      <td>7525</td>\n",
       "      <td>1986</td>\n",
       "      <td>9595</td>\n",
       "      <td>5539</td>\n",
       "      <td>0.784263</td>\n",
       "      <td>0.206983</td>\n",
       "      <td>0.577280</td>\n",
       "      <td>0</td>\n",
       "    </tr>\n",
       "    <tr>\n",
       "      <th>4</th>\n",
       "      <td>Alabama</td>\n",
       "      <td>1009</td>\n",
       "      <td>Blount County</td>\n",
       "      <td>24711</td>\n",
       "      <td>2640</td>\n",
       "      <td>27588</td>\n",
       "      <td>22071</td>\n",
       "      <td>0.895716</td>\n",
       "      <td>0.095694</td>\n",
       "      <td>0.800022</td>\n",
       "      <td>0</td>\n",
       "    </tr>\n",
       "  </tbody>\n",
       "</table>\n",
       "</div>"
      ],
      "text/plain": [
       "  state_name  county_fips     county_name  votes_gop  votes_dem  total_votes  \\\n",
       "0    Alabama         1001  Autauga County      19838       7503        27770   \n",
       "1    Alabama         1003  Baldwin County      83544      24578       109679   \n",
       "2    Alabama         1005  Barbour County       5622       4816        10518   \n",
       "3    Alabama         1007     Bibb County       7525       1986         9595   \n",
       "4    Alabama         1009   Blount County      24711       2640        27588   \n",
       "\n",
       "    diff   per_gop   per_dem  per_point_diff  winner_democrats  \n",
       "0  12335  0.714368  0.270184        0.444184                 0  \n",
       "1  58966  0.761714  0.224090        0.537623                 0  \n",
       "2    806  0.534512  0.457882        0.076631                 0  \n",
       "3   5539  0.784263  0.206983        0.577280                 0  \n",
       "4  22071  0.895716  0.095694        0.800022                 0  "
      ]
     },
     "execution_count": 35,
     "metadata": {},
     "output_type": "execute_result"
    }
   ],
   "source": [
    "tmp.head()"
   ]
  },
  {
   "cell_type": "code",
   "execution_count": 73,
   "metadata": {},
   "outputs": [
    {
     "data": {
      "text/html": [
       "<div>\n",
       "<style scoped>\n",
       "    .dataframe tbody tr th:only-of-type {\n",
       "        vertical-align: middle;\n",
       "    }\n",
       "\n",
       "    .dataframe tbody tr th {\n",
       "        vertical-align: top;\n",
       "    }\n",
       "\n",
       "    .dataframe thead th {\n",
       "        text-align: right;\n",
       "    }\n",
       "</style>\n",
       "<table border=\"1\" class=\"dataframe\">\n",
       "  <thead>\n",
       "    <tr style=\"text-align: right;\">\n",
       "      <th></th>\n",
       "      <th>state_name</th>\n",
       "      <th>county_fips</th>\n",
       "      <th>county_name</th>\n",
       "      <th>target</th>\n",
       "    </tr>\n",
       "  </thead>\n",
       "  <tbody>\n",
       "    <tr>\n",
       "      <th>0</th>\n",
       "      <td>Alabama</td>\n",
       "      <td>1001</td>\n",
       "      <td>Autauga County</td>\n",
       "      <td>1</td>\n",
       "    </tr>\n",
       "    <tr>\n",
       "      <th>1</th>\n",
       "      <td>Alabama</td>\n",
       "      <td>1003</td>\n",
       "      <td>Baldwin County</td>\n",
       "      <td>1</td>\n",
       "    </tr>\n",
       "    <tr>\n",
       "      <th>2</th>\n",
       "      <td>Alabama</td>\n",
       "      <td>1005</td>\n",
       "      <td>Barbour County</td>\n",
       "      <td>1</td>\n",
       "    </tr>\n",
       "    <tr>\n",
       "      <th>3</th>\n",
       "      <td>Alabama</td>\n",
       "      <td>1007</td>\n",
       "      <td>Bibb County</td>\n",
       "      <td>1</td>\n",
       "    </tr>\n",
       "    <tr>\n",
       "      <th>4</th>\n",
       "      <td>Alabama</td>\n",
       "      <td>1009</td>\n",
       "      <td>Blount County</td>\n",
       "      <td>1</td>\n",
       "    </tr>\n",
       "  </tbody>\n",
       "</table>\n",
       "</div>"
      ],
      "text/plain": [
       "  state_name  county_fips     county_name  target\n",
       "0    Alabama         1001  Autauga County       1\n",
       "1    Alabama         1003  Baldwin County       1\n",
       "2    Alabama         1005  Barbour County       1\n",
       "3    Alabama         1007     Bibb County       1\n",
       "4    Alabama         1009   Blount County       1"
      ]
     },
     "execution_count": 73,
     "metadata": {},
     "output_type": "execute_result"
    }
   ],
   "source": [
    "df_target.head()"
   ]
  },
  {
   "cell_type": "code",
   "execution_count": 91,
   "metadata": {},
   "outputs": [
    {
     "data": {
      "text/html": [
       "<div>\n",
       "<style scoped>\n",
       "    .dataframe tbody tr th:only-of-type {\n",
       "        vertical-align: middle;\n",
       "    }\n",
       "\n",
       "    .dataframe tbody tr th {\n",
       "        vertical-align: top;\n",
       "    }\n",
       "\n",
       "    .dataframe thead th {\n",
       "        text-align: right;\n",
       "    }\n",
       "</style>\n",
       "<table border=\"1\" class=\"dataframe\">\n",
       "  <thead>\n",
       "    <tr style=\"text-align: right;\">\n",
       "      <th></th>\n",
       "      <th>state_name</th>\n",
       "      <th>county_fips</th>\n",
       "      <th>county_name</th>\n",
       "      <th>votes_gop</th>\n",
       "      <th>votes_dem</th>\n",
       "      <th>total_votes</th>\n",
       "      <th>diff</th>\n",
       "      <th>per_gop</th>\n",
       "      <th>per_dem</th>\n",
       "      <th>per_point_diff</th>\n",
       "    </tr>\n",
       "  </thead>\n",
       "  <tbody>\n",
       "  </tbody>\n",
       "</table>\n",
       "</div>"
      ],
      "text/plain": [
       "Empty DataFrame\n",
       "Columns: [state_name, county_fips, county_name, votes_gop, votes_dem, total_votes, diff, per_gop, per_dem, per_point_diff]\n",
       "Index: []"
      ]
     },
     "execution_count": 91,
     "metadata": {},
     "output_type": "execute_result"
    }
   ],
   "source": [
    "tmp.head()\n",
    "tmp[tmp.duplicated(subset=[\"state_name\", \"county_fips\", \"county_name\"], keep=False)]"
   ]
  },
  {
   "cell_type": "code",
   "execution_count": null,
   "metadata": {},
   "outputs": [],
   "source": []
  },
  {
   "cell_type": "markdown",
   "metadata": {},
   "source": [
    "### Votes per state"
   ]
  },
  {
   "cell_type": "code",
   "execution_count": 92,
   "metadata": {},
   "outputs": [
    {
     "data": {
      "text/html": [
       "<div>\n",
       "<style scoped>\n",
       "    .dataframe tbody tr th:only-of-type {\n",
       "        vertical-align: middle;\n",
       "    }\n",
       "\n",
       "    .dataframe tbody tr th {\n",
       "        vertical-align: top;\n",
       "    }\n",
       "\n",
       "    .dataframe thead th {\n",
       "        text-align: right;\n",
       "    }\n",
       "</style>\n",
       "<table border=\"1\" class=\"dataframe\">\n",
       "  <thead>\n",
       "    <tr style=\"text-align: right;\">\n",
       "      <th></th>\n",
       "      <th>state_name</th>\n",
       "      <th>votes_gop</th>\n",
       "      <th>votes_dem</th>\n",
       "      <th>total_votes_state</th>\n",
       "      <th>Republican</th>\n",
       "      <th>Democratic</th>\n",
       "    </tr>\n",
       "  </thead>\n",
       "  <tbody>\n",
       "    <tr>\n",
       "      <th>8</th>\n",
       "      <td>District of Columbia</td>\n",
       "      <td>18586</td>\n",
       "      <td>317323</td>\n",
       "      <td>335909</td>\n",
       "      <td>5.533046</td>\n",
       "      <td>94.466954</td>\n",
       "    </tr>\n",
       "    <tr>\n",
       "      <th>45</th>\n",
       "      <td>Vermont</td>\n",
       "      <td>112704</td>\n",
       "      <td>242820</td>\n",
       "      <td>355524</td>\n",
       "      <td>31.700813</td>\n",
       "      <td>68.299187</td>\n",
       "    </tr>\n",
       "    <tr>\n",
       "      <th>21</th>\n",
       "      <td>Massachusetts</td>\n",
       "      <td>1167202</td>\n",
       "      <td>2382202</td>\n",
       "      <td>3549404</td>\n",
       "      <td>32.884450</td>\n",
       "      <td>67.115550</td>\n",
       "    </tr>\n",
       "    <tr>\n",
       "      <th>20</th>\n",
       "      <td>Maryland</td>\n",
       "      <td>976414</td>\n",
       "      <td>1985023</td>\n",
       "      <td>2961437</td>\n",
       "      <td>32.970953</td>\n",
       "      <td>67.029047</td>\n",
       "    </tr>\n",
       "    <tr>\n",
       "      <th>11</th>\n",
       "      <td>Hawaii</td>\n",
       "      <td>196864</td>\n",
       "      <td>366130</td>\n",
       "      <td>562994</td>\n",
       "      <td>34.967335</td>\n",
       "      <td>65.032665</td>\n",
       "    </tr>\n",
       "  </tbody>\n",
       "</table>\n",
       "</div>"
      ],
      "text/plain": [
       "              state_name  votes_gop  votes_dem  total_votes_state  Republican  \\\n",
       "8   District of Columbia      18586     317323             335909    5.533046   \n",
       "45               Vermont     112704     242820             355524   31.700813   \n",
       "21         Massachusetts    1167202    2382202            3549404   32.884450   \n",
       "20              Maryland     976414    1985023            2961437   32.970953   \n",
       "11                Hawaii     196864     366130             562994   34.967335   \n",
       "\n",
       "    Democratic  \n",
       "8    94.466954  \n",
       "45   68.299187  \n",
       "21   67.115550  \n",
       "20   67.029047  \n",
       "11   65.032665  "
      ]
     },
     "metadata": {},
     "output_type": "display_data"
    },
    {
     "data": {
      "application/vnd.plotly.v1+json": {
       "config": {
        "plotlyServerURL": "https://plot.ly"
       },
       "data": [
        {
         "alignmentgroup": "True",
         "hovertemplate": "Party=Democratic<br>State=%{x}<br>%=%{y}<extra></extra>",
         "legendgroup": "Democratic",
         "marker": {
          "color": "#636efa",
          "pattern": {
           "shape": ""
          }
         },
         "name": "Democratic",
         "offsetgroup": "Democratic",
         "orientation": "v",
         "showlegend": true,
         "textposition": "auto",
         "type": "bar",
         "x": [
          "District of Columbia",
          "Vermont",
          "Massachusetts",
          "Maryland",
          "Hawaii",
          "California",
          "New York",
          "Rhode Island",
          "Connecticut",
          "Washington",
          "Delaware",
          "Illinois",
          "Oregon",
          "New Jersey",
          "Colorado",
          "New Mexico",
          "Virginia",
          "Maine",
          "New Hampshire",
          "Minnesota",
          "Michigan",
          "Nevada",
          "Pennsylvania",
          "Wisconsin",
          "Arizona",
          "Georgia",
          "North Carolina",
          "Florida",
          "Texas",
          "Ohio",
          "Iowa",
          "Alaska",
          "South Carolina",
          "Kansas",
          "Missouri",
          "Indiana",
          "Mississippi",
          "Montana",
          "Louisiana",
          "Nebraska",
          "Utah",
          "Tennessee",
          "Alabama",
          "Kentucky",
          "South Dakota",
          "Arkansas",
          "Idaho",
          "Oklahoma",
          "North Dakota",
          "West Virginia",
          "Wyoming"
         ],
         "xaxis": "x",
         "y": [
          94.46695384761945,
          68.29918655280656,
          67.11554954014815,
          67.02904704709235,
          65.03266464651489,
          64.9096897735854,
          61.73605254198259,
          60.5101897649823,
          60.17246380927086,
          59.92550318479069,
          59.62674416498447,
          58.65904373280692,
          58.307156985441736,
          58.07128358679484,
          56.93831949230015,
          55.51849015171974,
          55.15468699939991,
          54.46460653970535,
          53.74834772159504,
          53.63951364856667,
          51.41355934440946,
          51.22311734004381,
          50.59708817513884,
          50.317952268896775,
          50.15683167912932,
          50.11932966290865,
          49.31581746681327,
          48.30524533785844,
          47.16927876322047,
          45.92330235229728,
          45.816736915362945,
          44.68579684646239,
          44.073391250417906,
          42.42725945097432,
          42.16417935559855,
          41.80181519856194,
          41.61501417261114,
          41.6028199079519,
          40.535559543708956,
          40.215947753398275,
          39.30639487814837,
          38.17222962793365,
          37.089316645247806,
          36.79989709973703,
          36.5652201383185,
          35.78756672201685,
          34.12289764236351,
          33.05996050309349,
          32.782591577103375,
          30.201467686077976,
          27.519565624414895
         ],
         "yaxis": "y"
        },
        {
         "alignmentgroup": "True",
         "hovertemplate": "Party=Republican<br>State=%{x}<br>%=%{y}<extra></extra>",
         "legendgroup": "Republican",
         "marker": {
          "color": "#EF553B",
          "pattern": {
           "shape": ""
          }
         },
         "name": "Republican",
         "offsetgroup": "Republican",
         "orientation": "v",
         "showlegend": true,
         "textposition": "auto",
         "type": "bar",
         "x": [
          "District of Columbia",
          "Vermont",
          "Massachusetts",
          "Maryland",
          "Hawaii",
          "California",
          "New York",
          "Rhode Island",
          "Connecticut",
          "Washington",
          "Delaware",
          "Illinois",
          "Oregon",
          "New Jersey",
          "Colorado",
          "New Mexico",
          "Virginia",
          "Maine",
          "New Hampshire",
          "Minnesota",
          "Michigan",
          "Nevada",
          "Pennsylvania",
          "Wisconsin",
          "Arizona",
          "Georgia",
          "North Carolina",
          "Florida",
          "Texas",
          "Ohio",
          "Iowa",
          "Alaska",
          "South Carolina",
          "Kansas",
          "Missouri",
          "Indiana",
          "Mississippi",
          "Montana",
          "Louisiana",
          "Nebraska",
          "Utah",
          "Tennessee",
          "Alabama",
          "Kentucky",
          "South Dakota",
          "Arkansas",
          "Idaho",
          "Oklahoma",
          "North Dakota",
          "West Virginia",
          "Wyoming"
         ],
         "xaxis": "x",
         "y": [
          5.533046152380555,
          31.700813447193436,
          32.88445045985185,
          32.97095295290766,
          34.96733535348512,
          35.0903102264146,
          38.26394745801741,
          39.4898102350177,
          39.82753619072914,
          40.07449681520931,
          40.37325583501553,
          41.34095626719308,
          41.692843014558264,
          41.92871641320516,
          43.06168050769985,
          44.48150984828026,
          44.84531300060009,
          45.53539346029465,
          46.25165227840496,
          46.36048635143333,
          48.58644065559054,
          48.77688265995619,
          49.40291182486116,
          49.682047731103225,
          49.84316832087068,
          49.88067033709135,
          50.68418253318673,
          51.69475466214156,
          52.83072123677953,
          54.07669764770272,
          54.183263084637055,
          55.31420315353761,
          55.926608749582094,
          57.57274054902568,
          57.83582064440145,
          58.19818480143806,
          58.38498582738886,
          58.3971800920481,
          59.464440456291044,
          59.784052246601725,
          60.69360512185163,
          61.82777037206635,
          62.910683354752194,
          63.20010290026297,
          63.4347798616815,
          64.21243327798315,
          65.87710235763649,
          66.94003949690651,
          67.21740842289663,
          69.79853231392202,
          72.4804343755851
         ],
         "yaxis": "y"
        }
       ],
       "layout": {
        "annotations": [
         {
          "showarrow": false,
          "text": "50%",
          "x": 1,
          "xanchor": "right",
          "xref": "x domain",
          "y": 50,
          "yanchor": "top",
          "yref": "y"
         }
        ],
        "barmode": "relative",
        "legend": {
         "title": {
          "text": "Party"
         },
         "tracegroupgap": 0
        },
        "shapes": [
         {
          "line": {
           "color": "green",
           "dash": "dash",
           "width": 3
          },
          "type": "line",
          "x0": 0,
          "x1": 1,
          "xref": "x domain",
          "y0": 50,
          "y1": 50,
          "yref": "y"
         }
        ],
        "template": {
         "data": {
          "bar": [
           {
            "error_x": {
             "color": "#2a3f5f"
            },
            "error_y": {
             "color": "#2a3f5f"
            },
            "marker": {
             "line": {
              "color": "#E5ECF6",
              "width": 0.5
             },
             "pattern": {
              "fillmode": "overlay",
              "size": 10,
              "solidity": 0.2
             }
            },
            "type": "bar"
           }
          ],
          "barpolar": [
           {
            "marker": {
             "line": {
              "color": "#E5ECF6",
              "width": 0.5
             },
             "pattern": {
              "fillmode": "overlay",
              "size": 10,
              "solidity": 0.2
             }
            },
            "type": "barpolar"
           }
          ],
          "carpet": [
           {
            "aaxis": {
             "endlinecolor": "#2a3f5f",
             "gridcolor": "white",
             "linecolor": "white",
             "minorgridcolor": "white",
             "startlinecolor": "#2a3f5f"
            },
            "baxis": {
             "endlinecolor": "#2a3f5f",
             "gridcolor": "white",
             "linecolor": "white",
             "minorgridcolor": "white",
             "startlinecolor": "#2a3f5f"
            },
            "type": "carpet"
           }
          ],
          "choropleth": [
           {
            "colorbar": {
             "outlinewidth": 0,
             "ticks": ""
            },
            "type": "choropleth"
           }
          ],
          "contour": [
           {
            "colorbar": {
             "outlinewidth": 0,
             "ticks": ""
            },
            "colorscale": [
             [
              0,
              "#0d0887"
             ],
             [
              0.1111111111111111,
              "#46039f"
             ],
             [
              0.2222222222222222,
              "#7201a8"
             ],
             [
              0.3333333333333333,
              "#9c179e"
             ],
             [
              0.4444444444444444,
              "#bd3786"
             ],
             [
              0.5555555555555556,
              "#d8576b"
             ],
             [
              0.6666666666666666,
              "#ed7953"
             ],
             [
              0.7777777777777778,
              "#fb9f3a"
             ],
             [
              0.8888888888888888,
              "#fdca26"
             ],
             [
              1,
              "#f0f921"
             ]
            ],
            "type": "contour"
           }
          ],
          "contourcarpet": [
           {
            "colorbar": {
             "outlinewidth": 0,
             "ticks": ""
            },
            "type": "contourcarpet"
           }
          ],
          "heatmap": [
           {
            "colorbar": {
             "outlinewidth": 0,
             "ticks": ""
            },
            "colorscale": [
             [
              0,
              "#0d0887"
             ],
             [
              0.1111111111111111,
              "#46039f"
             ],
             [
              0.2222222222222222,
              "#7201a8"
             ],
             [
              0.3333333333333333,
              "#9c179e"
             ],
             [
              0.4444444444444444,
              "#bd3786"
             ],
             [
              0.5555555555555556,
              "#d8576b"
             ],
             [
              0.6666666666666666,
              "#ed7953"
             ],
             [
              0.7777777777777778,
              "#fb9f3a"
             ],
             [
              0.8888888888888888,
              "#fdca26"
             ],
             [
              1,
              "#f0f921"
             ]
            ],
            "type": "heatmap"
           }
          ],
          "heatmapgl": [
           {
            "colorbar": {
             "outlinewidth": 0,
             "ticks": ""
            },
            "colorscale": [
             [
              0,
              "#0d0887"
             ],
             [
              0.1111111111111111,
              "#46039f"
             ],
             [
              0.2222222222222222,
              "#7201a8"
             ],
             [
              0.3333333333333333,
              "#9c179e"
             ],
             [
              0.4444444444444444,
              "#bd3786"
             ],
             [
              0.5555555555555556,
              "#d8576b"
             ],
             [
              0.6666666666666666,
              "#ed7953"
             ],
             [
              0.7777777777777778,
              "#fb9f3a"
             ],
             [
              0.8888888888888888,
              "#fdca26"
             ],
             [
              1,
              "#f0f921"
             ]
            ],
            "type": "heatmapgl"
           }
          ],
          "histogram": [
           {
            "marker": {
             "pattern": {
              "fillmode": "overlay",
              "size": 10,
              "solidity": 0.2
             }
            },
            "type": "histogram"
           }
          ],
          "histogram2d": [
           {
            "colorbar": {
             "outlinewidth": 0,
             "ticks": ""
            },
            "colorscale": [
             [
              0,
              "#0d0887"
             ],
             [
              0.1111111111111111,
              "#46039f"
             ],
             [
              0.2222222222222222,
              "#7201a8"
             ],
             [
              0.3333333333333333,
              "#9c179e"
             ],
             [
              0.4444444444444444,
              "#bd3786"
             ],
             [
              0.5555555555555556,
              "#d8576b"
             ],
             [
              0.6666666666666666,
              "#ed7953"
             ],
             [
              0.7777777777777778,
              "#fb9f3a"
             ],
             [
              0.8888888888888888,
              "#fdca26"
             ],
             [
              1,
              "#f0f921"
             ]
            ],
            "type": "histogram2d"
           }
          ],
          "histogram2dcontour": [
           {
            "colorbar": {
             "outlinewidth": 0,
             "ticks": ""
            },
            "colorscale": [
             [
              0,
              "#0d0887"
             ],
             [
              0.1111111111111111,
              "#46039f"
             ],
             [
              0.2222222222222222,
              "#7201a8"
             ],
             [
              0.3333333333333333,
              "#9c179e"
             ],
             [
              0.4444444444444444,
              "#bd3786"
             ],
             [
              0.5555555555555556,
              "#d8576b"
             ],
             [
              0.6666666666666666,
              "#ed7953"
             ],
             [
              0.7777777777777778,
              "#fb9f3a"
             ],
             [
              0.8888888888888888,
              "#fdca26"
             ],
             [
              1,
              "#f0f921"
             ]
            ],
            "type": "histogram2dcontour"
           }
          ],
          "mesh3d": [
           {
            "colorbar": {
             "outlinewidth": 0,
             "ticks": ""
            },
            "type": "mesh3d"
           }
          ],
          "parcoords": [
           {
            "line": {
             "colorbar": {
              "outlinewidth": 0,
              "ticks": ""
             }
            },
            "type": "parcoords"
           }
          ],
          "pie": [
           {
            "automargin": true,
            "type": "pie"
           }
          ],
          "scatter": [
           {
            "marker": {
             "colorbar": {
              "outlinewidth": 0,
              "ticks": ""
             }
            },
            "type": "scatter"
           }
          ],
          "scatter3d": [
           {
            "line": {
             "colorbar": {
              "outlinewidth": 0,
              "ticks": ""
             }
            },
            "marker": {
             "colorbar": {
              "outlinewidth": 0,
              "ticks": ""
             }
            },
            "type": "scatter3d"
           }
          ],
          "scattercarpet": [
           {
            "marker": {
             "colorbar": {
              "outlinewidth": 0,
              "ticks": ""
             }
            },
            "type": "scattercarpet"
           }
          ],
          "scattergeo": [
           {
            "marker": {
             "colorbar": {
              "outlinewidth": 0,
              "ticks": ""
             }
            },
            "type": "scattergeo"
           }
          ],
          "scattergl": [
           {
            "marker": {
             "colorbar": {
              "outlinewidth": 0,
              "ticks": ""
             }
            },
            "type": "scattergl"
           }
          ],
          "scattermapbox": [
           {
            "marker": {
             "colorbar": {
              "outlinewidth": 0,
              "ticks": ""
             }
            },
            "type": "scattermapbox"
           }
          ],
          "scatterpolar": [
           {
            "marker": {
             "colorbar": {
              "outlinewidth": 0,
              "ticks": ""
             }
            },
            "type": "scatterpolar"
           }
          ],
          "scatterpolargl": [
           {
            "marker": {
             "colorbar": {
              "outlinewidth": 0,
              "ticks": ""
             }
            },
            "type": "scatterpolargl"
           }
          ],
          "scatterternary": [
           {
            "marker": {
             "colorbar": {
              "outlinewidth": 0,
              "ticks": ""
             }
            },
            "type": "scatterternary"
           }
          ],
          "surface": [
           {
            "colorbar": {
             "outlinewidth": 0,
             "ticks": ""
            },
            "colorscale": [
             [
              0,
              "#0d0887"
             ],
             [
              0.1111111111111111,
              "#46039f"
             ],
             [
              0.2222222222222222,
              "#7201a8"
             ],
             [
              0.3333333333333333,
              "#9c179e"
             ],
             [
              0.4444444444444444,
              "#bd3786"
             ],
             [
              0.5555555555555556,
              "#d8576b"
             ],
             [
              0.6666666666666666,
              "#ed7953"
             ],
             [
              0.7777777777777778,
              "#fb9f3a"
             ],
             [
              0.8888888888888888,
              "#fdca26"
             ],
             [
              1,
              "#f0f921"
             ]
            ],
            "type": "surface"
           }
          ],
          "table": [
           {
            "cells": {
             "fill": {
              "color": "#EBF0F8"
             },
             "line": {
              "color": "white"
             }
            },
            "header": {
             "fill": {
              "color": "#C8D4E3"
             },
             "line": {
              "color": "white"
             }
            },
            "type": "table"
           }
          ]
         },
         "layout": {
          "annotationdefaults": {
           "arrowcolor": "#2a3f5f",
           "arrowhead": 0,
           "arrowwidth": 1
          },
          "autotypenumbers": "strict",
          "coloraxis": {
           "colorbar": {
            "outlinewidth": 0,
            "ticks": ""
           }
          },
          "colorscale": {
           "diverging": [
            [
             0,
             "#8e0152"
            ],
            [
             0.1,
             "#c51b7d"
            ],
            [
             0.2,
             "#de77ae"
            ],
            [
             0.3,
             "#f1b6da"
            ],
            [
             0.4,
             "#fde0ef"
            ],
            [
             0.5,
             "#f7f7f7"
            ],
            [
             0.6,
             "#e6f5d0"
            ],
            [
             0.7,
             "#b8e186"
            ],
            [
             0.8,
             "#7fbc41"
            ],
            [
             0.9,
             "#4d9221"
            ],
            [
             1,
             "#276419"
            ]
           ],
           "sequential": [
            [
             0,
             "#0d0887"
            ],
            [
             0.1111111111111111,
             "#46039f"
            ],
            [
             0.2222222222222222,
             "#7201a8"
            ],
            [
             0.3333333333333333,
             "#9c179e"
            ],
            [
             0.4444444444444444,
             "#bd3786"
            ],
            [
             0.5555555555555556,
             "#d8576b"
            ],
            [
             0.6666666666666666,
             "#ed7953"
            ],
            [
             0.7777777777777778,
             "#fb9f3a"
            ],
            [
             0.8888888888888888,
             "#fdca26"
            ],
            [
             1,
             "#f0f921"
            ]
           ],
           "sequentialminus": [
            [
             0,
             "#0d0887"
            ],
            [
             0.1111111111111111,
             "#46039f"
            ],
            [
             0.2222222222222222,
             "#7201a8"
            ],
            [
             0.3333333333333333,
             "#9c179e"
            ],
            [
             0.4444444444444444,
             "#bd3786"
            ],
            [
             0.5555555555555556,
             "#d8576b"
            ],
            [
             0.6666666666666666,
             "#ed7953"
            ],
            [
             0.7777777777777778,
             "#fb9f3a"
            ],
            [
             0.8888888888888888,
             "#fdca26"
            ],
            [
             1,
             "#f0f921"
            ]
           ]
          },
          "colorway": [
           "#636efa",
           "#EF553B",
           "#00cc96",
           "#ab63fa",
           "#FFA15A",
           "#19d3f3",
           "#FF6692",
           "#B6E880",
           "#FF97FF",
           "#FECB52"
          ],
          "font": {
           "color": "#2a3f5f"
          },
          "geo": {
           "bgcolor": "white",
           "lakecolor": "white",
           "landcolor": "#E5ECF6",
           "showlakes": true,
           "showland": true,
           "subunitcolor": "white"
          },
          "hoverlabel": {
           "align": "left"
          },
          "hovermode": "closest",
          "mapbox": {
           "style": "light"
          },
          "paper_bgcolor": "white",
          "plot_bgcolor": "#E5ECF6",
          "polar": {
           "angularaxis": {
            "gridcolor": "white",
            "linecolor": "white",
            "ticks": ""
           },
           "bgcolor": "#E5ECF6",
           "radialaxis": {
            "gridcolor": "white",
            "linecolor": "white",
            "ticks": ""
           }
          },
          "scene": {
           "xaxis": {
            "backgroundcolor": "#E5ECF6",
            "gridcolor": "white",
            "gridwidth": 2,
            "linecolor": "white",
            "showbackground": true,
            "ticks": "",
            "zerolinecolor": "white"
           },
           "yaxis": {
            "backgroundcolor": "#E5ECF6",
            "gridcolor": "white",
            "gridwidth": 2,
            "linecolor": "white",
            "showbackground": true,
            "ticks": "",
            "zerolinecolor": "white"
           },
           "zaxis": {
            "backgroundcolor": "#E5ECF6",
            "gridcolor": "white",
            "gridwidth": 2,
            "linecolor": "white",
            "showbackground": true,
            "ticks": "",
            "zerolinecolor": "white"
           }
          },
          "shapedefaults": {
           "line": {
            "color": "#2a3f5f"
           }
          },
          "ternary": {
           "aaxis": {
            "gridcolor": "white",
            "linecolor": "white",
            "ticks": ""
           },
           "baxis": {
            "gridcolor": "white",
            "linecolor": "white",
            "ticks": ""
           },
           "bgcolor": "#E5ECF6",
           "caxis": {
            "gridcolor": "white",
            "linecolor": "white",
            "ticks": ""
           }
          },
          "title": {
           "x": 0.05
          },
          "xaxis": {
           "automargin": true,
           "gridcolor": "white",
           "linecolor": "white",
           "ticks": "",
           "title": {
            "standoff": 15
           },
           "zerolinecolor": "white",
           "zerolinewidth": 2
          },
          "yaxis": {
           "automargin": true,
           "gridcolor": "white",
           "linecolor": "white",
           "ticks": "",
           "title": {
            "standoff": 15
           },
           "zerolinecolor": "white",
           "zerolinewidth": 2
          }
         }
        },
        "title": {
         "text": "U.S. 2020 presidential elections per state"
        },
        "xaxis": {
         "anchor": "y",
         "domain": [
          0,
          1
         ],
         "title": {
          "text": "State"
         }
        },
        "yaxis": {
         "anchor": "x",
         "domain": [
          0,
          1
         ],
         "title": {
          "text": "%"
         }
        }
       }
      },
      "text/html": [
       "<div>                            <div id=\"61323f5d-3fc5-4f95-bb52-95ad363fe74d\" class=\"plotly-graph-div\" style=\"height:525px; width:100%;\"></div>            <script type=\"text/javascript\">                require([\"plotly\"], function(Plotly) {                    window.PLOTLYENV=window.PLOTLYENV || {};                                    if (document.getElementById(\"61323f5d-3fc5-4f95-bb52-95ad363fe74d\")) {                    Plotly.newPlot(                        \"61323f5d-3fc5-4f95-bb52-95ad363fe74d\",                        [{\"alignmentgroup\":\"True\",\"hovertemplate\":\"Party=Democratic<br>State=%{x}<br>%=%{y}<extra></extra>\",\"legendgroup\":\"Democratic\",\"marker\":{\"color\":\"#636efa\",\"pattern\":{\"shape\":\"\"}},\"name\":\"Democratic\",\"offsetgroup\":\"Democratic\",\"orientation\":\"v\",\"showlegend\":true,\"textposition\":\"auto\",\"x\":[\"District of Columbia\",\"Vermont\",\"Massachusetts\",\"Maryland\",\"Hawaii\",\"California\",\"New York\",\"Rhode Island\",\"Connecticut\",\"Washington\",\"Delaware\",\"Illinois\",\"Oregon\",\"New Jersey\",\"Colorado\",\"New Mexico\",\"Virginia\",\"Maine\",\"New Hampshire\",\"Minnesota\",\"Michigan\",\"Nevada\",\"Pennsylvania\",\"Wisconsin\",\"Arizona\",\"Georgia\",\"North Carolina\",\"Florida\",\"Texas\",\"Ohio\",\"Iowa\",\"Alaska\",\"South Carolina\",\"Kansas\",\"Missouri\",\"Indiana\",\"Mississippi\",\"Montana\",\"Louisiana\",\"Nebraska\",\"Utah\",\"Tennessee\",\"Alabama\",\"Kentucky\",\"South Dakota\",\"Arkansas\",\"Idaho\",\"Oklahoma\",\"North Dakota\",\"West Virginia\",\"Wyoming\"],\"xaxis\":\"x\",\"y\":[94.46695384761945,68.29918655280656,67.11554954014815,67.02904704709235,65.03266464651489,64.9096897735854,61.73605254198259,60.5101897649823,60.17246380927086,59.92550318479069,59.62674416498447,58.65904373280692,58.307156985441736,58.07128358679484,56.93831949230015,55.51849015171974,55.15468699939991,54.46460653970535,53.74834772159504,53.63951364856667,51.41355934440946,51.22311734004381,50.59708817513884,50.317952268896775,50.15683167912932,50.11932966290865,49.31581746681327,48.30524533785844,47.16927876322047,45.92330235229728,45.816736915362945,44.68579684646239,44.073391250417906,42.42725945097432,42.16417935559855,41.80181519856194,41.61501417261114,41.6028199079519,40.535559543708956,40.215947753398275,39.30639487814837,38.17222962793365,37.089316645247806,36.79989709973703,36.5652201383185,35.78756672201685,34.12289764236351,33.05996050309349,32.782591577103375,30.201467686077976,27.519565624414895],\"yaxis\":\"y\",\"type\":\"bar\"},{\"alignmentgroup\":\"True\",\"hovertemplate\":\"Party=Republican<br>State=%{x}<br>%=%{y}<extra></extra>\",\"legendgroup\":\"Republican\",\"marker\":{\"color\":\"#EF553B\",\"pattern\":{\"shape\":\"\"}},\"name\":\"Republican\",\"offsetgroup\":\"Republican\",\"orientation\":\"v\",\"showlegend\":true,\"textposition\":\"auto\",\"x\":[\"District of Columbia\",\"Vermont\",\"Massachusetts\",\"Maryland\",\"Hawaii\",\"California\",\"New York\",\"Rhode Island\",\"Connecticut\",\"Washington\",\"Delaware\",\"Illinois\",\"Oregon\",\"New Jersey\",\"Colorado\",\"New Mexico\",\"Virginia\",\"Maine\",\"New Hampshire\",\"Minnesota\",\"Michigan\",\"Nevada\",\"Pennsylvania\",\"Wisconsin\",\"Arizona\",\"Georgia\",\"North Carolina\",\"Florida\",\"Texas\",\"Ohio\",\"Iowa\",\"Alaska\",\"South Carolina\",\"Kansas\",\"Missouri\",\"Indiana\",\"Mississippi\",\"Montana\",\"Louisiana\",\"Nebraska\",\"Utah\",\"Tennessee\",\"Alabama\",\"Kentucky\",\"South Dakota\",\"Arkansas\",\"Idaho\",\"Oklahoma\",\"North Dakota\",\"West Virginia\",\"Wyoming\"],\"xaxis\":\"x\",\"y\":[5.533046152380555,31.700813447193436,32.88445045985185,32.97095295290766,34.96733535348512,35.0903102264146,38.26394745801741,39.4898102350177,39.82753619072914,40.07449681520931,40.37325583501553,41.34095626719308,41.692843014558264,41.92871641320516,43.06168050769985,44.48150984828026,44.84531300060009,45.53539346029465,46.25165227840496,46.36048635143333,48.58644065559054,48.77688265995619,49.40291182486116,49.682047731103225,49.84316832087068,49.88067033709135,50.68418253318673,51.69475466214156,52.83072123677953,54.07669764770272,54.183263084637055,55.31420315353761,55.926608749582094,57.57274054902568,57.83582064440145,58.19818480143806,58.38498582738886,58.3971800920481,59.464440456291044,59.784052246601725,60.69360512185163,61.82777037206635,62.910683354752194,63.20010290026297,63.4347798616815,64.21243327798315,65.87710235763649,66.94003949690651,67.21740842289663,69.79853231392202,72.4804343755851],\"yaxis\":\"y\",\"type\":\"bar\"}],                        {\"template\":{\"data\":{\"bar\":[{\"error_x\":{\"color\":\"#2a3f5f\"},\"error_y\":{\"color\":\"#2a3f5f\"},\"marker\":{\"line\":{\"color\":\"#E5ECF6\",\"width\":0.5},\"pattern\":{\"fillmode\":\"overlay\",\"size\":10,\"solidity\":0.2}},\"type\":\"bar\"}],\"barpolar\":[{\"marker\":{\"line\":{\"color\":\"#E5ECF6\",\"width\":0.5},\"pattern\":{\"fillmode\":\"overlay\",\"size\":10,\"solidity\":0.2}},\"type\":\"barpolar\"}],\"carpet\":[{\"aaxis\":{\"endlinecolor\":\"#2a3f5f\",\"gridcolor\":\"white\",\"linecolor\":\"white\",\"minorgridcolor\":\"white\",\"startlinecolor\":\"#2a3f5f\"},\"baxis\":{\"endlinecolor\":\"#2a3f5f\",\"gridcolor\":\"white\",\"linecolor\":\"white\",\"minorgridcolor\":\"white\",\"startlinecolor\":\"#2a3f5f\"},\"type\":\"carpet\"}],\"choropleth\":[{\"colorbar\":{\"outlinewidth\":0,\"ticks\":\"\"},\"type\":\"choropleth\"}],\"contour\":[{\"colorbar\":{\"outlinewidth\":0,\"ticks\":\"\"},\"colorscale\":[[0.0,\"#0d0887\"],[0.1111111111111111,\"#46039f\"],[0.2222222222222222,\"#7201a8\"],[0.3333333333333333,\"#9c179e\"],[0.4444444444444444,\"#bd3786\"],[0.5555555555555556,\"#d8576b\"],[0.6666666666666666,\"#ed7953\"],[0.7777777777777778,\"#fb9f3a\"],[0.8888888888888888,\"#fdca26\"],[1.0,\"#f0f921\"]],\"type\":\"contour\"}],\"contourcarpet\":[{\"colorbar\":{\"outlinewidth\":0,\"ticks\":\"\"},\"type\":\"contourcarpet\"}],\"heatmap\":[{\"colorbar\":{\"outlinewidth\":0,\"ticks\":\"\"},\"colorscale\":[[0.0,\"#0d0887\"],[0.1111111111111111,\"#46039f\"],[0.2222222222222222,\"#7201a8\"],[0.3333333333333333,\"#9c179e\"],[0.4444444444444444,\"#bd3786\"],[0.5555555555555556,\"#d8576b\"],[0.6666666666666666,\"#ed7953\"],[0.7777777777777778,\"#fb9f3a\"],[0.8888888888888888,\"#fdca26\"],[1.0,\"#f0f921\"]],\"type\":\"heatmap\"}],\"heatmapgl\":[{\"colorbar\":{\"outlinewidth\":0,\"ticks\":\"\"},\"colorscale\":[[0.0,\"#0d0887\"],[0.1111111111111111,\"#46039f\"],[0.2222222222222222,\"#7201a8\"],[0.3333333333333333,\"#9c179e\"],[0.4444444444444444,\"#bd3786\"],[0.5555555555555556,\"#d8576b\"],[0.6666666666666666,\"#ed7953\"],[0.7777777777777778,\"#fb9f3a\"],[0.8888888888888888,\"#fdca26\"],[1.0,\"#f0f921\"]],\"type\":\"heatmapgl\"}],\"histogram\":[{\"marker\":{\"pattern\":{\"fillmode\":\"overlay\",\"size\":10,\"solidity\":0.2}},\"type\":\"histogram\"}],\"histogram2d\":[{\"colorbar\":{\"outlinewidth\":0,\"ticks\":\"\"},\"colorscale\":[[0.0,\"#0d0887\"],[0.1111111111111111,\"#46039f\"],[0.2222222222222222,\"#7201a8\"],[0.3333333333333333,\"#9c179e\"],[0.4444444444444444,\"#bd3786\"],[0.5555555555555556,\"#d8576b\"],[0.6666666666666666,\"#ed7953\"],[0.7777777777777778,\"#fb9f3a\"],[0.8888888888888888,\"#fdca26\"],[1.0,\"#f0f921\"]],\"type\":\"histogram2d\"}],\"histogram2dcontour\":[{\"colorbar\":{\"outlinewidth\":0,\"ticks\":\"\"},\"colorscale\":[[0.0,\"#0d0887\"],[0.1111111111111111,\"#46039f\"],[0.2222222222222222,\"#7201a8\"],[0.3333333333333333,\"#9c179e\"],[0.4444444444444444,\"#bd3786\"],[0.5555555555555556,\"#d8576b\"],[0.6666666666666666,\"#ed7953\"],[0.7777777777777778,\"#fb9f3a\"],[0.8888888888888888,\"#fdca26\"],[1.0,\"#f0f921\"]],\"type\":\"histogram2dcontour\"}],\"mesh3d\":[{\"colorbar\":{\"outlinewidth\":0,\"ticks\":\"\"},\"type\":\"mesh3d\"}],\"parcoords\":[{\"line\":{\"colorbar\":{\"outlinewidth\":0,\"ticks\":\"\"}},\"type\":\"parcoords\"}],\"pie\":[{\"automargin\":true,\"type\":\"pie\"}],\"scatter\":[{\"marker\":{\"colorbar\":{\"outlinewidth\":0,\"ticks\":\"\"}},\"type\":\"scatter\"}],\"scatter3d\":[{\"line\":{\"colorbar\":{\"outlinewidth\":0,\"ticks\":\"\"}},\"marker\":{\"colorbar\":{\"outlinewidth\":0,\"ticks\":\"\"}},\"type\":\"scatter3d\"}],\"scattercarpet\":[{\"marker\":{\"colorbar\":{\"outlinewidth\":0,\"ticks\":\"\"}},\"type\":\"scattercarpet\"}],\"scattergeo\":[{\"marker\":{\"colorbar\":{\"outlinewidth\":0,\"ticks\":\"\"}},\"type\":\"scattergeo\"}],\"scattergl\":[{\"marker\":{\"colorbar\":{\"outlinewidth\":0,\"ticks\":\"\"}},\"type\":\"scattergl\"}],\"scattermapbox\":[{\"marker\":{\"colorbar\":{\"outlinewidth\":0,\"ticks\":\"\"}},\"type\":\"scattermapbox\"}],\"scatterpolar\":[{\"marker\":{\"colorbar\":{\"outlinewidth\":0,\"ticks\":\"\"}},\"type\":\"scatterpolar\"}],\"scatterpolargl\":[{\"marker\":{\"colorbar\":{\"outlinewidth\":0,\"ticks\":\"\"}},\"type\":\"scatterpolargl\"}],\"scatterternary\":[{\"marker\":{\"colorbar\":{\"outlinewidth\":0,\"ticks\":\"\"}},\"type\":\"scatterternary\"}],\"surface\":[{\"colorbar\":{\"outlinewidth\":0,\"ticks\":\"\"},\"colorscale\":[[0.0,\"#0d0887\"],[0.1111111111111111,\"#46039f\"],[0.2222222222222222,\"#7201a8\"],[0.3333333333333333,\"#9c179e\"],[0.4444444444444444,\"#bd3786\"],[0.5555555555555556,\"#d8576b\"],[0.6666666666666666,\"#ed7953\"],[0.7777777777777778,\"#fb9f3a\"],[0.8888888888888888,\"#fdca26\"],[1.0,\"#f0f921\"]],\"type\":\"surface\"}],\"table\":[{\"cells\":{\"fill\":{\"color\":\"#EBF0F8\"},\"line\":{\"color\":\"white\"}},\"header\":{\"fill\":{\"color\":\"#C8D4E3\"},\"line\":{\"color\":\"white\"}},\"type\":\"table\"}]},\"layout\":{\"annotationdefaults\":{\"arrowcolor\":\"#2a3f5f\",\"arrowhead\":0,\"arrowwidth\":1},\"autotypenumbers\":\"strict\",\"coloraxis\":{\"colorbar\":{\"outlinewidth\":0,\"ticks\":\"\"}},\"colorscale\":{\"diverging\":[[0,\"#8e0152\"],[0.1,\"#c51b7d\"],[0.2,\"#de77ae\"],[0.3,\"#f1b6da\"],[0.4,\"#fde0ef\"],[0.5,\"#f7f7f7\"],[0.6,\"#e6f5d0\"],[0.7,\"#b8e186\"],[0.8,\"#7fbc41\"],[0.9,\"#4d9221\"],[1,\"#276419\"]],\"sequential\":[[0.0,\"#0d0887\"],[0.1111111111111111,\"#46039f\"],[0.2222222222222222,\"#7201a8\"],[0.3333333333333333,\"#9c179e\"],[0.4444444444444444,\"#bd3786\"],[0.5555555555555556,\"#d8576b\"],[0.6666666666666666,\"#ed7953\"],[0.7777777777777778,\"#fb9f3a\"],[0.8888888888888888,\"#fdca26\"],[1.0,\"#f0f921\"]],\"sequentialminus\":[[0.0,\"#0d0887\"],[0.1111111111111111,\"#46039f\"],[0.2222222222222222,\"#7201a8\"],[0.3333333333333333,\"#9c179e\"],[0.4444444444444444,\"#bd3786\"],[0.5555555555555556,\"#d8576b\"],[0.6666666666666666,\"#ed7953\"],[0.7777777777777778,\"#fb9f3a\"],[0.8888888888888888,\"#fdca26\"],[1.0,\"#f0f921\"]]},\"colorway\":[\"#636efa\",\"#EF553B\",\"#00cc96\",\"#ab63fa\",\"#FFA15A\",\"#19d3f3\",\"#FF6692\",\"#B6E880\",\"#FF97FF\",\"#FECB52\"],\"font\":{\"color\":\"#2a3f5f\"},\"geo\":{\"bgcolor\":\"white\",\"lakecolor\":\"white\",\"landcolor\":\"#E5ECF6\",\"showlakes\":true,\"showland\":true,\"subunitcolor\":\"white\"},\"hoverlabel\":{\"align\":\"left\"},\"hovermode\":\"closest\",\"mapbox\":{\"style\":\"light\"},\"paper_bgcolor\":\"white\",\"plot_bgcolor\":\"#E5ECF6\",\"polar\":{\"angularaxis\":{\"gridcolor\":\"white\",\"linecolor\":\"white\",\"ticks\":\"\"},\"bgcolor\":\"#E5ECF6\",\"radialaxis\":{\"gridcolor\":\"white\",\"linecolor\":\"white\",\"ticks\":\"\"}},\"scene\":{\"xaxis\":{\"backgroundcolor\":\"#E5ECF6\",\"gridcolor\":\"white\",\"gridwidth\":2,\"linecolor\":\"white\",\"showbackground\":true,\"ticks\":\"\",\"zerolinecolor\":\"white\"},\"yaxis\":{\"backgroundcolor\":\"#E5ECF6\",\"gridcolor\":\"white\",\"gridwidth\":2,\"linecolor\":\"white\",\"showbackground\":true,\"ticks\":\"\",\"zerolinecolor\":\"white\"},\"zaxis\":{\"backgroundcolor\":\"#E5ECF6\",\"gridcolor\":\"white\",\"gridwidth\":2,\"linecolor\":\"white\",\"showbackground\":true,\"ticks\":\"\",\"zerolinecolor\":\"white\"}},\"shapedefaults\":{\"line\":{\"color\":\"#2a3f5f\"}},\"ternary\":{\"aaxis\":{\"gridcolor\":\"white\",\"linecolor\":\"white\",\"ticks\":\"\"},\"baxis\":{\"gridcolor\":\"white\",\"linecolor\":\"white\",\"ticks\":\"\"},\"bgcolor\":\"#E5ECF6\",\"caxis\":{\"gridcolor\":\"white\",\"linecolor\":\"white\",\"ticks\":\"\"}},\"title\":{\"x\":0.05},\"xaxis\":{\"automargin\":true,\"gridcolor\":\"white\",\"linecolor\":\"white\",\"ticks\":\"\",\"title\":{\"standoff\":15},\"zerolinecolor\":\"white\",\"zerolinewidth\":2},\"yaxis\":{\"automargin\":true,\"gridcolor\":\"white\",\"linecolor\":\"white\",\"ticks\":\"\",\"title\":{\"standoff\":15},\"zerolinecolor\":\"white\",\"zerolinewidth\":2}}},\"xaxis\":{\"anchor\":\"y\",\"domain\":[0.0,1.0],\"title\":{\"text\":\"State\"}},\"yaxis\":{\"anchor\":\"x\",\"domain\":[0.0,1.0],\"title\":{\"text\":\"%\"}},\"legend\":{\"title\":{\"text\":\"Party\"},\"tracegroupgap\":0},\"title\":{\"text\":\"U.S. 2020 presidential elections per state\"},\"barmode\":\"relative\",\"shapes\":[{\"line\":{\"color\":\"green\",\"dash\":\"dash\",\"width\":3},\"type\":\"line\",\"x0\":0,\"x1\":1,\"xref\":\"x domain\",\"y0\":50,\"y1\":50,\"yref\":\"y\"}],\"annotations\":[{\"showarrow\":false,\"text\":\"50%\",\"x\":1,\"xanchor\":\"right\",\"xref\":\"x domain\",\"y\":50,\"yanchor\":\"top\",\"yref\":\"y\"}]},                        {\"responsive\": true}                    ).then(function(){\n",
       "                            \n",
       "var gd = document.getElementById('61323f5d-3fc5-4f95-bb52-95ad363fe74d');\n",
       "var x = new MutationObserver(function (mutations, observer) {{\n",
       "        var display = window.getComputedStyle(gd).display;\n",
       "        if (!display || display === 'none') {{\n",
       "            console.log([gd, 'removed!']);\n",
       "            Plotly.purge(gd);\n",
       "            observer.disconnect();\n",
       "        }}\n",
       "}});\n",
       "\n",
       "// Listen for the removal of the full notebook cells\n",
       "var notebookContainer = gd.closest('#notebook-container');\n",
       "if (notebookContainer) {{\n",
       "    x.observe(notebookContainer, {childList: true});\n",
       "}}\n",
       "\n",
       "// Listen for the clearing of the current output cell\n",
       "var outputEl = gd.closest('.output');\n",
       "if (outputEl) {{\n",
       "    x.observe(outputEl, {childList: true});\n",
       "}}\n",
       "\n",
       "                        })                };                });            </script>        </div>"
      ]
     },
     "metadata": {},
     "output_type": "display_data"
    }
   ],
   "source": [
    "\n",
    "total_votes = tmp[\"total_votes\"].sum()\n",
    "total_republicans = tmp.groupby(\"state_name\")[\"votes_gop\"].sum().reset_index()\n",
    "total_democrats = tmp.groupby(\"state_name\")[\"votes_dem\"].sum().reset_index()\n",
    "df = pd.merge(total_republicans, total_democrats, on=\"state_name\", how=\"inner\")\n",
    "df[\"total_votes_state\"] = df[\"votes_gop\"] + df[\"votes_dem\"]\n",
    "df[\"Republican\"] = (df[\"votes_gop\"] / df[\"total_votes_state\"])*100\n",
    "df[\"Democratic\"] = np.abs(100 - df[\"Republican\"])\n",
    "df = df.sort_values(by=\"Democratic\", ascending=False)\n",
    "display(df.head())\n",
    "fig = px.bar(df, x=\"state_name\", y=[\"Democratic\", \"Republican\"],\n",
    "             title=\"U.S. 2020 presidential elections per state\", \n",
    "             labels={\"value\": \"%\",\n",
    "                     \"state_name\": \"State\",\n",
    "                     \"variable\": \"Party\"})\n",
    "fig.add_hline(y=50, line_width=3, line_dash=\"dash\", line_color=\"green\",\n",
    "              annotation_text=\"50%\", \n",
    "              annotation_position=\"bottom right\")\n",
    "fig"
   ]
  },
  {
   "cell_type": "code",
   "execution_count": 56,
   "metadata": {},
   "outputs": [
    {
     "name": "stderr",
     "output_type": "stream",
     "text": [
      "C:\\Users\\vnarv\\AppData\\Local\\Temp\\ipykernel_4892\\3698961737.py:1: FutureWarning:\n",
      "\n",
      "Dropping of nuisance columns in DataFrame reductions (with 'numeric_only=None') is deprecated; in a future version this will raise TypeError.  Select only valid columns before calling the reduction.\n",
      "\n"
     ]
    },
    {
     "data": {
      "text/plain": [
       "votes_gop     1.455063e+06\n",
       "votes_dem     1.593431e+06\n",
       "Republican    5.030956e+01\n",
       "Democratic    4.969044e+01\n",
       "dtype: float64"
      ]
     },
     "execution_count": 56,
     "metadata": {},
     "output_type": "execute_result"
    }
   ],
   "source": []
  },
  {
   "cell_type": "code",
   "execution_count": null,
   "metadata": {},
   "outputs": [],
   "source": [
    "# https://plotly.com/python/mapbox-county-choropleth/ US MAP"
   ]
  },
  {
   "cell_type": "code",
   "execution_count": 76,
   "metadata": {},
   "outputs": [],
   "source": [
    "top_countys = df.sort_values(\n",
    "    by=\"total_votes_state\",\n",
    "    ascending=False\n",
    ").iloc[:1][[\"state_name\"]]\n",
    "top_countys.reset_index(inplace=True, drop=True)"
   ]
  },
  {
   "cell_type": "code",
   "execution_count": 83,
   "metadata": {},
   "outputs": [],
   "source": [
    "top_countys = tmp[tmp[\"state_name\"].isin(top_10_states[\"state_name\"])]\n",
    "top_countys = top_countys.groupby(\"county_name\").agg({\"votes_gop\": \"sum\",\n",
    "                                             \"votes_dem\": \"sum\"})\n",
    "top_countys[\"total_votes_county\"] = top_countys[\"votes_gop\"] + top_countys[\"votes_dem\"]\n",
    "top_countys[\"Democrats\"] = (top_countys[\"votes_gop\"] / top_countys[\"total_votes_county\"])*100\n",
    "top_countys = top_countys.sort_values(by=\"Democrats\", ascending=False)"
   ]
  },
  {
   "cell_type": "code",
   "execution_count": 84,
   "metadata": {},
   "outputs": [
    {
     "data": {
      "text/html": [
       "<div>\n",
       "<style scoped>\n",
       "    .dataframe tbody tr th:only-of-type {\n",
       "        vertical-align: middle;\n",
       "    }\n",
       "\n",
       "    .dataframe tbody tr th {\n",
       "        vertical-align: top;\n",
       "    }\n",
       "\n",
       "    .dataframe thead th {\n",
       "        text-align: right;\n",
       "    }\n",
       "</style>\n",
       "<table border=\"1\" class=\"dataframe\">\n",
       "  <thead>\n",
       "    <tr style=\"text-align: right;\">\n",
       "      <th></th>\n",
       "      <th>votes_gop</th>\n",
       "      <th>votes_dem</th>\n",
       "      <th>total_votes_county</th>\n",
       "      <th>Democrats</th>\n",
       "    </tr>\n",
       "    <tr>\n",
       "      <th>county_name</th>\n",
       "      <th></th>\n",
       "      <th></th>\n",
       "      <th></th>\n",
       "      <th></th>\n",
       "    </tr>\n",
       "  </thead>\n",
       "  <tbody>\n",
       "    <tr>\n",
       "      <th>Lassen County</th>\n",
       "      <td>8970</td>\n",
       "      <td>2799</td>\n",
       "      <td>11769</td>\n",
       "      <td>76.217181</td>\n",
       "    </tr>\n",
       "    <tr>\n",
       "      <th>Modoc County</th>\n",
       "      <td>3109</td>\n",
       "      <td>1150</td>\n",
       "      <td>4259</td>\n",
       "      <td>72.998356</td>\n",
       "    </tr>\n",
       "    <tr>\n",
       "      <th>Tehama County</th>\n",
       "      <td>19141</td>\n",
       "      <td>8911</td>\n",
       "      <td>28052</td>\n",
       "      <td>68.233994</td>\n",
       "    </tr>\n",
       "    <tr>\n",
       "      <th>Shasta County</th>\n",
       "      <td>60789</td>\n",
       "      <td>30000</td>\n",
       "      <td>90789</td>\n",
       "      <td>66.956349</td>\n",
       "    </tr>\n",
       "    <tr>\n",
       "      <th>Glenn County</th>\n",
       "      <td>7063</td>\n",
       "      <td>3995</td>\n",
       "      <td>11058</td>\n",
       "      <td>63.872310</td>\n",
       "    </tr>\n",
       "  </tbody>\n",
       "</table>\n",
       "</div>"
      ],
      "text/plain": [
       "               votes_gop  votes_dem  total_votes_county  Democrats\n",
       "county_name                                                       \n",
       "Lassen County       8970       2799               11769  76.217181\n",
       "Modoc County        3109       1150                4259  72.998356\n",
       "Tehama County      19141       8911               28052  68.233994\n",
       "Shasta County      60789      30000               90789  66.956349\n",
       "Glenn County        7063       3995               11058  63.872310"
      ]
     },
     "execution_count": 84,
     "metadata": {},
     "output_type": "execute_result"
    }
   ],
   "source": [
    "top_countys.head()"
   ]
  },
  {
   "cell_type": "code",
   "execution_count": 90,
   "metadata": {},
   "outputs": [
    {
     "data": {
      "application/vnd.plotly.v1+json": {
       "config": {
        "plotlyServerURL": "https://plot.ly"
       },
       "data": [
        {
         "alignmentgroup": "True",
         "hovertemplate": "County=%{x}<br>%=%{y}<extra></extra>",
         "legendgroup": "",
         "marker": {
          "color": "#636efa",
          "pattern": {
           "shape": ""
          }
         },
         "name": "",
         "offsetgroup": "",
         "orientation": "v",
         "showlegend": false,
         "textposition": "auto",
         "type": "bar",
         "x": [
          "Lassen County",
          "Modoc County",
          "Tehama County",
          "Shasta County",
          "Glenn County",
          "Amador County",
          "Calaveras County",
          "Yuba County",
          "Sierra County",
          "Tuolumne County",
          "Mariposa County",
          "Plumas County",
          "Colusa County",
          "Sutter County",
          "Siskiyou County",
          "Del Norte County",
          "Kings County",
          "Madera County",
          "Kern County",
          "El Dorado County",
          "Tulare County",
          "Placer County",
          "Trinity County",
          "Inyo County",
          "Stanislaus County",
          "Butte County",
          "Lake County",
          "Fresno County",
          "Riverside County",
          "Orange County",
          "Merced County",
          "San Bernardino County",
          "San Luis Obispo County",
          "San Joaquin County",
          "Nevada County",
          "Ventura County",
          "Mono County",
          "San Diego County",
          "Imperial County",
          "San Benito County",
          "Sacramento County",
          "Solano County",
          "Alpine County",
          "Santa Barbara County",
          "Humboldt County",
          "Mendocino County",
          "Napa County",
          "Monterey County",
          "Yolo County",
          "Los Angeles County",
          "Contra Costa County",
          "Santa Clara County",
          "Sonoma County",
          "San Mateo County",
          "Santa Cruz County",
          "Alameda County",
          "Marin County",
          "San Francisco County"
         ],
         "xaxis": "x",
         "y": [
          76.21718072903391,
          72.99835642169523,
          68.2339940111222,
          66.9563493374748,
          63.872309640079585,
          62.49424970098445,
          62.181900316217444,
          61.14993426970179,
          61.00427350427351,
          59.625172750867975,
          59.274755927475596,
          58.55896783572597,
          58.47457627118644,
          58.39442288342676,
          58.07804920683477,
          58.008619141677144,
          56.28112506137336,
          55.90910820994937,
          55.223770354205136,
          54.50250751372743,
          53.99278973302525,
          53.4049538492394,
          52.79019705249214,
          49.92435703479576,
          49.596163553760725,
          49.14478195974021,
          46.76097491448118,
          46.0053316325817,
          45.94310943462684,
          45.38710653489048,
          44.572792686790066,
          44.550525716565545,
          43.298704300591986,
          42.90679752688363,
          42.413443568057275,
          39.21880100097922,
          38.507508427827155,
          38.35093791700112,
          37.54524988743809,
          37.52923665745269,
          37.046584396462215,
          34.49003458657842,
          33.88888888888889,
          33.59036070700412,
          32.718146021822115,
          31.5512854051226,
          29.330571829827072,
          28.891371090532413,
          28.76172410159132,
          27.441689434327927,
          26.855249682484196,
          25.776773135041843,
          23.618693245416654,
          20.590888157984374,
          19.079492573468475,
          18.078883984466184,
          16.096795291039896,
          12.982168703531974
         ],
         "yaxis": "y"
        }
       ],
       "layout": {
        "annotations": [
         {
          "showarrow": false,
          "text": "50%",
          "x": 1,
          "xanchor": "right",
          "xref": "x domain",
          "y": 50,
          "yanchor": "top",
          "yref": "y"
         }
        ],
        "barmode": "relative",
        "legend": {
         "tracegroupgap": 0
        },
        "shapes": [
         {
          "line": {
           "color": "green",
           "dash": "dash",
           "width": 3
          },
          "type": "line",
          "x0": 0,
          "x1": 1,
          "xref": "x domain",
          "y0": 50,
          "y1": 50,
          "yref": "y"
         }
        ],
        "template": {
         "data": {
          "bar": [
           {
            "error_x": {
             "color": "#2a3f5f"
            },
            "error_y": {
             "color": "#2a3f5f"
            },
            "marker": {
             "line": {
              "color": "#E5ECF6",
              "width": 0.5
             },
             "pattern": {
              "fillmode": "overlay",
              "size": 10,
              "solidity": 0.2
             }
            },
            "type": "bar"
           }
          ],
          "barpolar": [
           {
            "marker": {
             "line": {
              "color": "#E5ECF6",
              "width": 0.5
             },
             "pattern": {
              "fillmode": "overlay",
              "size": 10,
              "solidity": 0.2
             }
            },
            "type": "barpolar"
           }
          ],
          "carpet": [
           {
            "aaxis": {
             "endlinecolor": "#2a3f5f",
             "gridcolor": "white",
             "linecolor": "white",
             "minorgridcolor": "white",
             "startlinecolor": "#2a3f5f"
            },
            "baxis": {
             "endlinecolor": "#2a3f5f",
             "gridcolor": "white",
             "linecolor": "white",
             "minorgridcolor": "white",
             "startlinecolor": "#2a3f5f"
            },
            "type": "carpet"
           }
          ],
          "choropleth": [
           {
            "colorbar": {
             "outlinewidth": 0,
             "ticks": ""
            },
            "type": "choropleth"
           }
          ],
          "contour": [
           {
            "colorbar": {
             "outlinewidth": 0,
             "ticks": ""
            },
            "colorscale": [
             [
              0,
              "#0d0887"
             ],
             [
              0.1111111111111111,
              "#46039f"
             ],
             [
              0.2222222222222222,
              "#7201a8"
             ],
             [
              0.3333333333333333,
              "#9c179e"
             ],
             [
              0.4444444444444444,
              "#bd3786"
             ],
             [
              0.5555555555555556,
              "#d8576b"
             ],
             [
              0.6666666666666666,
              "#ed7953"
             ],
             [
              0.7777777777777778,
              "#fb9f3a"
             ],
             [
              0.8888888888888888,
              "#fdca26"
             ],
             [
              1,
              "#f0f921"
             ]
            ],
            "type": "contour"
           }
          ],
          "contourcarpet": [
           {
            "colorbar": {
             "outlinewidth": 0,
             "ticks": ""
            },
            "type": "contourcarpet"
           }
          ],
          "heatmap": [
           {
            "colorbar": {
             "outlinewidth": 0,
             "ticks": ""
            },
            "colorscale": [
             [
              0,
              "#0d0887"
             ],
             [
              0.1111111111111111,
              "#46039f"
             ],
             [
              0.2222222222222222,
              "#7201a8"
             ],
             [
              0.3333333333333333,
              "#9c179e"
             ],
             [
              0.4444444444444444,
              "#bd3786"
             ],
             [
              0.5555555555555556,
              "#d8576b"
             ],
             [
              0.6666666666666666,
              "#ed7953"
             ],
             [
              0.7777777777777778,
              "#fb9f3a"
             ],
             [
              0.8888888888888888,
              "#fdca26"
             ],
             [
              1,
              "#f0f921"
             ]
            ],
            "type": "heatmap"
           }
          ],
          "heatmapgl": [
           {
            "colorbar": {
             "outlinewidth": 0,
             "ticks": ""
            },
            "colorscale": [
             [
              0,
              "#0d0887"
             ],
             [
              0.1111111111111111,
              "#46039f"
             ],
             [
              0.2222222222222222,
              "#7201a8"
             ],
             [
              0.3333333333333333,
              "#9c179e"
             ],
             [
              0.4444444444444444,
              "#bd3786"
             ],
             [
              0.5555555555555556,
              "#d8576b"
             ],
             [
              0.6666666666666666,
              "#ed7953"
             ],
             [
              0.7777777777777778,
              "#fb9f3a"
             ],
             [
              0.8888888888888888,
              "#fdca26"
             ],
             [
              1,
              "#f0f921"
             ]
            ],
            "type": "heatmapgl"
           }
          ],
          "histogram": [
           {
            "marker": {
             "pattern": {
              "fillmode": "overlay",
              "size": 10,
              "solidity": 0.2
             }
            },
            "type": "histogram"
           }
          ],
          "histogram2d": [
           {
            "colorbar": {
             "outlinewidth": 0,
             "ticks": ""
            },
            "colorscale": [
             [
              0,
              "#0d0887"
             ],
             [
              0.1111111111111111,
              "#46039f"
             ],
             [
              0.2222222222222222,
              "#7201a8"
             ],
             [
              0.3333333333333333,
              "#9c179e"
             ],
             [
              0.4444444444444444,
              "#bd3786"
             ],
             [
              0.5555555555555556,
              "#d8576b"
             ],
             [
              0.6666666666666666,
              "#ed7953"
             ],
             [
              0.7777777777777778,
              "#fb9f3a"
             ],
             [
              0.8888888888888888,
              "#fdca26"
             ],
             [
              1,
              "#f0f921"
             ]
            ],
            "type": "histogram2d"
           }
          ],
          "histogram2dcontour": [
           {
            "colorbar": {
             "outlinewidth": 0,
             "ticks": ""
            },
            "colorscale": [
             [
              0,
              "#0d0887"
             ],
             [
              0.1111111111111111,
              "#46039f"
             ],
             [
              0.2222222222222222,
              "#7201a8"
             ],
             [
              0.3333333333333333,
              "#9c179e"
             ],
             [
              0.4444444444444444,
              "#bd3786"
             ],
             [
              0.5555555555555556,
              "#d8576b"
             ],
             [
              0.6666666666666666,
              "#ed7953"
             ],
             [
              0.7777777777777778,
              "#fb9f3a"
             ],
             [
              0.8888888888888888,
              "#fdca26"
             ],
             [
              1,
              "#f0f921"
             ]
            ],
            "type": "histogram2dcontour"
           }
          ],
          "mesh3d": [
           {
            "colorbar": {
             "outlinewidth": 0,
             "ticks": ""
            },
            "type": "mesh3d"
           }
          ],
          "parcoords": [
           {
            "line": {
             "colorbar": {
              "outlinewidth": 0,
              "ticks": ""
             }
            },
            "type": "parcoords"
           }
          ],
          "pie": [
           {
            "automargin": true,
            "type": "pie"
           }
          ],
          "scatter": [
           {
            "marker": {
             "colorbar": {
              "outlinewidth": 0,
              "ticks": ""
             }
            },
            "type": "scatter"
           }
          ],
          "scatter3d": [
           {
            "line": {
             "colorbar": {
              "outlinewidth": 0,
              "ticks": ""
             }
            },
            "marker": {
             "colorbar": {
              "outlinewidth": 0,
              "ticks": ""
             }
            },
            "type": "scatter3d"
           }
          ],
          "scattercarpet": [
           {
            "marker": {
             "colorbar": {
              "outlinewidth": 0,
              "ticks": ""
             }
            },
            "type": "scattercarpet"
           }
          ],
          "scattergeo": [
           {
            "marker": {
             "colorbar": {
              "outlinewidth": 0,
              "ticks": ""
             }
            },
            "type": "scattergeo"
           }
          ],
          "scattergl": [
           {
            "marker": {
             "colorbar": {
              "outlinewidth": 0,
              "ticks": ""
             }
            },
            "type": "scattergl"
           }
          ],
          "scattermapbox": [
           {
            "marker": {
             "colorbar": {
              "outlinewidth": 0,
              "ticks": ""
             }
            },
            "type": "scattermapbox"
           }
          ],
          "scatterpolar": [
           {
            "marker": {
             "colorbar": {
              "outlinewidth": 0,
              "ticks": ""
             }
            },
            "type": "scatterpolar"
           }
          ],
          "scatterpolargl": [
           {
            "marker": {
             "colorbar": {
              "outlinewidth": 0,
              "ticks": ""
             }
            },
            "type": "scatterpolargl"
           }
          ],
          "scatterternary": [
           {
            "marker": {
             "colorbar": {
              "outlinewidth": 0,
              "ticks": ""
             }
            },
            "type": "scatterternary"
           }
          ],
          "surface": [
           {
            "colorbar": {
             "outlinewidth": 0,
             "ticks": ""
            },
            "colorscale": [
             [
              0,
              "#0d0887"
             ],
             [
              0.1111111111111111,
              "#46039f"
             ],
             [
              0.2222222222222222,
              "#7201a8"
             ],
             [
              0.3333333333333333,
              "#9c179e"
             ],
             [
              0.4444444444444444,
              "#bd3786"
             ],
             [
              0.5555555555555556,
              "#d8576b"
             ],
             [
              0.6666666666666666,
              "#ed7953"
             ],
             [
              0.7777777777777778,
              "#fb9f3a"
             ],
             [
              0.8888888888888888,
              "#fdca26"
             ],
             [
              1,
              "#f0f921"
             ]
            ],
            "type": "surface"
           }
          ],
          "table": [
           {
            "cells": {
             "fill": {
              "color": "#EBF0F8"
             },
             "line": {
              "color": "white"
             }
            },
            "header": {
             "fill": {
              "color": "#C8D4E3"
             },
             "line": {
              "color": "white"
             }
            },
            "type": "table"
           }
          ]
         },
         "layout": {
          "annotationdefaults": {
           "arrowcolor": "#2a3f5f",
           "arrowhead": 0,
           "arrowwidth": 1
          },
          "autotypenumbers": "strict",
          "coloraxis": {
           "colorbar": {
            "outlinewidth": 0,
            "ticks": ""
           }
          },
          "colorscale": {
           "diverging": [
            [
             0,
             "#8e0152"
            ],
            [
             0.1,
             "#c51b7d"
            ],
            [
             0.2,
             "#de77ae"
            ],
            [
             0.3,
             "#f1b6da"
            ],
            [
             0.4,
             "#fde0ef"
            ],
            [
             0.5,
             "#f7f7f7"
            ],
            [
             0.6,
             "#e6f5d0"
            ],
            [
             0.7,
             "#b8e186"
            ],
            [
             0.8,
             "#7fbc41"
            ],
            [
             0.9,
             "#4d9221"
            ],
            [
             1,
             "#276419"
            ]
           ],
           "sequential": [
            [
             0,
             "#0d0887"
            ],
            [
             0.1111111111111111,
             "#46039f"
            ],
            [
             0.2222222222222222,
             "#7201a8"
            ],
            [
             0.3333333333333333,
             "#9c179e"
            ],
            [
             0.4444444444444444,
             "#bd3786"
            ],
            [
             0.5555555555555556,
             "#d8576b"
            ],
            [
             0.6666666666666666,
             "#ed7953"
            ],
            [
             0.7777777777777778,
             "#fb9f3a"
            ],
            [
             0.8888888888888888,
             "#fdca26"
            ],
            [
             1,
             "#f0f921"
            ]
           ],
           "sequentialminus": [
            [
             0,
             "#0d0887"
            ],
            [
             0.1111111111111111,
             "#46039f"
            ],
            [
             0.2222222222222222,
             "#7201a8"
            ],
            [
             0.3333333333333333,
             "#9c179e"
            ],
            [
             0.4444444444444444,
             "#bd3786"
            ],
            [
             0.5555555555555556,
             "#d8576b"
            ],
            [
             0.6666666666666666,
             "#ed7953"
            ],
            [
             0.7777777777777778,
             "#fb9f3a"
            ],
            [
             0.8888888888888888,
             "#fdca26"
            ],
            [
             1,
             "#f0f921"
            ]
           ]
          },
          "colorway": [
           "#636efa",
           "#EF553B",
           "#00cc96",
           "#ab63fa",
           "#FFA15A",
           "#19d3f3",
           "#FF6692",
           "#B6E880",
           "#FF97FF",
           "#FECB52"
          ],
          "font": {
           "color": "#2a3f5f"
          },
          "geo": {
           "bgcolor": "white",
           "lakecolor": "white",
           "landcolor": "#E5ECF6",
           "showlakes": true,
           "showland": true,
           "subunitcolor": "white"
          },
          "hoverlabel": {
           "align": "left"
          },
          "hovermode": "closest",
          "mapbox": {
           "style": "light"
          },
          "paper_bgcolor": "white",
          "plot_bgcolor": "#E5ECF6",
          "polar": {
           "angularaxis": {
            "gridcolor": "white",
            "linecolor": "white",
            "ticks": ""
           },
           "bgcolor": "#E5ECF6",
           "radialaxis": {
            "gridcolor": "white",
            "linecolor": "white",
            "ticks": ""
           }
          },
          "scene": {
           "xaxis": {
            "backgroundcolor": "#E5ECF6",
            "gridcolor": "white",
            "gridwidth": 2,
            "linecolor": "white",
            "showbackground": true,
            "ticks": "",
            "zerolinecolor": "white"
           },
           "yaxis": {
            "backgroundcolor": "#E5ECF6",
            "gridcolor": "white",
            "gridwidth": 2,
            "linecolor": "white",
            "showbackground": true,
            "ticks": "",
            "zerolinecolor": "white"
           },
           "zaxis": {
            "backgroundcolor": "#E5ECF6",
            "gridcolor": "white",
            "gridwidth": 2,
            "linecolor": "white",
            "showbackground": true,
            "ticks": "",
            "zerolinecolor": "white"
           }
          },
          "shapedefaults": {
           "line": {
            "color": "#2a3f5f"
           }
          },
          "ternary": {
           "aaxis": {
            "gridcolor": "white",
            "linecolor": "white",
            "ticks": ""
           },
           "baxis": {
            "gridcolor": "white",
            "linecolor": "white",
            "ticks": ""
           },
           "bgcolor": "#E5ECF6",
           "caxis": {
            "gridcolor": "white",
            "linecolor": "white",
            "ticks": ""
           }
          },
          "title": {
           "x": 0.05
          },
          "xaxis": {
           "automargin": true,
           "gridcolor": "white",
           "linecolor": "white",
           "ticks": "",
           "title": {
            "standoff": 15
           },
           "zerolinecolor": "white",
           "zerolinewidth": 2
          },
          "yaxis": {
           "automargin": true,
           "gridcolor": "white",
           "linecolor": "white",
           "ticks": "",
           "title": {
            "standoff": 15
           },
           "zerolinecolor": "white",
           "zerolinewidth": 2
          }
         }
        },
        "title": {
         "text": "Pertage votes for democrats for the top countys"
        },
        "xaxis": {
         "anchor": "y",
         "domain": [
          0,
          1
         ],
         "title": {
          "text": "County"
         }
        },
        "yaxis": {
         "anchor": "x",
         "domain": [
          0,
          1
         ],
         "title": {
          "text": "%"
         }
        }
       }
      },
      "text/html": [
       "<div>                            <div id=\"36a11cfd-504e-407c-82a6-5ce75e2a95e8\" class=\"plotly-graph-div\" style=\"height:525px; width:100%;\"></div>            <script type=\"text/javascript\">                require([\"plotly\"], function(Plotly) {                    window.PLOTLYENV=window.PLOTLYENV || {};                                    if (document.getElementById(\"36a11cfd-504e-407c-82a6-5ce75e2a95e8\")) {                    Plotly.newPlot(                        \"36a11cfd-504e-407c-82a6-5ce75e2a95e8\",                        [{\"alignmentgroup\":\"True\",\"hovertemplate\":\"County=%{x}<br>%=%{y}<extra></extra>\",\"legendgroup\":\"\",\"marker\":{\"color\":\"#636efa\",\"pattern\":{\"shape\":\"\"}},\"name\":\"\",\"offsetgroup\":\"\",\"orientation\":\"v\",\"showlegend\":false,\"textposition\":\"auto\",\"x\":[\"Lassen County\",\"Modoc County\",\"Tehama County\",\"Shasta County\",\"Glenn County\",\"Amador County\",\"Calaveras County\",\"Yuba County\",\"Sierra County\",\"Tuolumne County\",\"Mariposa County\",\"Plumas County\",\"Colusa County\",\"Sutter County\",\"Siskiyou County\",\"Del Norte County\",\"Kings County\",\"Madera County\",\"Kern County\",\"El Dorado County\",\"Tulare County\",\"Placer County\",\"Trinity County\",\"Inyo County\",\"Stanislaus County\",\"Butte County\",\"Lake County\",\"Fresno County\",\"Riverside County\",\"Orange County\",\"Merced County\",\"San Bernardino County\",\"San Luis Obispo County\",\"San Joaquin County\",\"Nevada County\",\"Ventura County\",\"Mono County\",\"San Diego County\",\"Imperial County\",\"San Benito County\",\"Sacramento County\",\"Solano County\",\"Alpine County\",\"Santa Barbara County\",\"Humboldt County\",\"Mendocino County\",\"Napa County\",\"Monterey County\",\"Yolo County\",\"Los Angeles County\",\"Contra Costa County\",\"Santa Clara County\",\"Sonoma County\",\"San Mateo County\",\"Santa Cruz County\",\"Alameda County\",\"Marin County\",\"San Francisco County\"],\"xaxis\":\"x\",\"y\":[76.21718072903391,72.99835642169523,68.2339940111222,66.9563493374748,63.872309640079585,62.49424970098445,62.181900316217444,61.14993426970179,61.00427350427351,59.625172750867975,59.274755927475596,58.55896783572597,58.47457627118644,58.39442288342676,58.07804920683477,58.008619141677144,56.28112506137336,55.90910820994937,55.223770354205136,54.50250751372743,53.99278973302525,53.4049538492394,52.79019705249214,49.92435703479576,49.596163553760725,49.14478195974021,46.76097491448118,46.0053316325817,45.94310943462684,45.38710653489048,44.572792686790066,44.550525716565545,43.298704300591986,42.90679752688363,42.413443568057275,39.21880100097922,38.507508427827155,38.35093791700112,37.54524988743809,37.52923665745269,37.046584396462215,34.49003458657842,33.88888888888889,33.59036070700412,32.718146021822115,31.5512854051226,29.330571829827072,28.891371090532413,28.76172410159132,27.441689434327927,26.855249682484196,25.776773135041843,23.618693245416654,20.590888157984374,19.079492573468475,18.078883984466184,16.096795291039896,12.982168703531974],\"yaxis\":\"y\",\"type\":\"bar\"}],                        {\"template\":{\"data\":{\"bar\":[{\"error_x\":{\"color\":\"#2a3f5f\"},\"error_y\":{\"color\":\"#2a3f5f\"},\"marker\":{\"line\":{\"color\":\"#E5ECF6\",\"width\":0.5},\"pattern\":{\"fillmode\":\"overlay\",\"size\":10,\"solidity\":0.2}},\"type\":\"bar\"}],\"barpolar\":[{\"marker\":{\"line\":{\"color\":\"#E5ECF6\",\"width\":0.5},\"pattern\":{\"fillmode\":\"overlay\",\"size\":10,\"solidity\":0.2}},\"type\":\"barpolar\"}],\"carpet\":[{\"aaxis\":{\"endlinecolor\":\"#2a3f5f\",\"gridcolor\":\"white\",\"linecolor\":\"white\",\"minorgridcolor\":\"white\",\"startlinecolor\":\"#2a3f5f\"},\"baxis\":{\"endlinecolor\":\"#2a3f5f\",\"gridcolor\":\"white\",\"linecolor\":\"white\",\"minorgridcolor\":\"white\",\"startlinecolor\":\"#2a3f5f\"},\"type\":\"carpet\"}],\"choropleth\":[{\"colorbar\":{\"outlinewidth\":0,\"ticks\":\"\"},\"type\":\"choropleth\"}],\"contour\":[{\"colorbar\":{\"outlinewidth\":0,\"ticks\":\"\"},\"colorscale\":[[0.0,\"#0d0887\"],[0.1111111111111111,\"#46039f\"],[0.2222222222222222,\"#7201a8\"],[0.3333333333333333,\"#9c179e\"],[0.4444444444444444,\"#bd3786\"],[0.5555555555555556,\"#d8576b\"],[0.6666666666666666,\"#ed7953\"],[0.7777777777777778,\"#fb9f3a\"],[0.8888888888888888,\"#fdca26\"],[1.0,\"#f0f921\"]],\"type\":\"contour\"}],\"contourcarpet\":[{\"colorbar\":{\"outlinewidth\":0,\"ticks\":\"\"},\"type\":\"contourcarpet\"}],\"heatmap\":[{\"colorbar\":{\"outlinewidth\":0,\"ticks\":\"\"},\"colorscale\":[[0.0,\"#0d0887\"],[0.1111111111111111,\"#46039f\"],[0.2222222222222222,\"#7201a8\"],[0.3333333333333333,\"#9c179e\"],[0.4444444444444444,\"#bd3786\"],[0.5555555555555556,\"#d8576b\"],[0.6666666666666666,\"#ed7953\"],[0.7777777777777778,\"#fb9f3a\"],[0.8888888888888888,\"#fdca26\"],[1.0,\"#f0f921\"]],\"type\":\"heatmap\"}],\"heatmapgl\":[{\"colorbar\":{\"outlinewidth\":0,\"ticks\":\"\"},\"colorscale\":[[0.0,\"#0d0887\"],[0.1111111111111111,\"#46039f\"],[0.2222222222222222,\"#7201a8\"],[0.3333333333333333,\"#9c179e\"],[0.4444444444444444,\"#bd3786\"],[0.5555555555555556,\"#d8576b\"],[0.6666666666666666,\"#ed7953\"],[0.7777777777777778,\"#fb9f3a\"],[0.8888888888888888,\"#fdca26\"],[1.0,\"#f0f921\"]],\"type\":\"heatmapgl\"}],\"histogram\":[{\"marker\":{\"pattern\":{\"fillmode\":\"overlay\",\"size\":10,\"solidity\":0.2}},\"type\":\"histogram\"}],\"histogram2d\":[{\"colorbar\":{\"outlinewidth\":0,\"ticks\":\"\"},\"colorscale\":[[0.0,\"#0d0887\"],[0.1111111111111111,\"#46039f\"],[0.2222222222222222,\"#7201a8\"],[0.3333333333333333,\"#9c179e\"],[0.4444444444444444,\"#bd3786\"],[0.5555555555555556,\"#d8576b\"],[0.6666666666666666,\"#ed7953\"],[0.7777777777777778,\"#fb9f3a\"],[0.8888888888888888,\"#fdca26\"],[1.0,\"#f0f921\"]],\"type\":\"histogram2d\"}],\"histogram2dcontour\":[{\"colorbar\":{\"outlinewidth\":0,\"ticks\":\"\"},\"colorscale\":[[0.0,\"#0d0887\"],[0.1111111111111111,\"#46039f\"],[0.2222222222222222,\"#7201a8\"],[0.3333333333333333,\"#9c179e\"],[0.4444444444444444,\"#bd3786\"],[0.5555555555555556,\"#d8576b\"],[0.6666666666666666,\"#ed7953\"],[0.7777777777777778,\"#fb9f3a\"],[0.8888888888888888,\"#fdca26\"],[1.0,\"#f0f921\"]],\"type\":\"histogram2dcontour\"}],\"mesh3d\":[{\"colorbar\":{\"outlinewidth\":0,\"ticks\":\"\"},\"type\":\"mesh3d\"}],\"parcoords\":[{\"line\":{\"colorbar\":{\"outlinewidth\":0,\"ticks\":\"\"}},\"type\":\"parcoords\"}],\"pie\":[{\"automargin\":true,\"type\":\"pie\"}],\"scatter\":[{\"marker\":{\"colorbar\":{\"outlinewidth\":0,\"ticks\":\"\"}},\"type\":\"scatter\"}],\"scatter3d\":[{\"line\":{\"colorbar\":{\"outlinewidth\":0,\"ticks\":\"\"}},\"marker\":{\"colorbar\":{\"outlinewidth\":0,\"ticks\":\"\"}},\"type\":\"scatter3d\"}],\"scattercarpet\":[{\"marker\":{\"colorbar\":{\"outlinewidth\":0,\"ticks\":\"\"}},\"type\":\"scattercarpet\"}],\"scattergeo\":[{\"marker\":{\"colorbar\":{\"outlinewidth\":0,\"ticks\":\"\"}},\"type\":\"scattergeo\"}],\"scattergl\":[{\"marker\":{\"colorbar\":{\"outlinewidth\":0,\"ticks\":\"\"}},\"type\":\"scattergl\"}],\"scattermapbox\":[{\"marker\":{\"colorbar\":{\"outlinewidth\":0,\"ticks\":\"\"}},\"type\":\"scattermapbox\"}],\"scatterpolar\":[{\"marker\":{\"colorbar\":{\"outlinewidth\":0,\"ticks\":\"\"}},\"type\":\"scatterpolar\"}],\"scatterpolargl\":[{\"marker\":{\"colorbar\":{\"outlinewidth\":0,\"ticks\":\"\"}},\"type\":\"scatterpolargl\"}],\"scatterternary\":[{\"marker\":{\"colorbar\":{\"outlinewidth\":0,\"ticks\":\"\"}},\"type\":\"scatterternary\"}],\"surface\":[{\"colorbar\":{\"outlinewidth\":0,\"ticks\":\"\"},\"colorscale\":[[0.0,\"#0d0887\"],[0.1111111111111111,\"#46039f\"],[0.2222222222222222,\"#7201a8\"],[0.3333333333333333,\"#9c179e\"],[0.4444444444444444,\"#bd3786\"],[0.5555555555555556,\"#d8576b\"],[0.6666666666666666,\"#ed7953\"],[0.7777777777777778,\"#fb9f3a\"],[0.8888888888888888,\"#fdca26\"],[1.0,\"#f0f921\"]],\"type\":\"surface\"}],\"table\":[{\"cells\":{\"fill\":{\"color\":\"#EBF0F8\"},\"line\":{\"color\":\"white\"}},\"header\":{\"fill\":{\"color\":\"#C8D4E3\"},\"line\":{\"color\":\"white\"}},\"type\":\"table\"}]},\"layout\":{\"annotationdefaults\":{\"arrowcolor\":\"#2a3f5f\",\"arrowhead\":0,\"arrowwidth\":1},\"autotypenumbers\":\"strict\",\"coloraxis\":{\"colorbar\":{\"outlinewidth\":0,\"ticks\":\"\"}},\"colorscale\":{\"diverging\":[[0,\"#8e0152\"],[0.1,\"#c51b7d\"],[0.2,\"#de77ae\"],[0.3,\"#f1b6da\"],[0.4,\"#fde0ef\"],[0.5,\"#f7f7f7\"],[0.6,\"#e6f5d0\"],[0.7,\"#b8e186\"],[0.8,\"#7fbc41\"],[0.9,\"#4d9221\"],[1,\"#276419\"]],\"sequential\":[[0.0,\"#0d0887\"],[0.1111111111111111,\"#46039f\"],[0.2222222222222222,\"#7201a8\"],[0.3333333333333333,\"#9c179e\"],[0.4444444444444444,\"#bd3786\"],[0.5555555555555556,\"#d8576b\"],[0.6666666666666666,\"#ed7953\"],[0.7777777777777778,\"#fb9f3a\"],[0.8888888888888888,\"#fdca26\"],[1.0,\"#f0f921\"]],\"sequentialminus\":[[0.0,\"#0d0887\"],[0.1111111111111111,\"#46039f\"],[0.2222222222222222,\"#7201a8\"],[0.3333333333333333,\"#9c179e\"],[0.4444444444444444,\"#bd3786\"],[0.5555555555555556,\"#d8576b\"],[0.6666666666666666,\"#ed7953\"],[0.7777777777777778,\"#fb9f3a\"],[0.8888888888888888,\"#fdca26\"],[1.0,\"#f0f921\"]]},\"colorway\":[\"#636efa\",\"#EF553B\",\"#00cc96\",\"#ab63fa\",\"#FFA15A\",\"#19d3f3\",\"#FF6692\",\"#B6E880\",\"#FF97FF\",\"#FECB52\"],\"font\":{\"color\":\"#2a3f5f\"},\"geo\":{\"bgcolor\":\"white\",\"lakecolor\":\"white\",\"landcolor\":\"#E5ECF6\",\"showlakes\":true,\"showland\":true,\"subunitcolor\":\"white\"},\"hoverlabel\":{\"align\":\"left\"},\"hovermode\":\"closest\",\"mapbox\":{\"style\":\"light\"},\"paper_bgcolor\":\"white\",\"plot_bgcolor\":\"#E5ECF6\",\"polar\":{\"angularaxis\":{\"gridcolor\":\"white\",\"linecolor\":\"white\",\"ticks\":\"\"},\"bgcolor\":\"#E5ECF6\",\"radialaxis\":{\"gridcolor\":\"white\",\"linecolor\":\"white\",\"ticks\":\"\"}},\"scene\":{\"xaxis\":{\"backgroundcolor\":\"#E5ECF6\",\"gridcolor\":\"white\",\"gridwidth\":2,\"linecolor\":\"white\",\"showbackground\":true,\"ticks\":\"\",\"zerolinecolor\":\"white\"},\"yaxis\":{\"backgroundcolor\":\"#E5ECF6\",\"gridcolor\":\"white\",\"gridwidth\":2,\"linecolor\":\"white\",\"showbackground\":true,\"ticks\":\"\",\"zerolinecolor\":\"white\"},\"zaxis\":{\"backgroundcolor\":\"#E5ECF6\",\"gridcolor\":\"white\",\"gridwidth\":2,\"linecolor\":\"white\",\"showbackground\":true,\"ticks\":\"\",\"zerolinecolor\":\"white\"}},\"shapedefaults\":{\"line\":{\"color\":\"#2a3f5f\"}},\"ternary\":{\"aaxis\":{\"gridcolor\":\"white\",\"linecolor\":\"white\",\"ticks\":\"\"},\"baxis\":{\"gridcolor\":\"white\",\"linecolor\":\"white\",\"ticks\":\"\"},\"bgcolor\":\"#E5ECF6\",\"caxis\":{\"gridcolor\":\"white\",\"linecolor\":\"white\",\"ticks\":\"\"}},\"title\":{\"x\":0.05},\"xaxis\":{\"automargin\":true,\"gridcolor\":\"white\",\"linecolor\":\"white\",\"ticks\":\"\",\"title\":{\"standoff\":15},\"zerolinecolor\":\"white\",\"zerolinewidth\":2},\"yaxis\":{\"automargin\":true,\"gridcolor\":\"white\",\"linecolor\":\"white\",\"ticks\":\"\",\"title\":{\"standoff\":15},\"zerolinecolor\":\"white\",\"zerolinewidth\":2}}},\"xaxis\":{\"anchor\":\"y\",\"domain\":[0.0,1.0],\"title\":{\"text\":\"County\"}},\"yaxis\":{\"anchor\":\"x\",\"domain\":[0.0,1.0],\"title\":{\"text\":\"%\"}},\"legend\":{\"tracegroupgap\":0},\"title\":{\"text\":\"Pertage votes for democrats for the top countys\"},\"barmode\":\"relative\",\"shapes\":[{\"line\":{\"color\":\"green\",\"dash\":\"dash\",\"width\":3},\"type\":\"line\",\"x0\":0,\"x1\":1,\"xref\":\"x domain\",\"y0\":50,\"y1\":50,\"yref\":\"y\"}],\"annotations\":[{\"showarrow\":false,\"text\":\"50%\",\"x\":1,\"xanchor\":\"right\",\"xref\":\"x domain\",\"y\":50,\"yanchor\":\"top\",\"yref\":\"y\"}]},                        {\"responsive\": true}                    ).then(function(){\n",
       "                            \n",
       "var gd = document.getElementById('36a11cfd-504e-407c-82a6-5ce75e2a95e8');\n",
       "var x = new MutationObserver(function (mutations, observer) {{\n",
       "        var display = window.getComputedStyle(gd).display;\n",
       "        if (!display || display === 'none') {{\n",
       "            console.log([gd, 'removed!']);\n",
       "            Plotly.purge(gd);\n",
       "            observer.disconnect();\n",
       "        }}\n",
       "}});\n",
       "\n",
       "// Listen for the removal of the full notebook cells\n",
       "var notebookContainer = gd.closest('#notebook-container');\n",
       "if (notebookContainer) {{\n",
       "    x.observe(notebookContainer, {childList: true});\n",
       "}}\n",
       "\n",
       "// Listen for the clearing of the current output cell\n",
       "var outputEl = gd.closest('.output');\n",
       "if (outputEl) {{\n",
       "    x.observe(outputEl, {childList: true});\n",
       "}}\n",
       "\n",
       "                        })                };                });            </script>        </div>"
      ]
     },
     "metadata": {},
     "output_type": "display_data"
    }
   ],
   "source": [
    "\n",
    "fig = px.bar(top_countys.reset_index(),x=\"county_name\", y=\"Democrats\",\n",
    "             title=\"Pertage votes for democrats for the top countys\", \n",
    "             labels={\"Democrats\": \"%\",\n",
    "                    \"county_name\": \"County\"\n",
    "                    }\n",
    "                     )\n",
    "fig.add_hline(y=50, line_width=3, line_dash=\"dash\", line_color=\"green\",\n",
    "              annotation_text=\"50%\", \n",
    "              annotation_position=\"bottom right\")\n",
    "fig"
   ]
  },
  {
   "cell_type": "code",
   "execution_count": 86,
   "metadata": {},
   "outputs": [],
   "source": [
    "# import plotly.graph_objects as go\n",
    "\n",
    "# fig = go.Figure()\n",
    "\n",
    "# for col in df:\n",
    "#     fig.add_trace(go.Box(y=df_top_10_states[per_dem].values, name=df_top_10_states[col].name))\n",
    "  \n",
    "# fig.show()"
   ]
  },
  {
   "cell_type": "code",
   "execution_count": 103,
   "metadata": {},
   "outputs": [],
   "source": [
    "# Tools\n",
    "def upper_consistent(df):\n",
    "    df = df.apply(lambda x: x.str.upper() if x.dtype == \"object\" else x) \n",
    "    return df\n",
    "\n",
    "# Standardise columns names \n",
    "def standard_name_cols(data_columns):\n",
    "\n",
    "    data_columns = data_columns.str.upper()\n",
    "    col_names = [re.sub(r'[^a-zA-Z0-9]', '_', col) for col in data_columns]\n",
    "\n",
    "    return col_names\n",
    "\n",
    "\n",
    "def read_excel(path):\n",
    "    with open(path, mode=\"rb\") as excel_file:\n",
    "        _excel_file = pd.read_excel(excel_file, \n",
    "        #converters={'FIPS Code': str}\n",
    "        ) \n",
    "    print(f\"\\n========== File name {file}\\n\")\n",
    "    print(_excel_file.columns[0])\n",
    "\n",
    "    _excel_file.set_index(_excel_file.columns[0], inplace=True)\n",
    "\n",
    "    # drop nan\n",
    "    _excel_file = _excel_file.dropna(how=\"all\")\n",
    "    _excel_file = _excel_file.reset_index()\n",
    "    \n",
    "    # set header\n",
    "    header_row = _excel_file.iloc[0]\n",
    "    \n",
    "    df = pd.DataFrame(_excel_file.values[1:], columns=header_row)\n",
    "\n",
    "    return df"
   ]
  },
  {
   "cell_type": "code",
   "execution_count": null,
   "metadata": {},
   "outputs": [],
   "source": [
    "# next: explorer les fichiers des explicatives et croisser avec y"
   ]
  },
  {
   "cell_type": "markdown",
   "metadata": {},
   "source": [
    "### Explore target 2020"
   ]
  },
  {
   "cell_type": "code",
   "execution_count": 126,
   "metadata": {},
   "outputs": [
    {
     "data": {
      "text/html": [
       "<div>\n",
       "<style scoped>\n",
       "    .dataframe tbody tr th:only-of-type {\n",
       "        vertical-align: middle;\n",
       "    }\n",
       "\n",
       "    .dataframe tbody tr th {\n",
       "        vertical-align: top;\n",
       "    }\n",
       "\n",
       "    .dataframe thead th {\n",
       "        text-align: right;\n",
       "    }\n",
       "</style>\n",
       "<table border=\"1\" class=\"dataframe\">\n",
       "  <thead>\n",
       "    <tr style=\"text-align: right;\">\n",
       "      <th></th>\n",
       "      <th>STATE_NAME</th>\n",
       "      <th>COUNTY_FIPS</th>\n",
       "      <th>COUNTY_NAME</th>\n",
       "      <th>VOTES_GOP</th>\n",
       "      <th>VOTES_DEM</th>\n",
       "      <th>TOTAL_VOTES</th>\n",
       "      <th>DIFF</th>\n",
       "      <th>PER_GOP</th>\n",
       "      <th>PER_DEM</th>\n",
       "      <th>PER_POINT_DIFF</th>\n",
       "    </tr>\n",
       "  </thead>\n",
       "  <tbody>\n",
       "    <tr>\n",
       "      <th>0</th>\n",
       "      <td>ALABAMA</td>\n",
       "      <td>01001</td>\n",
       "      <td>AUTAUGA COUNTY</td>\n",
       "      <td>19838</td>\n",
       "      <td>7503</td>\n",
       "      <td>27770</td>\n",
       "      <td>12335</td>\n",
       "      <td>0.714368</td>\n",
       "      <td>0.270184</td>\n",
       "      <td>0.444184</td>\n",
       "    </tr>\n",
       "    <tr>\n",
       "      <th>1</th>\n",
       "      <td>ALABAMA</td>\n",
       "      <td>01003</td>\n",
       "      <td>BALDWIN COUNTY</td>\n",
       "      <td>83544</td>\n",
       "      <td>24578</td>\n",
       "      <td>109679</td>\n",
       "      <td>58966</td>\n",
       "      <td>0.761714</td>\n",
       "      <td>0.224090</td>\n",
       "      <td>0.537623</td>\n",
       "    </tr>\n",
       "    <tr>\n",
       "      <th>2</th>\n",
       "      <td>ALABAMA</td>\n",
       "      <td>01005</td>\n",
       "      <td>BARBOUR COUNTY</td>\n",
       "      <td>5622</td>\n",
       "      <td>4816</td>\n",
       "      <td>10518</td>\n",
       "      <td>806</td>\n",
       "      <td>0.534512</td>\n",
       "      <td>0.457882</td>\n",
       "      <td>0.076631</td>\n",
       "    </tr>\n",
       "    <tr>\n",
       "      <th>3</th>\n",
       "      <td>ALABAMA</td>\n",
       "      <td>01007</td>\n",
       "      <td>BIBB COUNTY</td>\n",
       "      <td>7525</td>\n",
       "      <td>1986</td>\n",
       "      <td>9595</td>\n",
       "      <td>5539</td>\n",
       "      <td>0.784263</td>\n",
       "      <td>0.206983</td>\n",
       "      <td>0.577280</td>\n",
       "    </tr>\n",
       "    <tr>\n",
       "      <th>4</th>\n",
       "      <td>ALABAMA</td>\n",
       "      <td>01009</td>\n",
       "      <td>BLOUNT COUNTY</td>\n",
       "      <td>24711</td>\n",
       "      <td>2640</td>\n",
       "      <td>27588</td>\n",
       "      <td>22071</td>\n",
       "      <td>0.895716</td>\n",
       "      <td>0.095694</td>\n",
       "      <td>0.800022</td>\n",
       "    </tr>\n",
       "    <tr>\n",
       "      <th>...</th>\n",
       "      <td>...</td>\n",
       "      <td>...</td>\n",
       "      <td>...</td>\n",
       "      <td>...</td>\n",
       "      <td>...</td>\n",
       "      <td>...</td>\n",
       "      <td>...</td>\n",
       "      <td>...</td>\n",
       "      <td>...</td>\n",
       "      <td>...</td>\n",
       "    </tr>\n",
       "    <tr>\n",
       "      <th>3147</th>\n",
       "      <td>WYOMING</td>\n",
       "      <td>56037</td>\n",
       "      <td>SWEETWATER COUNTY</td>\n",
       "      <td>12229</td>\n",
       "      <td>3823</td>\n",
       "      <td>16603</td>\n",
       "      <td>8406</td>\n",
       "      <td>0.736554</td>\n",
       "      <td>0.230260</td>\n",
       "      <td>0.506294</td>\n",
       "    </tr>\n",
       "    <tr>\n",
       "      <th>3148</th>\n",
       "      <td>WYOMING</td>\n",
       "      <td>56039</td>\n",
       "      <td>TETON COUNTY</td>\n",
       "      <td>4341</td>\n",
       "      <td>9848</td>\n",
       "      <td>14677</td>\n",
       "      <td>-5507</td>\n",
       "      <td>0.295769</td>\n",
       "      <td>0.670982</td>\n",
       "      <td>-0.375213</td>\n",
       "    </tr>\n",
       "    <tr>\n",
       "      <th>3149</th>\n",
       "      <td>WYOMING</td>\n",
       "      <td>56041</td>\n",
       "      <td>UINTA COUNTY</td>\n",
       "      <td>7496</td>\n",
       "      <td>1591</td>\n",
       "      <td>9402</td>\n",
       "      <td>5905</td>\n",
       "      <td>0.797277</td>\n",
       "      <td>0.169219</td>\n",
       "      <td>0.628058</td>\n",
       "    </tr>\n",
       "    <tr>\n",
       "      <th>3150</th>\n",
       "      <td>WYOMING</td>\n",
       "      <td>56043</td>\n",
       "      <td>WASHAKIE COUNTY</td>\n",
       "      <td>3245</td>\n",
       "      <td>651</td>\n",
       "      <td>4012</td>\n",
       "      <td>2594</td>\n",
       "      <td>0.808824</td>\n",
       "      <td>0.162263</td>\n",
       "      <td>0.646560</td>\n",
       "    </tr>\n",
       "    <tr>\n",
       "      <th>3151</th>\n",
       "      <td>WYOMING</td>\n",
       "      <td>56045</td>\n",
       "      <td>WESTON COUNTY</td>\n",
       "      <td>3107</td>\n",
       "      <td>360</td>\n",
       "      <td>3542</td>\n",
       "      <td>2747</td>\n",
       "      <td>0.877188</td>\n",
       "      <td>0.101637</td>\n",
       "      <td>0.775551</td>\n",
       "    </tr>\n",
       "  </tbody>\n",
       "</table>\n",
       "<p>3152 rows × 10 columns</p>\n",
       "</div>"
      ],
      "text/plain": [
       "     STATE_NAME COUNTY_FIPS        COUNTY_NAME  VOTES_GOP  VOTES_DEM  \\\n",
       "0       ALABAMA       01001     AUTAUGA COUNTY      19838       7503   \n",
       "1       ALABAMA       01003     BALDWIN COUNTY      83544      24578   \n",
       "2       ALABAMA       01005     BARBOUR COUNTY       5622       4816   \n",
       "3       ALABAMA       01007        BIBB COUNTY       7525       1986   \n",
       "4       ALABAMA       01009      BLOUNT COUNTY      24711       2640   \n",
       "...         ...         ...                ...        ...        ...   \n",
       "3147    WYOMING       56037  SWEETWATER COUNTY      12229       3823   \n",
       "3148    WYOMING       56039       TETON COUNTY       4341       9848   \n",
       "3149    WYOMING       56041       UINTA COUNTY       7496       1591   \n",
       "3150    WYOMING       56043    WASHAKIE COUNTY       3245        651   \n",
       "3151    WYOMING       56045      WESTON COUNTY       3107        360   \n",
       "\n",
       "      TOTAL_VOTES   DIFF   PER_GOP   PER_DEM  PER_POINT_DIFF  \n",
       "0           27770  12335  0.714368  0.270184        0.444184  \n",
       "1          109679  58966  0.761714  0.224090        0.537623  \n",
       "2           10518    806  0.534512  0.457882        0.076631  \n",
       "3            9595   5539  0.784263  0.206983        0.577280  \n",
       "4           27588  22071  0.895716  0.095694        0.800022  \n",
       "...           ...    ...       ...       ...             ...  \n",
       "3147        16603   8406  0.736554  0.230260        0.506294  \n",
       "3148        14677  -5507  0.295769  0.670982       -0.375213  \n",
       "3149         9402   5905  0.797277  0.169219        0.628058  \n",
       "3150         4012   2594  0.808824  0.162263        0.646560  \n",
       "3151         3542   2747  0.877188  0.101637        0.775551  \n",
       "\n",
       "[3152 rows x 10 columns]"
      ]
     },
     "execution_count": 126,
     "metadata": {},
     "output_type": "execute_result"
    }
   ],
   "source": [
    "input_y = \"2020_US_County_Level_Presidential_Results.csv\"\n",
    "df_presidential_2020 = pd.read_csv(f\"{dir_path}data/{input_y}\",\n",
    "                        converters={'county_fips': str})\n",
    "df_presidential_2020.columns = standard_name_cols(df_presidential_2020.columns)\n",
    "df_presidential_2020[[\"STATE_NAME\",\"COUNTY_NAME\"]] = upper_consistent(df_presidential_2020[[\"STATE_NAME\",\"COUNTY_NAME\"]])\n",
    "df_presidential_2020"
   ]
  },
  {
   "cell_type": "code",
   "execution_count": 127,
   "metadata": {},
   "outputs": [
    {
     "data": {
      "text/html": [
       "<div>\n",
       "<style scoped>\n",
       "    .dataframe tbody tr th:only-of-type {\n",
       "        vertical-align: middle;\n",
       "    }\n",
       "\n",
       "    .dataframe tbody tr th {\n",
       "        vertical-align: top;\n",
       "    }\n",
       "\n",
       "    .dataframe thead th {\n",
       "        text-align: right;\n",
       "    }\n",
       "</style>\n",
       "<table border=\"1\" class=\"dataframe\">\n",
       "  <thead>\n",
       "    <tr style=\"text-align: right;\">\n",
       "      <th></th>\n",
       "      <th>STATE_NAME</th>\n",
       "      <th>COUNTY_FIPS</th>\n",
       "      <th>COUNTY_NAME</th>\n",
       "      <th>VOTES_GOP</th>\n",
       "      <th>VOTES_DEM</th>\n",
       "      <th>TOTAL_VOTES</th>\n",
       "      <th>DIFF</th>\n",
       "      <th>PER_GOP</th>\n",
       "      <th>PER_DEM</th>\n",
       "      <th>PER_POINT_DIFF</th>\n",
       "    </tr>\n",
       "  </thead>\n",
       "  <tbody>\n",
       "    <tr>\n",
       "      <th>327</th>\n",
       "      <td>DELAWARE</td>\n",
       "      <td>10001</td>\n",
       "      <td>KENT COUNTY</td>\n",
       "      <td>41009</td>\n",
       "      <td>44552</td>\n",
       "      <td>87025</td>\n",
       "      <td>-3543</td>\n",
       "      <td>0.471232</td>\n",
       "      <td>0.511945</td>\n",
       "      <td>-0.040712</td>\n",
       "    </tr>\n",
       "    <tr>\n",
       "      <th>1216</th>\n",
       "      <td>MARYLAND</td>\n",
       "      <td>24029</td>\n",
       "      <td>KENT COUNTY</td>\n",
       "      <td>5195</td>\n",
       "      <td>5329</td>\n",
       "      <td>10794</td>\n",
       "      <td>-134</td>\n",
       "      <td>0.481286</td>\n",
       "      <td>0.493700</td>\n",
       "      <td>-0.012414</td>\n",
       "    </tr>\n",
       "    <tr>\n",
       "      <th>1281</th>\n",
       "      <td>MICHIGAN</td>\n",
       "      <td>26081</td>\n",
       "      <td>KENT COUNTY</td>\n",
       "      <td>165741</td>\n",
       "      <td>187915</td>\n",
       "      <td>361048</td>\n",
       "      <td>-22174</td>\n",
       "      <td>0.459055</td>\n",
       "      <td>0.520471</td>\n",
       "      <td>-0.061416</td>\n",
       "    </tr>\n",
       "    <tr>\n",
       "      <th>2322</th>\n",
       "      <td>RHODE ISLAND</td>\n",
       "      <td>44003</td>\n",
       "      <td>KENT COUNTY</td>\n",
       "      <td>42001</td>\n",
       "      <td>49113</td>\n",
       "      <td>93093</td>\n",
       "      <td>-7112</td>\n",
       "      <td>0.451172</td>\n",
       "      <td>0.527569</td>\n",
       "      <td>-0.076397</td>\n",
       "    </tr>\n",
       "    <tr>\n",
       "      <th>2664</th>\n",
       "      <td>TEXAS</td>\n",
       "      <td>48263</td>\n",
       "      <td>KENT COUNTY</td>\n",
       "      <td>411</td>\n",
       "      <td>47</td>\n",
       "      <td>462</td>\n",
       "      <td>364</td>\n",
       "      <td>0.889610</td>\n",
       "      <td>0.101732</td>\n",
       "      <td>0.787879</td>\n",
       "    </tr>\n",
       "  </tbody>\n",
       "</table>\n",
       "</div>"
      ],
      "text/plain": [
       "        STATE_NAME COUNTY_FIPS  COUNTY_NAME  VOTES_GOP  VOTES_DEM  \\\n",
       "327       DELAWARE       10001  KENT COUNTY      41009      44552   \n",
       "1216      MARYLAND       24029  KENT COUNTY       5195       5329   \n",
       "1281      MICHIGAN       26081  KENT COUNTY     165741     187915   \n",
       "2322  RHODE ISLAND       44003  KENT COUNTY      42001      49113   \n",
       "2664         TEXAS       48263  KENT COUNTY        411         47   \n",
       "\n",
       "      TOTAL_VOTES   DIFF   PER_GOP   PER_DEM  PER_POINT_DIFF  \n",
       "327         87025  -3543  0.471232  0.511945       -0.040712  \n",
       "1216        10794   -134  0.481286  0.493700       -0.012414  \n",
       "1281       361048 -22174  0.459055  0.520471       -0.061416  \n",
       "2322        93093  -7112  0.451172  0.527569       -0.076397  \n",
       "2664          462    364  0.889610  0.101732        0.787879  "
      ]
     },
     "execution_count": 127,
     "metadata": {},
     "output_type": "execute_result"
    }
   ],
   "source": [
    "df_presidential_2020[df_presidential_2020[\"COUNTY_NAME\"]==\"KENT COUNTY\"]"
   ]
  },
  {
   "cell_type": "code",
   "execution_count": 179,
   "metadata": {},
   "outputs": [],
   "source": [
    "state_list = df_presidential_2020[\"STATE_NAME\"].unique()\n",
    "county_fips_list = df_presidential_2020[\"COUNTY_FIPS\"].unique()\n",
    "county_name_list = df_presidential_2020[\"COUNTY_NAME\"].unique()"
   ]
  },
  {
   "cell_type": "code",
   "execution_count": 180,
   "metadata": {},
   "outputs": [
    {
     "name": "stdout",
     "output_type": "stream",
     "text": [
      "Nb of states : 51\n",
      "Nb of county fips : 3152\n",
      "Nb of countys : 1887\n"
     ]
    }
   ],
   "source": [
    "print(f\"Nb of states : {len(state_list)}\")\n",
    "print(f\"Nb of county fips : {len(county_fips_list)}\")\n",
    "print(f\"Nb of countys : {len(county_name_list)}\")"
   ]
  },
  {
   "cell_type": "markdown",
   "metadata": {},
   "source": [
    "# Exploration des variables explicatives"
   ]
  },
  {
   "cell_type": "markdown",
   "metadata": {},
   "source": [
    "### Population Estimates data\n"
   ]
  },
  {
   "cell_type": "code",
   "execution_count": 133,
   "metadata": {},
   "outputs": [
    {
     "name": "stdout",
     "output_type": "stream",
     "text": [
      "\n",
      "========== File name README.md\n",
      "\n",
      "Population estimates for the U.S., States, and counties, 2010-19 (see the second tab in this workbook for variable name descriptions)\n"
     ]
    },
    {
     "data": {
      "text/html": [
       "<div>\n",
       "<style scoped>\n",
       "    .dataframe tbody tr th:only-of-type {\n",
       "        vertical-align: middle;\n",
       "    }\n",
       "\n",
       "    .dataframe tbody tr th {\n",
       "        vertical-align: top;\n",
       "    }\n",
       "\n",
       "    .dataframe thead th {\n",
       "        text-align: right;\n",
       "    }\n",
       "</style>\n",
       "<table border=\"1\" class=\"dataframe\">\n",
       "  <thead>\n",
       "    <tr style=\"text-align: right;\">\n",
       "      <th></th>\n",
       "      <th>FIPSTXT</th>\n",
       "      <th>STATE</th>\n",
       "      <th>AREA_NAME</th>\n",
       "      <th>RURAL_URBAN_CONTINUUM_CODE_2003</th>\n",
       "      <th>RURAL_URBAN_CONTINUUM_CODE_2013</th>\n",
       "      <th>URBAN_INFLUENCE_CODE_2003</th>\n",
       "      <th>URBAN_INFLUENCE_CODE_2013</th>\n",
       "      <th>ECONOMIC_TYPOLOGY_2015</th>\n",
       "      <th>CENSUS_2010_POP</th>\n",
       "      <th>ESTIMATES_BASE_2010</th>\n",
       "      <th>...</th>\n",
       "      <th>R_DOMESTIC_MIG_2019</th>\n",
       "      <th>R_NET_MIG_2011</th>\n",
       "      <th>R_NET_MIG_2012</th>\n",
       "      <th>R_NET_MIG_2013</th>\n",
       "      <th>R_NET_MIG_2014</th>\n",
       "      <th>R_NET_MIG_2015</th>\n",
       "      <th>R_NET_MIG_2016</th>\n",
       "      <th>R_NET_MIG_2017</th>\n",
       "      <th>R_NET_MIG_2018</th>\n",
       "      <th>R_NET_MIG_2019</th>\n",
       "    </tr>\n",
       "  </thead>\n",
       "  <tbody>\n",
       "    <tr>\n",
       "      <th>0</th>\n",
       "      <td>00000</td>\n",
       "      <td>US</td>\n",
       "      <td>UNITED STATES</td>\n",
       "      <td>NaN</td>\n",
       "      <td>NaN</td>\n",
       "      <td>NaN</td>\n",
       "      <td>NaN</td>\n",
       "      <td>NaN</td>\n",
       "      <td>308745538</td>\n",
       "      <td>308758105</td>\n",
       "      <td>...</td>\n",
       "      <td>NaN</td>\n",
       "      <td>NaN</td>\n",
       "      <td>NaN</td>\n",
       "      <td>NaN</td>\n",
       "      <td>NaN</td>\n",
       "      <td>NaN</td>\n",
       "      <td>NaN</td>\n",
       "      <td>NaN</td>\n",
       "      <td>NaN</td>\n",
       "      <td>NaN</td>\n",
       "    </tr>\n",
       "    <tr>\n",
       "      <th>1</th>\n",
       "      <td>01000</td>\n",
       "      <td>AL</td>\n",
       "      <td>ALABAMA</td>\n",
       "      <td>NaN</td>\n",
       "      <td>NaN</td>\n",
       "      <td>NaN</td>\n",
       "      <td>NaN</td>\n",
       "      <td>NaN</td>\n",
       "      <td>4779736</td>\n",
       "      <td>4780125</td>\n",
       "      <td>...</td>\n",
       "      <td>1.917501</td>\n",
       "      <td>0.578434</td>\n",
       "      <td>1.186314</td>\n",
       "      <td>1.522549</td>\n",
       "      <td>0.563489</td>\n",
       "      <td>0.626357</td>\n",
       "      <td>0.745172</td>\n",
       "      <td>1.090366</td>\n",
       "      <td>1.773786</td>\n",
       "      <td>2.483744</td>\n",
       "    </tr>\n",
       "    <tr>\n",
       "      <th>2</th>\n",
       "      <td>01001</td>\n",
       "      <td>AL</td>\n",
       "      <td>AUTAUGA COUNTY</td>\n",
       "      <td>2</td>\n",
       "      <td>2</td>\n",
       "      <td>2</td>\n",
       "      <td>2</td>\n",
       "      <td>0</td>\n",
       "      <td>54571</td>\n",
       "      <td>54597</td>\n",
       "      <td>...</td>\n",
       "      <td>4.84731</td>\n",
       "      <td>6.018182</td>\n",
       "      <td>-6.226119</td>\n",
       "      <td>-3.902226</td>\n",
       "      <td>1.970443</td>\n",
       "      <td>-1.712875</td>\n",
       "      <td>4.777171</td>\n",
       "      <td>0.849656</td>\n",
       "      <td>0.540916</td>\n",
       "      <td>4.560062</td>\n",
       "    </tr>\n",
       "    <tr>\n",
       "      <th>3</th>\n",
       "      <td>01003</td>\n",
       "      <td>AL</td>\n",
       "      <td>BALDWIN COUNTY</td>\n",
       "      <td>4</td>\n",
       "      <td>3</td>\n",
       "      <td>5</td>\n",
       "      <td>2</td>\n",
       "      <td>5</td>\n",
       "      <td>182265</td>\n",
       "      <td>182265</td>\n",
       "      <td>...</td>\n",
       "      <td>24.017829</td>\n",
       "      <td>16.64187</td>\n",
       "      <td>17.488579</td>\n",
       "      <td>22.751474</td>\n",
       "      <td>20.184334</td>\n",
       "      <td>17.725964</td>\n",
       "      <td>21.279291</td>\n",
       "      <td>22.398256</td>\n",
       "      <td>24.727215</td>\n",
       "      <td>24.380567</td>\n",
       "    </tr>\n",
       "    <tr>\n",
       "      <th>4</th>\n",
       "      <td>01005</td>\n",
       "      <td>AL</td>\n",
       "      <td>BARBOUR COUNTY</td>\n",
       "      <td>6</td>\n",
       "      <td>6</td>\n",
       "      <td>6</td>\n",
       "      <td>6</td>\n",
       "      <td>3</td>\n",
       "      <td>27457</td>\n",
       "      <td>27455</td>\n",
       "      <td>...</td>\n",
       "      <td>-5.690302</td>\n",
       "      <td>0.292676</td>\n",
       "      <td>-6.897817</td>\n",
       "      <td>-8.132185</td>\n",
       "      <td>-5.140431</td>\n",
       "      <td>-15.724575</td>\n",
       "      <td>-18.238016</td>\n",
       "      <td>-24.998528</td>\n",
       "      <td>-8.754922</td>\n",
       "      <td>-5.165664</td>\n",
       "    </tr>\n",
       "  </tbody>\n",
       "</table>\n",
       "<p>5 rows × 165 columns</p>\n",
       "</div>"
      ],
      "text/plain": [
       "  FIPSTXT STATE       AREA_NAME RURAL_URBAN_CONTINUUM_CODE_2003  \\\n",
       "0   00000    US   UNITED STATES                             NaN   \n",
       "1   01000    AL         ALABAMA                             NaN   \n",
       "2   01001    AL  AUTAUGA COUNTY                               2   \n",
       "3   01003    AL  BALDWIN COUNTY                               4   \n",
       "4   01005    AL  BARBOUR COUNTY                               6   \n",
       "\n",
       "  RURAL_URBAN_CONTINUUM_CODE_2013 URBAN_INFLUENCE_CODE_2003  \\\n",
       "0                             NaN                       NaN   \n",
       "1                             NaN                       NaN   \n",
       "2                               2                         2   \n",
       "3                               3                         5   \n",
       "4                               6                         6   \n",
       "\n",
       "  URBAN_INFLUENCE_CODE_2013 ECONOMIC_TYPOLOGY_2015 CENSUS_2010_POP  \\\n",
       "0                       NaN                    NaN       308745538   \n",
       "1                       NaN                    NaN         4779736   \n",
       "2                         2                      0           54571   \n",
       "3                         2                      5          182265   \n",
       "4                         6                      3           27457   \n",
       "\n",
       "  ESTIMATES_BASE_2010  ... R_DOMESTIC_MIG_2019 R_NET_MIG_2011 R_NET_MIG_2012  \\\n",
       "0           308758105  ...                 NaN            NaN            NaN   \n",
       "1             4780125  ...            1.917501       0.578434       1.186314   \n",
       "2               54597  ...             4.84731       6.018182      -6.226119   \n",
       "3              182265  ...           24.017829       16.64187      17.488579   \n",
       "4               27455  ...           -5.690302       0.292676      -6.897817   \n",
       "\n",
       "  R_NET_MIG_2013 R_NET_MIG_2014 R_NET_MIG_2015 R_NET_MIG_2016 R_NET_MIG_2017  \\\n",
       "0            NaN            NaN            NaN            NaN            NaN   \n",
       "1       1.522549       0.563489       0.626357       0.745172       1.090366   \n",
       "2      -3.902226       1.970443      -1.712875       4.777171       0.849656   \n",
       "3      22.751474      20.184334      17.725964      21.279291      22.398256   \n",
       "4      -8.132185      -5.140431     -15.724575     -18.238016     -24.998528   \n",
       "\n",
       "  R_NET_MIG_2018 R_NET_MIG_2019  \n",
       "0            NaN            NaN  \n",
       "1       1.773786       2.483744  \n",
       "2       0.540916       4.560062  \n",
       "3      24.727215      24.380567  \n",
       "4      -8.754922      -5.165664  \n",
       "\n",
       "[5 rows x 165 columns]"
      ]
     },
     "metadata": {},
     "output_type": "display_data"
    },
    {
     "name": "stdout",
     "output_type": "stream",
     "text": [
      "=== Check NAN\n",
      "... nb of columns with NAN 150 out of 165\n",
      "ECONOMIC_TYPOLOGY_2015... 4.00%\n",
      "R_NET_MIG_2019... 2.44%\n",
      "R_DEATH_2014... 2.44%\n",
      "R_NATURAL_INC_2017... 2.44%\n",
      "R_NATURAL_INC_2016... 2.44%\n",
      "R_NATURAL_INC_2015... 2.44%\n",
      "R_NATURAL_INC_2014... 2.44%\n",
      "R_NATURAL_INC_2013... 2.44%\n",
      "R_NATURAL_INC_2012... 2.44%\n",
      "R_DEATH_2019... 2.44%\n",
      "R_DEATH_2018... 2.44%\n",
      "R_DEATH_2017... 2.44%\n",
      "R_DEATH_2016... 2.44%\n",
      "R_DEATH_2015... 2.44%\n",
      "R_DEATH_2013... 2.44%\n",
      "R_NATURAL_INC_2019... 2.44%\n",
      "R_DEATH_2012... 2.44%\n",
      "R_DEATH_2011... 2.44%\n",
      "R_BIRTH_2019... 2.44%\n",
      "R_BIRTH_2018... 2.44%\n",
      "R_BIRTH_2017... 2.44%\n",
      "R_BIRTH_2016... 2.44%\n",
      "R_BIRTH_2015... 2.44%\n",
      "R_BIRTH_2014... 2.44%\n",
      "R_BIRTH_2013... 2.44%\n",
      "R_BIRTH_2012... 2.44%\n",
      "R_BIRTH_2011... 2.44%\n",
      "R_NATURAL_INC_2018... 2.44%\n",
      "R_NATURAL_INC_2011... 2.44%\n",
      "R_INTERNATIONAL_MIG_2011... 2.44%\n",
      "R_DOMESTIC_MIG_2015... 2.44%\n",
      "R_NET_MIG_2018... 2.44%\n",
      "R_NET_MIG_2017... 2.44%\n",
      "R_NET_MIG_2016... 2.44%\n",
      "R_INTERNATIONAL_MIG_2012... 2.44%\n",
      "R_NET_MIG_2014... 2.44%\n",
      "R_NET_MIG_2013... 2.44%\n",
      "R_NET_MIG_2012... 2.44%\n",
      "R_NET_MIG_2011... 2.44%\n",
      "R_DOMESTIC_MIG_2019... 2.44%\n",
      "R_DOMESTIC_MIG_2018... 2.44%\n",
      "R_DOMESTIC_MIG_2017... 2.44%\n",
      "R_DOMESTIC_MIG_2016... 2.44%\n",
      "R_NET_MIG_2015... 2.44%\n",
      "R_DOMESTIC_MIG_2014... 2.44%\n",
      "R_INTERNATIONAL_MIG_2017... 2.44%\n",
      "R_DOMESTIC_MIG_2013... 2.44%\n",
      "R_INTERNATIONAL_MIG_2013... 2.44%\n",
      "R_INTERNATIONAL_MIG_2015... 2.44%\n",
      "R_INTERNATIONAL_MIG_2016... 2.44%\n",
      "R_INTERNATIONAL_MIG_2014... 2.44%\n",
      "R_INTERNATIONAL_MIG_2018... 2.44%\n",
      "R_INTERNATIONAL_MIG_2019... 2.44%\n",
      "R_DOMESTIC_MIG_2011... 2.44%\n",
      "R_DOMESTIC_MIG_2012... 2.44%\n",
      "RESIDUAL_2013... 2.41%\n",
      "GQ_ESTIMATES_2010... 2.41%\n",
      "RESIDUAL_2014... 2.41%\n",
      "RESIDUAL_2015... 2.41%\n",
      "RESIDUAL_2016... 2.41%\n",
      "RESIDUAL_2017... 2.41%\n",
      "RESIDUAL_2018... 2.41%\n",
      "RESIDUAL_2019... 2.41%\n",
      "GQ_ESTIMATES_BASE_2010... 2.41%\n",
      "GQ_ESTIMATES_2016... 2.41%\n",
      "GQ_ESTIMATES_2011... 2.41%\n",
      "GQ_ESTIMATES_2012... 2.41%\n",
      "GQ_ESTIMATES_2013... 2.41%\n",
      "GQ_ESTIMATES_2014... 2.41%\n",
      "GQ_ESTIMATES_2015... 2.41%\n",
      "GQ_ESTIMATES_2017... 2.41%\n",
      "GQ_ESTIMATES_2018... 2.41%\n",
      "GQ_ESTIMATES_2019... 2.41%\n",
      "RESIDUAL_2011... 2.41%\n",
      "RESIDUAL_2012... 2.41%\n",
      "RESIDUAL_2010... 2.41%\n",
      "NATURAL_INC_2013... 2.41%\n",
      "DEATHS_2015... 2.41%\n",
      "BIRTHS_2019... 2.41%\n",
      "DEATHS_2010... 2.41%\n",
      "DEATHS_2011... 2.41%\n",
      "DEATHS_2012... 2.41%\n",
      "DEATHS_2013... 2.41%\n",
      "DEATHS_2014... 2.41%\n",
      "DEATHS_2016... 2.41%\n",
      "BIRTHS_2017... 2.41%\n",
      "DEATHS_2017... 2.41%\n",
      "DEATHS_2018... 2.41%\n",
      "DEATHS_2019... 2.41%\n",
      "NATURAL_INC_2010... 2.41%\n",
      "NATURAL_INC_2011... 2.41%\n",
      "NATURAL_INC_2012... 2.41%\n",
      "BIRTHS_2018... 2.41%\n",
      "BIRTHS_2016... 2.41%\n",
      "NATURAL_INC_2014... 2.41%\n",
      "N_POP_CHG_2017... 2.41%\n",
      "N_POP_CHG_2011... 2.41%\n",
      "N_POP_CHG_2012... 2.41%\n",
      "N_POP_CHG_2013... 2.41%\n",
      "N_POP_CHG_2014... 2.41%\n",
      "N_POP_CHG_2015... 2.41%\n",
      "N_POP_CHG_2016... 2.41%\n",
      "N_POP_CHG_2018... 2.41%\n",
      "BIRTHS_2015... 2.41%\n",
      "N_POP_CHG_2019... 2.41%\n",
      "BIRTHS_2010... 2.41%\n",
      "BIRTHS_2011... 2.41%\n",
      "BIRTHS_2012... 2.41%\n",
      "BIRTHS_2013... 2.41%\n",
      "BIRTHS_2014... 2.41%\n",
      "NET_MIG_2019... 2.41%\n",
      "NATURAL_INC_2015... 2.41%\n",
      "DOMESTIC_MIG_2012... 2.41%\n",
      "NET_MIG_2011... 2.41%\n",
      "DOMESTIC_MIG_2015... 2.41%\n",
      "DOMESTIC_MIG_2016... 2.41%\n",
      "DOMESTIC_MIG_2017... 2.41%\n",
      "DOMESTIC_MIG_2018... 2.41%\n",
      "DOMESTIC_MIG_2019... 2.41%\n",
      "NET_MIG_2010... 2.41%\n",
      "NET_MIG_2012... 2.41%\n",
      "DOMESTIC_MIG_2013... 2.41%\n",
      "NET_MIG_2013... 2.41%\n",
      "NET_MIG_2014... 2.41%\n",
      "NET_MIG_2015... 2.41%\n",
      "NET_MIG_2016... 2.41%\n",
      "NET_MIG_2017... 2.41%\n",
      "NET_MIG_2018... 2.41%\n",
      "DOMESTIC_MIG_2014... 2.41%\n",
      "N_POP_CHG_2010... 2.41%\n",
      "NATURAL_INC_2016... 2.41%\n",
      "INTERNATIONAL_MIG_2013... 2.41%\n",
      "NATURAL_INC_2017... 2.41%\n",
      "NATURAL_INC_2018... 2.41%\n",
      "NATURAL_INC_2019... 2.41%\n",
      "INTERNATIONAL_MIG_2010... 2.41%\n",
      "INTERNATIONAL_MIG_2011... 2.41%\n",
      "INTERNATIONAL_MIG_2012... 2.41%\n",
      "INTERNATIONAL_MIG_2014... 2.41%\n",
      "DOMESTIC_MIG_2011... 2.41%\n",
      "INTERNATIONAL_MIG_2015... 2.41%\n",
      "INTERNATIONAL_MIG_2016... 2.41%\n",
      "INTERNATIONAL_MIG_2017... 2.41%\n",
      "INTERNATIONAL_MIG_2018... 2.41%\n",
      "INTERNATIONAL_MIG_2019... 2.41%\n",
      "DOMESTIC_MIG_2010... 2.41%\n",
      "URBAN_INFLUENCE_CODE_2003... 1.77%\n",
      "RURAL_URBAN_CONTINUUM_CODE_2003... 1.77%\n",
      "URBAN_INFLUENCE_CODE_2013... 1.62%\n",
      "RURAL_URBAN_CONTINUUM_CODE_2013... 1.62%\n"
     ]
    },
    {
     "data": {
      "text/html": [
       "<div>\n",
       "<style scoped>\n",
       "    .dataframe tbody tr th:only-of-type {\n",
       "        vertical-align: middle;\n",
       "    }\n",
       "\n",
       "    .dataframe tbody tr th {\n",
       "        vertical-align: top;\n",
       "    }\n",
       "\n",
       "    .dataframe thead th {\n",
       "        text-align: right;\n",
       "    }\n",
       "</style>\n",
       "<table border=\"1\" class=\"dataframe\">\n",
       "  <thead>\n",
       "    <tr style=\"text-align: right;\">\n",
       "      <th></th>\n",
       "      <th>FIPSTXT</th>\n",
       "      <th>STATE</th>\n",
       "      <th>AREA_NAME</th>\n",
       "      <th>RURAL_URBAN_CONTINUUM_CODE_2003</th>\n",
       "      <th>RURAL_URBAN_CONTINUUM_CODE_2013</th>\n",
       "      <th>URBAN_INFLUENCE_CODE_2003</th>\n",
       "      <th>URBAN_INFLUENCE_CODE_2013</th>\n",
       "      <th>ECONOMIC_TYPOLOGY_2015</th>\n",
       "      <th>CENSUS_2010_POP</th>\n",
       "      <th>ESTIMATES_BASE_2010</th>\n",
       "      <th>...</th>\n",
       "      <th>R_DOMESTIC_MIG_2019</th>\n",
       "      <th>R_NET_MIG_2011</th>\n",
       "      <th>R_NET_MIG_2012</th>\n",
       "      <th>R_NET_MIG_2013</th>\n",
       "      <th>R_NET_MIG_2014</th>\n",
       "      <th>R_NET_MIG_2015</th>\n",
       "      <th>R_NET_MIG_2016</th>\n",
       "      <th>R_NET_MIG_2017</th>\n",
       "      <th>R_NET_MIG_2018</th>\n",
       "      <th>R_NET_MIG_2019</th>\n",
       "    </tr>\n",
       "  </thead>\n",
       "  <tbody>\n",
       "  </tbody>\n",
       "</table>\n",
       "<p>0 rows × 165 columns</p>\n",
       "</div>"
      ],
      "text/plain": [
       "Empty DataFrame\n",
       "Columns: [FIPSTXT, STATE, AREA_NAME, RURAL_URBAN_CONTINUUM_CODE_2003, RURAL_URBAN_CONTINUUM_CODE_2013, URBAN_INFLUENCE_CODE_2003, URBAN_INFLUENCE_CODE_2013, ECONOMIC_TYPOLOGY_2015, CENSUS_2010_POP, ESTIMATES_BASE_2010, POP_ESTIMATE_2010, POP_ESTIMATE_2011, POP_ESTIMATE_2012, POP_ESTIMATE_2013, POP_ESTIMATE_2014, POP_ESTIMATE_2015, POP_ESTIMATE_2016, POP_ESTIMATE_2017, POP_ESTIMATE_2018, POP_ESTIMATE_2019, N_POP_CHG_2010, N_POP_CHG_2011, N_POP_CHG_2012, N_POP_CHG_2013, N_POP_CHG_2014, N_POP_CHG_2015, N_POP_CHG_2016, N_POP_CHG_2017, N_POP_CHG_2018, N_POP_CHG_2019, BIRTHS_2010, BIRTHS_2011, BIRTHS_2012, BIRTHS_2013, BIRTHS_2014, BIRTHS_2015, BIRTHS_2016, BIRTHS_2017, BIRTHS_2018, BIRTHS_2019, DEATHS_2010, DEATHS_2011, DEATHS_2012, DEATHS_2013, DEATHS_2014, DEATHS_2015, DEATHS_2016, DEATHS_2017, DEATHS_2018, DEATHS_2019, NATURAL_INC_2010, NATURAL_INC_2011, NATURAL_INC_2012, NATURAL_INC_2013, NATURAL_INC_2014, NATURAL_INC_2015, NATURAL_INC_2016, NATURAL_INC_2017, NATURAL_INC_2018, NATURAL_INC_2019, INTERNATIONAL_MIG_2010, INTERNATIONAL_MIG_2011, INTERNATIONAL_MIG_2012, INTERNATIONAL_MIG_2013, INTERNATIONAL_MIG_2014, INTERNATIONAL_MIG_2015, INTERNATIONAL_MIG_2016, INTERNATIONAL_MIG_2017, INTERNATIONAL_MIG_2018, INTERNATIONAL_MIG_2019, DOMESTIC_MIG_2010, DOMESTIC_MIG_2011, DOMESTIC_MIG_2012, DOMESTIC_MIG_2013, DOMESTIC_MIG_2014, DOMESTIC_MIG_2015, DOMESTIC_MIG_2016, DOMESTIC_MIG_2017, DOMESTIC_MIG_2018, DOMESTIC_MIG_2019, NET_MIG_2010, NET_MIG_2011, NET_MIG_2012, NET_MIG_2013, NET_MIG_2014, NET_MIG_2015, NET_MIG_2016, NET_MIG_2017, NET_MIG_2018, NET_MIG_2019, RESIDUAL_2010, RESIDUAL_2011, RESIDUAL_2012, RESIDUAL_2013, RESIDUAL_2014, RESIDUAL_2015, RESIDUAL_2016, RESIDUAL_2017, RESIDUAL_2018, RESIDUAL_2019, ...]\n",
       "Index: []\n",
       "\n",
       "[0 rows x 165 columns]"
      ]
     },
     "metadata": {},
     "output_type": "display_data"
    }
   ],
   "source": [
    "df_population = read_excel(dir_path + \"data/PopulationEstimates.xls\")\n",
    "df_population.columns = standard_name_cols(df_population.columns)\n",
    "df_population[[\"STATE\", \"AREA_NAME\"]] = upper_consistent(df_population[[\"STATE\", \"AREA_NAME\"]])\n",
    "display(df_population.head())\n",
    "check_nan(df_population)\n",
    "check_duplicates(df_population, df_population.columns)"
   ]
  },
  {
   "cell_type": "code",
   "execution_count": null,
   "metadata": {},
   "outputs": [],
   "source": []
  },
  {
   "cell_type": "markdown",
   "metadata": {},
   "source": [
    "### Education data"
   ]
  },
  {
   "cell_type": "markdown",
   "metadata": {},
   "source": [
    "Rural-Urban Continuum Codes form a classification scheme that distinguishes metropolitan counties by the population size of their metro area, and nonmetropolitan counties by degree of urbanization and adjacency to a metro area."
   ]
  },
  {
   "cell_type": "code",
   "execution_count": 188,
   "metadata": {},
   "outputs": [
    {
     "name": "stdout",
     "output_type": "stream",
     "text": [
      "\n",
      "========== File name README.md\n",
      "\n",
      "Educational attainment for adults age 25 and older for the U.S., States, and counties, 1970-2019\n"
     ]
    },
    {
     "data": {
      "text/html": [
       "<div>\n",
       "<style scoped>\n",
       "    .dataframe tbody tr th:only-of-type {\n",
       "        vertical-align: middle;\n",
       "    }\n",
       "\n",
       "    .dataframe tbody tr th {\n",
       "        vertical-align: top;\n",
       "    }\n",
       "\n",
       "    .dataframe thead th {\n",
       "        text-align: right;\n",
       "    }\n",
       "</style>\n",
       "<table border=\"1\" class=\"dataframe\">\n",
       "  <thead>\n",
       "    <tr style=\"text-align: right;\">\n",
       "      <th></th>\n",
       "      <th>FIPS_CODE</th>\n",
       "      <th>STATE</th>\n",
       "      <th>AREA_NAME</th>\n",
       "      <th>2003_RURAL_URBAN_CONTINUUM_CODE</th>\n",
       "      <th>2003_URBAN_INFLUENCE_CODE</th>\n",
       "      <th>2013_RURAL_URBAN_CONTINUUM_CODE</th>\n",
       "      <th>2013_URBAN_INFLUENCE_CODE</th>\n",
       "      <th>LESS_THAN_A_HIGH_SCHOOL_DIPLOMA__1970</th>\n",
       "      <th>HIGH_SCHOOL_DIPLOMA_ONLY__1970</th>\n",
       "      <th>SOME_COLLEGE__1_3_YEARS___1970</th>\n",
       "      <th>...</th>\n",
       "      <th>PERCENT_OF_ADULTS_COMPLETING_SOME_COLLEGE_OR_ASSOCIATE_S_DEGREE__2000</th>\n",
       "      <th>PERCENT_OF_ADULTS_WITH_A_BACHELOR_S_DEGREE_OR_HIGHER__2000</th>\n",
       "      <th>LESS_THAN_A_HIGH_SCHOOL_DIPLOMA__2015_19</th>\n",
       "      <th>HIGH_SCHOOL_DIPLOMA_ONLY__2015_19</th>\n",
       "      <th>SOME_COLLEGE_OR_ASSOCIATE_S_DEGREE__2015_19</th>\n",
       "      <th>BACHELOR_S_DEGREE_OR_HIGHER__2015_19</th>\n",
       "      <th>PERCENT_OF_ADULTS_WITH_LESS_THAN_A_HIGH_SCHOOL_DIPLOMA__2015_19</th>\n",
       "      <th>PERCENT_OF_ADULTS_WITH_A_HIGH_SCHOOL_DIPLOMA_ONLY__2015_19</th>\n",
       "      <th>PERCENT_OF_ADULTS_COMPLETING_SOME_COLLEGE_OR_ASSOCIATE_S_DEGREE__2015_19</th>\n",
       "      <th>PERCENT_OF_ADULTS_WITH_A_BACHELOR_S_DEGREE_OR_HIGHER__2015_19</th>\n",
       "    </tr>\n",
       "  </thead>\n",
       "  <tbody>\n",
       "    <tr>\n",
       "      <th>0</th>\n",
       "      <td>00000</td>\n",
       "      <td>US</td>\n",
       "      <td>UNITED STATES</td>\n",
       "      <td>NaN</td>\n",
       "      <td>NaN</td>\n",
       "      <td>NaN</td>\n",
       "      <td>NaN</td>\n",
       "      <td>52373312</td>\n",
       "      <td>34158051</td>\n",
       "      <td>11650730</td>\n",
       "      <td>...</td>\n",
       "      <td>27.4</td>\n",
       "      <td>24.4</td>\n",
       "      <td>26472261</td>\n",
       "      <td>59472748</td>\n",
       "      <td>63756905</td>\n",
       "      <td>70920162</td>\n",
       "      <td>11.998918</td>\n",
       "      <td>26.956844</td>\n",
       "      <td>28.898697</td>\n",
       "      <td>32.145542</td>\n",
       "    </tr>\n",
       "    <tr>\n",
       "      <th>1</th>\n",
       "      <td>01000</td>\n",
       "      <td>AL</td>\n",
       "      <td>ALABAMA</td>\n",
       "      <td>NaN</td>\n",
       "      <td>NaN</td>\n",
       "      <td>NaN</td>\n",
       "      <td>NaN</td>\n",
       "      <td>1062306</td>\n",
       "      <td>468269</td>\n",
       "      <td>136287</td>\n",
       "      <td>...</td>\n",
       "      <td>25.9</td>\n",
       "      <td>19</td>\n",
       "      <td>458922</td>\n",
       "      <td>1022839</td>\n",
       "      <td>993344</td>\n",
       "      <td>845772</td>\n",
       "      <td>13.819302</td>\n",
       "      <td>30.800268</td>\n",
       "      <td>29.912098</td>\n",
       "      <td>25.468332</td>\n",
       "    </tr>\n",
       "    <tr>\n",
       "      <th>2</th>\n",
       "      <td>01001</td>\n",
       "      <td>AL</td>\n",
       "      <td>AUTAUGA COUNTY</td>\n",
       "      <td>2</td>\n",
       "      <td>2</td>\n",
       "      <td>2</td>\n",
       "      <td>2</td>\n",
       "      <td>6611</td>\n",
       "      <td>3757</td>\n",
       "      <td>933</td>\n",
       "      <td>...</td>\n",
       "      <td>26.9</td>\n",
       "      <td>18</td>\n",
       "      <td>4291</td>\n",
       "      <td>12551</td>\n",
       "      <td>10596</td>\n",
       "      <td>9929</td>\n",
       "      <td>11.483395</td>\n",
       "      <td>33.588459</td>\n",
       "      <td>28.356571</td>\n",
       "      <td>26.571573</td>\n",
       "    </tr>\n",
       "    <tr>\n",
       "      <th>3</th>\n",
       "      <td>01003</td>\n",
       "      <td>AL</td>\n",
       "      <td>BALDWIN COUNTY</td>\n",
       "      <td>4</td>\n",
       "      <td>5</td>\n",
       "      <td>3</td>\n",
       "      <td>2</td>\n",
       "      <td>18726</td>\n",
       "      <td>8426</td>\n",
       "      <td>2334</td>\n",
       "      <td>...</td>\n",
       "      <td>29.3</td>\n",
       "      <td>23.1</td>\n",
       "      <td>13893</td>\n",
       "      <td>41797</td>\n",
       "      <td>47274</td>\n",
       "      <td>48148</td>\n",
       "      <td>9.193843</td>\n",
       "      <td>27.659616</td>\n",
       "      <td>31.284081</td>\n",
       "      <td>31.862459</td>\n",
       "    </tr>\n",
       "    <tr>\n",
       "      <th>4</th>\n",
       "      <td>01005</td>\n",
       "      <td>AL</td>\n",
       "      <td>BARBOUR COUNTY</td>\n",
       "      <td>6</td>\n",
       "      <td>6</td>\n",
       "      <td>6</td>\n",
       "      <td>6</td>\n",
       "      <td>8120</td>\n",
       "      <td>2242</td>\n",
       "      <td>581</td>\n",
       "      <td>...</td>\n",
       "      <td>21.3</td>\n",
       "      <td>10.9</td>\n",
       "      <td>4812</td>\n",
       "      <td>6396</td>\n",
       "      <td>4676</td>\n",
       "      <td>2080</td>\n",
       "      <td>26.786907</td>\n",
       "      <td>35.604542</td>\n",
       "      <td>26.029837</td>\n",
       "      <td>11.578713</td>\n",
       "    </tr>\n",
       "  </tbody>\n",
       "</table>\n",
       "<p>5 rows × 47 columns</p>\n",
       "</div>"
      ],
      "text/plain": [
       "  FIPS_CODE STATE       AREA_NAME 2003_RURAL_URBAN_CONTINUUM_CODE  \\\n",
       "0     00000    US   UNITED STATES                             NaN   \n",
       "1     01000    AL         ALABAMA                             NaN   \n",
       "2     01001    AL  AUTAUGA COUNTY                               2   \n",
       "3     01003    AL  BALDWIN COUNTY                               4   \n",
       "4     01005    AL  BARBOUR COUNTY                               6   \n",
       "\n",
       "  2003_URBAN_INFLUENCE_CODE 2013_RURAL_URBAN_CONTINUUM_CODE  \\\n",
       "0                       NaN                             NaN   \n",
       "1                       NaN                             NaN   \n",
       "2                         2                               2   \n",
       "3                         5                               3   \n",
       "4                         6                               6   \n",
       "\n",
       "  2013_URBAN_INFLUENCE_CODE LESS_THAN_A_HIGH_SCHOOL_DIPLOMA__1970  \\\n",
       "0                       NaN                              52373312   \n",
       "1                       NaN                               1062306   \n",
       "2                         2                                  6611   \n",
       "3                         2                                 18726   \n",
       "4                         6                                  8120   \n",
       "\n",
       "  HIGH_SCHOOL_DIPLOMA_ONLY__1970 SOME_COLLEGE__1_3_YEARS___1970  ...  \\\n",
       "0                       34158051                       11650730  ...   \n",
       "1                         468269                         136287  ...   \n",
       "2                           3757                            933  ...   \n",
       "3                           8426                           2334  ...   \n",
       "4                           2242                            581  ...   \n",
       "\n",
       "  PERCENT_OF_ADULTS_COMPLETING_SOME_COLLEGE_OR_ASSOCIATE_S_DEGREE__2000  \\\n",
       "0                                               27.4                      \n",
       "1                                               25.9                      \n",
       "2                                               26.9                      \n",
       "3                                               29.3                      \n",
       "4                                               21.3                      \n",
       "\n",
       "  PERCENT_OF_ADULTS_WITH_A_BACHELOR_S_DEGREE_OR_HIGHER__2000  \\\n",
       "0                                               24.4           \n",
       "1                                                 19           \n",
       "2                                                 18           \n",
       "3                                               23.1           \n",
       "4                                               10.9           \n",
       "\n",
       "  LESS_THAN_A_HIGH_SCHOOL_DIPLOMA__2015_19 HIGH_SCHOOL_DIPLOMA_ONLY__2015_19  \\\n",
       "0                                 26472261                          59472748   \n",
       "1                                   458922                           1022839   \n",
       "2                                     4291                             12551   \n",
       "3                                    13893                             41797   \n",
       "4                                     4812                              6396   \n",
       "\n",
       "  SOME_COLLEGE_OR_ASSOCIATE_S_DEGREE__2015_19  \\\n",
       "0                                    63756905   \n",
       "1                                      993344   \n",
       "2                                       10596   \n",
       "3                                       47274   \n",
       "4                                        4676   \n",
       "\n",
       "  BACHELOR_S_DEGREE_OR_HIGHER__2015_19  \\\n",
       "0                             70920162   \n",
       "1                               845772   \n",
       "2                                 9929   \n",
       "3                                48148   \n",
       "4                                 2080   \n",
       "\n",
       "  PERCENT_OF_ADULTS_WITH_LESS_THAN_A_HIGH_SCHOOL_DIPLOMA__2015_19  \\\n",
       "0                                          11.998918                \n",
       "1                                          13.819302                \n",
       "2                                          11.483395                \n",
       "3                                           9.193843                \n",
       "4                                          26.786907                \n",
       "\n",
       "  PERCENT_OF_ADULTS_WITH_A_HIGH_SCHOOL_DIPLOMA_ONLY__2015_19  \\\n",
       "0                                          26.956844           \n",
       "1                                          30.800268           \n",
       "2                                          33.588459           \n",
       "3                                          27.659616           \n",
       "4                                          35.604542           \n",
       "\n",
       "  PERCENT_OF_ADULTS_COMPLETING_SOME_COLLEGE_OR_ASSOCIATE_S_DEGREE__2015_19  \\\n",
       "0                                          28.898697                         \n",
       "1                                          29.912098                         \n",
       "2                                          28.356571                         \n",
       "3                                          31.284081                         \n",
       "4                                          26.029837                         \n",
       "\n",
       "  PERCENT_OF_ADULTS_WITH_A_BACHELOR_S_DEGREE_OR_HIGHER__2015_19  \n",
       "0                                          32.145542             \n",
       "1                                          25.468332             \n",
       "2                                          26.571573             \n",
       "3                                          31.862459             \n",
       "4                                          11.578713             \n",
       "\n",
       "[5 rows x 47 columns]"
      ]
     },
     "metadata": {},
     "output_type": "display_data"
    },
    {
     "name": "stdout",
     "output_type": "stream",
     "text": [
      "=== Check NAN\n",
      "... nb of columns with NAN 44 out of 47\n",
      "LESS_THAN_A_HIGH_SCHOOL_DIPLOMA__1970... 2.95%\n",
      "HIGH_SCHOOL_DIPLOMA_ONLY__1970... 2.95%\n",
      "SOME_COLLEGE__1_3_YEARS___1970... 2.95%\n",
      "FOUR_YEARS_OF_COLLEGE_OR_HIGHER__1970... 2.95%\n",
      "PERCENT_OF_ADULTS_WITH_LESS_THAN_A_HIGH_SCHOOL_DIPLOMA__1970... 2.95%\n",
      "PERCENT_OF_ADULTS_WITH_A_HIGH_SCHOOL_DIPLOMA_ONLY__1970... 2.95%\n",
      "PERCENT_OF_ADULTS_COMPLETING_SOME_COLLEGE__1_3_YEARS___1970... 2.95%\n",
      "PERCENT_OF_ADULTS_COMPLETING_FOUR_YEARS_OF_COLLEGE_OR_HIGHER__1970... 2.95%\n",
      "2003_RURAL_URBAN_CONTINUUM_CODE... 1.89%\n",
      "2013_RURAL_URBAN_CONTINUUM_CODE... 1.89%\n",
      "2013_URBAN_INFLUENCE_CODE... 1.89%\n",
      "2003_URBAN_INFLUENCE_CODE... 1.89%\n",
      "PERCENT_OF_ADULTS_WITH_LESS_THAN_A_HIGH_SCHOOL_DIPLOMA__1980... 0.49%\n",
      "PERCENT_OF_ADULTS_COMPLETING_FOUR_YEARS_OF_COLLEGE_OR_HIGHER__1980... 0.49%\n",
      "PERCENT_OF_ADULTS_COMPLETING_SOME_COLLEGE__1_3_YEARS___1980... 0.49%\n",
      "PERCENT_OF_ADULTS_WITH_A_HIGH_SCHOOL_DIPLOMA_ONLY__1980... 0.49%\n",
      "LESS_THAN_A_HIGH_SCHOOL_DIPLOMA__1980... 0.49%\n",
      "FOUR_YEARS_OF_COLLEGE_OR_HIGHER__1980... 0.49%\n",
      "SOME_COLLEGE__1_3_YEARS___1980... 0.49%\n",
      "HIGH_SCHOOL_DIPLOMA_ONLY__1980... 0.49%\n",
      "PERCENT_OF_ADULTS_COMPLETING_SOME_COLLEGE_OR_ASSOCIATE_S_DEGREE__1990... 0.40%\n",
      "PERCENT_OF_ADULTS_WITH_A_BACHELOR_S_DEGREE_OR_HIGHER__1990... 0.37%\n",
      "PERCENT_OF_ADULTS_WITH_LESS_THAN_A_HIGH_SCHOOL_DIPLOMA__1990... 0.37%\n",
      "PERCENT_OF_ADULTS_WITH_A_HIGH_SCHOOL_DIPLOMA_ONLY__1990... 0.37%\n",
      "SOME_COLLEGE_OR_ASSOCIATE_S_DEGREE__1990... 0.37%\n",
      "BACHELOR_S_DEGREE_OR_HIGHER__1990... 0.37%\n",
      "LESS_THAN_A_HIGH_SCHOOL_DIPLOMA__1990... 0.37%\n",
      "HIGH_SCHOOL_DIPLOMA_ONLY__1990... 0.37%\n",
      "PERCENT_OF_ADULTS_WITH_LESS_THAN_A_HIGH_SCHOOL_DIPLOMA__2000... 0.34%\n",
      "PERCENT_OF_ADULTS_WITH_A_BACHELOR_S_DEGREE_OR_HIGHER__2000... 0.34%\n",
      "PERCENT_OF_ADULTS_WITH_A_HIGH_SCHOOL_DIPLOMA_ONLY__2000... 0.34%\n",
      "PERCENT_OF_ADULTS_COMPLETING_SOME_COLLEGE_OR_ASSOCIATE_S_DEGREE__2000... 0.34%\n",
      "BACHELOR_S_DEGREE_OR_HIGHER__2000... 0.34%\n",
      "SOME_COLLEGE_OR_ASSOCIATE_S_DEGREE__2000... 0.34%\n",
      "HIGH_SCHOOL_DIPLOMA_ONLY__2000... 0.34%\n",
      "LESS_THAN_A_HIGH_SCHOOL_DIPLOMA__2000... 0.34%\n",
      "LESS_THAN_A_HIGH_SCHOOL_DIPLOMA__2015_19... 0.30%\n",
      "HIGH_SCHOOL_DIPLOMA_ONLY__2015_19... 0.30%\n",
      "SOME_COLLEGE_OR_ASSOCIATE_S_DEGREE__2015_19... 0.30%\n",
      "BACHELOR_S_DEGREE_OR_HIGHER__2015_19... 0.30%\n",
      "PERCENT_OF_ADULTS_WITH_LESS_THAN_A_HIGH_SCHOOL_DIPLOMA__2015_19... 0.30%\n",
      "PERCENT_OF_ADULTS_WITH_A_HIGH_SCHOOL_DIPLOMA_ONLY__2015_19... 0.30%\n",
      "PERCENT_OF_ADULTS_COMPLETING_SOME_COLLEGE_OR_ASSOCIATE_S_DEGREE__2015_19... 0.30%\n",
      "PERCENT_OF_ADULTS_WITH_A_BACHELOR_S_DEGREE_OR_HIGHER__2015_19... 0.30%\n"
     ]
    },
    {
     "data": {
      "text/html": [
       "<div>\n",
       "<style scoped>\n",
       "    .dataframe tbody tr th:only-of-type {\n",
       "        vertical-align: middle;\n",
       "    }\n",
       "\n",
       "    .dataframe tbody tr th {\n",
       "        vertical-align: top;\n",
       "    }\n",
       "\n",
       "    .dataframe thead th {\n",
       "        text-align: right;\n",
       "    }\n",
       "</style>\n",
       "<table border=\"1\" class=\"dataframe\">\n",
       "  <thead>\n",
       "    <tr style=\"text-align: right;\">\n",
       "      <th></th>\n",
       "      <th>FIPS_CODE</th>\n",
       "      <th>STATE</th>\n",
       "      <th>AREA_NAME</th>\n",
       "      <th>2003_RURAL_URBAN_CONTINUUM_CODE</th>\n",
       "      <th>2003_URBAN_INFLUENCE_CODE</th>\n",
       "      <th>2013_RURAL_URBAN_CONTINUUM_CODE</th>\n",
       "      <th>2013_URBAN_INFLUENCE_CODE</th>\n",
       "      <th>LESS_THAN_A_HIGH_SCHOOL_DIPLOMA__1970</th>\n",
       "      <th>HIGH_SCHOOL_DIPLOMA_ONLY__1970</th>\n",
       "      <th>SOME_COLLEGE__1_3_YEARS___1970</th>\n",
       "      <th>...</th>\n",
       "      <th>PERCENT_OF_ADULTS_COMPLETING_SOME_COLLEGE_OR_ASSOCIATE_S_DEGREE__2000</th>\n",
       "      <th>PERCENT_OF_ADULTS_WITH_A_BACHELOR_S_DEGREE_OR_HIGHER__2000</th>\n",
       "      <th>LESS_THAN_A_HIGH_SCHOOL_DIPLOMA__2015_19</th>\n",
       "      <th>HIGH_SCHOOL_DIPLOMA_ONLY__2015_19</th>\n",
       "      <th>SOME_COLLEGE_OR_ASSOCIATE_S_DEGREE__2015_19</th>\n",
       "      <th>BACHELOR_S_DEGREE_OR_HIGHER__2015_19</th>\n",
       "      <th>PERCENT_OF_ADULTS_WITH_LESS_THAN_A_HIGH_SCHOOL_DIPLOMA__2015_19</th>\n",
       "      <th>PERCENT_OF_ADULTS_WITH_A_HIGH_SCHOOL_DIPLOMA_ONLY__2015_19</th>\n",
       "      <th>PERCENT_OF_ADULTS_COMPLETING_SOME_COLLEGE_OR_ASSOCIATE_S_DEGREE__2015_19</th>\n",
       "      <th>PERCENT_OF_ADULTS_WITH_A_BACHELOR_S_DEGREE_OR_HIGHER__2015_19</th>\n",
       "    </tr>\n",
       "  </thead>\n",
       "  <tbody>\n",
       "  </tbody>\n",
       "</table>\n",
       "<p>0 rows × 47 columns</p>\n",
       "</div>"
      ],
      "text/plain": [
       "Empty DataFrame\n",
       "Columns: [FIPS_CODE, STATE, AREA_NAME, 2003_RURAL_URBAN_CONTINUUM_CODE, 2003_URBAN_INFLUENCE_CODE, 2013_RURAL_URBAN_CONTINUUM_CODE, 2013_URBAN_INFLUENCE_CODE, LESS_THAN_A_HIGH_SCHOOL_DIPLOMA__1970, HIGH_SCHOOL_DIPLOMA_ONLY__1970, SOME_COLLEGE__1_3_YEARS___1970, FOUR_YEARS_OF_COLLEGE_OR_HIGHER__1970, PERCENT_OF_ADULTS_WITH_LESS_THAN_A_HIGH_SCHOOL_DIPLOMA__1970, PERCENT_OF_ADULTS_WITH_A_HIGH_SCHOOL_DIPLOMA_ONLY__1970, PERCENT_OF_ADULTS_COMPLETING_SOME_COLLEGE__1_3_YEARS___1970, PERCENT_OF_ADULTS_COMPLETING_FOUR_YEARS_OF_COLLEGE_OR_HIGHER__1970, LESS_THAN_A_HIGH_SCHOOL_DIPLOMA__1980, HIGH_SCHOOL_DIPLOMA_ONLY__1980, SOME_COLLEGE__1_3_YEARS___1980, FOUR_YEARS_OF_COLLEGE_OR_HIGHER__1980, PERCENT_OF_ADULTS_WITH_LESS_THAN_A_HIGH_SCHOOL_DIPLOMA__1980, PERCENT_OF_ADULTS_WITH_A_HIGH_SCHOOL_DIPLOMA_ONLY__1980, PERCENT_OF_ADULTS_COMPLETING_SOME_COLLEGE__1_3_YEARS___1980, PERCENT_OF_ADULTS_COMPLETING_FOUR_YEARS_OF_COLLEGE_OR_HIGHER__1980, LESS_THAN_A_HIGH_SCHOOL_DIPLOMA__1990, HIGH_SCHOOL_DIPLOMA_ONLY__1990, SOME_COLLEGE_OR_ASSOCIATE_S_DEGREE__1990, BACHELOR_S_DEGREE_OR_HIGHER__1990, PERCENT_OF_ADULTS_WITH_LESS_THAN_A_HIGH_SCHOOL_DIPLOMA__1990, PERCENT_OF_ADULTS_WITH_A_HIGH_SCHOOL_DIPLOMA_ONLY__1990, PERCENT_OF_ADULTS_COMPLETING_SOME_COLLEGE_OR_ASSOCIATE_S_DEGREE__1990, PERCENT_OF_ADULTS_WITH_A_BACHELOR_S_DEGREE_OR_HIGHER__1990, LESS_THAN_A_HIGH_SCHOOL_DIPLOMA__2000, HIGH_SCHOOL_DIPLOMA_ONLY__2000, SOME_COLLEGE_OR_ASSOCIATE_S_DEGREE__2000, BACHELOR_S_DEGREE_OR_HIGHER__2000, PERCENT_OF_ADULTS_WITH_LESS_THAN_A_HIGH_SCHOOL_DIPLOMA__2000, PERCENT_OF_ADULTS_WITH_A_HIGH_SCHOOL_DIPLOMA_ONLY__2000, PERCENT_OF_ADULTS_COMPLETING_SOME_COLLEGE_OR_ASSOCIATE_S_DEGREE__2000, PERCENT_OF_ADULTS_WITH_A_BACHELOR_S_DEGREE_OR_HIGHER__2000, LESS_THAN_A_HIGH_SCHOOL_DIPLOMA__2015_19, HIGH_SCHOOL_DIPLOMA_ONLY__2015_19, SOME_COLLEGE_OR_ASSOCIATE_S_DEGREE__2015_19, BACHELOR_S_DEGREE_OR_HIGHER__2015_19, PERCENT_OF_ADULTS_WITH_LESS_THAN_A_HIGH_SCHOOL_DIPLOMA__2015_19, PERCENT_OF_ADULTS_WITH_A_HIGH_SCHOOL_DIPLOMA_ONLY__2015_19, PERCENT_OF_ADULTS_COMPLETING_SOME_COLLEGE_OR_ASSOCIATE_S_DEGREE__2015_19, PERCENT_OF_ADULTS_WITH_A_BACHELOR_S_DEGREE_OR_HIGHER__2015_19]\n",
       "Index: []\n",
       "\n",
       "[0 rows x 47 columns]"
      ]
     },
     "metadata": {},
     "output_type": "display_data"
    }
   ],
   "source": [
    "df_education = read_excel(dir_path + \"data/Education.xls\")\n",
    "df_education.columns = standard_name_cols(df_education.columns)\n",
    "df_education[[\"STATE\", \"AREA_NAME\"]] = upper_consistent(df_education[[\"STATE\", \"AREA_NAME\"]])\n",
    "df_education[\"AREA_NAME\"] = df_education[\"AREA_NAME\"].replace(\"LOUSIANA\", \"LOUISIANA\")\n",
    "\n",
    "\n",
    "display(df_education.head())\n",
    "check_nan(df_education)\n",
    "check_duplicates(df_education, df_education.columns)"
   ]
  },
  {
   "cell_type": "code",
   "execution_count": 159,
   "metadata": {},
   "outputs": [
    {
     "data": {
      "text/plain": [
       "50"
      ]
     },
     "execution_count": 159,
     "metadata": {},
     "output_type": "execute_result"
    }
   ],
   "source": [
    "\n"
   ]
  },
  {
   "cell_type": "code",
   "execution_count": 185,
   "metadata": {},
   "outputs": [
    {
     "data": {
      "text/plain": [
       "array(['ALABAMA', 'ALASKA', 'ARIZONA', 'ARKANSAS', 'CALIFORNIA',\n",
       "       'COLORADO', 'CONNECTICUT', 'DELAWARE', 'DISTRICT OF COLUMBIA',\n",
       "       'FLORIDA', 'GEORGIA', 'HAWAII', 'IDAHO', 'ILLINOIS', 'INDIANA',\n",
       "       'IOWA', 'KANSAS', 'KENTUCKY', 'LOUISIANA', 'MAINE', 'MARYLAND',\n",
       "       'MASSACHUSETTS', 'MICHIGAN', 'MINNESOTA', 'MISSISSIPPI',\n",
       "       'MISSOURI', 'MONTANA', 'NEBRASKA', 'NEVADA', 'NEW HAMPSHIRE',\n",
       "       'NEW JERSEY', 'NEW MEXICO', 'NEW YORK', 'NORTH CAROLINA',\n",
       "       'NORTH DAKOTA', 'OHIO', 'OKLAHOMA', 'OREGON', 'PENNSYLVANIA',\n",
       "       'RHODE ISLAND', 'SOUTH CAROLINA', 'SOUTH DAKOTA', 'TENNESSEE',\n",
       "       'TEXAS', 'UTAH', 'VERMONT', 'VIRGINIA', 'WASHINGTON',\n",
       "       'WEST VIRGINIA', 'WISCONSIN', 'WYOMING'], dtype=object)"
      ]
     },
     "execution_count": 185,
     "metadata": {},
     "output_type": "execute_result"
    }
   ],
   "source": [
    "state_list"
   ]
  },
  {
   "cell_type": "code",
   "execution_count": 187,
   "metadata": {},
   "outputs": [
    {
     "data": {
      "text/html": [
       "<div>\n",
       "<style scoped>\n",
       "    .dataframe tbody tr th:only-of-type {\n",
       "        vertical-align: middle;\n",
       "    }\n",
       "\n",
       "    .dataframe tbody tr th {\n",
       "        vertical-align: top;\n",
       "    }\n",
       "\n",
       "    .dataframe thead th {\n",
       "        text-align: right;\n",
       "    }\n",
       "</style>\n",
       "<table border=\"1\" class=\"dataframe\">\n",
       "  <thead>\n",
       "    <tr style=\"text-align: right;\">\n",
       "      <th></th>\n",
       "      <th>FIPS_CODE</th>\n",
       "      <th>STATE</th>\n",
       "      <th>AREA_NAME</th>\n",
       "      <th>2003_RURAL_URBAN_CONTINUUM_CODE</th>\n",
       "      <th>2003_URBAN_INFLUENCE_CODE</th>\n",
       "      <th>2013_RURAL_URBAN_CONTINUUM_CODE</th>\n",
       "      <th>2013_URBAN_INFLUENCE_CODE</th>\n",
       "      <th>LESS_THAN_A_HIGH_SCHOOL_DIPLOMA__1970</th>\n",
       "      <th>HIGH_SCHOOL_DIPLOMA_ONLY__1970</th>\n",
       "      <th>SOME_COLLEGE__1_3_YEARS___1970</th>\n",
       "      <th>...</th>\n",
       "      <th>PERCENT_OF_ADULTS_COMPLETING_SOME_COLLEGE_OR_ASSOCIATE_S_DEGREE__2000</th>\n",
       "      <th>PERCENT_OF_ADULTS_WITH_A_BACHELOR_S_DEGREE_OR_HIGHER__2000</th>\n",
       "      <th>LESS_THAN_A_HIGH_SCHOOL_DIPLOMA__2015_19</th>\n",
       "      <th>HIGH_SCHOOL_DIPLOMA_ONLY__2015_19</th>\n",
       "      <th>SOME_COLLEGE_OR_ASSOCIATE_S_DEGREE__2015_19</th>\n",
       "      <th>BACHELOR_S_DEGREE_OR_HIGHER__2015_19</th>\n",
       "      <th>PERCENT_OF_ADULTS_WITH_LESS_THAN_A_HIGH_SCHOOL_DIPLOMA__2015_19</th>\n",
       "      <th>PERCENT_OF_ADULTS_WITH_A_HIGH_SCHOOL_DIPLOMA_ONLY__2015_19</th>\n",
       "      <th>PERCENT_OF_ADULTS_COMPLETING_SOME_COLLEGE_OR_ASSOCIATE_S_DEGREE__2015_19</th>\n",
       "      <th>PERCENT_OF_ADULTS_WITH_A_BACHELOR_S_DEGREE_OR_HIGHER__2015_19</th>\n",
       "    </tr>\n",
       "  </thead>\n",
       "  <tbody>\n",
       "    <tr>\n",
       "      <th>1139</th>\n",
       "      <td>22000</td>\n",
       "      <td>LA</td>\n",
       "      <td>LOUSIANA</td>\n",
       "      <td>NaN</td>\n",
       "      <td>NaN</td>\n",
       "      <td>NaN</td>\n",
       "      <td>NaN</td>\n",
       "      <td>1046551</td>\n",
       "      <td>446400</td>\n",
       "      <td>153171</td>\n",
       "      <td>...</td>\n",
       "      <td>23.7</td>\n",
       "      <td>18.7</td>\n",
       "      <td>461706</td>\n",
       "      <td>1061388</td>\n",
       "      <td>848474</td>\n",
       "      <td>753585</td>\n",
       "      <td>14.773869</td>\n",
       "      <td>33.962753</td>\n",
       "      <td>27.149839</td>\n",
       "      <td>24.113539</td>\n",
       "    </tr>\n",
       "  </tbody>\n",
       "</table>\n",
       "<p>1 rows × 47 columns</p>\n",
       "</div>"
      ],
      "text/plain": [
       "     FIPS_CODE STATE AREA_NAME 2003_RURAL_URBAN_CONTINUUM_CODE  \\\n",
       "1139     22000    LA  LOUSIANA                             NaN   \n",
       "\n",
       "     2003_URBAN_INFLUENCE_CODE 2013_RURAL_URBAN_CONTINUUM_CODE  \\\n",
       "1139                       NaN                             NaN   \n",
       "\n",
       "     2013_URBAN_INFLUENCE_CODE LESS_THAN_A_HIGH_SCHOOL_DIPLOMA__1970  \\\n",
       "1139                       NaN                               1046551   \n",
       "\n",
       "     HIGH_SCHOOL_DIPLOMA_ONLY__1970 SOME_COLLEGE__1_3_YEARS___1970  ...  \\\n",
       "1139                         446400                         153171  ...   \n",
       "\n",
       "     PERCENT_OF_ADULTS_COMPLETING_SOME_COLLEGE_OR_ASSOCIATE_S_DEGREE__2000  \\\n",
       "1139                                               23.7                      \n",
       "\n",
       "     PERCENT_OF_ADULTS_WITH_A_BACHELOR_S_DEGREE_OR_HIGHER__2000  \\\n",
       "1139                                               18.7           \n",
       "\n",
       "     LESS_THAN_A_HIGH_SCHOOL_DIPLOMA__2015_19  \\\n",
       "1139                                   461706   \n",
       "\n",
       "     HIGH_SCHOOL_DIPLOMA_ONLY__2015_19  \\\n",
       "1139                           1061388   \n",
       "\n",
       "     SOME_COLLEGE_OR_ASSOCIATE_S_DEGREE__2015_19  \\\n",
       "1139                                      848474   \n",
       "\n",
       "     BACHELOR_S_DEGREE_OR_HIGHER__2015_19  \\\n",
       "1139                               753585   \n",
       "\n",
       "     PERCENT_OF_ADULTS_WITH_LESS_THAN_A_HIGH_SCHOOL_DIPLOMA__2015_19  \\\n",
       "1139                                          14.773869                \n",
       "\n",
       "     PERCENT_OF_ADULTS_WITH_A_HIGH_SCHOOL_DIPLOMA_ONLY__2015_19  \\\n",
       "1139                                          33.962753           \n",
       "\n",
       "     PERCENT_OF_ADULTS_COMPLETING_SOME_COLLEGE_OR_ASSOCIATE_S_DEGREE__2015_19  \\\n",
       "1139                                          27.149839                         \n",
       "\n",
       "     PERCENT_OF_ADULTS_WITH_A_BACHELOR_S_DEGREE_OR_HIGHER__2015_19  \n",
       "1139                                          24.113539             \n",
       "\n",
       "[1 rows x 47 columns]"
      ]
     },
     "execution_count": 187,
     "metadata": {},
     "output_type": "execute_result"
    }
   ],
   "source": [
    "df_education[df_education[\"AREA_NAME\"]==\"LOUSIANA\"]"
   ]
  },
  {
   "cell_type": "code",
   "execution_count": 189,
   "metadata": {},
   "outputs": [
    {
     "name": "stdout",
     "output_type": "stream",
     "text": [
      "Nb of states found: 51 / 51\n",
      "=== Check NAN\n",
      "... nb of columns with NAN 4 out of 47\n",
      "2003_RURAL_URBAN_CONTINUUM_CODE... 98.08%\n",
      "2003_URBAN_INFLUENCE_CODE... 98.08%\n",
      "2013_RURAL_URBAN_CONTINUUM_CODE... 98.08%\n",
      "2013_URBAN_INFLUENCE_CODE... 98.08%\n"
     ]
    },
    {
     "data": {
      "text/html": [
       "<div>\n",
       "<style scoped>\n",
       "    .dataframe tbody tr th:only-of-type {\n",
       "        vertical-align: middle;\n",
       "    }\n",
       "\n",
       "    .dataframe tbody tr th {\n",
       "        vertical-align: top;\n",
       "    }\n",
       "\n",
       "    .dataframe thead th {\n",
       "        text-align: right;\n",
       "    }\n",
       "</style>\n",
       "<table border=\"1\" class=\"dataframe\">\n",
       "  <thead>\n",
       "    <tr style=\"text-align: right;\">\n",
       "      <th></th>\n",
       "      <th>FIPS_CODE</th>\n",
       "      <th>STATE</th>\n",
       "      <th>AREA_NAME</th>\n",
       "      <th>LESS_THAN_A_HIGH_SCHOOL_DIPLOMA__1970</th>\n",
       "      <th>HIGH_SCHOOL_DIPLOMA_ONLY__1970</th>\n",
       "      <th>SOME_COLLEGE__1_3_YEARS___1970</th>\n",
       "      <th>FOUR_YEARS_OF_COLLEGE_OR_HIGHER__1970</th>\n",
       "      <th>PERCENT_OF_ADULTS_WITH_LESS_THAN_A_HIGH_SCHOOL_DIPLOMA__1970</th>\n",
       "      <th>PERCENT_OF_ADULTS_WITH_A_HIGH_SCHOOL_DIPLOMA_ONLY__1970</th>\n",
       "      <th>PERCENT_OF_ADULTS_COMPLETING_SOME_COLLEGE__1_3_YEARS___1970</th>\n",
       "      <th>...</th>\n",
       "      <th>PERCENT_OF_ADULTS_COMPLETING_SOME_COLLEGE_OR_ASSOCIATE_S_DEGREE__2000</th>\n",
       "      <th>PERCENT_OF_ADULTS_WITH_A_BACHELOR_S_DEGREE_OR_HIGHER__2000</th>\n",
       "      <th>LESS_THAN_A_HIGH_SCHOOL_DIPLOMA__2015_19</th>\n",
       "      <th>HIGH_SCHOOL_DIPLOMA_ONLY__2015_19</th>\n",
       "      <th>SOME_COLLEGE_OR_ASSOCIATE_S_DEGREE__2015_19</th>\n",
       "      <th>BACHELOR_S_DEGREE_OR_HIGHER__2015_19</th>\n",
       "      <th>PERCENT_OF_ADULTS_WITH_LESS_THAN_A_HIGH_SCHOOL_DIPLOMA__2015_19</th>\n",
       "      <th>PERCENT_OF_ADULTS_WITH_A_HIGH_SCHOOL_DIPLOMA_ONLY__2015_19</th>\n",
       "      <th>PERCENT_OF_ADULTS_COMPLETING_SOME_COLLEGE_OR_ASSOCIATE_S_DEGREE__2015_19</th>\n",
       "      <th>PERCENT_OF_ADULTS_WITH_A_BACHELOR_S_DEGREE_OR_HIGHER__2015_19</th>\n",
       "    </tr>\n",
       "  </thead>\n",
       "  <tbody>\n",
       "    <tr>\n",
       "      <th>1</th>\n",
       "      <td>01000</td>\n",
       "      <td>AL</td>\n",
       "      <td>ALABAMA</td>\n",
       "      <td>1062306</td>\n",
       "      <td>468269</td>\n",
       "      <td>136287</td>\n",
       "      <td>141936</td>\n",
       "      <td>58.7</td>\n",
       "      <td>25.9</td>\n",
       "      <td>7.5</td>\n",
       "      <td>...</td>\n",
       "      <td>25.9</td>\n",
       "      <td>19</td>\n",
       "      <td>458922</td>\n",
       "      <td>1022839</td>\n",
       "      <td>993344</td>\n",
       "      <td>845772</td>\n",
       "      <td>13.819302</td>\n",
       "      <td>30.800268</td>\n",
       "      <td>29.912098</td>\n",
       "      <td>25.468332</td>\n",
       "    </tr>\n",
       "    <tr>\n",
       "      <th>69</th>\n",
       "      <td>02000</td>\n",
       "      <td>AK</td>\n",
       "      <td>ALASKA</td>\n",
       "      <td>44994</td>\n",
       "      <td>50820</td>\n",
       "      <td>20052</td>\n",
       "      <td>19082</td>\n",
       "      <td>33.3</td>\n",
       "      <td>37.7</td>\n",
       "      <td>14.9</td>\n",
       "      <td>...</td>\n",
       "      <td>35.7</td>\n",
       "      <td>24.7</td>\n",
       "      <td>34376</td>\n",
       "      <td>134582</td>\n",
       "      <td>169609</td>\n",
       "      <td>142019</td>\n",
       "      <td>7.152934</td>\n",
       "      <td>28.003729</td>\n",
       "      <td>35.292122</td>\n",
       "      <td>29.551214</td>\n",
       "    </tr>\n",
       "    <tr>\n",
       "      <th>106</th>\n",
       "      <td>04000</td>\n",
       "      <td>AZ</td>\n",
       "      <td>ARIZONA</td>\n",
       "      <td>383873</td>\n",
       "      <td>289781</td>\n",
       "      <td>127063</td>\n",
       "      <td>115020</td>\n",
       "      <td>41.9</td>\n",
       "      <td>31.6</td>\n",
       "      <td>13.9</td>\n",
       "      <td>...</td>\n",
       "      <td>33.1</td>\n",
       "      <td>23.5</td>\n",
       "      <td>608637</td>\n",
       "      <td>1129129</td>\n",
       "      <td>1600240</td>\n",
       "      <td>1394526</td>\n",
       "      <td>12.860705</td>\n",
       "      <td>23.858877</td>\n",
       "      <td>33.81361</td>\n",
       "      <td>29.466806</td>\n",
       "    </tr>\n",
       "    <tr>\n",
       "      <th>122</th>\n",
       "      <td>05000</td>\n",
       "      <td>AR</td>\n",
       "      <td>ARKANSAS</td>\n",
       "      <td>635149</td>\n",
       "      <td>271150</td>\n",
       "      <td>80835</td>\n",
       "      <td>70378</td>\n",
       "      <td>60.1</td>\n",
       "      <td>25.6</td>\n",
       "      <td>7.6</td>\n",
       "      <td>...</td>\n",
       "      <td>24.5</td>\n",
       "      <td>16.7</td>\n",
       "      <td>270168</td>\n",
       "      <td>684659</td>\n",
       "      <td>593576</td>\n",
       "      <td>463236</td>\n",
       "      <td>13.430243</td>\n",
       "      <td>34.034885</td>\n",
       "      <td>29.507084</td>\n",
       "      <td>23.02779</td>\n",
       "    </tr>\n",
       "    <tr>\n",
       "      <th>198</th>\n",
       "      <td>06000</td>\n",
       "      <td>CA</td>\n",
       "      <td>CALIFORNIA</td>\n",
       "      <td>4062367</td>\n",
       "      <td>3566578</td>\n",
       "      <td>1784772</td>\n",
       "      <td>1462266</td>\n",
       "      <td>37.4</td>\n",
       "      <td>32.8</td>\n",
       "      <td>16.4</td>\n",
       "      <td>...</td>\n",
       "      <td>30</td>\n",
       "      <td>26.6</td>\n",
       "      <td>4418675</td>\n",
       "      <td>5423462</td>\n",
       "      <td>7648680</td>\n",
       "      <td>8980726</td>\n",
       "      <td>16.692171</td>\n",
       "      <td>20.487896</td>\n",
       "      <td>28.89397</td>\n",
       "      <td>33.925964</td>\n",
       "    </tr>\n",
       "  </tbody>\n",
       "</table>\n",
       "<p>5 rows × 43 columns</p>\n",
       "</div>"
      ],
      "text/plain": [
       "    FIPS_CODE STATE   AREA_NAME LESS_THAN_A_HIGH_SCHOOL_DIPLOMA__1970  \\\n",
       "1       01000    AL     ALABAMA                               1062306   \n",
       "69      02000    AK      ALASKA                                 44994   \n",
       "106     04000    AZ     ARIZONA                                383873   \n",
       "122     05000    AR    ARKANSAS                                635149   \n",
       "198     06000    CA  CALIFORNIA                               4062367   \n",
       "\n",
       "    HIGH_SCHOOL_DIPLOMA_ONLY__1970 SOME_COLLEGE__1_3_YEARS___1970  \\\n",
       "1                           468269                         136287   \n",
       "69                           50820                          20052   \n",
       "106                         289781                         127063   \n",
       "122                         271150                          80835   \n",
       "198                        3566578                        1784772   \n",
       "\n",
       "    FOUR_YEARS_OF_COLLEGE_OR_HIGHER__1970  \\\n",
       "1                                  141936   \n",
       "69                                  19082   \n",
       "106                                115020   \n",
       "122                                 70378   \n",
       "198                               1462266   \n",
       "\n",
       "    PERCENT_OF_ADULTS_WITH_LESS_THAN_A_HIGH_SCHOOL_DIPLOMA__1970  \\\n",
       "1                                                 58.7             \n",
       "69                                                33.3             \n",
       "106                                               41.9             \n",
       "122                                               60.1             \n",
       "198                                               37.4             \n",
       "\n",
       "    PERCENT_OF_ADULTS_WITH_A_HIGH_SCHOOL_DIPLOMA_ONLY__1970  \\\n",
       "1                                                 25.9        \n",
       "69                                                37.7        \n",
       "106                                               31.6        \n",
       "122                                               25.6        \n",
       "198                                               32.8        \n",
       "\n",
       "    PERCENT_OF_ADULTS_COMPLETING_SOME_COLLEGE__1_3_YEARS___1970  ...  \\\n",
       "1                                                  7.5           ...   \n",
       "69                                                14.9           ...   \n",
       "106                                               13.9           ...   \n",
       "122                                                7.6           ...   \n",
       "198                                               16.4           ...   \n",
       "\n",
       "    PERCENT_OF_ADULTS_COMPLETING_SOME_COLLEGE_OR_ASSOCIATE_S_DEGREE__2000  \\\n",
       "1                                                 25.9                      \n",
       "69                                                35.7                      \n",
       "106                                               33.1                      \n",
       "122                                               24.5                      \n",
       "198                                                 30                      \n",
       "\n",
       "    PERCENT_OF_ADULTS_WITH_A_BACHELOR_S_DEGREE_OR_HIGHER__2000  \\\n",
       "1                                                   19           \n",
       "69                                                24.7           \n",
       "106                                               23.5           \n",
       "122                                               16.7           \n",
       "198                                               26.6           \n",
       "\n",
       "    LESS_THAN_A_HIGH_SCHOOL_DIPLOMA__2015_19  \\\n",
       "1                                     458922   \n",
       "69                                     34376   \n",
       "106                                   608637   \n",
       "122                                   270168   \n",
       "198                                  4418675   \n",
       "\n",
       "    HIGH_SCHOOL_DIPLOMA_ONLY__2015_19  \\\n",
       "1                             1022839   \n",
       "69                             134582   \n",
       "106                           1129129   \n",
       "122                            684659   \n",
       "198                           5423462   \n",
       "\n",
       "    SOME_COLLEGE_OR_ASSOCIATE_S_DEGREE__2015_19  \\\n",
       "1                                        993344   \n",
       "69                                       169609   \n",
       "106                                     1600240   \n",
       "122                                      593576   \n",
       "198                                     7648680   \n",
       "\n",
       "    BACHELOR_S_DEGREE_OR_HIGHER__2015_19  \\\n",
       "1                                 845772   \n",
       "69                                142019   \n",
       "106                              1394526   \n",
       "122                               463236   \n",
       "198                              8980726   \n",
       "\n",
       "    PERCENT_OF_ADULTS_WITH_LESS_THAN_A_HIGH_SCHOOL_DIPLOMA__2015_19  \\\n",
       "1                                            13.819302                \n",
       "69                                            7.152934                \n",
       "106                                          12.860705                \n",
       "122                                          13.430243                \n",
       "198                                          16.692171                \n",
       "\n",
       "    PERCENT_OF_ADULTS_WITH_A_HIGH_SCHOOL_DIPLOMA_ONLY__2015_19  \\\n",
       "1                                            30.800268           \n",
       "69                                           28.003729           \n",
       "106                                          23.858877           \n",
       "122                                          34.034885           \n",
       "198                                          20.487896           \n",
       "\n",
       "    PERCENT_OF_ADULTS_COMPLETING_SOME_COLLEGE_OR_ASSOCIATE_S_DEGREE__2015_19  \\\n",
       "1                                            29.912098                         \n",
       "69                                           35.292122                         \n",
       "106                                           33.81361                         \n",
       "122                                          29.507084                         \n",
       "198                                           28.89397                         \n",
       "\n",
       "    PERCENT_OF_ADULTS_WITH_A_BACHELOR_S_DEGREE_OR_HIGHER__2015_19  \n",
       "1                                            25.468332             \n",
       "69                                           29.551214             \n",
       "106                                          29.466806             \n",
       "122                                           23.02779             \n",
       "198                                          33.925964             \n",
       "\n",
       "[5 rows x 43 columns]"
      ]
     },
     "metadata": {},
     "output_type": "display_data"
    }
   ],
   "source": [
    "# split into states and countys\n",
    "\n",
    "## States\n",
    "df_education_state = df_education[df_education[\"AREA_NAME\"].isin(state_list)]\n",
    "states_found = df_education_state[\"AREA_NAME\"].unique()\n",
    "print(f\"Nb of states found: {len(states_found)} / {len(state_list)}\")\n",
    "\n",
    "if len(states_found) != len(state_list):\n",
    "    state_n_found = [state for state in state_list if state not in states_found]\n",
    "    print(f\"Missing state: {state_n_found}\")\n",
    "\n",
    "# nan check : columns with NAN correspond to the urban code\n",
    "check_nan(df_education_state)\n",
    "# drop duplicates\n",
    "df_education_state = df_education_state.drop_duplicates([\"STATE\", \"AREA_NAME\"])\n",
    "\n",
    "# keep only not null columns\n",
    "df_education_state_n_nan = df_education_state.dropna(axis=1, how='all')\n",
    "display(df_education_state_n_nan.head())\n",
    "\n"
   ]
  },
  {
   "cell_type": "code",
   "execution_count": 191,
   "metadata": {},
   "outputs": [
    {
     "name": "stdout",
     "output_type": "stream",
     "text": [
      "Nb of states found: 3112 / 3152\n",
      "Missing state: ['02901', '02902', '02903', '02904', '02905', '02906', '02907', '02908', '02909', '02910', '02911', '02912', '02913', '02914', '02915', '02916', '02917', '02918', '02919', '02920', '02921', '02922', '02923', '02924', '02925', '02926', '02927', '02928', '02929', '02930', '02931', '02932', '02933', '02934', '02935', '02936', '02937', '02938', '02939', '02940']\n"
     ]
    },
    {
     "data": {
      "text/html": [
       "<div>\n",
       "<style scoped>\n",
       "    .dataframe tbody tr th:only-of-type {\n",
       "        vertical-align: middle;\n",
       "    }\n",
       "\n",
       "    .dataframe tbody tr th {\n",
       "        vertical-align: top;\n",
       "    }\n",
       "\n",
       "    .dataframe thead th {\n",
       "        text-align: right;\n",
       "    }\n",
       "</style>\n",
       "<table border=\"1\" class=\"dataframe\">\n",
       "  <thead>\n",
       "    <tr style=\"text-align: right;\">\n",
       "      <th></th>\n",
       "      <th>FIPS_CODE</th>\n",
       "      <th>STATE</th>\n",
       "      <th>AREA_NAME</th>\n",
       "      <th>2003_RURAL_URBAN_CONTINUUM_CODE</th>\n",
       "      <th>2003_URBAN_INFLUENCE_CODE</th>\n",
       "      <th>2013_RURAL_URBAN_CONTINUUM_CODE</th>\n",
       "      <th>2013_URBAN_INFLUENCE_CODE</th>\n",
       "      <th>LESS_THAN_A_HIGH_SCHOOL_DIPLOMA__1970</th>\n",
       "      <th>HIGH_SCHOOL_DIPLOMA_ONLY__1970</th>\n",
       "      <th>SOME_COLLEGE__1_3_YEARS___1970</th>\n",
       "      <th>...</th>\n",
       "      <th>PERCENT_OF_ADULTS_COMPLETING_SOME_COLLEGE_OR_ASSOCIATE_S_DEGREE__2000</th>\n",
       "      <th>PERCENT_OF_ADULTS_WITH_A_BACHELOR_S_DEGREE_OR_HIGHER__2000</th>\n",
       "      <th>LESS_THAN_A_HIGH_SCHOOL_DIPLOMA__2015_19</th>\n",
       "      <th>HIGH_SCHOOL_DIPLOMA_ONLY__2015_19</th>\n",
       "      <th>SOME_COLLEGE_OR_ASSOCIATE_S_DEGREE__2015_19</th>\n",
       "      <th>BACHELOR_S_DEGREE_OR_HIGHER__2015_19</th>\n",
       "      <th>PERCENT_OF_ADULTS_WITH_LESS_THAN_A_HIGH_SCHOOL_DIPLOMA__2015_19</th>\n",
       "      <th>PERCENT_OF_ADULTS_WITH_A_HIGH_SCHOOL_DIPLOMA_ONLY__2015_19</th>\n",
       "      <th>PERCENT_OF_ADULTS_COMPLETING_SOME_COLLEGE_OR_ASSOCIATE_S_DEGREE__2015_19</th>\n",
       "      <th>PERCENT_OF_ADULTS_WITH_A_BACHELOR_S_DEGREE_OR_HIGHER__2015_19</th>\n",
       "    </tr>\n",
       "  </thead>\n",
       "  <tbody>\n",
       "    <tr>\n",
       "      <th>2</th>\n",
       "      <td>01001</td>\n",
       "      <td>AL</td>\n",
       "      <td>AUTAUGA COUNTY</td>\n",
       "      <td>2</td>\n",
       "      <td>2</td>\n",
       "      <td>2</td>\n",
       "      <td>2</td>\n",
       "      <td>6611</td>\n",
       "      <td>3757</td>\n",
       "      <td>933</td>\n",
       "      <td>...</td>\n",
       "      <td>26.9</td>\n",
       "      <td>18</td>\n",
       "      <td>4291</td>\n",
       "      <td>12551</td>\n",
       "      <td>10596</td>\n",
       "      <td>9929</td>\n",
       "      <td>11.483395</td>\n",
       "      <td>33.588459</td>\n",
       "      <td>28.356571</td>\n",
       "      <td>26.571573</td>\n",
       "    </tr>\n",
       "    <tr>\n",
       "      <th>3</th>\n",
       "      <td>01003</td>\n",
       "      <td>AL</td>\n",
       "      <td>BALDWIN COUNTY</td>\n",
       "      <td>4</td>\n",
       "      <td>5</td>\n",
       "      <td>3</td>\n",
       "      <td>2</td>\n",
       "      <td>18726</td>\n",
       "      <td>8426</td>\n",
       "      <td>2334</td>\n",
       "      <td>...</td>\n",
       "      <td>29.3</td>\n",
       "      <td>23.1</td>\n",
       "      <td>13893</td>\n",
       "      <td>41797</td>\n",
       "      <td>47274</td>\n",
       "      <td>48148</td>\n",
       "      <td>9.193843</td>\n",
       "      <td>27.659616</td>\n",
       "      <td>31.284081</td>\n",
       "      <td>31.862459</td>\n",
       "    </tr>\n",
       "    <tr>\n",
       "      <th>4</th>\n",
       "      <td>01005</td>\n",
       "      <td>AL</td>\n",
       "      <td>BARBOUR COUNTY</td>\n",
       "      <td>6</td>\n",
       "      <td>6</td>\n",
       "      <td>6</td>\n",
       "      <td>6</td>\n",
       "      <td>8120</td>\n",
       "      <td>2242</td>\n",
       "      <td>581</td>\n",
       "      <td>...</td>\n",
       "      <td>21.3</td>\n",
       "      <td>10.9</td>\n",
       "      <td>4812</td>\n",
       "      <td>6396</td>\n",
       "      <td>4676</td>\n",
       "      <td>2080</td>\n",
       "      <td>26.786907</td>\n",
       "      <td>35.604542</td>\n",
       "      <td>26.029837</td>\n",
       "      <td>11.578713</td>\n",
       "    </tr>\n",
       "    <tr>\n",
       "      <th>5</th>\n",
       "      <td>01007</td>\n",
       "      <td>AL</td>\n",
       "      <td>BIBB COUNTY</td>\n",
       "      <td>1</td>\n",
       "      <td>1</td>\n",
       "      <td>1</td>\n",
       "      <td>1</td>\n",
       "      <td>5272</td>\n",
       "      <td>1402</td>\n",
       "      <td>238</td>\n",
       "      <td>...</td>\n",
       "      <td>20.4</td>\n",
       "      <td>7.1</td>\n",
       "      <td>3386</td>\n",
       "      <td>7256</td>\n",
       "      <td>3848</td>\n",
       "      <td>1678</td>\n",
       "      <td>20.942602</td>\n",
       "      <td>44.878773</td>\n",
       "      <td>23.800098</td>\n",
       "      <td>10.378526</td>\n",
       "    </tr>\n",
       "    <tr>\n",
       "      <th>6</th>\n",
       "      <td>01009</td>\n",
       "      <td>AL</td>\n",
       "      <td>BLOUNT COUNTY</td>\n",
       "      <td>1</td>\n",
       "      <td>1</td>\n",
       "      <td>1</td>\n",
       "      <td>1</td>\n",
       "      <td>10677</td>\n",
       "      <td>3440</td>\n",
       "      <td>626</td>\n",
       "      <td>...</td>\n",
       "      <td>24.8</td>\n",
       "      <td>9.6</td>\n",
       "      <td>7763</td>\n",
       "      <td>13299</td>\n",
       "      <td>13519</td>\n",
       "      <td>5210</td>\n",
       "      <td>19.509438</td>\n",
       "      <td>33.422131</td>\n",
       "      <td>33.975021</td>\n",
       "      <td>13.093413</td>\n",
       "    </tr>\n",
       "  </tbody>\n",
       "</table>\n",
       "<p>5 rows × 47 columns</p>\n",
       "</div>"
      ],
      "text/plain": [
       "  FIPS_CODE STATE       AREA_NAME 2003_RURAL_URBAN_CONTINUUM_CODE  \\\n",
       "2     01001    AL  AUTAUGA COUNTY                               2   \n",
       "3     01003    AL  BALDWIN COUNTY                               4   \n",
       "4     01005    AL  BARBOUR COUNTY                               6   \n",
       "5     01007    AL     BIBB COUNTY                               1   \n",
       "6     01009    AL   BLOUNT COUNTY                               1   \n",
       "\n",
       "  2003_URBAN_INFLUENCE_CODE 2013_RURAL_URBAN_CONTINUUM_CODE  \\\n",
       "2                         2                               2   \n",
       "3                         5                               3   \n",
       "4                         6                               6   \n",
       "5                         1                               1   \n",
       "6                         1                               1   \n",
       "\n",
       "  2013_URBAN_INFLUENCE_CODE LESS_THAN_A_HIGH_SCHOOL_DIPLOMA__1970  \\\n",
       "2                         2                                  6611   \n",
       "3                         2                                 18726   \n",
       "4                         6                                  8120   \n",
       "5                         1                                  5272   \n",
       "6                         1                                 10677   \n",
       "\n",
       "  HIGH_SCHOOL_DIPLOMA_ONLY__1970 SOME_COLLEGE__1_3_YEARS___1970  ...  \\\n",
       "2                           3757                            933  ...   \n",
       "3                           8426                           2334  ...   \n",
       "4                           2242                            581  ...   \n",
       "5                           1402                            238  ...   \n",
       "6                           3440                            626  ...   \n",
       "\n",
       "  PERCENT_OF_ADULTS_COMPLETING_SOME_COLLEGE_OR_ASSOCIATE_S_DEGREE__2000  \\\n",
       "2                                               26.9                      \n",
       "3                                               29.3                      \n",
       "4                                               21.3                      \n",
       "5                                               20.4                      \n",
       "6                                               24.8                      \n",
       "\n",
       "  PERCENT_OF_ADULTS_WITH_A_BACHELOR_S_DEGREE_OR_HIGHER__2000  \\\n",
       "2                                                 18           \n",
       "3                                               23.1           \n",
       "4                                               10.9           \n",
       "5                                                7.1           \n",
       "6                                                9.6           \n",
       "\n",
       "  LESS_THAN_A_HIGH_SCHOOL_DIPLOMA__2015_19 HIGH_SCHOOL_DIPLOMA_ONLY__2015_19  \\\n",
       "2                                     4291                             12551   \n",
       "3                                    13893                             41797   \n",
       "4                                     4812                              6396   \n",
       "5                                     3386                              7256   \n",
       "6                                     7763                             13299   \n",
       "\n",
       "  SOME_COLLEGE_OR_ASSOCIATE_S_DEGREE__2015_19  \\\n",
       "2                                       10596   \n",
       "3                                       47274   \n",
       "4                                        4676   \n",
       "5                                        3848   \n",
       "6                                       13519   \n",
       "\n",
       "  BACHELOR_S_DEGREE_OR_HIGHER__2015_19  \\\n",
       "2                                 9929   \n",
       "3                                48148   \n",
       "4                                 2080   \n",
       "5                                 1678   \n",
       "6                                 5210   \n",
       "\n",
       "  PERCENT_OF_ADULTS_WITH_LESS_THAN_A_HIGH_SCHOOL_DIPLOMA__2015_19  \\\n",
       "2                                          11.483395                \n",
       "3                                           9.193843                \n",
       "4                                          26.786907                \n",
       "5                                          20.942602                \n",
       "6                                          19.509438                \n",
       "\n",
       "  PERCENT_OF_ADULTS_WITH_A_HIGH_SCHOOL_DIPLOMA_ONLY__2015_19  \\\n",
       "2                                          33.588459           \n",
       "3                                          27.659616           \n",
       "4                                          35.604542           \n",
       "5                                          44.878773           \n",
       "6                                          33.422131           \n",
       "\n",
       "  PERCENT_OF_ADULTS_COMPLETING_SOME_COLLEGE_OR_ASSOCIATE_S_DEGREE__2015_19  \\\n",
       "2                                          28.356571                         \n",
       "3                                          31.284081                         \n",
       "4                                          26.029837                         \n",
       "5                                          23.800098                         \n",
       "6                                          33.975021                         \n",
       "\n",
       "  PERCENT_OF_ADULTS_WITH_A_BACHELOR_S_DEGREE_OR_HIGHER__2015_19  \n",
       "2                                          26.571573             \n",
       "3                                          31.862459             \n",
       "4                                          11.578713             \n",
       "5                                          10.378526             \n",
       "6                                          13.093413             \n",
       "\n",
       "[5 rows x 47 columns]"
      ]
     },
     "metadata": {},
     "output_type": "display_data"
    },
    {
     "name": "stdout",
     "output_type": "stream",
     "text": [
      "=== Check NAN\n",
      "... nb of columns with NAN 32 out of 47\n",
      "LESS_THAN_A_HIGH_SCHOOL_DIPLOMA__1970... 0.19%\n",
      "SOME_COLLEGE__1_3_YEARS___1970... 0.19%\n",
      "FOUR_YEARS_OF_COLLEGE_OR_HIGHER__1970... 0.19%\n",
      "PERCENT_OF_ADULTS_WITH_LESS_THAN_A_HIGH_SCHOOL_DIPLOMA__1970... 0.19%\n",
      "PERCENT_OF_ADULTS_WITH_A_HIGH_SCHOOL_DIPLOMA_ONLY__1970... 0.19%\n",
      "PERCENT_OF_ADULTS_COMPLETING_SOME_COLLEGE__1_3_YEARS___1970... 0.19%\n",
      "PERCENT_OF_ADULTS_COMPLETING_FOUR_YEARS_OF_COLLEGE_OR_HIGHER__1970... 0.19%\n",
      "HIGH_SCHOOL_DIPLOMA_ONLY__1970... 0.19%\n",
      "PERCENT_OF_ADULTS_WITH_LESS_THAN_A_HIGH_SCHOOL_DIPLOMA__1980... 0.10%\n",
      "PERCENT_OF_ADULTS_COMPLETING_FOUR_YEARS_OF_COLLEGE_OR_HIGHER__1980... 0.10%\n",
      "PERCENT_OF_ADULTS_COMPLETING_SOME_COLLEGE__1_3_YEARS___1980... 0.10%\n",
      "PERCENT_OF_ADULTS_WITH_A_HIGH_SCHOOL_DIPLOMA_ONLY__1980... 0.10%\n",
      "FOUR_YEARS_OF_COLLEGE_OR_HIGHER__1980... 0.10%\n",
      "SOME_COLLEGE__1_3_YEARS___1980... 0.10%\n",
      "HIGH_SCHOOL_DIPLOMA_ONLY__1980... 0.10%\n",
      "LESS_THAN_A_HIGH_SCHOOL_DIPLOMA__1980... 0.10%\n",
      "LESS_THAN_A_HIGH_SCHOOL_DIPLOMA__2000... 0.03%\n",
      "PERCENT_OF_ADULTS_COMPLETING_SOME_COLLEGE_OR_ASSOCIATE_S_DEGREE__2000... 0.03%\n",
      "PERCENT_OF_ADULTS_WITH_A_HIGH_SCHOOL_DIPLOMA_ONLY__2000... 0.03%\n",
      "PERCENT_OF_ADULTS_WITH_LESS_THAN_A_HIGH_SCHOOL_DIPLOMA__2000... 0.03%\n",
      "BACHELOR_S_DEGREE_OR_HIGHER__2000... 0.03%\n",
      "SOME_COLLEGE_OR_ASSOCIATE_S_DEGREE__2000... 0.03%\n",
      "HIGH_SCHOOL_DIPLOMA_ONLY__2000... 0.03%\n",
      "LESS_THAN_A_HIGH_SCHOOL_DIPLOMA__1990... 0.03%\n",
      "PERCENT_OF_ADULTS_WITH_A_BACHELOR_S_DEGREE_OR_HIGHER__1990... 0.03%\n",
      "PERCENT_OF_ADULTS_COMPLETING_SOME_COLLEGE_OR_ASSOCIATE_S_DEGREE__1990... 0.03%\n",
      "PERCENT_OF_ADULTS_WITH_A_HIGH_SCHOOL_DIPLOMA_ONLY__1990... 0.03%\n",
      "PERCENT_OF_ADULTS_WITH_LESS_THAN_A_HIGH_SCHOOL_DIPLOMA__1990... 0.03%\n",
      "BACHELOR_S_DEGREE_OR_HIGHER__1990... 0.03%\n",
      "SOME_COLLEGE_OR_ASSOCIATE_S_DEGREE__1990... 0.03%\n",
      "HIGH_SCHOOL_DIPLOMA_ONLY__1990... 0.03%\n",
      "PERCENT_OF_ADULTS_WITH_A_BACHELOR_S_DEGREE_OR_HIGHER__2000... 0.03%\n"
     ]
    }
   ],
   "source": [
    "## county\n",
    "df_education_county = df_education[df_education[\"FIPS_CODE\"].isin(county_fips_list)]\n",
    "# Check if all county were found\n",
    "county_found = df_education_county[\"FIPS_CODE\"].unique()\n",
    "print(f\"Nb of states found: {len(county_found)} / {len(county_fips_list)}\")\n",
    "\n",
    "if len(county_found) != len(county_fips_list):\n",
    "    county_n_found = [county for county in county_fips_list if county not in county_found]\n",
    "    print(f\"Missing state: {county_n_found}\")\n",
    "\n",
    "# TODO: fix countys\n",
    "display(df_education_county.head())\n",
    "check_nan(df_education_county)\n",
    "\n",
    "\n",
    "# drop duplicates\n",
    "df_education_county = df_education_county.drop_duplicates([\"STATE\", \"AREA_NAME\"])"
   ]
  },
  {
   "cell_type": "code",
   "execution_count": 172,
   "metadata": {},
   "outputs": [
    {
     "data": {
      "text/html": [
       "<div>\n",
       "<style scoped>\n",
       "    .dataframe tbody tr th:only-of-type {\n",
       "        vertical-align: middle;\n",
       "    }\n",
       "\n",
       "    .dataframe tbody tr th {\n",
       "        vertical-align: top;\n",
       "    }\n",
       "\n",
       "    .dataframe thead th {\n",
       "        text-align: right;\n",
       "    }\n",
       "</style>\n",
       "<table border=\"1\" class=\"dataframe\">\n",
       "  <thead>\n",
       "    <tr style=\"text-align: right;\">\n",
       "      <th></th>\n",
       "      <th>FIPS_CODE</th>\n",
       "      <th>STATE</th>\n",
       "      <th>AREA_NAME</th>\n",
       "      <th>2003_RURAL_URBAN_CONTINUUM_CODE</th>\n",
       "      <th>2003_URBAN_INFLUENCE_CODE</th>\n",
       "      <th>2013_RURAL_URBAN_CONTINUUM_CODE</th>\n",
       "      <th>2013_URBAN_INFLUENCE_CODE</th>\n",
       "      <th>LESS_THAN_A_HIGH_SCHOOL_DIPLOMA__1970</th>\n",
       "      <th>HIGH_SCHOOL_DIPLOMA_ONLY__1970</th>\n",
       "      <th>SOME_COLLEGE__1_3_YEARS___1970</th>\n",
       "      <th>...</th>\n",
       "      <th>PERCENT_OF_ADULTS_COMPLETING_SOME_COLLEGE_OR_ASSOCIATE_S_DEGREE__2000</th>\n",
       "      <th>PERCENT_OF_ADULTS_WITH_A_BACHELOR_S_DEGREE_OR_HIGHER__2000</th>\n",
       "      <th>LESS_THAN_A_HIGH_SCHOOL_DIPLOMA__2015_19</th>\n",
       "      <th>HIGH_SCHOOL_DIPLOMA_ONLY__2015_19</th>\n",
       "      <th>SOME_COLLEGE_OR_ASSOCIATE_S_DEGREE__2015_19</th>\n",
       "      <th>BACHELOR_S_DEGREE_OR_HIGHER__2015_19</th>\n",
       "      <th>PERCENT_OF_ADULTS_WITH_LESS_THAN_A_HIGH_SCHOOL_DIPLOMA__2015_19</th>\n",
       "      <th>PERCENT_OF_ADULTS_WITH_A_HIGH_SCHOOL_DIPLOMA_ONLY__2015_19</th>\n",
       "      <th>PERCENT_OF_ADULTS_COMPLETING_SOME_COLLEGE_OR_ASSOCIATE_S_DEGREE__2015_19</th>\n",
       "      <th>PERCENT_OF_ADULTS_WITH_A_BACHELOR_S_DEGREE_OR_HIGHER__2015_19</th>\n",
       "    </tr>\n",
       "  </thead>\n",
       "  <tbody>\n",
       "  </tbody>\n",
       "</table>\n",
       "<p>0 rows × 47 columns</p>\n",
       "</div>"
      ],
      "text/plain": [
       "Empty DataFrame\n",
       "Columns: [FIPS_CODE, STATE, AREA_NAME, 2003_RURAL_URBAN_CONTINUUM_CODE, 2003_URBAN_INFLUENCE_CODE, 2013_RURAL_URBAN_CONTINUUM_CODE, 2013_URBAN_INFLUENCE_CODE, LESS_THAN_A_HIGH_SCHOOL_DIPLOMA__1970, HIGH_SCHOOL_DIPLOMA_ONLY__1970, SOME_COLLEGE__1_3_YEARS___1970, FOUR_YEARS_OF_COLLEGE_OR_HIGHER__1970, PERCENT_OF_ADULTS_WITH_LESS_THAN_A_HIGH_SCHOOL_DIPLOMA__1970, PERCENT_OF_ADULTS_WITH_A_HIGH_SCHOOL_DIPLOMA_ONLY__1970, PERCENT_OF_ADULTS_COMPLETING_SOME_COLLEGE__1_3_YEARS___1970, PERCENT_OF_ADULTS_COMPLETING_FOUR_YEARS_OF_COLLEGE_OR_HIGHER__1970, LESS_THAN_A_HIGH_SCHOOL_DIPLOMA__1980, HIGH_SCHOOL_DIPLOMA_ONLY__1980, SOME_COLLEGE__1_3_YEARS___1980, FOUR_YEARS_OF_COLLEGE_OR_HIGHER__1980, PERCENT_OF_ADULTS_WITH_LESS_THAN_A_HIGH_SCHOOL_DIPLOMA__1980, PERCENT_OF_ADULTS_WITH_A_HIGH_SCHOOL_DIPLOMA_ONLY__1980, PERCENT_OF_ADULTS_COMPLETING_SOME_COLLEGE__1_3_YEARS___1980, PERCENT_OF_ADULTS_COMPLETING_FOUR_YEARS_OF_COLLEGE_OR_HIGHER__1980, LESS_THAN_A_HIGH_SCHOOL_DIPLOMA__1990, HIGH_SCHOOL_DIPLOMA_ONLY__1990, SOME_COLLEGE_OR_ASSOCIATE_S_DEGREE__1990, BACHELOR_S_DEGREE_OR_HIGHER__1990, PERCENT_OF_ADULTS_WITH_LESS_THAN_A_HIGH_SCHOOL_DIPLOMA__1990, PERCENT_OF_ADULTS_WITH_A_HIGH_SCHOOL_DIPLOMA_ONLY__1990, PERCENT_OF_ADULTS_COMPLETING_SOME_COLLEGE_OR_ASSOCIATE_S_DEGREE__1990, PERCENT_OF_ADULTS_WITH_A_BACHELOR_S_DEGREE_OR_HIGHER__1990, LESS_THAN_A_HIGH_SCHOOL_DIPLOMA__2000, HIGH_SCHOOL_DIPLOMA_ONLY__2000, SOME_COLLEGE_OR_ASSOCIATE_S_DEGREE__2000, BACHELOR_S_DEGREE_OR_HIGHER__2000, PERCENT_OF_ADULTS_WITH_LESS_THAN_A_HIGH_SCHOOL_DIPLOMA__2000, PERCENT_OF_ADULTS_WITH_A_HIGH_SCHOOL_DIPLOMA_ONLY__2000, PERCENT_OF_ADULTS_COMPLETING_SOME_COLLEGE_OR_ASSOCIATE_S_DEGREE__2000, PERCENT_OF_ADULTS_WITH_A_BACHELOR_S_DEGREE_OR_HIGHER__2000, LESS_THAN_A_HIGH_SCHOOL_DIPLOMA__2015_19, HIGH_SCHOOL_DIPLOMA_ONLY__2015_19, SOME_COLLEGE_OR_ASSOCIATE_S_DEGREE__2015_19, BACHELOR_S_DEGREE_OR_HIGHER__2015_19, PERCENT_OF_ADULTS_WITH_LESS_THAN_A_HIGH_SCHOOL_DIPLOMA__2015_19, PERCENT_OF_ADULTS_WITH_A_HIGH_SCHOOL_DIPLOMA_ONLY__2015_19, PERCENT_OF_ADULTS_COMPLETING_SOME_COLLEGE_OR_ASSOCIATE_S_DEGREE__2015_19, PERCENT_OF_ADULTS_WITH_A_BACHELOR_S_DEGREE_OR_HIGHER__2015_19]\n",
       "Index: []\n",
       "\n",
       "[0 rows x 47 columns]"
      ]
     },
     "execution_count": 172,
     "metadata": {},
     "output_type": "execute_result"
    }
   ],
   "source": []
  },
  {
   "cell_type": "code",
   "execution_count": null,
   "metadata": {},
   "outputs": [],
   "source": []
  },
  {
   "cell_type": "code",
   "execution_count": 141,
   "metadata": {},
   "outputs": [
    {
     "data": {
      "text/plain": [
       "array(['01001', '01003', '01005', ..., '56041', '56043', '56045'],\n",
       "      dtype=object)"
      ]
     },
     "execution_count": 141,
     "metadata": {},
     "output_type": "execute_result"
    }
   ],
   "source": [
    "county_fips_list"
   ]
  },
  {
   "cell_type": "code",
   "execution_count": null,
   "metadata": {},
   "outputs": [],
   "source": []
  },
  {
   "cell_type": "code",
   "execution_count": 143,
   "metadata": {},
   "outputs": [
    {
     "data": {
      "text/html": [
       "<div>\n",
       "<style scoped>\n",
       "    .dataframe tbody tr th:only-of-type {\n",
       "        vertical-align: middle;\n",
       "    }\n",
       "\n",
       "    .dataframe tbody tr th {\n",
       "        vertical-align: top;\n",
       "    }\n",
       "\n",
       "    .dataframe thead th {\n",
       "        text-align: right;\n",
       "    }\n",
       "</style>\n",
       "<table border=\"1\" class=\"dataframe\">\n",
       "  <thead>\n",
       "    <tr style=\"text-align: right;\">\n",
       "      <th></th>\n",
       "      <th>FIPS_CODE</th>\n",
       "      <th>STATE</th>\n",
       "      <th>AREA_NAME</th>\n",
       "      <th>2003_RURAL_URBAN_CONTINUUM_CODE</th>\n",
       "      <th>2003_URBAN_INFLUENCE_CODE</th>\n",
       "      <th>2013_RURAL_URBAN_CONTINUUM_CODE</th>\n",
       "      <th>2013_URBAN_INFLUENCE_CODE</th>\n",
       "      <th>LESS_THAN_A_HIGH_SCHOOL_DIPLOMA__1970</th>\n",
       "      <th>HIGH_SCHOOL_DIPLOMA_ONLY__1970</th>\n",
       "      <th>SOME_COLLEGE__1_3_YEARS___1970</th>\n",
       "      <th>...</th>\n",
       "      <th>PERCENT_OF_ADULTS_COMPLETING_SOME_COLLEGE_OR_ASSOCIATE_S_DEGREE__2000</th>\n",
       "      <th>PERCENT_OF_ADULTS_WITH_A_BACHELOR_S_DEGREE_OR_HIGHER__2000</th>\n",
       "      <th>LESS_THAN_A_HIGH_SCHOOL_DIPLOMA__2015_19</th>\n",
       "      <th>HIGH_SCHOOL_DIPLOMA_ONLY__2015_19</th>\n",
       "      <th>SOME_COLLEGE_OR_ASSOCIATE_S_DEGREE__2015_19</th>\n",
       "      <th>BACHELOR_S_DEGREE_OR_HIGHER__2015_19</th>\n",
       "      <th>PERCENT_OF_ADULTS_WITH_LESS_THAN_A_HIGH_SCHOOL_DIPLOMA__2015_19</th>\n",
       "      <th>PERCENT_OF_ADULTS_WITH_A_HIGH_SCHOOL_DIPLOMA_ONLY__2015_19</th>\n",
       "      <th>PERCENT_OF_ADULTS_COMPLETING_SOME_COLLEGE_OR_ASSOCIATE_S_DEGREE__2015_19</th>\n",
       "      <th>PERCENT_OF_ADULTS_WITH_A_BACHELOR_S_DEGREE_OR_HIGHER__2015_19</th>\n",
       "    </tr>\n",
       "  </thead>\n",
       "  <tbody>\n",
       "    <tr>\n",
       "      <th>0</th>\n",
       "      <td>00000</td>\n",
       "      <td>US</td>\n",
       "      <td>UNITED STATES</td>\n",
       "      <td>NaN</td>\n",
       "      <td>NaN</td>\n",
       "      <td>NaN</td>\n",
       "      <td>NaN</td>\n",
       "      <td>52373312</td>\n",
       "      <td>34158051</td>\n",
       "      <td>11650730</td>\n",
       "      <td>...</td>\n",
       "      <td>27.4</td>\n",
       "      <td>24.4</td>\n",
       "      <td>26472261</td>\n",
       "      <td>59472748</td>\n",
       "      <td>63756905</td>\n",
       "      <td>70920162</td>\n",
       "      <td>11.998918</td>\n",
       "      <td>26.956844</td>\n",
       "      <td>28.898697</td>\n",
       "      <td>32.145542</td>\n",
       "    </tr>\n",
       "    <tr>\n",
       "      <th>1</th>\n",
       "      <td>01000</td>\n",
       "      <td>AL</td>\n",
       "      <td>ALABAMA</td>\n",
       "      <td>NaN</td>\n",
       "      <td>NaN</td>\n",
       "      <td>NaN</td>\n",
       "      <td>NaN</td>\n",
       "      <td>1062306</td>\n",
       "      <td>468269</td>\n",
       "      <td>136287</td>\n",
       "      <td>...</td>\n",
       "      <td>25.9</td>\n",
       "      <td>19</td>\n",
       "      <td>458922</td>\n",
       "      <td>1022839</td>\n",
       "      <td>993344</td>\n",
       "      <td>845772</td>\n",
       "      <td>13.819302</td>\n",
       "      <td>30.800268</td>\n",
       "      <td>29.912098</td>\n",
       "      <td>25.468332</td>\n",
       "    </tr>\n",
       "    <tr>\n",
       "      <th>2</th>\n",
       "      <td>01001</td>\n",
       "      <td>AL</td>\n",
       "      <td>AUTAUGA COUNTY</td>\n",
       "      <td>2</td>\n",
       "      <td>2</td>\n",
       "      <td>2</td>\n",
       "      <td>2</td>\n",
       "      <td>6611</td>\n",
       "      <td>3757</td>\n",
       "      <td>933</td>\n",
       "      <td>...</td>\n",
       "      <td>26.9</td>\n",
       "      <td>18</td>\n",
       "      <td>4291</td>\n",
       "      <td>12551</td>\n",
       "      <td>10596</td>\n",
       "      <td>9929</td>\n",
       "      <td>11.483395</td>\n",
       "      <td>33.588459</td>\n",
       "      <td>28.356571</td>\n",
       "      <td>26.571573</td>\n",
       "    </tr>\n",
       "    <tr>\n",
       "      <th>3</th>\n",
       "      <td>01003</td>\n",
       "      <td>AL</td>\n",
       "      <td>BALDWIN COUNTY</td>\n",
       "      <td>4</td>\n",
       "      <td>5</td>\n",
       "      <td>3</td>\n",
       "      <td>2</td>\n",
       "      <td>18726</td>\n",
       "      <td>8426</td>\n",
       "      <td>2334</td>\n",
       "      <td>...</td>\n",
       "      <td>29.3</td>\n",
       "      <td>23.1</td>\n",
       "      <td>13893</td>\n",
       "      <td>41797</td>\n",
       "      <td>47274</td>\n",
       "      <td>48148</td>\n",
       "      <td>9.193843</td>\n",
       "      <td>27.659616</td>\n",
       "      <td>31.284081</td>\n",
       "      <td>31.862459</td>\n",
       "    </tr>\n",
       "    <tr>\n",
       "      <th>4</th>\n",
       "      <td>01005</td>\n",
       "      <td>AL</td>\n",
       "      <td>BARBOUR COUNTY</td>\n",
       "      <td>6</td>\n",
       "      <td>6</td>\n",
       "      <td>6</td>\n",
       "      <td>6</td>\n",
       "      <td>8120</td>\n",
       "      <td>2242</td>\n",
       "      <td>581</td>\n",
       "      <td>...</td>\n",
       "      <td>21.3</td>\n",
       "      <td>10.9</td>\n",
       "      <td>4812</td>\n",
       "      <td>6396</td>\n",
       "      <td>4676</td>\n",
       "      <td>2080</td>\n",
       "      <td>26.786907</td>\n",
       "      <td>35.604542</td>\n",
       "      <td>26.029837</td>\n",
       "      <td>11.578713</td>\n",
       "    </tr>\n",
       "    <tr>\n",
       "      <th>...</th>\n",
       "      <td>...</td>\n",
       "      <td>...</td>\n",
       "      <td>...</td>\n",
       "      <td>...</td>\n",
       "      <td>...</td>\n",
       "      <td>...</td>\n",
       "      <td>...</td>\n",
       "      <td>...</td>\n",
       "      <td>...</td>\n",
       "      <td>...</td>\n",
       "      <td>...</td>\n",
       "      <td>...</td>\n",
       "      <td>...</td>\n",
       "      <td>...</td>\n",
       "      <td>...</td>\n",
       "      <td>...</td>\n",
       "      <td>...</td>\n",
       "      <td>...</td>\n",
       "      <td>...</td>\n",
       "      <td>...</td>\n",
       "      <td>...</td>\n",
       "    </tr>\n",
       "    <tr>\n",
       "      <th>3278</th>\n",
       "      <td>72145</td>\n",
       "      <td>PR</td>\n",
       "      <td>VEGA BAJA MUNICIPIO</td>\n",
       "      <td>1</td>\n",
       "      <td>1</td>\n",
       "      <td>1</td>\n",
       "      <td>1</td>\n",
       "      <td>NaN</td>\n",
       "      <td>NaN</td>\n",
       "      <td>NaN</td>\n",
       "      <td>...</td>\n",
       "      <td>21.4</td>\n",
       "      <td>14.4</td>\n",
       "      <td>10494</td>\n",
       "      <td>9681</td>\n",
       "      <td>8905</td>\n",
       "      <td>7834</td>\n",
       "      <td>28.428238</td>\n",
       "      <td>26.225822</td>\n",
       "      <td>24.123638</td>\n",
       "      <td>21.2223</td>\n",
       "    </tr>\n",
       "    <tr>\n",
       "      <th>3279</th>\n",
       "      <td>72147</td>\n",
       "      <td>PR</td>\n",
       "      <td>VIEQUES MUNICIPIO</td>\n",
       "      <td>7</td>\n",
       "      <td>12</td>\n",
       "      <td>7</td>\n",
       "      <td>12</td>\n",
       "      <td>NaN</td>\n",
       "      <td>NaN</td>\n",
       "      <td>NaN</td>\n",
       "      <td>...</td>\n",
       "      <td>13.7</td>\n",
       "      <td>10.1</td>\n",
       "      <td>1792</td>\n",
       "      <td>2440</td>\n",
       "      <td>875</td>\n",
       "      <td>1121</td>\n",
       "      <td>28.773281</td>\n",
       "      <td>39.177906</td>\n",
       "      <td>14.049454</td>\n",
       "      <td>17.999357</td>\n",
       "    </tr>\n",
       "    <tr>\n",
       "      <th>3280</th>\n",
       "      <td>72149</td>\n",
       "      <td>PR</td>\n",
       "      <td>VILLALBA MUNICIPIO</td>\n",
       "      <td>2</td>\n",
       "      <td>2</td>\n",
       "      <td>2</td>\n",
       "      <td>2</td>\n",
       "      <td>NaN</td>\n",
       "      <td>NaN</td>\n",
       "      <td>NaN</td>\n",
       "      <td>...</td>\n",
       "      <td>18</td>\n",
       "      <td>12.8</td>\n",
       "      <td>3330</td>\n",
       "      <td>5809</td>\n",
       "      <td>2987</td>\n",
       "      <td>3015</td>\n",
       "      <td>21.993263</td>\n",
       "      <td>38.366028</td>\n",
       "      <td>19.727892</td>\n",
       "      <td>19.912819</td>\n",
       "    </tr>\n",
       "    <tr>\n",
       "      <th>3281</th>\n",
       "      <td>72151</td>\n",
       "      <td>PR</td>\n",
       "      <td>YABUCOA MUNICIPIO</td>\n",
       "      <td>1</td>\n",
       "      <td>1</td>\n",
       "      <td>1</td>\n",
       "      <td>1</td>\n",
       "      <td>NaN</td>\n",
       "      <td>NaN</td>\n",
       "      <td>NaN</td>\n",
       "      <td>...</td>\n",
       "      <td>18.3</td>\n",
       "      <td>12.1</td>\n",
       "      <td>6927</td>\n",
       "      <td>6132</td>\n",
       "      <td>6494</td>\n",
       "      <td>4293</td>\n",
       "      <td>29.048897</td>\n",
       "      <td>25.715004</td>\n",
       "      <td>27.233078</td>\n",
       "      <td>18.003019</td>\n",
       "    </tr>\n",
       "    <tr>\n",
       "      <th>3282</th>\n",
       "      <td>72153</td>\n",
       "      <td>PR</td>\n",
       "      <td>YAUCO MUNICIPIO</td>\n",
       "      <td>3</td>\n",
       "      <td>2</td>\n",
       "      <td>2</td>\n",
       "      <td>2</td>\n",
       "      <td>NaN</td>\n",
       "      <td>NaN</td>\n",
       "      <td>NaN</td>\n",
       "      <td>...</td>\n",
       "      <td>17.8</td>\n",
       "      <td>15.8</td>\n",
       "      <td>6794</td>\n",
       "      <td>8512</td>\n",
       "      <td>3973</td>\n",
       "      <td>6304</td>\n",
       "      <td>26.556698</td>\n",
       "      <td>33.272095</td>\n",
       "      <td>15.529844</td>\n",
       "      <td>24.641363</td>\n",
       "    </tr>\n",
       "  </tbody>\n",
       "</table>\n",
       "<p>3283 rows × 47 columns</p>\n",
       "</div>"
      ],
      "text/plain": [
       "     FIPS_CODE STATE            AREA_NAME 2003_RURAL_URBAN_CONTINUUM_CODE  \\\n",
       "0        00000    US        UNITED STATES                             NaN   \n",
       "1        01000    AL              ALABAMA                             NaN   \n",
       "2        01001    AL       AUTAUGA COUNTY                               2   \n",
       "3        01003    AL       BALDWIN COUNTY                               4   \n",
       "4        01005    AL       BARBOUR COUNTY                               6   \n",
       "...        ...   ...                  ...                             ...   \n",
       "3278     72145    PR  VEGA BAJA MUNICIPIO                               1   \n",
       "3279     72147    PR    VIEQUES MUNICIPIO                               7   \n",
       "3280     72149    PR   VILLALBA MUNICIPIO                               2   \n",
       "3281     72151    PR    YABUCOA MUNICIPIO                               1   \n",
       "3282     72153    PR      YAUCO MUNICIPIO                               3   \n",
       "\n",
       "     2003_URBAN_INFLUENCE_CODE 2013_RURAL_URBAN_CONTINUUM_CODE  \\\n",
       "0                          NaN                             NaN   \n",
       "1                          NaN                             NaN   \n",
       "2                            2                               2   \n",
       "3                            5                               3   \n",
       "4                            6                               6   \n",
       "...                        ...                             ...   \n",
       "3278                         1                               1   \n",
       "3279                        12                               7   \n",
       "3280                         2                               2   \n",
       "3281                         1                               1   \n",
       "3282                         2                               2   \n",
       "\n",
       "     2013_URBAN_INFLUENCE_CODE LESS_THAN_A_HIGH_SCHOOL_DIPLOMA__1970  \\\n",
       "0                          NaN                              52373312   \n",
       "1                          NaN                               1062306   \n",
       "2                            2                                  6611   \n",
       "3                            2                                 18726   \n",
       "4                            6                                  8120   \n",
       "...                        ...                                   ...   \n",
       "3278                         1                                   NaN   \n",
       "3279                        12                                   NaN   \n",
       "3280                         2                                   NaN   \n",
       "3281                         1                                   NaN   \n",
       "3282                         2                                   NaN   \n",
       "\n",
       "     HIGH_SCHOOL_DIPLOMA_ONLY__1970 SOME_COLLEGE__1_3_YEARS___1970  ...  \\\n",
       "0                          34158051                       11650730  ...   \n",
       "1                            468269                         136287  ...   \n",
       "2                              3757                            933  ...   \n",
       "3                              8426                           2334  ...   \n",
       "4                              2242                            581  ...   \n",
       "...                             ...                            ...  ...   \n",
       "3278                            NaN                            NaN  ...   \n",
       "3279                            NaN                            NaN  ...   \n",
       "3280                            NaN                            NaN  ...   \n",
       "3281                            NaN                            NaN  ...   \n",
       "3282                            NaN                            NaN  ...   \n",
       "\n",
       "     PERCENT_OF_ADULTS_COMPLETING_SOME_COLLEGE_OR_ASSOCIATE_S_DEGREE__2000  \\\n",
       "0                                                  27.4                      \n",
       "1                                                  25.9                      \n",
       "2                                                  26.9                      \n",
       "3                                                  29.3                      \n",
       "4                                                  21.3                      \n",
       "...                                                 ...                      \n",
       "3278                                               21.4                      \n",
       "3279                                               13.7                      \n",
       "3280                                                 18                      \n",
       "3281                                               18.3                      \n",
       "3282                                               17.8                      \n",
       "\n",
       "     PERCENT_OF_ADULTS_WITH_A_BACHELOR_S_DEGREE_OR_HIGHER__2000  \\\n",
       "0                                                  24.4           \n",
       "1                                                    19           \n",
       "2                                                    18           \n",
       "3                                                  23.1           \n",
       "4                                                  10.9           \n",
       "...                                                 ...           \n",
       "3278                                               14.4           \n",
       "3279                                               10.1           \n",
       "3280                                               12.8           \n",
       "3281                                               12.1           \n",
       "3282                                               15.8           \n",
       "\n",
       "     LESS_THAN_A_HIGH_SCHOOL_DIPLOMA__2015_19  \\\n",
       "0                                    26472261   \n",
       "1                                      458922   \n",
       "2                                        4291   \n",
       "3                                       13893   \n",
       "4                                        4812   \n",
       "...                                       ...   \n",
       "3278                                    10494   \n",
       "3279                                     1792   \n",
       "3280                                     3330   \n",
       "3281                                     6927   \n",
       "3282                                     6794   \n",
       "\n",
       "     HIGH_SCHOOL_DIPLOMA_ONLY__2015_19  \\\n",
       "0                             59472748   \n",
       "1                              1022839   \n",
       "2                                12551   \n",
       "3                                41797   \n",
       "4                                 6396   \n",
       "...                                ...   \n",
       "3278                              9681   \n",
       "3279                              2440   \n",
       "3280                              5809   \n",
       "3281                              6132   \n",
       "3282                              8512   \n",
       "\n",
       "     SOME_COLLEGE_OR_ASSOCIATE_S_DEGREE__2015_19  \\\n",
       "0                                       63756905   \n",
       "1                                         993344   \n",
       "2                                          10596   \n",
       "3                                          47274   \n",
       "4                                           4676   \n",
       "...                                          ...   \n",
       "3278                                        8905   \n",
       "3279                                         875   \n",
       "3280                                        2987   \n",
       "3281                                        6494   \n",
       "3282                                        3973   \n",
       "\n",
       "     BACHELOR_S_DEGREE_OR_HIGHER__2015_19  \\\n",
       "0                                70920162   \n",
       "1                                  845772   \n",
       "2                                    9929   \n",
       "3                                   48148   \n",
       "4                                    2080   \n",
       "...                                   ...   \n",
       "3278                                 7834   \n",
       "3279                                 1121   \n",
       "3280                                 3015   \n",
       "3281                                 4293   \n",
       "3282                                 6304   \n",
       "\n",
       "     PERCENT_OF_ADULTS_WITH_LESS_THAN_A_HIGH_SCHOOL_DIPLOMA__2015_19  \\\n",
       "0                                             11.998918                \n",
       "1                                             13.819302                \n",
       "2                                             11.483395                \n",
       "3                                              9.193843                \n",
       "4                                             26.786907                \n",
       "...                                                 ...                \n",
       "3278                                          28.428238                \n",
       "3279                                          28.773281                \n",
       "3280                                          21.993263                \n",
       "3281                                          29.048897                \n",
       "3282                                          26.556698                \n",
       "\n",
       "     PERCENT_OF_ADULTS_WITH_A_HIGH_SCHOOL_DIPLOMA_ONLY__2015_19  \\\n",
       "0                                             26.956844           \n",
       "1                                             30.800268           \n",
       "2                                             33.588459           \n",
       "3                                             27.659616           \n",
       "4                                             35.604542           \n",
       "...                                                 ...           \n",
       "3278                                          26.225822           \n",
       "3279                                          39.177906           \n",
       "3280                                          38.366028           \n",
       "3281                                          25.715004           \n",
       "3282                                          33.272095           \n",
       "\n",
       "     PERCENT_OF_ADULTS_COMPLETING_SOME_COLLEGE_OR_ASSOCIATE_S_DEGREE__2015_19  \\\n",
       "0                                             28.898697                         \n",
       "1                                             29.912098                         \n",
       "2                                             28.356571                         \n",
       "3                                             31.284081                         \n",
       "4                                             26.029837                         \n",
       "...                                                 ...                         \n",
       "3278                                          24.123638                         \n",
       "3279                                          14.049454                         \n",
       "3280                                          19.727892                         \n",
       "3281                                          27.233078                         \n",
       "3282                                          15.529844                         \n",
       "\n",
       "     PERCENT_OF_ADULTS_WITH_A_BACHELOR_S_DEGREE_OR_HIGHER__2015_19  \n",
       "0                                             32.145542             \n",
       "1                                             25.468332             \n",
       "2                                             26.571573             \n",
       "3                                             31.862459             \n",
       "4                                             11.578713             \n",
       "...                                                 ...             \n",
       "3278                                            21.2223             \n",
       "3279                                          17.999357             \n",
       "3280                                          19.912819             \n",
       "3281                                          18.003019             \n",
       "3282                                          24.641363             \n",
       "\n",
       "[3283 rows x 47 columns]"
      ]
     },
     "execution_count": 143,
     "metadata": {},
     "output_type": "execute_result"
    }
   ],
   "source": [
    "df_education"
   ]
  },
  {
   "cell_type": "markdown",
   "metadata": {},
   "source": []
  },
  {
   "cell_type": "code",
   "execution_count": 45,
   "metadata": {},
   "outputs": [
    {
     "name": "stdout",
     "output_type": "stream",
     "text": [
      "\n",
      "========== File name README.md\n",
      "\n",
      "Educational attainment for adults age 25 and older for the U.S., States, and counties, 1970-2019\n",
      "                                                   Unnamed: 1     Unnamed: 2  \\\n",
      "Educational attainment for adults age 25 and ol...                             \n",
      "Sources: U.S. Census Bureau, 1970, 1980, 1990, ...        NaN            NaN   \n",
      "For definitions of rural classifications, see t...        NaN            NaN   \n",
      "This table was prepared by USDA, Economic Resea...        NaN            NaN   \n",
      "FIPS Code                                               State      Area name   \n",
      "00000                                                      US  United States   \n",
      "\n",
      "                                                                         Unnamed: 3  \\\n",
      "Educational attainment for adults age 25 and ol...                                    \n",
      "Sources: U.S. Census Bureau, 1970, 1980, 1990, ...                              NaN   \n",
      "For definitions of rural classifications, see t...                              NaN   \n",
      "This table was prepared by USDA, Economic Resea...                              NaN   \n",
      "FIPS Code                                           2003 Rural-urban Continuum Code   \n",
      "00000                                                                           NaN   \n",
      "\n",
      "                                                                   Unnamed: 4  \\\n",
      "Educational attainment for adults age 25 and ol...                              \n",
      "Sources: U.S. Census Bureau, 1970, 1980, 1990, ...                        NaN   \n",
      "For definitions of rural classifications, see t...                        NaN   \n",
      "This table was prepared by USDA, Economic Resea...                        NaN   \n",
      "FIPS Code                                           2003 Urban Influence Code   \n",
      "00000                                                                     NaN   \n",
      "\n",
      "                                                                         Unnamed: 5  \\\n",
      "Educational attainment for adults age 25 and ol...                                    \n",
      "Sources: U.S. Census Bureau, 1970, 1980, 1990, ...                              NaN   \n",
      "For definitions of rural classifications, see t...                              NaN   \n",
      "This table was prepared by USDA, Economic Resea...                              NaN   \n",
      "FIPS Code                                           2013 Rural-urban Continuum Code   \n",
      "00000                                                                           NaN   \n",
      "\n",
      "                                                                   Unnamed: 6  \\\n",
      "Educational attainment for adults age 25 and ol...                              \n",
      "Sources: U.S. Census Bureau, 1970, 1980, 1990, ...                        NaN   \n",
      "For definitions of rural classifications, see t...                        NaN   \n",
      "This table was prepared by USDA, Economic Resea...                        NaN   \n",
      "FIPS Code                                           2013 Urban Influence Code   \n",
      "00000                                                                     NaN   \n",
      "\n",
      "                                                                               Unnamed: 7  \\\n",
      "Educational attainment for adults age 25 and ol...                                          \n",
      "Sources: U.S. Census Bureau, 1970, 1980, 1990, ...                                    NaN   \n",
      "For definitions of rural classifications, see t...                                    NaN   \n",
      "This table was prepared by USDA, Economic Resea...                                    NaN   \n",
      "FIPS Code                                           Less than a high school diploma, 1970   \n",
      "00000                                                                            52373312   \n",
      "\n",
      "                                                                        Unnamed: 8  \\\n",
      "Educational attainment for adults age 25 and ol...                                   \n",
      "Sources: U.S. Census Bureau, 1970, 1980, 1990, ...                             NaN   \n",
      "For definitions of rural classifications, see t...                             NaN   \n",
      "This table was prepared by USDA, Economic Resea...                             NaN   \n",
      "FIPS Code                                           High school diploma only, 1970   \n",
      "00000                                                                     34158051   \n",
      "\n",
      "                                                                        Unnamed: 9  \\\n",
      "Educational attainment for adults age 25 and ol...                                   \n",
      "Sources: U.S. Census Bureau, 1970, 1980, 1990, ...                             NaN   \n",
      "For definitions of rural classifications, see t...                             NaN   \n",
      "This table was prepared by USDA, Economic Resea...                             NaN   \n",
      "FIPS Code                                           Some college (1-3 years), 1970   \n",
      "00000                                                                     11650730   \n",
      "\n",
      "                                                                              Unnamed: 10  \\\n",
      "Educational attainment for adults age 25 and ol...                                          \n",
      "Sources: U.S. Census Bureau, 1970, 1980, 1990, ...                                    NaN   \n",
      "For definitions of rural classifications, see t...                                    NaN   \n",
      "This table was prepared by USDA, Economic Resea...                                    NaN   \n",
      "FIPS Code                                           Four years of college or higher, 1970   \n",
      "00000                                                                            11717266   \n",
      "\n",
      "                                                    ...  \\\n",
      "Educational attainment for adults age 25 and ol...  ...   \n",
      "Sources: U.S. Census Bureau, 1970, 1980, 1990, ...  ...   \n",
      "For definitions of rural classifications, see t...  ...   \n",
      "This table was prepared by USDA, Economic Resea...  ...   \n",
      "FIPS Code                                           ...   \n",
      "00000                                               ...   \n",
      "\n",
      "                                                                                          Unnamed: 37  \\\n",
      "Educational attainment for adults age 25 and ol...                                                      \n",
      "Sources: U.S. Census Bureau, 1970, 1980, 1990, ...                                                NaN   \n",
      "For definitions of rural classifications, see t...                                                NaN   \n",
      "This table was prepared by USDA, Economic Resea...                                                NaN   \n",
      "FIPS Code                                           Percent of adults completing some college or a...   \n",
      "00000                                                                                            27.4   \n",
      "\n",
      "                                                                                          Unnamed: 38  \\\n",
      "Educational attainment for adults age 25 and ol...                                                      \n",
      "Sources: U.S. Census Bureau, 1970, 1980, 1990, ...                                                NaN   \n",
      "For definitions of rural classifications, see t...                                                NaN   \n",
      "This table was prepared by USDA, Economic Resea...                                                NaN   \n",
      "FIPS Code                                           Percent of adults with a bachelor's degree or ...   \n",
      "00000                                                                                            24.4   \n",
      "\n",
      "                                                                                 Unnamed: 39  \\\n",
      "Educational attainment for adults age 25 and ol...                                             \n",
      "Sources: U.S. Census Bureau, 1970, 1980, 1990, ...                                       NaN   \n",
      "For definitions of rural classifications, see t...                                       NaN   \n",
      "This table was prepared by USDA, Economic Resea...                                       NaN   \n",
      "FIPS Code                                           Less than a high school diploma, 2015-19   \n",
      "00000                                                                               26472261   \n",
      "\n",
      "                                                                          Unnamed: 40  \\\n",
      "Educational attainment for adults age 25 and ol...                                      \n",
      "Sources: U.S. Census Bureau, 1970, 1980, 1990, ...                                NaN   \n",
      "For definitions of rural classifications, see t...                                NaN   \n",
      "This table was prepared by USDA, Economic Resea...                                NaN   \n",
      "FIPS Code                                           High school diploma only, 2015-19   \n",
      "00000                                                                        59472748   \n",
      "\n",
      "                                                                                    Unnamed: 41  \\\n",
      "Educational attainment for adults age 25 and ol...                                                \n",
      "Sources: U.S. Census Bureau, 1970, 1980, 1990, ...                                          NaN   \n",
      "For definitions of rural classifications, see t...                                          NaN   \n",
      "This table was prepared by USDA, Economic Resea...                                          NaN   \n",
      "FIPS Code                                           Some college or associate's degree, 2015-19   \n",
      "00000                                                                                  63756905   \n",
      "\n",
      "                                                                             Unnamed: 42  \\\n",
      "Educational attainment for adults age 25 and ol...                                         \n",
      "Sources: U.S. Census Bureau, 1970, 1980, 1990, ...                                   NaN   \n",
      "For definitions of rural classifications, see t...                                   NaN   \n",
      "This table was prepared by USDA, Economic Resea...                                   NaN   \n",
      "FIPS Code                                           Bachelor's degree or higher, 2015-19   \n",
      "00000                                                                           70920162   \n",
      "\n",
      "                                                                                          Unnamed: 43  \\\n",
      "Educational attainment for adults age 25 and ol...                                                      \n",
      "Sources: U.S. Census Bureau, 1970, 1980, 1990, ...                                                NaN   \n",
      "For definitions of rural classifications, see t...                                                NaN   \n",
      "This table was prepared by USDA, Economic Resea...                                                NaN   \n",
      "FIPS Code                                           Percent of adults with less than a high school...   \n",
      "00000                                                                                       11.998918   \n",
      "\n",
      "                                                                                          Unnamed: 44  \\\n",
      "Educational attainment for adults age 25 and ol...                                                      \n",
      "Sources: U.S. Census Bureau, 1970, 1980, 1990, ...                                                NaN   \n",
      "For definitions of rural classifications, see t...                                                NaN   \n",
      "This table was prepared by USDA, Economic Resea...                                                NaN   \n",
      "FIPS Code                                           Percent of adults with a high school diploma o...   \n",
      "00000                                                                                       26.956844   \n",
      "\n",
      "                                                                                          Unnamed: 45  \\\n",
      "Educational attainment for adults age 25 and ol...                                                      \n",
      "Sources: U.S. Census Bureau, 1970, 1980, 1990, ...                                                NaN   \n",
      "For definitions of rural classifications, see t...                                                NaN   \n",
      "This table was prepared by USDA, Economic Resea...                                                NaN   \n",
      "FIPS Code                                           Percent of adults completing some college or a...   \n",
      "00000                                                                                       28.898697   \n",
      "\n",
      "                                                                                          Unnamed: 46  \n",
      "Educational attainment for adults age 25 and ol...                                                     \n",
      "Sources: U.S. Census Bureau, 1970, 1980, 1990, ...                                                NaN  \n",
      "For definitions of rural classifications, see t...                                                NaN  \n",
      "This table was prepared by USDA, Economic Resea...                                                NaN  \n",
      "FIPS Code                                           Percent of adults with a bachelor's degree or ...  \n",
      "00000                                                                                       32.145542  \n",
      "\n",
      "[5 rows x 46 columns]\n"
     ]
    },
    {
     "data": {
      "text/html": [
       "<div>\n",
       "<style scoped>\n",
       "    .dataframe tbody tr th:only-of-type {\n",
       "        vertical-align: middle;\n",
       "    }\n",
       "\n",
       "    .dataframe tbody tr th {\n",
       "        vertical-align: top;\n",
       "    }\n",
       "\n",
       "    .dataframe thead th {\n",
       "        text-align: right;\n",
       "    }\n",
       "</style>\n",
       "<table border=\"1\" class=\"dataframe\">\n",
       "  <thead>\n",
       "    <tr style=\"text-align: right;\">\n",
       "      <th>FIPS Code</th>\n",
       "      <th>State</th>\n",
       "      <th>Area name</th>\n",
       "      <th>2003 Rural-urban Continuum Code</th>\n",
       "      <th>2003 Urban Influence Code</th>\n",
       "      <th>2013 Rural-urban Continuum Code</th>\n",
       "      <th>2013 Urban Influence Code</th>\n",
       "      <th>Less than a high school diploma, 1970</th>\n",
       "      <th>High school diploma only, 1970</th>\n",
       "      <th>Some college (1-3 years), 1970</th>\n",
       "      <th>Four years of college or higher, 1970</th>\n",
       "      <th>...</th>\n",
       "      <th>Percent of adults completing some college or associate's degree, 2000</th>\n",
       "      <th>Percent of adults with a bachelor's degree or higher, 2000</th>\n",
       "      <th>Less than a high school diploma, 2015-19</th>\n",
       "      <th>High school diploma only, 2015-19</th>\n",
       "      <th>Some college or associate's degree, 2015-19</th>\n",
       "      <th>Bachelor's degree or higher, 2015-19</th>\n",
       "      <th>Percent of adults with less than a high school diploma, 2015-19</th>\n",
       "      <th>Percent of adults with a high school diploma only, 2015-19</th>\n",
       "      <th>Percent of adults completing some college or associate's degree, 2015-19</th>\n",
       "      <th>Percent of adults with a bachelor's degree or higher, 2015-19</th>\n",
       "    </tr>\n",
       "  </thead>\n",
       "  <tbody>\n",
       "    <tr>\n",
       "      <th>0</th>\n",
       "      <td>US</td>\n",
       "      <td>United States</td>\n",
       "      <td>NaN</td>\n",
       "      <td>NaN</td>\n",
       "      <td>NaN</td>\n",
       "      <td>NaN</td>\n",
       "      <td>52373312</td>\n",
       "      <td>34158051</td>\n",
       "      <td>11650730</td>\n",
       "      <td>11717266</td>\n",
       "      <td>...</td>\n",
       "      <td>27.4</td>\n",
       "      <td>24.4</td>\n",
       "      <td>26472261</td>\n",
       "      <td>59472748</td>\n",
       "      <td>63756905</td>\n",
       "      <td>70920162</td>\n",
       "      <td>11.998918</td>\n",
       "      <td>26.956844</td>\n",
       "      <td>28.898697</td>\n",
       "      <td>32.145542</td>\n",
       "    </tr>\n",
       "    <tr>\n",
       "      <th>1</th>\n",
       "      <td>AL</td>\n",
       "      <td>Alabama</td>\n",
       "      <td>NaN</td>\n",
       "      <td>NaN</td>\n",
       "      <td>NaN</td>\n",
       "      <td>NaN</td>\n",
       "      <td>1062306</td>\n",
       "      <td>468269</td>\n",
       "      <td>136287</td>\n",
       "      <td>141936</td>\n",
       "      <td>...</td>\n",
       "      <td>25.9</td>\n",
       "      <td>19</td>\n",
       "      <td>458922</td>\n",
       "      <td>1022839</td>\n",
       "      <td>993344</td>\n",
       "      <td>845772</td>\n",
       "      <td>13.819302</td>\n",
       "      <td>30.800268</td>\n",
       "      <td>29.912098</td>\n",
       "      <td>25.468332</td>\n",
       "    </tr>\n",
       "    <tr>\n",
       "      <th>2</th>\n",
       "      <td>AL</td>\n",
       "      <td>Autauga County</td>\n",
       "      <td>2</td>\n",
       "      <td>2</td>\n",
       "      <td>2</td>\n",
       "      <td>2</td>\n",
       "      <td>6611</td>\n",
       "      <td>3757</td>\n",
       "      <td>933</td>\n",
       "      <td>767</td>\n",
       "      <td>...</td>\n",
       "      <td>26.9</td>\n",
       "      <td>18</td>\n",
       "      <td>4291</td>\n",
       "      <td>12551</td>\n",
       "      <td>10596</td>\n",
       "      <td>9929</td>\n",
       "      <td>11.483395</td>\n",
       "      <td>33.588459</td>\n",
       "      <td>28.356571</td>\n",
       "      <td>26.571573</td>\n",
       "    </tr>\n",
       "    <tr>\n",
       "      <th>3</th>\n",
       "      <td>AL</td>\n",
       "      <td>Baldwin County</td>\n",
       "      <td>4</td>\n",
       "      <td>5</td>\n",
       "      <td>3</td>\n",
       "      <td>2</td>\n",
       "      <td>18726</td>\n",
       "      <td>8426</td>\n",
       "      <td>2334</td>\n",
       "      <td>2038</td>\n",
       "      <td>...</td>\n",
       "      <td>29.3</td>\n",
       "      <td>23.1</td>\n",
       "      <td>13893</td>\n",
       "      <td>41797</td>\n",
       "      <td>47274</td>\n",
       "      <td>48148</td>\n",
       "      <td>9.193843</td>\n",
       "      <td>27.659616</td>\n",
       "      <td>31.284081</td>\n",
       "      <td>31.862459</td>\n",
       "    </tr>\n",
       "    <tr>\n",
       "      <th>4</th>\n",
       "      <td>AL</td>\n",
       "      <td>Barbour County</td>\n",
       "      <td>6</td>\n",
       "      <td>6</td>\n",
       "      <td>6</td>\n",
       "      <td>6</td>\n",
       "      <td>8120</td>\n",
       "      <td>2242</td>\n",
       "      <td>581</td>\n",
       "      <td>861</td>\n",
       "      <td>...</td>\n",
       "      <td>21.3</td>\n",
       "      <td>10.9</td>\n",
       "      <td>4812</td>\n",
       "      <td>6396</td>\n",
       "      <td>4676</td>\n",
       "      <td>2080</td>\n",
       "      <td>26.786907</td>\n",
       "      <td>35.604542</td>\n",
       "      <td>26.029837</td>\n",
       "      <td>11.578713</td>\n",
       "    </tr>\n",
       "  </tbody>\n",
       "</table>\n",
       "<p>5 rows × 46 columns</p>\n",
       "</div>"
      ],
      "text/plain": [
       "FIPS Code State       Area name 2003 Rural-urban Continuum Code  \\\n",
       "0            US   United States                             NaN   \n",
       "1            AL         Alabama                             NaN   \n",
       "2            AL  Autauga County                               2   \n",
       "3            AL  Baldwin County                               4   \n",
       "4            AL  Barbour County                               6   \n",
       "\n",
       "FIPS Code 2003 Urban Influence Code 2013 Rural-urban Continuum Code  \\\n",
       "0                               NaN                             NaN   \n",
       "1                               NaN                             NaN   \n",
       "2                                 2                               2   \n",
       "3                                 5                               3   \n",
       "4                                 6                               6   \n",
       "\n",
       "FIPS Code 2013 Urban Influence Code Less than a high school diploma, 1970  \\\n",
       "0                               NaN                              52373312   \n",
       "1                               NaN                               1062306   \n",
       "2                                 2                                  6611   \n",
       "3                                 2                                 18726   \n",
       "4                                 6                                  8120   \n",
       "\n",
       "FIPS Code High school diploma only, 1970 Some college (1-3 years), 1970  \\\n",
       "0                               34158051                       11650730   \n",
       "1                                 468269                         136287   \n",
       "2                                   3757                            933   \n",
       "3                                   8426                           2334   \n",
       "4                                   2242                            581   \n",
       "\n",
       "FIPS Code Four years of college or higher, 1970  ...  \\\n",
       "0                                      11717266  ...   \n",
       "1                                        141936  ...   \n",
       "2                                           767  ...   \n",
       "3                                          2038  ...   \n",
       "4                                           861  ...   \n",
       "\n",
       "FIPS Code Percent of adults completing some college or associate's degree, 2000  \\\n",
       "0                                                       27.4                      \n",
       "1                                                       25.9                      \n",
       "2                                                       26.9                      \n",
       "3                                                       29.3                      \n",
       "4                                                       21.3                      \n",
       "\n",
       "FIPS Code Percent of adults with a bachelor's degree or higher, 2000  \\\n",
       "0                                                       24.4           \n",
       "1                                                         19           \n",
       "2                                                         18           \n",
       "3                                                       23.1           \n",
       "4                                                       10.9           \n",
       "\n",
       "FIPS Code Less than a high school diploma, 2015-19  \\\n",
       "0                                         26472261   \n",
       "1                                           458922   \n",
       "2                                             4291   \n",
       "3                                            13893   \n",
       "4                                             4812   \n",
       "\n",
       "FIPS Code High school diploma only, 2015-19  \\\n",
       "0                                  59472748   \n",
       "1                                   1022839   \n",
       "2                                     12551   \n",
       "3                                     41797   \n",
       "4                                      6396   \n",
       "\n",
       "FIPS Code Some college or associate's degree, 2015-19  \\\n",
       "0                                            63756905   \n",
       "1                                              993344   \n",
       "2                                               10596   \n",
       "3                                               47274   \n",
       "4                                                4676   \n",
       "\n",
       "FIPS Code Bachelor's degree or higher, 2015-19  \\\n",
       "0                                     70920162   \n",
       "1                                       845772   \n",
       "2                                         9929   \n",
       "3                                        48148   \n",
       "4                                         2080   \n",
       "\n",
       "FIPS Code Percent of adults with less than a high school diploma, 2015-19  \\\n",
       "0                                                  11.998918                \n",
       "1                                                  13.819302                \n",
       "2                                                  11.483395                \n",
       "3                                                   9.193843                \n",
       "4                                                  26.786907                \n",
       "\n",
       "FIPS Code Percent of adults with a high school diploma only, 2015-19  \\\n",
       "0                                                  26.956844           \n",
       "1                                                  30.800268           \n",
       "2                                                  33.588459           \n",
       "3                                                  27.659616           \n",
       "4                                                  35.604542           \n",
       "\n",
       "FIPS Code Percent of adults completing some college or associate's degree, 2015-19  \\\n",
       "0                                                  28.898697                         \n",
       "1                                                  29.912098                         \n",
       "2                                                  28.356571                         \n",
       "3                                                  31.284081                         \n",
       "4                                                  26.029837                         \n",
       "\n",
       "FIPS Code Percent of adults with a bachelor's degree or higher, 2015-19  \n",
       "0                                                  32.145542             \n",
       "1                                                  25.468332             \n",
       "2                                                  26.571573             \n",
       "3                                                  31.862459             \n",
       "4                                                  11.578713             \n",
       "\n",
       "[5 rows x 46 columns]"
      ]
     },
     "execution_count": 45,
     "metadata": {},
     "output_type": "execute_result"
    }
   ],
   "source": []
  },
  {
   "cell_type": "code",
   "execution_count": 37,
   "metadata": {},
   "outputs": [
    {
     "data": {
      "text/html": [
       "<div>\n",
       "<style scoped>\n",
       "    .dataframe tbody tr th:only-of-type {\n",
       "        vertical-align: middle;\n",
       "    }\n",
       "\n",
       "    .dataframe tbody tr th {\n",
       "        vertical-align: top;\n",
       "    }\n",
       "\n",
       "    .dataframe thead th {\n",
       "        text-align: right;\n",
       "    }\n",
       "</style>\n",
       "<table border=\"1\" class=\"dataframe\">\n",
       "  <thead>\n",
       "    <tr style=\"text-align: right;\">\n",
       "      <th>FIPS Code</th>\n",
       "      <th>index</th>\n",
       "      <th>State</th>\n",
       "      <th>Area name</th>\n",
       "      <th>2003 Rural-urban Continuum Code</th>\n",
       "      <th>2003 Urban Influence Code</th>\n",
       "      <th>2013 Rural-urban Continuum Code</th>\n",
       "      <th>2013 Urban Influence Code</th>\n",
       "      <th>Less than a high school diploma, 1970</th>\n",
       "      <th>High school diploma only, 1970</th>\n",
       "      <th>Some college (1-3 years), 1970</th>\n",
       "      <th>...</th>\n",
       "      <th>Percent of adults completing some college or associate's degree, 2000</th>\n",
       "      <th>Percent of adults with a bachelor's degree or higher, 2000</th>\n",
       "      <th>Less than a high school diploma, 2015-19</th>\n",
       "      <th>High school diploma only, 2015-19</th>\n",
       "      <th>Some college or associate's degree, 2015-19</th>\n",
       "      <th>Bachelor's degree or higher, 2015-19</th>\n",
       "      <th>Percent of adults with less than a high school diploma, 2015-19</th>\n",
       "      <th>Percent of adults with a high school diploma only, 2015-19</th>\n",
       "      <th>Percent of adults completing some college or associate's degree, 2015-19</th>\n",
       "      <th>Percent of adults with a bachelor's degree or higher, 2015-19</th>\n",
       "    </tr>\n",
       "  </thead>\n",
       "  <tbody>\n",
       "    <tr>\n",
       "      <th>0</th>\n",
       "      <td>0</td>\n",
       "      <td>US</td>\n",
       "      <td>United States</td>\n",
       "      <td>NaN</td>\n",
       "      <td>NaN</td>\n",
       "      <td>NaN</td>\n",
       "      <td>NaN</td>\n",
       "      <td>52373312</td>\n",
       "      <td>34158051</td>\n",
       "      <td>11650730</td>\n",
       "      <td>...</td>\n",
       "      <td>27.4</td>\n",
       "      <td>24.4</td>\n",
       "      <td>26472261</td>\n",
       "      <td>59472748</td>\n",
       "      <td>63756905</td>\n",
       "      <td>70920162</td>\n",
       "      <td>11.998918</td>\n",
       "      <td>26.956844</td>\n",
       "      <td>28.898697</td>\n",
       "      <td>32.145542</td>\n",
       "    </tr>\n",
       "    <tr>\n",
       "      <th>1</th>\n",
       "      <td>1</td>\n",
       "      <td>AL</td>\n",
       "      <td>Alabama</td>\n",
       "      <td>NaN</td>\n",
       "      <td>NaN</td>\n",
       "      <td>NaN</td>\n",
       "      <td>NaN</td>\n",
       "      <td>1062306</td>\n",
       "      <td>468269</td>\n",
       "      <td>136287</td>\n",
       "      <td>...</td>\n",
       "      <td>25.9</td>\n",
       "      <td>19</td>\n",
       "      <td>458922</td>\n",
       "      <td>1022839</td>\n",
       "      <td>993344</td>\n",
       "      <td>845772</td>\n",
       "      <td>13.819302</td>\n",
       "      <td>30.800268</td>\n",
       "      <td>29.912098</td>\n",
       "      <td>25.468332</td>\n",
       "    </tr>\n",
       "    <tr>\n",
       "      <th>2</th>\n",
       "      <td>2</td>\n",
       "      <td>AL</td>\n",
       "      <td>Autauga County</td>\n",
       "      <td>2</td>\n",
       "      <td>2</td>\n",
       "      <td>2</td>\n",
       "      <td>2</td>\n",
       "      <td>6611</td>\n",
       "      <td>3757</td>\n",
       "      <td>933</td>\n",
       "      <td>...</td>\n",
       "      <td>26.9</td>\n",
       "      <td>18</td>\n",
       "      <td>4291</td>\n",
       "      <td>12551</td>\n",
       "      <td>10596</td>\n",
       "      <td>9929</td>\n",
       "      <td>11.483395</td>\n",
       "      <td>33.588459</td>\n",
       "      <td>28.356571</td>\n",
       "      <td>26.571573</td>\n",
       "    </tr>\n",
       "    <tr>\n",
       "      <th>3</th>\n",
       "      <td>3</td>\n",
       "      <td>AL</td>\n",
       "      <td>Baldwin County</td>\n",
       "      <td>4</td>\n",
       "      <td>5</td>\n",
       "      <td>3</td>\n",
       "      <td>2</td>\n",
       "      <td>18726</td>\n",
       "      <td>8426</td>\n",
       "      <td>2334</td>\n",
       "      <td>...</td>\n",
       "      <td>29.3</td>\n",
       "      <td>23.1</td>\n",
       "      <td>13893</td>\n",
       "      <td>41797</td>\n",
       "      <td>47274</td>\n",
       "      <td>48148</td>\n",
       "      <td>9.193843</td>\n",
       "      <td>27.659616</td>\n",
       "      <td>31.284081</td>\n",
       "      <td>31.862459</td>\n",
       "    </tr>\n",
       "    <tr>\n",
       "      <th>4</th>\n",
       "      <td>4</td>\n",
       "      <td>AL</td>\n",
       "      <td>Barbour County</td>\n",
       "      <td>6</td>\n",
       "      <td>6</td>\n",
       "      <td>6</td>\n",
       "      <td>6</td>\n",
       "      <td>8120</td>\n",
       "      <td>2242</td>\n",
       "      <td>581</td>\n",
       "      <td>...</td>\n",
       "      <td>21.3</td>\n",
       "      <td>10.9</td>\n",
       "      <td>4812</td>\n",
       "      <td>6396</td>\n",
       "      <td>4676</td>\n",
       "      <td>2080</td>\n",
       "      <td>26.786907</td>\n",
       "      <td>35.604542</td>\n",
       "      <td>26.029837</td>\n",
       "      <td>11.578713</td>\n",
       "    </tr>\n",
       "    <tr>\n",
       "      <th>...</th>\n",
       "      <td>...</td>\n",
       "      <td>...</td>\n",
       "      <td>...</td>\n",
       "      <td>...</td>\n",
       "      <td>...</td>\n",
       "      <td>...</td>\n",
       "      <td>...</td>\n",
       "      <td>...</td>\n",
       "      <td>...</td>\n",
       "      <td>...</td>\n",
       "      <td>...</td>\n",
       "      <td>...</td>\n",
       "      <td>...</td>\n",
       "      <td>...</td>\n",
       "      <td>...</td>\n",
       "      <td>...</td>\n",
       "      <td>...</td>\n",
       "      <td>...</td>\n",
       "      <td>...</td>\n",
       "      <td>...</td>\n",
       "      <td>...</td>\n",
       "    </tr>\n",
       "    <tr>\n",
       "      <th>3278</th>\n",
       "      <td>3278</td>\n",
       "      <td>PR</td>\n",
       "      <td>Vega Baja Municipio</td>\n",
       "      <td>1</td>\n",
       "      <td>1</td>\n",
       "      <td>1</td>\n",
       "      <td>1</td>\n",
       "      <td>NaN</td>\n",
       "      <td>NaN</td>\n",
       "      <td>NaN</td>\n",
       "      <td>...</td>\n",
       "      <td>21.4</td>\n",
       "      <td>14.4</td>\n",
       "      <td>10494</td>\n",
       "      <td>9681</td>\n",
       "      <td>8905</td>\n",
       "      <td>7834</td>\n",
       "      <td>28.428238</td>\n",
       "      <td>26.225822</td>\n",
       "      <td>24.123638</td>\n",
       "      <td>21.2223</td>\n",
       "    </tr>\n",
       "    <tr>\n",
       "      <th>3279</th>\n",
       "      <td>3279</td>\n",
       "      <td>PR</td>\n",
       "      <td>Vieques Municipio</td>\n",
       "      <td>7</td>\n",
       "      <td>12</td>\n",
       "      <td>7</td>\n",
       "      <td>12</td>\n",
       "      <td>NaN</td>\n",
       "      <td>NaN</td>\n",
       "      <td>NaN</td>\n",
       "      <td>...</td>\n",
       "      <td>13.7</td>\n",
       "      <td>10.1</td>\n",
       "      <td>1792</td>\n",
       "      <td>2440</td>\n",
       "      <td>875</td>\n",
       "      <td>1121</td>\n",
       "      <td>28.773281</td>\n",
       "      <td>39.177906</td>\n",
       "      <td>14.049454</td>\n",
       "      <td>17.999357</td>\n",
       "    </tr>\n",
       "    <tr>\n",
       "      <th>3280</th>\n",
       "      <td>3280</td>\n",
       "      <td>PR</td>\n",
       "      <td>Villalba Municipio</td>\n",
       "      <td>2</td>\n",
       "      <td>2</td>\n",
       "      <td>2</td>\n",
       "      <td>2</td>\n",
       "      <td>NaN</td>\n",
       "      <td>NaN</td>\n",
       "      <td>NaN</td>\n",
       "      <td>...</td>\n",
       "      <td>18</td>\n",
       "      <td>12.8</td>\n",
       "      <td>3330</td>\n",
       "      <td>5809</td>\n",
       "      <td>2987</td>\n",
       "      <td>3015</td>\n",
       "      <td>21.993263</td>\n",
       "      <td>38.366028</td>\n",
       "      <td>19.727892</td>\n",
       "      <td>19.912819</td>\n",
       "    </tr>\n",
       "    <tr>\n",
       "      <th>3281</th>\n",
       "      <td>3281</td>\n",
       "      <td>PR</td>\n",
       "      <td>Yabucoa Municipio</td>\n",
       "      <td>1</td>\n",
       "      <td>1</td>\n",
       "      <td>1</td>\n",
       "      <td>1</td>\n",
       "      <td>NaN</td>\n",
       "      <td>NaN</td>\n",
       "      <td>NaN</td>\n",
       "      <td>...</td>\n",
       "      <td>18.3</td>\n",
       "      <td>12.1</td>\n",
       "      <td>6927</td>\n",
       "      <td>6132</td>\n",
       "      <td>6494</td>\n",
       "      <td>4293</td>\n",
       "      <td>29.048897</td>\n",
       "      <td>25.715004</td>\n",
       "      <td>27.233078</td>\n",
       "      <td>18.003019</td>\n",
       "    </tr>\n",
       "    <tr>\n",
       "      <th>3282</th>\n",
       "      <td>3282</td>\n",
       "      <td>PR</td>\n",
       "      <td>Yauco Municipio</td>\n",
       "      <td>3</td>\n",
       "      <td>2</td>\n",
       "      <td>2</td>\n",
       "      <td>2</td>\n",
       "      <td>NaN</td>\n",
       "      <td>NaN</td>\n",
       "      <td>NaN</td>\n",
       "      <td>...</td>\n",
       "      <td>17.8</td>\n",
       "      <td>15.8</td>\n",
       "      <td>6794</td>\n",
       "      <td>8512</td>\n",
       "      <td>3973</td>\n",
       "      <td>6304</td>\n",
       "      <td>26.556698</td>\n",
       "      <td>33.272095</td>\n",
       "      <td>15.529844</td>\n",
       "      <td>24.641363</td>\n",
       "    </tr>\n",
       "  </tbody>\n",
       "</table>\n",
       "<p>3283 rows × 47 columns</p>\n",
       "</div>"
      ],
      "text/plain": [
       "FIPS Code  index State            Area name 2003 Rural-urban Continuum Code  \\\n",
       "0              0    US        United States                             NaN   \n",
       "1              1    AL              Alabama                             NaN   \n",
       "2              2    AL       Autauga County                               2   \n",
       "3              3    AL       Baldwin County                               4   \n",
       "4              4    AL       Barbour County                               6   \n",
       "...          ...   ...                  ...                             ...   \n",
       "3278        3278    PR  Vega Baja Municipio                               1   \n",
       "3279        3279    PR    Vieques Municipio                               7   \n",
       "3280        3280    PR   Villalba Municipio                               2   \n",
       "3281        3281    PR    Yabucoa Municipio                               1   \n",
       "3282        3282    PR      Yauco Municipio                               3   \n",
       "\n",
       "FIPS Code 2003 Urban Influence Code 2013 Rural-urban Continuum Code  \\\n",
       "0                               NaN                             NaN   \n",
       "1                               NaN                             NaN   \n",
       "2                                 2                               2   \n",
       "3                                 5                               3   \n",
       "4                                 6                               6   \n",
       "...                             ...                             ...   \n",
       "3278                              1                               1   \n",
       "3279                             12                               7   \n",
       "3280                              2                               2   \n",
       "3281                              1                               1   \n",
       "3282                              2                               2   \n",
       "\n",
       "FIPS Code 2013 Urban Influence Code Less than a high school diploma, 1970  \\\n",
       "0                               NaN                              52373312   \n",
       "1                               NaN                               1062306   \n",
       "2                                 2                                  6611   \n",
       "3                                 2                                 18726   \n",
       "4                                 6                                  8120   \n",
       "...                             ...                                   ...   \n",
       "3278                              1                                   NaN   \n",
       "3279                             12                                   NaN   \n",
       "3280                              2                                   NaN   \n",
       "3281                              1                                   NaN   \n",
       "3282                              2                                   NaN   \n",
       "\n",
       "FIPS Code High school diploma only, 1970 Some college (1-3 years), 1970  ...  \\\n",
       "0                               34158051                       11650730  ...   \n",
       "1                                 468269                         136287  ...   \n",
       "2                                   3757                            933  ...   \n",
       "3                                   8426                           2334  ...   \n",
       "4                                   2242                            581  ...   \n",
       "...                                  ...                            ...  ...   \n",
       "3278                                 NaN                            NaN  ...   \n",
       "3279                                 NaN                            NaN  ...   \n",
       "3280                                 NaN                            NaN  ...   \n",
       "3281                                 NaN                            NaN  ...   \n",
       "3282                                 NaN                            NaN  ...   \n",
       "\n",
       "FIPS Code Percent of adults completing some college or associate's degree, 2000  \\\n",
       "0                                                       27.4                      \n",
       "1                                                       25.9                      \n",
       "2                                                       26.9                      \n",
       "3                                                       29.3                      \n",
       "4                                                       21.3                      \n",
       "...                                                      ...                      \n",
       "3278                                                    21.4                      \n",
       "3279                                                    13.7                      \n",
       "3280                                                      18                      \n",
       "3281                                                    18.3                      \n",
       "3282                                                    17.8                      \n",
       "\n",
       "FIPS Code Percent of adults with a bachelor's degree or higher, 2000  \\\n",
       "0                                                       24.4           \n",
       "1                                                         19           \n",
       "2                                                         18           \n",
       "3                                                       23.1           \n",
       "4                                                       10.9           \n",
       "...                                                      ...           \n",
       "3278                                                    14.4           \n",
       "3279                                                    10.1           \n",
       "3280                                                    12.8           \n",
       "3281                                                    12.1           \n",
       "3282                                                    15.8           \n",
       "\n",
       "FIPS Code Less than a high school diploma, 2015-19  \\\n",
       "0                                         26472261   \n",
       "1                                           458922   \n",
       "2                                             4291   \n",
       "3                                            13893   \n",
       "4                                             4812   \n",
       "...                                            ...   \n",
       "3278                                         10494   \n",
       "3279                                          1792   \n",
       "3280                                          3330   \n",
       "3281                                          6927   \n",
       "3282                                          6794   \n",
       "\n",
       "FIPS Code High school diploma only, 2015-19  \\\n",
       "0                                  59472748   \n",
       "1                                   1022839   \n",
       "2                                     12551   \n",
       "3                                     41797   \n",
       "4                                      6396   \n",
       "...                                     ...   \n",
       "3278                                   9681   \n",
       "3279                                   2440   \n",
       "3280                                   5809   \n",
       "3281                                   6132   \n",
       "3282                                   8512   \n",
       "\n",
       "FIPS Code Some college or associate's degree, 2015-19  \\\n",
       "0                                            63756905   \n",
       "1                                              993344   \n",
       "2                                               10596   \n",
       "3                                               47274   \n",
       "4                                                4676   \n",
       "...                                               ...   \n",
       "3278                                             8905   \n",
       "3279                                              875   \n",
       "3280                                             2987   \n",
       "3281                                             6494   \n",
       "3282                                             3973   \n",
       "\n",
       "FIPS Code Bachelor's degree or higher, 2015-19  \\\n",
       "0                                     70920162   \n",
       "1                                       845772   \n",
       "2                                         9929   \n",
       "3                                        48148   \n",
       "4                                         2080   \n",
       "...                                        ...   \n",
       "3278                                      7834   \n",
       "3279                                      1121   \n",
       "3280                                      3015   \n",
       "3281                                      4293   \n",
       "3282                                      6304   \n",
       "\n",
       "FIPS Code Percent of adults with less than a high school diploma, 2015-19  \\\n",
       "0                                                  11.998918                \n",
       "1                                                  13.819302                \n",
       "2                                                  11.483395                \n",
       "3                                                   9.193843                \n",
       "4                                                  26.786907                \n",
       "...                                                      ...                \n",
       "3278                                               28.428238                \n",
       "3279                                               28.773281                \n",
       "3280                                               21.993263                \n",
       "3281                                               29.048897                \n",
       "3282                                               26.556698                \n",
       "\n",
       "FIPS Code Percent of adults with a high school diploma only, 2015-19  \\\n",
       "0                                                  26.956844           \n",
       "1                                                  30.800268           \n",
       "2                                                  33.588459           \n",
       "3                                                  27.659616           \n",
       "4                                                  35.604542           \n",
       "...                                                      ...           \n",
       "3278                                               26.225822           \n",
       "3279                                               39.177906           \n",
       "3280                                               38.366028           \n",
       "3281                                               25.715004           \n",
       "3282                                               33.272095           \n",
       "\n",
       "FIPS Code Percent of adults completing some college or associate's degree, 2015-19  \\\n",
       "0                                                  28.898697                         \n",
       "1                                                  29.912098                         \n",
       "2                                                  28.356571                         \n",
       "3                                                  31.284081                         \n",
       "4                                                  26.029837                         \n",
       "...                                                      ...                         \n",
       "3278                                               24.123638                         \n",
       "3279                                               14.049454                         \n",
       "3280                                               19.727892                         \n",
       "3281                                               27.233078                         \n",
       "3282                                               15.529844                         \n",
       "\n",
       "FIPS Code Percent of adults with a bachelor's degree or higher, 2015-19  \n",
       "0                                                  32.145542             \n",
       "1                                                  25.468332             \n",
       "2                                                  26.571573             \n",
       "3                                                  31.862459             \n",
       "4                                                  11.578713             \n",
       "...                                                      ...             \n",
       "3278                                                 21.2223             \n",
       "3279                                               17.999357             \n",
       "3280                                               19.912819             \n",
       "3281                                               18.003019             \n",
       "3282                                               24.641363             \n",
       "\n",
       "[3283 rows x 47 columns]"
      ]
     },
     "execution_count": 37,
     "metadata": {},
     "output_type": "execute_result"
    }
   ],
   "source": []
  },
  {
   "cell_type": "code",
   "execution_count": 21,
   "metadata": {},
   "outputs": [
    {
     "data": {
      "text/plain": [
       "Index(['State', 'Area name', '2003 Rural-urban Continuum Code',\n",
       "       '2003 Urban Influence Code', '2013 Rural-urban Continuum Code',\n",
       "       '2013 Urban Influence Code', 'Less than a high school diploma, 1970',\n",
       "       'High school diploma only, 1970', 'Some college (1-3 years), 1970',\n",
       "       'Four years of college or higher, 1970',\n",
       "       'Percent of adults with less than a high school diploma, 1970',\n",
       "       'Percent of adults with a high school diploma only, 1970',\n",
       "       'Percent of adults completing some college (1-3 years), 1970',\n",
       "       'Percent of adults completing four years of college or higher, 1970',\n",
       "       'Less than a high school diploma, 1980',\n",
       "       'High school diploma only, 1980', 'Some college (1-3 years), 1980',\n",
       "       'Four years of college or higher, 1980',\n",
       "       'Percent of adults with less than a high school diploma, 1980',\n",
       "       'Percent of adults with a high school diploma only, 1980',\n",
       "       'Percent of adults completing some college (1-3 years), 1980',\n",
       "       'Percent of adults completing four years of college or higher, 1980',\n",
       "       'Less than a high school diploma, 1990',\n",
       "       'High school diploma only, 1990',\n",
       "       'Some college or associate's degree, 1990',\n",
       "       'Bachelor's degree or higher, 1990',\n",
       "       'Percent of adults with less than a high school diploma, 1990',\n",
       "       'Percent of adults with a high school diploma only, 1990',\n",
       "       'Percent of adults completing some college or associate's degree, 1990',\n",
       "       'Percent of adults with a bachelor's degree or higher, 1990',\n",
       "       'Less than a high school diploma, 2000',\n",
       "       'High school diploma only, 2000',\n",
       "       'Some college or associate's degree, 2000',\n",
       "       'Bachelor's degree or higher, 2000',\n",
       "       'Percent of adults with less than a high school diploma, 2000',\n",
       "       'Percent of adults with a high school diploma only, 2000',\n",
       "       'Percent of adults completing some college or associate's degree, 2000',\n",
       "       'Percent of adults with a bachelor's degree or higher, 2000',\n",
       "       'Less than a high school diploma, 2015-19',\n",
       "       'High school diploma only, 2015-19',\n",
       "       'Some college or associate's degree, 2015-19',\n",
       "       'Bachelor's degree or higher, 2015-19',\n",
       "       'Percent of adults with less than a high school diploma, 2015-19',\n",
       "       'Percent of adults with a high school diploma only, 2015-19',\n",
       "       'Percent of adults completing some college or associate's degree, 2015-19',\n",
       "       'Percent of adults with a bachelor's degree or higher, 2015-19'],\n",
       "      dtype='object', name='FIPS Code')"
      ]
     },
     "execution_count": 21,
     "metadata": {},
     "output_type": "execute_result"
    }
   ],
   "source": [
    "df_education.columns"
   ]
  },
  {
   "cell_type": "code",
   "execution_count": null,
   "metadata": {},
   "outputs": [],
   "source": []
  }
 ],
 "metadata": {
  "kernelspec": {
   "display_name": "Python 3",
   "language": "python",
   "name": "python3"
  },
  "language_info": {
   "codemirror_mode": {
    "name": "ipython",
    "version": 3
   },
   "file_extension": ".py",
   "mimetype": "text/x-python",
   "name": "python",
   "nbconvert_exporter": "python",
   "pygments_lexer": "ipython3",
   "version": "3.9.0"
  },
  "vscode": {
   "interpreter": {
    "hash": "3fa046f995eb80ac40c0869a1f9df46519f4ada8b8c395ef25dd1aa1a1a2fc63"
   }
  }
 },
 "nbformat": 4,
 "nbformat_minor": 2
}
