{
 "cells": [
  {
   "cell_type": "code",
   "execution_count": 18,
   "metadata": {},
   "outputs": [],
   "source": [
    "import pandas as pd\n",
    "import numpy as np\n",
    "import os\n",
    "import plotly.express as px"
   ]
  },
  {
   "cell_type": "markdown",
   "metadata": {},
   "source": [
    "# Read data"
   ]
  },
  {
   "cell_type": "code",
   "execution_count": 6,
   "metadata": {},
   "outputs": [
    {
     "data": {
      "text/plain": [
       "'C:\\\\Users\\\\vnarv\\\\PycharmProjects\\\\scoring_SDA'"
      ]
     },
     "execution_count": 6,
     "metadata": {},
     "output_type": "execute_result"
    }
   ],
   "source": [
    "os.getcwd()"
   ]
  },
  {
   "cell_type": "code",
   "execution_count": 3,
   "metadata": {},
   "outputs": [
    {
     "name": "stdout",
     "output_type": "stream",
     "text": [
      "['2020_US_County_Level_Presidential_Results.csv', 'Education.xls', 'PopulationEstimates.xls', 'PovertyEstimates.xls', 'Unemployment.xls', 'US_County_Level_Presidential_Results_08-16.csv']\n"
     ]
    }
   ],
   "source": [
    "\n",
    "# folder path\n",
    "dir_path = \"C://Users//vnarv//PycharmProjects//scoring_SDA/data/\"\n",
    "\n",
    "# list to store files\n",
    "res = []\n",
    "\n",
    "# Iterate directory\n",
    "for path in os.listdir(dir_path):\n",
    "    # check if current path is a file\n",
    "    if os.path.isfile(os.path.join(dir_path, path)):\n",
    "        res.append(path)\n",
    "print(res)"
   ]
  },
  {
   "cell_type": "markdown",
   "metadata": {},
   "source": [
    "# Explore files "
   ]
  },
  {
   "cell_type": "code",
   "execution_count": 118,
   "metadata": {},
   "outputs": [],
   "source": [
    "def check_nan(data):\n",
    "\n",
    "    nb_lines = data.shape[0]\n",
    "    nb_columns = data.shape[1]\n",
    "\n",
    "    print(\"=== Check NAN\")\n",
    "    nb_nan = data.isna().sum() / nb_lines\n",
    "    part_nan = nb_nan[nb_nan>0]\n",
    "\n",
    "    if not part_nan.empty:\n",
    "        part_nan = part_nan.sort_values(ascending=False)\n",
    "        nb_cols_nan = len(part_nan.keys())\n",
    "        print(f\"... nb of columns with NAN {nb_cols_nan} out of {nb_columns}\")\n",
    "        for index, value in part_nan.items():\n",
    "            print(f\"{index}... {value:.2%}\")\n",
    "\n",
    "def check_duplicates(data, keys):\n",
    "    df_dup = data[data.duplicated(subset=keys, keep=False)]\n",
    "    display(df_dup.head())"
   ]
  },
  {
   "cell_type": "code",
   "execution_count": 119,
   "metadata": {},
   "outputs": [
    {
     "name": "stdout",
     "output_type": "stream",
     "text": [
      "\n",
      "========== File name PopulationEstimates.xls\n",
      "\n",
      "Population estimates for the U.S., States, and counties, 2010-19 (see the second tab in this workbook for variable name descriptions)\n",
      "=== Check NAN\n",
      "... nb of columns with NAN 150 out of 164\n",
      "Economic_typology_2015... 4.00%\n",
      "R_NET_MIG_2019... 2.44%\n",
      "R_death_2014... 2.44%\n",
      "R_NATURAL_INC_2017... 2.44%\n",
      "R_NATURAL_INC_2016... 2.44%\n",
      "R_NATURAL_INC_2015... 2.44%\n",
      "R_NATURAL_INC_2014... 2.44%\n",
      "R_NATURAL_INC_2013... 2.44%\n",
      "R_NATURAL_INC_2012... 2.44%\n",
      "R_death_2019... 2.44%\n",
      "R_death_2018... 2.44%\n",
      "R_death_2017... 2.44%\n",
      "R_death_2016... 2.44%\n",
      "R_death_2015... 2.44%\n",
      "R_death_2013... 2.44%\n",
      "R_NATURAL_INC_2019... 2.44%\n",
      "R_death_2012... 2.44%\n",
      "R_death_2011... 2.44%\n",
      "R_birth_2019... 2.44%\n",
      "R_birth_2018... 2.44%\n",
      "R_birth_2017... 2.44%\n",
      "R_birth_2016... 2.44%\n",
      "R_birth_2015... 2.44%\n",
      "R_birth_2014... 2.44%\n",
      "R_birth_2013... 2.44%\n",
      "R_birth_2012... 2.44%\n",
      "R_birth_2011... 2.44%\n",
      "R_NATURAL_INC_2018... 2.44%\n",
      "R_NATURAL_INC_2011... 2.44%\n",
      "R_INTERNATIONAL_MIG_2011... 2.44%\n",
      "R_DOMESTIC_MIG_2015... 2.44%\n",
      "R_NET_MIG_2018... 2.44%\n",
      "R_NET_MIG_2017... 2.44%\n",
      "R_NET_MIG_2016... 2.44%\n",
      "R_INTERNATIONAL_MIG_2012... 2.44%\n",
      "R_NET_MIG_2014... 2.44%\n",
      "R_NET_MIG_2013... 2.44%\n",
      "R_NET_MIG_2012... 2.44%\n",
      "R_NET_MIG_2011... 2.44%\n",
      "R_DOMESTIC_MIG_2019... 2.44%\n",
      "R_DOMESTIC_MIG_2018... 2.44%\n",
      "R_DOMESTIC_MIG_2017... 2.44%\n",
      "R_DOMESTIC_MIG_2016... 2.44%\n",
      "R_NET_MIG_2015... 2.44%\n",
      "R_DOMESTIC_MIG_2014... 2.44%\n",
      "R_INTERNATIONAL_MIG_2017... 2.44%\n",
      "R_DOMESTIC_MIG_2013... 2.44%\n",
      "R_INTERNATIONAL_MIG_2013... 2.44%\n",
      "R_INTERNATIONAL_MIG_2015... 2.44%\n",
      "R_INTERNATIONAL_MIG_2016... 2.44%\n",
      "R_INTERNATIONAL_MIG_2014... 2.44%\n",
      "R_INTERNATIONAL_MIG_2018... 2.44%\n",
      "R_INTERNATIONAL_MIG_2019... 2.44%\n",
      "R_DOMESTIC_MIG_2011... 2.44%\n",
      "R_DOMESTIC_MIG_2012... 2.44%\n",
      "RESIDUAL_2013... 2.41%\n",
      "GQ_ESTIMATES_2010... 2.41%\n",
      "RESIDUAL_2014... 2.41%\n",
      "RESIDUAL_2015... 2.41%\n",
      "RESIDUAL_2016... 2.41%\n",
      "RESIDUAL_2017... 2.41%\n",
      "RESIDUAL_2018... 2.41%\n",
      "RESIDUAL_2019... 2.41%\n",
      "GQ_ESTIMATES_BASE_2010... 2.41%\n",
      "GQ_ESTIMATES_2016... 2.41%\n",
      "GQ_ESTIMATES_2011... 2.41%\n",
      "GQ_ESTIMATES_2012... 2.41%\n",
      "GQ_ESTIMATES_2013... 2.41%\n",
      "GQ_ESTIMATES_2014... 2.41%\n",
      "GQ_ESTIMATES_2015... 2.41%\n",
      "GQ_ESTIMATES_2017... 2.41%\n",
      "GQ_ESTIMATES_2018... 2.41%\n",
      "GQ_ESTIMATES_2019... 2.41%\n",
      "RESIDUAL_2011... 2.41%\n",
      "RESIDUAL_2012... 2.41%\n",
      "RESIDUAL_2010... 2.41%\n",
      "NATURAL_INC_2013... 2.41%\n",
      "Deaths_2015... 2.41%\n",
      "Births_2019... 2.41%\n",
      "Deaths_2010... 2.41%\n",
      "Deaths_2011... 2.41%\n",
      "Deaths_2012... 2.41%\n",
      "Deaths_2013... 2.41%\n",
      "Deaths_2014... 2.41%\n",
      "Deaths_2016... 2.41%\n",
      "Births_2017... 2.41%\n",
      "Deaths_2017... 2.41%\n",
      "Deaths_2018... 2.41%\n",
      "Deaths_2019... 2.41%\n",
      "NATURAL_INC_2010... 2.41%\n",
      "NATURAL_INC_2011... 2.41%\n",
      "NATURAL_INC_2012... 2.41%\n",
      "Births_2018... 2.41%\n",
      "Births_2016... 2.41%\n",
      "NATURAL_INC_2014... 2.41%\n",
      "N_POP_CHG_2017... 2.41%\n",
      "N_POP_CHG_2011... 2.41%\n",
      "N_POP_CHG_2012... 2.41%\n",
      "N_POP_CHG_2013... 2.41%\n",
      "N_POP_CHG_2014... 2.41%\n",
      "N_POP_CHG_2015... 2.41%\n",
      "N_POP_CHG_2016... 2.41%\n",
      "N_POP_CHG_2018... 2.41%\n",
      "Births_2015... 2.41%\n",
      "N_POP_CHG_2019... 2.41%\n",
      "Births_2010... 2.41%\n",
      "Births_2011... 2.41%\n",
      "Births_2012... 2.41%\n",
      "Births_2013... 2.41%\n",
      "Births_2014... 2.41%\n",
      "NET_MIG_2019... 2.41%\n",
      "NATURAL_INC_2015... 2.41%\n",
      "DOMESTIC_MIG_2012... 2.41%\n",
      "NET_MIG_2011... 2.41%\n",
      "DOMESTIC_MIG_2015... 2.41%\n",
      "DOMESTIC_MIG_2016... 2.41%\n",
      "DOMESTIC_MIG_2017... 2.41%\n",
      "DOMESTIC_MIG_2018... 2.41%\n",
      "DOMESTIC_MIG_2019... 2.41%\n",
      "NET_MIG_2010... 2.41%\n",
      "NET_MIG_2012... 2.41%\n",
      "DOMESTIC_MIG_2013... 2.41%\n",
      "NET_MIG_2013... 2.41%\n",
      "NET_MIG_2014... 2.41%\n",
      "NET_MIG_2015... 2.41%\n",
      "NET_MIG_2016... 2.41%\n",
      "NET_MIG_2017... 2.41%\n",
      "NET_MIG_2018... 2.41%\n",
      "DOMESTIC_MIG_2014... 2.41%\n",
      "N_POP_CHG_2010... 2.41%\n",
      "NATURAL_INC_2016... 2.41%\n",
      "INTERNATIONAL_MIG_2013... 2.41%\n",
      "NATURAL_INC_2017... 2.41%\n",
      "NATURAL_INC_2018... 2.41%\n",
      "NATURAL_INC_2019... 2.41%\n",
      "INTERNATIONAL_MIG_2010... 2.41%\n",
      "INTERNATIONAL_MIG_2011... 2.41%\n",
      "INTERNATIONAL_MIG_2012... 2.41%\n",
      "INTERNATIONAL_MIG_2014... 2.41%\n",
      "DOMESTIC_MIG_2011... 2.41%\n",
      "INTERNATIONAL_MIG_2015... 2.41%\n",
      "INTERNATIONAL_MIG_2016... 2.41%\n",
      "INTERNATIONAL_MIG_2017... 2.41%\n",
      "INTERNATIONAL_MIG_2018... 2.41%\n",
      "INTERNATIONAL_MIG_2019... 2.41%\n",
      "DOMESTIC_MIG_2010... 2.41%\n",
      "Urban_Influence_Code_2003... 1.77%\n",
      "Rural-urban_Continuum Code_2003... 1.77%\n",
      "Urban_Influence_Code_2013... 1.62%\n",
      "Rural-urban_Continuum Code_2013... 1.62%\n"
     ]
    },
    {
     "data": {
      "text/html": [
       "<div>\n",
       "<style scoped>\n",
       "    .dataframe tbody tr th:only-of-type {\n",
       "        vertical-align: middle;\n",
       "    }\n",
       "\n",
       "    .dataframe tbody tr th {\n",
       "        vertical-align: top;\n",
       "    }\n",
       "\n",
       "    .dataframe thead th {\n",
       "        text-align: right;\n",
       "    }\n",
       "</style>\n",
       "<table border=\"1\" class=\"dataframe\">\n",
       "  <thead>\n",
       "    <tr style=\"text-align: right;\">\n",
       "      <th>FIPStxt</th>\n",
       "      <th>State</th>\n",
       "      <th>Area_Name</th>\n",
       "      <th>Rural-urban_Continuum Code_2003</th>\n",
       "      <th>Rural-urban_Continuum Code_2013</th>\n",
       "      <th>Urban_Influence_Code_2003</th>\n",
       "      <th>Urban_Influence_Code_2013</th>\n",
       "      <th>Economic_typology_2015</th>\n",
       "      <th>CENSUS_2010_POP</th>\n",
       "      <th>ESTIMATES_BASE_2010</th>\n",
       "      <th>POP_ESTIMATE_2010</th>\n",
       "      <th>...</th>\n",
       "      <th>R_DOMESTIC_MIG_2019</th>\n",
       "      <th>R_NET_MIG_2011</th>\n",
       "      <th>R_NET_MIG_2012</th>\n",
       "      <th>R_NET_MIG_2013</th>\n",
       "      <th>R_NET_MIG_2014</th>\n",
       "      <th>R_NET_MIG_2015</th>\n",
       "      <th>R_NET_MIG_2016</th>\n",
       "      <th>R_NET_MIG_2017</th>\n",
       "      <th>R_NET_MIG_2018</th>\n",
       "      <th>R_NET_MIG_2019</th>\n",
       "    </tr>\n",
       "  </thead>\n",
       "  <tbody>\n",
       "    <tr>\n",
       "      <th>0</th>\n",
       "      <td>US</td>\n",
       "      <td>United States</td>\n",
       "      <td>NaN</td>\n",
       "      <td>NaN</td>\n",
       "      <td>NaN</td>\n",
       "      <td>NaN</td>\n",
       "      <td>NaN</td>\n",
       "      <td>308745538</td>\n",
       "      <td>308758105</td>\n",
       "      <td>309321666</td>\n",
       "      <td>...</td>\n",
       "      <td>NaN</td>\n",
       "      <td>NaN</td>\n",
       "      <td>NaN</td>\n",
       "      <td>NaN</td>\n",
       "      <td>NaN</td>\n",
       "      <td>NaN</td>\n",
       "      <td>NaN</td>\n",
       "      <td>NaN</td>\n",
       "      <td>NaN</td>\n",
       "      <td>NaN</td>\n",
       "    </tr>\n",
       "    <tr>\n",
       "      <th>1</th>\n",
       "      <td>AL</td>\n",
       "      <td>Alabama</td>\n",
       "      <td>NaN</td>\n",
       "      <td>NaN</td>\n",
       "      <td>NaN</td>\n",
       "      <td>NaN</td>\n",
       "      <td>NaN</td>\n",
       "      <td>4779736</td>\n",
       "      <td>4780125</td>\n",
       "      <td>4785437</td>\n",
       "      <td>...</td>\n",
       "      <td>1.917501</td>\n",
       "      <td>0.578434</td>\n",
       "      <td>1.186314</td>\n",
       "      <td>1.522549</td>\n",
       "      <td>0.563489</td>\n",
       "      <td>0.626357</td>\n",
       "      <td>0.745172</td>\n",
       "      <td>1.090366</td>\n",
       "      <td>1.773786</td>\n",
       "      <td>2.483744</td>\n",
       "    </tr>\n",
       "    <tr>\n",
       "      <th>2</th>\n",
       "      <td>AL</td>\n",
       "      <td>Autauga County</td>\n",
       "      <td>2</td>\n",
       "      <td>2</td>\n",
       "      <td>2</td>\n",
       "      <td>2</td>\n",
       "      <td>0</td>\n",
       "      <td>54571</td>\n",
       "      <td>54597</td>\n",
       "      <td>54773</td>\n",
       "      <td>...</td>\n",
       "      <td>4.84731</td>\n",
       "      <td>6.018182</td>\n",
       "      <td>-6.226119</td>\n",
       "      <td>-3.902226</td>\n",
       "      <td>1.970443</td>\n",
       "      <td>-1.712875</td>\n",
       "      <td>4.777171</td>\n",
       "      <td>0.849656</td>\n",
       "      <td>0.540916</td>\n",
       "      <td>4.560062</td>\n",
       "    </tr>\n",
       "    <tr>\n",
       "      <th>3</th>\n",
       "      <td>AL</td>\n",
       "      <td>Baldwin County</td>\n",
       "      <td>4</td>\n",
       "      <td>3</td>\n",
       "      <td>5</td>\n",
       "      <td>2</td>\n",
       "      <td>5</td>\n",
       "      <td>182265</td>\n",
       "      <td>182265</td>\n",
       "      <td>183112</td>\n",
       "      <td>...</td>\n",
       "      <td>24.017829</td>\n",
       "      <td>16.64187</td>\n",
       "      <td>17.488579</td>\n",
       "      <td>22.751474</td>\n",
       "      <td>20.184334</td>\n",
       "      <td>17.725964</td>\n",
       "      <td>21.279291</td>\n",
       "      <td>22.398256</td>\n",
       "      <td>24.727215</td>\n",
       "      <td>24.380567</td>\n",
       "    </tr>\n",
       "    <tr>\n",
       "      <th>4</th>\n",
       "      <td>AL</td>\n",
       "      <td>Barbour County</td>\n",
       "      <td>6</td>\n",
       "      <td>6</td>\n",
       "      <td>6</td>\n",
       "      <td>6</td>\n",
       "      <td>3</td>\n",
       "      <td>27457</td>\n",
       "      <td>27455</td>\n",
       "      <td>27327</td>\n",
       "      <td>...</td>\n",
       "      <td>-5.690302</td>\n",
       "      <td>0.292676</td>\n",
       "      <td>-6.897817</td>\n",
       "      <td>-8.132185</td>\n",
       "      <td>-5.140431</td>\n",
       "      <td>-15.724575</td>\n",
       "      <td>-18.238016</td>\n",
       "      <td>-24.998528</td>\n",
       "      <td>-8.754922</td>\n",
       "      <td>-5.165664</td>\n",
       "    </tr>\n",
       "  </tbody>\n",
       "</table>\n",
       "<p>5 rows × 164 columns</p>\n",
       "</div>"
      ],
      "text/plain": [
       "FIPStxt State       Area_Name Rural-urban_Continuum Code_2003  \\\n",
       "0          US   United States                             NaN   \n",
       "1          AL         Alabama                             NaN   \n",
       "2          AL  Autauga County                               2   \n",
       "3          AL  Baldwin County                               4   \n",
       "4          AL  Barbour County                               6   \n",
       "\n",
       "FIPStxt Rural-urban_Continuum Code_2013 Urban_Influence_Code_2003  \\\n",
       "0                                   NaN                       NaN   \n",
       "1                                   NaN                       NaN   \n",
       "2                                     2                         2   \n",
       "3                                     3                         5   \n",
       "4                                     6                         6   \n",
       "\n",
       "FIPStxt Urban_Influence_Code_2013 Economic_typology_2015 CENSUS_2010_POP  \\\n",
       "0                             NaN                    NaN       308745538   \n",
       "1                             NaN                    NaN         4779736   \n",
       "2                               2                      0           54571   \n",
       "3                               2                      5          182265   \n",
       "4                               6                      3           27457   \n",
       "\n",
       "FIPStxt ESTIMATES_BASE_2010 POP_ESTIMATE_2010  ... R_DOMESTIC_MIG_2019  \\\n",
       "0                 308758105         309321666  ...                 NaN   \n",
       "1                   4780125           4785437  ...            1.917501   \n",
       "2                     54597             54773  ...             4.84731   \n",
       "3                    182265            183112  ...           24.017829   \n",
       "4                     27455             27327  ...           -5.690302   \n",
       "\n",
       "FIPStxt R_NET_MIG_2011 R_NET_MIG_2012 R_NET_MIG_2013 R_NET_MIG_2014  \\\n",
       "0                  NaN            NaN            NaN            NaN   \n",
       "1             0.578434       1.186314       1.522549       0.563489   \n",
       "2             6.018182      -6.226119      -3.902226       1.970443   \n",
       "3             16.64187      17.488579      22.751474      20.184334   \n",
       "4             0.292676      -6.897817      -8.132185      -5.140431   \n",
       "\n",
       "FIPStxt R_NET_MIG_2015 R_NET_MIG_2016 R_NET_MIG_2017 R_NET_MIG_2018  \\\n",
       "0                  NaN            NaN            NaN            NaN   \n",
       "1             0.626357       0.745172       1.090366       1.773786   \n",
       "2            -1.712875       4.777171       0.849656       0.540916   \n",
       "3            17.725964      21.279291      22.398256      24.727215   \n",
       "4           -15.724575     -18.238016     -24.998528      -8.754922   \n",
       "\n",
       "FIPStxt R_NET_MIG_2019  \n",
       "0                  NaN  \n",
       "1             2.483744  \n",
       "2             4.560062  \n",
       "3            24.380567  \n",
       "4            -5.165664  \n",
       "\n",
       "[5 rows x 164 columns]"
      ]
     },
     "metadata": {},
     "output_type": "display_data"
    },
    {
     "name": "stdout",
     "output_type": "stream",
     "text": [
      "======== Check NAN\n",
      "\n",
      "========== File name Education.xls\n",
      "\n",
      "Educational attainment for adults age 25 and older for the U.S., States, and counties, 1970-2019\n",
      "=== Check NAN\n",
      "... nb of columns with NAN 44 out of 46\n",
      "Less than a high school diploma, 1970... 2.95%\n",
      "High school diploma only, 1970... 2.95%\n",
      "Some college (1-3 years), 1970... 2.95%\n",
      "Four years of college or higher, 1970... 2.95%\n",
      "Percent of adults with less than a high school diploma, 1970... 2.95%\n",
      "Percent of adults with a high school diploma only, 1970... 2.95%\n",
      "Percent of adults completing some college (1-3 years), 1970... 2.95%\n",
      "Percent of adults completing four years of college or higher, 1970... 2.95%\n",
      "2003 Rural-urban Continuum Code... 1.89%\n",
      "2013 Rural-urban Continuum Code... 1.89%\n",
      "2013 Urban Influence Code... 1.89%\n",
      "2003 Urban Influence Code... 1.89%\n",
      "Percent of adults with less than a high school diploma, 1980... 0.49%\n",
      "Percent of adults completing four years of college or higher, 1980... 0.49%\n",
      "Percent of adults completing some college (1-3 years), 1980... 0.49%\n",
      "Percent of adults with a high school diploma only, 1980... 0.49%\n",
      "Less than a high school diploma, 1980... 0.49%\n",
      "Four years of college or higher, 1980... 0.49%\n",
      "Some college (1-3 years), 1980... 0.49%\n",
      "High school diploma only, 1980... 0.49%\n",
      "Percent of adults completing some college or associate's degree, 1990... 0.40%\n",
      "Percent of adults with a bachelor's degree or higher, 1990... 0.37%\n",
      "Percent of adults with less than a high school diploma, 1990... 0.37%\n",
      "Percent of adults with a high school diploma only, 1990... 0.37%\n",
      "Some college or associate's degree, 1990... 0.37%\n",
      "Bachelor's degree or higher, 1990... 0.37%\n",
      "Less than a high school diploma, 1990... 0.37%\n",
      "High school diploma only, 1990... 0.37%\n",
      "Percent of adults with less than a high school diploma, 2000... 0.34%\n",
      "Percent of adults with a bachelor's degree or higher, 2000... 0.34%\n",
      "Percent of adults with a high school diploma only, 2000... 0.34%\n",
      "Percent of adults completing some college or associate's degree, 2000... 0.34%\n",
      "Bachelor's degree or higher, 2000... 0.34%\n",
      "Some college or associate's degree, 2000... 0.34%\n",
      "High school diploma only, 2000... 0.34%\n",
      "Less than a high school diploma, 2000... 0.34%\n",
      "Less than a high school diploma, 2015-19... 0.30%\n",
      "High school diploma only, 2015-19... 0.30%\n",
      "Some college or associate's degree, 2015-19... 0.30%\n",
      "Bachelor's degree or higher, 2015-19... 0.30%\n",
      "Percent of adults with less than a high school diploma, 2015-19... 0.30%\n",
      "Percent of adults with a high school diploma only, 2015-19... 0.30%\n",
      "Percent of adults completing some college or associate's degree, 2015-19... 0.30%\n",
      "Percent of adults with a bachelor's degree or higher, 2015-19... 0.30%\n"
     ]
    },
    {
     "data": {
      "text/html": [
       "<div>\n",
       "<style scoped>\n",
       "    .dataframe tbody tr th:only-of-type {\n",
       "        vertical-align: middle;\n",
       "    }\n",
       "\n",
       "    .dataframe tbody tr th {\n",
       "        vertical-align: top;\n",
       "    }\n",
       "\n",
       "    .dataframe thead th {\n",
       "        text-align: right;\n",
       "    }\n",
       "</style>\n",
       "<table border=\"1\" class=\"dataframe\">\n",
       "  <thead>\n",
       "    <tr style=\"text-align: right;\">\n",
       "      <th>FIPS Code</th>\n",
       "      <th>State</th>\n",
       "      <th>Area name</th>\n",
       "      <th>2003 Rural-urban Continuum Code</th>\n",
       "      <th>2003 Urban Influence Code</th>\n",
       "      <th>2013 Rural-urban Continuum Code</th>\n",
       "      <th>2013 Urban Influence Code</th>\n",
       "      <th>Less than a high school diploma, 1970</th>\n",
       "      <th>High school diploma only, 1970</th>\n",
       "      <th>Some college (1-3 years), 1970</th>\n",
       "      <th>Four years of college or higher, 1970</th>\n",
       "      <th>...</th>\n",
       "      <th>Percent of adults completing some college or associate's degree, 2000</th>\n",
       "      <th>Percent of adults with a bachelor's degree or higher, 2000</th>\n",
       "      <th>Less than a high school diploma, 2015-19</th>\n",
       "      <th>High school diploma only, 2015-19</th>\n",
       "      <th>Some college or associate's degree, 2015-19</th>\n",
       "      <th>Bachelor's degree or higher, 2015-19</th>\n",
       "      <th>Percent of adults with less than a high school diploma, 2015-19</th>\n",
       "      <th>Percent of adults with a high school diploma only, 2015-19</th>\n",
       "      <th>Percent of adults completing some college or associate's degree, 2015-19</th>\n",
       "      <th>Percent of adults with a bachelor's degree or higher, 2015-19</th>\n",
       "    </tr>\n",
       "  </thead>\n",
       "  <tbody>\n",
       "    <tr>\n",
       "      <th>0</th>\n",
       "      <td>US</td>\n",
       "      <td>United States</td>\n",
       "      <td>NaN</td>\n",
       "      <td>NaN</td>\n",
       "      <td>NaN</td>\n",
       "      <td>NaN</td>\n",
       "      <td>52373312</td>\n",
       "      <td>34158051</td>\n",
       "      <td>11650730</td>\n",
       "      <td>11717266</td>\n",
       "      <td>...</td>\n",
       "      <td>27.4</td>\n",
       "      <td>24.4</td>\n",
       "      <td>26472261</td>\n",
       "      <td>59472748</td>\n",
       "      <td>63756905</td>\n",
       "      <td>70920162</td>\n",
       "      <td>11.998918</td>\n",
       "      <td>26.956844</td>\n",
       "      <td>28.898697</td>\n",
       "      <td>32.145542</td>\n",
       "    </tr>\n",
       "    <tr>\n",
       "      <th>1</th>\n",
       "      <td>AL</td>\n",
       "      <td>Alabama</td>\n",
       "      <td>NaN</td>\n",
       "      <td>NaN</td>\n",
       "      <td>NaN</td>\n",
       "      <td>NaN</td>\n",
       "      <td>1062306</td>\n",
       "      <td>468269</td>\n",
       "      <td>136287</td>\n",
       "      <td>141936</td>\n",
       "      <td>...</td>\n",
       "      <td>25.9</td>\n",
       "      <td>19</td>\n",
       "      <td>458922</td>\n",
       "      <td>1022839</td>\n",
       "      <td>993344</td>\n",
       "      <td>845772</td>\n",
       "      <td>13.819302</td>\n",
       "      <td>30.800268</td>\n",
       "      <td>29.912098</td>\n",
       "      <td>25.468332</td>\n",
       "    </tr>\n",
       "    <tr>\n",
       "      <th>2</th>\n",
       "      <td>AL</td>\n",
       "      <td>Autauga County</td>\n",
       "      <td>2</td>\n",
       "      <td>2</td>\n",
       "      <td>2</td>\n",
       "      <td>2</td>\n",
       "      <td>6611</td>\n",
       "      <td>3757</td>\n",
       "      <td>933</td>\n",
       "      <td>767</td>\n",
       "      <td>...</td>\n",
       "      <td>26.9</td>\n",
       "      <td>18</td>\n",
       "      <td>4291</td>\n",
       "      <td>12551</td>\n",
       "      <td>10596</td>\n",
       "      <td>9929</td>\n",
       "      <td>11.483395</td>\n",
       "      <td>33.588459</td>\n",
       "      <td>28.356571</td>\n",
       "      <td>26.571573</td>\n",
       "    </tr>\n",
       "    <tr>\n",
       "      <th>3</th>\n",
       "      <td>AL</td>\n",
       "      <td>Baldwin County</td>\n",
       "      <td>4</td>\n",
       "      <td>5</td>\n",
       "      <td>3</td>\n",
       "      <td>2</td>\n",
       "      <td>18726</td>\n",
       "      <td>8426</td>\n",
       "      <td>2334</td>\n",
       "      <td>2038</td>\n",
       "      <td>...</td>\n",
       "      <td>29.3</td>\n",
       "      <td>23.1</td>\n",
       "      <td>13893</td>\n",
       "      <td>41797</td>\n",
       "      <td>47274</td>\n",
       "      <td>48148</td>\n",
       "      <td>9.193843</td>\n",
       "      <td>27.659616</td>\n",
       "      <td>31.284081</td>\n",
       "      <td>31.862459</td>\n",
       "    </tr>\n",
       "    <tr>\n",
       "      <th>4</th>\n",
       "      <td>AL</td>\n",
       "      <td>Barbour County</td>\n",
       "      <td>6</td>\n",
       "      <td>6</td>\n",
       "      <td>6</td>\n",
       "      <td>6</td>\n",
       "      <td>8120</td>\n",
       "      <td>2242</td>\n",
       "      <td>581</td>\n",
       "      <td>861</td>\n",
       "      <td>...</td>\n",
       "      <td>21.3</td>\n",
       "      <td>10.9</td>\n",
       "      <td>4812</td>\n",
       "      <td>6396</td>\n",
       "      <td>4676</td>\n",
       "      <td>2080</td>\n",
       "      <td>26.786907</td>\n",
       "      <td>35.604542</td>\n",
       "      <td>26.029837</td>\n",
       "      <td>11.578713</td>\n",
       "    </tr>\n",
       "  </tbody>\n",
       "</table>\n",
       "<p>5 rows × 46 columns</p>\n",
       "</div>"
      ],
      "text/plain": [
       "FIPS Code State       Area name 2003 Rural-urban Continuum Code  \\\n",
       "0            US   United States                             NaN   \n",
       "1            AL         Alabama                             NaN   \n",
       "2            AL  Autauga County                               2   \n",
       "3            AL  Baldwin County                               4   \n",
       "4            AL  Barbour County                               6   \n",
       "\n",
       "FIPS Code 2003 Urban Influence Code 2013 Rural-urban Continuum Code  \\\n",
       "0                               NaN                             NaN   \n",
       "1                               NaN                             NaN   \n",
       "2                                 2                               2   \n",
       "3                                 5                               3   \n",
       "4                                 6                               6   \n",
       "\n",
       "FIPS Code 2013 Urban Influence Code Less than a high school diploma, 1970  \\\n",
       "0                               NaN                              52373312   \n",
       "1                               NaN                               1062306   \n",
       "2                                 2                                  6611   \n",
       "3                                 2                                 18726   \n",
       "4                                 6                                  8120   \n",
       "\n",
       "FIPS Code High school diploma only, 1970 Some college (1-3 years), 1970  \\\n",
       "0                               34158051                       11650730   \n",
       "1                                 468269                         136287   \n",
       "2                                   3757                            933   \n",
       "3                                   8426                           2334   \n",
       "4                                   2242                            581   \n",
       "\n",
       "FIPS Code Four years of college or higher, 1970  ...  \\\n",
       "0                                      11717266  ...   \n",
       "1                                        141936  ...   \n",
       "2                                           767  ...   \n",
       "3                                          2038  ...   \n",
       "4                                           861  ...   \n",
       "\n",
       "FIPS Code Percent of adults completing some college or associate's degree, 2000  \\\n",
       "0                                                       27.4                      \n",
       "1                                                       25.9                      \n",
       "2                                                       26.9                      \n",
       "3                                                       29.3                      \n",
       "4                                                       21.3                      \n",
       "\n",
       "FIPS Code Percent of adults with a bachelor's degree or higher, 2000  \\\n",
       "0                                                       24.4           \n",
       "1                                                         19           \n",
       "2                                                         18           \n",
       "3                                                       23.1           \n",
       "4                                                       10.9           \n",
       "\n",
       "FIPS Code Less than a high school diploma, 2015-19  \\\n",
       "0                                         26472261   \n",
       "1                                           458922   \n",
       "2                                             4291   \n",
       "3                                            13893   \n",
       "4                                             4812   \n",
       "\n",
       "FIPS Code High school diploma only, 2015-19  \\\n",
       "0                                  59472748   \n",
       "1                                   1022839   \n",
       "2                                     12551   \n",
       "3                                     41797   \n",
       "4                                      6396   \n",
       "\n",
       "FIPS Code Some college or associate's degree, 2015-19  \\\n",
       "0                                            63756905   \n",
       "1                                              993344   \n",
       "2                                               10596   \n",
       "3                                               47274   \n",
       "4                                                4676   \n",
       "\n",
       "FIPS Code Bachelor's degree or higher, 2015-19  \\\n",
       "0                                     70920162   \n",
       "1                                       845772   \n",
       "2                                         9929   \n",
       "3                                        48148   \n",
       "4                                         2080   \n",
       "\n",
       "FIPS Code Percent of adults with less than a high school diploma, 2015-19  \\\n",
       "0                                                  11.998918                \n",
       "1                                                  13.819302                \n",
       "2                                                  11.483395                \n",
       "3                                                   9.193843                \n",
       "4                                                  26.786907                \n",
       "\n",
       "FIPS Code Percent of adults with a high school diploma only, 2015-19  \\\n",
       "0                                                  26.956844           \n",
       "1                                                  30.800268           \n",
       "2                                                  33.588459           \n",
       "3                                                  27.659616           \n",
       "4                                                  35.604542           \n",
       "\n",
       "FIPS Code Percent of adults completing some college or associate's degree, 2015-19  \\\n",
       "0                                                  28.898697                         \n",
       "1                                                  29.912098                         \n",
       "2                                                  28.356571                         \n",
       "3                                                  31.284081                         \n",
       "4                                                  26.029837                         \n",
       "\n",
       "FIPS Code Percent of adults with a bachelor's degree or higher, 2015-19  \n",
       "0                                                  32.145542             \n",
       "1                                                  25.468332             \n",
       "2                                                  26.571573             \n",
       "3                                                  31.862459             \n",
       "4                                                  11.578713             \n",
       "\n",
       "[5 rows x 46 columns]"
      ]
     },
     "metadata": {},
     "output_type": "display_data"
    },
    {
     "name": "stdout",
     "output_type": "stream",
     "text": [
      "======== Check NAN\n",
      "\n",
      "========== File name PovertyEstimates.xls\n",
      "\n",
      "Poverty estimates for the U.S., States, and counties, 2019\n",
      "=== Check NAN\n",
      "... nb of columns with NAN 10 out of 33\n",
      "POV04_2019... 98.37%\n",
      "CI90LB04_2019... 98.37%\n",
      "CI90UB04_2019... 98.37%\n",
      "PCTPOV04_2019... 98.37%\n",
      "CI90LB04P_2019... 98.37%\n",
      "CI90UB04P_2019... 98.37%\n",
      "Rural-urban_Continuum_Code_2003... 1.79%\n",
      "Urban_Influence_Code_2003... 1.79%\n",
      "Rural-urban_Continuum_Code_2013... 1.63%\n",
      "Urban_Influence_Code_2013... 1.63%\n"
     ]
    },
    {
     "data": {
      "text/html": [
       "<div>\n",
       "<style scoped>\n",
       "    .dataframe tbody tr th:only-of-type {\n",
       "        vertical-align: middle;\n",
       "    }\n",
       "\n",
       "    .dataframe tbody tr th {\n",
       "        vertical-align: top;\n",
       "    }\n",
       "\n",
       "    .dataframe thead th {\n",
       "        text-align: right;\n",
       "    }\n",
       "</style>\n",
       "<table border=\"1\" class=\"dataframe\">\n",
       "  <thead>\n",
       "    <tr style=\"text-align: right;\">\n",
       "      <th>FIPStxt</th>\n",
       "      <th>Stabr</th>\n",
       "      <th>Area_name</th>\n",
       "      <th>Rural-urban_Continuum_Code_2003</th>\n",
       "      <th>Urban_Influence_Code_2003</th>\n",
       "      <th>Rural-urban_Continuum_Code_2013</th>\n",
       "      <th>Urban_Influence_Code_2013</th>\n",
       "      <th>POVALL_2019</th>\n",
       "      <th>CI90LBALL_2019</th>\n",
       "      <th>CI90UBALL_2019</th>\n",
       "      <th>PCTPOVALL_2019</th>\n",
       "      <th>...</th>\n",
       "      <th>CI90UB517P_2019</th>\n",
       "      <th>MEDHHINC_2019</th>\n",
       "      <th>CI90LBINC_2019</th>\n",
       "      <th>CI90UBINC_2019</th>\n",
       "      <th>POV04_2019</th>\n",
       "      <th>CI90LB04_2019</th>\n",
       "      <th>CI90UB04_2019</th>\n",
       "      <th>PCTPOV04_2019</th>\n",
       "      <th>CI90LB04P_2019</th>\n",
       "      <th>CI90UB04P_2019</th>\n",
       "    </tr>\n",
       "  </thead>\n",
       "  <tbody>\n",
       "    <tr>\n",
       "      <th>0</th>\n",
       "      <td>US</td>\n",
       "      <td>United States</td>\n",
       "      <td>NaN</td>\n",
       "      <td>NaN</td>\n",
       "      <td>NaN</td>\n",
       "      <td>NaN</td>\n",
       "      <td>39490096</td>\n",
       "      <td>39248096</td>\n",
       "      <td>39732096</td>\n",
       "      <td>12.3</td>\n",
       "      <td>...</td>\n",
       "      <td>16</td>\n",
       "      <td>65712</td>\n",
       "      <td>65594</td>\n",
       "      <td>65830</td>\n",
       "      <td>3457689</td>\n",
       "      <td>3405854</td>\n",
       "      <td>3509524</td>\n",
       "      <td>18.2</td>\n",
       "      <td>17.9</td>\n",
       "      <td>18.5</td>\n",
       "    </tr>\n",
       "    <tr>\n",
       "      <th>1</th>\n",
       "      <td>AL</td>\n",
       "      <td>Alabama</td>\n",
       "      <td>NaN</td>\n",
       "      <td>NaN</td>\n",
       "      <td>NaN</td>\n",
       "      <td>NaN</td>\n",
       "      <td>747478</td>\n",
       "      <td>730491</td>\n",
       "      <td>764465</td>\n",
       "      <td>15.6</td>\n",
       "      <td>...</td>\n",
       "      <td>21.6</td>\n",
       "      <td>51771</td>\n",
       "      <td>51179</td>\n",
       "      <td>52363</td>\n",
       "      <td>69236</td>\n",
       "      <td>65296</td>\n",
       "      <td>73176</td>\n",
       "      <td>24.2</td>\n",
       "      <td>22.8</td>\n",
       "      <td>25.6</td>\n",
       "    </tr>\n",
       "    <tr>\n",
       "      <th>2</th>\n",
       "      <td>AL</td>\n",
       "      <td>Autauga County</td>\n",
       "      <td>2</td>\n",
       "      <td>2</td>\n",
       "      <td>2</td>\n",
       "      <td>2</td>\n",
       "      <td>6723</td>\n",
       "      <td>5517</td>\n",
       "      <td>7929</td>\n",
       "      <td>12.1</td>\n",
       "      <td>...</td>\n",
       "      <td>19.4</td>\n",
       "      <td>58233</td>\n",
       "      <td>52517</td>\n",
       "      <td>63949</td>\n",
       "      <td>NaN</td>\n",
       "      <td>NaN</td>\n",
       "      <td>NaN</td>\n",
       "      <td>NaN</td>\n",
       "      <td>NaN</td>\n",
       "      <td>NaN</td>\n",
       "    </tr>\n",
       "    <tr>\n",
       "      <th>3</th>\n",
       "      <td>AL</td>\n",
       "      <td>Baldwin County</td>\n",
       "      <td>4</td>\n",
       "      <td>5</td>\n",
       "      <td>3</td>\n",
       "      <td>2</td>\n",
       "      <td>22360</td>\n",
       "      <td>18541</td>\n",
       "      <td>26179</td>\n",
       "      <td>10.1</td>\n",
       "      <td>...</td>\n",
       "      <td>17.2</td>\n",
       "      <td>59871</td>\n",
       "      <td>54593</td>\n",
       "      <td>65149</td>\n",
       "      <td>NaN</td>\n",
       "      <td>NaN</td>\n",
       "      <td>NaN</td>\n",
       "      <td>NaN</td>\n",
       "      <td>NaN</td>\n",
       "      <td>NaN</td>\n",
       "    </tr>\n",
       "    <tr>\n",
       "      <th>4</th>\n",
       "      <td>AL</td>\n",
       "      <td>Barbour County</td>\n",
       "      <td>6</td>\n",
       "      <td>6</td>\n",
       "      <td>6</td>\n",
       "      <td>6</td>\n",
       "      <td>5909</td>\n",
       "      <td>4787</td>\n",
       "      <td>7031</td>\n",
       "      <td>27.1</td>\n",
       "      <td>...</td>\n",
       "      <td>49</td>\n",
       "      <td>35972</td>\n",
       "      <td>31822</td>\n",
       "      <td>40122</td>\n",
       "      <td>NaN</td>\n",
       "      <td>NaN</td>\n",
       "      <td>NaN</td>\n",
       "      <td>NaN</td>\n",
       "      <td>NaN</td>\n",
       "      <td>NaN</td>\n",
       "    </tr>\n",
       "  </tbody>\n",
       "</table>\n",
       "<p>5 rows × 33 columns</p>\n",
       "</div>"
      ],
      "text/plain": [
       "FIPStxt Stabr       Area_name Rural-urban_Continuum_Code_2003  \\\n",
       "0          US   United States                             NaN   \n",
       "1          AL         Alabama                             NaN   \n",
       "2          AL  Autauga County                               2   \n",
       "3          AL  Baldwin County                               4   \n",
       "4          AL  Barbour County                               6   \n",
       "\n",
       "FIPStxt Urban_Influence_Code_2003 Rural-urban_Continuum_Code_2013  \\\n",
       "0                             NaN                             NaN   \n",
       "1                             NaN                             NaN   \n",
       "2                               2                               2   \n",
       "3                               5                               3   \n",
       "4                               6                               6   \n",
       "\n",
       "FIPStxt Urban_Influence_Code_2013 POVALL_2019 CI90LBALL_2019 CI90UBALL_2019  \\\n",
       "0                             NaN    39490096       39248096       39732096   \n",
       "1                             NaN      747478         730491         764465   \n",
       "2                               2        6723           5517           7929   \n",
       "3                               2       22360          18541          26179   \n",
       "4                               6        5909           4787           7031   \n",
       "\n",
       "FIPStxt PCTPOVALL_2019  ... CI90UB517P_2019 MEDHHINC_2019 CI90LBINC_2019  \\\n",
       "0                 12.3  ...              16         65712          65594   \n",
       "1                 15.6  ...            21.6         51771          51179   \n",
       "2                 12.1  ...            19.4         58233          52517   \n",
       "3                 10.1  ...            17.2         59871          54593   \n",
       "4                 27.1  ...              49         35972          31822   \n",
       "\n",
       "FIPStxt CI90UBINC_2019 POV04_2019 CI90LB04_2019 CI90UB04_2019 PCTPOV04_2019  \\\n",
       "0                65830    3457689       3405854       3509524          18.2   \n",
       "1                52363      69236         65296         73176          24.2   \n",
       "2                63949        NaN           NaN           NaN           NaN   \n",
       "3                65149        NaN           NaN           NaN           NaN   \n",
       "4                40122        NaN           NaN           NaN           NaN   \n",
       "\n",
       "FIPStxt CI90LB04P_2019 CI90UB04P_2019  \n",
       "0                 17.9           18.5  \n",
       "1                 22.8           25.6  \n",
       "2                  NaN            NaN  \n",
       "3                  NaN            NaN  \n",
       "4                  NaN            NaN  \n",
       "\n",
       "[5 rows x 33 columns]"
      ]
     },
     "metadata": {},
     "output_type": "display_data"
    },
    {
     "name": "stdout",
     "output_type": "stream",
     "text": [
      "======== Check NAN\n",
      "\n",
      "========== File name US_County_Level_Presidential_Results_08-16.csv\n",
      "\n"
     ]
    },
    {
     "data": {
      "text/html": [
       "<div>\n",
       "<style scoped>\n",
       "    .dataframe tbody tr th:only-of-type {\n",
       "        vertical-align: middle;\n",
       "    }\n",
       "\n",
       "    .dataframe tbody tr th {\n",
       "        vertical-align: top;\n",
       "    }\n",
       "\n",
       "    .dataframe thead th {\n",
       "        text-align: right;\n",
       "    }\n",
       "</style>\n",
       "<table border=\"1\" class=\"dataframe\">\n",
       "  <thead>\n",
       "    <tr style=\"text-align: right;\">\n",
       "      <th></th>\n",
       "      <th>fips_code</th>\n",
       "      <th>county</th>\n",
       "      <th>total_2008</th>\n",
       "      <th>dem_2008</th>\n",
       "      <th>gop_2008</th>\n",
       "      <th>oth_2008</th>\n",
       "      <th>total_2012</th>\n",
       "      <th>dem_2012</th>\n",
       "      <th>gop_2012</th>\n",
       "      <th>oth_2012</th>\n",
       "      <th>total_2016</th>\n",
       "      <th>dem_2016</th>\n",
       "      <th>gop_2016</th>\n",
       "      <th>oth_2016</th>\n",
       "    </tr>\n",
       "  </thead>\n",
       "  <tbody>\n",
       "    <tr>\n",
       "      <th>0</th>\n",
       "      <td>26041</td>\n",
       "      <td>Delta County</td>\n",
       "      <td>19064</td>\n",
       "      <td>9974</td>\n",
       "      <td>8763</td>\n",
       "      <td>327</td>\n",
       "      <td>18043</td>\n",
       "      <td>8330</td>\n",
       "      <td>9533</td>\n",
       "      <td>180</td>\n",
       "      <td>18467</td>\n",
       "      <td>6431</td>\n",
       "      <td>11112</td>\n",
       "      <td>924</td>\n",
       "    </tr>\n",
       "    <tr>\n",
       "      <th>1</th>\n",
       "      <td>48295</td>\n",
       "      <td>Lipscomb County</td>\n",
       "      <td>1256</td>\n",
       "      <td>155</td>\n",
       "      <td>1093</td>\n",
       "      <td>8</td>\n",
       "      <td>1168</td>\n",
       "      <td>119</td>\n",
       "      <td>1044</td>\n",
       "      <td>5</td>\n",
       "      <td>1322</td>\n",
       "      <td>135</td>\n",
       "      <td>1159</td>\n",
       "      <td>28</td>\n",
       "    </tr>\n",
       "    <tr>\n",
       "      <th>2</th>\n",
       "      <td>1127</td>\n",
       "      <td>Walker County</td>\n",
       "      <td>28652</td>\n",
       "      <td>7420</td>\n",
       "      <td>20722</td>\n",
       "      <td>510</td>\n",
       "      <td>28497</td>\n",
       "      <td>6551</td>\n",
       "      <td>21633</td>\n",
       "      <td>313</td>\n",
       "      <td>29243</td>\n",
       "      <td>4486</td>\n",
       "      <td>24208</td>\n",
       "      <td>549</td>\n",
       "    </tr>\n",
       "    <tr>\n",
       "      <th>3</th>\n",
       "      <td>48389</td>\n",
       "      <td>Reeves County</td>\n",
       "      <td>3077</td>\n",
       "      <td>1606</td>\n",
       "      <td>1445</td>\n",
       "      <td>26</td>\n",
       "      <td>2867</td>\n",
       "      <td>1649</td>\n",
       "      <td>1185</td>\n",
       "      <td>33</td>\n",
       "      <td>3184</td>\n",
       "      <td>1659</td>\n",
       "      <td>1417</td>\n",
       "      <td>108</td>\n",
       "    </tr>\n",
       "    <tr>\n",
       "      <th>4</th>\n",
       "      <td>56017</td>\n",
       "      <td>Hot Springs County</td>\n",
       "      <td>2546</td>\n",
       "      <td>619</td>\n",
       "      <td>1834</td>\n",
       "      <td>93</td>\n",
       "      <td>2495</td>\n",
       "      <td>523</td>\n",
       "      <td>1894</td>\n",
       "      <td>78</td>\n",
       "      <td>2535</td>\n",
       "      <td>400</td>\n",
       "      <td>1939</td>\n",
       "      <td>196</td>\n",
       "    </tr>\n",
       "  </tbody>\n",
       "</table>\n",
       "</div>"
      ],
      "text/plain": [
       "   fips_code              county  total_2008  dem_2008  gop_2008  oth_2008  \\\n",
       "0      26041        Delta County       19064      9974      8763       327   \n",
       "1      48295     Lipscomb County        1256       155      1093         8   \n",
       "2       1127       Walker County       28652      7420     20722       510   \n",
       "3      48389       Reeves County        3077      1606      1445        26   \n",
       "4      56017  Hot Springs County        2546       619      1834        93   \n",
       "\n",
       "   total_2012  dem_2012  gop_2012  oth_2012  total_2016  dem_2016  gop_2016  \\\n",
       "0       18043      8330      9533       180       18467      6431     11112   \n",
       "1        1168       119      1044         5        1322       135      1159   \n",
       "2       28497      6551     21633       313       29243      4486     24208   \n",
       "3        2867      1649      1185        33        3184      1659      1417   \n",
       "4        2495       523      1894        78        2535       400      1939   \n",
       "\n",
       "   oth_2016  \n",
       "0       924  \n",
       "1        28  \n",
       "2       549  \n",
       "3       108  \n",
       "4       196  "
      ]
     },
     "metadata": {},
     "output_type": "display_data"
    },
    {
     "name": "stdout",
     "output_type": "stream",
     "text": [
      "Index(['fips_code', 'county', 'total_2008', 'dem_2008', 'gop_2008', 'oth_2008',\n",
      "       'total_2012', 'dem_2012', 'gop_2012', 'oth_2012', 'total_2016',\n",
      "       'dem_2016', 'gop_2016', 'oth_2016'],\n",
      "      dtype='object')\n",
      "=== Check NAN\n",
      "\n",
      "========== File name 2020_US_County_Level_Presidential_Results.csv\n",
      "\n"
     ]
    },
    {
     "data": {
      "text/html": [
       "<div>\n",
       "<style scoped>\n",
       "    .dataframe tbody tr th:only-of-type {\n",
       "        vertical-align: middle;\n",
       "    }\n",
       "\n",
       "    .dataframe tbody tr th {\n",
       "        vertical-align: top;\n",
       "    }\n",
       "\n",
       "    .dataframe thead th {\n",
       "        text-align: right;\n",
       "    }\n",
       "</style>\n",
       "<table border=\"1\" class=\"dataframe\">\n",
       "  <thead>\n",
       "    <tr style=\"text-align: right;\">\n",
       "      <th></th>\n",
       "      <th>state_name</th>\n",
       "      <th>county_fips</th>\n",
       "      <th>county_name</th>\n",
       "      <th>votes_gop</th>\n",
       "      <th>votes_dem</th>\n",
       "      <th>total_votes</th>\n",
       "      <th>diff</th>\n",
       "      <th>per_gop</th>\n",
       "      <th>per_dem</th>\n",
       "      <th>per_point_diff</th>\n",
       "    </tr>\n",
       "  </thead>\n",
       "  <tbody>\n",
       "    <tr>\n",
       "      <th>0</th>\n",
       "      <td>Alabama</td>\n",
       "      <td>1001</td>\n",
       "      <td>Autauga County</td>\n",
       "      <td>19838</td>\n",
       "      <td>7503</td>\n",
       "      <td>27770</td>\n",
       "      <td>12335</td>\n",
       "      <td>0.714368</td>\n",
       "      <td>0.270184</td>\n",
       "      <td>0.444184</td>\n",
       "    </tr>\n",
       "    <tr>\n",
       "      <th>1</th>\n",
       "      <td>Alabama</td>\n",
       "      <td>1003</td>\n",
       "      <td>Baldwin County</td>\n",
       "      <td>83544</td>\n",
       "      <td>24578</td>\n",
       "      <td>109679</td>\n",
       "      <td>58966</td>\n",
       "      <td>0.761714</td>\n",
       "      <td>0.224090</td>\n",
       "      <td>0.537623</td>\n",
       "    </tr>\n",
       "    <tr>\n",
       "      <th>2</th>\n",
       "      <td>Alabama</td>\n",
       "      <td>1005</td>\n",
       "      <td>Barbour County</td>\n",
       "      <td>5622</td>\n",
       "      <td>4816</td>\n",
       "      <td>10518</td>\n",
       "      <td>806</td>\n",
       "      <td>0.534512</td>\n",
       "      <td>0.457882</td>\n",
       "      <td>0.076631</td>\n",
       "    </tr>\n",
       "    <tr>\n",
       "      <th>3</th>\n",
       "      <td>Alabama</td>\n",
       "      <td>1007</td>\n",
       "      <td>Bibb County</td>\n",
       "      <td>7525</td>\n",
       "      <td>1986</td>\n",
       "      <td>9595</td>\n",
       "      <td>5539</td>\n",
       "      <td>0.784263</td>\n",
       "      <td>0.206983</td>\n",
       "      <td>0.577280</td>\n",
       "    </tr>\n",
       "    <tr>\n",
       "      <th>4</th>\n",
       "      <td>Alabama</td>\n",
       "      <td>1009</td>\n",
       "      <td>Blount County</td>\n",
       "      <td>24711</td>\n",
       "      <td>2640</td>\n",
       "      <td>27588</td>\n",
       "      <td>22071</td>\n",
       "      <td>0.895716</td>\n",
       "      <td>0.095694</td>\n",
       "      <td>0.800022</td>\n",
       "    </tr>\n",
       "  </tbody>\n",
       "</table>\n",
       "</div>"
      ],
      "text/plain": [
       "  state_name  county_fips     county_name  votes_gop  votes_dem  total_votes  \\\n",
       "0    Alabama         1001  Autauga County      19838       7503        27770   \n",
       "1    Alabama         1003  Baldwin County      83544      24578       109679   \n",
       "2    Alabama         1005  Barbour County       5622       4816        10518   \n",
       "3    Alabama         1007     Bibb County       7525       1986         9595   \n",
       "4    Alabama         1009   Blount County      24711       2640        27588   \n",
       "\n",
       "    diff   per_gop   per_dem  per_point_diff  \n",
       "0  12335  0.714368  0.270184        0.444184  \n",
       "1  58966  0.761714  0.224090        0.537623  \n",
       "2    806  0.534512  0.457882        0.076631  \n",
       "3   5539  0.784263  0.206983        0.577280  \n",
       "4  22071  0.895716  0.095694        0.800022  "
      ]
     },
     "metadata": {},
     "output_type": "display_data"
    },
    {
     "name": "stdout",
     "output_type": "stream",
     "text": [
      "Index(['state_name', 'county_fips', 'county_name', 'votes_gop', 'votes_dem',\n",
      "       'total_votes', 'diff', 'per_gop', 'per_dem', 'per_point_diff'],\n",
      "      dtype='object')\n",
      "=== Check NAN\n",
      "\n",
      "========== File name Unemployment.xls\n",
      "\n",
      "Unemployment and median household income for the U.S., States, and counties, 2000-19\n",
      "=== Check NAN\n",
      "... nb of columns with NAN 85 out of 87\n",
      "Med_HH_Income_Percent_of_State_Total_2019... 2.53%\n",
      "Median_Household_Income_2019... 2.50%\n",
      "Urban_influence_code_2013... 1.71%\n",
      "Rural_urban_continuum_code_2013... 1.71%\n",
      "Metro_2013... 1.62%\n",
      "Unemployment_rate_2005... 0.37%\n",
      "Unemployed_2005... 0.37%\n",
      "Employed_2005... 0.37%\n",
      "Civilian_labor_force_2005... 0.37%\n",
      "Employed_2006... 0.37%\n",
      "Unemployed_2006... 0.37%\n",
      "Unemployment_rate_2006... 0.37%\n",
      "Civilian_labor_force_2006... 0.37%\n",
      "Unemployed_2007... 0.15%\n",
      "Civilian_labor_force_2007... 0.15%\n",
      "Employed_2007... 0.15%\n",
      "Employed_2000... 0.15%\n",
      "Unemployment_rate_2007... 0.15%\n",
      "Employed_2008... 0.15%\n",
      "Unemployed_2008... 0.15%\n",
      "Unemployment_rate_2008... 0.15%\n",
      "Civilian_labor_force_2009... 0.15%\n",
      "Employed_2009... 0.15%\n",
      "Unemployed_2009... 0.15%\n",
      "Civilian_labor_force_2000... 0.15%\n",
      "Unemployed_2000... 0.15%\n",
      "Civilian_labor_force_2008... 0.15%\n",
      "Unemployment_rate_2009... 0.15%\n",
      "Unemployment_rate_2004... 0.15%\n",
      "Unemployed_2002... 0.15%\n",
      "Unemployed_2004... 0.15%\n",
      "Civilian_labor_force_2001... 0.15%\n",
      "Unemployment_rate_2000... 0.15%\n",
      "Employed_2001... 0.15%\n",
      "Unemployed_2001... 0.15%\n",
      "Civilian_labor_force_2002... 0.15%\n",
      "Employed_2002... 0.15%\n",
      "Unemployment_rate_2001... 0.15%\n",
      "Unemployment_rate_2002... 0.15%\n",
      "Civilian_labor_force_2003... 0.15%\n",
      "Employed_2003... 0.15%\n",
      "Unemployed_2003... 0.15%\n",
      "Unemployment_rate_2003... 0.15%\n",
      "Civilian_labor_force_2004... 0.15%\n",
      "Employed_2004... 0.15%\n",
      "Unemployed_2017... 0.09%\n",
      "Unemployment_rate_2015... 0.09%\n",
      "Civilian_labor_force_2016... 0.09%\n",
      "Employed_2016... 0.09%\n",
      "Unemployed_2016... 0.09%\n",
      "Unemployment_rate_2016... 0.09%\n",
      "Civilian_labor_force_2017... 0.09%\n",
      "Employed_2017... 0.09%\n",
      "Unemployed_2019... 0.09%\n",
      "Unemployment_rate_2017... 0.09%\n",
      "Civilian_labor_force_2018... 0.09%\n",
      "Employed_2018... 0.09%\n",
      "Unemployed_2018... 0.09%\n",
      "Unemployment_rate_2018... 0.09%\n",
      "Civilian_labor_force_2019... 0.09%\n",
      "Employed_2019... 0.09%\n",
      "Employed_2015... 0.09%\n",
      "Unemployment_rate_2019... 0.09%\n",
      "Unemployed_2015... 0.09%\n",
      "Employed_2013... 0.09%\n",
      "Civilian_labor_force_2015... 0.09%\n",
      "Unemployment_rate_2014... 0.09%\n",
      "Civilian_labor_force_2010... 0.09%\n",
      "Unemployed_2010... 0.09%\n",
      "Unemployment_rate_2010... 0.09%\n",
      "Civilian_labor_force_2011... 0.09%\n",
      "Employed_2011... 0.09%\n",
      "Unemployed_2011... 0.09%\n",
      "Unemployment_rate_2011... 0.09%\n",
      "Civilian_labor_force_2012... 0.09%\n",
      "Employed_2012... 0.09%\n",
      "Unemployed_2012... 0.09%\n",
      "Unemployment_rate_2012... 0.09%\n",
      "Civilian_labor_force_2013... 0.09%\n",
      "Unemployed_2013... 0.09%\n",
      "Unemployment_rate_2013... 0.09%\n",
      "Civilian_labor_force_2014... 0.09%\n",
      "Employed_2014... 0.09%\n",
      "Unemployed_2014... 0.09%\n",
      "Employed_2010... 0.09%\n"
     ]
    },
    {
     "data": {
      "text/html": [
       "<div>\n",
       "<style scoped>\n",
       "    .dataframe tbody tr th:only-of-type {\n",
       "        vertical-align: middle;\n",
       "    }\n",
       "\n",
       "    .dataframe tbody tr th {\n",
       "        vertical-align: top;\n",
       "    }\n",
       "\n",
       "    .dataframe thead th {\n",
       "        text-align: right;\n",
       "    }\n",
       "</style>\n",
       "<table border=\"1\" class=\"dataframe\">\n",
       "  <thead>\n",
       "    <tr style=\"text-align: right;\">\n",
       "      <th>fips_txt</th>\n",
       "      <th>Stabr</th>\n",
       "      <th>area_name</th>\n",
       "      <th>Rural_urban_continuum_code_2013</th>\n",
       "      <th>Urban_influence_code_2013</th>\n",
       "      <th>Metro_2013</th>\n",
       "      <th>Civilian_labor_force_2000</th>\n",
       "      <th>Employed_2000</th>\n",
       "      <th>Unemployed_2000</th>\n",
       "      <th>Unemployment_rate_2000</th>\n",
       "      <th>Civilian_labor_force_2001</th>\n",
       "      <th>...</th>\n",
       "      <th>Civilian_labor_force_2018</th>\n",
       "      <th>Employed_2018</th>\n",
       "      <th>Unemployed_2018</th>\n",
       "      <th>Unemployment_rate_2018</th>\n",
       "      <th>Civilian_labor_force_2019</th>\n",
       "      <th>Employed_2019</th>\n",
       "      <th>Unemployed_2019</th>\n",
       "      <th>Unemployment_rate_2019</th>\n",
       "      <th>Median_Household_Income_2019</th>\n",
       "      <th>Med_HH_Income_Percent_of_State_Total_2019</th>\n",
       "    </tr>\n",
       "  </thead>\n",
       "  <tbody>\n",
       "    <tr>\n",
       "      <th>0</th>\n",
       "      <td>US</td>\n",
       "      <td>United States</td>\n",
       "      <td>NaN</td>\n",
       "      <td>NaN</td>\n",
       "      <td>NaN</td>\n",
       "      <td>142601667</td>\n",
       "      <td>136904680</td>\n",
       "      <td>5696987</td>\n",
       "      <td>3.995035</td>\n",
       "      <td>143786778</td>\n",
       "      <td>...</td>\n",
       "      <td>161389026</td>\n",
       "      <td>155102319</td>\n",
       "      <td>6286707</td>\n",
       "      <td>3.895375</td>\n",
       "      <td>163100055</td>\n",
       "      <td>157115247</td>\n",
       "      <td>5984808</td>\n",
       "      <td>3.669409</td>\n",
       "      <td>65712</td>\n",
       "      <td>NaN</td>\n",
       "    </tr>\n",
       "    <tr>\n",
       "      <th>1</th>\n",
       "      <td>AL</td>\n",
       "      <td>Alabama</td>\n",
       "      <td>NaN</td>\n",
       "      <td>NaN</td>\n",
       "      <td>NaN</td>\n",
       "      <td>2133223</td>\n",
       "      <td>2035594</td>\n",
       "      <td>97629</td>\n",
       "      <td>4.6</td>\n",
       "      <td>2115401</td>\n",
       "      <td>...</td>\n",
       "      <td>2216627</td>\n",
       "      <td>2130845</td>\n",
       "      <td>85782</td>\n",
       "      <td>3.9</td>\n",
       "      <td>2241747</td>\n",
       "      <td>2174483</td>\n",
       "      <td>67264</td>\n",
       "      <td>3</td>\n",
       "      <td>51771</td>\n",
       "      <td>100</td>\n",
       "    </tr>\n",
       "    <tr>\n",
       "      <th>2</th>\n",
       "      <td>AL</td>\n",
       "      <td>Autauga County, AL</td>\n",
       "      <td>2</td>\n",
       "      <td>2</td>\n",
       "      <td>1</td>\n",
       "      <td>21720</td>\n",
       "      <td>20846</td>\n",
       "      <td>874</td>\n",
       "      <td>4</td>\n",
       "      <td>21955</td>\n",
       "      <td>...</td>\n",
       "      <td>26196</td>\n",
       "      <td>25261</td>\n",
       "      <td>935</td>\n",
       "      <td>3.6</td>\n",
       "      <td>26172</td>\n",
       "      <td>25458</td>\n",
       "      <td>714</td>\n",
       "      <td>2.7</td>\n",
       "      <td>58233</td>\n",
       "      <td>112.481888</td>\n",
       "    </tr>\n",
       "    <tr>\n",
       "      <th>3</th>\n",
       "      <td>AL</td>\n",
       "      <td>Baldwin County, AL</td>\n",
       "      <td>3</td>\n",
       "      <td>2</td>\n",
       "      <td>1</td>\n",
       "      <td>69533</td>\n",
       "      <td>66971</td>\n",
       "      <td>2562</td>\n",
       "      <td>3.7</td>\n",
       "      <td>69161</td>\n",
       "      <td>...</td>\n",
       "      <td>95233</td>\n",
       "      <td>91809</td>\n",
       "      <td>3424</td>\n",
       "      <td>3.6</td>\n",
       "      <td>97328</td>\n",
       "      <td>94675</td>\n",
       "      <td>2653</td>\n",
       "      <td>2.7</td>\n",
       "      <td>59871</td>\n",
       "      <td>115.645828</td>\n",
       "    </tr>\n",
       "    <tr>\n",
       "      <th>4</th>\n",
       "      <td>AL</td>\n",
       "      <td>Barbour County, AL</td>\n",
       "      <td>6</td>\n",
       "      <td>6</td>\n",
       "      <td>0</td>\n",
       "      <td>11373</td>\n",
       "      <td>10748</td>\n",
       "      <td>625</td>\n",
       "      <td>5.5</td>\n",
       "      <td>11250</td>\n",
       "      <td>...</td>\n",
       "      <td>8414</td>\n",
       "      <td>7987</td>\n",
       "      <td>427</td>\n",
       "      <td>5.1</td>\n",
       "      <td>8537</td>\n",
       "      <td>8213</td>\n",
       "      <td>324</td>\n",
       "      <td>3.8</td>\n",
       "      <td>35972</td>\n",
       "      <td>69.482918</td>\n",
       "    </tr>\n",
       "  </tbody>\n",
       "</table>\n",
       "<p>5 rows × 87 columns</p>\n",
       "</div>"
      ],
      "text/plain": [
       "fips_txt Stabr           area_name Rural_urban_continuum_code_2013  \\\n",
       "0           US       United States                             NaN   \n",
       "1           AL             Alabama                             NaN   \n",
       "2           AL  Autauga County, AL                               2   \n",
       "3           AL  Baldwin County, AL                               3   \n",
       "4           AL  Barbour County, AL                               6   \n",
       "\n",
       "fips_txt Urban_influence_code_2013 Metro_2013 Civilian_labor_force_2000  \\\n",
       "0                              NaN        NaN                 142601667   \n",
       "1                              NaN        NaN                   2133223   \n",
       "2                                2          1                     21720   \n",
       "3                                2          1                     69533   \n",
       "4                                6          0                     11373   \n",
       "\n",
       "fips_txt Employed_2000 Unemployed_2000 Unemployment_rate_2000  \\\n",
       "0            136904680         5696987               3.995035   \n",
       "1              2035594           97629                    4.6   \n",
       "2                20846             874                      4   \n",
       "3                66971            2562                    3.7   \n",
       "4                10748             625                    5.5   \n",
       "\n",
       "fips_txt Civilian_labor_force_2001  ... Civilian_labor_force_2018  \\\n",
       "0                        143786778  ...                 161389026   \n",
       "1                          2115401  ...                   2216627   \n",
       "2                            21955  ...                     26196   \n",
       "3                            69161  ...                     95233   \n",
       "4                            11250  ...                      8414   \n",
       "\n",
       "fips_txt Employed_2018 Unemployed_2018 Unemployment_rate_2018  \\\n",
       "0            155102319         6286707               3.895375   \n",
       "1              2130845           85782                    3.9   \n",
       "2                25261             935                    3.6   \n",
       "3                91809            3424                    3.6   \n",
       "4                 7987             427                    5.1   \n",
       "\n",
       "fips_txt Civilian_labor_force_2019 Employed_2019 Unemployed_2019  \\\n",
       "0                        163100055     157115247         5984808   \n",
       "1                          2241747       2174483           67264   \n",
       "2                            26172         25458             714   \n",
       "3                            97328         94675            2653   \n",
       "4                             8537          8213             324   \n",
       "\n",
       "fips_txt Unemployment_rate_2019 Median_Household_Income_2019  \\\n",
       "0                      3.669409                        65712   \n",
       "1                             3                        51771   \n",
       "2                           2.7                        58233   \n",
       "3                           2.7                        59871   \n",
       "4                           3.8                        35972   \n",
       "\n",
       "fips_txt Med_HH_Income_Percent_of_State_Total_2019  \n",
       "0                                              NaN  \n",
       "1                                              100  \n",
       "2                                       112.481888  \n",
       "3                                       115.645828  \n",
       "4                                        69.482918  \n",
       "\n",
       "[5 rows x 87 columns]"
      ]
     },
     "metadata": {},
     "output_type": "display_data"
    },
    {
     "name": "stdout",
     "output_type": "stream",
     "text": [
      "======== Check NAN\n"
     ]
    }
   ],
   "source": [
    "for file in res:\n",
    "    if file.endswith(\".csv\"):\n",
    "        t = pd.read_csv(dir_path + file)\n",
    "        print(f\"\\n========== File name {file}\\n\")\n",
    "        display(t.head())\n",
    "        print(t.columns)\n",
    "        check_nan(t)\n",
    "\n",
    "    elif file.endswith(\".xls\"):\n",
    "        # read file\n",
    "        with open(dir_path + file, mode=\"rb\") as excel_file:\n",
    "            _excel_file = pd.read_excel(excel_file,)\n",
    "        print(f\"\\n========== File name {file}\\n\")\n",
    "        print(_excel_file.columns[0])\n",
    "        _excel_file.set_index(_excel_file.columns[0], inplace=True)\n",
    "        # drop nan\n",
    "        _excel_file = _excel_file.dropna(how=\"all\")\n",
    "        # set header\n",
    "        header_row = _excel_file.iloc[0]\n",
    "        df = pd.DataFrame(_excel_file.values[1:], columns=header_row)\n",
    "        check_nan(df)\n",
    "        display(df.head())\n",
    "        print(\"======== Check NAN\")\n",
    "        \n",
    "\n",
    "    else:\n",
    "        print(\"Check files in data folder\")"
   ]
  },
  {
   "cell_type": "code",
   "execution_count": 7,
   "metadata": {},
   "outputs": [
    {
     "data": {
      "text/plain": [
       "Index(['state_name', 'county_fips', 'county_name', 'votes_gop', 'votes_dem',\n",
       "       'total_votes', 'diff', 'per_gop', 'per_dem', 'per_point_diff'],\n",
       "      dtype='object')"
      ]
     },
     "execution_count": 7,
     "metadata": {},
     "output_type": "execute_result"
    }
   ],
   "source": [
    "input_y = \"2020_US_County_Level_Presidential_Results.csv\"\n",
    "\n",
    "tmp = pd.read_csv(dir_path + input_y)\n",
    "tmp.columns"
   ]
  },
  {
   "cell_type": "code",
   "execution_count": 8,
   "metadata": {},
   "outputs": [
    {
     "data": {
      "text/html": [
       "<div>\n",
       "<style scoped>\n",
       "    .dataframe tbody tr th:only-of-type {\n",
       "        vertical-align: middle;\n",
       "    }\n",
       "\n",
       "    .dataframe tbody tr th {\n",
       "        vertical-align: top;\n",
       "    }\n",
       "\n",
       "    .dataframe thead th {\n",
       "        text-align: right;\n",
       "    }\n",
       "</style>\n",
       "<table border=\"1\" class=\"dataframe\">\n",
       "  <thead>\n",
       "    <tr style=\"text-align: right;\">\n",
       "      <th></th>\n",
       "      <th>state_name</th>\n",
       "      <th>county_fips</th>\n",
       "      <th>county_name</th>\n",
       "      <th>votes_gop</th>\n",
       "      <th>votes_dem</th>\n",
       "      <th>total_votes</th>\n",
       "      <th>diff</th>\n",
       "      <th>per_gop</th>\n",
       "      <th>per_dem</th>\n",
       "      <th>per_point_diff</th>\n",
       "    </tr>\n",
       "  </thead>\n",
       "  <tbody>\n",
       "    <tr>\n",
       "      <th>0</th>\n",
       "      <td>Alabama</td>\n",
       "      <td>1001</td>\n",
       "      <td>Autauga County</td>\n",
       "      <td>19838</td>\n",
       "      <td>7503</td>\n",
       "      <td>27770</td>\n",
       "      <td>12335</td>\n",
       "      <td>0.714368</td>\n",
       "      <td>0.270184</td>\n",
       "      <td>0.444184</td>\n",
       "    </tr>\n",
       "    <tr>\n",
       "      <th>1</th>\n",
       "      <td>Alabama</td>\n",
       "      <td>1003</td>\n",
       "      <td>Baldwin County</td>\n",
       "      <td>83544</td>\n",
       "      <td>24578</td>\n",
       "      <td>109679</td>\n",
       "      <td>58966</td>\n",
       "      <td>0.761714</td>\n",
       "      <td>0.224090</td>\n",
       "      <td>0.537623</td>\n",
       "    </tr>\n",
       "    <tr>\n",
       "      <th>2</th>\n",
       "      <td>Alabama</td>\n",
       "      <td>1005</td>\n",
       "      <td>Barbour County</td>\n",
       "      <td>5622</td>\n",
       "      <td>4816</td>\n",
       "      <td>10518</td>\n",
       "      <td>806</td>\n",
       "      <td>0.534512</td>\n",
       "      <td>0.457882</td>\n",
       "      <td>0.076631</td>\n",
       "    </tr>\n",
       "    <tr>\n",
       "      <th>3</th>\n",
       "      <td>Alabama</td>\n",
       "      <td>1007</td>\n",
       "      <td>Bibb County</td>\n",
       "      <td>7525</td>\n",
       "      <td>1986</td>\n",
       "      <td>9595</td>\n",
       "      <td>5539</td>\n",
       "      <td>0.784263</td>\n",
       "      <td>0.206983</td>\n",
       "      <td>0.577280</td>\n",
       "    </tr>\n",
       "    <tr>\n",
       "      <th>4</th>\n",
       "      <td>Alabama</td>\n",
       "      <td>1009</td>\n",
       "      <td>Blount County</td>\n",
       "      <td>24711</td>\n",
       "      <td>2640</td>\n",
       "      <td>27588</td>\n",
       "      <td>22071</td>\n",
       "      <td>0.895716</td>\n",
       "      <td>0.095694</td>\n",
       "      <td>0.800022</td>\n",
       "    </tr>\n",
       "  </tbody>\n",
       "</table>\n",
       "</div>"
      ],
      "text/plain": [
       "  state_name  county_fips     county_name  votes_gop  votes_dem  total_votes  \\\n",
       "0    Alabama         1001  Autauga County      19838       7503        27770   \n",
       "1    Alabama         1003  Baldwin County      83544      24578       109679   \n",
       "2    Alabama         1005  Barbour County       5622       4816        10518   \n",
       "3    Alabama         1007     Bibb County       7525       1986         9595   \n",
       "4    Alabama         1009   Blount County      24711       2640        27588   \n",
       "\n",
       "    diff   per_gop   per_dem  per_point_diff  \n",
       "0  12335  0.714368  0.270184        0.444184  \n",
       "1  58966  0.761714  0.224090        0.537623  \n",
       "2    806  0.534512  0.457882        0.076631  \n",
       "3   5539  0.784263  0.206983        0.577280  \n",
       "4  22071  0.895716  0.095694        0.800022  "
      ]
     },
     "execution_count": 8,
     "metadata": {},
     "output_type": "execute_result"
    }
   ],
   "source": [
    "tmp.head()"
   ]
  },
  {
   "cell_type": "code",
   "execution_count": 32,
   "metadata": {},
   "outputs": [],
   "source": [
    "pct_votes_party = tmp[[\"votes_gop\", \"votes_dem\"]].apply(np.sum) / tmp[\"total_votes\"].sum()\n",
    "pct_votes_party = pct_votes_party*100"
   ]
  },
  {
   "cell_type": "code",
   "execution_count": 33,
   "metadata": {},
   "outputs": [
    {
     "data": {
      "application/vnd.plotly.v1+json": {
       "config": {
        "plotlyServerURL": "https://plot.ly"
       },
       "data": [
        {
         "alignmentgroup": "True",
         "hovertemplate": "Party=%{x}<br>%=%{y}<extra></extra>",
         "legendgroup": "votes_gop",
         "marker": {
          "color": "#636efa",
          "pattern": {
           "shape": ""
          }
         },
         "name": "votes_gop",
         "offsetgroup": "votes_gop",
         "orientation": "v",
         "showlegend": true,
         "textposition": "auto",
         "type": "bar",
         "x": [
          "votes_gop"
         ],
         "xaxis": "x",
         "y": [
          46.83868582209513
         ],
         "yaxis": "y"
        },
        {
         "alignmentgroup": "True",
         "hovertemplate": "Party=%{x}<br>%=%{y}<extra></extra>",
         "legendgroup": "votes_dem",
         "marker": {
          "color": "#EF553B",
          "pattern": {
           "shape": ""
          }
         },
         "name": "votes_dem",
         "offsetgroup": "votes_dem",
         "orientation": "v",
         "showlegend": true,
         "textposition": "auto",
         "type": "bar",
         "x": [
          "votes_dem"
         ],
         "xaxis": "x",
         "y": [
          51.29279146336404
         ],
         "yaxis": "y"
        }
       ],
       "layout": {
        "barmode": "relative",
        "height": 400,
        "legend": {
         "title": {
          "text": "Party"
         },
         "tracegroupgap": 0
        },
        "template": {
         "data": {
          "bar": [
           {
            "error_x": {
             "color": "#2a3f5f"
            },
            "error_y": {
             "color": "#2a3f5f"
            },
            "marker": {
             "line": {
              "color": "#E5ECF6",
              "width": 0.5
             },
             "pattern": {
              "fillmode": "overlay",
              "size": 10,
              "solidity": 0.2
             }
            },
            "type": "bar"
           }
          ],
          "barpolar": [
           {
            "marker": {
             "line": {
              "color": "#E5ECF6",
              "width": 0.5
             },
             "pattern": {
              "fillmode": "overlay",
              "size": 10,
              "solidity": 0.2
             }
            },
            "type": "barpolar"
           }
          ],
          "carpet": [
           {
            "aaxis": {
             "endlinecolor": "#2a3f5f",
             "gridcolor": "white",
             "linecolor": "white",
             "minorgridcolor": "white",
             "startlinecolor": "#2a3f5f"
            },
            "baxis": {
             "endlinecolor": "#2a3f5f",
             "gridcolor": "white",
             "linecolor": "white",
             "minorgridcolor": "white",
             "startlinecolor": "#2a3f5f"
            },
            "type": "carpet"
           }
          ],
          "choropleth": [
           {
            "colorbar": {
             "outlinewidth": 0,
             "ticks": ""
            },
            "type": "choropleth"
           }
          ],
          "contour": [
           {
            "colorbar": {
             "outlinewidth": 0,
             "ticks": ""
            },
            "colorscale": [
             [
              0,
              "#0d0887"
             ],
             [
              0.1111111111111111,
              "#46039f"
             ],
             [
              0.2222222222222222,
              "#7201a8"
             ],
             [
              0.3333333333333333,
              "#9c179e"
             ],
             [
              0.4444444444444444,
              "#bd3786"
             ],
             [
              0.5555555555555556,
              "#d8576b"
             ],
             [
              0.6666666666666666,
              "#ed7953"
             ],
             [
              0.7777777777777778,
              "#fb9f3a"
             ],
             [
              0.8888888888888888,
              "#fdca26"
             ],
             [
              1,
              "#f0f921"
             ]
            ],
            "type": "contour"
           }
          ],
          "contourcarpet": [
           {
            "colorbar": {
             "outlinewidth": 0,
             "ticks": ""
            },
            "type": "contourcarpet"
           }
          ],
          "heatmap": [
           {
            "colorbar": {
             "outlinewidth": 0,
             "ticks": ""
            },
            "colorscale": [
             [
              0,
              "#0d0887"
             ],
             [
              0.1111111111111111,
              "#46039f"
             ],
             [
              0.2222222222222222,
              "#7201a8"
             ],
             [
              0.3333333333333333,
              "#9c179e"
             ],
             [
              0.4444444444444444,
              "#bd3786"
             ],
             [
              0.5555555555555556,
              "#d8576b"
             ],
             [
              0.6666666666666666,
              "#ed7953"
             ],
             [
              0.7777777777777778,
              "#fb9f3a"
             ],
             [
              0.8888888888888888,
              "#fdca26"
             ],
             [
              1,
              "#f0f921"
             ]
            ],
            "type": "heatmap"
           }
          ],
          "heatmapgl": [
           {
            "colorbar": {
             "outlinewidth": 0,
             "ticks": ""
            },
            "colorscale": [
             [
              0,
              "#0d0887"
             ],
             [
              0.1111111111111111,
              "#46039f"
             ],
             [
              0.2222222222222222,
              "#7201a8"
             ],
             [
              0.3333333333333333,
              "#9c179e"
             ],
             [
              0.4444444444444444,
              "#bd3786"
             ],
             [
              0.5555555555555556,
              "#d8576b"
             ],
             [
              0.6666666666666666,
              "#ed7953"
             ],
             [
              0.7777777777777778,
              "#fb9f3a"
             ],
             [
              0.8888888888888888,
              "#fdca26"
             ],
             [
              1,
              "#f0f921"
             ]
            ],
            "type": "heatmapgl"
           }
          ],
          "histogram": [
           {
            "marker": {
             "pattern": {
              "fillmode": "overlay",
              "size": 10,
              "solidity": 0.2
             }
            },
            "type": "histogram"
           }
          ],
          "histogram2d": [
           {
            "colorbar": {
             "outlinewidth": 0,
             "ticks": ""
            },
            "colorscale": [
             [
              0,
              "#0d0887"
             ],
             [
              0.1111111111111111,
              "#46039f"
             ],
             [
              0.2222222222222222,
              "#7201a8"
             ],
             [
              0.3333333333333333,
              "#9c179e"
             ],
             [
              0.4444444444444444,
              "#bd3786"
             ],
             [
              0.5555555555555556,
              "#d8576b"
             ],
             [
              0.6666666666666666,
              "#ed7953"
             ],
             [
              0.7777777777777778,
              "#fb9f3a"
             ],
             [
              0.8888888888888888,
              "#fdca26"
             ],
             [
              1,
              "#f0f921"
             ]
            ],
            "type": "histogram2d"
           }
          ],
          "histogram2dcontour": [
           {
            "colorbar": {
             "outlinewidth": 0,
             "ticks": ""
            },
            "colorscale": [
             [
              0,
              "#0d0887"
             ],
             [
              0.1111111111111111,
              "#46039f"
             ],
             [
              0.2222222222222222,
              "#7201a8"
             ],
             [
              0.3333333333333333,
              "#9c179e"
             ],
             [
              0.4444444444444444,
              "#bd3786"
             ],
             [
              0.5555555555555556,
              "#d8576b"
             ],
             [
              0.6666666666666666,
              "#ed7953"
             ],
             [
              0.7777777777777778,
              "#fb9f3a"
             ],
             [
              0.8888888888888888,
              "#fdca26"
             ],
             [
              1,
              "#f0f921"
             ]
            ],
            "type": "histogram2dcontour"
           }
          ],
          "mesh3d": [
           {
            "colorbar": {
             "outlinewidth": 0,
             "ticks": ""
            },
            "type": "mesh3d"
           }
          ],
          "parcoords": [
           {
            "line": {
             "colorbar": {
              "outlinewidth": 0,
              "ticks": ""
             }
            },
            "type": "parcoords"
           }
          ],
          "pie": [
           {
            "automargin": true,
            "type": "pie"
           }
          ],
          "scatter": [
           {
            "marker": {
             "colorbar": {
              "outlinewidth": 0,
              "ticks": ""
             }
            },
            "type": "scatter"
           }
          ],
          "scatter3d": [
           {
            "line": {
             "colorbar": {
              "outlinewidth": 0,
              "ticks": ""
             }
            },
            "marker": {
             "colorbar": {
              "outlinewidth": 0,
              "ticks": ""
             }
            },
            "type": "scatter3d"
           }
          ],
          "scattercarpet": [
           {
            "marker": {
             "colorbar": {
              "outlinewidth": 0,
              "ticks": ""
             }
            },
            "type": "scattercarpet"
           }
          ],
          "scattergeo": [
           {
            "marker": {
             "colorbar": {
              "outlinewidth": 0,
              "ticks": ""
             }
            },
            "type": "scattergeo"
           }
          ],
          "scattergl": [
           {
            "marker": {
             "colorbar": {
              "outlinewidth": 0,
              "ticks": ""
             }
            },
            "type": "scattergl"
           }
          ],
          "scattermapbox": [
           {
            "marker": {
             "colorbar": {
              "outlinewidth": 0,
              "ticks": ""
             }
            },
            "type": "scattermapbox"
           }
          ],
          "scatterpolar": [
           {
            "marker": {
             "colorbar": {
              "outlinewidth": 0,
              "ticks": ""
             }
            },
            "type": "scatterpolar"
           }
          ],
          "scatterpolargl": [
           {
            "marker": {
             "colorbar": {
              "outlinewidth": 0,
              "ticks": ""
             }
            },
            "type": "scatterpolargl"
           }
          ],
          "scatterternary": [
           {
            "marker": {
             "colorbar": {
              "outlinewidth": 0,
              "ticks": ""
             }
            },
            "type": "scatterternary"
           }
          ],
          "surface": [
           {
            "colorbar": {
             "outlinewidth": 0,
             "ticks": ""
            },
            "colorscale": [
             [
              0,
              "#0d0887"
             ],
             [
              0.1111111111111111,
              "#46039f"
             ],
             [
              0.2222222222222222,
              "#7201a8"
             ],
             [
              0.3333333333333333,
              "#9c179e"
             ],
             [
              0.4444444444444444,
              "#bd3786"
             ],
             [
              0.5555555555555556,
              "#d8576b"
             ],
             [
              0.6666666666666666,
              "#ed7953"
             ],
             [
              0.7777777777777778,
              "#fb9f3a"
             ],
             [
              0.8888888888888888,
              "#fdca26"
             ],
             [
              1,
              "#f0f921"
             ]
            ],
            "type": "surface"
           }
          ],
          "table": [
           {
            "cells": {
             "fill": {
              "color": "#EBF0F8"
             },
             "line": {
              "color": "white"
             }
            },
            "header": {
             "fill": {
              "color": "#C8D4E3"
             },
             "line": {
              "color": "white"
             }
            },
            "type": "table"
           }
          ]
         },
         "layout": {
          "annotationdefaults": {
           "arrowcolor": "#2a3f5f",
           "arrowhead": 0,
           "arrowwidth": 1
          },
          "autotypenumbers": "strict",
          "coloraxis": {
           "colorbar": {
            "outlinewidth": 0,
            "ticks": ""
           }
          },
          "colorscale": {
           "diverging": [
            [
             0,
             "#8e0152"
            ],
            [
             0.1,
             "#c51b7d"
            ],
            [
             0.2,
             "#de77ae"
            ],
            [
             0.3,
             "#f1b6da"
            ],
            [
             0.4,
             "#fde0ef"
            ],
            [
             0.5,
             "#f7f7f7"
            ],
            [
             0.6,
             "#e6f5d0"
            ],
            [
             0.7,
             "#b8e186"
            ],
            [
             0.8,
             "#7fbc41"
            ],
            [
             0.9,
             "#4d9221"
            ],
            [
             1,
             "#276419"
            ]
           ],
           "sequential": [
            [
             0,
             "#0d0887"
            ],
            [
             0.1111111111111111,
             "#46039f"
            ],
            [
             0.2222222222222222,
             "#7201a8"
            ],
            [
             0.3333333333333333,
             "#9c179e"
            ],
            [
             0.4444444444444444,
             "#bd3786"
            ],
            [
             0.5555555555555556,
             "#d8576b"
            ],
            [
             0.6666666666666666,
             "#ed7953"
            ],
            [
             0.7777777777777778,
             "#fb9f3a"
            ],
            [
             0.8888888888888888,
             "#fdca26"
            ],
            [
             1,
             "#f0f921"
            ]
           ],
           "sequentialminus": [
            [
             0,
             "#0d0887"
            ],
            [
             0.1111111111111111,
             "#46039f"
            ],
            [
             0.2222222222222222,
             "#7201a8"
            ],
            [
             0.3333333333333333,
             "#9c179e"
            ],
            [
             0.4444444444444444,
             "#bd3786"
            ],
            [
             0.5555555555555556,
             "#d8576b"
            ],
            [
             0.6666666666666666,
             "#ed7953"
            ],
            [
             0.7777777777777778,
             "#fb9f3a"
            ],
            [
             0.8888888888888888,
             "#fdca26"
            ],
            [
             1,
             "#f0f921"
            ]
           ]
          },
          "colorway": [
           "#636efa",
           "#EF553B",
           "#00cc96",
           "#ab63fa",
           "#FFA15A",
           "#19d3f3",
           "#FF6692",
           "#B6E880",
           "#FF97FF",
           "#FECB52"
          ],
          "font": {
           "color": "#2a3f5f"
          },
          "geo": {
           "bgcolor": "white",
           "lakecolor": "white",
           "landcolor": "#E5ECF6",
           "showlakes": true,
           "showland": true,
           "subunitcolor": "white"
          },
          "hoverlabel": {
           "align": "left"
          },
          "hovermode": "closest",
          "mapbox": {
           "style": "light"
          },
          "paper_bgcolor": "white",
          "plot_bgcolor": "#E5ECF6",
          "polar": {
           "angularaxis": {
            "gridcolor": "white",
            "linecolor": "white",
            "ticks": ""
           },
           "bgcolor": "#E5ECF6",
           "radialaxis": {
            "gridcolor": "white",
            "linecolor": "white",
            "ticks": ""
           }
          },
          "scene": {
           "xaxis": {
            "backgroundcolor": "#E5ECF6",
            "gridcolor": "white",
            "gridwidth": 2,
            "linecolor": "white",
            "showbackground": true,
            "ticks": "",
            "zerolinecolor": "white"
           },
           "yaxis": {
            "backgroundcolor": "#E5ECF6",
            "gridcolor": "white",
            "gridwidth": 2,
            "linecolor": "white",
            "showbackground": true,
            "ticks": "",
            "zerolinecolor": "white"
           },
           "zaxis": {
            "backgroundcolor": "#E5ECF6",
            "gridcolor": "white",
            "gridwidth": 2,
            "linecolor": "white",
            "showbackground": true,
            "ticks": "",
            "zerolinecolor": "white"
           }
          },
          "shapedefaults": {
           "line": {
            "color": "#2a3f5f"
           }
          },
          "ternary": {
           "aaxis": {
            "gridcolor": "white",
            "linecolor": "white",
            "ticks": ""
           },
           "baxis": {
            "gridcolor": "white",
            "linecolor": "white",
            "ticks": ""
           },
           "bgcolor": "#E5ECF6",
           "caxis": {
            "gridcolor": "white",
            "linecolor": "white",
            "ticks": ""
           }
          },
          "title": {
           "x": 0.05
          },
          "xaxis": {
           "automargin": true,
           "gridcolor": "white",
           "linecolor": "white",
           "ticks": "",
           "title": {
            "standoff": 15
           },
           "zerolinecolor": "white",
           "zerolinewidth": 2
          },
          "yaxis": {
           "automargin": true,
           "gridcolor": "white",
           "linecolor": "white",
           "ticks": "",
           "title": {
            "standoff": 15
           },
           "zerolinecolor": "white",
           "zerolinewidth": 2
          }
         }
        },
        "title": {
         "text": "2020 U.S. percentage votes per party"
        },
        "width": 800,
        "xaxis": {
         "anchor": "y",
         "categoryarray": [
          "votes_gop",
          "votes_dem"
         ],
         "categoryorder": "array",
         "domain": [
          0,
          1
         ],
         "title": {
          "text": "Party"
         }
        },
        "yaxis": {
         "anchor": "x",
         "domain": [
          0,
          1
         ],
         "title": {
          "text": "%"
         }
        }
       }
      },
      "text/html": [
       "<div>                            <div id=\"b38ca455-8930-4439-8995-5ea51016a0ea\" class=\"plotly-graph-div\" style=\"height:400px; width:800px;\"></div>            <script type=\"text/javascript\">                require([\"plotly\"], function(Plotly) {                    window.PLOTLYENV=window.PLOTLYENV || {};                                    if (document.getElementById(\"b38ca455-8930-4439-8995-5ea51016a0ea\")) {                    Plotly.newPlot(                        \"b38ca455-8930-4439-8995-5ea51016a0ea\",                        [{\"alignmentgroup\":\"True\",\"hovertemplate\":\"Party=%{x}<br>%=%{y}<extra></extra>\",\"legendgroup\":\"votes_gop\",\"marker\":{\"color\":\"#636efa\",\"pattern\":{\"shape\":\"\"}},\"name\":\"votes_gop\",\"offsetgroup\":\"votes_gop\",\"orientation\":\"v\",\"showlegend\":true,\"textposition\":\"auto\",\"x\":[\"votes_gop\"],\"xaxis\":\"x\",\"y\":[46.83868582209513],\"yaxis\":\"y\",\"type\":\"bar\"},{\"alignmentgroup\":\"True\",\"hovertemplate\":\"Party=%{x}<br>%=%{y}<extra></extra>\",\"legendgroup\":\"votes_dem\",\"marker\":{\"color\":\"#EF553B\",\"pattern\":{\"shape\":\"\"}},\"name\":\"votes_dem\",\"offsetgroup\":\"votes_dem\",\"orientation\":\"v\",\"showlegend\":true,\"textposition\":\"auto\",\"x\":[\"votes_dem\"],\"xaxis\":\"x\",\"y\":[51.29279146336404],\"yaxis\":\"y\",\"type\":\"bar\"}],                        {\"template\":{\"data\":{\"bar\":[{\"error_x\":{\"color\":\"#2a3f5f\"},\"error_y\":{\"color\":\"#2a3f5f\"},\"marker\":{\"line\":{\"color\":\"#E5ECF6\",\"width\":0.5},\"pattern\":{\"fillmode\":\"overlay\",\"size\":10,\"solidity\":0.2}},\"type\":\"bar\"}],\"barpolar\":[{\"marker\":{\"line\":{\"color\":\"#E5ECF6\",\"width\":0.5},\"pattern\":{\"fillmode\":\"overlay\",\"size\":10,\"solidity\":0.2}},\"type\":\"barpolar\"}],\"carpet\":[{\"aaxis\":{\"endlinecolor\":\"#2a3f5f\",\"gridcolor\":\"white\",\"linecolor\":\"white\",\"minorgridcolor\":\"white\",\"startlinecolor\":\"#2a3f5f\"},\"baxis\":{\"endlinecolor\":\"#2a3f5f\",\"gridcolor\":\"white\",\"linecolor\":\"white\",\"minorgridcolor\":\"white\",\"startlinecolor\":\"#2a3f5f\"},\"type\":\"carpet\"}],\"choropleth\":[{\"colorbar\":{\"outlinewidth\":0,\"ticks\":\"\"},\"type\":\"choropleth\"}],\"contour\":[{\"colorbar\":{\"outlinewidth\":0,\"ticks\":\"\"},\"colorscale\":[[0.0,\"#0d0887\"],[0.1111111111111111,\"#46039f\"],[0.2222222222222222,\"#7201a8\"],[0.3333333333333333,\"#9c179e\"],[0.4444444444444444,\"#bd3786\"],[0.5555555555555556,\"#d8576b\"],[0.6666666666666666,\"#ed7953\"],[0.7777777777777778,\"#fb9f3a\"],[0.8888888888888888,\"#fdca26\"],[1.0,\"#f0f921\"]],\"type\":\"contour\"}],\"contourcarpet\":[{\"colorbar\":{\"outlinewidth\":0,\"ticks\":\"\"},\"type\":\"contourcarpet\"}],\"heatmap\":[{\"colorbar\":{\"outlinewidth\":0,\"ticks\":\"\"},\"colorscale\":[[0.0,\"#0d0887\"],[0.1111111111111111,\"#46039f\"],[0.2222222222222222,\"#7201a8\"],[0.3333333333333333,\"#9c179e\"],[0.4444444444444444,\"#bd3786\"],[0.5555555555555556,\"#d8576b\"],[0.6666666666666666,\"#ed7953\"],[0.7777777777777778,\"#fb9f3a\"],[0.8888888888888888,\"#fdca26\"],[1.0,\"#f0f921\"]],\"type\":\"heatmap\"}],\"heatmapgl\":[{\"colorbar\":{\"outlinewidth\":0,\"ticks\":\"\"},\"colorscale\":[[0.0,\"#0d0887\"],[0.1111111111111111,\"#46039f\"],[0.2222222222222222,\"#7201a8\"],[0.3333333333333333,\"#9c179e\"],[0.4444444444444444,\"#bd3786\"],[0.5555555555555556,\"#d8576b\"],[0.6666666666666666,\"#ed7953\"],[0.7777777777777778,\"#fb9f3a\"],[0.8888888888888888,\"#fdca26\"],[1.0,\"#f0f921\"]],\"type\":\"heatmapgl\"}],\"histogram\":[{\"marker\":{\"pattern\":{\"fillmode\":\"overlay\",\"size\":10,\"solidity\":0.2}},\"type\":\"histogram\"}],\"histogram2d\":[{\"colorbar\":{\"outlinewidth\":0,\"ticks\":\"\"},\"colorscale\":[[0.0,\"#0d0887\"],[0.1111111111111111,\"#46039f\"],[0.2222222222222222,\"#7201a8\"],[0.3333333333333333,\"#9c179e\"],[0.4444444444444444,\"#bd3786\"],[0.5555555555555556,\"#d8576b\"],[0.6666666666666666,\"#ed7953\"],[0.7777777777777778,\"#fb9f3a\"],[0.8888888888888888,\"#fdca26\"],[1.0,\"#f0f921\"]],\"type\":\"histogram2d\"}],\"histogram2dcontour\":[{\"colorbar\":{\"outlinewidth\":0,\"ticks\":\"\"},\"colorscale\":[[0.0,\"#0d0887\"],[0.1111111111111111,\"#46039f\"],[0.2222222222222222,\"#7201a8\"],[0.3333333333333333,\"#9c179e\"],[0.4444444444444444,\"#bd3786\"],[0.5555555555555556,\"#d8576b\"],[0.6666666666666666,\"#ed7953\"],[0.7777777777777778,\"#fb9f3a\"],[0.8888888888888888,\"#fdca26\"],[1.0,\"#f0f921\"]],\"type\":\"histogram2dcontour\"}],\"mesh3d\":[{\"colorbar\":{\"outlinewidth\":0,\"ticks\":\"\"},\"type\":\"mesh3d\"}],\"parcoords\":[{\"line\":{\"colorbar\":{\"outlinewidth\":0,\"ticks\":\"\"}},\"type\":\"parcoords\"}],\"pie\":[{\"automargin\":true,\"type\":\"pie\"}],\"scatter\":[{\"marker\":{\"colorbar\":{\"outlinewidth\":0,\"ticks\":\"\"}},\"type\":\"scatter\"}],\"scatter3d\":[{\"line\":{\"colorbar\":{\"outlinewidth\":0,\"ticks\":\"\"}},\"marker\":{\"colorbar\":{\"outlinewidth\":0,\"ticks\":\"\"}},\"type\":\"scatter3d\"}],\"scattercarpet\":[{\"marker\":{\"colorbar\":{\"outlinewidth\":0,\"ticks\":\"\"}},\"type\":\"scattercarpet\"}],\"scattergeo\":[{\"marker\":{\"colorbar\":{\"outlinewidth\":0,\"ticks\":\"\"}},\"type\":\"scattergeo\"}],\"scattergl\":[{\"marker\":{\"colorbar\":{\"outlinewidth\":0,\"ticks\":\"\"}},\"type\":\"scattergl\"}],\"scattermapbox\":[{\"marker\":{\"colorbar\":{\"outlinewidth\":0,\"ticks\":\"\"}},\"type\":\"scattermapbox\"}],\"scatterpolar\":[{\"marker\":{\"colorbar\":{\"outlinewidth\":0,\"ticks\":\"\"}},\"type\":\"scatterpolar\"}],\"scatterpolargl\":[{\"marker\":{\"colorbar\":{\"outlinewidth\":0,\"ticks\":\"\"}},\"type\":\"scatterpolargl\"}],\"scatterternary\":[{\"marker\":{\"colorbar\":{\"outlinewidth\":0,\"ticks\":\"\"}},\"type\":\"scatterternary\"}],\"surface\":[{\"colorbar\":{\"outlinewidth\":0,\"ticks\":\"\"},\"colorscale\":[[0.0,\"#0d0887\"],[0.1111111111111111,\"#46039f\"],[0.2222222222222222,\"#7201a8\"],[0.3333333333333333,\"#9c179e\"],[0.4444444444444444,\"#bd3786\"],[0.5555555555555556,\"#d8576b\"],[0.6666666666666666,\"#ed7953\"],[0.7777777777777778,\"#fb9f3a\"],[0.8888888888888888,\"#fdca26\"],[1.0,\"#f0f921\"]],\"type\":\"surface\"}],\"table\":[{\"cells\":{\"fill\":{\"color\":\"#EBF0F8\"},\"line\":{\"color\":\"white\"}},\"header\":{\"fill\":{\"color\":\"#C8D4E3\"},\"line\":{\"color\":\"white\"}},\"type\":\"table\"}]},\"layout\":{\"annotationdefaults\":{\"arrowcolor\":\"#2a3f5f\",\"arrowhead\":0,\"arrowwidth\":1},\"autotypenumbers\":\"strict\",\"coloraxis\":{\"colorbar\":{\"outlinewidth\":0,\"ticks\":\"\"}},\"colorscale\":{\"diverging\":[[0,\"#8e0152\"],[0.1,\"#c51b7d\"],[0.2,\"#de77ae\"],[0.3,\"#f1b6da\"],[0.4,\"#fde0ef\"],[0.5,\"#f7f7f7\"],[0.6,\"#e6f5d0\"],[0.7,\"#b8e186\"],[0.8,\"#7fbc41\"],[0.9,\"#4d9221\"],[1,\"#276419\"]],\"sequential\":[[0.0,\"#0d0887\"],[0.1111111111111111,\"#46039f\"],[0.2222222222222222,\"#7201a8\"],[0.3333333333333333,\"#9c179e\"],[0.4444444444444444,\"#bd3786\"],[0.5555555555555556,\"#d8576b\"],[0.6666666666666666,\"#ed7953\"],[0.7777777777777778,\"#fb9f3a\"],[0.8888888888888888,\"#fdca26\"],[1.0,\"#f0f921\"]],\"sequentialminus\":[[0.0,\"#0d0887\"],[0.1111111111111111,\"#46039f\"],[0.2222222222222222,\"#7201a8\"],[0.3333333333333333,\"#9c179e\"],[0.4444444444444444,\"#bd3786\"],[0.5555555555555556,\"#d8576b\"],[0.6666666666666666,\"#ed7953\"],[0.7777777777777778,\"#fb9f3a\"],[0.8888888888888888,\"#fdca26\"],[1.0,\"#f0f921\"]]},\"colorway\":[\"#636efa\",\"#EF553B\",\"#00cc96\",\"#ab63fa\",\"#FFA15A\",\"#19d3f3\",\"#FF6692\",\"#B6E880\",\"#FF97FF\",\"#FECB52\"],\"font\":{\"color\":\"#2a3f5f\"},\"geo\":{\"bgcolor\":\"white\",\"lakecolor\":\"white\",\"landcolor\":\"#E5ECF6\",\"showlakes\":true,\"showland\":true,\"subunitcolor\":\"white\"},\"hoverlabel\":{\"align\":\"left\"},\"hovermode\":\"closest\",\"mapbox\":{\"style\":\"light\"},\"paper_bgcolor\":\"white\",\"plot_bgcolor\":\"#E5ECF6\",\"polar\":{\"angularaxis\":{\"gridcolor\":\"white\",\"linecolor\":\"white\",\"ticks\":\"\"},\"bgcolor\":\"#E5ECF6\",\"radialaxis\":{\"gridcolor\":\"white\",\"linecolor\":\"white\",\"ticks\":\"\"}},\"scene\":{\"xaxis\":{\"backgroundcolor\":\"#E5ECF6\",\"gridcolor\":\"white\",\"gridwidth\":2,\"linecolor\":\"white\",\"showbackground\":true,\"ticks\":\"\",\"zerolinecolor\":\"white\"},\"yaxis\":{\"backgroundcolor\":\"#E5ECF6\",\"gridcolor\":\"white\",\"gridwidth\":2,\"linecolor\":\"white\",\"showbackground\":true,\"ticks\":\"\",\"zerolinecolor\":\"white\"},\"zaxis\":{\"backgroundcolor\":\"#E5ECF6\",\"gridcolor\":\"white\",\"gridwidth\":2,\"linecolor\":\"white\",\"showbackground\":true,\"ticks\":\"\",\"zerolinecolor\":\"white\"}},\"shapedefaults\":{\"line\":{\"color\":\"#2a3f5f\"}},\"ternary\":{\"aaxis\":{\"gridcolor\":\"white\",\"linecolor\":\"white\",\"ticks\":\"\"},\"baxis\":{\"gridcolor\":\"white\",\"linecolor\":\"white\",\"ticks\":\"\"},\"bgcolor\":\"#E5ECF6\",\"caxis\":{\"gridcolor\":\"white\",\"linecolor\":\"white\",\"ticks\":\"\"}},\"title\":{\"x\":0.05},\"xaxis\":{\"automargin\":true,\"gridcolor\":\"white\",\"linecolor\":\"white\",\"ticks\":\"\",\"title\":{\"standoff\":15},\"zerolinecolor\":\"white\",\"zerolinewidth\":2},\"yaxis\":{\"automargin\":true,\"gridcolor\":\"white\",\"linecolor\":\"white\",\"ticks\":\"\",\"title\":{\"standoff\":15},\"zerolinecolor\":\"white\",\"zerolinewidth\":2}}},\"xaxis\":{\"anchor\":\"y\",\"domain\":[0.0,1.0],\"title\":{\"text\":\"Party\"},\"categoryorder\":\"array\",\"categoryarray\":[\"votes_gop\",\"votes_dem\"]},\"yaxis\":{\"anchor\":\"x\",\"domain\":[0.0,1.0],\"title\":{\"text\":\"%\"}},\"legend\":{\"title\":{\"text\":\"Party\"},\"tracegroupgap\":0},\"title\":{\"text\":\"2020 U.S. percentage votes per party\"},\"barmode\":\"relative\",\"height\":400,\"width\":800},                        {\"responsive\": true}                    ).then(function(){\n",
       "                            \n",
       "var gd = document.getElementById('b38ca455-8930-4439-8995-5ea51016a0ea');\n",
       "var x = new MutationObserver(function (mutations, observer) {{\n",
       "        var display = window.getComputedStyle(gd).display;\n",
       "        if (!display || display === 'none') {{\n",
       "            console.log([gd, 'removed!']);\n",
       "            Plotly.purge(gd);\n",
       "            observer.disconnect();\n",
       "        }}\n",
       "}});\n",
       "\n",
       "// Listen for the removal of the full notebook cells\n",
       "var notebookContainer = gd.closest('#notebook-container');\n",
       "if (notebookContainer) {{\n",
       "    x.observe(notebookContainer, {childList: true});\n",
       "}}\n",
       "\n",
       "// Listen for the clearing of the current output cell\n",
       "var outputEl = gd.closest('.output');\n",
       "if (outputEl) {{\n",
       "    x.observe(outputEl, {childList: true});\n",
       "}}\n",
       "\n",
       "                        })                };                });            </script>        </div>"
      ]
     },
     "metadata": {},
     "output_type": "display_data"
    }
   ],
   "source": [
    "fig = px.bar(pct_votes_party,\n",
    "             x=pct_votes_party.keys(),\n",
    "             y=pct_votes_party.values,\n",
    "             title=\"2020 U.S. percentage votes per party\", \n",
    "             labels={\"y\": \"%\",\n",
    "                     \"state_name\": \"State\",\n",
    "                     \"index\": \"Party\"},\n",
    "             color=pct_votes_party.keys(),\n",
    "             height=400,\n",
    "             width=800\n",
    "            )\n",
    "fig"
   ]
  },
  {
   "cell_type": "code",
   "execution_count": 9,
   "metadata": {},
   "outputs": [
    {
     "data": {
      "text/html": [
       "<div>\n",
       "<style scoped>\n",
       "    .dataframe tbody tr th:only-of-type {\n",
       "        vertical-align: middle;\n",
       "    }\n",
       "\n",
       "    .dataframe tbody tr th {\n",
       "        vertical-align: top;\n",
       "    }\n",
       "\n",
       "    .dataframe thead th {\n",
       "        text-align: right;\n",
       "    }\n",
       "</style>\n",
       "<table border=\"1\" class=\"dataframe\">\n",
       "  <thead>\n",
       "    <tr style=\"text-align: right;\">\n",
       "      <th></th>\n",
       "      <th>state_name</th>\n",
       "      <th>county_fips</th>\n",
       "      <th>county_name</th>\n",
       "      <th>votes_gop</th>\n",
       "      <th>votes_dem</th>\n",
       "      <th>total_votes</th>\n",
       "      <th>diff</th>\n",
       "      <th>per_gop</th>\n",
       "      <th>per_dem</th>\n",
       "      <th>per_point_diff</th>\n",
       "    </tr>\n",
       "  </thead>\n",
       "  <tbody>\n",
       "    <tr>\n",
       "      <th>327</th>\n",
       "      <td>Delaware</td>\n",
       "      <td>10001</td>\n",
       "      <td>Kent County</td>\n",
       "      <td>41009</td>\n",
       "      <td>44552</td>\n",
       "      <td>87025</td>\n",
       "      <td>-3543</td>\n",
       "      <td>0.471232</td>\n",
       "      <td>0.511945</td>\n",
       "      <td>-0.040712</td>\n",
       "    </tr>\n",
       "    <tr>\n",
       "      <th>328</th>\n",
       "      <td>Delaware</td>\n",
       "      <td>10003</td>\n",
       "      <td>New Castle County</td>\n",
       "      <td>88364</td>\n",
       "      <td>195034</td>\n",
       "      <td>287633</td>\n",
       "      <td>-106670</td>\n",
       "      <td>0.307211</td>\n",
       "      <td>0.678065</td>\n",
       "      <td>-0.370855</td>\n",
       "    </tr>\n",
       "    <tr>\n",
       "      <th>329</th>\n",
       "      <td>Delaware</td>\n",
       "      <td>10005</td>\n",
       "      <td>Sussex County</td>\n",
       "      <td>71230</td>\n",
       "      <td>56682</td>\n",
       "      <td>129352</td>\n",
       "      <td>14548</td>\n",
       "      <td>0.550668</td>\n",
       "      <td>0.438200</td>\n",
       "      <td>0.112468</td>\n",
       "    </tr>\n",
       "  </tbody>\n",
       "</table>\n",
       "</div>"
      ],
      "text/plain": [
       "    state_name  county_fips        county_name  votes_gop  votes_dem  \\\n",
       "327   Delaware        10001        Kent County      41009      44552   \n",
       "328   Delaware        10003  New Castle County      88364     195034   \n",
       "329   Delaware        10005      Sussex County      71230      56682   \n",
       "\n",
       "     total_votes    diff   per_gop   per_dem  per_point_diff  \n",
       "327        87025   -3543  0.471232  0.511945       -0.040712  \n",
       "328       287633 -106670  0.307211  0.678065       -0.370855  \n",
       "329       129352   14548  0.550668  0.438200        0.112468  "
      ]
     },
     "execution_count": 9,
     "metadata": {},
     "output_type": "execute_result"
    }
   ],
   "source": [
    "tmp[tmp[\"state_name\"]==\"Delaware\"]"
   ]
  },
  {
   "cell_type": "code",
   "execution_count": 34,
   "metadata": {},
   "outputs": [],
   "source": [
    "#df_target = tmp[[\"state_name\", \"county_fips\", \"county_name\"]]\n",
    "tmp[\"winner_democrats\"] = np.where(tmp[\"votes_gop\"] < tmp[\"votes_dem\"], 1, 0) # calculer par state"
   ]
  },
  {
   "cell_type": "code",
   "execution_count": 35,
   "metadata": {},
   "outputs": [
    {
     "data": {
      "text/html": [
       "<div>\n",
       "<style scoped>\n",
       "    .dataframe tbody tr th:only-of-type {\n",
       "        vertical-align: middle;\n",
       "    }\n",
       "\n",
       "    .dataframe tbody tr th {\n",
       "        vertical-align: top;\n",
       "    }\n",
       "\n",
       "    .dataframe thead th {\n",
       "        text-align: right;\n",
       "    }\n",
       "</style>\n",
       "<table border=\"1\" class=\"dataframe\">\n",
       "  <thead>\n",
       "    <tr style=\"text-align: right;\">\n",
       "      <th></th>\n",
       "      <th>state_name</th>\n",
       "      <th>county_fips</th>\n",
       "      <th>county_name</th>\n",
       "      <th>votes_gop</th>\n",
       "      <th>votes_dem</th>\n",
       "      <th>total_votes</th>\n",
       "      <th>diff</th>\n",
       "      <th>per_gop</th>\n",
       "      <th>per_dem</th>\n",
       "      <th>per_point_diff</th>\n",
       "      <th>winner_democrats</th>\n",
       "    </tr>\n",
       "  </thead>\n",
       "  <tbody>\n",
       "    <tr>\n",
       "      <th>0</th>\n",
       "      <td>Alabama</td>\n",
       "      <td>1001</td>\n",
       "      <td>Autauga County</td>\n",
       "      <td>19838</td>\n",
       "      <td>7503</td>\n",
       "      <td>27770</td>\n",
       "      <td>12335</td>\n",
       "      <td>0.714368</td>\n",
       "      <td>0.270184</td>\n",
       "      <td>0.444184</td>\n",
       "      <td>0</td>\n",
       "    </tr>\n",
       "    <tr>\n",
       "      <th>1</th>\n",
       "      <td>Alabama</td>\n",
       "      <td>1003</td>\n",
       "      <td>Baldwin County</td>\n",
       "      <td>83544</td>\n",
       "      <td>24578</td>\n",
       "      <td>109679</td>\n",
       "      <td>58966</td>\n",
       "      <td>0.761714</td>\n",
       "      <td>0.224090</td>\n",
       "      <td>0.537623</td>\n",
       "      <td>0</td>\n",
       "    </tr>\n",
       "    <tr>\n",
       "      <th>2</th>\n",
       "      <td>Alabama</td>\n",
       "      <td>1005</td>\n",
       "      <td>Barbour County</td>\n",
       "      <td>5622</td>\n",
       "      <td>4816</td>\n",
       "      <td>10518</td>\n",
       "      <td>806</td>\n",
       "      <td>0.534512</td>\n",
       "      <td>0.457882</td>\n",
       "      <td>0.076631</td>\n",
       "      <td>0</td>\n",
       "    </tr>\n",
       "    <tr>\n",
       "      <th>3</th>\n",
       "      <td>Alabama</td>\n",
       "      <td>1007</td>\n",
       "      <td>Bibb County</td>\n",
       "      <td>7525</td>\n",
       "      <td>1986</td>\n",
       "      <td>9595</td>\n",
       "      <td>5539</td>\n",
       "      <td>0.784263</td>\n",
       "      <td>0.206983</td>\n",
       "      <td>0.577280</td>\n",
       "      <td>0</td>\n",
       "    </tr>\n",
       "    <tr>\n",
       "      <th>4</th>\n",
       "      <td>Alabama</td>\n",
       "      <td>1009</td>\n",
       "      <td>Blount County</td>\n",
       "      <td>24711</td>\n",
       "      <td>2640</td>\n",
       "      <td>27588</td>\n",
       "      <td>22071</td>\n",
       "      <td>0.895716</td>\n",
       "      <td>0.095694</td>\n",
       "      <td>0.800022</td>\n",
       "      <td>0</td>\n",
       "    </tr>\n",
       "  </tbody>\n",
       "</table>\n",
       "</div>"
      ],
      "text/plain": [
       "  state_name  county_fips     county_name  votes_gop  votes_dem  total_votes  \\\n",
       "0    Alabama         1001  Autauga County      19838       7503        27770   \n",
       "1    Alabama         1003  Baldwin County      83544      24578       109679   \n",
       "2    Alabama         1005  Barbour County       5622       4816        10518   \n",
       "3    Alabama         1007     Bibb County       7525       1986         9595   \n",
       "4    Alabama         1009   Blount County      24711       2640        27588   \n",
       "\n",
       "    diff   per_gop   per_dem  per_point_diff  winner_democrats  \n",
       "0  12335  0.714368  0.270184        0.444184                 0  \n",
       "1  58966  0.761714  0.224090        0.537623                 0  \n",
       "2    806  0.534512  0.457882        0.076631                 0  \n",
       "3   5539  0.784263  0.206983        0.577280                 0  \n",
       "4  22071  0.895716  0.095694        0.800022                 0  "
      ]
     },
     "execution_count": 35,
     "metadata": {},
     "output_type": "execute_result"
    }
   ],
   "source": [
    "tmp.head()"
   ]
  },
  {
   "cell_type": "code",
   "execution_count": 73,
   "metadata": {},
   "outputs": [
    {
     "data": {
      "text/html": [
       "<div>\n",
       "<style scoped>\n",
       "    .dataframe tbody tr th:only-of-type {\n",
       "        vertical-align: middle;\n",
       "    }\n",
       "\n",
       "    .dataframe tbody tr th {\n",
       "        vertical-align: top;\n",
       "    }\n",
       "\n",
       "    .dataframe thead th {\n",
       "        text-align: right;\n",
       "    }\n",
       "</style>\n",
       "<table border=\"1\" class=\"dataframe\">\n",
       "  <thead>\n",
       "    <tr style=\"text-align: right;\">\n",
       "      <th></th>\n",
       "      <th>state_name</th>\n",
       "      <th>county_fips</th>\n",
       "      <th>county_name</th>\n",
       "      <th>target</th>\n",
       "    </tr>\n",
       "  </thead>\n",
       "  <tbody>\n",
       "    <tr>\n",
       "      <th>0</th>\n",
       "      <td>Alabama</td>\n",
       "      <td>1001</td>\n",
       "      <td>Autauga County</td>\n",
       "      <td>1</td>\n",
       "    </tr>\n",
       "    <tr>\n",
       "      <th>1</th>\n",
       "      <td>Alabama</td>\n",
       "      <td>1003</td>\n",
       "      <td>Baldwin County</td>\n",
       "      <td>1</td>\n",
       "    </tr>\n",
       "    <tr>\n",
       "      <th>2</th>\n",
       "      <td>Alabama</td>\n",
       "      <td>1005</td>\n",
       "      <td>Barbour County</td>\n",
       "      <td>1</td>\n",
       "    </tr>\n",
       "    <tr>\n",
       "      <th>3</th>\n",
       "      <td>Alabama</td>\n",
       "      <td>1007</td>\n",
       "      <td>Bibb County</td>\n",
       "      <td>1</td>\n",
       "    </tr>\n",
       "    <tr>\n",
       "      <th>4</th>\n",
       "      <td>Alabama</td>\n",
       "      <td>1009</td>\n",
       "      <td>Blount County</td>\n",
       "      <td>1</td>\n",
       "    </tr>\n",
       "  </tbody>\n",
       "</table>\n",
       "</div>"
      ],
      "text/plain": [
       "  state_name  county_fips     county_name  target\n",
       "0    Alabama         1001  Autauga County       1\n",
       "1    Alabama         1003  Baldwin County       1\n",
       "2    Alabama         1005  Barbour County       1\n",
       "3    Alabama         1007     Bibb County       1\n",
       "4    Alabama         1009   Blount County       1"
      ]
     },
     "execution_count": 73,
     "metadata": {},
     "output_type": "execute_result"
    }
   ],
   "source": [
    "df_target.head()"
   ]
  },
  {
   "cell_type": "code",
   "execution_count": 91,
   "metadata": {},
   "outputs": [
    {
     "data": {
      "text/html": [
       "<div>\n",
       "<style scoped>\n",
       "    .dataframe tbody tr th:only-of-type {\n",
       "        vertical-align: middle;\n",
       "    }\n",
       "\n",
       "    .dataframe tbody tr th {\n",
       "        vertical-align: top;\n",
       "    }\n",
       "\n",
       "    .dataframe thead th {\n",
       "        text-align: right;\n",
       "    }\n",
       "</style>\n",
       "<table border=\"1\" class=\"dataframe\">\n",
       "  <thead>\n",
       "    <tr style=\"text-align: right;\">\n",
       "      <th></th>\n",
       "      <th>state_name</th>\n",
       "      <th>county_fips</th>\n",
       "      <th>county_name</th>\n",
       "      <th>votes_gop</th>\n",
       "      <th>votes_dem</th>\n",
       "      <th>total_votes</th>\n",
       "      <th>diff</th>\n",
       "      <th>per_gop</th>\n",
       "      <th>per_dem</th>\n",
       "      <th>per_point_diff</th>\n",
       "    </tr>\n",
       "  </thead>\n",
       "  <tbody>\n",
       "  </tbody>\n",
       "</table>\n",
       "</div>"
      ],
      "text/plain": [
       "Empty DataFrame\n",
       "Columns: [state_name, county_fips, county_name, votes_gop, votes_dem, total_votes, diff, per_gop, per_dem, per_point_diff]\n",
       "Index: []"
      ]
     },
     "execution_count": 91,
     "metadata": {},
     "output_type": "execute_result"
    }
   ],
   "source": [
    "tmp.head()\n",
    "tmp[tmp.duplicated(subset=[\"state_name\", \"county_fips\", \"county_name\"], keep=False)]"
   ]
  },
  {
   "cell_type": "code",
   "execution_count": null,
   "metadata": {},
   "outputs": [],
   "source": []
  },
  {
   "cell_type": "markdown",
   "metadata": {},
   "source": [
    "### Votes per state"
   ]
  },
  {
   "cell_type": "code",
   "execution_count": 92,
   "metadata": {},
   "outputs": [
    {
     "data": {
      "text/html": [
       "<div>\n",
       "<style scoped>\n",
       "    .dataframe tbody tr th:only-of-type {\n",
       "        vertical-align: middle;\n",
       "    }\n",
       "\n",
       "    .dataframe tbody tr th {\n",
       "        vertical-align: top;\n",
       "    }\n",
       "\n",
       "    .dataframe thead th {\n",
       "        text-align: right;\n",
       "    }\n",
       "</style>\n",
       "<table border=\"1\" class=\"dataframe\">\n",
       "  <thead>\n",
       "    <tr style=\"text-align: right;\">\n",
       "      <th></th>\n",
       "      <th>state_name</th>\n",
       "      <th>votes_gop</th>\n",
       "      <th>votes_dem</th>\n",
       "      <th>total_votes_state</th>\n",
       "      <th>Republican</th>\n",
       "      <th>Democratic</th>\n",
       "    </tr>\n",
       "  </thead>\n",
       "  <tbody>\n",
       "    <tr>\n",
       "      <th>8</th>\n",
       "      <td>District of Columbia</td>\n",
       "      <td>18586</td>\n",
       "      <td>317323</td>\n",
       "      <td>335909</td>\n",
       "      <td>5.533046</td>\n",
       "      <td>94.466954</td>\n",
       "    </tr>\n",
       "    <tr>\n",
       "      <th>45</th>\n",
       "      <td>Vermont</td>\n",
       "      <td>112704</td>\n",
       "      <td>242820</td>\n",
       "      <td>355524</td>\n",
       "      <td>31.700813</td>\n",
       "      <td>68.299187</td>\n",
       "    </tr>\n",
       "    <tr>\n",
       "      <th>21</th>\n",
       "      <td>Massachusetts</td>\n",
       "      <td>1167202</td>\n",
       "      <td>2382202</td>\n",
       "      <td>3549404</td>\n",
       "      <td>32.884450</td>\n",
       "      <td>67.115550</td>\n",
       "    </tr>\n",
       "    <tr>\n",
       "      <th>20</th>\n",
       "      <td>Maryland</td>\n",
       "      <td>976414</td>\n",
       "      <td>1985023</td>\n",
       "      <td>2961437</td>\n",
       "      <td>32.970953</td>\n",
       "      <td>67.029047</td>\n",
       "    </tr>\n",
       "    <tr>\n",
       "      <th>11</th>\n",
       "      <td>Hawaii</td>\n",
       "      <td>196864</td>\n",
       "      <td>366130</td>\n",
       "      <td>562994</td>\n",
       "      <td>34.967335</td>\n",
       "      <td>65.032665</td>\n",
       "    </tr>\n",
       "  </tbody>\n",
       "</table>\n",
       "</div>"
      ],
      "text/plain": [
       "              state_name  votes_gop  votes_dem  total_votes_state  Republican  \\\n",
       "8   District of Columbia      18586     317323             335909    5.533046   \n",
       "45               Vermont     112704     242820             355524   31.700813   \n",
       "21         Massachusetts    1167202    2382202            3549404   32.884450   \n",
       "20              Maryland     976414    1985023            2961437   32.970953   \n",
       "11                Hawaii     196864     366130             562994   34.967335   \n",
       "\n",
       "    Democratic  \n",
       "8    94.466954  \n",
       "45   68.299187  \n",
       "21   67.115550  \n",
       "20   67.029047  \n",
       "11   65.032665  "
      ]
     },
     "metadata": {},
     "output_type": "display_data"
    },
    {
     "data": {
      "application/vnd.plotly.v1+json": {
       "config": {
        "plotlyServerURL": "https://plot.ly"
       },
       "data": [
        {
         "alignmentgroup": "True",
         "hovertemplate": "Party=Democratic<br>State=%{x}<br>%=%{y}<extra></extra>",
         "legendgroup": "Democratic",
         "marker": {
          "color": "#636efa",
          "pattern": {
           "shape": ""
          }
         },
         "name": "Democratic",
         "offsetgroup": "Democratic",
         "orientation": "v",
         "showlegend": true,
         "textposition": "auto",
         "type": "bar",
         "x": [
          "District of Columbia",
          "Vermont",
          "Massachusetts",
          "Maryland",
          "Hawaii",
          "California",
          "New York",
          "Rhode Island",
          "Connecticut",
          "Washington",
          "Delaware",
          "Illinois",
          "Oregon",
          "New Jersey",
          "Colorado",
          "New Mexico",
          "Virginia",
          "Maine",
          "New Hampshire",
          "Minnesota",
          "Michigan",
          "Nevada",
          "Pennsylvania",
          "Wisconsin",
          "Arizona",
          "Georgia",
          "North Carolina",
          "Florida",
          "Texas",
          "Ohio",
          "Iowa",
          "Alaska",
          "South Carolina",
          "Kansas",
          "Missouri",
          "Indiana",
          "Mississippi",
          "Montana",
          "Louisiana",
          "Nebraska",
          "Utah",
          "Tennessee",
          "Alabama",
          "Kentucky",
          "South Dakota",
          "Arkansas",
          "Idaho",
          "Oklahoma",
          "North Dakota",
          "West Virginia",
          "Wyoming"
         ],
         "xaxis": "x",
         "y": [
          94.46695384761945,
          68.29918655280656,
          67.11554954014815,
          67.02904704709235,
          65.03266464651489,
          64.9096897735854,
          61.73605254198259,
          60.5101897649823,
          60.17246380927086,
          59.92550318479069,
          59.62674416498447,
          58.65904373280692,
          58.307156985441736,
          58.07128358679484,
          56.93831949230015,
          55.51849015171974,
          55.15468699939991,
          54.46460653970535,
          53.74834772159504,
          53.63951364856667,
          51.41355934440946,
          51.22311734004381,
          50.59708817513884,
          50.317952268896775,
          50.15683167912932,
          50.11932966290865,
          49.31581746681327,
          48.30524533785844,
          47.16927876322047,
          45.92330235229728,
          45.816736915362945,
          44.68579684646239,
          44.073391250417906,
          42.42725945097432,
          42.16417935559855,
          41.80181519856194,
          41.61501417261114,
          41.6028199079519,
          40.535559543708956,
          40.215947753398275,
          39.30639487814837,
          38.17222962793365,
          37.089316645247806,
          36.79989709973703,
          36.5652201383185,
          35.78756672201685,
          34.12289764236351,
          33.05996050309349,
          32.782591577103375,
          30.201467686077976,
          27.519565624414895
         ],
         "yaxis": "y"
        },
        {
         "alignmentgroup": "True",
         "hovertemplate": "Party=Republican<br>State=%{x}<br>%=%{y}<extra></extra>",
         "legendgroup": "Republican",
         "marker": {
          "color": "#EF553B",
          "pattern": {
           "shape": ""
          }
         },
         "name": "Republican",
         "offsetgroup": "Republican",
         "orientation": "v",
         "showlegend": true,
         "textposition": "auto",
         "type": "bar",
         "x": [
          "District of Columbia",
          "Vermont",
          "Massachusetts",
          "Maryland",
          "Hawaii",
          "California",
          "New York",
          "Rhode Island",
          "Connecticut",
          "Washington",
          "Delaware",
          "Illinois",
          "Oregon",
          "New Jersey",
          "Colorado",
          "New Mexico",
          "Virginia",
          "Maine",
          "New Hampshire",
          "Minnesota",
          "Michigan",
          "Nevada",
          "Pennsylvania",
          "Wisconsin",
          "Arizona",
          "Georgia",
          "North Carolina",
          "Florida",
          "Texas",
          "Ohio",
          "Iowa",
          "Alaska",
          "South Carolina",
          "Kansas",
          "Missouri",
          "Indiana",
          "Mississippi",
          "Montana",
          "Louisiana",
          "Nebraska",
          "Utah",
          "Tennessee",
          "Alabama",
          "Kentucky",
          "South Dakota",
          "Arkansas",
          "Idaho",
          "Oklahoma",
          "North Dakota",
          "West Virginia",
          "Wyoming"
         ],
         "xaxis": "x",
         "y": [
          5.533046152380555,
          31.700813447193436,
          32.88445045985185,
          32.97095295290766,
          34.96733535348512,
          35.0903102264146,
          38.26394745801741,
          39.4898102350177,
          39.82753619072914,
          40.07449681520931,
          40.37325583501553,
          41.34095626719308,
          41.692843014558264,
          41.92871641320516,
          43.06168050769985,
          44.48150984828026,
          44.84531300060009,
          45.53539346029465,
          46.25165227840496,
          46.36048635143333,
          48.58644065559054,
          48.77688265995619,
          49.40291182486116,
          49.682047731103225,
          49.84316832087068,
          49.88067033709135,
          50.68418253318673,
          51.69475466214156,
          52.83072123677953,
          54.07669764770272,
          54.183263084637055,
          55.31420315353761,
          55.926608749582094,
          57.57274054902568,
          57.83582064440145,
          58.19818480143806,
          58.38498582738886,
          58.3971800920481,
          59.464440456291044,
          59.784052246601725,
          60.69360512185163,
          61.82777037206635,
          62.910683354752194,
          63.20010290026297,
          63.4347798616815,
          64.21243327798315,
          65.87710235763649,
          66.94003949690651,
          67.21740842289663,
          69.79853231392202,
          72.4804343755851
         ],
         "yaxis": "y"
        }
       ],
       "layout": {
        "annotations": [
         {
          "showarrow": false,
          "text": "50%",
          "x": 1,
          "xanchor": "right",
          "xref": "x domain",
          "y": 50,
          "yanchor": "top",
          "yref": "y"
         }
        ],
        "barmode": "relative",
        "legend": {
         "title": {
          "text": "Party"
         },
         "tracegroupgap": 0
        },
        "shapes": [
         {
          "line": {
           "color": "green",
           "dash": "dash",
           "width": 3
          },
          "type": "line",
          "x0": 0,
          "x1": 1,
          "xref": "x domain",
          "y0": 50,
          "y1": 50,
          "yref": "y"
         }
        ],
        "template": {
         "data": {
          "bar": [
           {
            "error_x": {
             "color": "#2a3f5f"
            },
            "error_y": {
             "color": "#2a3f5f"
            },
            "marker": {
             "line": {
              "color": "#E5ECF6",
              "width": 0.5
             },
             "pattern": {
              "fillmode": "overlay",
              "size": 10,
              "solidity": 0.2
             }
            },
            "type": "bar"
           }
          ],
          "barpolar": [
           {
            "marker": {
             "line": {
              "color": "#E5ECF6",
              "width": 0.5
             },
             "pattern": {
              "fillmode": "overlay",
              "size": 10,
              "solidity": 0.2
             }
            },
            "type": "barpolar"
           }
          ],
          "carpet": [
           {
            "aaxis": {
             "endlinecolor": "#2a3f5f",
             "gridcolor": "white",
             "linecolor": "white",
             "minorgridcolor": "white",
             "startlinecolor": "#2a3f5f"
            },
            "baxis": {
             "endlinecolor": "#2a3f5f",
             "gridcolor": "white",
             "linecolor": "white",
             "minorgridcolor": "white",
             "startlinecolor": "#2a3f5f"
            },
            "type": "carpet"
           }
          ],
          "choropleth": [
           {
            "colorbar": {
             "outlinewidth": 0,
             "ticks": ""
            },
            "type": "choropleth"
           }
          ],
          "contour": [
           {
            "colorbar": {
             "outlinewidth": 0,
             "ticks": ""
            },
            "colorscale": [
             [
              0,
              "#0d0887"
             ],
             [
              0.1111111111111111,
              "#46039f"
             ],
             [
              0.2222222222222222,
              "#7201a8"
             ],
             [
              0.3333333333333333,
              "#9c179e"
             ],
             [
              0.4444444444444444,
              "#bd3786"
             ],
             [
              0.5555555555555556,
              "#d8576b"
             ],
             [
              0.6666666666666666,
              "#ed7953"
             ],
             [
              0.7777777777777778,
              "#fb9f3a"
             ],
             [
              0.8888888888888888,
              "#fdca26"
             ],
             [
              1,
              "#f0f921"
             ]
            ],
            "type": "contour"
           }
          ],
          "contourcarpet": [
           {
            "colorbar": {
             "outlinewidth": 0,
             "ticks": ""
            },
            "type": "contourcarpet"
           }
          ],
          "heatmap": [
           {
            "colorbar": {
             "outlinewidth": 0,
             "ticks": ""
            },
            "colorscale": [
             [
              0,
              "#0d0887"
             ],
             [
              0.1111111111111111,
              "#46039f"
             ],
             [
              0.2222222222222222,
              "#7201a8"
             ],
             [
              0.3333333333333333,
              "#9c179e"
             ],
             [
              0.4444444444444444,
              "#bd3786"
             ],
             [
              0.5555555555555556,
              "#d8576b"
             ],
             [
              0.6666666666666666,
              "#ed7953"
             ],
             [
              0.7777777777777778,
              "#fb9f3a"
             ],
             [
              0.8888888888888888,
              "#fdca26"
             ],
             [
              1,
              "#f0f921"
             ]
            ],
            "type": "heatmap"
           }
          ],
          "heatmapgl": [
           {
            "colorbar": {
             "outlinewidth": 0,
             "ticks": ""
            },
            "colorscale": [
             [
              0,
              "#0d0887"
             ],
             [
              0.1111111111111111,
              "#46039f"
             ],
             [
              0.2222222222222222,
              "#7201a8"
             ],
             [
              0.3333333333333333,
              "#9c179e"
             ],
             [
              0.4444444444444444,
              "#bd3786"
             ],
             [
              0.5555555555555556,
              "#d8576b"
             ],
             [
              0.6666666666666666,
              "#ed7953"
             ],
             [
              0.7777777777777778,
              "#fb9f3a"
             ],
             [
              0.8888888888888888,
              "#fdca26"
             ],
             [
              1,
              "#f0f921"
             ]
            ],
            "type": "heatmapgl"
           }
          ],
          "histogram": [
           {
            "marker": {
             "pattern": {
              "fillmode": "overlay",
              "size": 10,
              "solidity": 0.2
             }
            },
            "type": "histogram"
           }
          ],
          "histogram2d": [
           {
            "colorbar": {
             "outlinewidth": 0,
             "ticks": ""
            },
            "colorscale": [
             [
              0,
              "#0d0887"
             ],
             [
              0.1111111111111111,
              "#46039f"
             ],
             [
              0.2222222222222222,
              "#7201a8"
             ],
             [
              0.3333333333333333,
              "#9c179e"
             ],
             [
              0.4444444444444444,
              "#bd3786"
             ],
             [
              0.5555555555555556,
              "#d8576b"
             ],
             [
              0.6666666666666666,
              "#ed7953"
             ],
             [
              0.7777777777777778,
              "#fb9f3a"
             ],
             [
              0.8888888888888888,
              "#fdca26"
             ],
             [
              1,
              "#f0f921"
             ]
            ],
            "type": "histogram2d"
           }
          ],
          "histogram2dcontour": [
           {
            "colorbar": {
             "outlinewidth": 0,
             "ticks": ""
            },
            "colorscale": [
             [
              0,
              "#0d0887"
             ],
             [
              0.1111111111111111,
              "#46039f"
             ],
             [
              0.2222222222222222,
              "#7201a8"
             ],
             [
              0.3333333333333333,
              "#9c179e"
             ],
             [
              0.4444444444444444,
              "#bd3786"
             ],
             [
              0.5555555555555556,
              "#d8576b"
             ],
             [
              0.6666666666666666,
              "#ed7953"
             ],
             [
              0.7777777777777778,
              "#fb9f3a"
             ],
             [
              0.8888888888888888,
              "#fdca26"
             ],
             [
              1,
              "#f0f921"
             ]
            ],
            "type": "histogram2dcontour"
           }
          ],
          "mesh3d": [
           {
            "colorbar": {
             "outlinewidth": 0,
             "ticks": ""
            },
            "type": "mesh3d"
           }
          ],
          "parcoords": [
           {
            "line": {
             "colorbar": {
              "outlinewidth": 0,
              "ticks": ""
             }
            },
            "type": "parcoords"
           }
          ],
          "pie": [
           {
            "automargin": true,
            "type": "pie"
           }
          ],
          "scatter": [
           {
            "marker": {
             "colorbar": {
              "outlinewidth": 0,
              "ticks": ""
             }
            },
            "type": "scatter"
           }
          ],
          "scatter3d": [
           {
            "line": {
             "colorbar": {
              "outlinewidth": 0,
              "ticks": ""
             }
            },
            "marker": {
             "colorbar": {
              "outlinewidth": 0,
              "ticks": ""
             }
            },
            "type": "scatter3d"
           }
          ],
          "scattercarpet": [
           {
            "marker": {
             "colorbar": {
              "outlinewidth": 0,
              "ticks": ""
             }
            },
            "type": "scattercarpet"
           }
          ],
          "scattergeo": [
           {
            "marker": {
             "colorbar": {
              "outlinewidth": 0,
              "ticks": ""
             }
            },
            "type": "scattergeo"
           }
          ],
          "scattergl": [
           {
            "marker": {
             "colorbar": {
              "outlinewidth": 0,
              "ticks": ""
             }
            },
            "type": "scattergl"
           }
          ],
          "scattermapbox": [
           {
            "marker": {
             "colorbar": {
              "outlinewidth": 0,
              "ticks": ""
             }
            },
            "type": "scattermapbox"
           }
          ],
          "scatterpolar": [
           {
            "marker": {
             "colorbar": {
              "outlinewidth": 0,
              "ticks": ""
             }
            },
            "type": "scatterpolar"
           }
          ],
          "scatterpolargl": [
           {
            "marker": {
             "colorbar": {
              "outlinewidth": 0,
              "ticks": ""
             }
            },
            "type": "scatterpolargl"
           }
          ],
          "scatterternary": [
           {
            "marker": {
             "colorbar": {
              "outlinewidth": 0,
              "ticks": ""
             }
            },
            "type": "scatterternary"
           }
          ],
          "surface": [
           {
            "colorbar": {
             "outlinewidth": 0,
             "ticks": ""
            },
            "colorscale": [
             [
              0,
              "#0d0887"
             ],
             [
              0.1111111111111111,
              "#46039f"
             ],
             [
              0.2222222222222222,
              "#7201a8"
             ],
             [
              0.3333333333333333,
              "#9c179e"
             ],
             [
              0.4444444444444444,
              "#bd3786"
             ],
             [
              0.5555555555555556,
              "#d8576b"
             ],
             [
              0.6666666666666666,
              "#ed7953"
             ],
             [
              0.7777777777777778,
              "#fb9f3a"
             ],
             [
              0.8888888888888888,
              "#fdca26"
             ],
             [
              1,
              "#f0f921"
             ]
            ],
            "type": "surface"
           }
          ],
          "table": [
           {
            "cells": {
             "fill": {
              "color": "#EBF0F8"
             },
             "line": {
              "color": "white"
             }
            },
            "header": {
             "fill": {
              "color": "#C8D4E3"
             },
             "line": {
              "color": "white"
             }
            },
            "type": "table"
           }
          ]
         },
         "layout": {
          "annotationdefaults": {
           "arrowcolor": "#2a3f5f",
           "arrowhead": 0,
           "arrowwidth": 1
          },
          "autotypenumbers": "strict",
          "coloraxis": {
           "colorbar": {
            "outlinewidth": 0,
            "ticks": ""
           }
          },
          "colorscale": {
           "diverging": [
            [
             0,
             "#8e0152"
            ],
            [
             0.1,
             "#c51b7d"
            ],
            [
             0.2,
             "#de77ae"
            ],
            [
             0.3,
             "#f1b6da"
            ],
            [
             0.4,
             "#fde0ef"
            ],
            [
             0.5,
             "#f7f7f7"
            ],
            [
             0.6,
             "#e6f5d0"
            ],
            [
             0.7,
             "#b8e186"
            ],
            [
             0.8,
             "#7fbc41"
            ],
            [
             0.9,
             "#4d9221"
            ],
            [
             1,
             "#276419"
            ]
           ],
           "sequential": [
            [
             0,
             "#0d0887"
            ],
            [
             0.1111111111111111,
             "#46039f"
            ],
            [
             0.2222222222222222,
             "#7201a8"
            ],
            [
             0.3333333333333333,
             "#9c179e"
            ],
            [
             0.4444444444444444,
             "#bd3786"
            ],
            [
             0.5555555555555556,
             "#d8576b"
            ],
            [
             0.6666666666666666,
             "#ed7953"
            ],
            [
             0.7777777777777778,
             "#fb9f3a"
            ],
            [
             0.8888888888888888,
             "#fdca26"
            ],
            [
             1,
             "#f0f921"
            ]
           ],
           "sequentialminus": [
            [
             0,
             "#0d0887"
            ],
            [
             0.1111111111111111,
             "#46039f"
            ],
            [
             0.2222222222222222,
             "#7201a8"
            ],
            [
             0.3333333333333333,
             "#9c179e"
            ],
            [
             0.4444444444444444,
             "#bd3786"
            ],
            [
             0.5555555555555556,
             "#d8576b"
            ],
            [
             0.6666666666666666,
             "#ed7953"
            ],
            [
             0.7777777777777778,
             "#fb9f3a"
            ],
            [
             0.8888888888888888,
             "#fdca26"
            ],
            [
             1,
             "#f0f921"
            ]
           ]
          },
          "colorway": [
           "#636efa",
           "#EF553B",
           "#00cc96",
           "#ab63fa",
           "#FFA15A",
           "#19d3f3",
           "#FF6692",
           "#B6E880",
           "#FF97FF",
           "#FECB52"
          ],
          "font": {
           "color": "#2a3f5f"
          },
          "geo": {
           "bgcolor": "white",
           "lakecolor": "white",
           "landcolor": "#E5ECF6",
           "showlakes": true,
           "showland": true,
           "subunitcolor": "white"
          },
          "hoverlabel": {
           "align": "left"
          },
          "hovermode": "closest",
          "mapbox": {
           "style": "light"
          },
          "paper_bgcolor": "white",
          "plot_bgcolor": "#E5ECF6",
          "polar": {
           "angularaxis": {
            "gridcolor": "white",
            "linecolor": "white",
            "ticks": ""
           },
           "bgcolor": "#E5ECF6",
           "radialaxis": {
            "gridcolor": "white",
            "linecolor": "white",
            "ticks": ""
           }
          },
          "scene": {
           "xaxis": {
            "backgroundcolor": "#E5ECF6",
            "gridcolor": "white",
            "gridwidth": 2,
            "linecolor": "white",
            "showbackground": true,
            "ticks": "",
            "zerolinecolor": "white"
           },
           "yaxis": {
            "backgroundcolor": "#E5ECF6",
            "gridcolor": "white",
            "gridwidth": 2,
            "linecolor": "white",
            "showbackground": true,
            "ticks": "",
            "zerolinecolor": "white"
           },
           "zaxis": {
            "backgroundcolor": "#E5ECF6",
            "gridcolor": "white",
            "gridwidth": 2,
            "linecolor": "white",
            "showbackground": true,
            "ticks": "",
            "zerolinecolor": "white"
           }
          },
          "shapedefaults": {
           "line": {
            "color": "#2a3f5f"
           }
          },
          "ternary": {
           "aaxis": {
            "gridcolor": "white",
            "linecolor": "white",
            "ticks": ""
           },
           "baxis": {
            "gridcolor": "white",
            "linecolor": "white",
            "ticks": ""
           },
           "bgcolor": "#E5ECF6",
           "caxis": {
            "gridcolor": "white",
            "linecolor": "white",
            "ticks": ""
           }
          },
          "title": {
           "x": 0.05
          },
          "xaxis": {
           "automargin": true,
           "gridcolor": "white",
           "linecolor": "white",
           "ticks": "",
           "title": {
            "standoff": 15
           },
           "zerolinecolor": "white",
           "zerolinewidth": 2
          },
          "yaxis": {
           "automargin": true,
           "gridcolor": "white",
           "linecolor": "white",
           "ticks": "",
           "title": {
            "standoff": 15
           },
           "zerolinecolor": "white",
           "zerolinewidth": 2
          }
         }
        },
        "title": {
         "text": "U.S. 2020 presidential elections per state"
        },
        "xaxis": {
         "anchor": "y",
         "domain": [
          0,
          1
         ],
         "title": {
          "text": "State"
         }
        },
        "yaxis": {
         "anchor": "x",
         "domain": [
          0,
          1
         ],
         "title": {
          "text": "%"
         }
        }
       }
      },
      "text/html": [
       "<div>                            <div id=\"61323f5d-3fc5-4f95-bb52-95ad363fe74d\" class=\"plotly-graph-div\" style=\"height:525px; width:100%;\"></div>            <script type=\"text/javascript\">                require([\"plotly\"], function(Plotly) {                    window.PLOTLYENV=window.PLOTLYENV || {};                                    if (document.getElementById(\"61323f5d-3fc5-4f95-bb52-95ad363fe74d\")) {                    Plotly.newPlot(                        \"61323f5d-3fc5-4f95-bb52-95ad363fe74d\",                        [{\"alignmentgroup\":\"True\",\"hovertemplate\":\"Party=Democratic<br>State=%{x}<br>%=%{y}<extra></extra>\",\"legendgroup\":\"Democratic\",\"marker\":{\"color\":\"#636efa\",\"pattern\":{\"shape\":\"\"}},\"name\":\"Democratic\",\"offsetgroup\":\"Democratic\",\"orientation\":\"v\",\"showlegend\":true,\"textposition\":\"auto\",\"x\":[\"District of Columbia\",\"Vermont\",\"Massachusetts\",\"Maryland\",\"Hawaii\",\"California\",\"New York\",\"Rhode Island\",\"Connecticut\",\"Washington\",\"Delaware\",\"Illinois\",\"Oregon\",\"New Jersey\",\"Colorado\",\"New Mexico\",\"Virginia\",\"Maine\",\"New Hampshire\",\"Minnesota\",\"Michigan\",\"Nevada\",\"Pennsylvania\",\"Wisconsin\",\"Arizona\",\"Georgia\",\"North Carolina\",\"Florida\",\"Texas\",\"Ohio\",\"Iowa\",\"Alaska\",\"South Carolina\",\"Kansas\",\"Missouri\",\"Indiana\",\"Mississippi\",\"Montana\",\"Louisiana\",\"Nebraska\",\"Utah\",\"Tennessee\",\"Alabama\",\"Kentucky\",\"South Dakota\",\"Arkansas\",\"Idaho\",\"Oklahoma\",\"North Dakota\",\"West Virginia\",\"Wyoming\"],\"xaxis\":\"x\",\"y\":[94.46695384761945,68.29918655280656,67.11554954014815,67.02904704709235,65.03266464651489,64.9096897735854,61.73605254198259,60.5101897649823,60.17246380927086,59.92550318479069,59.62674416498447,58.65904373280692,58.307156985441736,58.07128358679484,56.93831949230015,55.51849015171974,55.15468699939991,54.46460653970535,53.74834772159504,53.63951364856667,51.41355934440946,51.22311734004381,50.59708817513884,50.317952268896775,50.15683167912932,50.11932966290865,49.31581746681327,48.30524533785844,47.16927876322047,45.92330235229728,45.816736915362945,44.68579684646239,44.073391250417906,42.42725945097432,42.16417935559855,41.80181519856194,41.61501417261114,41.6028199079519,40.535559543708956,40.215947753398275,39.30639487814837,38.17222962793365,37.089316645247806,36.79989709973703,36.5652201383185,35.78756672201685,34.12289764236351,33.05996050309349,32.782591577103375,30.201467686077976,27.519565624414895],\"yaxis\":\"y\",\"type\":\"bar\"},{\"alignmentgroup\":\"True\",\"hovertemplate\":\"Party=Republican<br>State=%{x}<br>%=%{y}<extra></extra>\",\"legendgroup\":\"Republican\",\"marker\":{\"color\":\"#EF553B\",\"pattern\":{\"shape\":\"\"}},\"name\":\"Republican\",\"offsetgroup\":\"Republican\",\"orientation\":\"v\",\"showlegend\":true,\"textposition\":\"auto\",\"x\":[\"District of Columbia\",\"Vermont\",\"Massachusetts\",\"Maryland\",\"Hawaii\",\"California\",\"New York\",\"Rhode Island\",\"Connecticut\",\"Washington\",\"Delaware\",\"Illinois\",\"Oregon\",\"New Jersey\",\"Colorado\",\"New Mexico\",\"Virginia\",\"Maine\",\"New Hampshire\",\"Minnesota\",\"Michigan\",\"Nevada\",\"Pennsylvania\",\"Wisconsin\",\"Arizona\",\"Georgia\",\"North Carolina\",\"Florida\",\"Texas\",\"Ohio\",\"Iowa\",\"Alaska\",\"South Carolina\",\"Kansas\",\"Missouri\",\"Indiana\",\"Mississippi\",\"Montana\",\"Louisiana\",\"Nebraska\",\"Utah\",\"Tennessee\",\"Alabama\",\"Kentucky\",\"South Dakota\",\"Arkansas\",\"Idaho\",\"Oklahoma\",\"North Dakota\",\"West Virginia\",\"Wyoming\"],\"xaxis\":\"x\",\"y\":[5.533046152380555,31.700813447193436,32.88445045985185,32.97095295290766,34.96733535348512,35.0903102264146,38.26394745801741,39.4898102350177,39.82753619072914,40.07449681520931,40.37325583501553,41.34095626719308,41.692843014558264,41.92871641320516,43.06168050769985,44.48150984828026,44.84531300060009,45.53539346029465,46.25165227840496,46.36048635143333,48.58644065559054,48.77688265995619,49.40291182486116,49.682047731103225,49.84316832087068,49.88067033709135,50.68418253318673,51.69475466214156,52.83072123677953,54.07669764770272,54.183263084637055,55.31420315353761,55.926608749582094,57.57274054902568,57.83582064440145,58.19818480143806,58.38498582738886,58.3971800920481,59.464440456291044,59.784052246601725,60.69360512185163,61.82777037206635,62.910683354752194,63.20010290026297,63.4347798616815,64.21243327798315,65.87710235763649,66.94003949690651,67.21740842289663,69.79853231392202,72.4804343755851],\"yaxis\":\"y\",\"type\":\"bar\"}],                        {\"template\":{\"data\":{\"bar\":[{\"error_x\":{\"color\":\"#2a3f5f\"},\"error_y\":{\"color\":\"#2a3f5f\"},\"marker\":{\"line\":{\"color\":\"#E5ECF6\",\"width\":0.5},\"pattern\":{\"fillmode\":\"overlay\",\"size\":10,\"solidity\":0.2}},\"type\":\"bar\"}],\"barpolar\":[{\"marker\":{\"line\":{\"color\":\"#E5ECF6\",\"width\":0.5},\"pattern\":{\"fillmode\":\"overlay\",\"size\":10,\"solidity\":0.2}},\"type\":\"barpolar\"}],\"carpet\":[{\"aaxis\":{\"endlinecolor\":\"#2a3f5f\",\"gridcolor\":\"white\",\"linecolor\":\"white\",\"minorgridcolor\":\"white\",\"startlinecolor\":\"#2a3f5f\"},\"baxis\":{\"endlinecolor\":\"#2a3f5f\",\"gridcolor\":\"white\",\"linecolor\":\"white\",\"minorgridcolor\":\"white\",\"startlinecolor\":\"#2a3f5f\"},\"type\":\"carpet\"}],\"choropleth\":[{\"colorbar\":{\"outlinewidth\":0,\"ticks\":\"\"},\"type\":\"choropleth\"}],\"contour\":[{\"colorbar\":{\"outlinewidth\":0,\"ticks\":\"\"},\"colorscale\":[[0.0,\"#0d0887\"],[0.1111111111111111,\"#46039f\"],[0.2222222222222222,\"#7201a8\"],[0.3333333333333333,\"#9c179e\"],[0.4444444444444444,\"#bd3786\"],[0.5555555555555556,\"#d8576b\"],[0.6666666666666666,\"#ed7953\"],[0.7777777777777778,\"#fb9f3a\"],[0.8888888888888888,\"#fdca26\"],[1.0,\"#f0f921\"]],\"type\":\"contour\"}],\"contourcarpet\":[{\"colorbar\":{\"outlinewidth\":0,\"ticks\":\"\"},\"type\":\"contourcarpet\"}],\"heatmap\":[{\"colorbar\":{\"outlinewidth\":0,\"ticks\":\"\"},\"colorscale\":[[0.0,\"#0d0887\"],[0.1111111111111111,\"#46039f\"],[0.2222222222222222,\"#7201a8\"],[0.3333333333333333,\"#9c179e\"],[0.4444444444444444,\"#bd3786\"],[0.5555555555555556,\"#d8576b\"],[0.6666666666666666,\"#ed7953\"],[0.7777777777777778,\"#fb9f3a\"],[0.8888888888888888,\"#fdca26\"],[1.0,\"#f0f921\"]],\"type\":\"heatmap\"}],\"heatmapgl\":[{\"colorbar\":{\"outlinewidth\":0,\"ticks\":\"\"},\"colorscale\":[[0.0,\"#0d0887\"],[0.1111111111111111,\"#46039f\"],[0.2222222222222222,\"#7201a8\"],[0.3333333333333333,\"#9c179e\"],[0.4444444444444444,\"#bd3786\"],[0.5555555555555556,\"#d8576b\"],[0.6666666666666666,\"#ed7953\"],[0.7777777777777778,\"#fb9f3a\"],[0.8888888888888888,\"#fdca26\"],[1.0,\"#f0f921\"]],\"type\":\"heatmapgl\"}],\"histogram\":[{\"marker\":{\"pattern\":{\"fillmode\":\"overlay\",\"size\":10,\"solidity\":0.2}},\"type\":\"histogram\"}],\"histogram2d\":[{\"colorbar\":{\"outlinewidth\":0,\"ticks\":\"\"},\"colorscale\":[[0.0,\"#0d0887\"],[0.1111111111111111,\"#46039f\"],[0.2222222222222222,\"#7201a8\"],[0.3333333333333333,\"#9c179e\"],[0.4444444444444444,\"#bd3786\"],[0.5555555555555556,\"#d8576b\"],[0.6666666666666666,\"#ed7953\"],[0.7777777777777778,\"#fb9f3a\"],[0.8888888888888888,\"#fdca26\"],[1.0,\"#f0f921\"]],\"type\":\"histogram2d\"}],\"histogram2dcontour\":[{\"colorbar\":{\"outlinewidth\":0,\"ticks\":\"\"},\"colorscale\":[[0.0,\"#0d0887\"],[0.1111111111111111,\"#46039f\"],[0.2222222222222222,\"#7201a8\"],[0.3333333333333333,\"#9c179e\"],[0.4444444444444444,\"#bd3786\"],[0.5555555555555556,\"#d8576b\"],[0.6666666666666666,\"#ed7953\"],[0.7777777777777778,\"#fb9f3a\"],[0.8888888888888888,\"#fdca26\"],[1.0,\"#f0f921\"]],\"type\":\"histogram2dcontour\"}],\"mesh3d\":[{\"colorbar\":{\"outlinewidth\":0,\"ticks\":\"\"},\"type\":\"mesh3d\"}],\"parcoords\":[{\"line\":{\"colorbar\":{\"outlinewidth\":0,\"ticks\":\"\"}},\"type\":\"parcoords\"}],\"pie\":[{\"automargin\":true,\"type\":\"pie\"}],\"scatter\":[{\"marker\":{\"colorbar\":{\"outlinewidth\":0,\"ticks\":\"\"}},\"type\":\"scatter\"}],\"scatter3d\":[{\"line\":{\"colorbar\":{\"outlinewidth\":0,\"ticks\":\"\"}},\"marker\":{\"colorbar\":{\"outlinewidth\":0,\"ticks\":\"\"}},\"type\":\"scatter3d\"}],\"scattercarpet\":[{\"marker\":{\"colorbar\":{\"outlinewidth\":0,\"ticks\":\"\"}},\"type\":\"scattercarpet\"}],\"scattergeo\":[{\"marker\":{\"colorbar\":{\"outlinewidth\":0,\"ticks\":\"\"}},\"type\":\"scattergeo\"}],\"scattergl\":[{\"marker\":{\"colorbar\":{\"outlinewidth\":0,\"ticks\":\"\"}},\"type\":\"scattergl\"}],\"scattermapbox\":[{\"marker\":{\"colorbar\":{\"outlinewidth\":0,\"ticks\":\"\"}},\"type\":\"scattermapbox\"}],\"scatterpolar\":[{\"marker\":{\"colorbar\":{\"outlinewidth\":0,\"ticks\":\"\"}},\"type\":\"scatterpolar\"}],\"scatterpolargl\":[{\"marker\":{\"colorbar\":{\"outlinewidth\":0,\"ticks\":\"\"}},\"type\":\"scatterpolargl\"}],\"scatterternary\":[{\"marker\":{\"colorbar\":{\"outlinewidth\":0,\"ticks\":\"\"}},\"type\":\"scatterternary\"}],\"surface\":[{\"colorbar\":{\"outlinewidth\":0,\"ticks\":\"\"},\"colorscale\":[[0.0,\"#0d0887\"],[0.1111111111111111,\"#46039f\"],[0.2222222222222222,\"#7201a8\"],[0.3333333333333333,\"#9c179e\"],[0.4444444444444444,\"#bd3786\"],[0.5555555555555556,\"#d8576b\"],[0.6666666666666666,\"#ed7953\"],[0.7777777777777778,\"#fb9f3a\"],[0.8888888888888888,\"#fdca26\"],[1.0,\"#f0f921\"]],\"type\":\"surface\"}],\"table\":[{\"cells\":{\"fill\":{\"color\":\"#EBF0F8\"},\"line\":{\"color\":\"white\"}},\"header\":{\"fill\":{\"color\":\"#C8D4E3\"},\"line\":{\"color\":\"white\"}},\"type\":\"table\"}]},\"layout\":{\"annotationdefaults\":{\"arrowcolor\":\"#2a3f5f\",\"arrowhead\":0,\"arrowwidth\":1},\"autotypenumbers\":\"strict\",\"coloraxis\":{\"colorbar\":{\"outlinewidth\":0,\"ticks\":\"\"}},\"colorscale\":{\"diverging\":[[0,\"#8e0152\"],[0.1,\"#c51b7d\"],[0.2,\"#de77ae\"],[0.3,\"#f1b6da\"],[0.4,\"#fde0ef\"],[0.5,\"#f7f7f7\"],[0.6,\"#e6f5d0\"],[0.7,\"#b8e186\"],[0.8,\"#7fbc41\"],[0.9,\"#4d9221\"],[1,\"#276419\"]],\"sequential\":[[0.0,\"#0d0887\"],[0.1111111111111111,\"#46039f\"],[0.2222222222222222,\"#7201a8\"],[0.3333333333333333,\"#9c179e\"],[0.4444444444444444,\"#bd3786\"],[0.5555555555555556,\"#d8576b\"],[0.6666666666666666,\"#ed7953\"],[0.7777777777777778,\"#fb9f3a\"],[0.8888888888888888,\"#fdca26\"],[1.0,\"#f0f921\"]],\"sequentialminus\":[[0.0,\"#0d0887\"],[0.1111111111111111,\"#46039f\"],[0.2222222222222222,\"#7201a8\"],[0.3333333333333333,\"#9c179e\"],[0.4444444444444444,\"#bd3786\"],[0.5555555555555556,\"#d8576b\"],[0.6666666666666666,\"#ed7953\"],[0.7777777777777778,\"#fb9f3a\"],[0.8888888888888888,\"#fdca26\"],[1.0,\"#f0f921\"]]},\"colorway\":[\"#636efa\",\"#EF553B\",\"#00cc96\",\"#ab63fa\",\"#FFA15A\",\"#19d3f3\",\"#FF6692\",\"#B6E880\",\"#FF97FF\",\"#FECB52\"],\"font\":{\"color\":\"#2a3f5f\"},\"geo\":{\"bgcolor\":\"white\",\"lakecolor\":\"white\",\"landcolor\":\"#E5ECF6\",\"showlakes\":true,\"showland\":true,\"subunitcolor\":\"white\"},\"hoverlabel\":{\"align\":\"left\"},\"hovermode\":\"closest\",\"mapbox\":{\"style\":\"light\"},\"paper_bgcolor\":\"white\",\"plot_bgcolor\":\"#E5ECF6\",\"polar\":{\"angularaxis\":{\"gridcolor\":\"white\",\"linecolor\":\"white\",\"ticks\":\"\"},\"bgcolor\":\"#E5ECF6\",\"radialaxis\":{\"gridcolor\":\"white\",\"linecolor\":\"white\",\"ticks\":\"\"}},\"scene\":{\"xaxis\":{\"backgroundcolor\":\"#E5ECF6\",\"gridcolor\":\"white\",\"gridwidth\":2,\"linecolor\":\"white\",\"showbackground\":true,\"ticks\":\"\",\"zerolinecolor\":\"white\"},\"yaxis\":{\"backgroundcolor\":\"#E5ECF6\",\"gridcolor\":\"white\",\"gridwidth\":2,\"linecolor\":\"white\",\"showbackground\":true,\"ticks\":\"\",\"zerolinecolor\":\"white\"},\"zaxis\":{\"backgroundcolor\":\"#E5ECF6\",\"gridcolor\":\"white\",\"gridwidth\":2,\"linecolor\":\"white\",\"showbackground\":true,\"ticks\":\"\",\"zerolinecolor\":\"white\"}},\"shapedefaults\":{\"line\":{\"color\":\"#2a3f5f\"}},\"ternary\":{\"aaxis\":{\"gridcolor\":\"white\",\"linecolor\":\"white\",\"ticks\":\"\"},\"baxis\":{\"gridcolor\":\"white\",\"linecolor\":\"white\",\"ticks\":\"\"},\"bgcolor\":\"#E5ECF6\",\"caxis\":{\"gridcolor\":\"white\",\"linecolor\":\"white\",\"ticks\":\"\"}},\"title\":{\"x\":0.05},\"xaxis\":{\"automargin\":true,\"gridcolor\":\"white\",\"linecolor\":\"white\",\"ticks\":\"\",\"title\":{\"standoff\":15},\"zerolinecolor\":\"white\",\"zerolinewidth\":2},\"yaxis\":{\"automargin\":true,\"gridcolor\":\"white\",\"linecolor\":\"white\",\"ticks\":\"\",\"title\":{\"standoff\":15},\"zerolinecolor\":\"white\",\"zerolinewidth\":2}}},\"xaxis\":{\"anchor\":\"y\",\"domain\":[0.0,1.0],\"title\":{\"text\":\"State\"}},\"yaxis\":{\"anchor\":\"x\",\"domain\":[0.0,1.0],\"title\":{\"text\":\"%\"}},\"legend\":{\"title\":{\"text\":\"Party\"},\"tracegroupgap\":0},\"title\":{\"text\":\"U.S. 2020 presidential elections per state\"},\"barmode\":\"relative\",\"shapes\":[{\"line\":{\"color\":\"green\",\"dash\":\"dash\",\"width\":3},\"type\":\"line\",\"x0\":0,\"x1\":1,\"xref\":\"x domain\",\"y0\":50,\"y1\":50,\"yref\":\"y\"}],\"annotations\":[{\"showarrow\":false,\"text\":\"50%\",\"x\":1,\"xanchor\":\"right\",\"xref\":\"x domain\",\"y\":50,\"yanchor\":\"top\",\"yref\":\"y\"}]},                        {\"responsive\": true}                    ).then(function(){\n",
       "                            \n",
       "var gd = document.getElementById('61323f5d-3fc5-4f95-bb52-95ad363fe74d');\n",
       "var x = new MutationObserver(function (mutations, observer) {{\n",
       "        var display = window.getComputedStyle(gd).display;\n",
       "        if (!display || display === 'none') {{\n",
       "            console.log([gd, 'removed!']);\n",
       "            Plotly.purge(gd);\n",
       "            observer.disconnect();\n",
       "        }}\n",
       "}});\n",
       "\n",
       "// Listen for the removal of the full notebook cells\n",
       "var notebookContainer = gd.closest('#notebook-container');\n",
       "if (notebookContainer) {{\n",
       "    x.observe(notebookContainer, {childList: true});\n",
       "}}\n",
       "\n",
       "// Listen for the clearing of the current output cell\n",
       "var outputEl = gd.closest('.output');\n",
       "if (outputEl) {{\n",
       "    x.observe(outputEl, {childList: true});\n",
       "}}\n",
       "\n",
       "                        })                };                });            </script>        </div>"
      ]
     },
     "metadata": {},
     "output_type": "display_data"
    }
   ],
   "source": [
    "\n",
    "total_votes = tmp[\"total_votes\"].sum()\n",
    "total_republicans = tmp.groupby(\"state_name\")[\"votes_gop\"].sum().reset_index()\n",
    "total_democrats = tmp.groupby(\"state_name\")[\"votes_dem\"].sum().reset_index()\n",
    "df = pd.merge(total_republicans, total_democrats, on=\"state_name\", how=\"inner\")\n",
    "df[\"total_votes_state\"] = df[\"votes_gop\"] + df[\"votes_dem\"]\n",
    "df[\"Republican\"] = (df[\"votes_gop\"] / df[\"total_votes_state\"])*100\n",
    "df[\"Democratic\"] = np.abs(100 - df[\"Republican\"])\n",
    "df = df.sort_values(by=\"Democratic\", ascending=False)\n",
    "display(df.head())\n",
    "fig = px.bar(df, x=\"state_name\", y=[\"Democratic\", \"Republican\"],\n",
    "             title=\"U.S. 2020 presidential elections per state\", \n",
    "             labels={\"value\": \"%\",\n",
    "                     \"state_name\": \"State\",\n",
    "                     \"variable\": \"Party\"})\n",
    "fig.add_hline(y=50, line_width=3, line_dash=\"dash\", line_color=\"green\",\n",
    "              annotation_text=\"50%\", \n",
    "              annotation_position=\"bottom right\")\n",
    "fig"
   ]
  },
  {
   "cell_type": "code",
   "execution_count": 56,
   "metadata": {},
   "outputs": [
    {
     "name": "stderr",
     "output_type": "stream",
     "text": [
      "C:\\Users\\vnarv\\AppData\\Local\\Temp\\ipykernel_4892\\3698961737.py:1: FutureWarning:\n",
      "\n",
      "Dropping of nuisance columns in DataFrame reductions (with 'numeric_only=None') is deprecated; in a future version this will raise TypeError.  Select only valid columns before calling the reduction.\n",
      "\n"
     ]
    },
    {
     "data": {
      "text/plain": [
       "votes_gop     1.455063e+06\n",
       "votes_dem     1.593431e+06\n",
       "Republican    5.030956e+01\n",
       "Democratic    4.969044e+01\n",
       "dtype: float64"
      ]
     },
     "execution_count": 56,
     "metadata": {},
     "output_type": "execute_result"
    }
   ],
   "source": []
  },
  {
   "cell_type": "code",
   "execution_count": null,
   "metadata": {},
   "outputs": [],
   "source": [
    "# https://plotly.com/python/mapbox-county-choropleth/ US MAP"
   ]
  },
  {
   "cell_type": "code",
   "execution_count": 76,
   "metadata": {},
   "outputs": [],
   "source": [
    "top_countys = df.sort_values(\n",
    "    by=\"total_votes_state\",\n",
    "    ascending=False\n",
    ").iloc[:1][[\"state_name\"]]\n",
    "top_countys.reset_index(inplace=True, drop=True)"
   ]
  },
  {
   "cell_type": "code",
   "execution_count": 83,
   "metadata": {},
   "outputs": [],
   "source": [
    "top_countys = tmp[tmp[\"state_name\"].isin(top_10_states[\"state_name\"])]\n",
    "top_countys = top_countys.groupby(\"county_name\").agg({\"votes_gop\": \"sum\",\n",
    "                                             \"votes_dem\": \"sum\"})\n",
    "top_countys[\"total_votes_county\"] = top_countys[\"votes_gop\"] + top_countys[\"votes_dem\"]\n",
    "top_countys[\"Democrats\"] = (top_countys[\"votes_gop\"] / top_countys[\"total_votes_county\"])*100\n",
    "top_countys = top_countys.sort_values(by=\"Democrats\", ascending=False)"
   ]
  },
  {
   "cell_type": "code",
   "execution_count": 84,
   "metadata": {},
   "outputs": [
    {
     "data": {
      "text/html": [
       "<div>\n",
       "<style scoped>\n",
       "    .dataframe tbody tr th:only-of-type {\n",
       "        vertical-align: middle;\n",
       "    }\n",
       "\n",
       "    .dataframe tbody tr th {\n",
       "        vertical-align: top;\n",
       "    }\n",
       "\n",
       "    .dataframe thead th {\n",
       "        text-align: right;\n",
       "    }\n",
       "</style>\n",
       "<table border=\"1\" class=\"dataframe\">\n",
       "  <thead>\n",
       "    <tr style=\"text-align: right;\">\n",
       "      <th></th>\n",
       "      <th>votes_gop</th>\n",
       "      <th>votes_dem</th>\n",
       "      <th>total_votes_county</th>\n",
       "      <th>Democrats</th>\n",
       "    </tr>\n",
       "    <tr>\n",
       "      <th>county_name</th>\n",
       "      <th></th>\n",
       "      <th></th>\n",
       "      <th></th>\n",
       "      <th></th>\n",
       "    </tr>\n",
       "  </thead>\n",
       "  <tbody>\n",
       "    <tr>\n",
       "      <th>Lassen County</th>\n",
       "      <td>8970</td>\n",
       "      <td>2799</td>\n",
       "      <td>11769</td>\n",
       "      <td>76.217181</td>\n",
       "    </tr>\n",
       "    <tr>\n",
       "      <th>Modoc County</th>\n",
       "      <td>3109</td>\n",
       "      <td>1150</td>\n",
       "      <td>4259</td>\n",
       "      <td>72.998356</td>\n",
       "    </tr>\n",
       "    <tr>\n",
       "      <th>Tehama County</th>\n",
       "      <td>19141</td>\n",
       "      <td>8911</td>\n",
       "      <td>28052</td>\n",
       "      <td>68.233994</td>\n",
       "    </tr>\n",
       "    <tr>\n",
       "      <th>Shasta County</th>\n",
       "      <td>60789</td>\n",
       "      <td>30000</td>\n",
       "      <td>90789</td>\n",
       "      <td>66.956349</td>\n",
       "    </tr>\n",
       "    <tr>\n",
       "      <th>Glenn County</th>\n",
       "      <td>7063</td>\n",
       "      <td>3995</td>\n",
       "      <td>11058</td>\n",
       "      <td>63.872310</td>\n",
       "    </tr>\n",
       "  </tbody>\n",
       "</table>\n",
       "</div>"
      ],
      "text/plain": [
       "               votes_gop  votes_dem  total_votes_county  Democrats\n",
       "county_name                                                       \n",
       "Lassen County       8970       2799               11769  76.217181\n",
       "Modoc County        3109       1150                4259  72.998356\n",
       "Tehama County      19141       8911               28052  68.233994\n",
       "Shasta County      60789      30000               90789  66.956349\n",
       "Glenn County        7063       3995               11058  63.872310"
      ]
     },
     "execution_count": 84,
     "metadata": {},
     "output_type": "execute_result"
    }
   ],
   "source": [
    "top_countys.head()"
   ]
  },
  {
   "cell_type": "code",
   "execution_count": 90,
   "metadata": {},
   "outputs": [
    {
     "data": {
      "application/vnd.plotly.v1+json": {
       "config": {
        "plotlyServerURL": "https://plot.ly"
       },
       "data": [
        {
         "alignmentgroup": "True",
         "hovertemplate": "County=%{x}<br>%=%{y}<extra></extra>",
         "legendgroup": "",
         "marker": {
          "color": "#636efa",
          "pattern": {
           "shape": ""
          }
         },
         "name": "",
         "offsetgroup": "",
         "orientation": "v",
         "showlegend": false,
         "textposition": "auto",
         "type": "bar",
         "x": [
          "Lassen County",
          "Modoc County",
          "Tehama County",
          "Shasta County",
          "Glenn County",
          "Amador County",
          "Calaveras County",
          "Yuba County",
          "Sierra County",
          "Tuolumne County",
          "Mariposa County",
          "Plumas County",
          "Colusa County",
          "Sutter County",
          "Siskiyou County",
          "Del Norte County",
          "Kings County",
          "Madera County",
          "Kern County",
          "El Dorado County",
          "Tulare County",
          "Placer County",
          "Trinity County",
          "Inyo County",
          "Stanislaus County",
          "Butte County",
          "Lake County",
          "Fresno County",
          "Riverside County",
          "Orange County",
          "Merced County",
          "San Bernardino County",
          "San Luis Obispo County",
          "San Joaquin County",
          "Nevada County",
          "Ventura County",
          "Mono County",
          "San Diego County",
          "Imperial County",
          "San Benito County",
          "Sacramento County",
          "Solano County",
          "Alpine County",
          "Santa Barbara County",
          "Humboldt County",
          "Mendocino County",
          "Napa County",
          "Monterey County",
          "Yolo County",
          "Los Angeles County",
          "Contra Costa County",
          "Santa Clara County",
          "Sonoma County",
          "San Mateo County",
          "Santa Cruz County",
          "Alameda County",
          "Marin County",
          "San Francisco County"
         ],
         "xaxis": "x",
         "y": [
          76.21718072903391,
          72.99835642169523,
          68.2339940111222,
          66.9563493374748,
          63.872309640079585,
          62.49424970098445,
          62.181900316217444,
          61.14993426970179,
          61.00427350427351,
          59.625172750867975,
          59.274755927475596,
          58.55896783572597,
          58.47457627118644,
          58.39442288342676,
          58.07804920683477,
          58.008619141677144,
          56.28112506137336,
          55.90910820994937,
          55.223770354205136,
          54.50250751372743,
          53.99278973302525,
          53.4049538492394,
          52.79019705249214,
          49.92435703479576,
          49.596163553760725,
          49.14478195974021,
          46.76097491448118,
          46.0053316325817,
          45.94310943462684,
          45.38710653489048,
          44.572792686790066,
          44.550525716565545,
          43.298704300591986,
          42.90679752688363,
          42.413443568057275,
          39.21880100097922,
          38.507508427827155,
          38.35093791700112,
          37.54524988743809,
          37.52923665745269,
          37.046584396462215,
          34.49003458657842,
          33.88888888888889,
          33.59036070700412,
          32.718146021822115,
          31.5512854051226,
          29.330571829827072,
          28.891371090532413,
          28.76172410159132,
          27.441689434327927,
          26.855249682484196,
          25.776773135041843,
          23.618693245416654,
          20.590888157984374,
          19.079492573468475,
          18.078883984466184,
          16.096795291039896,
          12.982168703531974
         ],
         "yaxis": "y"
        }
       ],
       "layout": {
        "annotations": [
         {
          "showarrow": false,
          "text": "50%",
          "x": 1,
          "xanchor": "right",
          "xref": "x domain",
          "y": 50,
          "yanchor": "top",
          "yref": "y"
         }
        ],
        "barmode": "relative",
        "legend": {
         "tracegroupgap": 0
        },
        "shapes": [
         {
          "line": {
           "color": "green",
           "dash": "dash",
           "width": 3
          },
          "type": "line",
          "x0": 0,
          "x1": 1,
          "xref": "x domain",
          "y0": 50,
          "y1": 50,
          "yref": "y"
         }
        ],
        "template": {
         "data": {
          "bar": [
           {
            "error_x": {
             "color": "#2a3f5f"
            },
            "error_y": {
             "color": "#2a3f5f"
            },
            "marker": {
             "line": {
              "color": "#E5ECF6",
              "width": 0.5
             },
             "pattern": {
              "fillmode": "overlay",
              "size": 10,
              "solidity": 0.2
             }
            },
            "type": "bar"
           }
          ],
          "barpolar": [
           {
            "marker": {
             "line": {
              "color": "#E5ECF6",
              "width": 0.5
             },
             "pattern": {
              "fillmode": "overlay",
              "size": 10,
              "solidity": 0.2
             }
            },
            "type": "barpolar"
           }
          ],
          "carpet": [
           {
            "aaxis": {
             "endlinecolor": "#2a3f5f",
             "gridcolor": "white",
             "linecolor": "white",
             "minorgridcolor": "white",
             "startlinecolor": "#2a3f5f"
            },
            "baxis": {
             "endlinecolor": "#2a3f5f",
             "gridcolor": "white",
             "linecolor": "white",
             "minorgridcolor": "white",
             "startlinecolor": "#2a3f5f"
            },
            "type": "carpet"
           }
          ],
          "choropleth": [
           {
            "colorbar": {
             "outlinewidth": 0,
             "ticks": ""
            },
            "type": "choropleth"
           }
          ],
          "contour": [
           {
            "colorbar": {
             "outlinewidth": 0,
             "ticks": ""
            },
            "colorscale": [
             [
              0,
              "#0d0887"
             ],
             [
              0.1111111111111111,
              "#46039f"
             ],
             [
              0.2222222222222222,
              "#7201a8"
             ],
             [
              0.3333333333333333,
              "#9c179e"
             ],
             [
              0.4444444444444444,
              "#bd3786"
             ],
             [
              0.5555555555555556,
              "#d8576b"
             ],
             [
              0.6666666666666666,
              "#ed7953"
             ],
             [
              0.7777777777777778,
              "#fb9f3a"
             ],
             [
              0.8888888888888888,
              "#fdca26"
             ],
             [
              1,
              "#f0f921"
             ]
            ],
            "type": "contour"
           }
          ],
          "contourcarpet": [
           {
            "colorbar": {
             "outlinewidth": 0,
             "ticks": ""
            },
            "type": "contourcarpet"
           }
          ],
          "heatmap": [
           {
            "colorbar": {
             "outlinewidth": 0,
             "ticks": ""
            },
            "colorscale": [
             [
              0,
              "#0d0887"
             ],
             [
              0.1111111111111111,
              "#46039f"
             ],
             [
              0.2222222222222222,
              "#7201a8"
             ],
             [
              0.3333333333333333,
              "#9c179e"
             ],
             [
              0.4444444444444444,
              "#bd3786"
             ],
             [
              0.5555555555555556,
              "#d8576b"
             ],
             [
              0.6666666666666666,
              "#ed7953"
             ],
             [
              0.7777777777777778,
              "#fb9f3a"
             ],
             [
              0.8888888888888888,
              "#fdca26"
             ],
             [
              1,
              "#f0f921"
             ]
            ],
            "type": "heatmap"
           }
          ],
          "heatmapgl": [
           {
            "colorbar": {
             "outlinewidth": 0,
             "ticks": ""
            },
            "colorscale": [
             [
              0,
              "#0d0887"
             ],
             [
              0.1111111111111111,
              "#46039f"
             ],
             [
              0.2222222222222222,
              "#7201a8"
             ],
             [
              0.3333333333333333,
              "#9c179e"
             ],
             [
              0.4444444444444444,
              "#bd3786"
             ],
             [
              0.5555555555555556,
              "#d8576b"
             ],
             [
              0.6666666666666666,
              "#ed7953"
             ],
             [
              0.7777777777777778,
              "#fb9f3a"
             ],
             [
              0.8888888888888888,
              "#fdca26"
             ],
             [
              1,
              "#f0f921"
             ]
            ],
            "type": "heatmapgl"
           }
          ],
          "histogram": [
           {
            "marker": {
             "pattern": {
              "fillmode": "overlay",
              "size": 10,
              "solidity": 0.2
             }
            },
            "type": "histogram"
           }
          ],
          "histogram2d": [
           {
            "colorbar": {
             "outlinewidth": 0,
             "ticks": ""
            },
            "colorscale": [
             [
              0,
              "#0d0887"
             ],
             [
              0.1111111111111111,
              "#46039f"
             ],
             [
              0.2222222222222222,
              "#7201a8"
             ],
             [
              0.3333333333333333,
              "#9c179e"
             ],
             [
              0.4444444444444444,
              "#bd3786"
             ],
             [
              0.5555555555555556,
              "#d8576b"
             ],
             [
              0.6666666666666666,
              "#ed7953"
             ],
             [
              0.7777777777777778,
              "#fb9f3a"
             ],
             [
              0.8888888888888888,
              "#fdca26"
             ],
             [
              1,
              "#f0f921"
             ]
            ],
            "type": "histogram2d"
           }
          ],
          "histogram2dcontour": [
           {
            "colorbar": {
             "outlinewidth": 0,
             "ticks": ""
            },
            "colorscale": [
             [
              0,
              "#0d0887"
             ],
             [
              0.1111111111111111,
              "#46039f"
             ],
             [
              0.2222222222222222,
              "#7201a8"
             ],
             [
              0.3333333333333333,
              "#9c179e"
             ],
             [
              0.4444444444444444,
              "#bd3786"
             ],
             [
              0.5555555555555556,
              "#d8576b"
             ],
             [
              0.6666666666666666,
              "#ed7953"
             ],
             [
              0.7777777777777778,
              "#fb9f3a"
             ],
             [
              0.8888888888888888,
              "#fdca26"
             ],
             [
              1,
              "#f0f921"
             ]
            ],
            "type": "histogram2dcontour"
           }
          ],
          "mesh3d": [
           {
            "colorbar": {
             "outlinewidth": 0,
             "ticks": ""
            },
            "type": "mesh3d"
           }
          ],
          "parcoords": [
           {
            "line": {
             "colorbar": {
              "outlinewidth": 0,
              "ticks": ""
             }
            },
            "type": "parcoords"
           }
          ],
          "pie": [
           {
            "automargin": true,
            "type": "pie"
           }
          ],
          "scatter": [
           {
            "marker": {
             "colorbar": {
              "outlinewidth": 0,
              "ticks": ""
             }
            },
            "type": "scatter"
           }
          ],
          "scatter3d": [
           {
            "line": {
             "colorbar": {
              "outlinewidth": 0,
              "ticks": ""
             }
            },
            "marker": {
             "colorbar": {
              "outlinewidth": 0,
              "ticks": ""
             }
            },
            "type": "scatter3d"
           }
          ],
          "scattercarpet": [
           {
            "marker": {
             "colorbar": {
              "outlinewidth": 0,
              "ticks": ""
             }
            },
            "type": "scattercarpet"
           }
          ],
          "scattergeo": [
           {
            "marker": {
             "colorbar": {
              "outlinewidth": 0,
              "ticks": ""
             }
            },
            "type": "scattergeo"
           }
          ],
          "scattergl": [
           {
            "marker": {
             "colorbar": {
              "outlinewidth": 0,
              "ticks": ""
             }
            },
            "type": "scattergl"
           }
          ],
          "scattermapbox": [
           {
            "marker": {
             "colorbar": {
              "outlinewidth": 0,
              "ticks": ""
             }
            },
            "type": "scattermapbox"
           }
          ],
          "scatterpolar": [
           {
            "marker": {
             "colorbar": {
              "outlinewidth": 0,
              "ticks": ""
             }
            },
            "type": "scatterpolar"
           }
          ],
          "scatterpolargl": [
           {
            "marker": {
             "colorbar": {
              "outlinewidth": 0,
              "ticks": ""
             }
            },
            "type": "scatterpolargl"
           }
          ],
          "scatterternary": [
           {
            "marker": {
             "colorbar": {
              "outlinewidth": 0,
              "ticks": ""
             }
            },
            "type": "scatterternary"
           }
          ],
          "surface": [
           {
            "colorbar": {
             "outlinewidth": 0,
             "ticks": ""
            },
            "colorscale": [
             [
              0,
              "#0d0887"
             ],
             [
              0.1111111111111111,
              "#46039f"
             ],
             [
              0.2222222222222222,
              "#7201a8"
             ],
             [
              0.3333333333333333,
              "#9c179e"
             ],
             [
              0.4444444444444444,
              "#bd3786"
             ],
             [
              0.5555555555555556,
              "#d8576b"
             ],
             [
              0.6666666666666666,
              "#ed7953"
             ],
             [
              0.7777777777777778,
              "#fb9f3a"
             ],
             [
              0.8888888888888888,
              "#fdca26"
             ],
             [
              1,
              "#f0f921"
             ]
            ],
            "type": "surface"
           }
          ],
          "table": [
           {
            "cells": {
             "fill": {
              "color": "#EBF0F8"
             },
             "line": {
              "color": "white"
             }
            },
            "header": {
             "fill": {
              "color": "#C8D4E3"
             },
             "line": {
              "color": "white"
             }
            },
            "type": "table"
           }
          ]
         },
         "layout": {
          "annotationdefaults": {
           "arrowcolor": "#2a3f5f",
           "arrowhead": 0,
           "arrowwidth": 1
          },
          "autotypenumbers": "strict",
          "coloraxis": {
           "colorbar": {
            "outlinewidth": 0,
            "ticks": ""
           }
          },
          "colorscale": {
           "diverging": [
            [
             0,
             "#8e0152"
            ],
            [
             0.1,
             "#c51b7d"
            ],
            [
             0.2,
             "#de77ae"
            ],
            [
             0.3,
             "#f1b6da"
            ],
            [
             0.4,
             "#fde0ef"
            ],
            [
             0.5,
             "#f7f7f7"
            ],
            [
             0.6,
             "#e6f5d0"
            ],
            [
             0.7,
             "#b8e186"
            ],
            [
             0.8,
             "#7fbc41"
            ],
            [
             0.9,
             "#4d9221"
            ],
            [
             1,
             "#276419"
            ]
           ],
           "sequential": [
            [
             0,
             "#0d0887"
            ],
            [
             0.1111111111111111,
             "#46039f"
            ],
            [
             0.2222222222222222,
             "#7201a8"
            ],
            [
             0.3333333333333333,
             "#9c179e"
            ],
            [
             0.4444444444444444,
             "#bd3786"
            ],
            [
             0.5555555555555556,
             "#d8576b"
            ],
            [
             0.6666666666666666,
             "#ed7953"
            ],
            [
             0.7777777777777778,
             "#fb9f3a"
            ],
            [
             0.8888888888888888,
             "#fdca26"
            ],
            [
             1,
             "#f0f921"
            ]
           ],
           "sequentialminus": [
            [
             0,
             "#0d0887"
            ],
            [
             0.1111111111111111,
             "#46039f"
            ],
            [
             0.2222222222222222,
             "#7201a8"
            ],
            [
             0.3333333333333333,
             "#9c179e"
            ],
            [
             0.4444444444444444,
             "#bd3786"
            ],
            [
             0.5555555555555556,
             "#d8576b"
            ],
            [
             0.6666666666666666,
             "#ed7953"
            ],
            [
             0.7777777777777778,
             "#fb9f3a"
            ],
            [
             0.8888888888888888,
             "#fdca26"
            ],
            [
             1,
             "#f0f921"
            ]
           ]
          },
          "colorway": [
           "#636efa",
           "#EF553B",
           "#00cc96",
           "#ab63fa",
           "#FFA15A",
           "#19d3f3",
           "#FF6692",
           "#B6E880",
           "#FF97FF",
           "#FECB52"
          ],
          "font": {
           "color": "#2a3f5f"
          },
          "geo": {
           "bgcolor": "white",
           "lakecolor": "white",
           "landcolor": "#E5ECF6",
           "showlakes": true,
           "showland": true,
           "subunitcolor": "white"
          },
          "hoverlabel": {
           "align": "left"
          },
          "hovermode": "closest",
          "mapbox": {
           "style": "light"
          },
          "paper_bgcolor": "white",
          "plot_bgcolor": "#E5ECF6",
          "polar": {
           "angularaxis": {
            "gridcolor": "white",
            "linecolor": "white",
            "ticks": ""
           },
           "bgcolor": "#E5ECF6",
           "radialaxis": {
            "gridcolor": "white",
            "linecolor": "white",
            "ticks": ""
           }
          },
          "scene": {
           "xaxis": {
            "backgroundcolor": "#E5ECF6",
            "gridcolor": "white",
            "gridwidth": 2,
            "linecolor": "white",
            "showbackground": true,
            "ticks": "",
            "zerolinecolor": "white"
           },
           "yaxis": {
            "backgroundcolor": "#E5ECF6",
            "gridcolor": "white",
            "gridwidth": 2,
            "linecolor": "white",
            "showbackground": true,
            "ticks": "",
            "zerolinecolor": "white"
           },
           "zaxis": {
            "backgroundcolor": "#E5ECF6",
            "gridcolor": "white",
            "gridwidth": 2,
            "linecolor": "white",
            "showbackground": true,
            "ticks": "",
            "zerolinecolor": "white"
           }
          },
          "shapedefaults": {
           "line": {
            "color": "#2a3f5f"
           }
          },
          "ternary": {
           "aaxis": {
            "gridcolor": "white",
            "linecolor": "white",
            "ticks": ""
           },
           "baxis": {
            "gridcolor": "white",
            "linecolor": "white",
            "ticks": ""
           },
           "bgcolor": "#E5ECF6",
           "caxis": {
            "gridcolor": "white",
            "linecolor": "white",
            "ticks": ""
           }
          },
          "title": {
           "x": 0.05
          },
          "xaxis": {
           "automargin": true,
           "gridcolor": "white",
           "linecolor": "white",
           "ticks": "",
           "title": {
            "standoff": 15
           },
           "zerolinecolor": "white",
           "zerolinewidth": 2
          },
          "yaxis": {
           "automargin": true,
           "gridcolor": "white",
           "linecolor": "white",
           "ticks": "",
           "title": {
            "standoff": 15
           },
           "zerolinecolor": "white",
           "zerolinewidth": 2
          }
         }
        },
        "title": {
         "text": "Pertage votes for democrats for the top countys"
        },
        "xaxis": {
         "anchor": "y",
         "domain": [
          0,
          1
         ],
         "title": {
          "text": "County"
         }
        },
        "yaxis": {
         "anchor": "x",
         "domain": [
          0,
          1
         ],
         "title": {
          "text": "%"
         }
        }
       }
      },
      "text/html": [
       "<div>                            <div id=\"36a11cfd-504e-407c-82a6-5ce75e2a95e8\" class=\"plotly-graph-div\" style=\"height:525px; width:100%;\"></div>            <script type=\"text/javascript\">                require([\"plotly\"], function(Plotly) {                    window.PLOTLYENV=window.PLOTLYENV || {};                                    if (document.getElementById(\"36a11cfd-504e-407c-82a6-5ce75e2a95e8\")) {                    Plotly.newPlot(                        \"36a11cfd-504e-407c-82a6-5ce75e2a95e8\",                        [{\"alignmentgroup\":\"True\",\"hovertemplate\":\"County=%{x}<br>%=%{y}<extra></extra>\",\"legendgroup\":\"\",\"marker\":{\"color\":\"#636efa\",\"pattern\":{\"shape\":\"\"}},\"name\":\"\",\"offsetgroup\":\"\",\"orientation\":\"v\",\"showlegend\":false,\"textposition\":\"auto\",\"x\":[\"Lassen County\",\"Modoc County\",\"Tehama County\",\"Shasta County\",\"Glenn County\",\"Amador County\",\"Calaveras County\",\"Yuba County\",\"Sierra County\",\"Tuolumne County\",\"Mariposa County\",\"Plumas County\",\"Colusa County\",\"Sutter County\",\"Siskiyou County\",\"Del Norte County\",\"Kings County\",\"Madera County\",\"Kern County\",\"El Dorado County\",\"Tulare County\",\"Placer County\",\"Trinity County\",\"Inyo County\",\"Stanislaus County\",\"Butte County\",\"Lake County\",\"Fresno County\",\"Riverside County\",\"Orange County\",\"Merced County\",\"San Bernardino County\",\"San Luis Obispo County\",\"San Joaquin County\",\"Nevada County\",\"Ventura County\",\"Mono County\",\"San Diego County\",\"Imperial County\",\"San Benito County\",\"Sacramento County\",\"Solano County\",\"Alpine County\",\"Santa Barbara County\",\"Humboldt County\",\"Mendocino County\",\"Napa County\",\"Monterey County\",\"Yolo County\",\"Los Angeles County\",\"Contra Costa County\",\"Santa Clara County\",\"Sonoma County\",\"San Mateo County\",\"Santa Cruz County\",\"Alameda County\",\"Marin County\",\"San Francisco County\"],\"xaxis\":\"x\",\"y\":[76.21718072903391,72.99835642169523,68.2339940111222,66.9563493374748,63.872309640079585,62.49424970098445,62.181900316217444,61.14993426970179,61.00427350427351,59.625172750867975,59.274755927475596,58.55896783572597,58.47457627118644,58.39442288342676,58.07804920683477,58.008619141677144,56.28112506137336,55.90910820994937,55.223770354205136,54.50250751372743,53.99278973302525,53.4049538492394,52.79019705249214,49.92435703479576,49.596163553760725,49.14478195974021,46.76097491448118,46.0053316325817,45.94310943462684,45.38710653489048,44.572792686790066,44.550525716565545,43.298704300591986,42.90679752688363,42.413443568057275,39.21880100097922,38.507508427827155,38.35093791700112,37.54524988743809,37.52923665745269,37.046584396462215,34.49003458657842,33.88888888888889,33.59036070700412,32.718146021822115,31.5512854051226,29.330571829827072,28.891371090532413,28.76172410159132,27.441689434327927,26.855249682484196,25.776773135041843,23.618693245416654,20.590888157984374,19.079492573468475,18.078883984466184,16.096795291039896,12.982168703531974],\"yaxis\":\"y\",\"type\":\"bar\"}],                        {\"template\":{\"data\":{\"bar\":[{\"error_x\":{\"color\":\"#2a3f5f\"},\"error_y\":{\"color\":\"#2a3f5f\"},\"marker\":{\"line\":{\"color\":\"#E5ECF6\",\"width\":0.5},\"pattern\":{\"fillmode\":\"overlay\",\"size\":10,\"solidity\":0.2}},\"type\":\"bar\"}],\"barpolar\":[{\"marker\":{\"line\":{\"color\":\"#E5ECF6\",\"width\":0.5},\"pattern\":{\"fillmode\":\"overlay\",\"size\":10,\"solidity\":0.2}},\"type\":\"barpolar\"}],\"carpet\":[{\"aaxis\":{\"endlinecolor\":\"#2a3f5f\",\"gridcolor\":\"white\",\"linecolor\":\"white\",\"minorgridcolor\":\"white\",\"startlinecolor\":\"#2a3f5f\"},\"baxis\":{\"endlinecolor\":\"#2a3f5f\",\"gridcolor\":\"white\",\"linecolor\":\"white\",\"minorgridcolor\":\"white\",\"startlinecolor\":\"#2a3f5f\"},\"type\":\"carpet\"}],\"choropleth\":[{\"colorbar\":{\"outlinewidth\":0,\"ticks\":\"\"},\"type\":\"choropleth\"}],\"contour\":[{\"colorbar\":{\"outlinewidth\":0,\"ticks\":\"\"},\"colorscale\":[[0.0,\"#0d0887\"],[0.1111111111111111,\"#46039f\"],[0.2222222222222222,\"#7201a8\"],[0.3333333333333333,\"#9c179e\"],[0.4444444444444444,\"#bd3786\"],[0.5555555555555556,\"#d8576b\"],[0.6666666666666666,\"#ed7953\"],[0.7777777777777778,\"#fb9f3a\"],[0.8888888888888888,\"#fdca26\"],[1.0,\"#f0f921\"]],\"type\":\"contour\"}],\"contourcarpet\":[{\"colorbar\":{\"outlinewidth\":0,\"ticks\":\"\"},\"type\":\"contourcarpet\"}],\"heatmap\":[{\"colorbar\":{\"outlinewidth\":0,\"ticks\":\"\"},\"colorscale\":[[0.0,\"#0d0887\"],[0.1111111111111111,\"#46039f\"],[0.2222222222222222,\"#7201a8\"],[0.3333333333333333,\"#9c179e\"],[0.4444444444444444,\"#bd3786\"],[0.5555555555555556,\"#d8576b\"],[0.6666666666666666,\"#ed7953\"],[0.7777777777777778,\"#fb9f3a\"],[0.8888888888888888,\"#fdca26\"],[1.0,\"#f0f921\"]],\"type\":\"heatmap\"}],\"heatmapgl\":[{\"colorbar\":{\"outlinewidth\":0,\"ticks\":\"\"},\"colorscale\":[[0.0,\"#0d0887\"],[0.1111111111111111,\"#46039f\"],[0.2222222222222222,\"#7201a8\"],[0.3333333333333333,\"#9c179e\"],[0.4444444444444444,\"#bd3786\"],[0.5555555555555556,\"#d8576b\"],[0.6666666666666666,\"#ed7953\"],[0.7777777777777778,\"#fb9f3a\"],[0.8888888888888888,\"#fdca26\"],[1.0,\"#f0f921\"]],\"type\":\"heatmapgl\"}],\"histogram\":[{\"marker\":{\"pattern\":{\"fillmode\":\"overlay\",\"size\":10,\"solidity\":0.2}},\"type\":\"histogram\"}],\"histogram2d\":[{\"colorbar\":{\"outlinewidth\":0,\"ticks\":\"\"},\"colorscale\":[[0.0,\"#0d0887\"],[0.1111111111111111,\"#46039f\"],[0.2222222222222222,\"#7201a8\"],[0.3333333333333333,\"#9c179e\"],[0.4444444444444444,\"#bd3786\"],[0.5555555555555556,\"#d8576b\"],[0.6666666666666666,\"#ed7953\"],[0.7777777777777778,\"#fb9f3a\"],[0.8888888888888888,\"#fdca26\"],[1.0,\"#f0f921\"]],\"type\":\"histogram2d\"}],\"histogram2dcontour\":[{\"colorbar\":{\"outlinewidth\":0,\"ticks\":\"\"},\"colorscale\":[[0.0,\"#0d0887\"],[0.1111111111111111,\"#46039f\"],[0.2222222222222222,\"#7201a8\"],[0.3333333333333333,\"#9c179e\"],[0.4444444444444444,\"#bd3786\"],[0.5555555555555556,\"#d8576b\"],[0.6666666666666666,\"#ed7953\"],[0.7777777777777778,\"#fb9f3a\"],[0.8888888888888888,\"#fdca26\"],[1.0,\"#f0f921\"]],\"type\":\"histogram2dcontour\"}],\"mesh3d\":[{\"colorbar\":{\"outlinewidth\":0,\"ticks\":\"\"},\"type\":\"mesh3d\"}],\"parcoords\":[{\"line\":{\"colorbar\":{\"outlinewidth\":0,\"ticks\":\"\"}},\"type\":\"parcoords\"}],\"pie\":[{\"automargin\":true,\"type\":\"pie\"}],\"scatter\":[{\"marker\":{\"colorbar\":{\"outlinewidth\":0,\"ticks\":\"\"}},\"type\":\"scatter\"}],\"scatter3d\":[{\"line\":{\"colorbar\":{\"outlinewidth\":0,\"ticks\":\"\"}},\"marker\":{\"colorbar\":{\"outlinewidth\":0,\"ticks\":\"\"}},\"type\":\"scatter3d\"}],\"scattercarpet\":[{\"marker\":{\"colorbar\":{\"outlinewidth\":0,\"ticks\":\"\"}},\"type\":\"scattercarpet\"}],\"scattergeo\":[{\"marker\":{\"colorbar\":{\"outlinewidth\":0,\"ticks\":\"\"}},\"type\":\"scattergeo\"}],\"scattergl\":[{\"marker\":{\"colorbar\":{\"outlinewidth\":0,\"ticks\":\"\"}},\"type\":\"scattergl\"}],\"scattermapbox\":[{\"marker\":{\"colorbar\":{\"outlinewidth\":0,\"ticks\":\"\"}},\"type\":\"scattermapbox\"}],\"scatterpolar\":[{\"marker\":{\"colorbar\":{\"outlinewidth\":0,\"ticks\":\"\"}},\"type\":\"scatterpolar\"}],\"scatterpolargl\":[{\"marker\":{\"colorbar\":{\"outlinewidth\":0,\"ticks\":\"\"}},\"type\":\"scatterpolargl\"}],\"scatterternary\":[{\"marker\":{\"colorbar\":{\"outlinewidth\":0,\"ticks\":\"\"}},\"type\":\"scatterternary\"}],\"surface\":[{\"colorbar\":{\"outlinewidth\":0,\"ticks\":\"\"},\"colorscale\":[[0.0,\"#0d0887\"],[0.1111111111111111,\"#46039f\"],[0.2222222222222222,\"#7201a8\"],[0.3333333333333333,\"#9c179e\"],[0.4444444444444444,\"#bd3786\"],[0.5555555555555556,\"#d8576b\"],[0.6666666666666666,\"#ed7953\"],[0.7777777777777778,\"#fb9f3a\"],[0.8888888888888888,\"#fdca26\"],[1.0,\"#f0f921\"]],\"type\":\"surface\"}],\"table\":[{\"cells\":{\"fill\":{\"color\":\"#EBF0F8\"},\"line\":{\"color\":\"white\"}},\"header\":{\"fill\":{\"color\":\"#C8D4E3\"},\"line\":{\"color\":\"white\"}},\"type\":\"table\"}]},\"layout\":{\"annotationdefaults\":{\"arrowcolor\":\"#2a3f5f\",\"arrowhead\":0,\"arrowwidth\":1},\"autotypenumbers\":\"strict\",\"coloraxis\":{\"colorbar\":{\"outlinewidth\":0,\"ticks\":\"\"}},\"colorscale\":{\"diverging\":[[0,\"#8e0152\"],[0.1,\"#c51b7d\"],[0.2,\"#de77ae\"],[0.3,\"#f1b6da\"],[0.4,\"#fde0ef\"],[0.5,\"#f7f7f7\"],[0.6,\"#e6f5d0\"],[0.7,\"#b8e186\"],[0.8,\"#7fbc41\"],[0.9,\"#4d9221\"],[1,\"#276419\"]],\"sequential\":[[0.0,\"#0d0887\"],[0.1111111111111111,\"#46039f\"],[0.2222222222222222,\"#7201a8\"],[0.3333333333333333,\"#9c179e\"],[0.4444444444444444,\"#bd3786\"],[0.5555555555555556,\"#d8576b\"],[0.6666666666666666,\"#ed7953\"],[0.7777777777777778,\"#fb9f3a\"],[0.8888888888888888,\"#fdca26\"],[1.0,\"#f0f921\"]],\"sequentialminus\":[[0.0,\"#0d0887\"],[0.1111111111111111,\"#46039f\"],[0.2222222222222222,\"#7201a8\"],[0.3333333333333333,\"#9c179e\"],[0.4444444444444444,\"#bd3786\"],[0.5555555555555556,\"#d8576b\"],[0.6666666666666666,\"#ed7953\"],[0.7777777777777778,\"#fb9f3a\"],[0.8888888888888888,\"#fdca26\"],[1.0,\"#f0f921\"]]},\"colorway\":[\"#636efa\",\"#EF553B\",\"#00cc96\",\"#ab63fa\",\"#FFA15A\",\"#19d3f3\",\"#FF6692\",\"#B6E880\",\"#FF97FF\",\"#FECB52\"],\"font\":{\"color\":\"#2a3f5f\"},\"geo\":{\"bgcolor\":\"white\",\"lakecolor\":\"white\",\"landcolor\":\"#E5ECF6\",\"showlakes\":true,\"showland\":true,\"subunitcolor\":\"white\"},\"hoverlabel\":{\"align\":\"left\"},\"hovermode\":\"closest\",\"mapbox\":{\"style\":\"light\"},\"paper_bgcolor\":\"white\",\"plot_bgcolor\":\"#E5ECF6\",\"polar\":{\"angularaxis\":{\"gridcolor\":\"white\",\"linecolor\":\"white\",\"ticks\":\"\"},\"bgcolor\":\"#E5ECF6\",\"radialaxis\":{\"gridcolor\":\"white\",\"linecolor\":\"white\",\"ticks\":\"\"}},\"scene\":{\"xaxis\":{\"backgroundcolor\":\"#E5ECF6\",\"gridcolor\":\"white\",\"gridwidth\":2,\"linecolor\":\"white\",\"showbackground\":true,\"ticks\":\"\",\"zerolinecolor\":\"white\"},\"yaxis\":{\"backgroundcolor\":\"#E5ECF6\",\"gridcolor\":\"white\",\"gridwidth\":2,\"linecolor\":\"white\",\"showbackground\":true,\"ticks\":\"\",\"zerolinecolor\":\"white\"},\"zaxis\":{\"backgroundcolor\":\"#E5ECF6\",\"gridcolor\":\"white\",\"gridwidth\":2,\"linecolor\":\"white\",\"showbackground\":true,\"ticks\":\"\",\"zerolinecolor\":\"white\"}},\"shapedefaults\":{\"line\":{\"color\":\"#2a3f5f\"}},\"ternary\":{\"aaxis\":{\"gridcolor\":\"white\",\"linecolor\":\"white\",\"ticks\":\"\"},\"baxis\":{\"gridcolor\":\"white\",\"linecolor\":\"white\",\"ticks\":\"\"},\"bgcolor\":\"#E5ECF6\",\"caxis\":{\"gridcolor\":\"white\",\"linecolor\":\"white\",\"ticks\":\"\"}},\"title\":{\"x\":0.05},\"xaxis\":{\"automargin\":true,\"gridcolor\":\"white\",\"linecolor\":\"white\",\"ticks\":\"\",\"title\":{\"standoff\":15},\"zerolinecolor\":\"white\",\"zerolinewidth\":2},\"yaxis\":{\"automargin\":true,\"gridcolor\":\"white\",\"linecolor\":\"white\",\"ticks\":\"\",\"title\":{\"standoff\":15},\"zerolinecolor\":\"white\",\"zerolinewidth\":2}}},\"xaxis\":{\"anchor\":\"y\",\"domain\":[0.0,1.0],\"title\":{\"text\":\"County\"}},\"yaxis\":{\"anchor\":\"x\",\"domain\":[0.0,1.0],\"title\":{\"text\":\"%\"}},\"legend\":{\"tracegroupgap\":0},\"title\":{\"text\":\"Pertage votes for democrats for the top countys\"},\"barmode\":\"relative\",\"shapes\":[{\"line\":{\"color\":\"green\",\"dash\":\"dash\",\"width\":3},\"type\":\"line\",\"x0\":0,\"x1\":1,\"xref\":\"x domain\",\"y0\":50,\"y1\":50,\"yref\":\"y\"}],\"annotations\":[{\"showarrow\":false,\"text\":\"50%\",\"x\":1,\"xanchor\":\"right\",\"xref\":\"x domain\",\"y\":50,\"yanchor\":\"top\",\"yref\":\"y\"}]},                        {\"responsive\": true}                    ).then(function(){\n",
       "                            \n",
       "var gd = document.getElementById('36a11cfd-504e-407c-82a6-5ce75e2a95e8');\n",
       "var x = new MutationObserver(function (mutations, observer) {{\n",
       "        var display = window.getComputedStyle(gd).display;\n",
       "        if (!display || display === 'none') {{\n",
       "            console.log([gd, 'removed!']);\n",
       "            Plotly.purge(gd);\n",
       "            observer.disconnect();\n",
       "        }}\n",
       "}});\n",
       "\n",
       "// Listen for the removal of the full notebook cells\n",
       "var notebookContainer = gd.closest('#notebook-container');\n",
       "if (notebookContainer) {{\n",
       "    x.observe(notebookContainer, {childList: true});\n",
       "}}\n",
       "\n",
       "// Listen for the clearing of the current output cell\n",
       "var outputEl = gd.closest('.output');\n",
       "if (outputEl) {{\n",
       "    x.observe(outputEl, {childList: true});\n",
       "}}\n",
       "\n",
       "                        })                };                });            </script>        </div>"
      ]
     },
     "metadata": {},
     "output_type": "display_data"
    }
   ],
   "source": [
    "\n",
    "fig = px.bar(top_countys.reset_index(),x=\"county_name\", y=\"Democrats\",\n",
    "             title=\"Pertage votes for democrats for the top countys\", \n",
    "             labels={\"Democrats\": \"%\",\n",
    "                    \"county_name\": \"County\"\n",
    "                    }\n",
    "                     )\n",
    "fig.add_hline(y=50, line_width=3, line_dash=\"dash\", line_color=\"green\",\n",
    "              annotation_text=\"50%\", \n",
    "              annotation_position=\"bottom right\")\n",
    "fig"
   ]
  },
  {
   "cell_type": "code",
   "execution_count": 86,
   "metadata": {},
   "outputs": [],
   "source": [
    "# import plotly.graph_objects as go\n",
    "\n",
    "# fig = go.Figure()\n",
    "\n",
    "# for col in df:\n",
    "#     fig.add_trace(go.Box(y=df_top_10_states[per_dem].values, name=df_top_10_states[col].name))\n",
    "  \n",
    "# fig.show()"
   ]
  },
  {
   "cell_type": "code",
   "execution_count": null,
   "metadata": {},
   "outputs": [],
   "source": [
    "# next: explorer les fichiers des explicatives et croisser avec y"
   ]
  }
 ],
 "metadata": {
  "kernelspec": {
   "display_name": "Python 3",
   "language": "python",
   "name": "python3"
  },
  "language_info": {
   "codemirror_mode": {
    "name": "ipython",
    "version": 3
   },
   "file_extension": ".py",
   "mimetype": "text/x-python",
   "name": "python",
   "nbconvert_exporter": "python",
   "pygments_lexer": "ipython3",
   "version": "3.9.12"
  },
  "vscode": {
   "interpreter": {
    "hash": "3fa046f995eb80ac40c0869a1f9df46519f4ada8b8c395ef25dd1aa1a1a2fc63"
   }
  }
 },
 "nbformat": 4,
 "nbformat_minor": 2
}
