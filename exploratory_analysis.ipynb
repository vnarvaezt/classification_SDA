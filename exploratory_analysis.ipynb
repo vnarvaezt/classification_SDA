{
 "cells": [
  {
   "cell_type": "code",
   "execution_count": 63,
   "metadata": {},
   "outputs": [],
   "source": [
    "import pandas as pd\n",
    "import numpy as np\n",
    "import os\n",
    "import plotly.express as px\n",
    "import re\n",
    "import matplotlib.pyplot as plt\n",
    "import seaborn as sns"
   ]
  },
  {
   "cell_type": "markdown",
   "metadata": {},
   "source": [
    "# Read data"
   ]
  },
  {
   "cell_type": "code",
   "execution_count": 2,
   "metadata": {},
   "outputs": [
    {
     "data": {
      "text/plain": [
       "'C:\\\\Users\\\\vnarv\\\\PycharmProjects\\\\scoring_SDA'"
      ]
     },
     "execution_count": 2,
     "metadata": {},
     "output_type": "execute_result"
    }
   ],
   "source": [
    "os.getcwd()"
   ]
  },
  {
   "cell_type": "code",
   "execution_count": 3,
   "metadata": {},
   "outputs": [
    {
     "name": "stdout",
     "output_type": "stream",
     "text": [
      "['2020_US_County_Level_Presidential_Results.csv', 'Education.xls', 'PopulationEstimates.xls', 'PovertyEstimates.xls', 'Unemployment.xls', 'US_County_Level_Presidential_Results_08-16.csv']\n"
     ]
    }
   ],
   "source": [
    "\n",
    "# folder path\n",
    "dir_path = \"C://Users//vnarv//PycharmProjects//scoring_SDA/data/\"\n",
    "#dir_path = \"/home/onyxia/scoring_SDA/\"\n",
    "\n",
    "# list to store files\n",
    "res = []\n",
    "\n",
    "# Iterate directory\n",
    "for path in os.listdir(dir_path):\n",
    "    # check if current path is a file\n",
    "    if os.path.isfile(os.path.join(dir_path, path)):\n",
    "        res.append(path)\n",
    "print(res)"
   ]
  },
  {
   "cell_type": "markdown",
   "metadata": {},
   "source": [
    "# Explore files "
   ]
  },
  {
   "cell_type": "code",
   "execution_count": 5,
   "metadata": {},
   "outputs": [],
   "source": [
    "def check_nan(data):\n",
    "    nb_lines = data.shape[0]\n",
    "    nb_columns = data.shape[1]\n",
    "\n",
    "    nb_nan = data.isna().sum() / nb_lines\n",
    "    part_nan = nb_nan[nb_nan>0]\n",
    "    \n",
    "    r = \"\"\n",
    "    if not part_nan.empty:\n",
    "        r += \"There are features with NAN values :\\n\"\n",
    "        r += f\"Number of features with NAN = {len(part_nan.keys())}\\n\"\n",
    "        r += f\"Number of values with NAN = {sum(data.isna().sum())}\\n\"\n",
    "        r += \"=\" * 88 + \"\\n\"\n",
    "        r += \"[Feature] <--- has empty values ---> [percentage of empty values]\\n\"\n",
    "        r += \"=\" * 88 + \"\\n\"\n",
    "        for feat, pct_f in part_nan.items():\n",
    "            r += f\"{feat:30s}  <--->  {pct_f:.2%}\\n\"\n",
    "        r += \"=\" * 88 + \"\\n\"\n",
    "    else:\n",
    "        r += \"There are none features with NAN values\\n\"\n",
    "    print(\"\\n\\n%s\" % r)\n",
    "    \n",
    "def check_duplicates(data, keys):\n",
    "    df_dup = data[data.duplicated(subset=keys, keep=False)]\n",
    "    r = \"\"\n",
    "    if not df_dup.empty:\n",
    "        r += f\"There are duplicates based on keys : {keys}\\n\"\n",
    "        display(df_dup.head())\n",
    "    else:\n",
    "        r += f\"There none duplicates based on keys {keys}\\n\"\n",
    "        \n",
    "    print(\"\\n%s\" % r)"
   ]
  },
  {
   "cell_type": "code",
   "execution_count": 6,
   "metadata": {},
   "outputs": [
    {
     "name": "stdout",
     "output_type": "stream",
     "text": [
      "\n",
      "========== File name 2020_US_County_Level_Presidential_Results.csv\n",
      "\n"
     ]
    },
    {
     "data": {
      "text/html": [
       "<div>\n",
       "<style scoped>\n",
       "    .dataframe tbody tr th:only-of-type {\n",
       "        vertical-align: middle;\n",
       "    }\n",
       "\n",
       "    .dataframe tbody tr th {\n",
       "        vertical-align: top;\n",
       "    }\n",
       "\n",
       "    .dataframe thead th {\n",
       "        text-align: right;\n",
       "    }\n",
       "</style>\n",
       "<table border=\"1\" class=\"dataframe\">\n",
       "  <thead>\n",
       "    <tr style=\"text-align: right;\">\n",
       "      <th></th>\n",
       "      <th>state_name</th>\n",
       "      <th>county_fips</th>\n",
       "      <th>county_name</th>\n",
       "      <th>votes_gop</th>\n",
       "      <th>votes_dem</th>\n",
       "      <th>total_votes</th>\n",
       "      <th>diff</th>\n",
       "      <th>per_gop</th>\n",
       "      <th>per_dem</th>\n",
       "      <th>per_point_diff</th>\n",
       "    </tr>\n",
       "  </thead>\n",
       "  <tbody>\n",
       "    <tr>\n",
       "      <th>0</th>\n",
       "      <td>Alabama</td>\n",
       "      <td>1001</td>\n",
       "      <td>Autauga County</td>\n",
       "      <td>19838</td>\n",
       "      <td>7503</td>\n",
       "      <td>27770</td>\n",
       "      <td>12335</td>\n",
       "      <td>0.714368</td>\n",
       "      <td>0.270184</td>\n",
       "      <td>0.444184</td>\n",
       "    </tr>\n",
       "    <tr>\n",
       "      <th>1</th>\n",
       "      <td>Alabama</td>\n",
       "      <td>1003</td>\n",
       "      <td>Baldwin County</td>\n",
       "      <td>83544</td>\n",
       "      <td>24578</td>\n",
       "      <td>109679</td>\n",
       "      <td>58966</td>\n",
       "      <td>0.761714</td>\n",
       "      <td>0.224090</td>\n",
       "      <td>0.537623</td>\n",
       "    </tr>\n",
       "    <tr>\n",
       "      <th>2</th>\n",
       "      <td>Alabama</td>\n",
       "      <td>1005</td>\n",
       "      <td>Barbour County</td>\n",
       "      <td>5622</td>\n",
       "      <td>4816</td>\n",
       "      <td>10518</td>\n",
       "      <td>806</td>\n",
       "      <td>0.534512</td>\n",
       "      <td>0.457882</td>\n",
       "      <td>0.076631</td>\n",
       "    </tr>\n",
       "    <tr>\n",
       "      <th>3</th>\n",
       "      <td>Alabama</td>\n",
       "      <td>1007</td>\n",
       "      <td>Bibb County</td>\n",
       "      <td>7525</td>\n",
       "      <td>1986</td>\n",
       "      <td>9595</td>\n",
       "      <td>5539</td>\n",
       "      <td>0.784263</td>\n",
       "      <td>0.206983</td>\n",
       "      <td>0.577280</td>\n",
       "    </tr>\n",
       "    <tr>\n",
       "      <th>4</th>\n",
       "      <td>Alabama</td>\n",
       "      <td>1009</td>\n",
       "      <td>Blount County</td>\n",
       "      <td>24711</td>\n",
       "      <td>2640</td>\n",
       "      <td>27588</td>\n",
       "      <td>22071</td>\n",
       "      <td>0.895716</td>\n",
       "      <td>0.095694</td>\n",
       "      <td>0.800022</td>\n",
       "    </tr>\n",
       "  </tbody>\n",
       "</table>\n",
       "</div>"
      ],
      "text/plain": [
       "  state_name  county_fips     county_name  votes_gop  votes_dem  total_votes  \\\n",
       "0    Alabama         1001  Autauga County      19838       7503        27770   \n",
       "1    Alabama         1003  Baldwin County      83544      24578       109679   \n",
       "2    Alabama         1005  Barbour County       5622       4816        10518   \n",
       "3    Alabama         1007     Bibb County       7525       1986         9595   \n",
       "4    Alabama         1009   Blount County      24711       2640        27588   \n",
       "\n",
       "    diff   per_gop   per_dem  per_point_diff  \n",
       "0  12335  0.714368  0.270184        0.444184  \n",
       "1  58966  0.761714  0.224090        0.537623  \n",
       "2    806  0.534512  0.457882        0.076631  \n",
       "3   5539  0.784263  0.206983        0.577280  \n",
       "4  22071  0.895716  0.095694        0.800022  "
      ]
     },
     "metadata": {},
     "output_type": "display_data"
    },
    {
     "name": "stdout",
     "output_type": "stream",
     "text": [
      "Index(['state_name', 'county_fips', 'county_name', 'votes_gop', 'votes_dem',\n",
      "       'total_votes', 'diff', 'per_gop', 'per_dem', 'per_point_diff'],\n",
      "      dtype='object')\n",
      "\n",
      "\n",
      "There are none features with NAN values\n",
      "\n",
      "\n",
      "========== File name Education.xls\n",
      "\n",
      "Educational attainment for adults age 25 and older for the U.S., States, and counties, 1970-2019\n",
      "\n",
      "\n",
      "There are features with NAN values :\n",
      "Number of features with NAN = 44\n",
      "Number of values with NAN = 1417\n",
      "========================================================================================\n",
      "[Feature] <--- has empty values ---> [percentage of empty values]\n",
      "========================================================================================\n",
      "2003 Rural-urban Continuum Code  <--->  1.89%\n",
      "2003 Urban Influence Code       <--->  1.89%\n",
      "2013 Rural-urban Continuum Code  <--->  1.89%\n",
      "2013 Urban Influence Code       <--->  1.89%\n",
      "Less than a high school diploma, 1970  <--->  2.95%\n",
      "High school diploma only, 1970  <--->  2.95%\n",
      "Some college (1-3 years), 1970  <--->  2.95%\n",
      "Four years of college or higher, 1970  <--->  2.95%\n",
      "Percent of adults with less than a high school diploma, 1970  <--->  2.95%\n",
      "Percent of adults with a high school diploma only, 1970  <--->  2.95%\n",
      "Percent of adults completing some college (1-3 years), 1970  <--->  2.95%\n",
      "Percent of adults completing four years of college or higher, 1970  <--->  2.95%\n",
      "Less than a high school diploma, 1980  <--->  0.49%\n",
      "High school diploma only, 1980  <--->  0.49%\n",
      "Some college (1-3 years), 1980  <--->  0.49%\n",
      "Four years of college or higher, 1980  <--->  0.49%\n",
      "Percent of adults with less than a high school diploma, 1980  <--->  0.49%\n",
      "Percent of adults with a high school diploma only, 1980  <--->  0.49%\n",
      "Percent of adults completing some college (1-3 years), 1980  <--->  0.49%\n",
      "Percent of adults completing four years of college or higher, 1980  <--->  0.49%\n",
      "Less than a high school diploma, 1990  <--->  0.37%\n",
      "High school diploma only, 1990  <--->  0.37%\n",
      "Some college or associate's degree, 1990  <--->  0.37%\n",
      "Bachelor's degree or higher, 1990  <--->  0.37%\n",
      "Percent of adults with less than a high school diploma, 1990  <--->  0.37%\n",
      "Percent of adults with a high school diploma only, 1990  <--->  0.37%\n",
      "Percent of adults completing some college or associate's degree, 1990  <--->  0.40%\n",
      "Percent of adults with a bachelor's degree or higher, 1990  <--->  0.37%\n",
      "Less than a high school diploma, 2000  <--->  0.34%\n",
      "High school diploma only, 2000  <--->  0.34%\n",
      "Some college or associate's degree, 2000  <--->  0.34%\n",
      "Bachelor's degree or higher, 2000  <--->  0.34%\n",
      "Percent of adults with less than a high school diploma, 2000  <--->  0.34%\n",
      "Percent of adults with a high school diploma only, 2000  <--->  0.34%\n",
      "Percent of adults completing some college or associate's degree, 2000  <--->  0.34%\n",
      "Percent of adults with a bachelor's degree or higher, 2000  <--->  0.34%\n",
      "Less than a high school diploma, 2015-19  <--->  0.30%\n",
      "High school diploma only, 2015-19  <--->  0.30%\n",
      "Some college or associate's degree, 2015-19  <--->  0.30%\n",
      "Bachelor's degree or higher, 2015-19  <--->  0.30%\n",
      "Percent of adults with less than a high school diploma, 2015-19  <--->  0.30%\n",
      "Percent of adults with a high school diploma only, 2015-19  <--->  0.30%\n",
      "Percent of adults completing some college or associate's degree, 2015-19  <--->  0.30%\n",
      "Percent of adults with a bachelor's degree or higher, 2015-19  <--->  0.30%\n",
      "========================================================================================\n",
      "\n",
      "\n",
      "========== File name PopulationEstimates.xls\n",
      "\n",
      "Population estimates for the U.S., States, and counties, 2010-19 (see the second tab in this workbook for variable name descriptions)\n",
      "\n",
      "\n",
      "There are features with NAN values :\n",
      "Number of features with NAN = 150\n",
      "Number of values with NAN = 11862\n",
      "========================================================================================\n",
      "[Feature] <--- has empty values ---> [percentage of empty values]\n",
      "========================================================================================\n",
      "Rural-urban_Continuum Code_2003  <--->  1.77%\n",
      "Rural-urban_Continuum Code_2013  <--->  1.62%\n",
      "Urban_Influence_Code_2003       <--->  1.77%\n",
      "Urban_Influence_Code_2013       <--->  1.62%\n",
      "Economic_typology_2015          <--->  4.00%\n",
      "N_POP_CHG_2010                  <--->  2.41%\n",
      "N_POP_CHG_2011                  <--->  2.41%\n",
      "N_POP_CHG_2012                  <--->  2.41%\n",
      "N_POP_CHG_2013                  <--->  2.41%\n",
      "N_POP_CHG_2014                  <--->  2.41%\n",
      "N_POP_CHG_2015                  <--->  2.41%\n",
      "N_POP_CHG_2016                  <--->  2.41%\n",
      "N_POP_CHG_2017                  <--->  2.41%\n",
      "N_POP_CHG_2018                  <--->  2.41%\n",
      "N_POP_CHG_2019                  <--->  2.41%\n",
      "Births_2010                     <--->  2.41%\n",
      "Births_2011                     <--->  2.41%\n",
      "Births_2012                     <--->  2.41%\n",
      "Births_2013                     <--->  2.41%\n",
      "Births_2014                     <--->  2.41%\n",
      "Births_2015                     <--->  2.41%\n",
      "Births_2016                     <--->  2.41%\n",
      "Births_2017                     <--->  2.41%\n",
      "Births_2018                     <--->  2.41%\n",
      "Births_2019                     <--->  2.41%\n",
      "Deaths_2010                     <--->  2.41%\n",
      "Deaths_2011                     <--->  2.41%\n",
      "Deaths_2012                     <--->  2.41%\n",
      "Deaths_2013                     <--->  2.41%\n",
      "Deaths_2014                     <--->  2.41%\n",
      "Deaths_2015                     <--->  2.41%\n",
      "Deaths_2016                     <--->  2.41%\n",
      "Deaths_2017                     <--->  2.41%\n",
      "Deaths_2018                     <--->  2.41%\n",
      "Deaths_2019                     <--->  2.41%\n",
      "NATURAL_INC_2010                <--->  2.41%\n",
      "NATURAL_INC_2011                <--->  2.41%\n",
      "NATURAL_INC_2012                <--->  2.41%\n",
      "NATURAL_INC_2013                <--->  2.41%\n",
      "NATURAL_INC_2014                <--->  2.41%\n",
      "NATURAL_INC_2015                <--->  2.41%\n",
      "NATURAL_INC_2016                <--->  2.41%\n",
      "NATURAL_INC_2017                <--->  2.41%\n",
      "NATURAL_INC_2018                <--->  2.41%\n",
      "NATURAL_INC_2019                <--->  2.41%\n",
      "INTERNATIONAL_MIG_2010          <--->  2.41%\n",
      "INTERNATIONAL_MIG_2011          <--->  2.41%\n",
      "INTERNATIONAL_MIG_2012          <--->  2.41%\n",
      "INTERNATIONAL_MIG_2013          <--->  2.41%\n",
      "INTERNATIONAL_MIG_2014          <--->  2.41%\n",
      "INTERNATIONAL_MIG_2015          <--->  2.41%\n",
      "INTERNATIONAL_MIG_2016          <--->  2.41%\n",
      "INTERNATIONAL_MIG_2017          <--->  2.41%\n",
      "INTERNATIONAL_MIG_2018          <--->  2.41%\n",
      "INTERNATIONAL_MIG_2019          <--->  2.41%\n",
      "DOMESTIC_MIG_2010               <--->  2.41%\n",
      "DOMESTIC_MIG_2011               <--->  2.41%\n",
      "DOMESTIC_MIG_2012               <--->  2.41%\n",
      "DOMESTIC_MIG_2013               <--->  2.41%\n",
      "DOMESTIC_MIG_2014               <--->  2.41%\n",
      "DOMESTIC_MIG_2015               <--->  2.41%\n",
      "DOMESTIC_MIG_2016               <--->  2.41%\n",
      "DOMESTIC_MIG_2017               <--->  2.41%\n",
      "DOMESTIC_MIG_2018               <--->  2.41%\n",
      "DOMESTIC_MIG_2019               <--->  2.41%\n",
      "NET_MIG_2010                    <--->  2.41%\n",
      "NET_MIG_2011                    <--->  2.41%\n",
      "NET_MIG_2012                    <--->  2.41%\n",
      "NET_MIG_2013                    <--->  2.41%\n",
      "NET_MIG_2014                    <--->  2.41%\n",
      "NET_MIG_2015                    <--->  2.41%\n",
      "NET_MIG_2016                    <--->  2.41%\n",
      "NET_MIG_2017                    <--->  2.41%\n",
      "NET_MIG_2018                    <--->  2.41%\n",
      "NET_MIG_2019                    <--->  2.41%\n",
      "RESIDUAL_2010                   <--->  2.41%\n",
      "RESIDUAL_2011                   <--->  2.41%\n",
      "RESIDUAL_2012                   <--->  2.41%\n",
      "RESIDUAL_2013                   <--->  2.41%\n",
      "RESIDUAL_2014                   <--->  2.41%\n",
      "RESIDUAL_2015                   <--->  2.41%\n",
      "RESIDUAL_2016                   <--->  2.41%\n",
      "RESIDUAL_2017                   <--->  2.41%\n",
      "RESIDUAL_2018                   <--->  2.41%\n",
      "RESIDUAL_2019                   <--->  2.41%\n",
      "GQ_ESTIMATES_BASE_2010          <--->  2.41%\n",
      "GQ_ESTIMATES_2010               <--->  2.41%\n",
      "GQ_ESTIMATES_2011               <--->  2.41%\n",
      "GQ_ESTIMATES_2012               <--->  2.41%\n",
      "GQ_ESTIMATES_2013               <--->  2.41%\n",
      "GQ_ESTIMATES_2014               <--->  2.41%\n",
      "GQ_ESTIMATES_2015               <--->  2.41%\n",
      "GQ_ESTIMATES_2016               <--->  2.41%\n",
      "GQ_ESTIMATES_2017               <--->  2.41%\n",
      "GQ_ESTIMATES_2018               <--->  2.41%\n",
      "GQ_ESTIMATES_2019               <--->  2.41%\n",
      "R_birth_2011                    <--->  2.44%\n",
      "R_birth_2012                    <--->  2.44%\n",
      "R_birth_2013                    <--->  2.44%\n",
      "R_birth_2014                    <--->  2.44%\n",
      "R_birth_2015                    <--->  2.44%\n",
      "R_birth_2016                    <--->  2.44%\n",
      "R_birth_2017                    <--->  2.44%\n",
      "R_birth_2018                    <--->  2.44%\n",
      "R_birth_2019                    <--->  2.44%\n",
      "R_death_2011                    <--->  2.44%\n",
      "R_death_2012                    <--->  2.44%\n",
      "R_death_2013                    <--->  2.44%\n",
      "R_death_2014                    <--->  2.44%\n",
      "R_death_2015                    <--->  2.44%\n",
      "R_death_2016                    <--->  2.44%\n",
      "R_death_2017                    <--->  2.44%\n",
      "R_death_2018                    <--->  2.44%\n",
      "R_death_2019                    <--->  2.44%\n",
      "R_NATURAL_INC_2011              <--->  2.44%\n",
      "R_NATURAL_INC_2012              <--->  2.44%\n",
      "R_NATURAL_INC_2013              <--->  2.44%\n",
      "R_NATURAL_INC_2014              <--->  2.44%\n",
      "R_NATURAL_INC_2015              <--->  2.44%\n",
      "R_NATURAL_INC_2016              <--->  2.44%\n",
      "R_NATURAL_INC_2017              <--->  2.44%\n",
      "R_NATURAL_INC_2018              <--->  2.44%\n",
      "R_NATURAL_INC_2019              <--->  2.44%\n",
      "R_INTERNATIONAL_MIG_2011        <--->  2.44%\n",
      "R_INTERNATIONAL_MIG_2012        <--->  2.44%\n",
      "R_INTERNATIONAL_MIG_2013        <--->  2.44%\n",
      "R_INTERNATIONAL_MIG_2014        <--->  2.44%\n",
      "R_INTERNATIONAL_MIG_2015        <--->  2.44%\n",
      "R_INTERNATIONAL_MIG_2016        <--->  2.44%\n",
      "R_INTERNATIONAL_MIG_2017        <--->  2.44%\n",
      "R_INTERNATIONAL_MIG_2018        <--->  2.44%\n",
      "R_INTERNATIONAL_MIG_2019        <--->  2.44%\n",
      "R_DOMESTIC_MIG_2011             <--->  2.44%\n",
      "R_DOMESTIC_MIG_2012             <--->  2.44%\n",
      "R_DOMESTIC_MIG_2013             <--->  2.44%\n",
      "R_DOMESTIC_MIG_2014             <--->  2.44%\n",
      "R_DOMESTIC_MIG_2015             <--->  2.44%\n",
      "R_DOMESTIC_MIG_2016             <--->  2.44%\n",
      "R_DOMESTIC_MIG_2017             <--->  2.44%\n",
      "R_DOMESTIC_MIG_2018             <--->  2.44%\n",
      "R_DOMESTIC_MIG_2019             <--->  2.44%\n",
      "R_NET_MIG_2011                  <--->  2.44%\n",
      "R_NET_MIG_2012                  <--->  2.44%\n",
      "R_NET_MIG_2013                  <--->  2.44%\n",
      "R_NET_MIG_2014                  <--->  2.44%\n",
      "R_NET_MIG_2015                  <--->  2.44%\n",
      "R_NET_MIG_2016                  <--->  2.44%\n",
      "R_NET_MIG_2017                  <--->  2.44%\n",
      "R_NET_MIG_2018                  <--->  2.44%\n",
      "R_NET_MIG_2019                  <--->  2.44%\n",
      "========================================================================================\n",
      "\n"
     ]
    },
    {
     "name": "stdout",
     "output_type": "stream",
     "text": [
      "\n",
      "========== File name PovertyEstimates.xls\n",
      "\n",
      "Poverty estimates for the U.S., States, and counties, 2019\n",
      "\n",
      "\n",
      "There are features with NAN values :\n",
      "Number of features with NAN = 10\n",
      "Number of values with NAN = 19064\n",
      "========================================================================================\n",
      "[Feature] <--- has empty values ---> [percentage of empty values]\n",
      "========================================================================================\n",
      "Rural-urban_Continuum_Code_2003  <--->  1.79%\n",
      "Urban_Influence_Code_2003       <--->  1.79%\n",
      "Rural-urban_Continuum_Code_2013  <--->  1.63%\n",
      "Urban_Influence_Code_2013       <--->  1.63%\n",
      "POV04_2019                      <--->  98.37%\n",
      "CI90LB04_2019                   <--->  98.37%\n",
      "CI90UB04_2019                   <--->  98.37%\n",
      "PCTPOV04_2019                   <--->  98.37%\n",
      "CI90LB04P_2019                  <--->  98.37%\n",
      "CI90UB04P_2019                  <--->  98.37%\n",
      "========================================================================================\n",
      "\n",
      "\n",
      "========== File name Unemployment.xls\n",
      "\n",
      "Unemployment and median household income for the U.S., States, and counties, 2000-19\n",
      "\n",
      "\n",
      "There are features with NAN values :\n",
      "Number of features with NAN = 85\n",
      "Number of values with NAN = 706\n",
      "========================================================================================\n",
      "[Feature] <--- has empty values ---> [percentage of empty values]\n",
      "========================================================================================\n",
      "Rural_urban_continuum_code_2013  <--->  1.71%\n",
      "Urban_influence_code_2013       <--->  1.71%\n",
      "Metro_2013                      <--->  1.62%\n",
      "Civilian_labor_force_2000       <--->  0.15%\n",
      "Employed_2000                   <--->  0.15%\n",
      "Unemployed_2000                 <--->  0.15%\n",
      "Unemployment_rate_2000          <--->  0.15%\n",
      "Civilian_labor_force_2001       <--->  0.15%\n",
      "Employed_2001                   <--->  0.15%\n",
      "Unemployed_2001                 <--->  0.15%\n",
      "Unemployment_rate_2001          <--->  0.15%\n",
      "Civilian_labor_force_2002       <--->  0.15%\n",
      "Employed_2002                   <--->  0.15%\n",
      "Unemployed_2002                 <--->  0.15%\n",
      "Unemployment_rate_2002          <--->  0.15%\n",
      "Civilian_labor_force_2003       <--->  0.15%\n",
      "Employed_2003                   <--->  0.15%\n",
      "Unemployed_2003                 <--->  0.15%\n",
      "Unemployment_rate_2003          <--->  0.15%\n",
      "Civilian_labor_force_2004       <--->  0.15%\n",
      "Employed_2004                   <--->  0.15%\n",
      "Unemployed_2004                 <--->  0.15%\n",
      "Unemployment_rate_2004          <--->  0.15%\n",
      "Civilian_labor_force_2005       <--->  0.37%\n",
      "Employed_2005                   <--->  0.37%\n",
      "Unemployed_2005                 <--->  0.37%\n",
      "Unemployment_rate_2005          <--->  0.37%\n",
      "Civilian_labor_force_2006       <--->  0.37%\n",
      "Employed_2006                   <--->  0.37%\n",
      "Unemployed_2006                 <--->  0.37%\n",
      "Unemployment_rate_2006          <--->  0.37%\n",
      "Civilian_labor_force_2007       <--->  0.15%\n",
      "Employed_2007                   <--->  0.15%\n",
      "Unemployed_2007                 <--->  0.15%\n",
      "Unemployment_rate_2007          <--->  0.15%\n",
      "Civilian_labor_force_2008       <--->  0.15%\n",
      "Employed_2008                   <--->  0.15%\n",
      "Unemployed_2008                 <--->  0.15%\n",
      "Unemployment_rate_2008          <--->  0.15%\n",
      "Civilian_labor_force_2009       <--->  0.15%\n",
      "Employed_2009                   <--->  0.15%\n",
      "Unemployed_2009                 <--->  0.15%\n",
      "Unemployment_rate_2009          <--->  0.15%\n",
      "Civilian_labor_force_2010       <--->  0.09%\n",
      "Employed_2010                   <--->  0.09%\n",
      "Unemployed_2010                 <--->  0.09%\n",
      "Unemployment_rate_2010          <--->  0.09%\n",
      "Civilian_labor_force_2011       <--->  0.09%\n",
      "Employed_2011                   <--->  0.09%\n",
      "Unemployed_2011                 <--->  0.09%\n",
      "Unemployment_rate_2011          <--->  0.09%\n",
      "Civilian_labor_force_2012       <--->  0.09%\n",
      "Employed_2012                   <--->  0.09%\n",
      "Unemployed_2012                 <--->  0.09%\n",
      "Unemployment_rate_2012          <--->  0.09%\n",
      "Civilian_labor_force_2013       <--->  0.09%\n",
      "Employed_2013                   <--->  0.09%\n",
      "Unemployed_2013                 <--->  0.09%\n",
      "Unemployment_rate_2013          <--->  0.09%\n",
      "Civilian_labor_force_2014       <--->  0.09%\n",
      "Employed_2014                   <--->  0.09%\n",
      "Unemployed_2014                 <--->  0.09%\n",
      "Unemployment_rate_2014          <--->  0.09%\n",
      "Civilian_labor_force_2015       <--->  0.09%\n",
      "Employed_2015                   <--->  0.09%\n",
      "Unemployed_2015                 <--->  0.09%\n",
      "Unemployment_rate_2015          <--->  0.09%\n",
      "Civilian_labor_force_2016       <--->  0.09%\n",
      "Employed_2016                   <--->  0.09%\n",
      "Unemployed_2016                 <--->  0.09%\n",
      "Unemployment_rate_2016          <--->  0.09%\n",
      "Civilian_labor_force_2017       <--->  0.09%\n",
      "Employed_2017                   <--->  0.09%\n",
      "Unemployed_2017                 <--->  0.09%\n",
      "Unemployment_rate_2017          <--->  0.09%\n",
      "Civilian_labor_force_2018       <--->  0.09%\n",
      "Employed_2018                   <--->  0.09%\n",
      "Unemployed_2018                 <--->  0.09%\n",
      "Unemployment_rate_2018          <--->  0.09%\n",
      "Civilian_labor_force_2019       <--->  0.09%\n",
      "Employed_2019                   <--->  0.09%\n",
      "Unemployed_2019                 <--->  0.09%\n",
      "Unemployment_rate_2019          <--->  0.09%\n",
      "Median_Household_Income_2019    <--->  2.50%\n",
      "Med_HH_Income_Percent_of_State_Total_2019  <--->  2.53%\n",
      "========================================================================================\n",
      "\n",
      "\n",
      "========== File name US_County_Level_Presidential_Results_08-16.csv\n",
      "\n"
     ]
    },
    {
     "data": {
      "text/html": [
       "<div>\n",
       "<style scoped>\n",
       "    .dataframe tbody tr th:only-of-type {\n",
       "        vertical-align: middle;\n",
       "    }\n",
       "\n",
       "    .dataframe tbody tr th {\n",
       "        vertical-align: top;\n",
       "    }\n",
       "\n",
       "    .dataframe thead th {\n",
       "        text-align: right;\n",
       "    }\n",
       "</style>\n",
       "<table border=\"1\" class=\"dataframe\">\n",
       "  <thead>\n",
       "    <tr style=\"text-align: right;\">\n",
       "      <th></th>\n",
       "      <th>fips_code</th>\n",
       "      <th>county</th>\n",
       "      <th>total_2008</th>\n",
       "      <th>dem_2008</th>\n",
       "      <th>gop_2008</th>\n",
       "      <th>oth_2008</th>\n",
       "      <th>total_2012</th>\n",
       "      <th>dem_2012</th>\n",
       "      <th>gop_2012</th>\n",
       "      <th>oth_2012</th>\n",
       "      <th>total_2016</th>\n",
       "      <th>dem_2016</th>\n",
       "      <th>gop_2016</th>\n",
       "      <th>oth_2016</th>\n",
       "    </tr>\n",
       "  </thead>\n",
       "  <tbody>\n",
       "    <tr>\n",
       "      <th>0</th>\n",
       "      <td>26041</td>\n",
       "      <td>Delta County</td>\n",
       "      <td>19064</td>\n",
       "      <td>9974</td>\n",
       "      <td>8763</td>\n",
       "      <td>327</td>\n",
       "      <td>18043</td>\n",
       "      <td>8330</td>\n",
       "      <td>9533</td>\n",
       "      <td>180</td>\n",
       "      <td>18467</td>\n",
       "      <td>6431</td>\n",
       "      <td>11112</td>\n",
       "      <td>924</td>\n",
       "    </tr>\n",
       "    <tr>\n",
       "      <th>1</th>\n",
       "      <td>48295</td>\n",
       "      <td>Lipscomb County</td>\n",
       "      <td>1256</td>\n",
       "      <td>155</td>\n",
       "      <td>1093</td>\n",
       "      <td>8</td>\n",
       "      <td>1168</td>\n",
       "      <td>119</td>\n",
       "      <td>1044</td>\n",
       "      <td>5</td>\n",
       "      <td>1322</td>\n",
       "      <td>135</td>\n",
       "      <td>1159</td>\n",
       "      <td>28</td>\n",
       "    </tr>\n",
       "    <tr>\n",
       "      <th>2</th>\n",
       "      <td>1127</td>\n",
       "      <td>Walker County</td>\n",
       "      <td>28652</td>\n",
       "      <td>7420</td>\n",
       "      <td>20722</td>\n",
       "      <td>510</td>\n",
       "      <td>28497</td>\n",
       "      <td>6551</td>\n",
       "      <td>21633</td>\n",
       "      <td>313</td>\n",
       "      <td>29243</td>\n",
       "      <td>4486</td>\n",
       "      <td>24208</td>\n",
       "      <td>549</td>\n",
       "    </tr>\n",
       "    <tr>\n",
       "      <th>3</th>\n",
       "      <td>48389</td>\n",
       "      <td>Reeves County</td>\n",
       "      <td>3077</td>\n",
       "      <td>1606</td>\n",
       "      <td>1445</td>\n",
       "      <td>26</td>\n",
       "      <td>2867</td>\n",
       "      <td>1649</td>\n",
       "      <td>1185</td>\n",
       "      <td>33</td>\n",
       "      <td>3184</td>\n",
       "      <td>1659</td>\n",
       "      <td>1417</td>\n",
       "      <td>108</td>\n",
       "    </tr>\n",
       "    <tr>\n",
       "      <th>4</th>\n",
       "      <td>56017</td>\n",
       "      <td>Hot Springs County</td>\n",
       "      <td>2546</td>\n",
       "      <td>619</td>\n",
       "      <td>1834</td>\n",
       "      <td>93</td>\n",
       "      <td>2495</td>\n",
       "      <td>523</td>\n",
       "      <td>1894</td>\n",
       "      <td>78</td>\n",
       "      <td>2535</td>\n",
       "      <td>400</td>\n",
       "      <td>1939</td>\n",
       "      <td>196</td>\n",
       "    </tr>\n",
       "  </tbody>\n",
       "</table>\n",
       "</div>"
      ],
      "text/plain": [
       "   fips_code              county  total_2008  dem_2008  gop_2008  oth_2008  \\\n",
       "0      26041        Delta County       19064      9974      8763       327   \n",
       "1      48295     Lipscomb County        1256       155      1093         8   \n",
       "2       1127       Walker County       28652      7420     20722       510   \n",
       "3      48389       Reeves County        3077      1606      1445        26   \n",
       "4      56017  Hot Springs County        2546       619      1834        93   \n",
       "\n",
       "   total_2012  dem_2012  gop_2012  oth_2012  total_2016  dem_2016  gop_2016  \\\n",
       "0       18043      8330      9533       180       18467      6431     11112   \n",
       "1        1168       119      1044         5        1322       135      1159   \n",
       "2       28497      6551     21633       313       29243      4486     24208   \n",
       "3        2867      1649      1185        33        3184      1659      1417   \n",
       "4        2495       523      1894        78        2535       400      1939   \n",
       "\n",
       "   oth_2016  \n",
       "0       924  \n",
       "1        28  \n",
       "2       549  \n",
       "3       108  \n",
       "4       196  "
      ]
     },
     "metadata": {},
     "output_type": "display_data"
    },
    {
     "name": "stdout",
     "output_type": "stream",
     "text": [
      "Index(['fips_code', 'county', 'total_2008', 'dem_2008', 'gop_2008', 'oth_2008',\n",
      "       'total_2012', 'dem_2012', 'gop_2012', 'oth_2012', 'total_2016',\n",
      "       'dem_2016', 'gop_2016', 'oth_2016'],\n",
      "      dtype='object')\n",
      "\n",
      "\n",
      "There are none features with NAN values\n",
      "\n"
     ]
    }
   ],
   "source": [
    "for file in res:\n",
    "    if file.endswith(\".csv\"):\n",
    "        t = pd.read_csv(dir_path + file)\n",
    "        print(f\"\\n========== File name {file}\\n\")\n",
    "        display(t.head())\n",
    "        print(t.columns)\n",
    "        check_nan(t)\n",
    "\n",
    "    elif file.endswith(\".xls\"):\n",
    "        # read file\n",
    "        with open(dir_path + file, mode=\"rb\") as excel_file:\n",
    "            _excel_file = pd.read_excel(excel_file,)\n",
    "        print(f\"\\n========== File name {file}\\n\")\n",
    "        print(_excel_file.columns[0])\n",
    "        _excel_file.set_index(_excel_file.columns[0], inplace=True)\n",
    "        # drop nan\n",
    "        _excel_file = _excel_file.dropna(how=\"all\")\n",
    "        # set header\n",
    "        header_row = _excel_file.iloc[0]\n",
    "        df = pd.DataFrame(_excel_file.values[1:], columns=header_row)\n",
    "        check_nan(df)\n",
    "    else:\n",
    "        print(\"Check files in data folder\")"
   ]
  },
  {
   "cell_type": "markdown",
   "metadata": {},
   "source": [
    "### Target "
   ]
  },
  {
   "cell_type": "code",
   "execution_count": 15,
   "metadata": {},
   "outputs": [
    {
     "name": "stdout",
     "output_type": "stream",
     "text": [
      "Index(['state_name', 'county_fips', 'county_name', 'votes_gop', 'votes_dem',\n",
      "       'total_votes', 'diff', 'per_gop', 'per_dem', 'per_point_diff'],\n",
      "      dtype='object')\n",
      "\n",
      "\n",
      "There are none features with NAN values\n",
      "\n",
      "\n",
      "There none duplicates based on keys ['state_name', 'county_fips']\n",
      "\n"
     ]
    }
   ],
   "source": [
    "input_y = \"2020_US_County_Level_Presidential_Results.csv\"\n",
    "tmp = pd.read_csv(f\"{dir_path}{input_y}\")\n",
    "print(tmp.columns)\n",
    "check_nan(tmp)\n",
    "check_duplicates(tmp, [\"state_name\", \"county_fips\"])"
   ]
  },
  {
   "cell_type": "code",
   "execution_count": 86,
   "metadata": {},
   "outputs": [
    {
     "data": {
      "text/plain": [
       "votes_gop    74208196\n",
       "votes_dem    81264994\n",
       "dtype: int64"
      ]
     },
     "execution_count": 86,
     "metadata": {},
     "output_type": "execute_result"
    }
   ],
   "source": [
    "tmp[[\"votes_gop\", \"votes_dem\"]].apply(np.sum)"
   ]
  },
  {
   "cell_type": "code",
   "execution_count": null,
   "metadata": {},
   "outputs": [],
   "source": []
  },
  {
   "cell_type": "code",
   "execution_count": 17,
   "metadata": {},
   "outputs": [],
   "source": [
    "pct_votes_party = tmp[[\"votes_gop\", \"votes_dem\"]].apply(np.sum) / tmp[\"total_votes\"].sum()\n",
    "pct_votes_party = pct_votes_party*100"
   ]
  },
  {
   "cell_type": "code",
   "execution_count": 18,
   "metadata": {},
   "outputs": [
    {
     "data": {
      "application/vnd.plotly.v1+json": {
       "config": {
        "plotlyServerURL": "https://plot.ly"
       },
       "data": [
        {
         "alignmentgroup": "True",
         "hovertemplate": "Party=%{x}<br>%=%{y}<extra></extra>",
         "legendgroup": "votes_gop",
         "marker": {
          "color": "#636efa",
          "pattern": {
           "shape": ""
          }
         },
         "name": "votes_gop",
         "offsetgroup": "votes_gop",
         "orientation": "v",
         "showlegend": true,
         "textposition": "auto",
         "type": "bar",
         "x": [
          "votes_gop"
         ],
         "xaxis": "x",
         "y": [
          46.83868582209513
         ],
         "yaxis": "y"
        },
        {
         "alignmentgroup": "True",
         "hovertemplate": "Party=%{x}<br>%=%{y}<extra></extra>",
         "legendgroup": "votes_dem",
         "marker": {
          "color": "#EF553B",
          "pattern": {
           "shape": ""
          }
         },
         "name": "votes_dem",
         "offsetgroup": "votes_dem",
         "orientation": "v",
         "showlegend": true,
         "textposition": "auto",
         "type": "bar",
         "x": [
          "votes_dem"
         ],
         "xaxis": "x",
         "y": [
          51.29279146336404
         ],
         "yaxis": "y"
        }
       ],
       "layout": {
        "barmode": "relative",
        "height": 400,
        "legend": {
         "title": {
          "text": "Party"
         },
         "tracegroupgap": 0
        },
        "template": {
         "data": {
          "bar": [
           {
            "error_x": {
             "color": "#2a3f5f"
            },
            "error_y": {
             "color": "#2a3f5f"
            },
            "marker": {
             "line": {
              "color": "#E5ECF6",
              "width": 0.5
             },
             "pattern": {
              "fillmode": "overlay",
              "size": 10,
              "solidity": 0.2
             }
            },
            "type": "bar"
           }
          ],
          "barpolar": [
           {
            "marker": {
             "line": {
              "color": "#E5ECF6",
              "width": 0.5
             },
             "pattern": {
              "fillmode": "overlay",
              "size": 10,
              "solidity": 0.2
             }
            },
            "type": "barpolar"
           }
          ],
          "carpet": [
           {
            "aaxis": {
             "endlinecolor": "#2a3f5f",
             "gridcolor": "white",
             "linecolor": "white",
             "minorgridcolor": "white",
             "startlinecolor": "#2a3f5f"
            },
            "baxis": {
             "endlinecolor": "#2a3f5f",
             "gridcolor": "white",
             "linecolor": "white",
             "minorgridcolor": "white",
             "startlinecolor": "#2a3f5f"
            },
            "type": "carpet"
           }
          ],
          "choropleth": [
           {
            "colorbar": {
             "outlinewidth": 0,
             "ticks": ""
            },
            "type": "choropleth"
           }
          ],
          "contour": [
           {
            "colorbar": {
             "outlinewidth": 0,
             "ticks": ""
            },
            "colorscale": [
             [
              0,
              "#0d0887"
             ],
             [
              0.1111111111111111,
              "#46039f"
             ],
             [
              0.2222222222222222,
              "#7201a8"
             ],
             [
              0.3333333333333333,
              "#9c179e"
             ],
             [
              0.4444444444444444,
              "#bd3786"
             ],
             [
              0.5555555555555556,
              "#d8576b"
             ],
             [
              0.6666666666666666,
              "#ed7953"
             ],
             [
              0.7777777777777778,
              "#fb9f3a"
             ],
             [
              0.8888888888888888,
              "#fdca26"
             ],
             [
              1,
              "#f0f921"
             ]
            ],
            "type": "contour"
           }
          ],
          "contourcarpet": [
           {
            "colorbar": {
             "outlinewidth": 0,
             "ticks": ""
            },
            "type": "contourcarpet"
           }
          ],
          "heatmap": [
           {
            "colorbar": {
             "outlinewidth": 0,
             "ticks": ""
            },
            "colorscale": [
             [
              0,
              "#0d0887"
             ],
             [
              0.1111111111111111,
              "#46039f"
             ],
             [
              0.2222222222222222,
              "#7201a8"
             ],
             [
              0.3333333333333333,
              "#9c179e"
             ],
             [
              0.4444444444444444,
              "#bd3786"
             ],
             [
              0.5555555555555556,
              "#d8576b"
             ],
             [
              0.6666666666666666,
              "#ed7953"
             ],
             [
              0.7777777777777778,
              "#fb9f3a"
             ],
             [
              0.8888888888888888,
              "#fdca26"
             ],
             [
              1,
              "#f0f921"
             ]
            ],
            "type": "heatmap"
           }
          ],
          "heatmapgl": [
           {
            "colorbar": {
             "outlinewidth": 0,
             "ticks": ""
            },
            "colorscale": [
             [
              0,
              "#0d0887"
             ],
             [
              0.1111111111111111,
              "#46039f"
             ],
             [
              0.2222222222222222,
              "#7201a8"
             ],
             [
              0.3333333333333333,
              "#9c179e"
             ],
             [
              0.4444444444444444,
              "#bd3786"
             ],
             [
              0.5555555555555556,
              "#d8576b"
             ],
             [
              0.6666666666666666,
              "#ed7953"
             ],
             [
              0.7777777777777778,
              "#fb9f3a"
             ],
             [
              0.8888888888888888,
              "#fdca26"
             ],
             [
              1,
              "#f0f921"
             ]
            ],
            "type": "heatmapgl"
           }
          ],
          "histogram": [
           {
            "marker": {
             "pattern": {
              "fillmode": "overlay",
              "size": 10,
              "solidity": 0.2
             }
            },
            "type": "histogram"
           }
          ],
          "histogram2d": [
           {
            "colorbar": {
             "outlinewidth": 0,
             "ticks": ""
            },
            "colorscale": [
             [
              0,
              "#0d0887"
             ],
             [
              0.1111111111111111,
              "#46039f"
             ],
             [
              0.2222222222222222,
              "#7201a8"
             ],
             [
              0.3333333333333333,
              "#9c179e"
             ],
             [
              0.4444444444444444,
              "#bd3786"
             ],
             [
              0.5555555555555556,
              "#d8576b"
             ],
             [
              0.6666666666666666,
              "#ed7953"
             ],
             [
              0.7777777777777778,
              "#fb9f3a"
             ],
             [
              0.8888888888888888,
              "#fdca26"
             ],
             [
              1,
              "#f0f921"
             ]
            ],
            "type": "histogram2d"
           }
          ],
          "histogram2dcontour": [
           {
            "colorbar": {
             "outlinewidth": 0,
             "ticks": ""
            },
            "colorscale": [
             [
              0,
              "#0d0887"
             ],
             [
              0.1111111111111111,
              "#46039f"
             ],
             [
              0.2222222222222222,
              "#7201a8"
             ],
             [
              0.3333333333333333,
              "#9c179e"
             ],
             [
              0.4444444444444444,
              "#bd3786"
             ],
             [
              0.5555555555555556,
              "#d8576b"
             ],
             [
              0.6666666666666666,
              "#ed7953"
             ],
             [
              0.7777777777777778,
              "#fb9f3a"
             ],
             [
              0.8888888888888888,
              "#fdca26"
             ],
             [
              1,
              "#f0f921"
             ]
            ],
            "type": "histogram2dcontour"
           }
          ],
          "mesh3d": [
           {
            "colorbar": {
             "outlinewidth": 0,
             "ticks": ""
            },
            "type": "mesh3d"
           }
          ],
          "parcoords": [
           {
            "line": {
             "colorbar": {
              "outlinewidth": 0,
              "ticks": ""
             }
            },
            "type": "parcoords"
           }
          ],
          "pie": [
           {
            "automargin": true,
            "type": "pie"
           }
          ],
          "scatter": [
           {
            "marker": {
             "colorbar": {
              "outlinewidth": 0,
              "ticks": ""
             }
            },
            "type": "scatter"
           }
          ],
          "scatter3d": [
           {
            "line": {
             "colorbar": {
              "outlinewidth": 0,
              "ticks": ""
             }
            },
            "marker": {
             "colorbar": {
              "outlinewidth": 0,
              "ticks": ""
             }
            },
            "type": "scatter3d"
           }
          ],
          "scattercarpet": [
           {
            "marker": {
             "colorbar": {
              "outlinewidth": 0,
              "ticks": ""
             }
            },
            "type": "scattercarpet"
           }
          ],
          "scattergeo": [
           {
            "marker": {
             "colorbar": {
              "outlinewidth": 0,
              "ticks": ""
             }
            },
            "type": "scattergeo"
           }
          ],
          "scattergl": [
           {
            "marker": {
             "colorbar": {
              "outlinewidth": 0,
              "ticks": ""
             }
            },
            "type": "scattergl"
           }
          ],
          "scattermapbox": [
           {
            "marker": {
             "colorbar": {
              "outlinewidth": 0,
              "ticks": ""
             }
            },
            "type": "scattermapbox"
           }
          ],
          "scatterpolar": [
           {
            "marker": {
             "colorbar": {
              "outlinewidth": 0,
              "ticks": ""
             }
            },
            "type": "scatterpolar"
           }
          ],
          "scatterpolargl": [
           {
            "marker": {
             "colorbar": {
              "outlinewidth": 0,
              "ticks": ""
             }
            },
            "type": "scatterpolargl"
           }
          ],
          "scatterternary": [
           {
            "marker": {
             "colorbar": {
              "outlinewidth": 0,
              "ticks": ""
             }
            },
            "type": "scatterternary"
           }
          ],
          "surface": [
           {
            "colorbar": {
             "outlinewidth": 0,
             "ticks": ""
            },
            "colorscale": [
             [
              0,
              "#0d0887"
             ],
             [
              0.1111111111111111,
              "#46039f"
             ],
             [
              0.2222222222222222,
              "#7201a8"
             ],
             [
              0.3333333333333333,
              "#9c179e"
             ],
             [
              0.4444444444444444,
              "#bd3786"
             ],
             [
              0.5555555555555556,
              "#d8576b"
             ],
             [
              0.6666666666666666,
              "#ed7953"
             ],
             [
              0.7777777777777778,
              "#fb9f3a"
             ],
             [
              0.8888888888888888,
              "#fdca26"
             ],
             [
              1,
              "#f0f921"
             ]
            ],
            "type": "surface"
           }
          ],
          "table": [
           {
            "cells": {
             "fill": {
              "color": "#EBF0F8"
             },
             "line": {
              "color": "white"
             }
            },
            "header": {
             "fill": {
              "color": "#C8D4E3"
             },
             "line": {
              "color": "white"
             }
            },
            "type": "table"
           }
          ]
         },
         "layout": {
          "annotationdefaults": {
           "arrowcolor": "#2a3f5f",
           "arrowhead": 0,
           "arrowwidth": 1
          },
          "autotypenumbers": "strict",
          "coloraxis": {
           "colorbar": {
            "outlinewidth": 0,
            "ticks": ""
           }
          },
          "colorscale": {
           "diverging": [
            [
             0,
             "#8e0152"
            ],
            [
             0.1,
             "#c51b7d"
            ],
            [
             0.2,
             "#de77ae"
            ],
            [
             0.3,
             "#f1b6da"
            ],
            [
             0.4,
             "#fde0ef"
            ],
            [
             0.5,
             "#f7f7f7"
            ],
            [
             0.6,
             "#e6f5d0"
            ],
            [
             0.7,
             "#b8e186"
            ],
            [
             0.8,
             "#7fbc41"
            ],
            [
             0.9,
             "#4d9221"
            ],
            [
             1,
             "#276419"
            ]
           ],
           "sequential": [
            [
             0,
             "#0d0887"
            ],
            [
             0.1111111111111111,
             "#46039f"
            ],
            [
             0.2222222222222222,
             "#7201a8"
            ],
            [
             0.3333333333333333,
             "#9c179e"
            ],
            [
             0.4444444444444444,
             "#bd3786"
            ],
            [
             0.5555555555555556,
             "#d8576b"
            ],
            [
             0.6666666666666666,
             "#ed7953"
            ],
            [
             0.7777777777777778,
             "#fb9f3a"
            ],
            [
             0.8888888888888888,
             "#fdca26"
            ],
            [
             1,
             "#f0f921"
            ]
           ],
           "sequentialminus": [
            [
             0,
             "#0d0887"
            ],
            [
             0.1111111111111111,
             "#46039f"
            ],
            [
             0.2222222222222222,
             "#7201a8"
            ],
            [
             0.3333333333333333,
             "#9c179e"
            ],
            [
             0.4444444444444444,
             "#bd3786"
            ],
            [
             0.5555555555555556,
             "#d8576b"
            ],
            [
             0.6666666666666666,
             "#ed7953"
            ],
            [
             0.7777777777777778,
             "#fb9f3a"
            ],
            [
             0.8888888888888888,
             "#fdca26"
            ],
            [
             1,
             "#f0f921"
            ]
           ]
          },
          "colorway": [
           "#636efa",
           "#EF553B",
           "#00cc96",
           "#ab63fa",
           "#FFA15A",
           "#19d3f3",
           "#FF6692",
           "#B6E880",
           "#FF97FF",
           "#FECB52"
          ],
          "font": {
           "color": "#2a3f5f"
          },
          "geo": {
           "bgcolor": "white",
           "lakecolor": "white",
           "landcolor": "#E5ECF6",
           "showlakes": true,
           "showland": true,
           "subunitcolor": "white"
          },
          "hoverlabel": {
           "align": "left"
          },
          "hovermode": "closest",
          "mapbox": {
           "style": "light"
          },
          "paper_bgcolor": "white",
          "plot_bgcolor": "#E5ECF6",
          "polar": {
           "angularaxis": {
            "gridcolor": "white",
            "linecolor": "white",
            "ticks": ""
           },
           "bgcolor": "#E5ECF6",
           "radialaxis": {
            "gridcolor": "white",
            "linecolor": "white",
            "ticks": ""
           }
          },
          "scene": {
           "xaxis": {
            "backgroundcolor": "#E5ECF6",
            "gridcolor": "white",
            "gridwidth": 2,
            "linecolor": "white",
            "showbackground": true,
            "ticks": "",
            "zerolinecolor": "white"
           },
           "yaxis": {
            "backgroundcolor": "#E5ECF6",
            "gridcolor": "white",
            "gridwidth": 2,
            "linecolor": "white",
            "showbackground": true,
            "ticks": "",
            "zerolinecolor": "white"
           },
           "zaxis": {
            "backgroundcolor": "#E5ECF6",
            "gridcolor": "white",
            "gridwidth": 2,
            "linecolor": "white",
            "showbackground": true,
            "ticks": "",
            "zerolinecolor": "white"
           }
          },
          "shapedefaults": {
           "line": {
            "color": "#2a3f5f"
           }
          },
          "ternary": {
           "aaxis": {
            "gridcolor": "white",
            "linecolor": "white",
            "ticks": ""
           },
           "baxis": {
            "gridcolor": "white",
            "linecolor": "white",
            "ticks": ""
           },
           "bgcolor": "#E5ECF6",
           "caxis": {
            "gridcolor": "white",
            "linecolor": "white",
            "ticks": ""
           }
          },
          "title": {
           "x": 0.05
          },
          "xaxis": {
           "automargin": true,
           "gridcolor": "white",
           "linecolor": "white",
           "ticks": "",
           "title": {
            "standoff": 15
           },
           "zerolinecolor": "white",
           "zerolinewidth": 2
          },
          "yaxis": {
           "automargin": true,
           "gridcolor": "white",
           "linecolor": "white",
           "ticks": "",
           "title": {
            "standoff": 15
           },
           "zerolinecolor": "white",
           "zerolinewidth": 2
          }
         }
        },
        "title": {
         "text": "2020 U.S. elections. Percentage votes per party"
        },
        "width": 800,
        "xaxis": {
         "anchor": "y",
         "categoryarray": [
          "votes_gop",
          "votes_dem"
         ],
         "categoryorder": "array",
         "domain": [
          0,
          1
         ],
         "title": {
          "text": "Party"
         }
        },
        "yaxis": {
         "anchor": "x",
         "domain": [
          0,
          1
         ],
         "title": {
          "text": "%"
         }
        }
       }
      },
      "text/html": [
       "<div>                            <div id=\"bdc0b254-7c6b-4bb8-9eaa-06d3d44a2a2e\" class=\"plotly-graph-div\" style=\"height:400px; width:800px;\"></div>            <script type=\"text/javascript\">                require([\"plotly\"], function(Plotly) {                    window.PLOTLYENV=window.PLOTLYENV || {};                                    if (document.getElementById(\"bdc0b254-7c6b-4bb8-9eaa-06d3d44a2a2e\")) {                    Plotly.newPlot(                        \"bdc0b254-7c6b-4bb8-9eaa-06d3d44a2a2e\",                        [{\"alignmentgroup\":\"True\",\"hovertemplate\":\"Party=%{x}<br>%=%{y}<extra></extra>\",\"legendgroup\":\"votes_gop\",\"marker\":{\"color\":\"#636efa\",\"pattern\":{\"shape\":\"\"}},\"name\":\"votes_gop\",\"offsetgroup\":\"votes_gop\",\"orientation\":\"v\",\"showlegend\":true,\"textposition\":\"auto\",\"x\":[\"votes_gop\"],\"xaxis\":\"x\",\"y\":[46.83868582209513],\"yaxis\":\"y\",\"type\":\"bar\"},{\"alignmentgroup\":\"True\",\"hovertemplate\":\"Party=%{x}<br>%=%{y}<extra></extra>\",\"legendgroup\":\"votes_dem\",\"marker\":{\"color\":\"#EF553B\",\"pattern\":{\"shape\":\"\"}},\"name\":\"votes_dem\",\"offsetgroup\":\"votes_dem\",\"orientation\":\"v\",\"showlegend\":true,\"textposition\":\"auto\",\"x\":[\"votes_dem\"],\"xaxis\":\"x\",\"y\":[51.29279146336404],\"yaxis\":\"y\",\"type\":\"bar\"}],                        {\"template\":{\"data\":{\"bar\":[{\"error_x\":{\"color\":\"#2a3f5f\"},\"error_y\":{\"color\":\"#2a3f5f\"},\"marker\":{\"line\":{\"color\":\"#E5ECF6\",\"width\":0.5},\"pattern\":{\"fillmode\":\"overlay\",\"size\":10,\"solidity\":0.2}},\"type\":\"bar\"}],\"barpolar\":[{\"marker\":{\"line\":{\"color\":\"#E5ECF6\",\"width\":0.5},\"pattern\":{\"fillmode\":\"overlay\",\"size\":10,\"solidity\":0.2}},\"type\":\"barpolar\"}],\"carpet\":[{\"aaxis\":{\"endlinecolor\":\"#2a3f5f\",\"gridcolor\":\"white\",\"linecolor\":\"white\",\"minorgridcolor\":\"white\",\"startlinecolor\":\"#2a3f5f\"},\"baxis\":{\"endlinecolor\":\"#2a3f5f\",\"gridcolor\":\"white\",\"linecolor\":\"white\",\"minorgridcolor\":\"white\",\"startlinecolor\":\"#2a3f5f\"},\"type\":\"carpet\"}],\"choropleth\":[{\"colorbar\":{\"outlinewidth\":0,\"ticks\":\"\"},\"type\":\"choropleth\"}],\"contour\":[{\"colorbar\":{\"outlinewidth\":0,\"ticks\":\"\"},\"colorscale\":[[0.0,\"#0d0887\"],[0.1111111111111111,\"#46039f\"],[0.2222222222222222,\"#7201a8\"],[0.3333333333333333,\"#9c179e\"],[0.4444444444444444,\"#bd3786\"],[0.5555555555555556,\"#d8576b\"],[0.6666666666666666,\"#ed7953\"],[0.7777777777777778,\"#fb9f3a\"],[0.8888888888888888,\"#fdca26\"],[1.0,\"#f0f921\"]],\"type\":\"contour\"}],\"contourcarpet\":[{\"colorbar\":{\"outlinewidth\":0,\"ticks\":\"\"},\"type\":\"contourcarpet\"}],\"heatmap\":[{\"colorbar\":{\"outlinewidth\":0,\"ticks\":\"\"},\"colorscale\":[[0.0,\"#0d0887\"],[0.1111111111111111,\"#46039f\"],[0.2222222222222222,\"#7201a8\"],[0.3333333333333333,\"#9c179e\"],[0.4444444444444444,\"#bd3786\"],[0.5555555555555556,\"#d8576b\"],[0.6666666666666666,\"#ed7953\"],[0.7777777777777778,\"#fb9f3a\"],[0.8888888888888888,\"#fdca26\"],[1.0,\"#f0f921\"]],\"type\":\"heatmap\"}],\"heatmapgl\":[{\"colorbar\":{\"outlinewidth\":0,\"ticks\":\"\"},\"colorscale\":[[0.0,\"#0d0887\"],[0.1111111111111111,\"#46039f\"],[0.2222222222222222,\"#7201a8\"],[0.3333333333333333,\"#9c179e\"],[0.4444444444444444,\"#bd3786\"],[0.5555555555555556,\"#d8576b\"],[0.6666666666666666,\"#ed7953\"],[0.7777777777777778,\"#fb9f3a\"],[0.8888888888888888,\"#fdca26\"],[1.0,\"#f0f921\"]],\"type\":\"heatmapgl\"}],\"histogram\":[{\"marker\":{\"pattern\":{\"fillmode\":\"overlay\",\"size\":10,\"solidity\":0.2}},\"type\":\"histogram\"}],\"histogram2d\":[{\"colorbar\":{\"outlinewidth\":0,\"ticks\":\"\"},\"colorscale\":[[0.0,\"#0d0887\"],[0.1111111111111111,\"#46039f\"],[0.2222222222222222,\"#7201a8\"],[0.3333333333333333,\"#9c179e\"],[0.4444444444444444,\"#bd3786\"],[0.5555555555555556,\"#d8576b\"],[0.6666666666666666,\"#ed7953\"],[0.7777777777777778,\"#fb9f3a\"],[0.8888888888888888,\"#fdca26\"],[1.0,\"#f0f921\"]],\"type\":\"histogram2d\"}],\"histogram2dcontour\":[{\"colorbar\":{\"outlinewidth\":0,\"ticks\":\"\"},\"colorscale\":[[0.0,\"#0d0887\"],[0.1111111111111111,\"#46039f\"],[0.2222222222222222,\"#7201a8\"],[0.3333333333333333,\"#9c179e\"],[0.4444444444444444,\"#bd3786\"],[0.5555555555555556,\"#d8576b\"],[0.6666666666666666,\"#ed7953\"],[0.7777777777777778,\"#fb9f3a\"],[0.8888888888888888,\"#fdca26\"],[1.0,\"#f0f921\"]],\"type\":\"histogram2dcontour\"}],\"mesh3d\":[{\"colorbar\":{\"outlinewidth\":0,\"ticks\":\"\"},\"type\":\"mesh3d\"}],\"parcoords\":[{\"line\":{\"colorbar\":{\"outlinewidth\":0,\"ticks\":\"\"}},\"type\":\"parcoords\"}],\"pie\":[{\"automargin\":true,\"type\":\"pie\"}],\"scatter\":[{\"marker\":{\"colorbar\":{\"outlinewidth\":0,\"ticks\":\"\"}},\"type\":\"scatter\"}],\"scatter3d\":[{\"line\":{\"colorbar\":{\"outlinewidth\":0,\"ticks\":\"\"}},\"marker\":{\"colorbar\":{\"outlinewidth\":0,\"ticks\":\"\"}},\"type\":\"scatter3d\"}],\"scattercarpet\":[{\"marker\":{\"colorbar\":{\"outlinewidth\":0,\"ticks\":\"\"}},\"type\":\"scattercarpet\"}],\"scattergeo\":[{\"marker\":{\"colorbar\":{\"outlinewidth\":0,\"ticks\":\"\"}},\"type\":\"scattergeo\"}],\"scattergl\":[{\"marker\":{\"colorbar\":{\"outlinewidth\":0,\"ticks\":\"\"}},\"type\":\"scattergl\"}],\"scattermapbox\":[{\"marker\":{\"colorbar\":{\"outlinewidth\":0,\"ticks\":\"\"}},\"type\":\"scattermapbox\"}],\"scatterpolar\":[{\"marker\":{\"colorbar\":{\"outlinewidth\":0,\"ticks\":\"\"}},\"type\":\"scatterpolar\"}],\"scatterpolargl\":[{\"marker\":{\"colorbar\":{\"outlinewidth\":0,\"ticks\":\"\"}},\"type\":\"scatterpolargl\"}],\"scatterternary\":[{\"marker\":{\"colorbar\":{\"outlinewidth\":0,\"ticks\":\"\"}},\"type\":\"scatterternary\"}],\"surface\":[{\"colorbar\":{\"outlinewidth\":0,\"ticks\":\"\"},\"colorscale\":[[0.0,\"#0d0887\"],[0.1111111111111111,\"#46039f\"],[0.2222222222222222,\"#7201a8\"],[0.3333333333333333,\"#9c179e\"],[0.4444444444444444,\"#bd3786\"],[0.5555555555555556,\"#d8576b\"],[0.6666666666666666,\"#ed7953\"],[0.7777777777777778,\"#fb9f3a\"],[0.8888888888888888,\"#fdca26\"],[1.0,\"#f0f921\"]],\"type\":\"surface\"}],\"table\":[{\"cells\":{\"fill\":{\"color\":\"#EBF0F8\"},\"line\":{\"color\":\"white\"}},\"header\":{\"fill\":{\"color\":\"#C8D4E3\"},\"line\":{\"color\":\"white\"}},\"type\":\"table\"}]},\"layout\":{\"annotationdefaults\":{\"arrowcolor\":\"#2a3f5f\",\"arrowhead\":0,\"arrowwidth\":1},\"autotypenumbers\":\"strict\",\"coloraxis\":{\"colorbar\":{\"outlinewidth\":0,\"ticks\":\"\"}},\"colorscale\":{\"diverging\":[[0,\"#8e0152\"],[0.1,\"#c51b7d\"],[0.2,\"#de77ae\"],[0.3,\"#f1b6da\"],[0.4,\"#fde0ef\"],[0.5,\"#f7f7f7\"],[0.6,\"#e6f5d0\"],[0.7,\"#b8e186\"],[0.8,\"#7fbc41\"],[0.9,\"#4d9221\"],[1,\"#276419\"]],\"sequential\":[[0.0,\"#0d0887\"],[0.1111111111111111,\"#46039f\"],[0.2222222222222222,\"#7201a8\"],[0.3333333333333333,\"#9c179e\"],[0.4444444444444444,\"#bd3786\"],[0.5555555555555556,\"#d8576b\"],[0.6666666666666666,\"#ed7953\"],[0.7777777777777778,\"#fb9f3a\"],[0.8888888888888888,\"#fdca26\"],[1.0,\"#f0f921\"]],\"sequentialminus\":[[0.0,\"#0d0887\"],[0.1111111111111111,\"#46039f\"],[0.2222222222222222,\"#7201a8\"],[0.3333333333333333,\"#9c179e\"],[0.4444444444444444,\"#bd3786\"],[0.5555555555555556,\"#d8576b\"],[0.6666666666666666,\"#ed7953\"],[0.7777777777777778,\"#fb9f3a\"],[0.8888888888888888,\"#fdca26\"],[1.0,\"#f0f921\"]]},\"colorway\":[\"#636efa\",\"#EF553B\",\"#00cc96\",\"#ab63fa\",\"#FFA15A\",\"#19d3f3\",\"#FF6692\",\"#B6E880\",\"#FF97FF\",\"#FECB52\"],\"font\":{\"color\":\"#2a3f5f\"},\"geo\":{\"bgcolor\":\"white\",\"lakecolor\":\"white\",\"landcolor\":\"#E5ECF6\",\"showlakes\":true,\"showland\":true,\"subunitcolor\":\"white\"},\"hoverlabel\":{\"align\":\"left\"},\"hovermode\":\"closest\",\"mapbox\":{\"style\":\"light\"},\"paper_bgcolor\":\"white\",\"plot_bgcolor\":\"#E5ECF6\",\"polar\":{\"angularaxis\":{\"gridcolor\":\"white\",\"linecolor\":\"white\",\"ticks\":\"\"},\"bgcolor\":\"#E5ECF6\",\"radialaxis\":{\"gridcolor\":\"white\",\"linecolor\":\"white\",\"ticks\":\"\"}},\"scene\":{\"xaxis\":{\"backgroundcolor\":\"#E5ECF6\",\"gridcolor\":\"white\",\"gridwidth\":2,\"linecolor\":\"white\",\"showbackground\":true,\"ticks\":\"\",\"zerolinecolor\":\"white\"},\"yaxis\":{\"backgroundcolor\":\"#E5ECF6\",\"gridcolor\":\"white\",\"gridwidth\":2,\"linecolor\":\"white\",\"showbackground\":true,\"ticks\":\"\",\"zerolinecolor\":\"white\"},\"zaxis\":{\"backgroundcolor\":\"#E5ECF6\",\"gridcolor\":\"white\",\"gridwidth\":2,\"linecolor\":\"white\",\"showbackground\":true,\"ticks\":\"\",\"zerolinecolor\":\"white\"}},\"shapedefaults\":{\"line\":{\"color\":\"#2a3f5f\"}},\"ternary\":{\"aaxis\":{\"gridcolor\":\"white\",\"linecolor\":\"white\",\"ticks\":\"\"},\"baxis\":{\"gridcolor\":\"white\",\"linecolor\":\"white\",\"ticks\":\"\"},\"bgcolor\":\"#E5ECF6\",\"caxis\":{\"gridcolor\":\"white\",\"linecolor\":\"white\",\"ticks\":\"\"}},\"title\":{\"x\":0.05},\"xaxis\":{\"automargin\":true,\"gridcolor\":\"white\",\"linecolor\":\"white\",\"ticks\":\"\",\"title\":{\"standoff\":15},\"zerolinecolor\":\"white\",\"zerolinewidth\":2},\"yaxis\":{\"automargin\":true,\"gridcolor\":\"white\",\"linecolor\":\"white\",\"ticks\":\"\",\"title\":{\"standoff\":15},\"zerolinecolor\":\"white\",\"zerolinewidth\":2}}},\"xaxis\":{\"anchor\":\"y\",\"domain\":[0.0,1.0],\"title\":{\"text\":\"Party\"},\"categoryorder\":\"array\",\"categoryarray\":[\"votes_gop\",\"votes_dem\"]},\"yaxis\":{\"anchor\":\"x\",\"domain\":[0.0,1.0],\"title\":{\"text\":\"%\"}},\"legend\":{\"title\":{\"text\":\"Party\"},\"tracegroupgap\":0},\"title\":{\"text\":\"2020 U.S. elections. Percentage votes per party\"},\"barmode\":\"relative\",\"height\":400,\"width\":800},                        {\"responsive\": true}                    ).then(function(){\n",
       "                            \n",
       "var gd = document.getElementById('bdc0b254-7c6b-4bb8-9eaa-06d3d44a2a2e');\n",
       "var x = new MutationObserver(function (mutations, observer) {{\n",
       "        var display = window.getComputedStyle(gd).display;\n",
       "        if (!display || display === 'none') {{\n",
       "            console.log([gd, 'removed!']);\n",
       "            Plotly.purge(gd);\n",
       "            observer.disconnect();\n",
       "        }}\n",
       "}});\n",
       "\n",
       "// Listen for the removal of the full notebook cells\n",
       "var notebookContainer = gd.closest('#notebook-container');\n",
       "if (notebookContainer) {{\n",
       "    x.observe(notebookContainer, {childList: true});\n",
       "}}\n",
       "\n",
       "// Listen for the clearing of the current output cell\n",
       "var outputEl = gd.closest('.output');\n",
       "if (outputEl) {{\n",
       "    x.observe(outputEl, {childList: true});\n",
       "}}\n",
       "\n",
       "                        })                };                });            </script>        </div>"
      ]
     },
     "metadata": {},
     "output_type": "display_data"
    }
   ],
   "source": [
    "fig = px.bar(pct_votes_party,\n",
    "             x=pct_votes_party.keys(),\n",
    "             y=pct_votes_party.values,\n",
    "             title=\"2020 U.S. elections. Percentage votes per party\", \n",
    "             labels={\"y\": \"%\",\n",
    "                     \"state_name\": \"State\",\n",
    "                     \"index\": \"Party\"},\n",
    "             color=pct_votes_party.keys(),\n",
    "             height=400,\n",
    "             width=800\n",
    "            )\n",
    "fig"
   ]
  },
  {
   "cell_type": "code",
   "execution_count": 12,
   "metadata": {},
   "outputs": [
    {
     "data": {
      "text/html": [
       "<div>\n",
       "<style scoped>\n",
       "    .dataframe tbody tr th:only-of-type {\n",
       "        vertical-align: middle;\n",
       "    }\n",
       "\n",
       "    .dataframe tbody tr th {\n",
       "        vertical-align: top;\n",
       "    }\n",
       "\n",
       "    .dataframe thead th {\n",
       "        text-align: right;\n",
       "    }\n",
       "</style>\n",
       "<table border=\"1\" class=\"dataframe\">\n",
       "  <thead>\n",
       "    <tr style=\"text-align: right;\">\n",
       "      <th></th>\n",
       "      <th>state_name</th>\n",
       "      <th>county_fips</th>\n",
       "      <th>county_name</th>\n",
       "      <th>votes_gop</th>\n",
       "      <th>votes_dem</th>\n",
       "      <th>total_votes</th>\n",
       "      <th>diff</th>\n",
       "      <th>per_gop</th>\n",
       "      <th>per_dem</th>\n",
       "      <th>per_point_diff</th>\n",
       "    </tr>\n",
       "  </thead>\n",
       "  <tbody>\n",
       "    <tr>\n",
       "      <th>327</th>\n",
       "      <td>Delaware</td>\n",
       "      <td>10001</td>\n",
       "      <td>Kent County</td>\n",
       "      <td>41009</td>\n",
       "      <td>44552</td>\n",
       "      <td>87025</td>\n",
       "      <td>-3543</td>\n",
       "      <td>0.471232</td>\n",
       "      <td>0.511945</td>\n",
       "      <td>-0.040712</td>\n",
       "    </tr>\n",
       "    <tr>\n",
       "      <th>328</th>\n",
       "      <td>Delaware</td>\n",
       "      <td>10003</td>\n",
       "      <td>New Castle County</td>\n",
       "      <td>88364</td>\n",
       "      <td>195034</td>\n",
       "      <td>287633</td>\n",
       "      <td>-106670</td>\n",
       "      <td>0.307211</td>\n",
       "      <td>0.678065</td>\n",
       "      <td>-0.370855</td>\n",
       "    </tr>\n",
       "    <tr>\n",
       "      <th>329</th>\n",
       "      <td>Delaware</td>\n",
       "      <td>10005</td>\n",
       "      <td>Sussex County</td>\n",
       "      <td>71230</td>\n",
       "      <td>56682</td>\n",
       "      <td>129352</td>\n",
       "      <td>14548</td>\n",
       "      <td>0.550668</td>\n",
       "      <td>0.438200</td>\n",
       "      <td>0.112468</td>\n",
       "    </tr>\n",
       "  </tbody>\n",
       "</table>\n",
       "</div>"
      ],
      "text/plain": [
       "    state_name  county_fips        county_name  votes_gop  votes_dem  \\\n",
       "327   Delaware        10001        Kent County      41009      44552   \n",
       "328   Delaware        10003  New Castle County      88364     195034   \n",
       "329   Delaware        10005      Sussex County      71230      56682   \n",
       "\n",
       "     total_votes    diff   per_gop   per_dem  per_point_diff  \n",
       "327        87025   -3543  0.471232  0.511945       -0.040712  \n",
       "328       287633 -106670  0.307211  0.678065       -0.370855  \n",
       "329       129352   14548  0.550668  0.438200        0.112468  "
      ]
     },
     "execution_count": 12,
     "metadata": {},
     "output_type": "execute_result"
    }
   ],
   "source": [
    "# 1 state can have several counties\n",
    "tmp[tmp[\"state_name\"]==\"Delaware\"]\n"
   ]
  },
  {
   "cell_type": "code",
   "execution_count": 13,
   "metadata": {},
   "outputs": [],
   "source": [
    "#df_target = tmp[[\"state_name\", \"county_fips\", \"county_name\"]]\n",
    "tmp[\"winner_democrats\"] = np.where(tmp[\"votes_gop\"] < tmp[\"votes_dem\"], 1, 0) # calculer par state"
   ]
  },
  {
   "cell_type": "code",
   "execution_count": 14,
   "metadata": {},
   "outputs": [
    {
     "data": {
      "text/html": [
       "<div>\n",
       "<style scoped>\n",
       "    .dataframe tbody tr th:only-of-type {\n",
       "        vertical-align: middle;\n",
       "    }\n",
       "\n",
       "    .dataframe tbody tr th {\n",
       "        vertical-align: top;\n",
       "    }\n",
       "\n",
       "    .dataframe thead th {\n",
       "        text-align: right;\n",
       "    }\n",
       "</style>\n",
       "<table border=\"1\" class=\"dataframe\">\n",
       "  <thead>\n",
       "    <tr style=\"text-align: right;\">\n",
       "      <th></th>\n",
       "      <th>state_name</th>\n",
       "      <th>county_fips</th>\n",
       "      <th>county_name</th>\n",
       "      <th>votes_gop</th>\n",
       "      <th>votes_dem</th>\n",
       "      <th>total_votes</th>\n",
       "      <th>diff</th>\n",
       "      <th>per_gop</th>\n",
       "      <th>per_dem</th>\n",
       "      <th>per_point_diff</th>\n",
       "      <th>winner_democrats</th>\n",
       "    </tr>\n",
       "  </thead>\n",
       "  <tbody>\n",
       "    <tr>\n",
       "      <th>0</th>\n",
       "      <td>Alabama</td>\n",
       "      <td>1001</td>\n",
       "      <td>Autauga County</td>\n",
       "      <td>19838</td>\n",
       "      <td>7503</td>\n",
       "      <td>27770</td>\n",
       "      <td>12335</td>\n",
       "      <td>0.714368</td>\n",
       "      <td>0.270184</td>\n",
       "      <td>0.444184</td>\n",
       "      <td>0</td>\n",
       "    </tr>\n",
       "    <tr>\n",
       "      <th>1</th>\n",
       "      <td>Alabama</td>\n",
       "      <td>1003</td>\n",
       "      <td>Baldwin County</td>\n",
       "      <td>83544</td>\n",
       "      <td>24578</td>\n",
       "      <td>109679</td>\n",
       "      <td>58966</td>\n",
       "      <td>0.761714</td>\n",
       "      <td>0.224090</td>\n",
       "      <td>0.537623</td>\n",
       "      <td>0</td>\n",
       "    </tr>\n",
       "    <tr>\n",
       "      <th>2</th>\n",
       "      <td>Alabama</td>\n",
       "      <td>1005</td>\n",
       "      <td>Barbour County</td>\n",
       "      <td>5622</td>\n",
       "      <td>4816</td>\n",
       "      <td>10518</td>\n",
       "      <td>806</td>\n",
       "      <td>0.534512</td>\n",
       "      <td>0.457882</td>\n",
       "      <td>0.076631</td>\n",
       "      <td>0</td>\n",
       "    </tr>\n",
       "    <tr>\n",
       "      <th>3</th>\n",
       "      <td>Alabama</td>\n",
       "      <td>1007</td>\n",
       "      <td>Bibb County</td>\n",
       "      <td>7525</td>\n",
       "      <td>1986</td>\n",
       "      <td>9595</td>\n",
       "      <td>5539</td>\n",
       "      <td>0.784263</td>\n",
       "      <td>0.206983</td>\n",
       "      <td>0.577280</td>\n",
       "      <td>0</td>\n",
       "    </tr>\n",
       "    <tr>\n",
       "      <th>4</th>\n",
       "      <td>Alabama</td>\n",
       "      <td>1009</td>\n",
       "      <td>Blount County</td>\n",
       "      <td>24711</td>\n",
       "      <td>2640</td>\n",
       "      <td>27588</td>\n",
       "      <td>22071</td>\n",
       "      <td>0.895716</td>\n",
       "      <td>0.095694</td>\n",
       "      <td>0.800022</td>\n",
       "      <td>0</td>\n",
       "    </tr>\n",
       "  </tbody>\n",
       "</table>\n",
       "</div>"
      ],
      "text/plain": [
       "  state_name  county_fips     county_name  votes_gop  votes_dem  total_votes  \\\n",
       "0    Alabama         1001  Autauga County      19838       7503        27770   \n",
       "1    Alabama         1003  Baldwin County      83544      24578       109679   \n",
       "2    Alabama         1005  Barbour County       5622       4816        10518   \n",
       "3    Alabama         1007     Bibb County       7525       1986         9595   \n",
       "4    Alabama         1009   Blount County      24711       2640        27588   \n",
       "\n",
       "    diff   per_gop   per_dem  per_point_diff  winner_democrats  \n",
       "0  12335  0.714368  0.270184        0.444184                 0  \n",
       "1  58966  0.761714  0.224090        0.537623                 0  \n",
       "2    806  0.534512  0.457882        0.076631                 0  \n",
       "3   5539  0.784263  0.206983        0.577280                 0  \n",
       "4  22071  0.895716  0.095694        0.800022                 0  "
      ]
     },
     "execution_count": 14,
     "metadata": {},
     "output_type": "execute_result"
    }
   ],
   "source": [
    "tmp.head()"
   ]
  },
  {
   "cell_type": "code",
   "execution_count": null,
   "metadata": {},
   "outputs": [],
   "source": []
  },
  {
   "cell_type": "markdown",
   "metadata": {},
   "source": [
    "### Votes per state"
   ]
  },
  {
   "cell_type": "code",
   "execution_count": 19,
   "metadata": {},
   "outputs": [
    {
     "data": {
      "text/html": [
       "<div>\n",
       "<style scoped>\n",
       "    .dataframe tbody tr th:only-of-type {\n",
       "        vertical-align: middle;\n",
       "    }\n",
       "\n",
       "    .dataframe tbody tr th {\n",
       "        vertical-align: top;\n",
       "    }\n",
       "\n",
       "    .dataframe thead th {\n",
       "        text-align: right;\n",
       "    }\n",
       "</style>\n",
       "<table border=\"1\" class=\"dataframe\">\n",
       "  <thead>\n",
       "    <tr style=\"text-align: right;\">\n",
       "      <th></th>\n",
       "      <th>state_name</th>\n",
       "      <th>votes_gop</th>\n",
       "      <th>votes_dem</th>\n",
       "      <th>total_votes_state</th>\n",
       "      <th>Republican</th>\n",
       "      <th>Democratic</th>\n",
       "    </tr>\n",
       "  </thead>\n",
       "  <tbody>\n",
       "    <tr>\n",
       "      <th>8</th>\n",
       "      <td>District of Columbia</td>\n",
       "      <td>18586</td>\n",
       "      <td>317323</td>\n",
       "      <td>335909</td>\n",
       "      <td>5.533046</td>\n",
       "      <td>94.466954</td>\n",
       "    </tr>\n",
       "    <tr>\n",
       "      <th>45</th>\n",
       "      <td>Vermont</td>\n",
       "      <td>112704</td>\n",
       "      <td>242820</td>\n",
       "      <td>355524</td>\n",
       "      <td>31.700813</td>\n",
       "      <td>68.299187</td>\n",
       "    </tr>\n",
       "    <tr>\n",
       "      <th>21</th>\n",
       "      <td>Massachusetts</td>\n",
       "      <td>1167202</td>\n",
       "      <td>2382202</td>\n",
       "      <td>3549404</td>\n",
       "      <td>32.884450</td>\n",
       "      <td>67.115550</td>\n",
       "    </tr>\n",
       "    <tr>\n",
       "      <th>20</th>\n",
       "      <td>Maryland</td>\n",
       "      <td>976414</td>\n",
       "      <td>1985023</td>\n",
       "      <td>2961437</td>\n",
       "      <td>32.970953</td>\n",
       "      <td>67.029047</td>\n",
       "    </tr>\n",
       "    <tr>\n",
       "      <th>11</th>\n",
       "      <td>Hawaii</td>\n",
       "      <td>196864</td>\n",
       "      <td>366130</td>\n",
       "      <td>562994</td>\n",
       "      <td>34.967335</td>\n",
       "      <td>65.032665</td>\n",
       "    </tr>\n",
       "  </tbody>\n",
       "</table>\n",
       "</div>"
      ],
      "text/plain": [
       "              state_name  votes_gop  votes_dem  total_votes_state  Republican  \\\n",
       "8   District of Columbia      18586     317323             335909    5.533046   \n",
       "45               Vermont     112704     242820             355524   31.700813   \n",
       "21         Massachusetts    1167202    2382202            3549404   32.884450   \n",
       "20              Maryland     976414    1985023            2961437   32.970953   \n",
       "11                Hawaii     196864     366130             562994   34.967335   \n",
       "\n",
       "    Democratic  \n",
       "8    94.466954  \n",
       "45   68.299187  \n",
       "21   67.115550  \n",
       "20   67.029047  \n",
       "11   65.032665  "
      ]
     },
     "metadata": {},
     "output_type": "display_data"
    },
    {
     "data": {
      "application/vnd.plotly.v1+json": {
       "config": {
        "plotlyServerURL": "https://plot.ly"
       },
       "data": [
        {
         "alignmentgroup": "True",
         "hovertemplate": "Party=Democratic<br>State=%{x}<br>%=%{y}<extra></extra>",
         "legendgroup": "Democratic",
         "marker": {
          "color": "#636efa",
          "pattern": {
           "shape": ""
          }
         },
         "name": "Democratic",
         "offsetgroup": "Democratic",
         "orientation": "v",
         "showlegend": true,
         "textposition": "auto",
         "type": "bar",
         "x": [
          "District of Columbia",
          "Vermont",
          "Massachusetts",
          "Maryland",
          "Hawaii",
          "California",
          "New York",
          "Rhode Island",
          "Connecticut",
          "Washington",
          "Delaware",
          "Illinois",
          "Oregon",
          "New Jersey",
          "Colorado",
          "New Mexico",
          "Virginia",
          "Maine",
          "New Hampshire",
          "Minnesota",
          "Michigan",
          "Nevada",
          "Pennsylvania",
          "Wisconsin",
          "Arizona",
          "Georgia",
          "North Carolina",
          "Florida",
          "Texas",
          "Ohio",
          "Iowa",
          "Alaska",
          "South Carolina",
          "Kansas",
          "Missouri",
          "Indiana",
          "Mississippi",
          "Montana",
          "Louisiana",
          "Nebraska",
          "Utah",
          "Tennessee",
          "Alabama",
          "Kentucky",
          "South Dakota",
          "Arkansas",
          "Idaho",
          "Oklahoma",
          "North Dakota",
          "West Virginia",
          "Wyoming"
         ],
         "xaxis": "x",
         "y": [
          94.46695384761945,
          68.29918655280656,
          67.11554954014815,
          67.02904704709235,
          65.03266464651489,
          64.9096897735854,
          61.73605254198259,
          60.5101897649823,
          60.17246380927086,
          59.92550318479069,
          59.62674416498447,
          58.65904373280692,
          58.307156985441736,
          58.07128358679484,
          56.93831949230015,
          55.51849015171974,
          55.15468699939991,
          54.46460653970535,
          53.74834772159504,
          53.63951364856667,
          51.41355934440946,
          51.22311734004381,
          50.59708817513884,
          50.317952268896775,
          50.15683167912932,
          50.11932966290865,
          49.31581746681327,
          48.30524533785844,
          47.16927876322047,
          45.92330235229728,
          45.816736915362945,
          44.68579684646239,
          44.073391250417906,
          42.42725945097432,
          42.16417935559855,
          41.80181519856194,
          41.61501417261114,
          41.6028199079519,
          40.535559543708956,
          40.215947753398275,
          39.30639487814837,
          38.17222962793365,
          37.089316645247806,
          36.79989709973703,
          36.5652201383185,
          35.78756672201685,
          34.12289764236351,
          33.05996050309349,
          32.782591577103375,
          30.201467686077976,
          27.519565624414895
         ],
         "yaxis": "y"
        },
        {
         "alignmentgroup": "True",
         "hovertemplate": "Party=Republican<br>State=%{x}<br>%=%{y}<extra></extra>",
         "legendgroup": "Republican",
         "marker": {
          "color": "#EF553B",
          "pattern": {
           "shape": ""
          }
         },
         "name": "Republican",
         "offsetgroup": "Republican",
         "orientation": "v",
         "showlegend": true,
         "textposition": "auto",
         "type": "bar",
         "x": [
          "District of Columbia",
          "Vermont",
          "Massachusetts",
          "Maryland",
          "Hawaii",
          "California",
          "New York",
          "Rhode Island",
          "Connecticut",
          "Washington",
          "Delaware",
          "Illinois",
          "Oregon",
          "New Jersey",
          "Colorado",
          "New Mexico",
          "Virginia",
          "Maine",
          "New Hampshire",
          "Minnesota",
          "Michigan",
          "Nevada",
          "Pennsylvania",
          "Wisconsin",
          "Arizona",
          "Georgia",
          "North Carolina",
          "Florida",
          "Texas",
          "Ohio",
          "Iowa",
          "Alaska",
          "South Carolina",
          "Kansas",
          "Missouri",
          "Indiana",
          "Mississippi",
          "Montana",
          "Louisiana",
          "Nebraska",
          "Utah",
          "Tennessee",
          "Alabama",
          "Kentucky",
          "South Dakota",
          "Arkansas",
          "Idaho",
          "Oklahoma",
          "North Dakota",
          "West Virginia",
          "Wyoming"
         ],
         "xaxis": "x",
         "y": [
          5.533046152380555,
          31.700813447193436,
          32.88445045985185,
          32.97095295290766,
          34.96733535348512,
          35.0903102264146,
          38.26394745801741,
          39.4898102350177,
          39.82753619072914,
          40.07449681520931,
          40.37325583501553,
          41.34095626719308,
          41.692843014558264,
          41.92871641320516,
          43.06168050769985,
          44.48150984828026,
          44.84531300060009,
          45.53539346029465,
          46.25165227840496,
          46.36048635143333,
          48.58644065559054,
          48.77688265995619,
          49.40291182486116,
          49.682047731103225,
          49.84316832087068,
          49.88067033709135,
          50.68418253318673,
          51.69475466214156,
          52.83072123677953,
          54.07669764770272,
          54.183263084637055,
          55.31420315353761,
          55.926608749582094,
          57.57274054902568,
          57.83582064440145,
          58.19818480143806,
          58.38498582738886,
          58.3971800920481,
          59.464440456291044,
          59.784052246601725,
          60.69360512185163,
          61.82777037206635,
          62.910683354752194,
          63.20010290026297,
          63.4347798616815,
          64.21243327798315,
          65.87710235763649,
          66.94003949690651,
          67.21740842289663,
          69.79853231392202,
          72.4804343755851
         ],
         "yaxis": "y"
        }
       ],
       "layout": {
        "annotations": [
         {
          "showarrow": false,
          "text": "50%",
          "x": 1,
          "xanchor": "right",
          "xref": "x domain",
          "y": 50,
          "yanchor": "top",
          "yref": "y"
         }
        ],
        "barmode": "relative",
        "legend": {
         "title": {
          "text": "Party"
         },
         "tracegroupgap": 0
        },
        "shapes": [
         {
          "line": {
           "color": "green",
           "dash": "dash",
           "width": 3
          },
          "type": "line",
          "x0": 0,
          "x1": 1,
          "xref": "x domain",
          "y0": 50,
          "y1": 50,
          "yref": "y"
         }
        ],
        "template": {
         "data": {
          "bar": [
           {
            "error_x": {
             "color": "#2a3f5f"
            },
            "error_y": {
             "color": "#2a3f5f"
            },
            "marker": {
             "line": {
              "color": "#E5ECF6",
              "width": 0.5
             },
             "pattern": {
              "fillmode": "overlay",
              "size": 10,
              "solidity": 0.2
             }
            },
            "type": "bar"
           }
          ],
          "barpolar": [
           {
            "marker": {
             "line": {
              "color": "#E5ECF6",
              "width": 0.5
             },
             "pattern": {
              "fillmode": "overlay",
              "size": 10,
              "solidity": 0.2
             }
            },
            "type": "barpolar"
           }
          ],
          "carpet": [
           {
            "aaxis": {
             "endlinecolor": "#2a3f5f",
             "gridcolor": "white",
             "linecolor": "white",
             "minorgridcolor": "white",
             "startlinecolor": "#2a3f5f"
            },
            "baxis": {
             "endlinecolor": "#2a3f5f",
             "gridcolor": "white",
             "linecolor": "white",
             "minorgridcolor": "white",
             "startlinecolor": "#2a3f5f"
            },
            "type": "carpet"
           }
          ],
          "choropleth": [
           {
            "colorbar": {
             "outlinewidth": 0,
             "ticks": ""
            },
            "type": "choropleth"
           }
          ],
          "contour": [
           {
            "colorbar": {
             "outlinewidth": 0,
             "ticks": ""
            },
            "colorscale": [
             [
              0,
              "#0d0887"
             ],
             [
              0.1111111111111111,
              "#46039f"
             ],
             [
              0.2222222222222222,
              "#7201a8"
             ],
             [
              0.3333333333333333,
              "#9c179e"
             ],
             [
              0.4444444444444444,
              "#bd3786"
             ],
             [
              0.5555555555555556,
              "#d8576b"
             ],
             [
              0.6666666666666666,
              "#ed7953"
             ],
             [
              0.7777777777777778,
              "#fb9f3a"
             ],
             [
              0.8888888888888888,
              "#fdca26"
             ],
             [
              1,
              "#f0f921"
             ]
            ],
            "type": "contour"
           }
          ],
          "contourcarpet": [
           {
            "colorbar": {
             "outlinewidth": 0,
             "ticks": ""
            },
            "type": "contourcarpet"
           }
          ],
          "heatmap": [
           {
            "colorbar": {
             "outlinewidth": 0,
             "ticks": ""
            },
            "colorscale": [
             [
              0,
              "#0d0887"
             ],
             [
              0.1111111111111111,
              "#46039f"
             ],
             [
              0.2222222222222222,
              "#7201a8"
             ],
             [
              0.3333333333333333,
              "#9c179e"
             ],
             [
              0.4444444444444444,
              "#bd3786"
             ],
             [
              0.5555555555555556,
              "#d8576b"
             ],
             [
              0.6666666666666666,
              "#ed7953"
             ],
             [
              0.7777777777777778,
              "#fb9f3a"
             ],
             [
              0.8888888888888888,
              "#fdca26"
             ],
             [
              1,
              "#f0f921"
             ]
            ],
            "type": "heatmap"
           }
          ],
          "heatmapgl": [
           {
            "colorbar": {
             "outlinewidth": 0,
             "ticks": ""
            },
            "colorscale": [
             [
              0,
              "#0d0887"
             ],
             [
              0.1111111111111111,
              "#46039f"
             ],
             [
              0.2222222222222222,
              "#7201a8"
             ],
             [
              0.3333333333333333,
              "#9c179e"
             ],
             [
              0.4444444444444444,
              "#bd3786"
             ],
             [
              0.5555555555555556,
              "#d8576b"
             ],
             [
              0.6666666666666666,
              "#ed7953"
             ],
             [
              0.7777777777777778,
              "#fb9f3a"
             ],
             [
              0.8888888888888888,
              "#fdca26"
             ],
             [
              1,
              "#f0f921"
             ]
            ],
            "type": "heatmapgl"
           }
          ],
          "histogram": [
           {
            "marker": {
             "pattern": {
              "fillmode": "overlay",
              "size": 10,
              "solidity": 0.2
             }
            },
            "type": "histogram"
           }
          ],
          "histogram2d": [
           {
            "colorbar": {
             "outlinewidth": 0,
             "ticks": ""
            },
            "colorscale": [
             [
              0,
              "#0d0887"
             ],
             [
              0.1111111111111111,
              "#46039f"
             ],
             [
              0.2222222222222222,
              "#7201a8"
             ],
             [
              0.3333333333333333,
              "#9c179e"
             ],
             [
              0.4444444444444444,
              "#bd3786"
             ],
             [
              0.5555555555555556,
              "#d8576b"
             ],
             [
              0.6666666666666666,
              "#ed7953"
             ],
             [
              0.7777777777777778,
              "#fb9f3a"
             ],
             [
              0.8888888888888888,
              "#fdca26"
             ],
             [
              1,
              "#f0f921"
             ]
            ],
            "type": "histogram2d"
           }
          ],
          "histogram2dcontour": [
           {
            "colorbar": {
             "outlinewidth": 0,
             "ticks": ""
            },
            "colorscale": [
             [
              0,
              "#0d0887"
             ],
             [
              0.1111111111111111,
              "#46039f"
             ],
             [
              0.2222222222222222,
              "#7201a8"
             ],
             [
              0.3333333333333333,
              "#9c179e"
             ],
             [
              0.4444444444444444,
              "#bd3786"
             ],
             [
              0.5555555555555556,
              "#d8576b"
             ],
             [
              0.6666666666666666,
              "#ed7953"
             ],
             [
              0.7777777777777778,
              "#fb9f3a"
             ],
             [
              0.8888888888888888,
              "#fdca26"
             ],
             [
              1,
              "#f0f921"
             ]
            ],
            "type": "histogram2dcontour"
           }
          ],
          "mesh3d": [
           {
            "colorbar": {
             "outlinewidth": 0,
             "ticks": ""
            },
            "type": "mesh3d"
           }
          ],
          "parcoords": [
           {
            "line": {
             "colorbar": {
              "outlinewidth": 0,
              "ticks": ""
             }
            },
            "type": "parcoords"
           }
          ],
          "pie": [
           {
            "automargin": true,
            "type": "pie"
           }
          ],
          "scatter": [
           {
            "marker": {
             "colorbar": {
              "outlinewidth": 0,
              "ticks": ""
             }
            },
            "type": "scatter"
           }
          ],
          "scatter3d": [
           {
            "line": {
             "colorbar": {
              "outlinewidth": 0,
              "ticks": ""
             }
            },
            "marker": {
             "colorbar": {
              "outlinewidth": 0,
              "ticks": ""
             }
            },
            "type": "scatter3d"
           }
          ],
          "scattercarpet": [
           {
            "marker": {
             "colorbar": {
              "outlinewidth": 0,
              "ticks": ""
             }
            },
            "type": "scattercarpet"
           }
          ],
          "scattergeo": [
           {
            "marker": {
             "colorbar": {
              "outlinewidth": 0,
              "ticks": ""
             }
            },
            "type": "scattergeo"
           }
          ],
          "scattergl": [
           {
            "marker": {
             "colorbar": {
              "outlinewidth": 0,
              "ticks": ""
             }
            },
            "type": "scattergl"
           }
          ],
          "scattermapbox": [
           {
            "marker": {
             "colorbar": {
              "outlinewidth": 0,
              "ticks": ""
             }
            },
            "type": "scattermapbox"
           }
          ],
          "scatterpolar": [
           {
            "marker": {
             "colorbar": {
              "outlinewidth": 0,
              "ticks": ""
             }
            },
            "type": "scatterpolar"
           }
          ],
          "scatterpolargl": [
           {
            "marker": {
             "colorbar": {
              "outlinewidth": 0,
              "ticks": ""
             }
            },
            "type": "scatterpolargl"
           }
          ],
          "scatterternary": [
           {
            "marker": {
             "colorbar": {
              "outlinewidth": 0,
              "ticks": ""
             }
            },
            "type": "scatterternary"
           }
          ],
          "surface": [
           {
            "colorbar": {
             "outlinewidth": 0,
             "ticks": ""
            },
            "colorscale": [
             [
              0,
              "#0d0887"
             ],
             [
              0.1111111111111111,
              "#46039f"
             ],
             [
              0.2222222222222222,
              "#7201a8"
             ],
             [
              0.3333333333333333,
              "#9c179e"
             ],
             [
              0.4444444444444444,
              "#bd3786"
             ],
             [
              0.5555555555555556,
              "#d8576b"
             ],
             [
              0.6666666666666666,
              "#ed7953"
             ],
             [
              0.7777777777777778,
              "#fb9f3a"
             ],
             [
              0.8888888888888888,
              "#fdca26"
             ],
             [
              1,
              "#f0f921"
             ]
            ],
            "type": "surface"
           }
          ],
          "table": [
           {
            "cells": {
             "fill": {
              "color": "#EBF0F8"
             },
             "line": {
              "color": "white"
             }
            },
            "header": {
             "fill": {
              "color": "#C8D4E3"
             },
             "line": {
              "color": "white"
             }
            },
            "type": "table"
           }
          ]
         },
         "layout": {
          "annotationdefaults": {
           "arrowcolor": "#2a3f5f",
           "arrowhead": 0,
           "arrowwidth": 1
          },
          "autotypenumbers": "strict",
          "coloraxis": {
           "colorbar": {
            "outlinewidth": 0,
            "ticks": ""
           }
          },
          "colorscale": {
           "diverging": [
            [
             0,
             "#8e0152"
            ],
            [
             0.1,
             "#c51b7d"
            ],
            [
             0.2,
             "#de77ae"
            ],
            [
             0.3,
             "#f1b6da"
            ],
            [
             0.4,
             "#fde0ef"
            ],
            [
             0.5,
             "#f7f7f7"
            ],
            [
             0.6,
             "#e6f5d0"
            ],
            [
             0.7,
             "#b8e186"
            ],
            [
             0.8,
             "#7fbc41"
            ],
            [
             0.9,
             "#4d9221"
            ],
            [
             1,
             "#276419"
            ]
           ],
           "sequential": [
            [
             0,
             "#0d0887"
            ],
            [
             0.1111111111111111,
             "#46039f"
            ],
            [
             0.2222222222222222,
             "#7201a8"
            ],
            [
             0.3333333333333333,
             "#9c179e"
            ],
            [
             0.4444444444444444,
             "#bd3786"
            ],
            [
             0.5555555555555556,
             "#d8576b"
            ],
            [
             0.6666666666666666,
             "#ed7953"
            ],
            [
             0.7777777777777778,
             "#fb9f3a"
            ],
            [
             0.8888888888888888,
             "#fdca26"
            ],
            [
             1,
             "#f0f921"
            ]
           ],
           "sequentialminus": [
            [
             0,
             "#0d0887"
            ],
            [
             0.1111111111111111,
             "#46039f"
            ],
            [
             0.2222222222222222,
             "#7201a8"
            ],
            [
             0.3333333333333333,
             "#9c179e"
            ],
            [
             0.4444444444444444,
             "#bd3786"
            ],
            [
             0.5555555555555556,
             "#d8576b"
            ],
            [
             0.6666666666666666,
             "#ed7953"
            ],
            [
             0.7777777777777778,
             "#fb9f3a"
            ],
            [
             0.8888888888888888,
             "#fdca26"
            ],
            [
             1,
             "#f0f921"
            ]
           ]
          },
          "colorway": [
           "#636efa",
           "#EF553B",
           "#00cc96",
           "#ab63fa",
           "#FFA15A",
           "#19d3f3",
           "#FF6692",
           "#B6E880",
           "#FF97FF",
           "#FECB52"
          ],
          "font": {
           "color": "#2a3f5f"
          },
          "geo": {
           "bgcolor": "white",
           "lakecolor": "white",
           "landcolor": "#E5ECF6",
           "showlakes": true,
           "showland": true,
           "subunitcolor": "white"
          },
          "hoverlabel": {
           "align": "left"
          },
          "hovermode": "closest",
          "mapbox": {
           "style": "light"
          },
          "paper_bgcolor": "white",
          "plot_bgcolor": "#E5ECF6",
          "polar": {
           "angularaxis": {
            "gridcolor": "white",
            "linecolor": "white",
            "ticks": ""
           },
           "bgcolor": "#E5ECF6",
           "radialaxis": {
            "gridcolor": "white",
            "linecolor": "white",
            "ticks": ""
           }
          },
          "scene": {
           "xaxis": {
            "backgroundcolor": "#E5ECF6",
            "gridcolor": "white",
            "gridwidth": 2,
            "linecolor": "white",
            "showbackground": true,
            "ticks": "",
            "zerolinecolor": "white"
           },
           "yaxis": {
            "backgroundcolor": "#E5ECF6",
            "gridcolor": "white",
            "gridwidth": 2,
            "linecolor": "white",
            "showbackground": true,
            "ticks": "",
            "zerolinecolor": "white"
           },
           "zaxis": {
            "backgroundcolor": "#E5ECF6",
            "gridcolor": "white",
            "gridwidth": 2,
            "linecolor": "white",
            "showbackground": true,
            "ticks": "",
            "zerolinecolor": "white"
           }
          },
          "shapedefaults": {
           "line": {
            "color": "#2a3f5f"
           }
          },
          "ternary": {
           "aaxis": {
            "gridcolor": "white",
            "linecolor": "white",
            "ticks": ""
           },
           "baxis": {
            "gridcolor": "white",
            "linecolor": "white",
            "ticks": ""
           },
           "bgcolor": "#E5ECF6",
           "caxis": {
            "gridcolor": "white",
            "linecolor": "white",
            "ticks": ""
           }
          },
          "title": {
           "x": 0.05
          },
          "xaxis": {
           "automargin": true,
           "gridcolor": "white",
           "linecolor": "white",
           "ticks": "",
           "title": {
            "standoff": 15
           },
           "zerolinecolor": "white",
           "zerolinewidth": 2
          },
          "yaxis": {
           "automargin": true,
           "gridcolor": "white",
           "linecolor": "white",
           "ticks": "",
           "title": {
            "standoff": 15
           },
           "zerolinecolor": "white",
           "zerolinewidth": 2
          }
         }
        },
        "title": {
         "text": "U.S. 2020 presidential elections per state"
        },
        "xaxis": {
         "anchor": "y",
         "domain": [
          0,
          1
         ],
         "title": {
          "text": "State"
         }
        },
        "yaxis": {
         "anchor": "x",
         "domain": [
          0,
          1
         ],
         "title": {
          "text": "%"
         }
        }
       }
      },
      "text/html": [
       "<div>                            <div id=\"e128bc4a-7b12-42b2-89fd-043ac29a0389\" class=\"plotly-graph-div\" style=\"height:525px; width:100%;\"></div>            <script type=\"text/javascript\">                require([\"plotly\"], function(Plotly) {                    window.PLOTLYENV=window.PLOTLYENV || {};                                    if (document.getElementById(\"e128bc4a-7b12-42b2-89fd-043ac29a0389\")) {                    Plotly.newPlot(                        \"e128bc4a-7b12-42b2-89fd-043ac29a0389\",                        [{\"alignmentgroup\":\"True\",\"hovertemplate\":\"Party=Democratic<br>State=%{x}<br>%=%{y}<extra></extra>\",\"legendgroup\":\"Democratic\",\"marker\":{\"color\":\"#636efa\",\"pattern\":{\"shape\":\"\"}},\"name\":\"Democratic\",\"offsetgroup\":\"Democratic\",\"orientation\":\"v\",\"showlegend\":true,\"textposition\":\"auto\",\"x\":[\"District of Columbia\",\"Vermont\",\"Massachusetts\",\"Maryland\",\"Hawaii\",\"California\",\"New York\",\"Rhode Island\",\"Connecticut\",\"Washington\",\"Delaware\",\"Illinois\",\"Oregon\",\"New Jersey\",\"Colorado\",\"New Mexico\",\"Virginia\",\"Maine\",\"New Hampshire\",\"Minnesota\",\"Michigan\",\"Nevada\",\"Pennsylvania\",\"Wisconsin\",\"Arizona\",\"Georgia\",\"North Carolina\",\"Florida\",\"Texas\",\"Ohio\",\"Iowa\",\"Alaska\",\"South Carolina\",\"Kansas\",\"Missouri\",\"Indiana\",\"Mississippi\",\"Montana\",\"Louisiana\",\"Nebraska\",\"Utah\",\"Tennessee\",\"Alabama\",\"Kentucky\",\"South Dakota\",\"Arkansas\",\"Idaho\",\"Oklahoma\",\"North Dakota\",\"West Virginia\",\"Wyoming\"],\"xaxis\":\"x\",\"y\":[94.46695384761945,68.29918655280656,67.11554954014815,67.02904704709235,65.03266464651489,64.9096897735854,61.73605254198259,60.5101897649823,60.17246380927086,59.92550318479069,59.62674416498447,58.65904373280692,58.307156985441736,58.07128358679484,56.93831949230015,55.51849015171974,55.15468699939991,54.46460653970535,53.74834772159504,53.63951364856667,51.41355934440946,51.22311734004381,50.59708817513884,50.317952268896775,50.15683167912932,50.11932966290865,49.31581746681327,48.30524533785844,47.16927876322047,45.92330235229728,45.816736915362945,44.68579684646239,44.073391250417906,42.42725945097432,42.16417935559855,41.80181519856194,41.61501417261114,41.6028199079519,40.535559543708956,40.215947753398275,39.30639487814837,38.17222962793365,37.089316645247806,36.79989709973703,36.5652201383185,35.78756672201685,34.12289764236351,33.05996050309349,32.782591577103375,30.201467686077976,27.519565624414895],\"yaxis\":\"y\",\"type\":\"bar\"},{\"alignmentgroup\":\"True\",\"hovertemplate\":\"Party=Republican<br>State=%{x}<br>%=%{y}<extra></extra>\",\"legendgroup\":\"Republican\",\"marker\":{\"color\":\"#EF553B\",\"pattern\":{\"shape\":\"\"}},\"name\":\"Republican\",\"offsetgroup\":\"Republican\",\"orientation\":\"v\",\"showlegend\":true,\"textposition\":\"auto\",\"x\":[\"District of Columbia\",\"Vermont\",\"Massachusetts\",\"Maryland\",\"Hawaii\",\"California\",\"New York\",\"Rhode Island\",\"Connecticut\",\"Washington\",\"Delaware\",\"Illinois\",\"Oregon\",\"New Jersey\",\"Colorado\",\"New Mexico\",\"Virginia\",\"Maine\",\"New Hampshire\",\"Minnesota\",\"Michigan\",\"Nevada\",\"Pennsylvania\",\"Wisconsin\",\"Arizona\",\"Georgia\",\"North Carolina\",\"Florida\",\"Texas\",\"Ohio\",\"Iowa\",\"Alaska\",\"South Carolina\",\"Kansas\",\"Missouri\",\"Indiana\",\"Mississippi\",\"Montana\",\"Louisiana\",\"Nebraska\",\"Utah\",\"Tennessee\",\"Alabama\",\"Kentucky\",\"South Dakota\",\"Arkansas\",\"Idaho\",\"Oklahoma\",\"North Dakota\",\"West Virginia\",\"Wyoming\"],\"xaxis\":\"x\",\"y\":[5.533046152380555,31.700813447193436,32.88445045985185,32.97095295290766,34.96733535348512,35.0903102264146,38.26394745801741,39.4898102350177,39.82753619072914,40.07449681520931,40.37325583501553,41.34095626719308,41.692843014558264,41.92871641320516,43.06168050769985,44.48150984828026,44.84531300060009,45.53539346029465,46.25165227840496,46.36048635143333,48.58644065559054,48.77688265995619,49.40291182486116,49.682047731103225,49.84316832087068,49.88067033709135,50.68418253318673,51.69475466214156,52.83072123677953,54.07669764770272,54.183263084637055,55.31420315353761,55.926608749582094,57.57274054902568,57.83582064440145,58.19818480143806,58.38498582738886,58.3971800920481,59.464440456291044,59.784052246601725,60.69360512185163,61.82777037206635,62.910683354752194,63.20010290026297,63.4347798616815,64.21243327798315,65.87710235763649,66.94003949690651,67.21740842289663,69.79853231392202,72.4804343755851],\"yaxis\":\"y\",\"type\":\"bar\"}],                        {\"template\":{\"data\":{\"bar\":[{\"error_x\":{\"color\":\"#2a3f5f\"},\"error_y\":{\"color\":\"#2a3f5f\"},\"marker\":{\"line\":{\"color\":\"#E5ECF6\",\"width\":0.5},\"pattern\":{\"fillmode\":\"overlay\",\"size\":10,\"solidity\":0.2}},\"type\":\"bar\"}],\"barpolar\":[{\"marker\":{\"line\":{\"color\":\"#E5ECF6\",\"width\":0.5},\"pattern\":{\"fillmode\":\"overlay\",\"size\":10,\"solidity\":0.2}},\"type\":\"barpolar\"}],\"carpet\":[{\"aaxis\":{\"endlinecolor\":\"#2a3f5f\",\"gridcolor\":\"white\",\"linecolor\":\"white\",\"minorgridcolor\":\"white\",\"startlinecolor\":\"#2a3f5f\"},\"baxis\":{\"endlinecolor\":\"#2a3f5f\",\"gridcolor\":\"white\",\"linecolor\":\"white\",\"minorgridcolor\":\"white\",\"startlinecolor\":\"#2a3f5f\"},\"type\":\"carpet\"}],\"choropleth\":[{\"colorbar\":{\"outlinewidth\":0,\"ticks\":\"\"},\"type\":\"choropleth\"}],\"contour\":[{\"colorbar\":{\"outlinewidth\":0,\"ticks\":\"\"},\"colorscale\":[[0.0,\"#0d0887\"],[0.1111111111111111,\"#46039f\"],[0.2222222222222222,\"#7201a8\"],[0.3333333333333333,\"#9c179e\"],[0.4444444444444444,\"#bd3786\"],[0.5555555555555556,\"#d8576b\"],[0.6666666666666666,\"#ed7953\"],[0.7777777777777778,\"#fb9f3a\"],[0.8888888888888888,\"#fdca26\"],[1.0,\"#f0f921\"]],\"type\":\"contour\"}],\"contourcarpet\":[{\"colorbar\":{\"outlinewidth\":0,\"ticks\":\"\"},\"type\":\"contourcarpet\"}],\"heatmap\":[{\"colorbar\":{\"outlinewidth\":0,\"ticks\":\"\"},\"colorscale\":[[0.0,\"#0d0887\"],[0.1111111111111111,\"#46039f\"],[0.2222222222222222,\"#7201a8\"],[0.3333333333333333,\"#9c179e\"],[0.4444444444444444,\"#bd3786\"],[0.5555555555555556,\"#d8576b\"],[0.6666666666666666,\"#ed7953\"],[0.7777777777777778,\"#fb9f3a\"],[0.8888888888888888,\"#fdca26\"],[1.0,\"#f0f921\"]],\"type\":\"heatmap\"}],\"heatmapgl\":[{\"colorbar\":{\"outlinewidth\":0,\"ticks\":\"\"},\"colorscale\":[[0.0,\"#0d0887\"],[0.1111111111111111,\"#46039f\"],[0.2222222222222222,\"#7201a8\"],[0.3333333333333333,\"#9c179e\"],[0.4444444444444444,\"#bd3786\"],[0.5555555555555556,\"#d8576b\"],[0.6666666666666666,\"#ed7953\"],[0.7777777777777778,\"#fb9f3a\"],[0.8888888888888888,\"#fdca26\"],[1.0,\"#f0f921\"]],\"type\":\"heatmapgl\"}],\"histogram\":[{\"marker\":{\"pattern\":{\"fillmode\":\"overlay\",\"size\":10,\"solidity\":0.2}},\"type\":\"histogram\"}],\"histogram2d\":[{\"colorbar\":{\"outlinewidth\":0,\"ticks\":\"\"},\"colorscale\":[[0.0,\"#0d0887\"],[0.1111111111111111,\"#46039f\"],[0.2222222222222222,\"#7201a8\"],[0.3333333333333333,\"#9c179e\"],[0.4444444444444444,\"#bd3786\"],[0.5555555555555556,\"#d8576b\"],[0.6666666666666666,\"#ed7953\"],[0.7777777777777778,\"#fb9f3a\"],[0.8888888888888888,\"#fdca26\"],[1.0,\"#f0f921\"]],\"type\":\"histogram2d\"}],\"histogram2dcontour\":[{\"colorbar\":{\"outlinewidth\":0,\"ticks\":\"\"},\"colorscale\":[[0.0,\"#0d0887\"],[0.1111111111111111,\"#46039f\"],[0.2222222222222222,\"#7201a8\"],[0.3333333333333333,\"#9c179e\"],[0.4444444444444444,\"#bd3786\"],[0.5555555555555556,\"#d8576b\"],[0.6666666666666666,\"#ed7953\"],[0.7777777777777778,\"#fb9f3a\"],[0.8888888888888888,\"#fdca26\"],[1.0,\"#f0f921\"]],\"type\":\"histogram2dcontour\"}],\"mesh3d\":[{\"colorbar\":{\"outlinewidth\":0,\"ticks\":\"\"},\"type\":\"mesh3d\"}],\"parcoords\":[{\"line\":{\"colorbar\":{\"outlinewidth\":0,\"ticks\":\"\"}},\"type\":\"parcoords\"}],\"pie\":[{\"automargin\":true,\"type\":\"pie\"}],\"scatter\":[{\"marker\":{\"colorbar\":{\"outlinewidth\":0,\"ticks\":\"\"}},\"type\":\"scatter\"}],\"scatter3d\":[{\"line\":{\"colorbar\":{\"outlinewidth\":0,\"ticks\":\"\"}},\"marker\":{\"colorbar\":{\"outlinewidth\":0,\"ticks\":\"\"}},\"type\":\"scatter3d\"}],\"scattercarpet\":[{\"marker\":{\"colorbar\":{\"outlinewidth\":0,\"ticks\":\"\"}},\"type\":\"scattercarpet\"}],\"scattergeo\":[{\"marker\":{\"colorbar\":{\"outlinewidth\":0,\"ticks\":\"\"}},\"type\":\"scattergeo\"}],\"scattergl\":[{\"marker\":{\"colorbar\":{\"outlinewidth\":0,\"ticks\":\"\"}},\"type\":\"scattergl\"}],\"scattermapbox\":[{\"marker\":{\"colorbar\":{\"outlinewidth\":0,\"ticks\":\"\"}},\"type\":\"scattermapbox\"}],\"scatterpolar\":[{\"marker\":{\"colorbar\":{\"outlinewidth\":0,\"ticks\":\"\"}},\"type\":\"scatterpolar\"}],\"scatterpolargl\":[{\"marker\":{\"colorbar\":{\"outlinewidth\":0,\"ticks\":\"\"}},\"type\":\"scatterpolargl\"}],\"scatterternary\":[{\"marker\":{\"colorbar\":{\"outlinewidth\":0,\"ticks\":\"\"}},\"type\":\"scatterternary\"}],\"surface\":[{\"colorbar\":{\"outlinewidth\":0,\"ticks\":\"\"},\"colorscale\":[[0.0,\"#0d0887\"],[0.1111111111111111,\"#46039f\"],[0.2222222222222222,\"#7201a8\"],[0.3333333333333333,\"#9c179e\"],[0.4444444444444444,\"#bd3786\"],[0.5555555555555556,\"#d8576b\"],[0.6666666666666666,\"#ed7953\"],[0.7777777777777778,\"#fb9f3a\"],[0.8888888888888888,\"#fdca26\"],[1.0,\"#f0f921\"]],\"type\":\"surface\"}],\"table\":[{\"cells\":{\"fill\":{\"color\":\"#EBF0F8\"},\"line\":{\"color\":\"white\"}},\"header\":{\"fill\":{\"color\":\"#C8D4E3\"},\"line\":{\"color\":\"white\"}},\"type\":\"table\"}]},\"layout\":{\"annotationdefaults\":{\"arrowcolor\":\"#2a3f5f\",\"arrowhead\":0,\"arrowwidth\":1},\"autotypenumbers\":\"strict\",\"coloraxis\":{\"colorbar\":{\"outlinewidth\":0,\"ticks\":\"\"}},\"colorscale\":{\"diverging\":[[0,\"#8e0152\"],[0.1,\"#c51b7d\"],[0.2,\"#de77ae\"],[0.3,\"#f1b6da\"],[0.4,\"#fde0ef\"],[0.5,\"#f7f7f7\"],[0.6,\"#e6f5d0\"],[0.7,\"#b8e186\"],[0.8,\"#7fbc41\"],[0.9,\"#4d9221\"],[1,\"#276419\"]],\"sequential\":[[0.0,\"#0d0887\"],[0.1111111111111111,\"#46039f\"],[0.2222222222222222,\"#7201a8\"],[0.3333333333333333,\"#9c179e\"],[0.4444444444444444,\"#bd3786\"],[0.5555555555555556,\"#d8576b\"],[0.6666666666666666,\"#ed7953\"],[0.7777777777777778,\"#fb9f3a\"],[0.8888888888888888,\"#fdca26\"],[1.0,\"#f0f921\"]],\"sequentialminus\":[[0.0,\"#0d0887\"],[0.1111111111111111,\"#46039f\"],[0.2222222222222222,\"#7201a8\"],[0.3333333333333333,\"#9c179e\"],[0.4444444444444444,\"#bd3786\"],[0.5555555555555556,\"#d8576b\"],[0.6666666666666666,\"#ed7953\"],[0.7777777777777778,\"#fb9f3a\"],[0.8888888888888888,\"#fdca26\"],[1.0,\"#f0f921\"]]},\"colorway\":[\"#636efa\",\"#EF553B\",\"#00cc96\",\"#ab63fa\",\"#FFA15A\",\"#19d3f3\",\"#FF6692\",\"#B6E880\",\"#FF97FF\",\"#FECB52\"],\"font\":{\"color\":\"#2a3f5f\"},\"geo\":{\"bgcolor\":\"white\",\"lakecolor\":\"white\",\"landcolor\":\"#E5ECF6\",\"showlakes\":true,\"showland\":true,\"subunitcolor\":\"white\"},\"hoverlabel\":{\"align\":\"left\"},\"hovermode\":\"closest\",\"mapbox\":{\"style\":\"light\"},\"paper_bgcolor\":\"white\",\"plot_bgcolor\":\"#E5ECF6\",\"polar\":{\"angularaxis\":{\"gridcolor\":\"white\",\"linecolor\":\"white\",\"ticks\":\"\"},\"bgcolor\":\"#E5ECF6\",\"radialaxis\":{\"gridcolor\":\"white\",\"linecolor\":\"white\",\"ticks\":\"\"}},\"scene\":{\"xaxis\":{\"backgroundcolor\":\"#E5ECF6\",\"gridcolor\":\"white\",\"gridwidth\":2,\"linecolor\":\"white\",\"showbackground\":true,\"ticks\":\"\",\"zerolinecolor\":\"white\"},\"yaxis\":{\"backgroundcolor\":\"#E5ECF6\",\"gridcolor\":\"white\",\"gridwidth\":2,\"linecolor\":\"white\",\"showbackground\":true,\"ticks\":\"\",\"zerolinecolor\":\"white\"},\"zaxis\":{\"backgroundcolor\":\"#E5ECF6\",\"gridcolor\":\"white\",\"gridwidth\":2,\"linecolor\":\"white\",\"showbackground\":true,\"ticks\":\"\",\"zerolinecolor\":\"white\"}},\"shapedefaults\":{\"line\":{\"color\":\"#2a3f5f\"}},\"ternary\":{\"aaxis\":{\"gridcolor\":\"white\",\"linecolor\":\"white\",\"ticks\":\"\"},\"baxis\":{\"gridcolor\":\"white\",\"linecolor\":\"white\",\"ticks\":\"\"},\"bgcolor\":\"#E5ECF6\",\"caxis\":{\"gridcolor\":\"white\",\"linecolor\":\"white\",\"ticks\":\"\"}},\"title\":{\"x\":0.05},\"xaxis\":{\"automargin\":true,\"gridcolor\":\"white\",\"linecolor\":\"white\",\"ticks\":\"\",\"title\":{\"standoff\":15},\"zerolinecolor\":\"white\",\"zerolinewidth\":2},\"yaxis\":{\"automargin\":true,\"gridcolor\":\"white\",\"linecolor\":\"white\",\"ticks\":\"\",\"title\":{\"standoff\":15},\"zerolinecolor\":\"white\",\"zerolinewidth\":2}}},\"xaxis\":{\"anchor\":\"y\",\"domain\":[0.0,1.0],\"title\":{\"text\":\"State\"}},\"yaxis\":{\"anchor\":\"x\",\"domain\":[0.0,1.0],\"title\":{\"text\":\"%\"}},\"legend\":{\"title\":{\"text\":\"Party\"},\"tracegroupgap\":0},\"title\":{\"text\":\"U.S. 2020 presidential elections per state\"},\"barmode\":\"relative\",\"shapes\":[{\"line\":{\"color\":\"green\",\"dash\":\"dash\",\"width\":3},\"type\":\"line\",\"x0\":0,\"x1\":1,\"xref\":\"x domain\",\"y0\":50,\"y1\":50,\"yref\":\"y\"}],\"annotations\":[{\"showarrow\":false,\"text\":\"50%\",\"x\":1,\"xanchor\":\"right\",\"xref\":\"x domain\",\"y\":50,\"yanchor\":\"top\",\"yref\":\"y\"}]},                        {\"responsive\": true}                    ).then(function(){\n",
       "                            \n",
       "var gd = document.getElementById('e128bc4a-7b12-42b2-89fd-043ac29a0389');\n",
       "var x = new MutationObserver(function (mutations, observer) {{\n",
       "        var display = window.getComputedStyle(gd).display;\n",
       "        if (!display || display === 'none') {{\n",
       "            console.log([gd, 'removed!']);\n",
       "            Plotly.purge(gd);\n",
       "            observer.disconnect();\n",
       "        }}\n",
       "}});\n",
       "\n",
       "// Listen for the removal of the full notebook cells\n",
       "var notebookContainer = gd.closest('#notebook-container');\n",
       "if (notebookContainer) {{\n",
       "    x.observe(notebookContainer, {childList: true});\n",
       "}}\n",
       "\n",
       "// Listen for the clearing of the current output cell\n",
       "var outputEl = gd.closest('.output');\n",
       "if (outputEl) {{\n",
       "    x.observe(outputEl, {childList: true});\n",
       "}}\n",
       "\n",
       "                        })                };                });            </script>        </div>"
      ]
     },
     "metadata": {},
     "output_type": "display_data"
    }
   ],
   "source": [
    "total_votes = tmp[\"total_votes\"].sum()\n",
    "total_republicans = tmp.groupby(\"state_name\")[\"votes_gop\"].sum().reset_index()\n",
    "total_democrats = tmp.groupby(\"state_name\")[\"votes_dem\"].sum().reset_index()\n",
    "df = pd.merge(total_republicans, total_democrats, on=\"state_name\", how=\"inner\")\n",
    "df[\"total_votes_state\"] = df[\"votes_gop\"] + df[\"votes_dem\"]\n",
    "df[\"Republican\"] = (df[\"votes_gop\"] / df[\"total_votes_state\"])*100\n",
    "df[\"Democratic\"] = np.abs(100 - df[\"Republican\"])\n",
    "df = df.sort_values(by=\"Democratic\", ascending=False)\n",
    "display(df.head())\n",
    "fig = px.bar(df, x=\"state_name\", y=[\"Democratic\", \"Republican\"],\n",
    "             title=\"U.S. 2020 presidential elections per state\", \n",
    "             labels={\"value\": \"%\",\n",
    "                     \"state_name\": \"State\",\n",
    "                     \"variable\": \"Party\"})\n",
    "fig.add_hline(y=50, line_width=3, line_dash=\"dash\", line_color=\"green\",\n",
    "              annotation_text=\"50%\", \n",
    "              annotation_position=\"bottom right\")\n",
    "fig"
   ]
  },
  {
   "cell_type": "code",
   "execution_count": null,
   "metadata": {},
   "outputs": [],
   "source": []
  },
  {
   "cell_type": "code",
   "execution_count": 16,
   "metadata": {},
   "outputs": [],
   "source": [
    "# https://plotly.com/python/mapbox-county-choropleth/ US MAP"
   ]
  },
  {
   "cell_type": "code",
   "execution_count": 20,
   "metadata": {},
   "outputs": [],
   "source": [
    "top_countys = df.sort_values(\n",
    "    by=\"total_votes_state\",\n",
    "    ascending=False\n",
    ").iloc[:1][[\"state_name\"]]\n",
    "top_countys.reset_index(inplace=True, drop=True)"
   ]
  },
  {
   "cell_type": "code",
   "execution_count": 21,
   "metadata": {},
   "outputs": [],
   "source": [
    "top_countys = tmp[tmp[\"state_name\"].isin(top_countys[\"state_name\"])]\n",
    "top_countys = top_countys.groupby(\"county_name\").agg({\"votes_gop\": \"sum\",\n",
    "                                             \"votes_dem\": \"sum\"})\n",
    "top_countys[\"total_votes_county\"] = top_countys[\"votes_gop\"] + top_countys[\"votes_dem\"]\n",
    "top_countys[\"Democrats\"] = (top_countys[\"votes_gop\"] / top_countys[\"total_votes_county\"])*100\n",
    "top_countys = top_countys.sort_values(by=\"Democrats\", ascending=False)"
   ]
  },
  {
   "cell_type": "code",
   "execution_count": 22,
   "metadata": {},
   "outputs": [
    {
     "data": {
      "text/html": [
       "<div>\n",
       "<style scoped>\n",
       "    .dataframe tbody tr th:only-of-type {\n",
       "        vertical-align: middle;\n",
       "    }\n",
       "\n",
       "    .dataframe tbody tr th {\n",
       "        vertical-align: top;\n",
       "    }\n",
       "\n",
       "    .dataframe thead th {\n",
       "        text-align: right;\n",
       "    }\n",
       "</style>\n",
       "<table border=\"1\" class=\"dataframe\">\n",
       "  <thead>\n",
       "    <tr style=\"text-align: right;\">\n",
       "      <th></th>\n",
       "      <th>votes_gop</th>\n",
       "      <th>votes_dem</th>\n",
       "      <th>total_votes_county</th>\n",
       "      <th>Democrats</th>\n",
       "    </tr>\n",
       "    <tr>\n",
       "      <th>county_name</th>\n",
       "      <th></th>\n",
       "      <th></th>\n",
       "      <th></th>\n",
       "      <th></th>\n",
       "    </tr>\n",
       "  </thead>\n",
       "  <tbody>\n",
       "    <tr>\n",
       "      <th>Lassen County</th>\n",
       "      <td>8970</td>\n",
       "      <td>2799</td>\n",
       "      <td>11769</td>\n",
       "      <td>76.217181</td>\n",
       "    </tr>\n",
       "    <tr>\n",
       "      <th>Modoc County</th>\n",
       "      <td>3109</td>\n",
       "      <td>1150</td>\n",
       "      <td>4259</td>\n",
       "      <td>72.998356</td>\n",
       "    </tr>\n",
       "    <tr>\n",
       "      <th>Tehama County</th>\n",
       "      <td>19141</td>\n",
       "      <td>8911</td>\n",
       "      <td>28052</td>\n",
       "      <td>68.233994</td>\n",
       "    </tr>\n",
       "    <tr>\n",
       "      <th>Shasta County</th>\n",
       "      <td>60789</td>\n",
       "      <td>30000</td>\n",
       "      <td>90789</td>\n",
       "      <td>66.956349</td>\n",
       "    </tr>\n",
       "    <tr>\n",
       "      <th>Glenn County</th>\n",
       "      <td>7063</td>\n",
       "      <td>3995</td>\n",
       "      <td>11058</td>\n",
       "      <td>63.872310</td>\n",
       "    </tr>\n",
       "  </tbody>\n",
       "</table>\n",
       "</div>"
      ],
      "text/plain": [
       "               votes_gop  votes_dem  total_votes_county  Democrats\n",
       "county_name                                                       \n",
       "Lassen County       8970       2799               11769  76.217181\n",
       "Modoc County        3109       1150                4259  72.998356\n",
       "Tehama County      19141       8911               28052  68.233994\n",
       "Shasta County      60789      30000               90789  66.956349\n",
       "Glenn County        7063       3995               11058  63.872310"
      ]
     },
     "execution_count": 22,
     "metadata": {},
     "output_type": "execute_result"
    }
   ],
   "source": [
    "top_countys.head()"
   ]
  },
  {
   "cell_type": "code",
   "execution_count": 24,
   "metadata": {},
   "outputs": [
    {
     "data": {
      "application/vnd.plotly.v1+json": {
       "config": {
        "plotlyServerURL": "https://plot.ly"
       },
       "data": [
        {
         "alignmentgroup": "True",
         "hovertemplate": "County=%{x}<br>%=%{y}<extra></extra>",
         "legendgroup": "",
         "marker": {
          "color": "#636efa",
          "pattern": {
           "shape": ""
          }
         },
         "name": "",
         "offsetgroup": "",
         "orientation": "v",
         "showlegend": false,
         "textposition": "auto",
         "type": "bar",
         "x": [
          "Lassen County",
          "Modoc County",
          "Tehama County",
          "Shasta County",
          "Glenn County",
          "Amador County",
          "Calaveras County",
          "Yuba County",
          "Sierra County",
          "Tuolumne County",
          "Mariposa County",
          "Plumas County",
          "Colusa County",
          "Sutter County",
          "Siskiyou County",
          "Del Norte County",
          "Kings County",
          "Madera County",
          "Kern County",
          "El Dorado County",
          "Tulare County",
          "Placer County",
          "Trinity County",
          "Inyo County",
          "Stanislaus County",
          "Butte County",
          "Lake County",
          "Fresno County",
          "Riverside County",
          "Orange County",
          "Merced County",
          "San Bernardino County",
          "San Luis Obispo County",
          "San Joaquin County",
          "Nevada County",
          "Ventura County",
          "Mono County",
          "San Diego County",
          "Imperial County",
          "San Benito County",
          "Sacramento County",
          "Solano County",
          "Alpine County",
          "Santa Barbara County",
          "Humboldt County",
          "Mendocino County",
          "Napa County",
          "Monterey County",
          "Yolo County",
          "Los Angeles County",
          "Contra Costa County",
          "Santa Clara County",
          "Sonoma County",
          "San Mateo County",
          "Santa Cruz County",
          "Alameda County",
          "Marin County",
          "San Francisco County"
         ],
         "xaxis": "x",
         "y": [
          76.21718072903391,
          72.99835642169523,
          68.2339940111222,
          66.9563493374748,
          63.872309640079585,
          62.49424970098445,
          62.181900316217444,
          61.14993426970179,
          61.00427350427351,
          59.625172750867975,
          59.274755927475596,
          58.55896783572597,
          58.47457627118644,
          58.39442288342676,
          58.07804920683477,
          58.008619141677144,
          56.28112506137336,
          55.90910820994937,
          55.223770354205136,
          54.50250751372743,
          53.99278973302525,
          53.4049538492394,
          52.79019705249214,
          49.92435703479576,
          49.596163553760725,
          49.14478195974021,
          46.76097491448118,
          46.0053316325817,
          45.94310943462684,
          45.38710653489048,
          44.572792686790066,
          44.550525716565545,
          43.298704300591986,
          42.90679752688363,
          42.413443568057275,
          39.21880100097922,
          38.507508427827155,
          38.35093791700112,
          37.54524988743809,
          37.52923665745269,
          37.046584396462215,
          34.49003458657842,
          33.88888888888889,
          33.59036070700412,
          32.718146021822115,
          31.5512854051226,
          29.330571829827072,
          28.891371090532413,
          28.76172410159132,
          27.441689434327927,
          26.855249682484196,
          25.776773135041843,
          23.618693245416654,
          20.590888157984374,
          19.079492573468475,
          18.078883984466184,
          16.096795291039896,
          12.982168703531974
         ],
         "yaxis": "y"
        }
       ],
       "layout": {
        "annotations": [
         {
          "showarrow": false,
          "text": "50%",
          "x": 1,
          "xanchor": "right",
          "xref": "x domain",
          "y": 50,
          "yanchor": "top",
          "yref": "y"
         }
        ],
        "barmode": "relative",
        "legend": {
         "tracegroupgap": 0
        },
        "shapes": [
         {
          "line": {
           "color": "green",
           "dash": "dash",
           "width": 3
          },
          "type": "line",
          "x0": 0,
          "x1": 1,
          "xref": "x domain",
          "y0": 50,
          "y1": 50,
          "yref": "y"
         }
        ],
        "template": {
         "data": {
          "bar": [
           {
            "error_x": {
             "color": "#2a3f5f"
            },
            "error_y": {
             "color": "#2a3f5f"
            },
            "marker": {
             "line": {
              "color": "#E5ECF6",
              "width": 0.5
             },
             "pattern": {
              "fillmode": "overlay",
              "size": 10,
              "solidity": 0.2
             }
            },
            "type": "bar"
           }
          ],
          "barpolar": [
           {
            "marker": {
             "line": {
              "color": "#E5ECF6",
              "width": 0.5
             },
             "pattern": {
              "fillmode": "overlay",
              "size": 10,
              "solidity": 0.2
             }
            },
            "type": "barpolar"
           }
          ],
          "carpet": [
           {
            "aaxis": {
             "endlinecolor": "#2a3f5f",
             "gridcolor": "white",
             "linecolor": "white",
             "minorgridcolor": "white",
             "startlinecolor": "#2a3f5f"
            },
            "baxis": {
             "endlinecolor": "#2a3f5f",
             "gridcolor": "white",
             "linecolor": "white",
             "minorgridcolor": "white",
             "startlinecolor": "#2a3f5f"
            },
            "type": "carpet"
           }
          ],
          "choropleth": [
           {
            "colorbar": {
             "outlinewidth": 0,
             "ticks": ""
            },
            "type": "choropleth"
           }
          ],
          "contour": [
           {
            "colorbar": {
             "outlinewidth": 0,
             "ticks": ""
            },
            "colorscale": [
             [
              0,
              "#0d0887"
             ],
             [
              0.1111111111111111,
              "#46039f"
             ],
             [
              0.2222222222222222,
              "#7201a8"
             ],
             [
              0.3333333333333333,
              "#9c179e"
             ],
             [
              0.4444444444444444,
              "#bd3786"
             ],
             [
              0.5555555555555556,
              "#d8576b"
             ],
             [
              0.6666666666666666,
              "#ed7953"
             ],
             [
              0.7777777777777778,
              "#fb9f3a"
             ],
             [
              0.8888888888888888,
              "#fdca26"
             ],
             [
              1,
              "#f0f921"
             ]
            ],
            "type": "contour"
           }
          ],
          "contourcarpet": [
           {
            "colorbar": {
             "outlinewidth": 0,
             "ticks": ""
            },
            "type": "contourcarpet"
           }
          ],
          "heatmap": [
           {
            "colorbar": {
             "outlinewidth": 0,
             "ticks": ""
            },
            "colorscale": [
             [
              0,
              "#0d0887"
             ],
             [
              0.1111111111111111,
              "#46039f"
             ],
             [
              0.2222222222222222,
              "#7201a8"
             ],
             [
              0.3333333333333333,
              "#9c179e"
             ],
             [
              0.4444444444444444,
              "#bd3786"
             ],
             [
              0.5555555555555556,
              "#d8576b"
             ],
             [
              0.6666666666666666,
              "#ed7953"
             ],
             [
              0.7777777777777778,
              "#fb9f3a"
             ],
             [
              0.8888888888888888,
              "#fdca26"
             ],
             [
              1,
              "#f0f921"
             ]
            ],
            "type": "heatmap"
           }
          ],
          "heatmapgl": [
           {
            "colorbar": {
             "outlinewidth": 0,
             "ticks": ""
            },
            "colorscale": [
             [
              0,
              "#0d0887"
             ],
             [
              0.1111111111111111,
              "#46039f"
             ],
             [
              0.2222222222222222,
              "#7201a8"
             ],
             [
              0.3333333333333333,
              "#9c179e"
             ],
             [
              0.4444444444444444,
              "#bd3786"
             ],
             [
              0.5555555555555556,
              "#d8576b"
             ],
             [
              0.6666666666666666,
              "#ed7953"
             ],
             [
              0.7777777777777778,
              "#fb9f3a"
             ],
             [
              0.8888888888888888,
              "#fdca26"
             ],
             [
              1,
              "#f0f921"
             ]
            ],
            "type": "heatmapgl"
           }
          ],
          "histogram": [
           {
            "marker": {
             "pattern": {
              "fillmode": "overlay",
              "size": 10,
              "solidity": 0.2
             }
            },
            "type": "histogram"
           }
          ],
          "histogram2d": [
           {
            "colorbar": {
             "outlinewidth": 0,
             "ticks": ""
            },
            "colorscale": [
             [
              0,
              "#0d0887"
             ],
             [
              0.1111111111111111,
              "#46039f"
             ],
             [
              0.2222222222222222,
              "#7201a8"
             ],
             [
              0.3333333333333333,
              "#9c179e"
             ],
             [
              0.4444444444444444,
              "#bd3786"
             ],
             [
              0.5555555555555556,
              "#d8576b"
             ],
             [
              0.6666666666666666,
              "#ed7953"
             ],
             [
              0.7777777777777778,
              "#fb9f3a"
             ],
             [
              0.8888888888888888,
              "#fdca26"
             ],
             [
              1,
              "#f0f921"
             ]
            ],
            "type": "histogram2d"
           }
          ],
          "histogram2dcontour": [
           {
            "colorbar": {
             "outlinewidth": 0,
             "ticks": ""
            },
            "colorscale": [
             [
              0,
              "#0d0887"
             ],
             [
              0.1111111111111111,
              "#46039f"
             ],
             [
              0.2222222222222222,
              "#7201a8"
             ],
             [
              0.3333333333333333,
              "#9c179e"
             ],
             [
              0.4444444444444444,
              "#bd3786"
             ],
             [
              0.5555555555555556,
              "#d8576b"
             ],
             [
              0.6666666666666666,
              "#ed7953"
             ],
             [
              0.7777777777777778,
              "#fb9f3a"
             ],
             [
              0.8888888888888888,
              "#fdca26"
             ],
             [
              1,
              "#f0f921"
             ]
            ],
            "type": "histogram2dcontour"
           }
          ],
          "mesh3d": [
           {
            "colorbar": {
             "outlinewidth": 0,
             "ticks": ""
            },
            "type": "mesh3d"
           }
          ],
          "parcoords": [
           {
            "line": {
             "colorbar": {
              "outlinewidth": 0,
              "ticks": ""
             }
            },
            "type": "parcoords"
           }
          ],
          "pie": [
           {
            "automargin": true,
            "type": "pie"
           }
          ],
          "scatter": [
           {
            "marker": {
             "colorbar": {
              "outlinewidth": 0,
              "ticks": ""
             }
            },
            "type": "scatter"
           }
          ],
          "scatter3d": [
           {
            "line": {
             "colorbar": {
              "outlinewidth": 0,
              "ticks": ""
             }
            },
            "marker": {
             "colorbar": {
              "outlinewidth": 0,
              "ticks": ""
             }
            },
            "type": "scatter3d"
           }
          ],
          "scattercarpet": [
           {
            "marker": {
             "colorbar": {
              "outlinewidth": 0,
              "ticks": ""
             }
            },
            "type": "scattercarpet"
           }
          ],
          "scattergeo": [
           {
            "marker": {
             "colorbar": {
              "outlinewidth": 0,
              "ticks": ""
             }
            },
            "type": "scattergeo"
           }
          ],
          "scattergl": [
           {
            "marker": {
             "colorbar": {
              "outlinewidth": 0,
              "ticks": ""
             }
            },
            "type": "scattergl"
           }
          ],
          "scattermapbox": [
           {
            "marker": {
             "colorbar": {
              "outlinewidth": 0,
              "ticks": ""
             }
            },
            "type": "scattermapbox"
           }
          ],
          "scatterpolar": [
           {
            "marker": {
             "colorbar": {
              "outlinewidth": 0,
              "ticks": ""
             }
            },
            "type": "scatterpolar"
           }
          ],
          "scatterpolargl": [
           {
            "marker": {
             "colorbar": {
              "outlinewidth": 0,
              "ticks": ""
             }
            },
            "type": "scatterpolargl"
           }
          ],
          "scatterternary": [
           {
            "marker": {
             "colorbar": {
              "outlinewidth": 0,
              "ticks": ""
             }
            },
            "type": "scatterternary"
           }
          ],
          "surface": [
           {
            "colorbar": {
             "outlinewidth": 0,
             "ticks": ""
            },
            "colorscale": [
             [
              0,
              "#0d0887"
             ],
             [
              0.1111111111111111,
              "#46039f"
             ],
             [
              0.2222222222222222,
              "#7201a8"
             ],
             [
              0.3333333333333333,
              "#9c179e"
             ],
             [
              0.4444444444444444,
              "#bd3786"
             ],
             [
              0.5555555555555556,
              "#d8576b"
             ],
             [
              0.6666666666666666,
              "#ed7953"
             ],
             [
              0.7777777777777778,
              "#fb9f3a"
             ],
             [
              0.8888888888888888,
              "#fdca26"
             ],
             [
              1,
              "#f0f921"
             ]
            ],
            "type": "surface"
           }
          ],
          "table": [
           {
            "cells": {
             "fill": {
              "color": "#EBF0F8"
             },
             "line": {
              "color": "white"
             }
            },
            "header": {
             "fill": {
              "color": "#C8D4E3"
             },
             "line": {
              "color": "white"
             }
            },
            "type": "table"
           }
          ]
         },
         "layout": {
          "annotationdefaults": {
           "arrowcolor": "#2a3f5f",
           "arrowhead": 0,
           "arrowwidth": 1
          },
          "autotypenumbers": "strict",
          "coloraxis": {
           "colorbar": {
            "outlinewidth": 0,
            "ticks": ""
           }
          },
          "colorscale": {
           "diverging": [
            [
             0,
             "#8e0152"
            ],
            [
             0.1,
             "#c51b7d"
            ],
            [
             0.2,
             "#de77ae"
            ],
            [
             0.3,
             "#f1b6da"
            ],
            [
             0.4,
             "#fde0ef"
            ],
            [
             0.5,
             "#f7f7f7"
            ],
            [
             0.6,
             "#e6f5d0"
            ],
            [
             0.7,
             "#b8e186"
            ],
            [
             0.8,
             "#7fbc41"
            ],
            [
             0.9,
             "#4d9221"
            ],
            [
             1,
             "#276419"
            ]
           ],
           "sequential": [
            [
             0,
             "#0d0887"
            ],
            [
             0.1111111111111111,
             "#46039f"
            ],
            [
             0.2222222222222222,
             "#7201a8"
            ],
            [
             0.3333333333333333,
             "#9c179e"
            ],
            [
             0.4444444444444444,
             "#bd3786"
            ],
            [
             0.5555555555555556,
             "#d8576b"
            ],
            [
             0.6666666666666666,
             "#ed7953"
            ],
            [
             0.7777777777777778,
             "#fb9f3a"
            ],
            [
             0.8888888888888888,
             "#fdca26"
            ],
            [
             1,
             "#f0f921"
            ]
           ],
           "sequentialminus": [
            [
             0,
             "#0d0887"
            ],
            [
             0.1111111111111111,
             "#46039f"
            ],
            [
             0.2222222222222222,
             "#7201a8"
            ],
            [
             0.3333333333333333,
             "#9c179e"
            ],
            [
             0.4444444444444444,
             "#bd3786"
            ],
            [
             0.5555555555555556,
             "#d8576b"
            ],
            [
             0.6666666666666666,
             "#ed7953"
            ],
            [
             0.7777777777777778,
             "#fb9f3a"
            ],
            [
             0.8888888888888888,
             "#fdca26"
            ],
            [
             1,
             "#f0f921"
            ]
           ]
          },
          "colorway": [
           "#636efa",
           "#EF553B",
           "#00cc96",
           "#ab63fa",
           "#FFA15A",
           "#19d3f3",
           "#FF6692",
           "#B6E880",
           "#FF97FF",
           "#FECB52"
          ],
          "font": {
           "color": "#2a3f5f"
          },
          "geo": {
           "bgcolor": "white",
           "lakecolor": "white",
           "landcolor": "#E5ECF6",
           "showlakes": true,
           "showland": true,
           "subunitcolor": "white"
          },
          "hoverlabel": {
           "align": "left"
          },
          "hovermode": "closest",
          "mapbox": {
           "style": "light"
          },
          "paper_bgcolor": "white",
          "plot_bgcolor": "#E5ECF6",
          "polar": {
           "angularaxis": {
            "gridcolor": "white",
            "linecolor": "white",
            "ticks": ""
           },
           "bgcolor": "#E5ECF6",
           "radialaxis": {
            "gridcolor": "white",
            "linecolor": "white",
            "ticks": ""
           }
          },
          "scene": {
           "xaxis": {
            "backgroundcolor": "#E5ECF6",
            "gridcolor": "white",
            "gridwidth": 2,
            "linecolor": "white",
            "showbackground": true,
            "ticks": "",
            "zerolinecolor": "white"
           },
           "yaxis": {
            "backgroundcolor": "#E5ECF6",
            "gridcolor": "white",
            "gridwidth": 2,
            "linecolor": "white",
            "showbackground": true,
            "ticks": "",
            "zerolinecolor": "white"
           },
           "zaxis": {
            "backgroundcolor": "#E5ECF6",
            "gridcolor": "white",
            "gridwidth": 2,
            "linecolor": "white",
            "showbackground": true,
            "ticks": "",
            "zerolinecolor": "white"
           }
          },
          "shapedefaults": {
           "line": {
            "color": "#2a3f5f"
           }
          },
          "ternary": {
           "aaxis": {
            "gridcolor": "white",
            "linecolor": "white",
            "ticks": ""
           },
           "baxis": {
            "gridcolor": "white",
            "linecolor": "white",
            "ticks": ""
           },
           "bgcolor": "#E5ECF6",
           "caxis": {
            "gridcolor": "white",
            "linecolor": "white",
            "ticks": ""
           }
          },
          "title": {
           "x": 0.05
          },
          "xaxis": {
           "automargin": true,
           "gridcolor": "white",
           "linecolor": "white",
           "ticks": "",
           "title": {
            "standoff": 15
           },
           "zerolinecolor": "white",
           "zerolinewidth": 2
          },
          "yaxis": {
           "automargin": true,
           "gridcolor": "white",
           "linecolor": "white",
           "ticks": "",
           "title": {
            "standoff": 15
           },
           "zerolinecolor": "white",
           "zerolinewidth": 2
          }
         }
        },
        "title": {
         "text": "Pertage votes for democrats for the top counties"
        },
        "xaxis": {
         "anchor": "y",
         "domain": [
          0,
          1
         ],
         "title": {
          "text": "County"
         }
        },
        "yaxis": {
         "anchor": "x",
         "domain": [
          0,
          1
         ],
         "title": {
          "text": "%"
         }
        }
       }
      },
      "text/html": [
       "<div>                            <div id=\"dde1044a-2cfd-4ebc-83d1-3f8110bd6ce8\" class=\"plotly-graph-div\" style=\"height:525px; width:100%;\"></div>            <script type=\"text/javascript\">                require([\"plotly\"], function(Plotly) {                    window.PLOTLYENV=window.PLOTLYENV || {};                                    if (document.getElementById(\"dde1044a-2cfd-4ebc-83d1-3f8110bd6ce8\")) {                    Plotly.newPlot(                        \"dde1044a-2cfd-4ebc-83d1-3f8110bd6ce8\",                        [{\"alignmentgroup\":\"True\",\"hovertemplate\":\"County=%{x}<br>%=%{y}<extra></extra>\",\"legendgroup\":\"\",\"marker\":{\"color\":\"#636efa\",\"pattern\":{\"shape\":\"\"}},\"name\":\"\",\"offsetgroup\":\"\",\"orientation\":\"v\",\"showlegend\":false,\"textposition\":\"auto\",\"x\":[\"Lassen County\",\"Modoc County\",\"Tehama County\",\"Shasta County\",\"Glenn County\",\"Amador County\",\"Calaveras County\",\"Yuba County\",\"Sierra County\",\"Tuolumne County\",\"Mariposa County\",\"Plumas County\",\"Colusa County\",\"Sutter County\",\"Siskiyou County\",\"Del Norte County\",\"Kings County\",\"Madera County\",\"Kern County\",\"El Dorado County\",\"Tulare County\",\"Placer County\",\"Trinity County\",\"Inyo County\",\"Stanislaus County\",\"Butte County\",\"Lake County\",\"Fresno County\",\"Riverside County\",\"Orange County\",\"Merced County\",\"San Bernardino County\",\"San Luis Obispo County\",\"San Joaquin County\",\"Nevada County\",\"Ventura County\",\"Mono County\",\"San Diego County\",\"Imperial County\",\"San Benito County\",\"Sacramento County\",\"Solano County\",\"Alpine County\",\"Santa Barbara County\",\"Humboldt County\",\"Mendocino County\",\"Napa County\",\"Monterey County\",\"Yolo County\",\"Los Angeles County\",\"Contra Costa County\",\"Santa Clara County\",\"Sonoma County\",\"San Mateo County\",\"Santa Cruz County\",\"Alameda County\",\"Marin County\",\"San Francisco County\"],\"xaxis\":\"x\",\"y\":[76.21718072903391,72.99835642169523,68.2339940111222,66.9563493374748,63.872309640079585,62.49424970098445,62.181900316217444,61.14993426970179,61.00427350427351,59.625172750867975,59.274755927475596,58.55896783572597,58.47457627118644,58.39442288342676,58.07804920683477,58.008619141677144,56.28112506137336,55.90910820994937,55.223770354205136,54.50250751372743,53.99278973302525,53.4049538492394,52.79019705249214,49.92435703479576,49.596163553760725,49.14478195974021,46.76097491448118,46.0053316325817,45.94310943462684,45.38710653489048,44.572792686790066,44.550525716565545,43.298704300591986,42.90679752688363,42.413443568057275,39.21880100097922,38.507508427827155,38.35093791700112,37.54524988743809,37.52923665745269,37.046584396462215,34.49003458657842,33.88888888888889,33.59036070700412,32.718146021822115,31.5512854051226,29.330571829827072,28.891371090532413,28.76172410159132,27.441689434327927,26.855249682484196,25.776773135041843,23.618693245416654,20.590888157984374,19.079492573468475,18.078883984466184,16.096795291039896,12.982168703531974],\"yaxis\":\"y\",\"type\":\"bar\"}],                        {\"template\":{\"data\":{\"bar\":[{\"error_x\":{\"color\":\"#2a3f5f\"},\"error_y\":{\"color\":\"#2a3f5f\"},\"marker\":{\"line\":{\"color\":\"#E5ECF6\",\"width\":0.5},\"pattern\":{\"fillmode\":\"overlay\",\"size\":10,\"solidity\":0.2}},\"type\":\"bar\"}],\"barpolar\":[{\"marker\":{\"line\":{\"color\":\"#E5ECF6\",\"width\":0.5},\"pattern\":{\"fillmode\":\"overlay\",\"size\":10,\"solidity\":0.2}},\"type\":\"barpolar\"}],\"carpet\":[{\"aaxis\":{\"endlinecolor\":\"#2a3f5f\",\"gridcolor\":\"white\",\"linecolor\":\"white\",\"minorgridcolor\":\"white\",\"startlinecolor\":\"#2a3f5f\"},\"baxis\":{\"endlinecolor\":\"#2a3f5f\",\"gridcolor\":\"white\",\"linecolor\":\"white\",\"minorgridcolor\":\"white\",\"startlinecolor\":\"#2a3f5f\"},\"type\":\"carpet\"}],\"choropleth\":[{\"colorbar\":{\"outlinewidth\":0,\"ticks\":\"\"},\"type\":\"choropleth\"}],\"contour\":[{\"colorbar\":{\"outlinewidth\":0,\"ticks\":\"\"},\"colorscale\":[[0.0,\"#0d0887\"],[0.1111111111111111,\"#46039f\"],[0.2222222222222222,\"#7201a8\"],[0.3333333333333333,\"#9c179e\"],[0.4444444444444444,\"#bd3786\"],[0.5555555555555556,\"#d8576b\"],[0.6666666666666666,\"#ed7953\"],[0.7777777777777778,\"#fb9f3a\"],[0.8888888888888888,\"#fdca26\"],[1.0,\"#f0f921\"]],\"type\":\"contour\"}],\"contourcarpet\":[{\"colorbar\":{\"outlinewidth\":0,\"ticks\":\"\"},\"type\":\"contourcarpet\"}],\"heatmap\":[{\"colorbar\":{\"outlinewidth\":0,\"ticks\":\"\"},\"colorscale\":[[0.0,\"#0d0887\"],[0.1111111111111111,\"#46039f\"],[0.2222222222222222,\"#7201a8\"],[0.3333333333333333,\"#9c179e\"],[0.4444444444444444,\"#bd3786\"],[0.5555555555555556,\"#d8576b\"],[0.6666666666666666,\"#ed7953\"],[0.7777777777777778,\"#fb9f3a\"],[0.8888888888888888,\"#fdca26\"],[1.0,\"#f0f921\"]],\"type\":\"heatmap\"}],\"heatmapgl\":[{\"colorbar\":{\"outlinewidth\":0,\"ticks\":\"\"},\"colorscale\":[[0.0,\"#0d0887\"],[0.1111111111111111,\"#46039f\"],[0.2222222222222222,\"#7201a8\"],[0.3333333333333333,\"#9c179e\"],[0.4444444444444444,\"#bd3786\"],[0.5555555555555556,\"#d8576b\"],[0.6666666666666666,\"#ed7953\"],[0.7777777777777778,\"#fb9f3a\"],[0.8888888888888888,\"#fdca26\"],[1.0,\"#f0f921\"]],\"type\":\"heatmapgl\"}],\"histogram\":[{\"marker\":{\"pattern\":{\"fillmode\":\"overlay\",\"size\":10,\"solidity\":0.2}},\"type\":\"histogram\"}],\"histogram2d\":[{\"colorbar\":{\"outlinewidth\":0,\"ticks\":\"\"},\"colorscale\":[[0.0,\"#0d0887\"],[0.1111111111111111,\"#46039f\"],[0.2222222222222222,\"#7201a8\"],[0.3333333333333333,\"#9c179e\"],[0.4444444444444444,\"#bd3786\"],[0.5555555555555556,\"#d8576b\"],[0.6666666666666666,\"#ed7953\"],[0.7777777777777778,\"#fb9f3a\"],[0.8888888888888888,\"#fdca26\"],[1.0,\"#f0f921\"]],\"type\":\"histogram2d\"}],\"histogram2dcontour\":[{\"colorbar\":{\"outlinewidth\":0,\"ticks\":\"\"},\"colorscale\":[[0.0,\"#0d0887\"],[0.1111111111111111,\"#46039f\"],[0.2222222222222222,\"#7201a8\"],[0.3333333333333333,\"#9c179e\"],[0.4444444444444444,\"#bd3786\"],[0.5555555555555556,\"#d8576b\"],[0.6666666666666666,\"#ed7953\"],[0.7777777777777778,\"#fb9f3a\"],[0.8888888888888888,\"#fdca26\"],[1.0,\"#f0f921\"]],\"type\":\"histogram2dcontour\"}],\"mesh3d\":[{\"colorbar\":{\"outlinewidth\":0,\"ticks\":\"\"},\"type\":\"mesh3d\"}],\"parcoords\":[{\"line\":{\"colorbar\":{\"outlinewidth\":0,\"ticks\":\"\"}},\"type\":\"parcoords\"}],\"pie\":[{\"automargin\":true,\"type\":\"pie\"}],\"scatter\":[{\"marker\":{\"colorbar\":{\"outlinewidth\":0,\"ticks\":\"\"}},\"type\":\"scatter\"}],\"scatter3d\":[{\"line\":{\"colorbar\":{\"outlinewidth\":0,\"ticks\":\"\"}},\"marker\":{\"colorbar\":{\"outlinewidth\":0,\"ticks\":\"\"}},\"type\":\"scatter3d\"}],\"scattercarpet\":[{\"marker\":{\"colorbar\":{\"outlinewidth\":0,\"ticks\":\"\"}},\"type\":\"scattercarpet\"}],\"scattergeo\":[{\"marker\":{\"colorbar\":{\"outlinewidth\":0,\"ticks\":\"\"}},\"type\":\"scattergeo\"}],\"scattergl\":[{\"marker\":{\"colorbar\":{\"outlinewidth\":0,\"ticks\":\"\"}},\"type\":\"scattergl\"}],\"scattermapbox\":[{\"marker\":{\"colorbar\":{\"outlinewidth\":0,\"ticks\":\"\"}},\"type\":\"scattermapbox\"}],\"scatterpolar\":[{\"marker\":{\"colorbar\":{\"outlinewidth\":0,\"ticks\":\"\"}},\"type\":\"scatterpolar\"}],\"scatterpolargl\":[{\"marker\":{\"colorbar\":{\"outlinewidth\":0,\"ticks\":\"\"}},\"type\":\"scatterpolargl\"}],\"scatterternary\":[{\"marker\":{\"colorbar\":{\"outlinewidth\":0,\"ticks\":\"\"}},\"type\":\"scatterternary\"}],\"surface\":[{\"colorbar\":{\"outlinewidth\":0,\"ticks\":\"\"},\"colorscale\":[[0.0,\"#0d0887\"],[0.1111111111111111,\"#46039f\"],[0.2222222222222222,\"#7201a8\"],[0.3333333333333333,\"#9c179e\"],[0.4444444444444444,\"#bd3786\"],[0.5555555555555556,\"#d8576b\"],[0.6666666666666666,\"#ed7953\"],[0.7777777777777778,\"#fb9f3a\"],[0.8888888888888888,\"#fdca26\"],[1.0,\"#f0f921\"]],\"type\":\"surface\"}],\"table\":[{\"cells\":{\"fill\":{\"color\":\"#EBF0F8\"},\"line\":{\"color\":\"white\"}},\"header\":{\"fill\":{\"color\":\"#C8D4E3\"},\"line\":{\"color\":\"white\"}},\"type\":\"table\"}]},\"layout\":{\"annotationdefaults\":{\"arrowcolor\":\"#2a3f5f\",\"arrowhead\":0,\"arrowwidth\":1},\"autotypenumbers\":\"strict\",\"coloraxis\":{\"colorbar\":{\"outlinewidth\":0,\"ticks\":\"\"}},\"colorscale\":{\"diverging\":[[0,\"#8e0152\"],[0.1,\"#c51b7d\"],[0.2,\"#de77ae\"],[0.3,\"#f1b6da\"],[0.4,\"#fde0ef\"],[0.5,\"#f7f7f7\"],[0.6,\"#e6f5d0\"],[0.7,\"#b8e186\"],[0.8,\"#7fbc41\"],[0.9,\"#4d9221\"],[1,\"#276419\"]],\"sequential\":[[0.0,\"#0d0887\"],[0.1111111111111111,\"#46039f\"],[0.2222222222222222,\"#7201a8\"],[0.3333333333333333,\"#9c179e\"],[0.4444444444444444,\"#bd3786\"],[0.5555555555555556,\"#d8576b\"],[0.6666666666666666,\"#ed7953\"],[0.7777777777777778,\"#fb9f3a\"],[0.8888888888888888,\"#fdca26\"],[1.0,\"#f0f921\"]],\"sequentialminus\":[[0.0,\"#0d0887\"],[0.1111111111111111,\"#46039f\"],[0.2222222222222222,\"#7201a8\"],[0.3333333333333333,\"#9c179e\"],[0.4444444444444444,\"#bd3786\"],[0.5555555555555556,\"#d8576b\"],[0.6666666666666666,\"#ed7953\"],[0.7777777777777778,\"#fb9f3a\"],[0.8888888888888888,\"#fdca26\"],[1.0,\"#f0f921\"]]},\"colorway\":[\"#636efa\",\"#EF553B\",\"#00cc96\",\"#ab63fa\",\"#FFA15A\",\"#19d3f3\",\"#FF6692\",\"#B6E880\",\"#FF97FF\",\"#FECB52\"],\"font\":{\"color\":\"#2a3f5f\"},\"geo\":{\"bgcolor\":\"white\",\"lakecolor\":\"white\",\"landcolor\":\"#E5ECF6\",\"showlakes\":true,\"showland\":true,\"subunitcolor\":\"white\"},\"hoverlabel\":{\"align\":\"left\"},\"hovermode\":\"closest\",\"mapbox\":{\"style\":\"light\"},\"paper_bgcolor\":\"white\",\"plot_bgcolor\":\"#E5ECF6\",\"polar\":{\"angularaxis\":{\"gridcolor\":\"white\",\"linecolor\":\"white\",\"ticks\":\"\"},\"bgcolor\":\"#E5ECF6\",\"radialaxis\":{\"gridcolor\":\"white\",\"linecolor\":\"white\",\"ticks\":\"\"}},\"scene\":{\"xaxis\":{\"backgroundcolor\":\"#E5ECF6\",\"gridcolor\":\"white\",\"gridwidth\":2,\"linecolor\":\"white\",\"showbackground\":true,\"ticks\":\"\",\"zerolinecolor\":\"white\"},\"yaxis\":{\"backgroundcolor\":\"#E5ECF6\",\"gridcolor\":\"white\",\"gridwidth\":2,\"linecolor\":\"white\",\"showbackground\":true,\"ticks\":\"\",\"zerolinecolor\":\"white\"},\"zaxis\":{\"backgroundcolor\":\"#E5ECF6\",\"gridcolor\":\"white\",\"gridwidth\":2,\"linecolor\":\"white\",\"showbackground\":true,\"ticks\":\"\",\"zerolinecolor\":\"white\"}},\"shapedefaults\":{\"line\":{\"color\":\"#2a3f5f\"}},\"ternary\":{\"aaxis\":{\"gridcolor\":\"white\",\"linecolor\":\"white\",\"ticks\":\"\"},\"baxis\":{\"gridcolor\":\"white\",\"linecolor\":\"white\",\"ticks\":\"\"},\"bgcolor\":\"#E5ECF6\",\"caxis\":{\"gridcolor\":\"white\",\"linecolor\":\"white\",\"ticks\":\"\"}},\"title\":{\"x\":0.05},\"xaxis\":{\"automargin\":true,\"gridcolor\":\"white\",\"linecolor\":\"white\",\"ticks\":\"\",\"title\":{\"standoff\":15},\"zerolinecolor\":\"white\",\"zerolinewidth\":2},\"yaxis\":{\"automargin\":true,\"gridcolor\":\"white\",\"linecolor\":\"white\",\"ticks\":\"\",\"title\":{\"standoff\":15},\"zerolinecolor\":\"white\",\"zerolinewidth\":2}}},\"xaxis\":{\"anchor\":\"y\",\"domain\":[0.0,1.0],\"title\":{\"text\":\"County\"}},\"yaxis\":{\"anchor\":\"x\",\"domain\":[0.0,1.0],\"title\":{\"text\":\"%\"}},\"legend\":{\"tracegroupgap\":0},\"title\":{\"text\":\"Pertage votes for democrats for the top counties\"},\"barmode\":\"relative\",\"shapes\":[{\"line\":{\"color\":\"green\",\"dash\":\"dash\",\"width\":3},\"type\":\"line\",\"x0\":0,\"x1\":1,\"xref\":\"x domain\",\"y0\":50,\"y1\":50,\"yref\":\"y\"}],\"annotations\":[{\"showarrow\":false,\"text\":\"50%\",\"x\":1,\"xanchor\":\"right\",\"xref\":\"x domain\",\"y\":50,\"yanchor\":\"top\",\"yref\":\"y\"}]},                        {\"responsive\": true}                    ).then(function(){\n",
       "                            \n",
       "var gd = document.getElementById('dde1044a-2cfd-4ebc-83d1-3f8110bd6ce8');\n",
       "var x = new MutationObserver(function (mutations, observer) {{\n",
       "        var display = window.getComputedStyle(gd).display;\n",
       "        if (!display || display === 'none') {{\n",
       "            console.log([gd, 'removed!']);\n",
       "            Plotly.purge(gd);\n",
       "            observer.disconnect();\n",
       "        }}\n",
       "}});\n",
       "\n",
       "// Listen for the removal of the full notebook cells\n",
       "var notebookContainer = gd.closest('#notebook-container');\n",
       "if (notebookContainer) {{\n",
       "    x.observe(notebookContainer, {childList: true});\n",
       "}}\n",
       "\n",
       "// Listen for the clearing of the current output cell\n",
       "var outputEl = gd.closest('.output');\n",
       "if (outputEl) {{\n",
       "    x.observe(outputEl, {childList: true});\n",
       "}}\n",
       "\n",
       "                        })                };                });            </script>        </div>"
      ]
     },
     "metadata": {},
     "output_type": "display_data"
    }
   ],
   "source": [
    "fig = px.bar(top_countys.reset_index(), x=\"county_name\", y=\"Democrats\",\n",
    "             title=\"Pertage votes for democrats for the top counties\", #change title\n",
    "             labels={\"Democrats\": \"%\",\n",
    "                    \"county_name\": \"County\"\n",
    "                    }\n",
    "                     )\n",
    "fig.add_hline(y=50, line_width=3, line_dash=\"dash\", line_color=\"green\",\n",
    "              annotation_text=\"50%\", \n",
    "              annotation_position=\"bottom right\")\n",
    "fig"
   ]
  },
  {
   "cell_type": "code",
   "execution_count": 21,
   "metadata": {},
   "outputs": [],
   "source": [
    "# import plotly.graph_objects as go\n",
    "\n",
    "# fig = go.Figure()\n",
    "\n",
    "# for col in df:\n",
    "#     fig.add_trace(go.Box(y=df_top_10_states[per_dem].values, name=df_top_10_states[col].name))\n",
    "  \n",
    "# fig.show()"
   ]
  },
  {
   "cell_type": "code",
   "execution_count": 25,
   "metadata": {},
   "outputs": [],
   "source": [
    "# Tools\n",
    "def upper_consistent(df):\n",
    "    df = df.apply(lambda x: x.str.upper() if x.dtype == \"object\" else x) \n",
    "    return df\n",
    "\n",
    "# Standardise columns names \n",
    "def standard_name_cols(data_columns):\n",
    "\n",
    "    data_columns = data_columns.str.upper()\n",
    "    col_names = [re.sub(r\"[^a-zA-Z0-9]\", \"_\", col) for col in data_columns]\n",
    "\n",
    "    return col_names\n",
    "\n",
    "\n",
    "def read_excel(path):\n",
    "    with open(path, mode=\"rb\") as excel_file:\n",
    "        _excel_file = pd.read_excel(excel_file, \n",
    "        #converters={'FIPS Code': str}\n",
    "        ) \n",
    "    print(f\"\\n========== File name {file}\\n\")\n",
    "    print(_excel_file.columns[0])\n",
    "\n",
    "    _excel_file.set_index(_excel_file.columns[0], inplace=True)\n",
    "\n",
    "    # drop nan\n",
    "    _excel_file = _excel_file.dropna(how=\"all\")\n",
    "    _excel_file = _excel_file.reset_index()\n",
    "    \n",
    "    # set header\n",
    "    header_row = _excel_file.iloc[0]\n",
    "    \n",
    "    df = pd.DataFrame(_excel_file.values[1:], columns=header_row)\n",
    "\n",
    "    return df\n"
   ]
  },
  {
   "cell_type": "code",
   "execution_count": 64,
   "metadata": {},
   "outputs": [],
   "source": [
    "from sklearn.feature_selection import VarianceThreshold\n",
    "def _split_features_categ_conti(df, cat_max_lvls):\n",
    "        \"\"\"Tag each column name as Categorical or Continuous features.\n",
    "\n",
    "        The following strategy is used :\n",
    "\n",
    "        - 1) dtype_object (--> CATEGORICAL)\n",
    "        - 2) dtype_number\n",
    "\n",
    "          - 2.1) Time Series (at least min_TS_months months) (--> CONTINUOUS)\n",
    "          - 2.2) No Time Series\n",
    "\n",
    "            - 2.2.1) regex for categorical (--> CATEGORICAL)\n",
    "            - 2.2.2) regex for continuous (--> CONTINUOUS)\n",
    "            - 2.2.3) remaining features\n",
    "\n",
    "              - 2.2.3.1) few distinct values (--> CATEGORICAL)\n",
    "              - 2.2.3.2) large distinct values (--> CONTINUOUS)\n",
    "\n",
    "        Parameters\n",
    "        ----------\n",
    "        df : pandas.DataFrame\n",
    "        min_ts_months : int, default 3\n",
    "            The minimum number of features \"Time Series\" to consider as a valid Time Series.\n",
    "            Used for function find_TS()\n",
    "        cat_max_lvls : int, default 70\n",
    "            For remaining features, the split Categorical vs Continuous is done by a threshold.\n",
    "            This threshold is first given by the maximum percentage change.\n",
    "            But if this method gives a threshold larger than cat_max_lvls,\n",
    "            the threshold used for the split will be cat_max_lvls.\n",
    "            (with <= thresh ==> categorical\n",
    "            and  > thresh ==> continuous)\n",
    "\n",
    "        Returns\n",
    "        -------\n",
    "        dict\n",
    "            Return a dictionary of the splits\n",
    "        \"\"\"\n",
    "        # 1) Select dtype = \"Object\" (--> CATEGORICAL):\n",
    "        col_object = df.dtypes[df.dtypes == object].index.tolist()\n",
    "\n",
    "        # 2) Select dtype = numbers:\n",
    "        col_numb = df.dtypes[df.dtypes != object].index.tolist()\n",
    "\n",
    "        # 2.2.1) regex for categorical (--> CATEGORICAL):\n",
    "        pattern_quali = \"FIPS|STATE|AREA|CODE\"\n",
    "        col_numb_rgx_quali = [\n",
    "            col\n",
    "            for col in col_numb\n",
    "            if re.search(pattern_quali, col, flags=re.IGNORECASE)\n",
    "        ]\n",
    "\n",
    "        # 2.2.2) regex for continuous (--> CONTINUOUS):\n",
    "        pattern_quanti = (\n",
    "        \"PERCENT|POP|ESTIMATES|CENSUS|ALL|BACHELOR|SCHOOL|COLLEGE\")\n",
    "        col_numb_rgx_quanti = [\n",
    "            col\n",
    "            for col in col_numb\n",
    "            if re.search(pattern_quanti, col, flags=re.IGNORECASE)\n",
    "        ]\n",
    "\n",
    "        # 2.2.3) remaining features:\n",
    "        col_numb_remain = list(\n",
    "            set(col_numb)\n",
    "            - set(col_numb_rgx_quali)\n",
    "            - set(col_numb_rgx_quanti)\n",
    "        )\n",
    "        \n",
    "        if col_numb_remain:\n",
    "            # Count Distinct Values and Sort Asc:\n",
    "            distinct_remain = df[col_numb_remain].apply(lambda x: len(x.unique()))\n",
    "            distinct_remain = distinct_remain.sort_values()\n",
    "\n",
    "            # Find Automatic Threshold by Max Percentage Change\n",
    "            # (with restriction: distinct values < 1000):\n",
    "            filtered_rem = distinct_remain[distinct_remain < 300]\n",
    "            print(\"\\n Features with < 300 unique values\")\n",
    "            print(filtered_rem)\n",
    "            print(filtered_rem.pct_change())\n",
    "            feat_cutoff = filtered_rem.pct_change().idxmax()          \n",
    "            auto_threshold_after = filtered_rem[feat_cutoff]\n",
    "            auto_threshold = filtered_rem[filtered_rem < auto_threshold_after][-1]\n",
    "\n",
    "            # Test to whether use the Automatic Threshold or cat_max_lvls:\n",
    "            if auto_threshold <= cat_max_lvls:\n",
    "                thresh = auto_threshold\n",
    "            else:\n",
    "                thresh = cat_max_lvls\n",
    "                \n",
    "            print(f\"The threshold for distinct values is {thresh}\")\n",
    "            \n",
    "            # 2.2.3.1) few distinct values (--> CATEGORICAL):\n",
    "            col_numb_remain_few_dist = distinct_remain[\n",
    "                distinct_remain <= thresh\n",
    "            ].index.tolist()\n",
    "\n",
    "            # 2.2.3.2) large distinct values (--> CONTINUOUS):\n",
    "            col_numb_remain_large_dist = distinct_remain[\n",
    "                distinct_remain > thresh\n",
    "            ].index.tolist()\n",
    "\n",
    "            # FINAL : Group all Categorical & Group all Continuous:\n",
    "            col_categ = col_object + col_numb_rgx_quali + col_numb_remain_few_dist\n",
    "            col_conti = (\n",
    "                col_numb_rgx_quanti + col_numb_remain_large_dist\n",
    "            )\n",
    "        else:\n",
    "            # FINAL : Group all Categorical & Group all Continuous:\n",
    "            col_categ = col_object + col_numb_rgx_quali\n",
    "            col_conti = col_numb_rgx_quanti\n",
    "\n",
    "        # Sanity Check : Total Number of features = sum of all Categorical + Continuous:\n",
    "        # delete duplicated columns\n",
    "        total_cols = col_conti + col_categ\n",
    "        col_dub = set([x for x in total_cols if total_cols.count(x) > 1])\n",
    "        if col_dub:\n",
    "            col_categ = [item for item in col_categ if item not in col_dub]\n",
    "        assert len(df.columns) == len(col_conti) + len(col_categ)\n",
    "\n",
    "        # Fill the returned dictionary:\n",
    "        splitter = {\n",
    "            \"col_conti\": col_conti,\n",
    "            \"col_categ\": col_categ,\n",
    "        }\n",
    "        return splitter\n",
    "\n",
    "def _split_categ_conti(df_x, cat_max_lvls=10):\n",
    "\n",
    "    splitter = _split_features_categ_conti(df_x, cat_max_lvls)\n",
    "    col_conti = splitter[\"col_conti\"]\n",
    "    col_categ = splitter[\"col_categ\"]\n",
    "\n",
    "    df_x_categ = df_x[col_categ].astype(\"category\")\n",
    "    df_x_conti = df_x[col_conti]\n",
    "\n",
    "    df_x_concat = pd.concat([df_x_categ, df_x_conti], axis=1)\n",
    "\n",
    "    return df_x_concat\n",
    "\n",
    "def filter_by_std_(df, max_var_toDrop):\n",
    "\n",
    "    # Detect vars with low std\n",
    "    constant_filter = VarianceThreshold(max_var_toDrop)\n",
    "    constant_filter.fit(df)\n",
    "\n",
    "    constant_cols = [column for column in df.columns\n",
    "                     if column not in df.columns[constant_filter.get_support()]]\n",
    "\n",
    "    print(\"Colonnes avec un std null: %s\" % constant_cols)\n",
    "\n",
    "    df_no_cst = df.drop(constant_cols, axis=1)\n",
    "\n",
    "    return df_no_cst\n",
    "\n",
    "def drop_correlated_feats(df, abs_corr_thresh, feat_to_keep=\"\"):\n",
    "    \"\"\"Drop features that are too correlated\n",
    "    (direct or inverse corr.) to others features.\n",
    "\n",
    "    Parameters\n",
    "    ----------\n",
    "    df : pandas.DataFrame\n",
    "    abs_corr_thresh : float, default 0.99999\n",
    "        Only features with an absolute correlation\n",
    "        greater than or equal to abs_corr_thresh are considered correlated.\n",
    "        Must be a float between [0.0, 1.0] :\n",
    "        - Greater than 1.0 will have no effect (df returned as given)\n",
    "        - Less than or equal to 0.0 will consider all features correlated\n",
    "        (df returned with only one random feature)\n",
    "    feat_to_keep : str, default \"\"\n",
    "        Make sure this feature will not be dropped,\n",
    "        in case it is part of a correlated group of features.\n",
    "\n",
    "    Returns\n",
    "    -------\n",
    "    pandas.DataFrame\n",
    "        DataFrame with no correlated features.\n",
    "    dict of {str : set of str}\n",
    "        Dictionary of feature that will be kept (in keys)\n",
    "        and its correlated feature(s) that will be dropped (in values).\n",
    "    \"\"\"\n",
    "    # Compute Correlation Matrix:\n",
    "    corr = np.corrcoef(\n",
    "        df.values.astype(np.float), rowvar=False\n",
    "    )  # 20x faster than df.corr()\n",
    "\n",
    "    # To catch direct corr. (corr == 1) and inverse corr. (corr == -1):\n",
    "    corr = np.abs(corr)\n",
    "\n",
    "    # Find all the correlated tuples (feat1-feat2):\n",
    "    features = df.columns\n",
    "    corr_tuples = []\n",
    "    for i, feat1 in enumerate(features):\n",
    "        for j, feat2 in enumerate(features):\n",
    "            if i < j:\n",
    "                # as corr. matrix is symmetric,\n",
    "                # only look in the upper triangular matrix:\n",
    "                if corr[i, j] >= abs_corr_thresh:\n",
    "                    corr_tuples.append((feat1, feat2))\n",
    "\n",
    "    # Find all the ConnectedComponents\n",
    "    # (groups of features that are correlated to each other):\n",
    "    all_cc = []\n",
    "    for feat1, feat2 in corr_tuples:\n",
    "        not_in_a_single_cc = True\n",
    "        for cc in all_cc:\n",
    "            if feat1 in cc or feat2 in cc:\n",
    "                not_in_a_single_cc = False\n",
    "                cc.update((feat1, feat2))\n",
    "                break\n",
    "        if not_in_a_single_cc:\n",
    "            new_cc = {feat1, feat2}\n",
    "            all_cc.append(new_cc)\n",
    "\n",
    "    # For each ConnectedComponents,\n",
    "    # map one feat. to keep --> all other correlated features:\n",
    "    corr_feat = {cc.pop(): cc for cc in all_cc}\n",
    "    \n",
    "    # List and drop all the features to remove:\n",
    "    if not feat_to_keep:\n",
    "        feat_to_drop = {feat for feat_set in corr_feat.values()\n",
    "                    for feat in feat_set}\n",
    "    else:\n",
    "        feat_to_drop = {feat for feat_set in corr_feat.values()\n",
    "                    for feat in feat_set if feat not in feat_to_keep}\n",
    "\n",
    "    df = df.drop(columns=feat_to_drop)\n",
    "\n",
    "    r = \"\"\n",
    "    if corr_feat:\n",
    "        r += \"There are correlation features :\\n\"\n",
    "        r += f\"Number of features to keep = {len(corr_feat)}\\n\"\n",
    "        r += f\"Number of features to drop = {sum(map(len, corr_feat.values()))}\\n\"\n",
    "        r += \"=\" * 88 + \"\\n\"\n",
    "        r += \"[Feature TO KEEP] <--- is correlated with ---> [Feature(s) TO DROP]\\n\"\n",
    "        r += \"=\" * 88 + \"\\n\"\n",
    "        for feat, correlated_f in corr_feat.items():\n",
    "            r += f\"{feat:30s}  <--->  {correlated_f}\\n\"\n",
    "        r += \"=\" * 88 + \"\\n\"\n",
    "    else:\n",
    "        r += \"There is no correlated features\\n\"\n",
    "\n",
    "    print(\"\\n %s\" % r)\n",
    "\n",
    "    print(\"df_x.shape = %s\", df.shape)\n",
    "\n",
    "    return df\n",
    "\n",
    "def select_features(df, abs_corr_thresh, feat_to_keep, max_var_toDrop):\n",
    "    try:\n",
    "        print(\"... Selecting features by variance and correlation\")\n",
    "        \n",
    "        df_no_cst = filter_by_std_(df, max_var_toDrop)\n",
    "        df_no_corr = drop_correlated_feats(\n",
    "            df_no_cst, abs_corr_thresh, feat_to_keep)\n",
    "\n",
    "        drop_cols = [i for i in list(\n",
    "            df.columns) if i not in list(df_no_corr.columns)]\n",
    "        print(\n",
    "            \"Dropped cols after selecting by variance and correlation : %s\" % drop_cols)\n",
    "\n",
    "        return df_no_corr\n",
    "    except Exception as e:\n",
    "        raise e\n",
    "\n",
    "def _split_state_county(df_x, county_fips_list):\n",
    "    \n",
    "    ## county\n",
    "    df_x_county = df_x[df_x[\"FIPS_CODE\"].isin(county_fips_list)]\n",
    "    # Check if all counties were found\n",
    "    county_found = df_x_county[\"FIPS_CODE\"].unique()\n",
    "    ## Missing codes correspond to Alaska : Unlike other states within the United States, Alaska does not administer its presidential elections at the county-level but rather at the lower chamber legislative district, or the House District\n",
    "    ## For now, I drop Alaska \n",
    "    r = \"\"\n",
    "    if len(county_found) != len(county_fips_list):\n",
    "        county_n_found = [county for county in county_fips_list if county not in county_found]\n",
    "        r += \"=\" * 88 + \"\\n\"\n",
    "        r += f\"Nb of states found: {len(county_found)} / {len(county_fips_list)}\\n\"\n",
    "        r += f\"Missing state(s): {county_n_found}\\n\"\n",
    "        r += \"=\" * 88 + \"\\n\"\n",
    "    else:\n",
    "        r += \"All county fips found\\n\"\n",
    "        r += \"=\" * 88 + \"\\n\"\n",
    "    print(\"\\n %s\" % r) \n",
    "   \n",
    "    # drop duplicates\n",
    "    df_x_county = df_x_county.drop_duplicates([\"STATE\", \"AREA_NAME\"])\n",
    "    return df_x_county\n",
    "\n",
    "def preprocessing_x(df_x, abs_corr_thresh=0.95, feat_to_keep=\"\", max_var_toDrop=0.01):\n",
    "    # Find FIPS column name\n",
    "    FIPS_name = df_x.filter(regex='FIPS|fips').columns[0]\n",
    "    df_x = df_x.rename(columns={FIPS_name: \"FIPS_CODE\"})\n",
    "    \n",
    "    df_x.columns = standard_name_cols(df_x.columns)\n",
    "    df_x[[\"STATE\", \"AREA_NAME\"]] = upper_consistent(df_x[[\"STATE\", \"AREA_NAME\"]])\n",
    "\n",
    "    # fix data types\n",
    "    object_columns = [\"STATE\", \"AREA_NAME\", \"FIPS_CODE\"]\n",
    "    numeric_columns = [col for col in df_x.columns if col not in object_columns]\n",
    "    df_x[numeric_columns] = df_x[numeric_columns].astype(\"Float64\")\n",
    "\n",
    "    # df with correct types\n",
    "    df_x_types = _split_categ_conti(df_x)\n",
    "    \n",
    "    # select only the counties\n",
    "    df_x_county = _split_state_county(df_x_types, county_fips_list)\n",
    "\n",
    "    # check NAN within the counties\n",
    "    check_nan(df_x_county)\n",
    "    # fill nan with -99\n",
    "    ## update numeric columns\n",
    "    numeric_columns = df_x_county.select_dtypes(np.number).columns.tolist()\n",
    "    category_columns = df_x_county.select_dtypes(exclude=np.number).columns.tolist()\n",
    "    # fill numeric nan with -99\n",
    "    df_x_county[numeric_columns] = df_x_county[numeric_columns].fillna(-99)\n",
    "    \n",
    "    df_x_numeric_preprocessed = select_features(\n",
    "        df_x_county.select_dtypes(np.number),\n",
    "        abs_corr_thresh,\n",
    "        feat_to_keep,\n",
    "        max_var_toDrop\n",
    "        )\n",
    "    df_x_preprocessed = pd.concat(\n",
    "       [df_x_county[category_columns],\n",
    "       df_x_numeric_preprocessed],\n",
    "       axis=1\n",
    "       )\n",
    "    return df_x_preprocessed"
   ]
  },
  {
   "cell_type": "markdown",
   "metadata": {},
   "source": [
    "### Explore target 2020"
   ]
  },
  {
   "cell_type": "code",
   "execution_count": 87,
   "metadata": {},
   "outputs": [
    {
     "name": "stdout",
     "output_type": "stream",
     "text": [
      "\n",
      "\n",
      "There are none features with NAN values\n",
      "\n",
      "\n",
      "There none duplicates based on keys COUNTY_FIPS\n",
      "\n"
     ]
    }
   ],
   "source": [
    "input_y = \"2020_US_County_Level_Presidential_Results.csv\"\n",
    "df_presidential_2020 = pd.read_csv(f\"{dir_path}{input_y}\",\n",
    "                        converters={'county_fips': str})\n",
    "df_presidential_2020.columns = standard_name_cols(df_presidential_2020.columns)\n",
    "df_presidential_2020[[\"STATE_NAME\",\"COUNTY_NAME\"]] = upper_consistent(df_presidential_2020[[\"STATE_NAME\",\"COUNTY_NAME\"]])\n",
    "df_presidential_2020\n",
    "check_nan(df_presidential_2020)\n",
    "# main key : COUNTY_FIPS\n",
    "check_duplicates(df_presidential_2020, \"COUNTY_FIPS\")"
   ]
  },
  {
   "cell_type": "code",
   "execution_count": 88,
   "metadata": {},
   "outputs": [
    {
     "data": {
      "text/plain": [
       "VOTES_GOP    74208196\n",
       "VOTES_DEM    81264994\n",
       "dtype: int64"
      ]
     },
     "execution_count": 88,
     "metadata": {},
     "output_type": "execute_result"
    }
   ],
   "source": [
    "df_presidential_2020[[\"VOTES_GOP\", \"VOTES_DEM\"]].apply(sum)"
   ]
  },
  {
   "cell_type": "code",
   "execution_count": 91,
   "metadata": {},
   "outputs": [
    {
     "data": {
      "text/plain": [
       "republican party    2595\n",
       "democrat party       557\n",
       "Name: y, dtype: int64"
      ]
     },
     "execution_count": 91,
     "metadata": {},
     "output_type": "execute_result"
    }
   ],
   "source": [
    "df_presidential_2020[\"y\"].value_counts() # check!!!"
   ]
  },
  {
   "cell_type": "code",
   "execution_count": null,
   "metadata": {},
   "outputs": [],
   "source": []
  },
  {
   "cell_type": "code",
   "execution_count": 89,
   "metadata": {},
   "outputs": [],
   "source": [
    "df_presidential_2020[\"y\"] = np.where(\n",
    "    df_presidential_2020[\"VOTES_GOP\"] < df_presidential_2020[\"VOTES_DEM\"],\n",
    "                                     \"democrat party\", \"republican party\")"
   ]
  },
  {
   "cell_type": "code",
   "execution_count": 71,
   "metadata": {},
   "outputs": [
    {
     "data": {
      "text/html": [
       "<div>\n",
       "<style scoped>\n",
       "    .dataframe tbody tr th:only-of-type {\n",
       "        vertical-align: middle;\n",
       "    }\n",
       "\n",
       "    .dataframe tbody tr th {\n",
       "        vertical-align: top;\n",
       "    }\n",
       "\n",
       "    .dataframe thead th {\n",
       "        text-align: right;\n",
       "    }\n",
       "</style>\n",
       "<table border=\"1\" class=\"dataframe\">\n",
       "  <thead>\n",
       "    <tr style=\"text-align: right;\">\n",
       "      <th></th>\n",
       "      <th>STATE_NAME</th>\n",
       "      <th>COUNTY_FIPS</th>\n",
       "      <th>COUNTY_NAME</th>\n",
       "      <th>VOTES_GOP</th>\n",
       "      <th>VOTES_DEM</th>\n",
       "      <th>TOTAL_VOTES</th>\n",
       "      <th>DIFF</th>\n",
       "      <th>PER_GOP</th>\n",
       "      <th>PER_DEM</th>\n",
       "      <th>PER_POINT_DIFF</th>\n",
       "      <th>y</th>\n",
       "    </tr>\n",
       "  </thead>\n",
       "  <tbody>\n",
       "    <tr>\n",
       "      <th>327</th>\n",
       "      <td>DELAWARE</td>\n",
       "      <td>10001</td>\n",
       "      <td>KENT COUNTY</td>\n",
       "      <td>41009</td>\n",
       "      <td>44552</td>\n",
       "      <td>87025</td>\n",
       "      <td>-3543</td>\n",
       "      <td>0.471232</td>\n",
       "      <td>0.511945</td>\n",
       "      <td>-0.040712</td>\n",
       "      <td>democrat party</td>\n",
       "    </tr>\n",
       "    <tr>\n",
       "      <th>1216</th>\n",
       "      <td>MARYLAND</td>\n",
       "      <td>24029</td>\n",
       "      <td>KENT COUNTY</td>\n",
       "      <td>5195</td>\n",
       "      <td>5329</td>\n",
       "      <td>10794</td>\n",
       "      <td>-134</td>\n",
       "      <td>0.481286</td>\n",
       "      <td>0.493700</td>\n",
       "      <td>-0.012414</td>\n",
       "      <td>democrat party</td>\n",
       "    </tr>\n",
       "    <tr>\n",
       "      <th>1281</th>\n",
       "      <td>MICHIGAN</td>\n",
       "      <td>26081</td>\n",
       "      <td>KENT COUNTY</td>\n",
       "      <td>165741</td>\n",
       "      <td>187915</td>\n",
       "      <td>361048</td>\n",
       "      <td>-22174</td>\n",
       "      <td>0.459055</td>\n",
       "      <td>0.520471</td>\n",
       "      <td>-0.061416</td>\n",
       "      <td>democrat party</td>\n",
       "    </tr>\n",
       "    <tr>\n",
       "      <th>2322</th>\n",
       "      <td>RHODE ISLAND</td>\n",
       "      <td>44003</td>\n",
       "      <td>KENT COUNTY</td>\n",
       "      <td>42001</td>\n",
       "      <td>49113</td>\n",
       "      <td>93093</td>\n",
       "      <td>-7112</td>\n",
       "      <td>0.451172</td>\n",
       "      <td>0.527569</td>\n",
       "      <td>-0.076397</td>\n",
       "      <td>democrat party</td>\n",
       "    </tr>\n",
       "    <tr>\n",
       "      <th>2664</th>\n",
       "      <td>TEXAS</td>\n",
       "      <td>48263</td>\n",
       "      <td>KENT COUNTY</td>\n",
       "      <td>411</td>\n",
       "      <td>47</td>\n",
       "      <td>462</td>\n",
       "      <td>364</td>\n",
       "      <td>0.889610</td>\n",
       "      <td>0.101732</td>\n",
       "      <td>0.787879</td>\n",
       "      <td>republican party</td>\n",
       "    </tr>\n",
       "  </tbody>\n",
       "</table>\n",
       "</div>"
      ],
      "text/plain": [
       "        STATE_NAME COUNTY_FIPS  COUNTY_NAME  VOTES_GOP  VOTES_DEM  \\\n",
       "327       DELAWARE       10001  KENT COUNTY      41009      44552   \n",
       "1216      MARYLAND       24029  KENT COUNTY       5195       5329   \n",
       "1281      MICHIGAN       26081  KENT COUNTY     165741     187915   \n",
       "2322  RHODE ISLAND       44003  KENT COUNTY      42001      49113   \n",
       "2664         TEXAS       48263  KENT COUNTY        411         47   \n",
       "\n",
       "      TOTAL_VOTES   DIFF   PER_GOP   PER_DEM  PER_POINT_DIFF                 y  \n",
       "327         87025  -3543  0.471232  0.511945       -0.040712    democrat party  \n",
       "1216        10794   -134  0.481286  0.493700       -0.012414    democrat party  \n",
       "1281       361048 -22174  0.459055  0.520471       -0.061416    democrat party  \n",
       "2322        93093  -7112  0.451172  0.527569       -0.076397    democrat party  \n",
       "2664          462    364  0.889610  0.101732        0.787879  republican party  "
      ]
     },
     "execution_count": 71,
     "metadata": {},
     "output_type": "execute_result"
    }
   ],
   "source": [
    "df_presidential_2020[df_presidential_2020[\"COUNTY_NAME\"]==\"KENT COUNTY\"]\n",
    "# It is possible to have the sale county name in diffent state names"
   ]
  },
  {
   "cell_type": "code",
   "execution_count": 31,
   "metadata": {},
   "outputs": [
    {
     "name": "stdout",
     "output_type": "stream",
     "text": [
      "Nb of states : 51\n",
      "Nb of county fips : 3152\n",
      "Nb of countys : 1887\n"
     ]
    }
   ],
   "source": [
    "state_list = df_presidential_2020[\"STATE_NAME\"].unique()\n",
    "county_fips_list = df_presidential_2020[\"COUNTY_FIPS\"].unique()\n",
    "county_name_list = df_presidential_2020[\"COUNTY_NAME\"].unique()\n",
    "print(f\"Nb of states : {len(state_list)}\")\n",
    "print(f\"Nb of county fips : {len(county_fips_list)}\")\n",
    "print(f\"Nb of countys : {len(county_name_list)}\")"
   ]
  },
  {
   "cell_type": "markdown",
   "metadata": {},
   "source": [
    "# Exploration explanatory variables"
   ]
  },
  {
   "cell_type": "markdown",
   "metadata": {},
   "source": [
    "### Population Estimates data\n"
   ]
  },
  {
   "cell_type": "code",
   "execution_count": 66,
   "metadata": {
    "scrolled": true
   },
   "outputs": [
    {
     "name": "stdout",
     "output_type": "stream",
     "text": [
      "\n",
      "========== File name US_County_Level_Presidential_Results_08-16.csv\n",
      "\n",
      "Population estimates for the U.S., States, and counties, 2010-19 (see the second tab in this workbook for variable name descriptions)\n",
      "Index(['FIPStxt', 'State', 'Area_Name', 'Rural-urban_Continuum Code_2003',\n",
      "       'Rural-urban_Continuum Code_2013', 'Urban_Influence_Code_2003',\n",
      "       'Urban_Influence_Code_2013', 'Economic_typology_2015',\n",
      "       'CENSUS_2010_POP', 'ESTIMATES_BASE_2010',\n",
      "       ...\n",
      "       'R_DOMESTIC_MIG_2019', 'R_NET_MIG_2011', 'R_NET_MIG_2012',\n",
      "       'R_NET_MIG_2013', 'R_NET_MIG_2014', 'R_NET_MIG_2015', 'R_NET_MIG_2016',\n",
      "       'R_NET_MIG_2017', 'R_NET_MIG_2018', 'R_NET_MIG_2019'],\n",
      "      dtype='object', name=0, length=165)\n",
      "(3273, 165)\n",
      "\n",
      "\n",
      "There are features with NAN values :\n",
      "Number of features with NAN = 150\n",
      "Number of values with NAN = 11862\n",
      "========================================================================================\n",
      "[Feature] <--- has empty values ---> [percentage of empty values]\n",
      "========================================================================================\n",
      "Rural-urban_Continuum Code_2003  <--->  1.77%\n",
      "Rural-urban_Continuum Code_2013  <--->  1.62%\n",
      "Urban_Influence_Code_2003       <--->  1.77%\n",
      "Urban_Influence_Code_2013       <--->  1.62%\n",
      "Economic_typology_2015          <--->  4.00%\n",
      "N_POP_CHG_2010                  <--->  2.41%\n",
      "N_POP_CHG_2011                  <--->  2.41%\n",
      "N_POP_CHG_2012                  <--->  2.41%\n",
      "N_POP_CHG_2013                  <--->  2.41%\n",
      "N_POP_CHG_2014                  <--->  2.41%\n",
      "N_POP_CHG_2015                  <--->  2.41%\n",
      "N_POP_CHG_2016                  <--->  2.41%\n",
      "N_POP_CHG_2017                  <--->  2.41%\n",
      "N_POP_CHG_2018                  <--->  2.41%\n",
      "N_POP_CHG_2019                  <--->  2.41%\n",
      "Births_2010                     <--->  2.41%\n",
      "Births_2011                     <--->  2.41%\n",
      "Births_2012                     <--->  2.41%\n",
      "Births_2013                     <--->  2.41%\n",
      "Births_2014                     <--->  2.41%\n",
      "Births_2015                     <--->  2.41%\n",
      "Births_2016                     <--->  2.41%\n",
      "Births_2017                     <--->  2.41%\n",
      "Births_2018                     <--->  2.41%\n",
      "Births_2019                     <--->  2.41%\n",
      "Deaths_2010                     <--->  2.41%\n",
      "Deaths_2011                     <--->  2.41%\n",
      "Deaths_2012                     <--->  2.41%\n",
      "Deaths_2013                     <--->  2.41%\n",
      "Deaths_2014                     <--->  2.41%\n",
      "Deaths_2015                     <--->  2.41%\n",
      "Deaths_2016                     <--->  2.41%\n",
      "Deaths_2017                     <--->  2.41%\n",
      "Deaths_2018                     <--->  2.41%\n",
      "Deaths_2019                     <--->  2.41%\n",
      "NATURAL_INC_2010                <--->  2.41%\n",
      "NATURAL_INC_2011                <--->  2.41%\n",
      "NATURAL_INC_2012                <--->  2.41%\n",
      "NATURAL_INC_2013                <--->  2.41%\n",
      "NATURAL_INC_2014                <--->  2.41%\n",
      "NATURAL_INC_2015                <--->  2.41%\n",
      "NATURAL_INC_2016                <--->  2.41%\n",
      "NATURAL_INC_2017                <--->  2.41%\n",
      "NATURAL_INC_2018                <--->  2.41%\n",
      "NATURAL_INC_2019                <--->  2.41%\n",
      "INTERNATIONAL_MIG_2010          <--->  2.41%\n",
      "INTERNATIONAL_MIG_2011          <--->  2.41%\n",
      "INTERNATIONAL_MIG_2012          <--->  2.41%\n",
      "INTERNATIONAL_MIG_2013          <--->  2.41%\n",
      "INTERNATIONAL_MIG_2014          <--->  2.41%\n",
      "INTERNATIONAL_MIG_2015          <--->  2.41%\n",
      "INTERNATIONAL_MIG_2016          <--->  2.41%\n",
      "INTERNATIONAL_MIG_2017          <--->  2.41%\n",
      "INTERNATIONAL_MIG_2018          <--->  2.41%\n",
      "INTERNATIONAL_MIG_2019          <--->  2.41%\n",
      "DOMESTIC_MIG_2010               <--->  2.41%\n",
      "DOMESTIC_MIG_2011               <--->  2.41%\n",
      "DOMESTIC_MIG_2012               <--->  2.41%\n",
      "DOMESTIC_MIG_2013               <--->  2.41%\n",
      "DOMESTIC_MIG_2014               <--->  2.41%\n",
      "DOMESTIC_MIG_2015               <--->  2.41%\n",
      "DOMESTIC_MIG_2016               <--->  2.41%\n",
      "DOMESTIC_MIG_2017               <--->  2.41%\n",
      "DOMESTIC_MIG_2018               <--->  2.41%\n",
      "DOMESTIC_MIG_2019               <--->  2.41%\n",
      "NET_MIG_2010                    <--->  2.41%\n",
      "NET_MIG_2011                    <--->  2.41%\n",
      "NET_MIG_2012                    <--->  2.41%\n",
      "NET_MIG_2013                    <--->  2.41%\n",
      "NET_MIG_2014                    <--->  2.41%\n",
      "NET_MIG_2015                    <--->  2.41%\n",
      "NET_MIG_2016                    <--->  2.41%\n",
      "NET_MIG_2017                    <--->  2.41%\n",
      "NET_MIG_2018                    <--->  2.41%\n",
      "NET_MIG_2019                    <--->  2.41%\n",
      "RESIDUAL_2010                   <--->  2.41%\n",
      "RESIDUAL_2011                   <--->  2.41%\n",
      "RESIDUAL_2012                   <--->  2.41%\n",
      "RESIDUAL_2013                   <--->  2.41%\n",
      "RESIDUAL_2014                   <--->  2.41%\n",
      "RESIDUAL_2015                   <--->  2.41%\n",
      "RESIDUAL_2016                   <--->  2.41%\n",
      "RESIDUAL_2017                   <--->  2.41%\n",
      "RESIDUAL_2018                   <--->  2.41%\n",
      "RESIDUAL_2019                   <--->  2.41%\n",
      "GQ_ESTIMATES_BASE_2010          <--->  2.41%\n",
      "GQ_ESTIMATES_2010               <--->  2.41%\n",
      "GQ_ESTIMATES_2011               <--->  2.41%\n",
      "GQ_ESTIMATES_2012               <--->  2.41%\n",
      "GQ_ESTIMATES_2013               <--->  2.41%\n",
      "GQ_ESTIMATES_2014               <--->  2.41%\n",
      "GQ_ESTIMATES_2015               <--->  2.41%\n",
      "GQ_ESTIMATES_2016               <--->  2.41%\n",
      "GQ_ESTIMATES_2017               <--->  2.41%\n",
      "GQ_ESTIMATES_2018               <--->  2.41%\n",
      "GQ_ESTIMATES_2019               <--->  2.41%\n",
      "R_birth_2011                    <--->  2.44%\n",
      "R_birth_2012                    <--->  2.44%\n",
      "R_birth_2013                    <--->  2.44%\n",
      "R_birth_2014                    <--->  2.44%\n",
      "R_birth_2015                    <--->  2.44%\n",
      "R_birth_2016                    <--->  2.44%\n",
      "R_birth_2017                    <--->  2.44%\n",
      "R_birth_2018                    <--->  2.44%\n",
      "R_birth_2019                    <--->  2.44%\n",
      "R_death_2011                    <--->  2.44%\n",
      "R_death_2012                    <--->  2.44%\n",
      "R_death_2013                    <--->  2.44%\n",
      "R_death_2014                    <--->  2.44%\n",
      "R_death_2015                    <--->  2.44%\n",
      "R_death_2016                    <--->  2.44%\n",
      "R_death_2017                    <--->  2.44%\n",
      "R_death_2018                    <--->  2.44%\n",
      "R_death_2019                    <--->  2.44%\n",
      "R_NATURAL_INC_2011              <--->  2.44%\n",
      "R_NATURAL_INC_2012              <--->  2.44%\n",
      "R_NATURAL_INC_2013              <--->  2.44%\n",
      "R_NATURAL_INC_2014              <--->  2.44%\n",
      "R_NATURAL_INC_2015              <--->  2.44%\n",
      "R_NATURAL_INC_2016              <--->  2.44%\n",
      "R_NATURAL_INC_2017              <--->  2.44%\n",
      "R_NATURAL_INC_2018              <--->  2.44%\n",
      "R_NATURAL_INC_2019              <--->  2.44%\n",
      "R_INTERNATIONAL_MIG_2011        <--->  2.44%\n",
      "R_INTERNATIONAL_MIG_2012        <--->  2.44%\n",
      "R_INTERNATIONAL_MIG_2013        <--->  2.44%\n",
      "R_INTERNATIONAL_MIG_2014        <--->  2.44%\n",
      "R_INTERNATIONAL_MIG_2015        <--->  2.44%\n",
      "R_INTERNATIONAL_MIG_2016        <--->  2.44%\n",
      "R_INTERNATIONAL_MIG_2017        <--->  2.44%\n",
      "R_INTERNATIONAL_MIG_2018        <--->  2.44%\n",
      "R_INTERNATIONAL_MIG_2019        <--->  2.44%\n",
      "R_DOMESTIC_MIG_2011             <--->  2.44%\n",
      "R_DOMESTIC_MIG_2012             <--->  2.44%\n",
      "R_DOMESTIC_MIG_2013             <--->  2.44%\n",
      "R_DOMESTIC_MIG_2014             <--->  2.44%\n",
      "R_DOMESTIC_MIG_2015             <--->  2.44%\n",
      "R_DOMESTIC_MIG_2016             <--->  2.44%\n",
      "R_DOMESTIC_MIG_2017             <--->  2.44%\n",
      "R_DOMESTIC_MIG_2018             <--->  2.44%\n",
      "R_DOMESTIC_MIG_2019             <--->  2.44%\n",
      "R_NET_MIG_2011                  <--->  2.44%\n",
      "R_NET_MIG_2012                  <--->  2.44%\n",
      "R_NET_MIG_2013                  <--->  2.44%\n",
      "R_NET_MIG_2014                  <--->  2.44%\n",
      "R_NET_MIG_2015                  <--->  2.44%\n",
      "R_NET_MIG_2016                  <--->  2.44%\n",
      "R_NET_MIG_2017                  <--->  2.44%\n",
      "R_NET_MIG_2018                  <--->  2.44%\n",
      "R_NET_MIG_2019                  <--->  2.44%\n",
      "========================================================================================\n",
      "\n",
      "\n",
      "There none duplicates based on keys ['FIPStxt', 'State']\n",
      "\n",
      "\n",
      " Features with < 300 unique values\n",
      "ECONOMIC_TYPOLOGY_2015      7\n",
      "RESIDUAL_2011             117\n",
      "RESIDUAL_2018             125\n",
      "RESIDUAL_2016             144\n",
      "RESIDUAL_2017             145\n",
      "RESIDUAL_2019             149\n",
      "RESIDUAL_2010             222\n",
      "RESIDUAL_2015             227\n",
      "RESIDUAL_2013             253\n",
      "RESIDUAL_2014             286\n",
      "RESIDUAL_2012             296\n",
      "dtype: int64\n",
      "ECONOMIC_TYPOLOGY_2015          NaN\n",
      "RESIDUAL_2011             15.714286\n",
      "RESIDUAL_2018              0.068376\n",
      "RESIDUAL_2016              0.152000\n",
      "RESIDUAL_2017              0.006944\n",
      "RESIDUAL_2019              0.027586\n",
      "RESIDUAL_2010              0.489933\n",
      "RESIDUAL_2015              0.022523\n",
      "RESIDUAL_2013              0.114537\n",
      "RESIDUAL_2014              0.130435\n",
      "RESIDUAL_2012              0.034965\n",
      "dtype: float64\n",
      "The threshold for distinct values is 7\n",
      "\n",
      " ========================================================================================\n",
      "Nb of states found: 3112 / 3152\n",
      "Missing state(s): ['02901', '02902', '02903', '02904', '02905', '02906', '02907', '02908', '02909', '02910', '02911', '02912', '02913', '02914', '02915', '02916', '02917', '02918', '02919', '02920', '02921', '02922', '02923', '02924', '02925', '02926', '02927', '02928', '02929', '02930', '02931', '02932', '02933', '02934', '02935', '02936', '02937', '02938', '02939', '02940']\n",
      "========================================================================================\n",
      "\n",
      "\n",
      "\n",
      "There are none features with NAN values\n",
      "\n",
      "... Selecting features by variance and correlation\n",
      "Colonnes avec un std null: []\n"
     ]
    },
    {
     "name": "stdout",
     "output_type": "stream",
     "text": [
      "\n",
      " There are correlation features :\n",
      "Number of features to keep = 18\n",
      "Number of features to drop = 81\n",
      "========================================================================================\n",
      "[Feature TO KEEP] <--- is correlated with ---> [Feature(s) TO DROP]\n",
      "========================================================================================\n",
      "NATURAL_INC_2016                <--->  {'DEATHS_2019', 'NATURAL_INC_2012', 'BIRTHS_2012', 'NATURAL_INC_2015', 'POP_ESTIMATE_2013', 'BIRTHS_2013', 'BIRTHS_2011', 'DEATHS_2012', 'CENSUS_2010_POP', 'POP_ESTIMATE_2017', 'POP_ESTIMATE_2019', 'BIRTHS_2014', 'BIRTHS_2019', 'DEATHS_2011', 'POP_ESTIMATE_2016', 'DEATHS_2018', 'POP_ESTIMATE_2011', 'NATURAL_INC_2011', 'DEATHS_2017', 'BIRTHS_2016', 'DEATHS_2015', 'POP_ESTIMATE_2012', 'DEATHS_2016', 'NATURAL_INC_2010', 'DEATHS_2013', 'NATURAL_INC_2014', 'BIRTHS_2010', 'DEATHS_2014', 'POP_ESTIMATE_2010', 'ESTIMATES_BASE_2010', 'BIRTHS_2015', 'POP_ESTIMATE_2014', 'POP_ESTIMATE_2015', 'BIRTHS_2018', 'NATURAL_INC_2013', 'NATURAL_INC_2019', 'NATURAL_INC_2018', 'NATURAL_INC_2017', 'DEATHS_2010', 'BIRTHS_2017', 'POP_ESTIMATE_2018'}\n",
      "N_POP_CHG_2016                  <--->  {'N_POP_CHG_2011', 'N_POP_CHG_2017', 'N_POP_CHG_2014', 'N_POP_CHG_2013', 'N_POP_CHG_2012', 'N_POP_CHG_2015'}\n",
      "N_POP_CHG_2018                  <--->  {'N_POP_CHG_2019'}\n",
      "GQ_ESTIMATES_2013               <--->  {'GQ_ESTIMATES_2015', 'GQ_ESTIMATES_2017', 'GQ_ESTIMATES_2016', 'GQ_ESTIMATES_2012', 'GQ_ESTIMATES_2010', 'GQ_ESTIMATES_2014', 'GQ_ESTIMATES_2018', 'GQ_ESTIMATES_2019', 'GQ_ESTIMATES_2011', 'GQ_ESTIMATES_BASE_2010'}\n",
      "INTERNATIONAL_MIG_2019          <--->  {'INTERNATIONAL_MIG_2018', 'INTERNATIONAL_MIG_2015', 'INTERNATIONAL_MIG_2017', 'INTERNATIONAL_MIG_2016', 'INTERNATIONAL_MIG_2010', 'INTERNATIONAL_MIG_2012', 'INTERNATIONAL_MIG_2013', 'INTERNATIONAL_MIG_2014', 'INTERNATIONAL_MIG_2011'}\n",
      "DOMESTIC_MIG_2017               <--->  {'DOMESTIC_MIG_2018', 'DOMESTIC_MIG_2019'}\n",
      "NET_MIG_2014                    <--->  {'NET_MIG_2015'}\n",
      "NET_MIG_2018                    <--->  {'NET_MIG_2019'}\n",
      "R_DOMESTIC_MIG_2014             <--->  {'R_NET_MIG_2014'}\n",
      "R_DOMESTIC_MIG_2015             <--->  {'R_NET_MIG_2015'}\n",
      "R_NET_MIG_2018                  <--->  {'R_DOMESTIC_MIG_2018'}\n",
      "R_NET_MIG_2011                  <--->  {'R_DOMESTIC_MIG_2011'}\n",
      "R_DOMESTIC_MIG_2012             <--->  {'R_NET_MIG_2012'}\n",
      "R_DOMESTIC_MIG_2017             <--->  {'R_NET_MIG_2017'}\n",
      "R_NET_MIG_2016                  <--->  {'R_DOMESTIC_MIG_2016'}\n",
      "R_NET_MIG_2013                  <--->  {'R_DOMESTIC_MIG_2013'}\n",
      "R_BIRTH_2018                    <--->  {'R_BIRTH_2019'}\n",
      "R_DOMESTIC_MIG_2019             <--->  {'R_NET_MIG_2019'}\n",
      "========================================================================================\n",
      "\n",
      "df_x.shape = %s (3112, 84)\n",
      "Dropped cols after selecting by variance and correlation : ['CENSUS_2010_POP', 'ESTIMATES_BASE_2010', 'POP_ESTIMATE_2010', 'POP_ESTIMATE_2011', 'POP_ESTIMATE_2012', 'POP_ESTIMATE_2013', 'POP_ESTIMATE_2014', 'POP_ESTIMATE_2015', 'POP_ESTIMATE_2016', 'POP_ESTIMATE_2017', 'POP_ESTIMATE_2018', 'N_POP_CHG_2011', 'N_POP_CHG_2012', 'N_POP_CHG_2013', 'N_POP_CHG_2014', 'N_POP_CHG_2015', 'N_POP_CHG_2017', 'GQ_ESTIMATES_BASE_2010', 'GQ_ESTIMATES_2010', 'GQ_ESTIMATES_2011', 'GQ_ESTIMATES_2012', 'GQ_ESTIMATES_2014', 'GQ_ESTIMATES_2015', 'GQ_ESTIMATES_2016', 'GQ_ESTIMATES_2017', 'GQ_ESTIMATES_2018', 'INTERNATIONAL_MIG_2010', 'INTERNATIONAL_MIG_2018', 'INTERNATIONAL_MIG_2011', 'INTERNATIONAL_MIG_2017', 'NATURAL_INC_2010', 'INTERNATIONAL_MIG_2013', 'INTERNATIONAL_MIG_2014', 'INTERNATIONAL_MIG_2012', 'INTERNATIONAL_MIG_2016', 'DEATHS_2010', 'INTERNATIONAL_MIG_2015', 'BIRTHS_2010', 'NATURAL_INC_2018', 'NATURAL_INC_2017', 'NATURAL_INC_2013', 'NATURAL_INC_2011', 'NATURAL_INC_2015', 'NATURAL_INC_2012', 'NATURAL_INC_2014', 'DEATHS_2012', 'DEATHS_2011', 'DEATHS_2014', 'DEATHS_2015', 'DEATHS_2013', 'DEATHS_2017', 'DEATHS_2018', 'DEATHS_2016', 'NET_MIG_2015', 'NET_MIG_2019', 'BIRTHS_2018', 'BIRTHS_2012', 'BIRTHS_2014', 'BIRTHS_2017', 'BIRTHS_2011', 'BIRTHS_2015', 'BIRTHS_2016', 'BIRTHS_2013', 'DOMESTIC_MIG_2018', 'R_NET_MIG_2014', 'R_DOMESTIC_MIG_2018', 'R_DOMESTIC_MIG_2011', 'R_NET_MIG_2012', 'R_NET_MIG_2015', 'R_DOMESTIC_MIG_2013', 'R_DOMESTIC_MIG_2016', 'R_NET_MIG_2017', 'R_NET_MIG_2019']\n"
     ]
    },
    {
     "name": "stderr",
     "output_type": "stream",
     "text": [
      "C:\\Users\\vnarv\\AppData\\Local\\Temp\\ipykernel_21068\\3321466953.py:183: DeprecationWarning:\n",
      "\n",
      "`np.float` is a deprecated alias for the builtin `float`. To silence this warning, use `float` by itself. Doing this will not modify any behavior and is safe. If you specifically wanted the numpy scalar type, use `np.float64` here.\n",
      "Deprecated in NumPy 1.20; for more details and guidance: https://numpy.org/devdocs/release/1.20.0-notes.html#deprecations\n",
      "\n"
     ]
    }
   ],
   "source": [
    "df_population = read_excel(f\"{dir_path}PopulationEstimates.xls\")\n",
    "### explore data\n",
    "print(df_population.columns)\n",
    "print(df_population.shape)\n",
    "check_nan(df_population)\n",
    "check_duplicates(df_population, ['FIPStxt', 'State'])\n",
    "\n",
    "## apply preprocessing\n",
    "# select only counties\n",
    "recent_feats = ['POP_ESTIMATE_2019', 'N_POP_CHG_2019', \n",
    "              'GQ_ESTIMATES_2019', 'INTERNATIONAL_MIG_2019',\n",
    "              'NATURAL_INC_2019',  'DEATHS_2019',\n",
    "              'DOMESTIC_MIG_2019', 'BIRTHS_2019',\n",
    "              'R_DOMESTIC_MIG_2019', 'R_BIRTH_2019']\n",
    "\n",
    "df_population_prepro = preprocessing_x(\n",
    "    df_population.copy(deep=True),\n",
    "    feat_to_keep=recent_feats\n",
    ")"
   ]
  },
  {
   "cell_type": "code",
   "execution_count": 59,
   "metadata": {},
   "outputs": [
    {
     "data": {
      "text/plain": [
       "['FIPS_CODE',\n",
       " 'STATE',\n",
       " 'AREA_NAME',\n",
       " 'RURAL_URBAN_CONTINUUM_CODE_2003',\n",
       " 'RURAL_URBAN_CONTINUUM_CODE_2013',\n",
       " 'URBAN_INFLUENCE_CODE_2003',\n",
       " 'URBAN_INFLUENCE_CODE_2013',\n",
       " 'ECONOMIC_TYPOLOGY_2015']"
      ]
     },
     "execution_count": 59,
     "metadata": {},
     "output_type": "execute_result"
    }
   ],
   "source": [
    "df_population_prepro.select_dtypes(\"category\").columns.tolist()"
   ]
  },
  {
   "cell_type": "code",
   "execution_count": 72,
   "metadata": {},
   "outputs": [
    {
     "data": {
      "text/plain": [
       "0       republican party\n",
       "1       republican party\n",
       "2       republican party\n",
       "3       republican party\n",
       "4       republican party\n",
       "              ...       \n",
       "3147    republican party\n",
       "3148      democrat party\n",
       "3149    republican party\n",
       "3150    republican party\n",
       "3151    republican party\n",
       "Name: y, Length: 3152, dtype: object"
      ]
     },
     "execution_count": 72,
     "metadata": {},
     "output_type": "execute_result"
    }
   ],
   "source": [
    "df_presidential_2020[\"y\"]"
   ]
  },
  {
   "cell_type": "code",
   "execution_count": 85,
   "metadata": {},
   "outputs": [
    {
     "data": {
      "text/plain": [
       "republican party    2595\n",
       "democrat party       557\n",
       "Name: y, dtype: int64"
      ]
     },
     "execution_count": 85,
     "metadata": {},
     "output_type": "execute_result"
    }
   ],
   "source": [
    "df_presidential_2020[\"y\"].value_counts()"
   ]
  },
  {
   "cell_type": "code",
   "execution_count": 84,
   "metadata": {},
   "outputs": [
    {
     "data": {
      "text/html": [
       "<div>\n",
       "<style scoped>\n",
       "    .dataframe tbody tr th:only-of-type {\n",
       "        vertical-align: middle;\n",
       "    }\n",
       "\n",
       "    .dataframe tbody tr th {\n",
       "        vertical-align: top;\n",
       "    }\n",
       "\n",
       "    .dataframe thead th {\n",
       "        text-align: right;\n",
       "    }\n",
       "</style>\n",
       "<table border=\"1\" class=\"dataframe\">\n",
       "  <thead>\n",
       "    <tr style=\"text-align: right;\">\n",
       "      <th>y</th>\n",
       "      <th>democrat party</th>\n",
       "      <th>republican party</th>\n",
       "    </tr>\n",
       "    <tr>\n",
       "      <th>ECONOMIC_TYPOLOGY_2015</th>\n",
       "      <th></th>\n",
       "      <th></th>\n",
       "    </tr>\n",
       "  </thead>\n",
       "  <tbody>\n",
       "    <tr>\n",
       "      <th>Farm dependent</th>\n",
       "      <td>0.101580</td>\n",
       "      <td>0.898420</td>\n",
       "    </tr>\n",
       "    <tr>\n",
       "      <th>Manufacturing dependent</th>\n",
       "      <td>0.127049</td>\n",
       "      <td>0.872951</td>\n",
       "    </tr>\n",
       "    <tr>\n",
       "      <th>Mining dependent</th>\n",
       "      <td>0.139423</td>\n",
       "      <td>0.860577</td>\n",
       "    </tr>\n",
       "    <tr>\n",
       "      <th>Nonspecialized</th>\n",
       "      <td>0.177340</td>\n",
       "      <td>0.822660</td>\n",
       "    </tr>\n",
       "    <tr>\n",
       "      <th>Federal/Stae government dependent</th>\n",
       "      <td>0.245614</td>\n",
       "      <td>0.754386</td>\n",
       "    </tr>\n",
       "    <tr>\n",
       "      <th>Recreation</th>\n",
       "      <td>0.257143</td>\n",
       "      <td>0.742857</td>\n",
       "    </tr>\n",
       "  </tbody>\n",
       "</table>\n",
       "</div>"
      ],
      "text/plain": [
       "y                                  democrat party  republican party\n",
       "ECONOMIC_TYPOLOGY_2015                                             \n",
       "Farm dependent                           0.101580          0.898420\n",
       "Manufacturing dependent                  0.127049          0.872951\n",
       "Mining dependent                         0.139423          0.860577\n",
       "Nonspecialized                           0.177340          0.822660\n",
       "Federal/Stae government dependent        0.245614          0.754386\n",
       "Recreation                               0.257143          0.742857"
      ]
     },
     "execution_count": 84,
     "metadata": {},
     "output_type": "execute_result"
    }
   ],
   "source": [
    "df_crosstab"
   ]
  },
  {
   "cell_type": "code",
   "execution_count": 83,
   "metadata": {},
   "outputs": [
    {
     "data": {
      "image/png": "[encoded data removed]",
      "text/plain": [
       "<Figure size 1008x576 with 2 Axes>"
      ]
     },
     "metadata": {
      "needs_background": "light"
     },
     "output_type": "display_data"
    }
   ],
   "source": [
    "cat_cols = ['ECONOMIC_TYPOLOGY_2015']\n",
    "y_train = df_presidential_2020[\"y\"]\n",
    "for col in cat_cols:\n",
    "    # Construction tableau de contingence\n",
    "    df_crosstab = (pd.crosstab(index=df_population_prepro[col],\n",
    "                               columns=y_train,\n",
    "                               normalize=\"index\")\n",
    "                   .sort_values(\"democrat party\")\n",
    "                  )\n",
    "    # Représentation graphique\n",
    "    fig, (ax1, ax2) = plt.subplots(1, 2, sharey=True, figsize=(14,8))\n",
    "    fig.suptitle('Economic typology 2015 vs votes 2020 US Elections')\n",
    "    sns.barplot(x=df_crosstab[\"democrat party\"], y=df_crosstab.index, color=\"#D38F00\", ax=ax1)\n",
    "    sns.barplot(x=df_crosstab[\"republican party\"],\n",
    "                           y=df_crosstab.index,\n",
    "                           color=\"#D38F00\",\n",
    "                           ax=ax2)\n",
    "\n",
    "    bar_plot.set(xlabel='')\n",
    "    plt.show()"
   ]
  },
  {
   "cell_type": "code",
   "execution_count": 76,
   "metadata": {},
   "outputs": [],
   "source": [
    "eco_types = { \n",
    "    0: 'Nonspecialized',\n",
    "    1: 'Farm dependent',\n",
    "    2: 'Mining dependent',\n",
    "    3: 'Manufacturing dependent',\n",
    "    4: 'Federal/Stae government dependent',\n",
    "    5: 'Recreation'\n",
    "}\n",
    "df_population_prepro[\n",
    "    \"ECONOMIC_TYPOLOGY_2015\"] = df_population_prepro[\"ECONOMIC_TYPOLOGY_2015\"].replace(eco_types)"
   ]
  },
  {
   "cell_type": "markdown",
   "metadata": {},
   "source": [
    "#### Croissement des X et Y"
   ]
  },
  {
   "cell_type": "code",
   "execution_count": null,
   "metadata": {},
   "outputs": [],
   "source": [
    "\n",
    "df_population_prepro_y = pd.merge(df_population_prepro, df_presidential_2020[[\"COUNTY_FIPS\", \"y\"]], left_on=\"FIPS_CODE\", right_on=\"COUNTY_FIPS\", how=\"inner\")\n",
    "vars_exp = test.drop(\"y\", axis=1)\n",
    "vae = test[[\"y\"]]\n",
    "vae[\"y\"] = vae[\"y\"].astype(\"category\")\n",
    "num_cols = vars_exp.select_dtypes(include=np.number).columns.tolist()[:50]\n",
    "\n",
    "# graphic parameters\n",
    "ncols = 3\n",
    "nrows = len(num_cols) // ncols + (len(num_cols) % ncols > 0)\n",
    "plt.figure(figsize=(25, 21))\n",
    "plt.subplots_adjust(hspace=0.9)\n",
    "plt.suptitle(\"Distribution des \\nvariables catégorielles\", fontsize=18, y=0.95)\n",
    "\n",
    "for i, col in enumerate(num_cols):\n",
    "    ax = plt.subplot(nrows, ncols, i + 1)\n",
    "    \n",
    "    ax = sns.boxplot(x=vae[\"y\"], y=vars_exp[col], palette=[\"#011C5D\", \"#D38F00\"])\n",
    "    ax.set_xlabel(\"Target\")\n",
    "    ax.grid(b=True, which='major', axis='x')\n",
    "    ax.spines['top'].set_visible(False)\n",
    "    ax.spines['right'].set_visible(False)\n",
    "    ax.spines['bottom'].set_visible(False)\n",
    "    ax.spines['left'].set_visible(False)\n",
    "    \n",
    "    ax.set_title(f\"Distribution {col} with the target\", loc= 'center', fontsize=15)\n"
   ]
  },
  {
   "cell_type": "code",
   "execution_count": null,
   "metadata": {},
   "outputs": [],
   "source": [
    "df_population.head()"
   ]
  },
  {
   "cell_type": "markdown",
   "metadata": {},
   "source": [
    "### Education data"
   ]
  },
  {
   "cell_type": "markdown",
   "metadata": {},
   "source": [
    "Rural-Urban Continuum Codes form a classification scheme that distinguishes metropolitan counties by the population size of their metro area, and nonmetropolitan counties by degree of urbanization and adjacency to a metro area."
   ]
  },
  {
   "cell_type": "code",
   "execution_count": 30,
   "metadata": {
    "scrolled": true
   },
   "outputs": [
    {
     "name": "stdout",
     "output_type": "stream",
     "text": [
      "\n",
      "========== File name US_County_Level_Presidential_Results_08-16.csv\n",
      "\n",
      "Educational attainment for adults age 25 and older for the U.S., States, and counties, 1970-2019\n",
      "\n",
      "\n",
      "There are features with NAN values :\n",
      "Number of features with NAN = 44\n",
      "Number of values with NAN = 1417\n",
      "========================================================================================\n",
      "[Feature] <--- has empty values ---> [percentage of empty values]\n",
      "========================================================================================\n",
      "2003 Rural-urban Continuum Code  <--->  1.89%\n",
      "2003 Urban Influence Code       <--->  1.89%\n",
      "2013 Rural-urban Continuum Code  <--->  1.89%\n",
      "2013 Urban Influence Code       <--->  1.89%\n",
      "Less than a high school diploma, 1970  <--->  2.95%\n",
      "High school diploma only, 1970  <--->  2.95%\n",
      "Some college (1-3 years), 1970  <--->  2.95%\n",
      "Four years of college or higher, 1970  <--->  2.95%\n",
      "Percent of adults with less than a high school diploma, 1970  <--->  2.95%\n",
      "Percent of adults with a high school diploma only, 1970  <--->  2.95%\n",
      "Percent of adults completing some college (1-3 years), 1970  <--->  2.95%\n",
      "Percent of adults completing four years of college or higher, 1970  <--->  2.95%\n",
      "Less than a high school diploma, 1980  <--->  0.49%\n",
      "High school diploma only, 1980  <--->  0.49%\n",
      "Some college (1-3 years), 1980  <--->  0.49%\n",
      "Four years of college or higher, 1980  <--->  0.49%\n",
      "Percent of adults with less than a high school diploma, 1980  <--->  0.49%\n",
      "Percent of adults with a high school diploma only, 1980  <--->  0.49%\n",
      "Percent of adults completing some college (1-3 years), 1980  <--->  0.49%\n",
      "Percent of adults completing four years of college or higher, 1980  <--->  0.49%\n",
      "Less than a high school diploma, 1990  <--->  0.37%\n",
      "High school diploma only, 1990  <--->  0.37%\n",
      "Some college or associate's degree, 1990  <--->  0.37%\n",
      "Bachelor's degree or higher, 1990  <--->  0.37%\n",
      "Percent of adults with less than a high school diploma, 1990  <--->  0.37%\n",
      "Percent of adults with a high school diploma only, 1990  <--->  0.37%\n",
      "Percent of adults completing some college or associate's degree, 1990  <--->  0.40%\n",
      "Percent of adults with a bachelor's degree or higher, 1990  <--->  0.37%\n",
      "Less than a high school diploma, 2000  <--->  0.34%\n",
      "High school diploma only, 2000  <--->  0.34%\n",
      "Some college or associate's degree, 2000  <--->  0.34%\n",
      "Bachelor's degree or higher, 2000  <--->  0.34%\n",
      "Percent of adults with less than a high school diploma, 2000  <--->  0.34%\n",
      "Percent of adults with a high school diploma only, 2000  <--->  0.34%\n",
      "Percent of adults completing some college or associate's degree, 2000  <--->  0.34%\n",
      "Percent of adults with a bachelor's degree or higher, 2000  <--->  0.34%\n",
      "Less than a high school diploma, 2015-19  <--->  0.30%\n",
      "High school diploma only, 2015-19  <--->  0.30%\n",
      "Some college or associate's degree, 2015-19  <--->  0.30%\n",
      "Bachelor's degree or higher, 2015-19  <--->  0.30%\n",
      "Percent of adults with less than a high school diploma, 2015-19  <--->  0.30%\n",
      "Percent of adults with a high school diploma only, 2015-19  <--->  0.30%\n",
      "Percent of adults completing some college or associate's degree, 2015-19  <--->  0.30%\n",
      "Percent of adults with a bachelor's degree or higher, 2015-19  <--->  0.30%\n",
      "========================================================================================\n",
      "\n",
      "\n",
      "\n",
      "There none duplicates based on keys ['FIPS Code', 'State', 'Area name']\n",
      "\n",
      " ========================================================================================\n",
      "Nb of states found: 3112 / 3152\n",
      "Missing state(s): ['02901', '02902', '02903', '02904', '02905', '02906', '02907', '02908', '02909', '02910', '02911', '02912', '02913', '02914', '02915', '02916', '02917', '02918', '02919', '02920', '02921', '02922', '02923', '02924', '02925', '02926', '02927', '02928', '02929', '02930', '02931', '02932', '02933', '02934', '02935', '02936', '02937', '02938', '02939', '02940']\n",
      "========================================================================================\n",
      "\n",
      "\n",
      "\n",
      "There are features with NAN values :\n",
      "Number of features with NAN = 32\n",
      "Number of values with NAN = 88\n",
      "========================================================================================\n",
      "[Feature] <--- has empty values ---> [percentage of empty values]\n",
      "========================================================================================\n",
      "LESS_THAN_A_HIGH_SCHOOL_DIPLOMA__1970  <--->  0.19%\n",
      "HIGH_SCHOOL_DIPLOMA_ONLY__1970  <--->  0.19%\n",
      "SOME_COLLEGE__1_3_YEARS___1970  <--->  0.19%\n",
      "FOUR_YEARS_OF_COLLEGE_OR_HIGHER__1970  <--->  0.19%\n",
      "PERCENT_OF_ADULTS_WITH_LESS_THAN_A_HIGH_SCHOOL_DIPLOMA__1970  <--->  0.19%\n",
      "PERCENT_OF_ADULTS_WITH_A_HIGH_SCHOOL_DIPLOMA_ONLY__1970  <--->  0.19%\n",
      "PERCENT_OF_ADULTS_COMPLETING_SOME_COLLEGE__1_3_YEARS___1970  <--->  0.19%\n",
      "PERCENT_OF_ADULTS_COMPLETING_FOUR_YEARS_OF_COLLEGE_OR_HIGHER__1970  <--->  0.19%\n",
      "LESS_THAN_A_HIGH_SCHOOL_DIPLOMA__1980  <--->  0.10%\n",
      "HIGH_SCHOOL_DIPLOMA_ONLY__1980  <--->  0.10%\n",
      "SOME_COLLEGE__1_3_YEARS___1980  <--->  0.10%\n",
      "FOUR_YEARS_OF_COLLEGE_OR_HIGHER__1980  <--->  0.10%\n",
      "PERCENT_OF_ADULTS_WITH_LESS_THAN_A_HIGH_SCHOOL_DIPLOMA__1980  <--->  0.10%\n",
      "PERCENT_OF_ADULTS_WITH_A_HIGH_SCHOOL_DIPLOMA_ONLY__1980  <--->  0.10%\n",
      "PERCENT_OF_ADULTS_COMPLETING_SOME_COLLEGE__1_3_YEARS___1980  <--->  0.10%\n",
      "PERCENT_OF_ADULTS_COMPLETING_FOUR_YEARS_OF_COLLEGE_OR_HIGHER__1980  <--->  0.10%\n",
      "LESS_THAN_A_HIGH_SCHOOL_DIPLOMA__1990  <--->  0.03%\n",
      "HIGH_SCHOOL_DIPLOMA_ONLY__1990  <--->  0.03%\n",
      "SOME_COLLEGE_OR_ASSOCIATE_S_DEGREE__1990  <--->  0.03%\n",
      "BACHELOR_S_DEGREE_OR_HIGHER__1990  <--->  0.03%\n",
      "PERCENT_OF_ADULTS_WITH_LESS_THAN_A_HIGH_SCHOOL_DIPLOMA__1990  <--->  0.03%\n",
      "PERCENT_OF_ADULTS_WITH_A_HIGH_SCHOOL_DIPLOMA_ONLY__1990  <--->  0.03%\n",
      "PERCENT_OF_ADULTS_COMPLETING_SOME_COLLEGE_OR_ASSOCIATE_S_DEGREE__1990  <--->  0.03%\n",
      "PERCENT_OF_ADULTS_WITH_A_BACHELOR_S_DEGREE_OR_HIGHER__1990  <--->  0.03%\n",
      "LESS_THAN_A_HIGH_SCHOOL_DIPLOMA__2000  <--->  0.03%\n",
      "HIGH_SCHOOL_DIPLOMA_ONLY__2000  <--->  0.03%\n",
      "SOME_COLLEGE_OR_ASSOCIATE_S_DEGREE__2000  <--->  0.03%\n",
      "BACHELOR_S_DEGREE_OR_HIGHER__2000  <--->  0.03%\n",
      "PERCENT_OF_ADULTS_WITH_LESS_THAN_A_HIGH_SCHOOL_DIPLOMA__2000  <--->  0.03%\n",
      "PERCENT_OF_ADULTS_WITH_A_HIGH_SCHOOL_DIPLOMA_ONLY__2000  <--->  0.03%\n",
      "PERCENT_OF_ADULTS_COMPLETING_SOME_COLLEGE_OR_ASSOCIATE_S_DEGREE__2000  <--->  0.03%\n",
      "PERCENT_OF_ADULTS_WITH_A_BACHELOR_S_DEGREE_OR_HIGHER__2000  <--->  0.03%\n",
      "========================================================================================\n",
      "\n",
      "... Selecting features by variance and correlation\n",
      "Colonnes avec un std null: []\n",
      "\n",
      " There are correlation features :\n",
      "Number of features to keep = 2\n",
      "Number of features to drop = 20\n",
      "========================================================================================\n",
      "[Feature TO KEEP] <--- is correlated with ---> [Feature(s) TO DROP]\n",
      "========================================================================================\n",
      "LESS_THAN_A_HIGH_SCHOOL_DIPLOMA__2015_19  <--->  {'SOME_COLLEGE_OR_ASSOCIATE_S_DEGREE__2000', 'SOME_COLLEGE__1_3_YEARS___1980', 'SOME_COLLEGE_OR_ASSOCIATE_S_DEGREE__2015_19', 'BACHELOR_S_DEGREE_OR_HIGHER__2015_19', 'SOME_COLLEGE__1_3_YEARS___1970', 'HIGH_SCHOOL_DIPLOMA_ONLY__2015_19', 'BACHELOR_S_DEGREE_OR_HIGHER__2000', 'HIGH_SCHOOL_DIPLOMA_ONLY__1970', 'LESS_THAN_A_HIGH_SCHOOL_DIPLOMA__2000', 'FOUR_YEARS_OF_COLLEGE_OR_HIGHER__1980', 'HIGH_SCHOOL_DIPLOMA_ONLY__1990', 'LESS_THAN_A_HIGH_SCHOOL_DIPLOMA__1970', 'SOME_COLLEGE_OR_ASSOCIATE_S_DEGREE__1990', 'LESS_THAN_A_HIGH_SCHOOL_DIPLOMA__1990', 'BACHELOR_S_DEGREE_OR_HIGHER__1990', 'HIGH_SCHOOL_DIPLOMA_ONLY__2000', 'HIGH_SCHOOL_DIPLOMA_ONLY__1980', 'LESS_THAN_A_HIGH_SCHOOL_DIPLOMA__1980', 'FOUR_YEARS_OF_COLLEGE_OR_HIGHER__1970'}\n",
      "PERCENT_OF_ADULTS_WITH_A_BACHELOR_S_DEGREE_OR_HIGHER__2000  <--->  {'PERCENT_OF_ADULTS_WITH_A_BACHELOR_S_DEGREE_OR_HIGHER__1990'}\n",
      "========================================================================================\n",
      "\n",
      "df_x.shape = %s (3112, 22)\n",
      "Dropped cols after selecting by variance and correlation : ['LESS_THAN_A_HIGH_SCHOOL_DIPLOMA__1970', 'HIGH_SCHOOL_DIPLOMA_ONLY__1970', 'SOME_COLLEGE__1_3_YEARS___1970', 'FOUR_YEARS_OF_COLLEGE_OR_HIGHER__1970', 'LESS_THAN_A_HIGH_SCHOOL_DIPLOMA__1980', 'HIGH_SCHOOL_DIPLOMA_ONLY__1980', 'SOME_COLLEGE__1_3_YEARS___1980', 'FOUR_YEARS_OF_COLLEGE_OR_HIGHER__1980', 'LESS_THAN_A_HIGH_SCHOOL_DIPLOMA__1990', 'HIGH_SCHOOL_DIPLOMA_ONLY__1990', 'SOME_COLLEGE_OR_ASSOCIATE_S_DEGREE__1990', 'BACHELOR_S_DEGREE_OR_HIGHER__1990', 'PERCENT_OF_ADULTS_WITH_A_BACHELOR_S_DEGREE_OR_HIGHER__1990', 'LESS_THAN_A_HIGH_SCHOOL_DIPLOMA__2000', 'HIGH_SCHOOL_DIPLOMA_ONLY__2000', 'SOME_COLLEGE_OR_ASSOCIATE_S_DEGREE__2000', 'BACHELOR_S_DEGREE_OR_HIGHER__2000', 'BACHELOR_S_DEGREE_OR_HIGHER__2015_19']\n"
     ]
    },
    {
     "name": "stderr",
     "output_type": "stream",
     "text": [
      "C:\\Users\\vnarv\\AppData\\Local\\Temp\\ipykernel_9564\\2911557929.py:181: DeprecationWarning:\n",
      "\n",
      "`np.float` is a deprecated alias for the builtin `float`. To silence this warning, use `float` by itself. Doing this will not modify any behavior and is safe. If you specifically wanted the numpy scalar type, use `np.float64` here.\n",
      "Deprecated in NumPy 1.20; for more details and guidance: https://numpy.org/devdocs/release/1.20.0-notes.html#deprecations\n",
      "\n"
     ]
    }
   ],
   "source": [
    "df_education = read_excel(f\"{dir_path}Education.xls\")\n",
    "df_education[\"Area name\"] = df_education[\"Area name\"].replace(\"Lousiana\", \"LOUISIANA\" )\n",
    "### explore data\n",
    "check_nan(df_education)\n",
    "check_duplicates(df_education, ['FIPS Code', 'State', 'Area name'])\n",
    "\n",
    "## apply preprocessing\n",
    "# select only counties\n",
    "recent_info_education = [\n",
    "    'LESS_THAN_A_HIGH_SCHOOL_DIPLOMA__2015_19',\n",
    "    'HIGH_SCHOOL_DIPLOMA_ONLY__2015_19',\n",
    "    'SOME_COLLEGE_OR_ASSOCIATE_S_DEGREE__2015_19'\n",
    "]\n",
    "df_education_prepro = preprocessing_x(df_education.copy(deep=True),\n",
    "                                      feat_to_keep=recent_info_education)"
   ]
  },
  {
   "cell_type": "markdown",
   "metadata": {},
   "source": [
    "# Poverty\n"
   ]
  },
  {
   "cell_type": "code",
   "execution_count": 31,
   "metadata": {
    "scrolled": true
   },
   "outputs": [
    {
     "name": "stdout",
     "output_type": "stream",
     "text": [
      "\n",
      "========== File name US_County_Level_Presidential_Results_08-16.csv\n",
      "\n",
      "Poverty estimates for the U.S., States, and counties, 2019\n",
      "\n",
      "\n",
      "There are features with NAN values :\n",
      "Number of features with NAN = 10\n",
      "Number of values with NAN = 19064\n",
      "========================================================================================\n",
      "[Feature] <--- has empty values ---> [percentage of empty values]\n",
      "========================================================================================\n",
      "Rural-urban_Continuum_Code_2003  <--->  1.79%\n",
      "Urban_Influence_Code_2003       <--->  1.79%\n",
      "Rural-urban_Continuum_Code_2013  <--->  1.63%\n",
      "Urban_Influence_Code_2013       <--->  1.63%\n",
      "POV04_2019                      <--->  98.37%\n",
      "CI90LB04_2019                   <--->  98.37%\n",
      "CI90UB04_2019                   <--->  98.37%\n",
      "PCTPOV04_2019                   <--->  98.37%\n",
      "CI90LB04P_2019                  <--->  98.37%\n",
      "CI90UB04P_2019                  <--->  98.37%\n",
      "========================================================================================\n",
      "\n",
      "\n",
      "\n",
      "There none duplicates based on keys ['FIPStxt', 'STATE', 'Area_name']\n"
     ]
    }
   ],
   "source": [
    "df_poverty = read_excel(f\"{dir_path}PovertyEstimates.xls\")\n",
    "df_poverty = df_poverty.rename({'Stabr' : 'STATE'}, axis=1)\n",
    "### explore data\n",
    "check_nan(df_poverty)\n",
    "check_duplicates(df_poverty, ['FIPStxt', 'STATE', 'Area_name'])"
   ]
  },
  {
   "cell_type": "code",
   "execution_count": 32,
   "metadata": {},
   "outputs": [
    {
     "name": "stdout",
     "output_type": "stream",
     "text": [
      "\n",
      " Features with < 1000 unique values\n",
      "CI90LB04P_2019      45\n",
      "PCTPOV04_2019       46\n",
      "CI90UB04P_2019      50\n",
      "CI90LB04_2019       53\n",
      "POV04_2019          53\n",
      "CI90UB04_2019       53\n",
      "CI90LB517P_2019    300\n",
      "CI90LB017P_2019    324\n",
      "PCTPOV517_2019     396\n",
      "PCTPOV017_2019     409\n",
      "CI90UB517P_2019    501\n",
      "CI90UB017P_2019    502\n",
      "dtype: int64\n",
      "\n",
      " ========================================================================================\n",
      "Nb of states found: 3112 / 3152\n",
      "Missing state(s): ['02901', '02902', '02903', '02904', '02905', '02906', '02907', '02908', '02909', '02910', '02911', '02912', '02913', '02914', '02915', '02916', '02917', '02918', '02919', '02920', '02921', '02922', '02923', '02924', '02925', '02926', '02927', '02928', '02929', '02930', '02931', '02932', '02933', '02934', '02935', '02936', '02937', '02938', '02939', '02940']\n",
      "========================================================================================\n",
      "\n",
      "\n",
      "\n",
      "There are features with NAN values :\n",
      "Number of features with NAN = 6\n",
      "Number of values with NAN = 18672\n",
      "========================================================================================\n",
      "[Feature] <--- has empty values ---> [percentage of empty values]\n",
      "========================================================================================\n",
      "CI90LB04P_2019                  <--->  100.00%\n",
      "PCTPOV04_2019                   <--->  100.00%\n",
      "CI90UB04P_2019                  <--->  100.00%\n",
      "CI90LB04_2019                   <--->  100.00%\n",
      "POV04_2019                      <--->  100.00%\n",
      "CI90UB04_2019                   <--->  100.00%\n",
      "========================================================================================\n",
      "\n",
      "... Selecting features by variance and correlation\n",
      "Colonnes avec un std null: ['CI90LB04P_2019', 'PCTPOV04_2019', 'CI90UB04P_2019', 'CI90LB04_2019', 'POV04_2019', 'CI90UB04_2019']\n",
      "\n",
      " There are correlation features :\n",
      "Number of features to keep = 4\n",
      "Number of features to drop = 17\n",
      "========================================================================================\n",
      "[Feature TO KEEP] <--- is correlated with ---> [Feature(s) TO DROP]\n",
      "========================================================================================\n",
      "POVALL_2019                     <--->  {'CI90LBALL_2019', 'CI90UB017_2019', 'CI90LB017_2019', 'CI90LB517_2019', 'POV017_2019', 'CI90UB517_2019', 'POV517_2019', 'CI90UBALL_2019'}\n",
      "CI90UBALLP_2019                 <--->  {'PCTPOVALL_2019', 'CI90LBALLP_2019'}\n",
      "PCTPOV517_2019                  <--->  {'CI90LB017P_2019', 'PCTPOV017_2019', 'CI90LB517P_2019', 'CI90UB517P_2019', 'CI90UB017P_2019'}\n",
      "MEDHHINC_2019                   <--->  {'CI90UBINC_2019', 'CI90LBINC_2019'}\n",
      "========================================================================================\n",
      "\n",
      "df_x.shape = %s (3112, 4)\n",
      "Dropped cols after selecting by variance and correlation : ['CI90LBALL_2019', 'CI90UBALL_2019', 'PCTPOVALL_2019', 'CI90LBALLP_2019', 'CI90LB04P_2019', 'PCTPOV04_2019', 'CI90UB04P_2019', 'CI90LB04_2019', 'POV04_2019', 'CI90UB04_2019', 'CI90LB517P_2019', 'CI90LB017P_2019', 'PCTPOV017_2019', 'CI90UB517P_2019', 'CI90UB017P_2019', 'CI90LB517_2019', 'POV517_2019', 'CI90LB017_2019', 'CI90UB517_2019', 'POV017_2019', 'CI90UB017_2019', 'CI90UBINC_2019', 'CI90LBINC_2019']\n"
     ]
    },
    {
     "name": "stderr",
     "output_type": "stream",
     "text": [
      "C:\\Users\\vnarv\\AppData\\Local\\Temp\\ipykernel_9564\\2911557929.py:181: DeprecationWarning:\n",
      "\n",
      "`np.float` is a deprecated alias for the builtin `float`. To silence this warning, use `float` by itself. Doing this will not modify any behavior and is safe. If you specifically wanted the numpy scalar type, use `np.float64` here.\n",
      "Deprecated in NumPy 1.20; for more details and guidance: https://numpy.org/devdocs/release/1.20.0-notes.html#deprecations\n",
      "\n"
     ]
    }
   ],
   "source": [
    "df_poverty_prepro = preprocessing_x(df_poverty.copy(deep=True))"
   ]
  },
  {
   "cell_type": "markdown",
   "metadata": {},
   "source": [
    "# Unemployment"
   ]
  },
  {
   "cell_type": "code",
   "execution_count": 37,
   "metadata": {},
   "outputs": [
    {
     "data": {
      "text/plain": [
       "Index(['fips_txt', 'STATE', 'area_name', 'Rural_urban_continuum_code_2013',\n",
       "       'Urban_influence_code_2013', 'Metro_2013', 'Civilian_labor_force_2000',\n",
       "       'Employed_2000', 'Unemployed_2000', 'Unemployment_rate_2000',\n",
       "       'Civilian_labor_force_2001', 'Employed_2001', 'Unemployed_2001',\n",
       "       'Unemployment_rate_2001', 'Civilian_labor_force_2002', 'Employed_2002',\n",
       "       'Unemployed_2002', 'Unemployment_rate_2002',\n",
       "       'Civilian_labor_force_2003', 'Employed_2003', 'Unemployed_2003',\n",
       "       'Unemployment_rate_2003', 'Civilian_labor_force_2004', 'Employed_2004',\n",
       "       'Unemployed_2004', 'Unemployment_rate_2004',\n",
       "       'Civilian_labor_force_2005', 'Employed_2005', 'Unemployed_2005',\n",
       "       'Unemployment_rate_2005', 'Civilian_labor_force_2006', 'Employed_2006',\n",
       "       'Unemployed_2006', 'Unemployment_rate_2006',\n",
       "       'Civilian_labor_force_2007', 'Employed_2007', 'Unemployed_2007',\n",
       "       'Unemployment_rate_2007', 'Civilian_labor_force_2008', 'Employed_2008',\n",
       "       'Unemployed_2008', 'Unemployment_rate_2008',\n",
       "       'Civilian_labor_force_2009', 'Employed_2009', 'Unemployed_2009',\n",
       "       'Unemployment_rate_2009', 'Civilian_labor_force_2010', 'Employed_2010',\n",
       "       'Unemployed_2010', 'Unemployment_rate_2010',\n",
       "       'Civilian_labor_force_2011', 'Employed_2011', 'Unemployed_2011',\n",
       "       'Unemployment_rate_2011', 'Civilian_labor_force_2012', 'Employed_2012',\n",
       "       'Unemployed_2012', 'Unemployment_rate_2012',\n",
       "       'Civilian_labor_force_2013', 'Employed_2013', 'Unemployed_2013',\n",
       "       'Unemployment_rate_2013', 'Civilian_labor_force_2014', 'Employed_2014',\n",
       "       'Unemployed_2014', 'Unemployment_rate_2014',\n",
       "       'Civilian_labor_force_2015', 'Employed_2015', 'Unemployed_2015',\n",
       "       'Unemployment_rate_2015', 'Civilian_labor_force_2016', 'Employed_2016',\n",
       "       'Unemployed_2016', 'Unemployment_rate_2016',\n",
       "       'Civilian_labor_force_2017', 'Employed_2017', 'Unemployed_2017',\n",
       "       'Unemployment_rate_2017', 'Civilian_labor_force_2018', 'Employed_2018',\n",
       "       'Unemployed_2018', 'Unemployment_rate_2018',\n",
       "       'Civilian_labor_force_2019', 'Employed_2019', 'Unemployed_2019',\n",
       "       'Unemployment_rate_2019', 'Median_Household_Income_2019',\n",
       "       'Med_HH_Income_Percent_of_State_Total_2019'],\n",
       "      dtype='object', name=0)"
      ]
     },
     "execution_count": 37,
     "metadata": {},
     "output_type": "execute_result"
    }
   ],
   "source": [
    "df_unemployment.columns"
   ]
  },
  {
   "cell_type": "code",
   "execution_count": 38,
   "metadata": {
    "scrolled": true
   },
   "outputs": [
    {
     "name": "stdout",
     "output_type": "stream",
     "text": [
      "\n",
      "========== File name US_County_Level_Presidential_Results_08-16.csv\n",
      "\n",
      "Unemployment and median household income for the U.S., States, and counties, 2000-19\n",
      "\n",
      "\n",
      "There are features with NAN values :\n",
      "Number of features with NAN = 85\n",
      "Number of values with NAN = 706\n",
      "========================================================================================\n",
      "[Feature] <--- has empty values ---> [percentage of empty values]\n",
      "========================================================================================\n",
      "Rural_urban_continuum_code_2013  <--->  1.71%\n",
      "Urban_influence_code_2013       <--->  1.71%\n",
      "Metro_2013                      <--->  1.62%\n",
      "Civilian_labor_force_2000       <--->  0.15%\n",
      "Employed_2000                   <--->  0.15%\n",
      "Unemployed_2000                 <--->  0.15%\n",
      "Unemployment_rate_2000          <--->  0.15%\n",
      "Civilian_labor_force_2001       <--->  0.15%\n",
      "Employed_2001                   <--->  0.15%\n",
      "Unemployed_2001                 <--->  0.15%\n",
      "Unemployment_rate_2001          <--->  0.15%\n",
      "Civilian_labor_force_2002       <--->  0.15%\n",
      "Employed_2002                   <--->  0.15%\n",
      "Unemployed_2002                 <--->  0.15%\n",
      "Unemployment_rate_2002          <--->  0.15%\n",
      "Civilian_labor_force_2003       <--->  0.15%\n",
      "Employed_2003                   <--->  0.15%\n",
      "Unemployed_2003                 <--->  0.15%\n",
      "Unemployment_rate_2003          <--->  0.15%\n",
      "Civilian_labor_force_2004       <--->  0.15%\n",
      "Employed_2004                   <--->  0.15%\n",
      "Unemployed_2004                 <--->  0.15%\n",
      "Unemployment_rate_2004          <--->  0.15%\n",
      "Civilian_labor_force_2005       <--->  0.37%\n",
      "Employed_2005                   <--->  0.37%\n",
      "Unemployed_2005                 <--->  0.37%\n",
      "Unemployment_rate_2005          <--->  0.37%\n",
      "Civilian_labor_force_2006       <--->  0.37%\n",
      "Employed_2006                   <--->  0.37%\n",
      "Unemployed_2006                 <--->  0.37%\n",
      "Unemployment_rate_2006          <--->  0.37%\n",
      "Civilian_labor_force_2007       <--->  0.15%\n",
      "Employed_2007                   <--->  0.15%\n",
      "Unemployed_2007                 <--->  0.15%\n",
      "Unemployment_rate_2007          <--->  0.15%\n",
      "Civilian_labor_force_2008       <--->  0.15%\n",
      "Employed_2008                   <--->  0.15%\n",
      "Unemployed_2008                 <--->  0.15%\n",
      "Unemployment_rate_2008          <--->  0.15%\n",
      "Civilian_labor_force_2009       <--->  0.15%\n",
      "Employed_2009                   <--->  0.15%\n",
      "Unemployed_2009                 <--->  0.15%\n",
      "Unemployment_rate_2009          <--->  0.15%\n",
      "Civilian_labor_force_2010       <--->  0.09%\n",
      "Employed_2010                   <--->  0.09%\n",
      "Unemployed_2010                 <--->  0.09%\n",
      "Unemployment_rate_2010          <--->  0.09%\n",
      "Civilian_labor_force_2011       <--->  0.09%\n",
      "Employed_2011                   <--->  0.09%\n",
      "Unemployed_2011                 <--->  0.09%\n",
      "Unemployment_rate_2011          <--->  0.09%\n",
      "Civilian_labor_force_2012       <--->  0.09%\n",
      "Employed_2012                   <--->  0.09%\n",
      "Unemployed_2012                 <--->  0.09%\n",
      "Unemployment_rate_2012          <--->  0.09%\n",
      "Civilian_labor_force_2013       <--->  0.09%\n",
      "Employed_2013                   <--->  0.09%\n",
      "Unemployed_2013                 <--->  0.09%\n",
      "Unemployment_rate_2013          <--->  0.09%\n",
      "Civilian_labor_force_2014       <--->  0.09%\n",
      "Employed_2014                   <--->  0.09%\n",
      "Unemployed_2014                 <--->  0.09%\n",
      "Unemployment_rate_2014          <--->  0.09%\n",
      "Civilian_labor_force_2015       <--->  0.09%\n",
      "Employed_2015                   <--->  0.09%\n",
      "Unemployed_2015                 <--->  0.09%\n",
      "Unemployment_rate_2015          <--->  0.09%\n",
      "Civilian_labor_force_2016       <--->  0.09%\n",
      "Employed_2016                   <--->  0.09%\n",
      "Unemployed_2016                 <--->  0.09%\n",
      "Unemployment_rate_2016          <--->  0.09%\n",
      "Civilian_labor_force_2017       <--->  0.09%\n",
      "Employed_2017                   <--->  0.09%\n",
      "Unemployed_2017                 <--->  0.09%\n",
      "Unemployment_rate_2017          <--->  0.09%\n",
      "Civilian_labor_force_2018       <--->  0.09%\n",
      "Employed_2018                   <--->  0.09%\n",
      "Unemployed_2018                 <--->  0.09%\n",
      "Unemployment_rate_2018          <--->  0.09%\n",
      "Civilian_labor_force_2019       <--->  0.09%\n",
      "Employed_2019                   <--->  0.09%\n",
      "Unemployed_2019                 <--->  0.09%\n",
      "Unemployment_rate_2019          <--->  0.09%\n",
      "Median_Household_Income_2019    <--->  2.50%\n",
      "Med_HH_Income_Percent_of_State_Total_2019  <--->  2.53%\n",
      "========================================================================================\n",
      "\n",
      "\n",
      "\n",
      "There none duplicates based on keys ['fips_txt', 'STATE', 'area_name']\n"
     ]
    }
   ],
   "source": [
    "df_unemployment = read_excel(f\"{dir_path}Unemployment.xls\")\n",
    "df_unemployment = df_unemployment.rename({'Stabr' : 'STATE'}, axis=1)\n",
    "### explore data\n",
    "check_nan(df_unemployment)\n",
    "check_duplicates(df_unemployment, ['fips_txt', 'STATE', 'area_name'])"
   ]
  },
  {
   "cell_type": "code",
   "execution_count": 39,
   "metadata": {},
   "outputs": [
    {
     "name": "stdout",
     "output_type": "stream",
     "text": [
      "\n",
      " Features with < 1000 unique values\n",
      "METRO_2013                  3\n",
      "UNEMPLOYMENT_RATE_2019    125\n",
      "UNEMPLOYMENT_RATE_2018    133\n",
      "UNEMPLOYMENT_RATE_2004    134\n",
      "UNEMPLOYMENT_RATE_2000    136\n",
      "UNEMPLOYMENT_RATE_2006    136\n",
      "UNEMPLOYMENT_RATE_2007    140\n",
      "UNEMPLOYMENT_RATE_2001    143\n",
      "UNEMPLOYMENT_RATE_2005    144\n",
      "UNEMPLOYMENT_RATE_2017    147\n",
      "UNEMPLOYMENT_RATE_2003    148\n",
      "UNEMPLOYMENT_RATE_2008    150\n",
      "UNEMPLOYMENT_RATE_2016    152\n",
      "UNEMPLOYMENT_RATE_2015    154\n",
      "UNEMPLOYMENT_RATE_2002    156\n",
      "UNEMPLOYMENT_RATE_2014    180\n",
      "UNEMPLOYMENT_RATE_2012    191\n",
      "UNEMPLOYMENT_RATE_2009    197\n",
      "UNEMPLOYMENT_RATE_2013    198\n",
      "UNEMPLOYMENT_RATE_2011    202\n",
      "UNEMPLOYMENT_RATE_2010    205\n",
      "dtype: int64\n",
      "\n",
      " ========================================================================================\n",
      "Nb of states found: 3112 / 3152\n",
      "Missing state(s): ['02901', '02902', '02903', '02904', '02905', '02906', '02907', '02908', '02909', '02910', '02911', '02912', '02913', '02914', '02915', '02916', '02917', '02918', '02919', '02920', '02921', '02922', '02923', '02924', '02925', '02926', '02927', '02928', '02929', '02930', '02931', '02932', '02933', '02934', '02935', '02936', '02937', '02938', '02939', '02940']\n",
      "========================================================================================\n",
      "\n",
      "\n",
      "\n",
      "There are features with NAN values :\n",
      "Number of features with NAN = 8\n",
      "Number of values with NAN = 56\n",
      "========================================================================================\n",
      "[Feature] <--- has empty values ---> [percentage of empty values]\n",
      "========================================================================================\n",
      "UNEMPLOYMENT_RATE_2006          <--->  0.22%\n",
      "UNEMPLOYMENT_RATE_2005          <--->  0.22%\n",
      "UNEMPLOYED_2006                 <--->  0.22%\n",
      "UNEMPLOYED_2005                 <--->  0.22%\n",
      "EMPLOYED_2005                   <--->  0.22%\n",
      "EMPLOYED_2006                   <--->  0.22%\n",
      "CIVILIAN_LABOR_FORCE_2006       <--->  0.22%\n",
      "CIVILIAN_LABOR_FORCE_2005       <--->  0.22%\n",
      "========================================================================================\n",
      "\n",
      "... Selecting features by variance and correlation\n",
      "Colonnes avec un std null: []\n",
      "\n",
      " There are correlation features :\n",
      "Number of features to keep = 4\n",
      "Number of features to drop = 68\n",
      "========================================================================================\n",
      "[Feature TO KEEP] <--- is correlated with ---> [Feature(s) TO DROP]\n",
      "========================================================================================\n",
      "UNEMPLOYMENT_RATE_2016          <--->  {'UNEMPLOYMENT_RATE_2019', 'UNEMPLOYMENT_RATE_2017', 'UNEMPLOYMENT_RATE_2018'}\n",
      "UNEMPLOYMENT_RATE_2006          <--->  {'UNEMPLOYMENT_RATE_2005'}\n",
      "UNEMPLOYMENT_RATE_2012          <--->  {'UNEMPLOYMENT_RATE_2010', 'UNEMPLOYMENT_RATE_2014', 'UNEMPLOYMENT_RATE_2015', 'UNEMPLOYMENT_RATE_2011', 'UNEMPLOYMENT_RATE_2013'}\n",
      "CIVILIAN_LABOR_FORCE_2019       <--->  {'EMPLOYED_2018', 'UNEMPLOYED_2018', 'UNEMPLOYED_2009', 'EMPLOYED_2001', 'CIVILIAN_LABOR_FORCE_2013', 'CIVILIAN_LABOR_FORCE_2010', 'CIVILIAN_LABOR_FORCE_2007', 'CIVILIAN_LABOR_FORCE_2011', 'EMPLOYED_2003', 'UNEMPLOYED_2002', 'UNEMPLOYED_2017', 'EMPLOYED_2013', 'EMPLOYED_2002', 'UNEMPLOYED_2006', 'EMPLOYED_2015', 'EMPLOYED_2009', 'CIVILIAN_LABOR_FORCE_2016', 'UNEMPLOYED_2014', 'CIVILIAN_LABOR_FORCE_2018', 'UNEMPLOYED_2013', 'EMPLOYED_2011', 'CIVILIAN_LABOR_FORCE_2000', 'UNEMPLOYED_2005', 'UNEMPLOYED_2000', 'EMPLOYED_2007', 'UNEMPLOYED_2007', 'CIVILIAN_LABOR_FORCE_2015', 'EMPLOYED_2008', 'UNEMPLOYED_2010', 'CIVILIAN_LABOR_FORCE_2017', 'CIVILIAN_LABOR_FORCE_2005', 'EMPLOYED_2005', 'UNEMPLOYED_2001', 'UNEMPLOYED_2011', 'CIVILIAN_LABOR_FORCE_2006', 'EMPLOYED_2017', 'CIVILIAN_LABOR_FORCE_2008', 'UNEMPLOYED_2015', 'CIVILIAN_LABOR_FORCE_2004', 'EMPLOYED_2010', 'UNEMPLOYED_2008', 'CIVILIAN_LABOR_FORCE_2014', 'UNEMPLOYED_2019', 'CIVILIAN_LABOR_FORCE_2001', 'EMPLOYED_2006', 'CIVILIAN_LABOR_FORCE_2009', 'UNEMPLOYED_2003', 'EMPLOYED_2000', 'EMPLOYED_2012', 'EMPLOYED_2004', 'CIVILIAN_LABOR_FORCE_2012', 'CIVILIAN_LABOR_FORCE_2003', 'UNEMPLOYED_2012', 'UNEMPLOYED_2016', 'UNEMPLOYED_2004', 'EMPLOYED_2014', 'EMPLOYED_2016', 'EMPLOYED_2019', 'CIVILIAN_LABOR_FORCE_2002'}\n",
      "========================================================================================\n",
      "\n",
      "df_x.shape = %s (3112, 14)\n",
      "Dropped cols after selecting by variance and correlation : ['UNEMPLOYMENT_RATE_2019', 'UNEMPLOYMENT_RATE_2018', 'UNEMPLOYMENT_RATE_2005', 'UNEMPLOYMENT_RATE_2017', 'UNEMPLOYMENT_RATE_2015', 'UNEMPLOYMENT_RATE_2014', 'UNEMPLOYMENT_RATE_2013', 'UNEMPLOYMENT_RATE_2011', 'UNEMPLOYMENT_RATE_2010', 'UNEMPLOYED_2019', 'UNEMPLOYED_2000', 'UNEMPLOYED_2018', 'UNEMPLOYED_2017', 'UNEMPLOYED_2001', 'UNEMPLOYED_2007', 'UNEMPLOYED_2006', 'UNEMPLOYED_2016', 'UNEMPLOYED_2005', 'UNEMPLOYED_2015', 'UNEMPLOYED_2004', 'UNEMPLOYED_2002', 'UNEMPLOYED_2003', 'UNEMPLOYED_2014', 'UNEMPLOYED_2008', 'UNEMPLOYED_2013', 'UNEMPLOYED_2012', 'UNEMPLOYED_2011', 'UNEMPLOYED_2010', 'UNEMPLOYED_2009', 'EMPLOYED_2005', 'EMPLOYED_2007', 'EMPLOYED_2019', 'EMPLOYED_2008', 'CIVILIAN_LABOR_FORCE_2016', 'EMPLOYED_2014', 'EMPLOYED_2016', 'EMPLOYED_2015', 'CIVILIAN_LABOR_FORCE_2015', 'EMPLOYED_2011', 'CIVILIAN_LABOR_FORCE_2001', 'EMPLOYED_2006', 'CIVILIAN_LABOR_FORCE_2006', 'CIVILIAN_LABOR_FORCE_2011', 'CIVILIAN_LABOR_FORCE_2005', 'EMPLOYED_2017', 'EMPLOYED_2001', 'EMPLOYED_2000', 'EMPLOYED_2003', 'EMPLOYED_2012', 'EMPLOYED_2013', 'EMPLOYED_2009', 'EMPLOYED_2010', 'CIVILIAN_LABOR_FORCE_2013', 'CIVILIAN_LABOR_FORCE_2004', 'EMPLOYED_2018', 'EMPLOYED_2004', 'CIVILIAN_LABOR_FORCE_2007', 'CIVILIAN_LABOR_FORCE_2018', 'EMPLOYED_2002', 'CIVILIAN_LABOR_FORCE_2000', 'CIVILIAN_LABOR_FORCE_2012', 'CIVILIAN_LABOR_FORCE_2014', 'CIVILIAN_LABOR_FORCE_2002', 'CIVILIAN_LABOR_FORCE_2008', 'CIVILIAN_LABOR_FORCE_2010', 'CIVILIAN_LABOR_FORCE_2017', 'CIVILIAN_LABOR_FORCE_2003', 'CIVILIAN_LABOR_FORCE_2009']\n"
     ]
    },
    {
     "name": "stderr",
     "output_type": "stream",
     "text": [
      "C:\\Users\\vnarv\\AppData\\Local\\Temp\\ipykernel_9564\\2911557929.py:181: DeprecationWarning:\n",
      "\n",
      "`np.float` is a deprecated alias for the builtin `float`. To silence this warning, use `float` by itself. Doing this will not modify any behavior and is safe. If you specifically wanted the numpy scalar type, use `np.float64` here.\n",
      "Deprecated in NumPy 1.20; for more details and guidance: https://numpy.org/devdocs/release/1.20.0-notes.html#deprecations\n",
      "\n"
     ]
    }
   ],
   "source": [
    "df_unemployment_prepro = preprocessing_x(df_unemployment.copy(deep=True))"
   ]
  },
  {
   "cell_type": "code",
   "execution_count": null,
   "metadata": {},
   "outputs": [],
   "source": [
    "# split into states and countys\n",
    "\n",
    "## States\n",
    "df_education_state = df_education[df_education[\"AREA_NAME\"].isin(state_list)]\n",
    "states_found = df_education_state[\"AREA_NAME\"].unique()\n",
    "print(f\"Nb of states found: {len(states_found)} / {len(state_list)}\")\n",
    "\n",
    "if len(states_found) != len(state_list):\n",
    "    state_n_found = [state for state in state_list if state not in states_found]\n",
    "    print(f\"Missing state: {state_n_found}\")\n",
    "\n",
    "# nan check : columns with NAN correspond to the urban code\n",
    "check_nan(df_education_state)\n",
    "# drop duplicates\n",
    "df_education_state = df_education_state.drop_duplicates([\"STATE\", \"AREA_NAME\"])\n",
    "\n",
    "# keep only not null columns\n",
    "df_education_state_n_nan = df_education_state.dropna(axis=1, how='all')\n",
    "display(df_education_state_n_nan.head())\n",
    "\n"
   ]
  },
  {
   "cell_type": "code",
   "execution_count": null,
   "metadata": {},
   "outputs": [],
   "source": [
    "len(county_n_found)"
   ]
  },
  {
   "cell_type": "code",
   "execution_count": null,
   "metadata": {},
   "outputs": [],
   "source": []
  },
  {
   "cell_type": "code",
   "execution_count": null,
   "metadata": {},
   "outputs": [],
   "source": []
  },
  {
   "cell_type": "code",
   "execution_count": null,
   "metadata": {},
   "outputs": [],
   "source": []
  }
 ],
 "metadata": {
  "kernelspec": {
   "display_name": "Python 3",
   "language": "python",
   "name": "python3"
  },
  "language_info": {
   "codemirror_mode": {
    "name": "ipython",
    "version": 3
   },
   "file_extension": ".py",
   "mimetype": "text/x-python",
   "name": "python",
   "nbconvert_exporter": "python",
   "pygments_lexer": "ipython3",
   "version": "3.9.12"
  },
  "vscode": {
   "interpreter": {
    "hash": "3fa046f995eb80ac40c0869a1f9df46519f4ada8b8c395ef25dd1aa1a1a2fc63"
   }
  }
 },
 "nbformat": 4,
 "nbformat_minor": 2
}
