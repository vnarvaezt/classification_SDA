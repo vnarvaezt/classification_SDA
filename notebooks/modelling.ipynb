{
 "cells": [
  {
   "cell_type": "code",
   "execution_count": 1,
   "id": "41061c9f",
   "metadata": {},
   "outputs": [],
   "source": [
    "# folder path\n",
    "import os\n",
    "dir_path = \"C://Users//vnarv//PycharmProjects//scoring_SDA/data/\"\n",
    "os.chdir(\"C://Users//vnarv//PycharmProjects//scoring_SDA/\")"
   ]
  },
  {
   "cell_type": "code",
   "execution_count": 2,
   "id": "df1a151c",
   "metadata": {},
   "outputs": [],
   "source": [
    "import pandas as pd\n",
    "from sklearn.linear_model import LogisticRegression\n",
    "from sklearn.metrics import (\n",
    "    accuracy_score,\n",
    "    f1_score,\n",
    "    recall_score,\n",
    "    precision_score\n",
    ")\n",
    "from sklearn.metrics import confusion_matrix\n",
    "\n",
    "from sklearn.model_selection import train_test_split\n",
    "\n",
    "from conf.config import data_inputs_paths as data_inputs\n",
    "\n",
    "from src.preprocessing.preprocessing_x import PreprocessData\n",
    "from src.preprocessing.transform_data import transform_data\n",
    "\n",
    "\n",
    "##################### base line model ###########\n",
    "from sklearn.utils.class_weight import compute_class_weight\n",
    "import numpy as np\n",
    "from conf.config import model_config\n",
    "from numpy import mean\n",
    "from numpy import std\n",
    "from sklearn.model_selection import cross_val_score\n",
    "from sklearn.model_selection import RepeatedStratifiedKFold\n",
    "from sklearn.feature_selection import RFE\n",
    "from sklearn.linear_model import LogisticRegression\n",
    "from sklearn.linear_model import Perceptron\n",
    "from sklearn.tree import DecisionTreeClassifier\n",
    "from sklearn.ensemble import RandomForestClassifier, BaggingClassifier\n",
    "from sklearn.ensemble import GradientBoostingClassifier\n",
    "from sklearn.model_selection import GridSearchCV\n",
    "# Package xgboost\n",
    "from xgboost import XGBClassifier\n",
    "from sklearn.pipeline import Pipeline\n",
    "from matplotlib import pyplot\n",
    "import time\n",
    "\n",
    "from sklearn.feature_selection import VarianceThreshold, RFECV, SelectKBest, chi2, mutual_info_classif\n",
    "# Package pour représentation graphique\n",
    "import matplotlib.pyplot as plt\n",
    "import seaborn as sns\n",
    "import plotly.express as px\n",
    "import os\n",
    "import plotly.figure_factory as ff\n",
    "import plotly.graph_objects as go"
   ]
  },
  {
   "cell_type": "code",
   "execution_count": 9,
   "id": "8b59d57d",
   "metadata": {},
   "outputs": [
    {
     "name": "stdout",
     "output_type": "stream",
     "text": [
      "\n",
      "\n",
      " Repartition de la target:\n",
      "0    0.82724\n",
      "1    0.17276\n",
      "Name: TARGET, dtype: float64\n",
      "(2489, 154)\n",
      "(623, 154)\n",
      "(2489, 1)\n",
      "(623, 1)\n"
     ]
    }
   ],
   "source": [
    "path_x = data_inputs[\"path_prepro_x\"]\n",
    "path_y = data_inputs[\"path_prepro_y\"]\n",
    "df_x = pd.read_csv(path_x, sep=\";\")\n",
    "df_y = pd.read_csv(path_y, sep=\";\")\n",
    "# join x and y\n",
    "df_x_y = pd.merge(df_x,\n",
    "                  df_y,\n",
    "                  left_on=\"FIPS_CODE\",\n",
    "                  right_on=\"COUNTY_FIPS\",\n",
    "                  how=\"inner\")\n",
    "index_cols = [\"STATE_NAME\",\n",
    "              \"AREA_NAME\"]\n",
    "df_x_y = df_x_y.set_index([\"STATE_NAME\", \"COUNTY_FIPS\"], drop=True)\n",
    "# FIXME : county code is repeated after join\n",
    "df_x_y = df_x_y.drop(\"FIPS_CODE\", axis=1)\n",
    "\n",
    "X_prepro = df_x_y.drop([\"TARGET\", \"AREA_NAME\"], axis=1)\n",
    "y_prepro = df_x_y[[\"TARGET\"]]\n",
    "# split train, test\n",
    "X_train, X_test, y_train, y_test = train_test_split(\n",
    "    X_prepro,\n",
    "    y_prepro,\n",
    "    test_size=0.2,\n",
    "    random_state=42,\n",
    "    stratify=y_prepro[\"TARGET\"]  # FIXME: stratify par state?\n",
    ")\n",
    "print(\"\\n\\n Repartition de la target:\")\n",
    "print(y_train.TARGET.value_counts(normalize=True))\n",
    "\n",
    "for i in [X_train, X_test, y_train, y_test]:\n",
    "    print(i.shape)"
   ]
  },
  {
   "cell_type": "code",
   "execution_count": null,
   "id": "b37aeb75",
   "metadata": {},
   "outputs": [],
   "source": []
  },
  {
   "cell_type": "code",
   "execution_count": 47,
   "id": "bf871501",
   "metadata": {},
   "outputs": [
    {
     "data": {
      "text/plain": [
       "{0: 0.6044196211753279, 1: 2.894186046511628}"
      ]
     },
     "execution_count": 47,
     "metadata": {},
     "output_type": "execute_result"
    }
   ],
   "source": [
    "# define random state\n",
    "seed = 123\n",
    "\n",
    "# define class weights\n",
    "class_weight = model_config[\"class_weight\"]\n",
    "cw = compute_class_weight(\n",
    "    class_weight,\n",
    "    classes=np.unique(y_train[\"TARGET\"]),\n",
    "    y=y_train[\"TARGET\"],\n",
    ")\n",
    "cw_dict = dict(enumerate(cw))\n",
    "cw_dict"
   ]
  },
  {
   "cell_type": "markdown",
   "id": "b57554fd",
   "metadata": {},
   "source": [
    "# Exploring different base algorithms with RFE"
   ]
  },
  {
   "cell_type": "code",
   "execution_count": 48,
   "id": "131768e2",
   "metadata": {},
   "outputs": [
    {
     "ename": "KeyboardInterrupt",
     "evalue": "",
     "output_type": "error",
     "traceback": [
      "\u001b[1;31m---------------------------------------------------------------------------\u001b[0m",
      "\u001b[1;31mKeyboardInterrupt\u001b[0m                         Traceback (most recent call last)",
      "Input \u001b[1;32mIn [48]\u001b[0m, in \u001b[0;36m<cell line: 36>\u001b[1;34m()\u001b[0m\n\u001b[0;32m     35\u001b[0m start \u001b[38;5;241m=\u001b[39m time\u001b[38;5;241m.\u001b[39mtime()\n\u001b[0;32m     36\u001b[0m \u001b[38;5;28;01mfor\u001b[39;00m name, model \u001b[38;5;129;01min\u001b[39;00m models\u001b[38;5;241m.\u001b[39mitems():\n\u001b[1;32m---> 37\u001b[0m     scores \u001b[38;5;241m=\u001b[39m \u001b[43mevaluate_model\u001b[49m\u001b[43m(\u001b[49m\u001b[43mmodel\u001b[49m\u001b[43m,\u001b[49m\u001b[43m \u001b[49m\u001b[43mX_train\u001b[49m\u001b[43m,\u001b[49m\u001b[43m \u001b[49m\u001b[43my_train\u001b[49m\u001b[43m[\u001b[49m\u001b[38;5;124;43m\"\u001b[39;49m\u001b[38;5;124;43mTARGET\u001b[39;49m\u001b[38;5;124;43m\"\u001b[39;49m\u001b[43m]\u001b[49m\u001b[43m)\u001b[49m\n\u001b[0;32m     38\u001b[0m     results\u001b[38;5;241m.\u001b[39mappend(scores)\n\u001b[0;32m     39\u001b[0m     names\u001b[38;5;241m.\u001b[39mappend(name)\n",
      "Input \u001b[1;32mIn [48]\u001b[0m, in \u001b[0;36mevaluate_model\u001b[1;34m(model, X, y)\u001b[0m\n\u001b[0;32m     25\u001b[0m \u001b[38;5;28;01mdef\u001b[39;00m \u001b[38;5;21mevaluate_model\u001b[39m(model, X, y):\n\u001b[0;32m     26\u001b[0m     cv \u001b[38;5;241m=\u001b[39m RepeatedStratifiedKFold(n_splits\u001b[38;5;241m=\u001b[39m\u001b[38;5;241m10\u001b[39m, n_repeats\u001b[38;5;241m=\u001b[39m\u001b[38;5;241m3\u001b[39m, random_state\u001b[38;5;241m=\u001b[39mseed)\n\u001b[1;32m---> 27\u001b[0m     scores \u001b[38;5;241m=\u001b[39m \u001b[43mcross_val_score\u001b[49m\u001b[43m(\u001b[49m\u001b[43mmodel\u001b[49m\u001b[43m,\u001b[49m\u001b[43m \u001b[49m\u001b[43mX\u001b[49m\u001b[43m,\u001b[49m\u001b[43m \u001b[49m\u001b[43my\u001b[49m\u001b[43m,\u001b[49m\u001b[43m \u001b[49m\u001b[43mscoring\u001b[49m\u001b[38;5;241;43m=\u001b[39;49m\u001b[38;5;124;43m'\u001b[39;49m\u001b[38;5;124;43mf1_macro\u001b[39;49m\u001b[38;5;124;43m'\u001b[39;49m\u001b[43m,\u001b[49m\u001b[43m \u001b[49m\u001b[43mcv\u001b[49m\u001b[38;5;241;43m=\u001b[39;49m\u001b[43mcv\u001b[49m\u001b[43m,\u001b[49m\u001b[43m \u001b[49m\u001b[43mn_jobs\u001b[49m\u001b[38;5;241;43m=\u001b[39;49m\u001b[38;5;241;43m-\u001b[39;49m\u001b[38;5;241;43m1\u001b[39;49m\u001b[43m)\u001b[49m\n\u001b[0;32m     28\u001b[0m     \u001b[38;5;28;01mreturn\u001b[39;00m scores\n",
      "File \u001b[1;32m~\\anaconda3\\lib\\site-packages\\sklearn\\model_selection\\_validation.py:509\u001b[0m, in \u001b[0;36mcross_val_score\u001b[1;34m(estimator, X, y, groups, scoring, cv, n_jobs, verbose, fit_params, pre_dispatch, error_score)\u001b[0m\n\u001b[0;32m    506\u001b[0m \u001b[38;5;66;03m# To ensure multimetric format is not supported\u001b[39;00m\n\u001b[0;32m    507\u001b[0m scorer \u001b[38;5;241m=\u001b[39m check_scoring(estimator, scoring\u001b[38;5;241m=\u001b[39mscoring)\n\u001b[1;32m--> 509\u001b[0m cv_results \u001b[38;5;241m=\u001b[39m \u001b[43mcross_validate\u001b[49m\u001b[43m(\u001b[49m\n\u001b[0;32m    510\u001b[0m \u001b[43m    \u001b[49m\u001b[43mestimator\u001b[49m\u001b[38;5;241;43m=\u001b[39;49m\u001b[43mestimator\u001b[49m\u001b[43m,\u001b[49m\n\u001b[0;32m    511\u001b[0m \u001b[43m    \u001b[49m\u001b[43mX\u001b[49m\u001b[38;5;241;43m=\u001b[39;49m\u001b[43mX\u001b[49m\u001b[43m,\u001b[49m\n\u001b[0;32m    512\u001b[0m \u001b[43m    \u001b[49m\u001b[43my\u001b[49m\u001b[38;5;241;43m=\u001b[39;49m\u001b[43my\u001b[49m\u001b[43m,\u001b[49m\n\u001b[0;32m    513\u001b[0m \u001b[43m    \u001b[49m\u001b[43mgroups\u001b[49m\u001b[38;5;241;43m=\u001b[39;49m\u001b[43mgroups\u001b[49m\u001b[43m,\u001b[49m\n\u001b[0;32m    514\u001b[0m \u001b[43m    \u001b[49m\u001b[43mscoring\u001b[49m\u001b[38;5;241;43m=\u001b[39;49m\u001b[43m{\u001b[49m\u001b[38;5;124;43m\"\u001b[39;49m\u001b[38;5;124;43mscore\u001b[39;49m\u001b[38;5;124;43m\"\u001b[39;49m\u001b[43m:\u001b[49m\u001b[43m \u001b[49m\u001b[43mscorer\u001b[49m\u001b[43m}\u001b[49m\u001b[43m,\u001b[49m\n\u001b[0;32m    515\u001b[0m \u001b[43m    \u001b[49m\u001b[43mcv\u001b[49m\u001b[38;5;241;43m=\u001b[39;49m\u001b[43mcv\u001b[49m\u001b[43m,\u001b[49m\n\u001b[0;32m    516\u001b[0m \u001b[43m    \u001b[49m\u001b[43mn_jobs\u001b[49m\u001b[38;5;241;43m=\u001b[39;49m\u001b[43mn_jobs\u001b[49m\u001b[43m,\u001b[49m\n\u001b[0;32m    517\u001b[0m \u001b[43m    \u001b[49m\u001b[43mverbose\u001b[49m\u001b[38;5;241;43m=\u001b[39;49m\u001b[43mverbose\u001b[49m\u001b[43m,\u001b[49m\n\u001b[0;32m    518\u001b[0m \u001b[43m    \u001b[49m\u001b[43mfit_params\u001b[49m\u001b[38;5;241;43m=\u001b[39;49m\u001b[43mfit_params\u001b[49m\u001b[43m,\u001b[49m\n\u001b[0;32m    519\u001b[0m \u001b[43m    \u001b[49m\u001b[43mpre_dispatch\u001b[49m\u001b[38;5;241;43m=\u001b[39;49m\u001b[43mpre_dispatch\u001b[49m\u001b[43m,\u001b[49m\n\u001b[0;32m    520\u001b[0m \u001b[43m    \u001b[49m\u001b[43merror_score\u001b[49m\u001b[38;5;241;43m=\u001b[39;49m\u001b[43merror_score\u001b[49m\u001b[43m,\u001b[49m\n\u001b[0;32m    521\u001b[0m \u001b[43m\u001b[49m\u001b[43m)\u001b[49m\n\u001b[0;32m    522\u001b[0m \u001b[38;5;28;01mreturn\u001b[39;00m cv_results[\u001b[38;5;124m\"\u001b[39m\u001b[38;5;124mtest_score\u001b[39m\u001b[38;5;124m\"\u001b[39m]\n",
      "File \u001b[1;32m~\\anaconda3\\lib\\site-packages\\sklearn\\model_selection\\_validation.py:267\u001b[0m, in \u001b[0;36mcross_validate\u001b[1;34m(estimator, X, y, groups, scoring, cv, n_jobs, verbose, fit_params, pre_dispatch, return_train_score, return_estimator, error_score)\u001b[0m\n\u001b[0;32m    264\u001b[0m \u001b[38;5;66;03m# We clone the estimator to make sure that all the folds are\u001b[39;00m\n\u001b[0;32m    265\u001b[0m \u001b[38;5;66;03m# independent, and that it is pickle-able.\u001b[39;00m\n\u001b[0;32m    266\u001b[0m parallel \u001b[38;5;241m=\u001b[39m Parallel(n_jobs\u001b[38;5;241m=\u001b[39mn_jobs, verbose\u001b[38;5;241m=\u001b[39mverbose, pre_dispatch\u001b[38;5;241m=\u001b[39mpre_dispatch)\n\u001b[1;32m--> 267\u001b[0m results \u001b[38;5;241m=\u001b[39m \u001b[43mparallel\u001b[49m\u001b[43m(\u001b[49m\n\u001b[0;32m    268\u001b[0m \u001b[43m    \u001b[49m\u001b[43mdelayed\u001b[49m\u001b[43m(\u001b[49m\u001b[43m_fit_and_score\u001b[49m\u001b[43m)\u001b[49m\u001b[43m(\u001b[49m\n\u001b[0;32m    269\u001b[0m \u001b[43m        \u001b[49m\u001b[43mclone\u001b[49m\u001b[43m(\u001b[49m\u001b[43mestimator\u001b[49m\u001b[43m)\u001b[49m\u001b[43m,\u001b[49m\n\u001b[0;32m    270\u001b[0m \u001b[43m        \u001b[49m\u001b[43mX\u001b[49m\u001b[43m,\u001b[49m\n\u001b[0;32m    271\u001b[0m \u001b[43m        \u001b[49m\u001b[43my\u001b[49m\u001b[43m,\u001b[49m\n\u001b[0;32m    272\u001b[0m \u001b[43m        \u001b[49m\u001b[43mscorers\u001b[49m\u001b[43m,\u001b[49m\n\u001b[0;32m    273\u001b[0m \u001b[43m        \u001b[49m\u001b[43mtrain\u001b[49m\u001b[43m,\u001b[49m\n\u001b[0;32m    274\u001b[0m \u001b[43m        \u001b[49m\u001b[43mtest\u001b[49m\u001b[43m,\u001b[49m\n\u001b[0;32m    275\u001b[0m \u001b[43m        \u001b[49m\u001b[43mverbose\u001b[49m\u001b[43m,\u001b[49m\n\u001b[0;32m    276\u001b[0m \u001b[43m        \u001b[49m\u001b[38;5;28;43;01mNone\u001b[39;49;00m\u001b[43m,\u001b[49m\n\u001b[0;32m    277\u001b[0m \u001b[43m        \u001b[49m\u001b[43mfit_params\u001b[49m\u001b[43m,\u001b[49m\n\u001b[0;32m    278\u001b[0m \u001b[43m        \u001b[49m\u001b[43mreturn_train_score\u001b[49m\u001b[38;5;241;43m=\u001b[39;49m\u001b[43mreturn_train_score\u001b[49m\u001b[43m,\u001b[49m\n\u001b[0;32m    279\u001b[0m \u001b[43m        \u001b[49m\u001b[43mreturn_times\u001b[49m\u001b[38;5;241;43m=\u001b[39;49m\u001b[38;5;28;43;01mTrue\u001b[39;49;00m\u001b[43m,\u001b[49m\n\u001b[0;32m    280\u001b[0m \u001b[43m        \u001b[49m\u001b[43mreturn_estimator\u001b[49m\u001b[38;5;241;43m=\u001b[39;49m\u001b[43mreturn_estimator\u001b[49m\u001b[43m,\u001b[49m\n\u001b[0;32m    281\u001b[0m \u001b[43m        \u001b[49m\u001b[43merror_score\u001b[49m\u001b[38;5;241;43m=\u001b[39;49m\u001b[43merror_score\u001b[49m\u001b[43m,\u001b[49m\n\u001b[0;32m    282\u001b[0m \u001b[43m    \u001b[49m\u001b[43m)\u001b[49m\n\u001b[0;32m    283\u001b[0m \u001b[43m    \u001b[49m\u001b[38;5;28;43;01mfor\u001b[39;49;00m\u001b[43m \u001b[49m\u001b[43mtrain\u001b[49m\u001b[43m,\u001b[49m\u001b[43m \u001b[49m\u001b[43mtest\u001b[49m\u001b[43m \u001b[49m\u001b[38;5;129;43;01min\u001b[39;49;00m\u001b[43m \u001b[49m\u001b[43mcv\u001b[49m\u001b[38;5;241;43m.\u001b[39;49m\u001b[43msplit\u001b[49m\u001b[43m(\u001b[49m\u001b[43mX\u001b[49m\u001b[43m,\u001b[49m\u001b[43m \u001b[49m\u001b[43my\u001b[49m\u001b[43m,\u001b[49m\u001b[43m \u001b[49m\u001b[43mgroups\u001b[49m\u001b[43m)\u001b[49m\n\u001b[0;32m    284\u001b[0m \u001b[43m\u001b[49m\u001b[43m)\u001b[49m\n\u001b[0;32m    286\u001b[0m _warn_about_fit_failures(results, error_score)\n\u001b[0;32m    288\u001b[0m \u001b[38;5;66;03m# For callabe scoring, the return type is only know after calling. If the\u001b[39;00m\n\u001b[0;32m    289\u001b[0m \u001b[38;5;66;03m# return type is a dictionary, the error scores can now be inserted with\u001b[39;00m\n\u001b[0;32m    290\u001b[0m \u001b[38;5;66;03m# the correct key.\u001b[39;00m\n",
      "File \u001b[1;32m~\\anaconda3\\lib\\site-packages\\joblib\\parallel.py:1056\u001b[0m, in \u001b[0;36mParallel.__call__\u001b[1;34m(self, iterable)\u001b[0m\n\u001b[0;32m   1053\u001b[0m     \u001b[38;5;28mself\u001b[39m\u001b[38;5;241m.\u001b[39m_iterating \u001b[38;5;241m=\u001b[39m \u001b[38;5;28;01mFalse\u001b[39;00m\n\u001b[0;32m   1055\u001b[0m \u001b[38;5;28;01mwith\u001b[39;00m \u001b[38;5;28mself\u001b[39m\u001b[38;5;241m.\u001b[39m_backend\u001b[38;5;241m.\u001b[39mretrieval_context():\n\u001b[1;32m-> 1056\u001b[0m     \u001b[38;5;28;43mself\u001b[39;49m\u001b[38;5;241;43m.\u001b[39;49m\u001b[43mretrieve\u001b[49m\u001b[43m(\u001b[49m\u001b[43m)\u001b[49m\n\u001b[0;32m   1057\u001b[0m \u001b[38;5;66;03m# Make sure that we get a last message telling us we are done\u001b[39;00m\n\u001b[0;32m   1058\u001b[0m elapsed_time \u001b[38;5;241m=\u001b[39m time\u001b[38;5;241m.\u001b[39mtime() \u001b[38;5;241m-\u001b[39m \u001b[38;5;28mself\u001b[39m\u001b[38;5;241m.\u001b[39m_start_time\n",
      "File \u001b[1;32m~\\anaconda3\\lib\\site-packages\\joblib\\parallel.py:935\u001b[0m, in \u001b[0;36mParallel.retrieve\u001b[1;34m(self)\u001b[0m\n\u001b[0;32m    933\u001b[0m \u001b[38;5;28;01mtry\u001b[39;00m:\n\u001b[0;32m    934\u001b[0m     \u001b[38;5;28;01mif\u001b[39;00m \u001b[38;5;28mgetattr\u001b[39m(\u001b[38;5;28mself\u001b[39m\u001b[38;5;241m.\u001b[39m_backend, \u001b[38;5;124m'\u001b[39m\u001b[38;5;124msupports_timeout\u001b[39m\u001b[38;5;124m'\u001b[39m, \u001b[38;5;28;01mFalse\u001b[39;00m):\n\u001b[1;32m--> 935\u001b[0m         \u001b[38;5;28mself\u001b[39m\u001b[38;5;241m.\u001b[39m_output\u001b[38;5;241m.\u001b[39mextend(\u001b[43mjob\u001b[49m\u001b[38;5;241;43m.\u001b[39;49m\u001b[43mget\u001b[49m\u001b[43m(\u001b[49m\u001b[43mtimeout\u001b[49m\u001b[38;5;241;43m=\u001b[39;49m\u001b[38;5;28;43mself\u001b[39;49m\u001b[38;5;241;43m.\u001b[39;49m\u001b[43mtimeout\u001b[49m\u001b[43m)\u001b[49m)\n\u001b[0;32m    936\u001b[0m     \u001b[38;5;28;01melse\u001b[39;00m:\n\u001b[0;32m    937\u001b[0m         \u001b[38;5;28mself\u001b[39m\u001b[38;5;241m.\u001b[39m_output\u001b[38;5;241m.\u001b[39mextend(job\u001b[38;5;241m.\u001b[39mget())\n",
      "File \u001b[1;32m~\\anaconda3\\lib\\site-packages\\joblib\\_parallel_backends.py:542\u001b[0m, in \u001b[0;36mLokyBackend.wrap_future_result\u001b[1;34m(future, timeout)\u001b[0m\n\u001b[0;32m    539\u001b[0m \u001b[38;5;124;03m\"\"\"Wrapper for Future.result to implement the same behaviour as\u001b[39;00m\n\u001b[0;32m    540\u001b[0m \u001b[38;5;124;03mAsyncResults.get from multiprocessing.\"\"\"\u001b[39;00m\n\u001b[0;32m    541\u001b[0m \u001b[38;5;28;01mtry\u001b[39;00m:\n\u001b[1;32m--> 542\u001b[0m     \u001b[38;5;28;01mreturn\u001b[39;00m \u001b[43mfuture\u001b[49m\u001b[38;5;241;43m.\u001b[39;49m\u001b[43mresult\u001b[49m\u001b[43m(\u001b[49m\u001b[43mtimeout\u001b[49m\u001b[38;5;241;43m=\u001b[39;49m\u001b[43mtimeout\u001b[49m\u001b[43m)\u001b[49m\n\u001b[0;32m    543\u001b[0m \u001b[38;5;28;01mexcept\u001b[39;00m CfTimeoutError \u001b[38;5;28;01mas\u001b[39;00m e:\n\u001b[0;32m    544\u001b[0m     \u001b[38;5;28;01mraise\u001b[39;00m \u001b[38;5;167;01mTimeoutError\u001b[39;00m \u001b[38;5;28;01mfrom\u001b[39;00m \u001b[38;5;21;01me\u001b[39;00m\n",
      "File \u001b[1;32m~\\anaconda3\\lib\\concurrent\\futures\\_base.py:441\u001b[0m, in \u001b[0;36mFuture.result\u001b[1;34m(self, timeout)\u001b[0m\n\u001b[0;32m    438\u001b[0m \u001b[38;5;28;01melif\u001b[39;00m \u001b[38;5;28mself\u001b[39m\u001b[38;5;241m.\u001b[39m_state \u001b[38;5;241m==\u001b[39m FINISHED:\n\u001b[0;32m    439\u001b[0m     \u001b[38;5;28;01mreturn\u001b[39;00m \u001b[38;5;28mself\u001b[39m\u001b[38;5;241m.\u001b[39m__get_result()\n\u001b[1;32m--> 441\u001b[0m \u001b[38;5;28;43mself\u001b[39;49m\u001b[38;5;241;43m.\u001b[39;49m\u001b[43m_condition\u001b[49m\u001b[38;5;241;43m.\u001b[39;49m\u001b[43mwait\u001b[49m\u001b[43m(\u001b[49m\u001b[43mtimeout\u001b[49m\u001b[43m)\u001b[49m\n\u001b[0;32m    443\u001b[0m \u001b[38;5;28;01mif\u001b[39;00m \u001b[38;5;28mself\u001b[39m\u001b[38;5;241m.\u001b[39m_state \u001b[38;5;129;01min\u001b[39;00m [CANCELLED, CANCELLED_AND_NOTIFIED]:\n\u001b[0;32m    444\u001b[0m     \u001b[38;5;28;01mraise\u001b[39;00m CancelledError()\n",
      "File \u001b[1;32m~\\anaconda3\\lib\\threading.py:312\u001b[0m, in \u001b[0;36mCondition.wait\u001b[1;34m(self, timeout)\u001b[0m\n\u001b[0;32m    310\u001b[0m \u001b[38;5;28;01mtry\u001b[39;00m:    \u001b[38;5;66;03m# restore state no matter what (e.g., KeyboardInterrupt)\u001b[39;00m\n\u001b[0;32m    311\u001b[0m     \u001b[38;5;28;01mif\u001b[39;00m timeout \u001b[38;5;129;01mis\u001b[39;00m \u001b[38;5;28;01mNone\u001b[39;00m:\n\u001b[1;32m--> 312\u001b[0m         \u001b[43mwaiter\u001b[49m\u001b[38;5;241;43m.\u001b[39;49m\u001b[43macquire\u001b[49m\u001b[43m(\u001b[49m\u001b[43m)\u001b[49m\n\u001b[0;32m    313\u001b[0m         gotit \u001b[38;5;241m=\u001b[39m \u001b[38;5;28;01mTrue\u001b[39;00m\n\u001b[0;32m    314\u001b[0m     \u001b[38;5;28;01melse\u001b[39;00m:\n",
      "\u001b[1;31mKeyboardInterrupt\u001b[0m: "
     ]
    }
   ],
   "source": [
    "# option 1 : definir le nb de features et applique decision trees\n",
    "# get a list of models to evaluate\n",
    "def get_models(weights=cw_dict, n_features=50):\n",
    "    models = dict()\n",
    "    # lr\n",
    "    rfe = RFE(estimator=LogisticRegression(class_weight=weights), n_features_to_select=n_features)\n",
    "    model = RandomForestClassifier()\n",
    "    models['lr'] = Pipeline(steps=[('s', rfe), ('m', model)])\n",
    "    # cart\n",
    "    rfe = RFE(estimator=DecisionTreeClassifier(class_weight=weights), n_features_to_select=n_features)\n",
    "    model = RandomForestClassifier()\n",
    "    models['cart'] = Pipeline(steps=[('s', rfe), ('m', model)])\n",
    "    # rf\n",
    "    rfe = RFE(estimator=RandomForestClassifier(class_weight=weights), n_features_to_select=n_features)\n",
    "    model = RandomForestClassifier()\n",
    "    models['rf'] = Pipeline(steps=[('s', rfe), ('m', model)])\n",
    "    # gbm\n",
    "    rfe = RFE(estimator=GradientBoostingClassifier(), n_features_to_select=n_features)\n",
    "    model = RandomForestClassifier()\n",
    "    models['gbm'] = Pipeline(steps=[('s', rfe), ('m', model)])\n",
    "    return models\n",
    "\n",
    "\n",
    "# evaluate a given model using cross-validation\n",
    "def evaluate_model(model, X, y):\n",
    "    cv = RepeatedStratifiedKFold(n_splits=10, n_repeats=3, random_state=seed)\n",
    "    scores = cross_val_score(model, X, y, scoring='f1_macro', cv=cv, n_jobs=-1)\n",
    "    return scores\n",
    "\n",
    "\n",
    "# get the models to evaluate\n",
    "models = get_models()\n",
    "# evaluate the models and store results\n",
    "results, names = list(), list()\n",
    "start = time.time()\n",
    "for name, model in models.items():\n",
    "    scores = evaluate_model(model, X_train, y_train[\"TARGET\"])\n",
    "    results.append(scores)\n",
    "    names.append(name)\n",
    "    print('>%s %.3f (%.3f)' % (name, mean(scores), std(scores)))\n",
    "end = time.time()\n",
    "delta = (end - start) / 60\n",
    "print(f\"modelisation took {delta:.2} minutes\")\n",
    "\n",
    "# plot model performance for comparison\n",
    "pyplot.boxplot(results, labels=names, showmeans=True)\n",
    "pyplot.savefig(\"images/model_performance_RFE\")"
   ]
  },
  {
   "cell_type": "markdown",
   "id": "1eb5a771",
   "metadata": {},
   "source": [
    "# Exploring RFE with CV integrated for feature selection. Then model with different algorithms "
   ]
  },
  {
   "cell_type": "code",
   "execution_count": 15,
   "id": "7e198b68",
   "metadata": {},
   "outputs": [
    {
     "name": "stdout",
     "output_type": "stream",
     "text": [
      ">The selected features by RFE are : \n",
      " ['GQ_ESTIMATES_2011', 'PERCENT_OF_ADULTS_WITH_A_HIGH_SCHOOL_DIPLOMA_ONLY__1990', 'PERCENT_OF_ADULTS_WITH_A_HIGH_SCHOOL_DIPLOMA_ONLY__2000', 'PERCENT_OF_ADULTS_WITH_A_BACHELOR_S_DEGREE_OR_HIGHER__2000', 'PERCENT_OF_ADULTS_WITH_A_HIGH_SCHOOL_DIPLOMA_ONLY__2015_19', 'PCTPOVALL_2019', 'MED_HH_INCOME_PERCENT_OF_STATE_TOTAL_2019', 'UNEMPLOYMENT_RATE_2012', 'INTERNATIONAL_MIG_2014', 'DOMESTIC_MIG_2010', 'DOMESTIC_MIG_2011', 'CIVILIAN_LABOR_FORCE_2001', 'MEDHHINC_2019']\n",
      ">LogisticRegression 0.771 (train) 0.705 (test)\n",
      ">BaggingClassifier 0.810 (train) 0.677 (test)\n",
      ">RandomForestClassifier 0.771 (train) 0.680 (test)\n",
      ">GradientBoosting 0.806 (train) 0.720 (test)\n"
     ]
    },
    {
     "name": "stderr",
     "output_type": "stream",
     "text": [
      "C:\\Users\\vnarv\\anaconda3\\lib\\site-packages\\xgboost\\sklearn.py:1421: UserWarning:\n",
      "\n",
      "`use_label_encoder` is deprecated in 1.7.0.\n",
      "\n",
      "C:\\Users\\vnarv\\anaconda3\\lib\\site-packages\\xgboost\\sklearn.py:1421: UserWarning:\n",
      "\n",
      "`use_label_encoder` is deprecated in 1.7.0.\n",
      "\n",
      "C:\\Users\\vnarv\\anaconda3\\lib\\site-packages\\xgboost\\sklearn.py:1421: UserWarning:\n",
      "\n",
      "`use_label_encoder` is deprecated in 1.7.0.\n",
      "\n"
     ]
    },
    {
     "name": "stdout",
     "output_type": "stream",
     "text": [
      ">XGBClassifier 0.805 (train) 0.704 (test)\n"
     ]
    }
   ],
   "source": [
    "def compute_RFECV(X, y, estimator=RandomForestClassifier(class_weight=cw_dict)):\n",
    "    # Instanciation de la RFECV()\n",
    "    rfecv_selector = RFECV(estimator=estimator,\n",
    "                           min_features_to_select=10,\n",
    "                           scoring='f1_macro',\n",
    "                           n_jobs=-1,\n",
    "                           step=1,\n",
    "                           cv=5\n",
    "                           )\n",
    "\n",
    "    # Entraîner le modèle\n",
    "    rfecv_selector.fit(X, y)\n",
    "    mean_test_f1_score = rfecv_selector.cv_results_[\"mean_test_score\"]\n",
    "    n_features_selected = rfecv_selector.n_features_\n",
    "    min_features_to_select = rfecv_selector.min_features_to_select\n",
    "    n_features_in_rfecv = rfecv_selector.n_features_in_\n",
    "\n",
    "    fig = px.line(y=mean_test_f1_score,\n",
    "                  x=range(min_features_to_select, len(mean_test_f1_score) + min_features_to_select),\n",
    "                  labels={\n",
    "                      \"x\": \"Nombre de variables sélectionnées\",\n",
    "                      \"y\": \"Score moyen de cross-validaion\"\n",
    "                  },\n",
    "                  title=f\"Résultats RFECV avec {rfecv_selector.cv} k-fold\"\n",
    "                  )\n",
    "    fig.add_vline(x=n_features_selected, line_width=3, line_dash=\"dash\", line_color=\"#011C5D\")\n",
    "    fig.add_vrect(x0=30, x1=n_features_in_rfecv, line_width=0, fillcolor=\"#D38F00\", opacity=0.2)\n",
    "    if not os.path.exists(\"images\"):\n",
    "        os.mkdir(\"images\")\n",
    "    fig.write_image(\"images/RFE_random_forest.png\")\n",
    "\n",
    "    # Récupérer la liste des variables issues de RFECV et transformer là en liste\n",
    "    rfe_features = rfecv_selector.get_feature_names_out().tolist()\n",
    "    return rfe_features\n",
    "\n",
    "models = {\n",
    "    \"LogisticRegression\":\n",
    "        LogisticRegression(\n",
    "            max_iter=1000,\n",
    "            random_state=seed,\n",
    "            class_weight=cw_dict\n",
    "        ),\n",
    "    \"BaggingClassifier\":\n",
    "        BaggingClassifier(\n",
    "            n_estimators=300,\n",
    "            random_state=seed\n",
    "        ),\n",
    "    \"RandomForestClassifier\":\n",
    "        RandomForestClassifier(\n",
    "            n_estimators=300,\n",
    "            class_weight=cw_dict,\n",
    "            max_depth=3,\n",
    "            random_state=seed,\n",
    "        ),\n",
    "    \"GradientBoosting\":\n",
    "        GradientBoostingClassifier(\n",
    "            n_estimators=300,\n",
    "            max_depth=3,\n",
    "            random_state=seed\n",
    "        ),\n",
    "    \"XGBClassifier\":\n",
    "        XGBClassifier(\n",
    "            use_label_encoder=False,\n",
    "            n_estimators=80,\n",
    "            eval_metric='logloss',\n",
    "            random_state=seed,\n",
    "            learning_rate=0.1\n",
    "        )\n",
    "}\n",
    "\n",
    "\n",
    "def fit_model(X, y, estimator, **kwargs):\n",
    "    model = Pipeline(\n",
    "        steps=[\n",
    "            (\"estimator\", estimator)\n",
    "        ]\n",
    "    )\n",
    "\n",
    "    return model.fit(X, y, **kwargs)\n",
    "\n",
    "# evaluate a given model using cross-validation\n",
    "def evaluate_model(model, X, y):\n",
    "    cv = RepeatedStratifiedKFold(n_splits=10, n_repeats=3, random_state=seed)\n",
    "    scores = cross_val_score(model, X, y, scoring='f1_macro', cv=cv, n_jobs=-1)\n",
    "    return scores\n",
    "\n",
    "\n",
    "# fit random forest with RFE to select variables\n",
    "rfe_RF_features = compute_RFECV(X_train, y_train[\"TARGET\"])\n",
    "print('>The selected features by RFE are : \\n %s' % (rfe_RF_features))\n",
    "\n",
    "results_train, results_test, names = list(), list(), list()\n",
    "# Boucler sur chacun des modèles\n",
    "for name, model in models.items():\n",
    "    fit_m = fit_model(X_train[rfe_RF_features], y_train[\"TARGET\"], model)\n",
    "    scores_train = evaluate_model(fit_m, X_train[rfe_RF_features], y_train[\"TARGET\"])\n",
    "    y_pred_test = fit_m.predict(X_test[rfe_RF_features])\n",
    "    F1_test = f1_score(y_test[\"TARGET\"], y_pred_test)\n",
    "    results_train.append(scores_train)\n",
    "    results_test.append(F1_test)\n",
    "    names.append(name)\n",
    "    print('>%s %.3f (train) %.3f (test)' % (name, mean(scores_train), F1_test))\n",
    "\n"
   ]
  },
  {
   "cell_type": "code",
   "execution_count": null,
   "id": "cc09d1d7",
   "metadata": {},
   "outputs": [],
   "source": []
  },
  {
   "cell_type": "code",
   "execution_count": 5,
   "id": "9ed6f6dc",
   "metadata": {},
   "outputs": [
    {
     "data": {
      "text/plain": [
       "0.08100000000000007"
      ]
     },
     "execution_count": 5,
     "metadata": {},
     "output_type": "execute_result"
    }
   ],
   "source": [
    "0.775-0.694\n"
   ]
  },
  {
   "cell_type": "code",
   "execution_count": 6,
   "id": "c578e0d0",
   "metadata": {},
   "outputs": [
    {
     "data": {
      "text/plain": [
       "0.09600000000000009"
      ]
     },
     "execution_count": 6,
     "metadata": {},
     "output_type": "execute_result"
    }
   ],
   "source": [
    "0.809-0.713"
   ]
  },
  {
   "cell_type": "code",
   "execution_count": 7,
   "id": "66f0ed47",
   "metadata": {},
   "outputs": [
    {
     "data": {
      "text/plain": [
       "0.11199999999999999"
      ]
     },
     "execution_count": 7,
     "metadata": {},
     "output_type": "execute_result"
    }
   ],
   "source": [
    " 0.776-0.664"
   ]
  },
  {
   "cell_type": "code",
   "execution_count": 8,
   "id": "e5763efa",
   "metadata": {},
   "outputs": [
    {
     "data": {
      "text/plain": [
       "0.09800000000000009"
      ]
     },
     "execution_count": 8,
     "metadata": {},
     "output_type": "execute_result"
    }
   ],
   "source": [
    "0.806-0.708"
   ]
  },
  {
   "cell_type": "markdown",
   "id": "3a561680",
   "metadata": {},
   "source": [
    "#  Grid search "
   ]
  },
  {
   "cell_type": "code",
   "execution_count": 49,
   "id": "5154b4d3",
   "metadata": {},
   "outputs": [
    {
     "name": "stderr",
     "output_type": "stream",
     "text": [
      "C:\\Users\\vnarv\\anaconda3\\lib\\site-packages\\xgboost\\sklearn.py:1421: UserWarning:\n",
      "\n",
      "`use_label_encoder` is deprecated in 1.7.0.\n",
      "\n"
     ]
    }
   ],
   "source": [
    "params_grid = {\n",
    "    \"LogisticRegression\":\n",
    "        {'solver': ['liblinear', 'lbfgs'],\n",
    "         },\n",
    "    \"BaggingClassifier\":\n",
    "        {'n_estimators': [100, 200, 300],\n",
    "         'max_features': [1, 3],\n",
    "         'max_samples': [1, 5, 10]\n",
    "       } ,\n",
    "    \"RandomForestClassifier\":\n",
    "        {'n_estimators': [100, 200, 300],\n",
    "         'min_samples_split':[2, 5, 10],\n",
    "         'max_depth': [None, 3, 10, 20],\n",
    "         \n",
    "        },\n",
    "    \"XGBClassifier\":\n",
    "       {'gamma': [0, 0.1, 0.3],\n",
    "              'learning_rate': [0.01, 0.1, 0.3],\n",
    "              'max_depth': [3, 5, 6],\n",
    "              'n_estimators': [50, 80, 100, 120],\n",
    "              #'reg_alpha': [0, 0.1, 0.4, 1],\n",
    "              #'reg_lambda': [0, 0.1, 0.4, 1]\n",
    "             }\n",
    "}\n",
    "\n",
    "\n",
    "estimators = {\n",
    "    \"LogisticRegression\":\n",
    "        LogisticRegression(\n",
    "            max_iter=1000,\n",
    "            random_state=seed,\n",
    "            class_weight=cw_dict\n",
    "        ),\n",
    "    \"BaggingClassifier\":\n",
    "        BaggingClassifier(\n",
    "            random_state=seed\n",
    "        ),\n",
    "    \"RandomForestClassifier\":\n",
    "        RandomForestClassifier(\n",
    "            class_weight=cw_dict,\n",
    "            random_state=seed,\n",
    "        ),\n",
    "    \"XGBClassifier\":\n",
    "        XGBClassifier(\n",
    "            use_label_encoder=False,\n",
    "            eval_metric='logloss',\n",
    "            random_state=seed,\n",
    "        )\n",
    "}\n"
   ]
  },
  {
   "cell_type": "code",
   "execution_count": 15,
   "id": "00ba28bf",
   "metadata": {},
   "outputs": [
    {
     "name": "stdout",
     "output_type": "stream",
     "text": [
      "LogisticRegression dict_keys(['solver'])\n",
      "BaggingClassifier dict_keys(['n_estimators', 'max_features'])\n",
      "RandomForestClassifier dict_keys(['n_estimators', 'min_samples_split'])\n",
      "XGBClassifier dict_keys(['gamma', 'learning_rate', 'max_depth', 'n_estimators', 'reg_alpha', 'reg_lambda'])\n"
     ]
    }
   ],
   "source": [
    "for name, model in params_grid.items():\n",
    "    print(name, model.keys())\n",
    "    "
   ]
  },
  {
   "cell_type": "code",
   "execution_count": 52,
   "id": "7694fb3c",
   "metadata": {},
   "outputs": [
    {
     "name": "stdout",
     "output_type": "stream",
     "text": [
      "497.8\n"
     ]
    }
   ],
   "source": [
    "print(len(X_train)/5)"
   ]
  },
  {
   "cell_type": "code",
   "execution_count": null,
   "id": "eae8eabb",
   "metadata": {},
   "outputs": [],
   "source": [
    "for key in set(params_grid.keys()) & set(estimators.keys()):\n",
    "    print(key)\n",
    "    print(params_grid[key])\n",
    "    print(estimators[key])\n",
    "    print('>%s:' % (key))\n",
    "    gridSearch_best_model(params_grid[key],\n",
    "                          estimators[key],\n",
    "                          X_train[rfe_RF_features],\n",
    "                          y_train[\"TARGET\"],\n",
    "                          X_test[rfe_RF_features],\n",
    "                          y_test[\"TARGET\"]\n",
    "                         )\n",
    "\n"
   ]
  },
  {
   "cell_type": "code",
   "execution_count": 54,
   "id": "ad4bc9a1",
   "metadata": {},
   "outputs": [
    {
     "name": "stdout",
     "output_type": "stream",
     "text": [
      "LogisticRegression\n",
      "{'solver': ['liblinear', 'lbfgs']}\n",
      "LogisticRegression(class_weight={0: 0.6044196211753279, 1: 2.894186046511628},\n",
      "                   max_iter=1000, random_state=123)\n",
      ">LogisticRegression:\n",
      "Fitting 10 folds for each of 2 candidates, totalling 20 fits\n",
      "\n",
      " >>f1 score: 0.643 (train) 0.705 (test)\n",
      "\n",
      "\n",
      " >>auc: 0.744 (train) 0.807 (test)\n"
     ]
    },
    {
     "data": {
      "image/png": "[encoded data removed]",
      "text/plain": [
       "<Figure size 432x288 with 1 Axes>"
      ]
     },
     "metadata": {
      "needs_background": "light"
     },
     "output_type": "display_data"
    },
    {
     "name": "stdout",
     "output_type": "stream",
     "text": [
      "LogisticRegression(class_weight={0: 0.6044196211753279, 1: 2.894186046511628},\n",
      "                   max_iter=1000, random_state=123, solver='liblinear')\n",
      "RandomForestClassifier\n",
      "{'n_estimators': [100, 200, 300], 'min_samples_split': [2, 5, 10], 'max_depth': [None, 3, 10, 20]}\n",
      "RandomForestClassifier(class_weight={0: 0.6044196211753279,\n",
      "                                     1: 2.894186046511628},\n",
      "                       random_state=123)\n",
      ">RandomForestClassifier:\n",
      "Fitting 10 folds for each of 36 candidates, totalling 360 fits\n",
      "\n",
      " >>f1 score: 0.967 (train) 0.732 (test)\n",
      "\n",
      "\n",
      " >>auc: 0.995 (train) 0.771 (test)\n"
     ]
    },
    {
     "data": {
      "image/png": "[encoded data removed]",
      "text/plain": [
       "<Figure size 432x288 with 1 Axes>"
      ]
     },
     "metadata": {
      "needs_background": "light"
     },
     "output_type": "display_data"
    },
    {
     "name": "stdout",
     "output_type": "stream",
     "text": [
      "RandomForestClassifier(class_weight={0: 0.6044196211753279,\n",
      "                                     1: 2.894186046511628},\n",
      "                       min_samples_split=10, random_state=123)\n",
      "XGBClassifier\n",
      "{'gamma': [0, 0.1, 0.3], 'learning_rate': [0.01, 0.1, 0.3], 'max_depth': [3, 5, 6], 'n_estimators': [50, 80, 100, 120]}\n",
      "XGBClassifier(base_score=None, booster=None, callbacks=None,\n",
      "              colsample_bylevel=None, colsample_bynode=None,\n",
      "              colsample_bytree=None, early_stopping_rounds=None,\n",
      "              enable_categorical=False, eval_metric='logloss',\n",
      "              feature_types=None, gamma=None, gpu_id=None, grow_policy=None,\n",
      "              importance_type=None, interaction_constraints=None,\n",
      "              learning_rate=None, max_bin=None, max_cat_threshold=None,\n",
      "              max_cat_to_onehot=None, max_delta_step=None, max_depth=None,\n",
      "              max_leaves=None, min_child_weight=None, missing=nan,\n",
      "              monotone_constraints=None, n_estimators=100, n_jobs=None,\n",
      "              num_parallel_tree=None, predictor=None, random_state=123, ...)\n",
      ">XGBClassifier:\n",
      "Fitting 10 folds for each of 108 candidates, totalling 1080 fits\n"
     ]
    },
    {
     "name": "stderr",
     "output_type": "stream",
     "text": [
      "C:\\Users\\vnarv\\anaconda3\\lib\\site-packages\\xgboost\\sklearn.py:1421: UserWarning:\n",
      "\n",
      "`use_label_encoder` is deprecated in 1.7.0.\n",
      "\n",
      "C:\\Users\\vnarv\\anaconda3\\lib\\site-packages\\xgboost\\sklearn.py:1421: UserWarning:\n",
      "\n",
      "`use_label_encoder` is deprecated in 1.7.0.\n",
      "\n"
     ]
    },
    {
     "name": "stdout",
     "output_type": "stream",
     "text": [
      "\n",
      " >>f1 score: 1.000 (train) 0.704 (test)\n",
      "\n",
      "\n",
      " >>auc: 1.000 (train) 0.809 (test)\n"
     ]
    },
    {
     "data": {
      "image/png": "[encoded data removed]",
      "text/plain": [
       "<Figure size 432x288 with 1 Axes>"
      ]
     },
     "metadata": {
      "needs_background": "light"
     },
     "output_type": "display_data"
    },
    {
     "name": "stdout",
     "output_type": "stream",
     "text": [
      "XGBClassifier(base_score=0.5, booster='gbtree', callbacks=None,\n",
      "              colsample_bylevel=1, colsample_bynode=1, colsample_bytree=1,\n",
      "              early_stopping_rounds=None, enable_categorical=False,\n",
      "              eval_metric='logloss', feature_types=None, gamma=0, gpu_id=-1,\n",
      "              grow_policy='depthwise', importance_type=None,\n",
      "              interaction_constraints='', learning_rate=0.3, max_bin=256,\n",
      "              max_cat_threshold=64, max_cat_to_onehot=4, max_delta_step=0,\n",
      "              max_depth=5, max_leaves=0, min_child_weight=1, missing=nan,\n",
      "              monotone_constraints='()', n_estimators=100, n_jobs=0,\n",
      "              num_parallel_tree=1, predictor='auto', random_state=123, ...)\n",
      "BaggingClassifier\n",
      "{'n_estimators': [100, 200, 300], 'max_features': [1, 3], 'max_samples': [1, 5, 10]}\n",
      "BaggingClassifier(random_state=123)\n",
      ">BaggingClassifier:\n",
      "Fitting 10 folds for each of 18 candidates, totalling 180 fits\n",
      "\n",
      " >>f1 score: 0.388 (train) 0.479 (test)\n",
      "\n",
      "\n",
      " >>auc: 0.693 (train) 0.708 (test)\n"
     ]
    },
    {
     "data": {
      "image/png": "[encoded data removed]",
      "text/plain": [
       "<Figure size 432x288 with 1 Axes>"
      ]
     },
     "metadata": {
      "needs_background": "light"
     },
     "output_type": "display_data"
    },
    {
     "name": "stdout",
     "output_type": "stream",
     "text": [
      "BaggingClassifier(max_features=3, max_samples=10, n_estimators=100,\n",
      "                  random_state=123)\n"
     ]
    }
   ],
   "source": [
    "for key in set(params_grid.keys()) & set(estimators.keys()):\n",
    "    print(key)\n",
    "    print(params_grid[key])\n",
    "    print(estimators[key])\n",
    "    print('>%s:' % (key))\n",
    "    gridSearch_best_model(params_grid[key],\n",
    "                          estimators[key],\n",
    "                          X_train[rfe_RF_features],\n",
    "                          y_train[\"TARGET\"],\n",
    "                          X_test[rfe_RF_features],\n",
    "                          y_test[\"TARGET\"]\n",
    "                         )\n",
    "\n"
   ]
  },
  {
   "cell_type": "code",
   "execution_count": 53,
   "id": "c1f30ffc",
   "metadata": {},
   "outputs": [],
   "source": [
    "def gridSearch_best_model(grid, estimator_gs, X_train_class, y_train_class, X_test_class, y_test_class):\n",
    " \n",
    "    cv_grid_search = GridSearchCV(\n",
    "    estimator=estimator_gs,\n",
    "    param_grid=grid,\n",
    "    scoring='f1_macro',\n",
    "    n_jobs=-1,\n",
    "    cv=10,\n",
    "    verbose=2\n",
    "    )\n",
    "    \n",
    "    # Entrainement et évaluation du modèle\n",
    "    gs_fit = fit_model(X_train_class, y_train_class, cv_grid_search)\n",
    "    \n",
    "    calculate_precision_recall_curve(gs_fit, X_train_class, y_train_class, X_test_class, y_test_class)\n",
    "    \n",
    "    print(cv_grid_search.best_estimator_)\n",
    "\n",
    "    return cv_grid_search.best_estimator_\n",
    "    "
   ]
  },
  {
   "cell_type": "code",
   "execution_count": 43,
   "id": "fa5e7a82",
   "metadata": {},
   "outputs": [],
   "source": [
    "from sklearn.metrics import precision_recall_curve\n",
    "from sklearn.metrics import auc\n",
    "def calculate_precision_recall_curve(model, trainX, trainy, testX, testy):\n",
    "     \n",
    "    # metrics\n",
    "    md_precision_train, md_recall_train, md_f1_train, md_auc_train = _metrics(model, trainX, trainy)\n",
    "    md_precision_test, md_recall_test, md_f1_test, md_auc_test = _metrics(model, testX, testy)\n",
    "   \n",
    "    print('\\n >>f1 score: %.3f (train) %.3f (test)\\n' % (md_f1_train, md_f1_test))    \n",
    "    print('\\n >>auc: %.3f (train) %.3f (test)' % (md_auc_train, md_auc_test))\n",
    "    \n",
    "    # plot the precision-recall curves\n",
    "    no_skill = len(testy[testy==1]) / len(testy)\n",
    "    pyplot.plot([0, 1], [no_skill, no_skill], linestyle='--', label='No Skill')\n",
    "    pyplot.plot(md_recall_train, md_precision_train, marker='.', label='train')\n",
    "    pyplot.plot(md_recall_test, md_precision_test, marker='.', label='test')\n",
    "    # axis labels\n",
    "    pyplot.xlabel('Recall')\n",
    "    pyplot.ylabel('Precision')\n",
    "    # show the legend\n",
    "    pyplot.legend()\n",
    "    # show the plot\n",
    "    pyplot.show()"
   ]
  },
  {
   "cell_type": "code",
   "execution_count": 44,
   "id": "0003e2ad",
   "metadata": {},
   "outputs": [],
   "source": [
    "def _metrics(model, X, y):\n",
    "    # predict proba\n",
    "    md_proba = model.predict_proba(X)\n",
    "    #keep only positive outcome\n",
    "    md_proba = md_proba[:, 1]\n",
    "    #predict class value\n",
    "    y_hat = model.predict(X)\n",
    "    \n",
    "    #calculate precision and recall for each threshold\n",
    "    md_precision, md_recall, _ = precision_recall_curve(y, md_proba)\n",
    "    # calculate f1 and auc\n",
    "    md_f1, md_auc = f1_score(y, y_hat), auc(md_recall, md_precision)\n",
    "    \n",
    "    metrics = md_precision, md_recall, md_f1, md_auc\n",
    "    \n",
    "    return metrics"
   ]
  },
  {
   "cell_type": "code",
   "execution_count": null,
   "id": "38b2b652",
   "metadata": {},
   "outputs": [],
   "source": []
  },
  {
   "cell_type": "code",
   "execution_count": null,
   "id": "d78a4d1b",
   "metadata": {},
   "outputs": [],
   "source": []
  },
  {
   "cell_type": "code",
   "execution_count": null,
   "id": "22ec3871",
   "metadata": {},
   "outputs": [],
   "source": []
  }
 ],
 "metadata": {
  "kernelspec": {
   "display_name": "Python 3",
   "language": "python",
   "name": "python3"
  },
  "language_info": {
   "codemirror_mode": {
    "name": "ipython",
    "version": 3
   },
   "file_extension": ".py",
   "mimetype": "text/x-python",
   "name": "python",
   "nbconvert_exporter": "python",
   "pygments_lexer": "ipython3",
   "version": "3.9.12"
  }
 },
 "nbformat": 4,
 "nbformat_minor": 5
}
